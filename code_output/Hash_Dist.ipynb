{
 "cells": [
  {
   "cell_type": "code",
   "execution_count": 9,
   "id": "7f666252-c3a2-40bb-bfb2-13a1094ea1db",
   "metadata": {},
   "outputs": [],
   "source": [
    "import pandas as pd"
   ]
  },
  {
   "cell_type": "code",
   "execution_count": 10,
   "id": "2a9b524f-3e3a-4852-a982-cac2ed473ae7",
   "metadata": {},
   "outputs": [],
   "source": [
    "df = pd.read_csv(\"hash_test.csv\", header=None)"
   ]
  },
  {
   "cell_type": "code",
   "execution_count": 11,
   "id": "43cce4a5-49a7-44b9-8dd0-fc762bbaa48a",
   "metadata": {},
   "outputs": [
    {
     "data": {
      "text/plain": [
       "$1.01    41\n",
       "$1.02    32\n",
       "$1.00    26\n",
       "$1.05    18\n",
       "$0.98    17\n",
       "$0.50    14\n",
       "$1.10    14\n",
       "$1.50    13\n",
       "$0.90    12\n",
       "$0.99    10\n",
       "$0.95     3\n",
       "dtype: int64"
      ]
     },
     "execution_count": 11,
     "metadata": {},
     "output_type": "execute_result"
    }
   ],
   "source": [
    "df.value_counts()"
   ]
  },
  {
   "cell_type": "code",
   "execution_count": null,
   "id": "9c157d0b-fdd3-4994-8e37-2e4a0f85a60a",
   "metadata": {},
   "outputs": [],
   "source": []
  }
 ],
 "metadata": {
  "kernelspec": {
   "display_name": "Python 3",
   "language": "python",
   "name": "python3"
  },
  "language_info": {
   "codemirror_mode": {
    "name": "ipython",
    "version": 3
   },
   "file_extension": ".py",
   "mimetype": "text/x-python",
   "name": "python",
   "nbconvert_exporter": "python",
   "pygments_lexer": "ipython3",
   "version": "3.9.2"
  }
 },
 "nbformat": 4,
 "nbformat_minor": 5
}
