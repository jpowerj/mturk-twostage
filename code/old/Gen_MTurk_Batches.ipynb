{
 "cells": [
  {
   "cell_type": "code",
   "execution_count": 2,
   "id": "d17d9445-5ad1-4c4a-b571-186c474a26e3",
   "metadata": {},
   "outputs": [],
   "source": [
    "# Take the URL list and use it to construct a .csv input for the pilot"
   ]
  },
  {
   "cell_type": "code",
   "execution_count": 127,
   "id": "bd1d4d09-6b77-4d6d-a718-7a92dd2154cc",
   "metadata": {},
   "outputs": [],
   "source": [
    "import pandas as pd\n",
    "import numpy as np"
   ]
  },
  {
   "cell_type": "code",
   "execution_count": 128,
   "id": "f309d63d-28f3-45f4-98e6-145b7999afbe",
   "metadata": {},
   "outputs": [],
   "source": [
    "url_fpath = \"./pdb_urls.csv\""
   ]
  },
  {
   "cell_type": "code",
   "execution_count": 129,
   "id": "06598050-f07b-43a5-ad2a-71518d3313f3",
   "metadata": {},
   "outputs": [],
   "source": [
    "with open(url_fpath, 'r', encoding='utf-8') as f:\n",
    "    url_list = f.readlines()"
   ]
  },
  {
   "cell_type": "code",
   "execution_count": 130,
   "id": "958d4367-c26d-40b2-9869-9ccf2d9295c7",
   "metadata": {},
   "outputs": [],
   "source": [
    "url_list = [url.strip() for url in url_list]"
   ]
  },
  {
   "cell_type": "code",
   "execution_count": 131,
   "id": "150f25e5-08fb-4cc4-9d9b-7d6505e401e3",
   "metadata": {},
   "outputs": [
    {
     "data": {
      "text/plain": [
       "['https://cs.stanford.edu/~jjacobs3/pdb/DOC_0005958911.pdf',\n",
       " 'https://cs.stanford.edu/~jjacobs3/pdb/DOC_0005958912.pdf',\n",
       " 'https://cs.stanford.edu/~jjacobs3/pdb/DOC_0005958913.pdf',\n",
       " 'https://cs.stanford.edu/~jjacobs3/pdb/DOC_0005958914.pdf',\n",
       " 'https://cs.stanford.edu/~jjacobs3/pdb/DOC_0005958915.pdf']"
      ]
     },
     "execution_count": 131,
     "metadata": {},
     "output_type": "execute_result"
    }
   ],
   "source": [
    "url_list[:5]"
   ]
  },
  {
   "cell_type": "code",
   "execution_count": 132,
   "id": "1d9dc8b3-8b9c-47f4-9e16-fa695ca8c141",
   "metadata": {},
   "outputs": [],
   "source": [
    "# A batch consists of:\n",
    "# (a) 13 image urls (url1, url2, ...)\n",
    "# (b) a number of additional HITs, (num_tasks)\n",
    "# (c) the bonus amount (N additional tasks for bonus_amt dollars)"
   ]
  },
  {
   "cell_type": "code",
   "execution_count": 133,
   "id": "b8eb4edd-0f1d-4ac7-870d-e514ac3cf372",
   "metadata": {},
   "outputs": [
    {
     "data": {
      "text/plain": [
       "2484"
      ]
     },
     "execution_count": 133,
     "metadata": {},
     "output_type": "execute_result"
    }
   ],
   "source": [
    "len(url_list)"
   ]
  },
  {
   "cell_type": "code",
   "execution_count": 134,
   "id": "0acaa4f9-d9f5-4cd9-b9de-94017204d652",
   "metadata": {},
   "outputs": [
    {
     "data": {
      "text/plain": [
       "191.07692307692307"
      ]
     },
     "execution_count": 134,
     "metadata": {},
     "output_type": "execute_result"
    }
   ],
   "source": [
    "num_batches = len(url_list) / 13\n",
    "num_batches"
   ]
  },
  {
   "cell_type": "code",
   "execution_count": 135,
   "id": "24be1119-6149-433c-b7fe-cbe957ce4409",
   "metadata": {},
   "outputs": [],
   "source": [
    "split_indices = [n for n in range(13,2484,13)]"
   ]
  },
  {
   "cell_type": "code",
   "execution_count": 136,
   "id": "1f739de8-14c9-4cf7-a24f-11da8c874024",
   "metadata": {},
   "outputs": [
    {
     "data": {
      "text/plain": [
       "[13, 26, 39, 52, 65]"
      ]
     },
     "execution_count": 136,
     "metadata": {},
     "output_type": "execute_result"
    }
   ],
   "source": [
    "split_indices[:5]"
   ]
  },
  {
   "cell_type": "code",
   "execution_count": 137,
   "id": "e5d4e67d-0009-44e0-9771-3196f467b129",
   "metadata": {},
   "outputs": [],
   "source": [
    "url_batches = np.array_split(url_list, split_indices)"
   ]
  },
  {
   "cell_type": "code",
   "execution_count": 138,
   "id": "eb2c8836-0a3e-4608-9b46-1350ec164855",
   "metadata": {},
   "outputs": [],
   "source": [
    "#full_batches = url_batches[:-1]\n",
    "full_batches = url_batches[:-3]"
   ]
  },
  {
   "cell_type": "code",
   "execution_count": 139,
   "id": "807003f0-d14c-44ae-8b08-bc6c65bd8981",
   "metadata": {},
   "outputs": [
    {
     "data": {
      "text/plain": [
       "189"
      ]
     },
     "execution_count": 139,
     "metadata": {},
     "output_type": "execute_result"
    }
   ],
   "source": [
    "len(full_batches)"
   ]
  },
  {
   "cell_type": "code",
   "execution_count": 140,
   "id": "c3d2ce61-0d8e-4320-9d29-5c73ab5be6f3",
   "metadata": {},
   "outputs": [],
   "source": [
    "batch_list = [{f'pdf{k+1}': url for k, url in enumerate(batch)} for batch in full_batches]"
   ]
  },
  {
   "cell_type": "code",
   "execution_count": 141,
   "id": "5ee4338e-65b3-4fff-9eef-a62405b17327",
   "metadata": {},
   "outputs": [
    {
     "data": {
      "text/plain": [
       "{'pdf1': 'https://cs.stanford.edu/~jjacobs3/pdb/DOC_0005958911.pdf',\n",
       " 'pdf2': 'https://cs.stanford.edu/~jjacobs3/pdb/DOC_0005958912.pdf',\n",
       " 'pdf3': 'https://cs.stanford.edu/~jjacobs3/pdb/DOC_0005958913.pdf',\n",
       " 'pdf4': 'https://cs.stanford.edu/~jjacobs3/pdb/DOC_0005958914.pdf',\n",
       " 'pdf5': 'https://cs.stanford.edu/~jjacobs3/pdb/DOC_0005958915.pdf',\n",
       " 'pdf6': 'https://cs.stanford.edu/~jjacobs3/pdb/DOC_0005958916.pdf',\n",
       " 'pdf7': 'https://cs.stanford.edu/~jjacobs3/pdb/DOC_0005958918.pdf',\n",
       " 'pdf8': 'https://cs.stanford.edu/~jjacobs3/pdb/DOC_0005958920.pdf',\n",
       " 'pdf9': 'https://cs.stanford.edu/~jjacobs3/pdb/DOC_0005958922.pdf',\n",
       " 'pdf10': 'https://cs.stanford.edu/~jjacobs3/pdb/DOC_0005958924.pdf',\n",
       " 'pdf11': 'https://cs.stanford.edu/~jjacobs3/pdb/DOC_0005958926.pdf',\n",
       " 'pdf12': 'https://cs.stanford.edu/~jjacobs3/pdb/DOC_0005958929.pdf',\n",
       " 'pdf13': 'https://cs.stanford.edu/~jjacobs3/pdb/DOC_0005958931.pdf'}"
      ]
     },
     "execution_count": 141,
     "metadata": {},
     "output_type": "execute_result"
    }
   ],
   "source": [
    "batch_list[0]"
   ]
  },
  {
   "cell_type": "code",
   "execution_count": 142,
   "id": "6d8ffe70-18ec-44ac-93ab-965e9f527a41",
   "metadata": {},
   "outputs": [],
   "source": [
    "batch_df = pd.DataFrame(batch_list)"
   ]
  },
  {
   "cell_type": "code",
   "execution_count": 143,
   "id": "3f1ba0af-b6fa-45ec-861f-64b8bb79d567",
   "metadata": {},
   "outputs": [
    {
     "data": {
      "text/html": [
       "<div>\n",
       "<style scoped>\n",
       "    .dataframe tbody tr th:only-of-type {\n",
       "        vertical-align: middle;\n",
       "    }\n",
       "\n",
       "    .dataframe tbody tr th {\n",
       "        vertical-align: top;\n",
       "    }\n",
       "\n",
       "    .dataframe thead th {\n",
       "        text-align: right;\n",
       "    }\n",
       "</style>\n",
       "<table border=\"1\" class=\"dataframe\">\n",
       "  <thead>\n",
       "    <tr style=\"text-align: right;\">\n",
       "      <th></th>\n",
       "      <th>pdf1</th>\n",
       "      <th>pdf2</th>\n",
       "      <th>pdf3</th>\n",
       "      <th>pdf4</th>\n",
       "      <th>pdf5</th>\n",
       "      <th>pdf6</th>\n",
       "      <th>pdf7</th>\n",
       "      <th>pdf8</th>\n",
       "      <th>pdf9</th>\n",
       "      <th>pdf10</th>\n",
       "      <th>pdf11</th>\n",
       "      <th>pdf12</th>\n",
       "      <th>pdf13</th>\n",
       "    </tr>\n",
       "  </thead>\n",
       "  <tbody>\n",
       "    <tr>\n",
       "      <th>0</th>\n",
       "      <td>https://cs.stanford.edu/~jjacobs3/pdb/DOC_0005...</td>\n",
       "      <td>https://cs.stanford.edu/~jjacobs3/pdb/DOC_0005...</td>\n",
       "      <td>https://cs.stanford.edu/~jjacobs3/pdb/DOC_0005...</td>\n",
       "      <td>https://cs.stanford.edu/~jjacobs3/pdb/DOC_0005...</td>\n",
       "      <td>https://cs.stanford.edu/~jjacobs3/pdb/DOC_0005...</td>\n",
       "      <td>https://cs.stanford.edu/~jjacobs3/pdb/DOC_0005...</td>\n",
       "      <td>https://cs.stanford.edu/~jjacobs3/pdb/DOC_0005...</td>\n",
       "      <td>https://cs.stanford.edu/~jjacobs3/pdb/DOC_0005...</td>\n",
       "      <td>https://cs.stanford.edu/~jjacobs3/pdb/DOC_0005...</td>\n",
       "      <td>https://cs.stanford.edu/~jjacobs3/pdb/DOC_0005...</td>\n",
       "      <td>https://cs.stanford.edu/~jjacobs3/pdb/DOC_0005...</td>\n",
       "      <td>https://cs.stanford.edu/~jjacobs3/pdb/DOC_0005...</td>\n",
       "      <td>https://cs.stanford.edu/~jjacobs3/pdb/DOC_0005...</td>\n",
       "    </tr>\n",
       "  </tbody>\n",
       "</table>\n",
       "</div>"
      ],
      "text/plain": [
       "                                                pdf1  \\\n",
       "0  https://cs.stanford.edu/~jjacobs3/pdb/DOC_0005...   \n",
       "\n",
       "                                                pdf2  \\\n",
       "0  https://cs.stanford.edu/~jjacobs3/pdb/DOC_0005...   \n",
       "\n",
       "                                                pdf3  \\\n",
       "0  https://cs.stanford.edu/~jjacobs3/pdb/DOC_0005...   \n",
       "\n",
       "                                                pdf4  \\\n",
       "0  https://cs.stanford.edu/~jjacobs3/pdb/DOC_0005...   \n",
       "\n",
       "                                                pdf5  \\\n",
       "0  https://cs.stanford.edu/~jjacobs3/pdb/DOC_0005...   \n",
       "\n",
       "                                                pdf6  \\\n",
       "0  https://cs.stanford.edu/~jjacobs3/pdb/DOC_0005...   \n",
       "\n",
       "                                                pdf7  \\\n",
       "0  https://cs.stanford.edu/~jjacobs3/pdb/DOC_0005...   \n",
       "\n",
       "                                                pdf8  \\\n",
       "0  https://cs.stanford.edu/~jjacobs3/pdb/DOC_0005...   \n",
       "\n",
       "                                                pdf9  \\\n",
       "0  https://cs.stanford.edu/~jjacobs3/pdb/DOC_0005...   \n",
       "\n",
       "                                               pdf10  \\\n",
       "0  https://cs.stanford.edu/~jjacobs3/pdb/DOC_0005...   \n",
       "\n",
       "                                               pdf11  \\\n",
       "0  https://cs.stanford.edu/~jjacobs3/pdb/DOC_0005...   \n",
       "\n",
       "                                               pdf12  \\\n",
       "0  https://cs.stanford.edu/~jjacobs3/pdb/DOC_0005...   \n",
       "\n",
       "                                               pdf13  \n",
       "0  https://cs.stanford.edu/~jjacobs3/pdb/DOC_0005...  "
      ]
     },
     "execution_count": 143,
     "metadata": {},
     "output_type": "execute_result"
    }
   ],
   "source": [
    "batch_df.head(1)"
   ]
  },
  {
   "cell_type": "code",
   "execution_count": 144,
   "id": "eb8960dd-76b7-4ca1-a78d-9fc379362949",
   "metadata": {},
   "outputs": [],
   "source": [
    "#wages = [50, 90, 98, 99, 100, 101, 102, 110, 150]\n",
    "wages = [\"$0.50\", \"$0.90\", \"$0.98\", \"$0.99\", \"$1.00\", \"$1.01\", \"$1.02\",\n",
    "         \"$1.10\", \"$1.50\"]"
   ]
  },
  {
   "cell_type": "code",
   "execution_count": 145,
   "id": "58302f60-5f2a-4596-bcc1-d1ed7a943614",
   "metadata": {},
   "outputs": [
    {
     "data": {
      "text/plain": [
       "9"
      ]
     },
     "execution_count": 145,
     "metadata": {},
     "output_type": "execute_result"
    }
   ],
   "source": [
    "len(wages)"
   ]
  },
  {
   "cell_type": "code",
   "execution_count": 146,
   "id": "bcb25cfa-c622-49c9-beb4-7707fb53c9b6",
   "metadata": {},
   "outputs": [
    {
     "data": {
      "text/plain": [
       "21.22222222222222"
      ]
     },
     "execution_count": 146,
     "metadata": {},
     "output_type": "execute_result"
    }
   ],
   "source": [
    "191 / 9"
   ]
  },
  {
   "cell_type": "code",
   "execution_count": 147,
   "id": "c2826035-2d8f-4cb4-bf71-27ba004552a4",
   "metadata": {},
   "outputs": [],
   "source": [
    "batch_wages = []\n",
    "for cur_wage in wages:\n",
    "    batch_wages.extend(21*[cur_wage])"
   ]
  },
  {
   "cell_type": "code",
   "execution_count": 148,
   "id": "5c265ddb-0e9e-4e0e-9158-2b141a348ed9",
   "metadata": {},
   "outputs": [
    {
     "data": {
      "text/plain": [
       "189"
      ]
     },
     "execution_count": 148,
     "metadata": {},
     "output_type": "execute_result"
    }
   ],
   "source": [
    "len(batch_wages)"
   ]
  },
  {
   "cell_type": "code",
   "execution_count": 149,
   "id": "531e0c42-73b1-4c94-a72b-e22ebfb3dd66",
   "metadata": {},
   "outputs": [],
   "source": [
    "batch_df['offer_amt'] = batch_wages"
   ]
  },
  {
   "cell_type": "code",
   "execution_count": 150,
   "id": "5c2aeb61-d7c2-4ab0-940c-52f65daed331",
   "metadata": {},
   "outputs": [
    {
     "data": {
      "text/plain": [
       "$1.01    21\n",
       "$1.10    21\n",
       "$0.99    21\n",
       "$1.50    21\n",
       "$1.02    21\n",
       "$0.90    21\n",
       "$0.98    21\n",
       "$0.50    21\n",
       "$1.00    21\n",
       "Name: offer_amt, dtype: int64"
      ]
     },
     "execution_count": 150,
     "metadata": {},
     "output_type": "execute_result"
    }
   ],
   "source": [
    "batch_df['offer_amt'].value_counts()"
   ]
  },
  {
   "cell_type": "code",
   "execution_count": 151,
   "id": "e9bef72e-d5e0-4c3b-941d-c3387cb0c0b5",
   "metadata": {},
   "outputs": [],
   "source": [
    "batch_df['additional_tasks'] = 12"
   ]
  },
  {
   "cell_type": "code",
   "execution_count": 152,
   "id": "604b7302-7b4d-47c0-ae0b-13d2ae1c3fbd",
   "metadata": {},
   "outputs": [
    {
     "data": {
      "text/html": [
       "<div>\n",
       "<style scoped>\n",
       "    .dataframe tbody tr th:only-of-type {\n",
       "        vertical-align: middle;\n",
       "    }\n",
       "\n",
       "    .dataframe tbody tr th {\n",
       "        vertical-align: top;\n",
       "    }\n",
       "\n",
       "    .dataframe thead th {\n",
       "        text-align: right;\n",
       "    }\n",
       "</style>\n",
       "<table border=\"1\" class=\"dataframe\">\n",
       "  <thead>\n",
       "    <tr style=\"text-align: right;\">\n",
       "      <th></th>\n",
       "      <th>pdf1</th>\n",
       "      <th>pdf2</th>\n",
       "      <th>pdf3</th>\n",
       "      <th>pdf4</th>\n",
       "      <th>pdf5</th>\n",
       "      <th>pdf6</th>\n",
       "      <th>pdf7</th>\n",
       "      <th>pdf8</th>\n",
       "      <th>pdf9</th>\n",
       "      <th>pdf10</th>\n",
       "      <th>pdf11</th>\n",
       "      <th>pdf12</th>\n",
       "      <th>pdf13</th>\n",
       "      <th>offer_amt</th>\n",
       "      <th>additional_tasks</th>\n",
       "    </tr>\n",
       "  </thead>\n",
       "  <tbody>\n",
       "    <tr>\n",
       "      <th>0</th>\n",
       "      <td>https://cs.stanford.edu/~jjacobs3/pdb/DOC_0005...</td>\n",
       "      <td>https://cs.stanford.edu/~jjacobs3/pdb/DOC_0005...</td>\n",
       "      <td>https://cs.stanford.edu/~jjacobs3/pdb/DOC_0005...</td>\n",
       "      <td>https://cs.stanford.edu/~jjacobs3/pdb/DOC_0005...</td>\n",
       "      <td>https://cs.stanford.edu/~jjacobs3/pdb/DOC_0005...</td>\n",
       "      <td>https://cs.stanford.edu/~jjacobs3/pdb/DOC_0005...</td>\n",
       "      <td>https://cs.stanford.edu/~jjacobs3/pdb/DOC_0005...</td>\n",
       "      <td>https://cs.stanford.edu/~jjacobs3/pdb/DOC_0005...</td>\n",
       "      <td>https://cs.stanford.edu/~jjacobs3/pdb/DOC_0005...</td>\n",
       "      <td>https://cs.stanford.edu/~jjacobs3/pdb/DOC_0005...</td>\n",
       "      <td>https://cs.stanford.edu/~jjacobs3/pdb/DOC_0005...</td>\n",
       "      <td>https://cs.stanford.edu/~jjacobs3/pdb/DOC_0005...</td>\n",
       "      <td>https://cs.stanford.edu/~jjacobs3/pdb/DOC_0005...</td>\n",
       "      <td>$0.50</td>\n",
       "      <td>12</td>\n",
       "    </tr>\n",
       "    <tr>\n",
       "      <th>1</th>\n",
       "      <td>https://cs.stanford.edu/~jjacobs3/pdb/DOC_0005...</td>\n",
       "      <td>https://cs.stanford.edu/~jjacobs3/pdb/DOC_0005...</td>\n",
       "      <td>https://cs.stanford.edu/~jjacobs3/pdb/DOC_0005...</td>\n",
       "      <td>https://cs.stanford.edu/~jjacobs3/pdb/DOC_0005...</td>\n",
       "      <td>https://cs.stanford.edu/~jjacobs3/pdb/DOC_0005...</td>\n",
       "      <td>https://cs.stanford.edu/~jjacobs3/pdb/DOC_0005...</td>\n",
       "      <td>https://cs.stanford.edu/~jjacobs3/pdb/DOC_0005...</td>\n",
       "      <td>https://cs.stanford.edu/~jjacobs3/pdb/DOC_0005...</td>\n",
       "      <td>https://cs.stanford.edu/~jjacobs3/pdb/DOC_0005...</td>\n",
       "      <td>https://cs.stanford.edu/~jjacobs3/pdb/DOC_0005...</td>\n",
       "      <td>https://cs.stanford.edu/~jjacobs3/pdb/DOC_0005...</td>\n",
       "      <td>https://cs.stanford.edu/~jjacobs3/pdb/DOC_0005...</td>\n",
       "      <td>https://cs.stanford.edu/~jjacobs3/pdb/DOC_0005...</td>\n",
       "      <td>$0.50</td>\n",
       "      <td>12</td>\n",
       "    </tr>\n",
       "    <tr>\n",
       "      <th>2</th>\n",
       "      <td>https://cs.stanford.edu/~jjacobs3/pdb/DOC_0005...</td>\n",
       "      <td>https://cs.stanford.edu/~jjacobs3/pdb/DOC_0005...</td>\n",
       "      <td>https://cs.stanford.edu/~jjacobs3/pdb/DOC_0005...</td>\n",
       "      <td>https://cs.stanford.edu/~jjacobs3/pdb/DOC_0005...</td>\n",
       "      <td>https://cs.stanford.edu/~jjacobs3/pdb/DOC_0005...</td>\n",
       "      <td>https://cs.stanford.edu/~jjacobs3/pdb/DOC_0005...</td>\n",
       "      <td>https://cs.stanford.edu/~jjacobs3/pdb/DOC_0005...</td>\n",
       "      <td>https://cs.stanford.edu/~jjacobs3/pdb/DOC_0005...</td>\n",
       "      <td>https://cs.stanford.edu/~jjacobs3/pdb/DOC_0005...</td>\n",
       "      <td>https://cs.stanford.edu/~jjacobs3/pdb/DOC_0005...</td>\n",
       "      <td>https://cs.stanford.edu/~jjacobs3/pdb/DOC_0005...</td>\n",
       "      <td>https://cs.stanford.edu/~jjacobs3/pdb/DOC_0005...</td>\n",
       "      <td>https://cs.stanford.edu/~jjacobs3/pdb/DOC_0005...</td>\n",
       "      <td>$0.50</td>\n",
       "      <td>12</td>\n",
       "    </tr>\n",
       "    <tr>\n",
       "      <th>3</th>\n",
       "      <td>https://cs.stanford.edu/~jjacobs3/pdb/DOC_0005...</td>\n",
       "      <td>https://cs.stanford.edu/~jjacobs3/pdb/DOC_0005...</td>\n",
       "      <td>https://cs.stanford.edu/~jjacobs3/pdb/DOC_0005...</td>\n",
       "      <td>https://cs.stanford.edu/~jjacobs3/pdb/DOC_0005...</td>\n",
       "      <td>https://cs.stanford.edu/~jjacobs3/pdb/DOC_0005...</td>\n",
       "      <td>https://cs.stanford.edu/~jjacobs3/pdb/DOC_0005...</td>\n",
       "      <td>https://cs.stanford.edu/~jjacobs3/pdb/DOC_0005...</td>\n",
       "      <td>https://cs.stanford.edu/~jjacobs3/pdb/DOC_0005...</td>\n",
       "      <td>https://cs.stanford.edu/~jjacobs3/pdb/DOC_0005...</td>\n",
       "      <td>https://cs.stanford.edu/~jjacobs3/pdb/DOC_0005...</td>\n",
       "      <td>https://cs.stanford.edu/~jjacobs3/pdb/DOC_0005...</td>\n",
       "      <td>https://cs.stanford.edu/~jjacobs3/pdb/DOC_0005...</td>\n",
       "      <td>https://cs.stanford.edu/~jjacobs3/pdb/DOC_0005...</td>\n",
       "      <td>$0.50</td>\n",
       "      <td>12</td>\n",
       "    </tr>\n",
       "    <tr>\n",
       "      <th>4</th>\n",
       "      <td>https://cs.stanford.edu/~jjacobs3/pdb/DOC_0005...</td>\n",
       "      <td>https://cs.stanford.edu/~jjacobs3/pdb/DOC_0005...</td>\n",
       "      <td>https://cs.stanford.edu/~jjacobs3/pdb/DOC_0005...</td>\n",
       "      <td>https://cs.stanford.edu/~jjacobs3/pdb/DOC_0005...</td>\n",
       "      <td>https://cs.stanford.edu/~jjacobs3/pdb/DOC_0005...</td>\n",
       "      <td>https://cs.stanford.edu/~jjacobs3/pdb/DOC_0005...</td>\n",
       "      <td>https://cs.stanford.edu/~jjacobs3/pdb/DOC_0005...</td>\n",
       "      <td>https://cs.stanford.edu/~jjacobs3/pdb/DOC_0005...</td>\n",
       "      <td>https://cs.stanford.edu/~jjacobs3/pdb/DOC_0005...</td>\n",
       "      <td>https://cs.stanford.edu/~jjacobs3/pdb/DOC_0005...</td>\n",
       "      <td>https://cs.stanford.edu/~jjacobs3/pdb/DOC_0005...</td>\n",
       "      <td>https://cs.stanford.edu/~jjacobs3/pdb/DOC_0005...</td>\n",
       "      <td>https://cs.stanford.edu/~jjacobs3/pdb/DOC_0005...</td>\n",
       "      <td>$0.50</td>\n",
       "      <td>12</td>\n",
       "    </tr>\n",
       "  </tbody>\n",
       "</table>\n",
       "</div>"
      ],
      "text/plain": [
       "                                                pdf1  \\\n",
       "0  https://cs.stanford.edu/~jjacobs3/pdb/DOC_0005...   \n",
       "1  https://cs.stanford.edu/~jjacobs3/pdb/DOC_0005...   \n",
       "2  https://cs.stanford.edu/~jjacobs3/pdb/DOC_0005...   \n",
       "3  https://cs.stanford.edu/~jjacobs3/pdb/DOC_0005...   \n",
       "4  https://cs.stanford.edu/~jjacobs3/pdb/DOC_0005...   \n",
       "\n",
       "                                                pdf2  \\\n",
       "0  https://cs.stanford.edu/~jjacobs3/pdb/DOC_0005...   \n",
       "1  https://cs.stanford.edu/~jjacobs3/pdb/DOC_0005...   \n",
       "2  https://cs.stanford.edu/~jjacobs3/pdb/DOC_0005...   \n",
       "3  https://cs.stanford.edu/~jjacobs3/pdb/DOC_0005...   \n",
       "4  https://cs.stanford.edu/~jjacobs3/pdb/DOC_0005...   \n",
       "\n",
       "                                                pdf3  \\\n",
       "0  https://cs.stanford.edu/~jjacobs3/pdb/DOC_0005...   \n",
       "1  https://cs.stanford.edu/~jjacobs3/pdb/DOC_0005...   \n",
       "2  https://cs.stanford.edu/~jjacobs3/pdb/DOC_0005...   \n",
       "3  https://cs.stanford.edu/~jjacobs3/pdb/DOC_0005...   \n",
       "4  https://cs.stanford.edu/~jjacobs3/pdb/DOC_0005...   \n",
       "\n",
       "                                                pdf4  \\\n",
       "0  https://cs.stanford.edu/~jjacobs3/pdb/DOC_0005...   \n",
       "1  https://cs.stanford.edu/~jjacobs3/pdb/DOC_0005...   \n",
       "2  https://cs.stanford.edu/~jjacobs3/pdb/DOC_0005...   \n",
       "3  https://cs.stanford.edu/~jjacobs3/pdb/DOC_0005...   \n",
       "4  https://cs.stanford.edu/~jjacobs3/pdb/DOC_0005...   \n",
       "\n",
       "                                                pdf5  \\\n",
       "0  https://cs.stanford.edu/~jjacobs3/pdb/DOC_0005...   \n",
       "1  https://cs.stanford.edu/~jjacobs3/pdb/DOC_0005...   \n",
       "2  https://cs.stanford.edu/~jjacobs3/pdb/DOC_0005...   \n",
       "3  https://cs.stanford.edu/~jjacobs3/pdb/DOC_0005...   \n",
       "4  https://cs.stanford.edu/~jjacobs3/pdb/DOC_0005...   \n",
       "\n",
       "                                                pdf6  \\\n",
       "0  https://cs.stanford.edu/~jjacobs3/pdb/DOC_0005...   \n",
       "1  https://cs.stanford.edu/~jjacobs3/pdb/DOC_0005...   \n",
       "2  https://cs.stanford.edu/~jjacobs3/pdb/DOC_0005...   \n",
       "3  https://cs.stanford.edu/~jjacobs3/pdb/DOC_0005...   \n",
       "4  https://cs.stanford.edu/~jjacobs3/pdb/DOC_0005...   \n",
       "\n",
       "                                                pdf7  \\\n",
       "0  https://cs.stanford.edu/~jjacobs3/pdb/DOC_0005...   \n",
       "1  https://cs.stanford.edu/~jjacobs3/pdb/DOC_0005...   \n",
       "2  https://cs.stanford.edu/~jjacobs3/pdb/DOC_0005...   \n",
       "3  https://cs.stanford.edu/~jjacobs3/pdb/DOC_0005...   \n",
       "4  https://cs.stanford.edu/~jjacobs3/pdb/DOC_0005...   \n",
       "\n",
       "                                                pdf8  \\\n",
       "0  https://cs.stanford.edu/~jjacobs3/pdb/DOC_0005...   \n",
       "1  https://cs.stanford.edu/~jjacobs3/pdb/DOC_0005...   \n",
       "2  https://cs.stanford.edu/~jjacobs3/pdb/DOC_0005...   \n",
       "3  https://cs.stanford.edu/~jjacobs3/pdb/DOC_0005...   \n",
       "4  https://cs.stanford.edu/~jjacobs3/pdb/DOC_0005...   \n",
       "\n",
       "                                                pdf9  \\\n",
       "0  https://cs.stanford.edu/~jjacobs3/pdb/DOC_0005...   \n",
       "1  https://cs.stanford.edu/~jjacobs3/pdb/DOC_0005...   \n",
       "2  https://cs.stanford.edu/~jjacobs3/pdb/DOC_0005...   \n",
       "3  https://cs.stanford.edu/~jjacobs3/pdb/DOC_0005...   \n",
       "4  https://cs.stanford.edu/~jjacobs3/pdb/DOC_0005...   \n",
       "\n",
       "                                               pdf10  \\\n",
       "0  https://cs.stanford.edu/~jjacobs3/pdb/DOC_0005...   \n",
       "1  https://cs.stanford.edu/~jjacobs3/pdb/DOC_0005...   \n",
       "2  https://cs.stanford.edu/~jjacobs3/pdb/DOC_0005...   \n",
       "3  https://cs.stanford.edu/~jjacobs3/pdb/DOC_0005...   \n",
       "4  https://cs.stanford.edu/~jjacobs3/pdb/DOC_0005...   \n",
       "\n",
       "                                               pdf11  \\\n",
       "0  https://cs.stanford.edu/~jjacobs3/pdb/DOC_0005...   \n",
       "1  https://cs.stanford.edu/~jjacobs3/pdb/DOC_0005...   \n",
       "2  https://cs.stanford.edu/~jjacobs3/pdb/DOC_0005...   \n",
       "3  https://cs.stanford.edu/~jjacobs3/pdb/DOC_0005...   \n",
       "4  https://cs.stanford.edu/~jjacobs3/pdb/DOC_0005...   \n",
       "\n",
       "                                               pdf12  \\\n",
       "0  https://cs.stanford.edu/~jjacobs3/pdb/DOC_0005...   \n",
       "1  https://cs.stanford.edu/~jjacobs3/pdb/DOC_0005...   \n",
       "2  https://cs.stanford.edu/~jjacobs3/pdb/DOC_0005...   \n",
       "3  https://cs.stanford.edu/~jjacobs3/pdb/DOC_0005...   \n",
       "4  https://cs.stanford.edu/~jjacobs3/pdb/DOC_0005...   \n",
       "\n",
       "                                               pdf13 offer_amt  \\\n",
       "0  https://cs.stanford.edu/~jjacobs3/pdb/DOC_0005...     $0.50   \n",
       "1  https://cs.stanford.edu/~jjacobs3/pdb/DOC_0005...     $0.50   \n",
       "2  https://cs.stanford.edu/~jjacobs3/pdb/DOC_0005...     $0.50   \n",
       "3  https://cs.stanford.edu/~jjacobs3/pdb/DOC_0005...     $0.50   \n",
       "4  https://cs.stanford.edu/~jjacobs3/pdb/DOC_0005...     $0.50   \n",
       "\n",
       "   additional_tasks  \n",
       "0                12  \n",
       "1                12  \n",
       "2                12  \n",
       "3                12  \n",
       "4                12  "
      ]
     },
     "execution_count": 152,
     "metadata": {},
     "output_type": "execute_result"
    }
   ],
   "source": [
    "batch_df.head()"
   ]
  },
  {
   "cell_type": "code",
   "execution_count": null,
   "id": "2c68333a-a5ab-4632-b04a-ccc2fd9eeb0b",
   "metadata": {},
   "outputs": [],
   "source": []
  },
  {
   "cell_type": "code",
   "execution_count": 153,
   "id": "6a13d9d2-bd9e-462a-8d3c-56549bb89882",
   "metadata": {},
   "outputs": [],
   "source": [
    "batch_df['batch_id'] = 'p01'"
   ]
  },
  {
   "cell_type": "code",
   "execution_count": 155,
   "id": "53316332-5b66-4545-a9b6-738976939eef",
   "metadata": {},
   "outputs": [],
   "source": [
    "# Final thing: just take first 100 batches"
   ]
  },
  {
   "cell_type": "code",
   "execution_count": 156,
   "id": "2ce24aa7-59a5-4b59-b09d-c5d3bb6a8287",
   "metadata": {},
   "outputs": [],
   "source": [
    "pilot_df = batch_df.iloc[:100].copy()"
   ]
  },
  {
   "cell_type": "code",
   "execution_count": null,
   "id": "8080cd77-af6a-4eab-b4a8-21ce9f1907c8",
   "metadata": {},
   "outputs": [],
   "source": []
  },
  {
   "cell_type": "code",
   "execution_count": 157,
   "id": "e3cd8d10-4c24-4368-ab87-d6969d6e7457",
   "metadata": {},
   "outputs": [],
   "source": [
    "pilot_df.to_csv(\"pilot.csv\", index=False)"
   ]
  },
  {
   "cell_type": "code",
   "execution_count": 158,
   "id": "d76499ed-2685-4c8f-a3ff-a40b085241d3",
   "metadata": {},
   "outputs": [
    {
     "data": {
      "text/plain": [
       "100"
      ]
     },
     "execution_count": 158,
     "metadata": {},
     "output_type": "execute_result"
    }
   ],
   "source": [
    "len(pilot_df)"
   ]
  },
  {
   "cell_type": "code",
   "execution_count": null,
   "id": "f96b9606-4a42-4c19-b8a0-5df7dd2b115c",
   "metadata": {},
   "outputs": [],
   "source": []
  },
  {
   "cell_type": "code",
   "execution_count": null,
   "id": "7b61191d-dd2e-40c8-9248-5c24c62af83a",
   "metadata": {},
   "outputs": [],
   "source": []
  },
  {
   "cell_type": "code",
   "execution_count": null,
   "id": "4bfe08f3-4c0b-4373-a34c-71846778c006",
   "metadata": {},
   "outputs": [],
   "source": []
  }
 ],
 "metadata": {
  "kernelspec": {
   "display_name": "Python 3",
   "language": "python",
   "name": "python3"
  },
  "language_info": {
   "codemirror_mode": {
    "name": "ipython",
    "version": 3
   },
   "file_extension": ".py",
   "mimetype": "text/x-python",
   "name": "python",
   "nbconvert_exporter": "python",
   "pygments_lexer": "ipython3",
   "version": "3.9.2"
  }
 },
 "nbformat": 4,
 "nbformat_minor": 5
}
