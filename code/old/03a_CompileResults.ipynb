{
 "cells": [
  {
   "cell_type": "markdown",
   "id": "988443e6-9608-4de5-8ebe-069b9b2c6ee8",
   "metadata": {},
   "source": [
    "Basically take the stage2_launched_workers.csv and add in the remaining data we need:\n",
    "\n",
    "* Their accept + submit time on stage 1\n",
    "* Their answers on stage 1\n",
    "* Whether they accepted the stage 2 HIT\n",
    "* Their accept + submit time on stage 2\n",
    "* The Qualtrics data for the accepters"
   ]
  },
  {
   "cell_type": "code",
   "execution_count": 56,
   "id": "flying-bridges",
   "metadata": {},
   "outputs": [
    {
     "name": "stdout",
     "output_type": "stream",
     "text": [
      "The autoreload extension is already loaded. To reload it, use:\n",
      "  %reload_ext autoreload\n"
     ]
    }
   ],
   "source": [
    "%load_ext autoreload\n",
    "%autoreload 2"
   ]
  },
  {
   "cell_type": "code",
   "execution_count": 97,
   "id": "primary-tragedy",
   "metadata": {},
   "outputs": [],
   "source": [
    "import datetime\n",
    "\n",
    "import pandas as pd\n",
    "import numpy as np\n",
    "\n",
    "import mtglobals"
   ]
  },
  {
   "cell_type": "code",
   "execution_count": 58,
   "id": "generous-mailman",
   "metadata": {},
   "outputs": [
    {
     "name": "stdout",
     "output_type": "stream",
     "text": [
      "Your account balance is 499927.16\n"
     ]
    }
   ],
   "source": [
    "client, mturk_environment = mtglobals.gen_client()"
   ]
  },
  {
   "cell_type": "code",
   "execution_count": 59,
   "id": "competent-polymer",
   "metadata": {},
   "outputs": [
    {
     "name": "stdout",
     "output_type": "stream",
     "text": [
      "Downloading list of hits from 2021-11-05 00:00:00+00:00 onwards to ../results_2stage/all_hit_data.pkl\n",
      "p2:gbkrVjGo4mv+y0SfXwW4SaU1yC4J+OHs3W6KIYqXiwVM9uomThEuSuzAvGlyHbw=\n"
     ]
    }
   ],
   "source": [
    "all_hits = mtglobals.download_all_hits(client)"
   ]
  },
  {
   "cell_type": "code",
   "execution_count": 60,
   "id": "incorrect-metallic",
   "metadata": {},
   "outputs": [
    {
     "data": {
      "text/plain": [
       "7"
      ]
     },
     "execution_count": 60,
     "metadata": {},
     "output_type": "execute_result"
    }
   ],
   "source": [
    "len(all_hits)"
   ]
  },
  {
   "cell_type": "code",
   "execution_count": 61,
   "id": "marine-doubt",
   "metadata": {},
   "outputs": [],
   "source": [
    "newest_hits = all_hits[:92]"
   ]
  },
  {
   "cell_type": "code",
   "execution_count": 62,
   "id": "chubby-testament",
   "metadata": {},
   "outputs": [
    {
     "name": "stdout",
     "output_type": "stream",
     "text": [
      "1\n",
      "6\n"
     ]
    }
   ],
   "source": [
    "# Split hits based on what stage they're from\n",
    "stage1_hits = [h for h in newest_hits if not h['Title'].startswith('Custom workplace')]\n",
    "stage2_hits = [h for h in newest_hits if h['Title'].startswith('Custom workplace')]\n",
    "print(len(stage1_hits))\n",
    "print(len(stage2_hits))"
   ]
  },
  {
   "cell_type": "markdown",
   "id": "e6bd5840-a2af-4cde-9d78-60b69683a8a1",
   "metadata": {},
   "source": [
    "### Parse stage1 results"
   ]
  },
  {
   "cell_type": "code",
   "execution_count": 63,
   "id": "2ceed92c-a58d-4c5e-9c01-a121fb9f0e01",
   "metadata": {},
   "outputs": [],
   "source": [
    "stage1_hit_id = stage1_hits[0]['HITId']\n",
    "stage1_submissions = mtglobals.get_hit_submissions(client, stage1_hit_id)"
   ]
  },
  {
   "cell_type": "code",
   "execution_count": 64,
   "id": "43dc928c-acdc-4e3b-b928-55f58b3e1cf6",
   "metadata": {},
   "outputs": [
    {
     "data": {
      "text/plain": [
       "6"
      ]
     },
     "execution_count": 64,
     "metadata": {},
     "output_type": "execute_result"
    }
   ],
   "source": [
    "len(stage1_submissions)"
   ]
  },
  {
   "cell_type": "code",
   "execution_count": 65,
   "id": "a2c1a986-9d7a-4f29-a91e-b3c776b7ad66",
   "metadata": {},
   "outputs": [
    {
     "data": {
      "text/plain": [
       "{'AssignmentId': '3PS7W85Z803YIAYDUGI591EVJZM9T7',\n",
       " 'WorkerId': 'A2BNQ8VAMP3ZYO',\n",
       " 'HITId': '39KV3A5D198Q27ZB0HATXGVCMOT7SL',\n",
       " 'AssignmentStatus': 'Approved',\n",
       " 'AutoApprovalTime': datetime.datetime(2021, 12, 20, 10, 49, 17, tzinfo=tzlocal()),\n",
       " 'AcceptTime': datetime.datetime(2021, 11, 20, 10, 48, 45, tzinfo=tzlocal()),\n",
       " 'SubmitTime': datetime.datetime(2021, 11, 20, 10, 49, 17, tzinfo=tzlocal()),\n",
       " 'ApprovalTime': datetime.datetime(2021, 11, 20, 10, 51, 9, tzinfo=tzlocal()),\n",
       " 'Answer': '<?xml version=\"1.0\" encoding=\"ASCII\"?><QuestionFormAnswers xmlns=\"http://mechanicalturk.amazonaws.com/AWSMechanicalTurkDataSchemas/2005-10-01/QuestionFormAnswers.xsd\"><Answer><QuestionIdentifier>age</QuestionIdentifier><FreeText>28</FreeText></Answer><Answer><QuestionIdentifier>onlinehrs</QuestionIdentifier><FreeText>40</FreeText></Answer><Answer><QuestionIdentifier>reason</QuestionIdentifier><FreeText>money</FreeText></Answer></QuestionFormAnswers>'}"
      ]
     },
     "execution_count": 65,
     "metadata": {},
     "output_type": "execute_result"
    }
   ],
   "source": [
    "stage1_submissions[0]"
   ]
  },
  {
   "cell_type": "code",
   "execution_count": 70,
   "id": "3daea12f-304e-4649-a346-57472519cb09",
   "metadata": {},
   "outputs": [],
   "source": [
    "# Now extract the data we want for each submission\n",
    "def extract_stage1_data(s):\n",
    "    s_data = {'worker_id': s['WorkerId'], 'assignment_id': s['AssignmentId'],\n",
    "              'stage1_accept_time':s['AcceptTime'], 'stage1_submit_time':s['SubmitTime'],\n",
    "              'stage1_accept_submit_gap':(s['SubmitTime']-s['AcceptTime'])}\n",
    "    s_answers = mtglobals.parse_stage1_answer(s['Answer'])\n",
    "    # Add each answer as a field\n",
    "    for cur_key, cur_val in s_answers.items():\n",
    "        answer_var = \"stage1_\" + cur_key\n",
    "        s_data[answer_var] = cur_val\n",
    "    return s_data\n",
    "\n",
    "stage1_data = {s['WorkerId']: extract_stage1_data(s) for s in stage1_submissions}"
   ]
  },
  {
   "cell_type": "code",
   "execution_count": 71,
   "id": "a6b466b4-bdb0-4e09-bc3d-511813121d10",
   "metadata": {},
   "outputs": [
    {
     "data": {
      "text/plain": [
       "{'A2BNQ8VAMP3ZYO': {'worker_id': 'A2BNQ8VAMP3ZYO',\n",
       "  'assignment_id': '3PS7W85Z803YIAYDUGI591EVJZM9T7',\n",
       "  'stage1_accept_time': datetime.datetime(2021, 11, 20, 10, 48, 45, tzinfo=tzlocal()),\n",
       "  'stage1_submit_time': datetime.datetime(2021, 11, 20, 10, 49, 17, tzinfo=tzlocal()),\n",
       "  'stage1_accept_submit_gap': datetime.timedelta(seconds=32),\n",
       "  'stage1_age': '28',\n",
       "  'stage1_onlinehrs': '40',\n",
       "  'stage1_reason': 'money'},\n",
       " 'ADXJ0I0MRHLPX': {'worker_id': 'ADXJ0I0MRHLPX',\n",
       "  'assignment_id': '3NL0RFNU0GOYIL2EJC8MR2GJEUHK4G',\n",
       "  'stage1_accept_time': datetime.datetime(2021, 11, 20, 10, 50, 55, tzinfo=tzlocal()),\n",
       "  'stage1_submit_time': datetime.datetime(2021, 11, 20, 10, 54, 7, tzinfo=tzlocal()),\n",
       "  'stage1_accept_submit_gap': datetime.timedelta(seconds=192),\n",
       "  'stage1_age': '30',\n",
       "  'stage1_onlinehrs': '30',\n",
       "  'stage1_reason': 'skills'},\n",
       " 'A3HZFB2JLF3JMY': {'worker_id': 'A3HZFB2JLF3JMY',\n",
       "  'assignment_id': '386PBUZZXGYZ593H7J7RC4IHLRCJL9',\n",
       "  'stage1_accept_time': datetime.datetime(2021, 11, 20, 10, 48, 44, tzinfo=tzlocal()),\n",
       "  'stage1_submit_time': datetime.datetime(2021, 11, 20, 11, 11, 19, tzinfo=tzlocal()),\n",
       "  'stage1_accept_submit_gap': datetime.timedelta(seconds=1355),\n",
       "  'stage1_age': '24',\n",
       "  'stage1_onlinehrs': '50',\n",
       "  'stage1_reason': 'fun'},\n",
       " 'A2JP9IKRHNLRPI': {'worker_id': 'A2JP9IKRHNLRPI',\n",
       "  'assignment_id': '3R2UR8A0IBH86EB31F2KVUUQRUWOXJ',\n",
       "  'stage1_accept_time': datetime.datetime(2021, 11, 20, 10, 49, 26, tzinfo=tzlocal()),\n",
       "  'stage1_submit_time': datetime.datetime(2021, 11, 20, 11, 12, 57, tzinfo=tzlocal()),\n",
       "  'stage1_accept_submit_gap': datetime.timedelta(seconds=1411),\n",
       "  'stage1_age': '26',\n",
       "  'stage1_onlinehrs': '20',\n",
       "  'stage1_reason': 'money'},\n",
       " 'A2YO837C0O1E91': {'worker_id': 'A2YO837C0O1E91',\n",
       "  'assignment_id': '3WYP994K18S7HDV96F2SX8F880X6YJ',\n",
       "  'stage1_accept_time': datetime.datetime(2021, 11, 20, 11, 4, 58, tzinfo=tzlocal()),\n",
       "  'stage1_submit_time': datetime.datetime(2021, 11, 20, 11, 22, 49, tzinfo=tzlocal()),\n",
       "  'stage1_accept_submit_gap': datetime.timedelta(seconds=1071),\n",
       "  'stage1_age': '31',\n",
       "  'stage1_onlinehrs': '30',\n",
       "  'stage1_reason': 'money'},\n",
       " 'A362MXJ7439Q76': {'worker_id': 'A362MXJ7439Q76',\n",
       "  'assignment_id': '3JAOYWH7VJ5AZXQ8L7GENA4EPM3L9J',\n",
       "  'stage1_accept_time': datetime.datetime(2021, 11, 20, 12, 28, 25, tzinfo=tzlocal()),\n",
       "  'stage1_submit_time': datetime.datetime(2021, 11, 20, 12, 31, 19, tzinfo=tzlocal()),\n",
       "  'stage1_accept_submit_gap': datetime.timedelta(seconds=174),\n",
       "  'stage1_age': '30 1991',\n",
       "  'stage1_onlinehrs': '40',\n",
       "  'stage1_reason': 'skills'}}"
      ]
     },
     "execution_count": 71,
     "metadata": {},
     "output_type": "execute_result"
    }
   ],
   "source": [
    "stage1_data"
   ]
  },
  {
   "cell_type": "markdown",
   "id": "e3d26a9b-3dd0-4dd1-8281-16e56c733a04",
   "metadata": {},
   "source": [
    "### Now go through and get the result for each *stage2* hit"
   ]
  },
  {
   "cell_type": "code",
   "execution_count": 73,
   "id": "willing-lewis",
   "metadata": {},
   "outputs": [
    {
     "name": "stdout",
     "output_type": "stream",
     "text": [
      "(0, '2021-11-20 17:24:51-08:00', 'Custom workplace survey HIT for worker id A362MXJ7439Q76', '1.50', 0, 0, 1)\n",
      "(1, '2021-11-20 11:32:34-08:00', 'Custom workplace survey HIT for worker id A2YO837C0O1E91', '0.50', 1, 0, 0)\n",
      "(2, '2021-11-20 11:32:34-08:00', 'Custom workplace survey HIT for worker id A2JP9IKRHNLRPI', '1.50', 0, 0, 1)\n",
      "(3, '2021-11-20 11:11:55-08:00', 'Custom workplace survey HIT for worker id A3HZFB2JLF3JMY', '0.50', 1, 0, 0)\n",
      "(4, '2021-11-20 11:05:53-08:00', 'Custom workplace survey HIT for worker id ADXJ0I0MRHLPX', '1.50', 1, 0, 0)\n",
      "(5, '2021-11-20 10:52:45-08:00', 'Custom workplace survey HIT for worker id A2BNQ8VAMP3ZYO', '0.50', 1, 0, 0)\n"
     ]
    }
   ],
   "source": [
    "for n, h in enumerate(stage2_hits):\n",
    "    print((n, str(h['CreationTime']), h['Title'], h['Reward'], h['NumberOfAssignmentsCompleted'],\n",
    "     h['NumberOfAssignmentsPending'], h['NumberOfAssignmentsAvailable']))"
   ]
  },
  {
   "cell_type": "code",
   "execution_count": 81,
   "id": "spectacular-elevation",
   "metadata": {},
   "outputs": [
    {
     "name": "stdout",
     "output_type": "stream",
     "text": [
      "Processing Custom workplace survey HIT for worker id A362MXJ7439Q76\n",
      "Processing Custom workplace survey HIT for worker id A2YO837C0O1E91\n",
      "Processing Custom workplace survey HIT for worker id A2JP9IKRHNLRPI\n",
      "Processing Custom workplace survey HIT for worker id A3HZFB2JLF3JMY\n",
      "Processing Custom workplace survey HIT for worker id ADXJ0I0MRHLPX\n",
      "Processing Custom workplace survey HIT for worker id A2BNQ8VAMP3ZYO\n"
     ]
    }
   ],
   "source": [
    "# Now compile a dataset using mtglobals.get_hit_assignments() to determine whether\n",
    "# or not a given HIT was submitted\n",
    "outcome_data = []\n",
    "for cur_hit in stage2_hits:\n",
    "    cur_title = cur_hit['Title']\n",
    "    print(f\"Processing {cur_title}\")\n",
    "    cur_id = cur_hit['HITId']\n",
    "    cur_worker_id = mtglobals.worker_id_from_title(cur_title)\n",
    "    cur_reward = cur_hit['Reward']\n",
    "    was_submitted = False\n",
    "    hit_submissions = mtglobals.get_hit_submissions(client, cur_id)\n",
    "    accept_time = None\n",
    "    submit_time = None\n",
    "    time_gap = None\n",
    "    if len(hit_submissions) > 0:\n",
    "        # Submitted\n",
    "        was_submitted = True\n",
    "        # And get data on the submission\n",
    "        hit_submission = hit_submissions[0]\n",
    "        accept_time = hit_submission['AcceptTime']\n",
    "        submit_time = hit_submission['SubmitTime']\n",
    "        time_gap = submit_time - accept_time\n",
    "    # Now save the data\n",
    "    cur_data = {'hit_id':cur_id, 'worker_id':cur_worker_id, 'submitted':was_submitted,\n",
    "                'reward':cur_reward, 'stage2_accept_time': accept_time, 'stage2_submit_time': submit_time,\n",
    "                'stage2_accept_submit_gap': time_gap}\n",
    "    # But we also want to add in the stage1 data here\n",
    "    cur_data.update(stage1_data[cur_worker_id])\n",
    "    outcome_data.append(cur_data)"
   ]
  },
  {
   "cell_type": "code",
   "execution_count": 82,
   "id": "freelance-museum",
   "metadata": {},
   "outputs": [
    {
     "data": {
      "text/html": [
       "<div>\n",
       "<style scoped>\n",
       "    .dataframe tbody tr th:only-of-type {\n",
       "        vertical-align: middle;\n",
       "    }\n",
       "\n",
       "    .dataframe tbody tr th {\n",
       "        vertical-align: top;\n",
       "    }\n",
       "\n",
       "    .dataframe thead th {\n",
       "        text-align: right;\n",
       "    }\n",
       "</style>\n",
       "<table border=\"1\" class=\"dataframe\">\n",
       "  <thead>\n",
       "    <tr style=\"text-align: right;\">\n",
       "      <th></th>\n",
       "      <th>hit_id</th>\n",
       "      <th>worker_id</th>\n",
       "      <th>submitted</th>\n",
       "      <th>reward</th>\n",
       "      <th>stage2_accept_time</th>\n",
       "      <th>stage2_submit_time</th>\n",
       "      <th>stage2_accept_submit_gap</th>\n",
       "      <th>assignment_id</th>\n",
       "      <th>stage1_accept_time</th>\n",
       "      <th>stage1_submit_time</th>\n",
       "      <th>stage1_accept_submit_gap</th>\n",
       "      <th>stage1_age</th>\n",
       "      <th>stage1_onlinehrs</th>\n",
       "      <th>stage1_reason</th>\n",
       "    </tr>\n",
       "  </thead>\n",
       "  <tbody>\n",
       "    <tr>\n",
       "      <th>0</th>\n",
       "      <td>3I6NF2WGIHX8PYC1HO1FAIYD7755GL</td>\n",
       "      <td>A362MXJ7439Q76</td>\n",
       "      <td>False</td>\n",
       "      <td>1.50</td>\n",
       "      <td>NaT</td>\n",
       "      <td>NaT</td>\n",
       "      <td>NaT</td>\n",
       "      <td>3JAOYWH7VJ5AZXQ8L7GENA4EPM3L9J</td>\n",
       "      <td>2021-11-20 12:28:25-08:00</td>\n",
       "      <td>2021-11-20 12:31:19-08:00</td>\n",
       "      <td>0 days 00:02:54</td>\n",
       "      <td>30 1991</td>\n",
       "      <td>40</td>\n",
       "      <td>skills</td>\n",
       "    </tr>\n",
       "    <tr>\n",
       "      <th>1</th>\n",
       "      <td>309D674SH0MXX2D5GCW9NDDQJBYBCH</td>\n",
       "      <td>A2YO837C0O1E91</td>\n",
       "      <td>True</td>\n",
       "      <td>0.50</td>\n",
       "      <td>2021-11-20 11:33:11-08:00</td>\n",
       "      <td>2021-11-20 12:12:51-08:00</td>\n",
       "      <td>0 days 00:39:40</td>\n",
       "      <td>3WYP994K18S7HDV96F2SX8F880X6YJ</td>\n",
       "      <td>2021-11-20 11:04:58-08:00</td>\n",
       "      <td>2021-11-20 11:22:49-08:00</td>\n",
       "      <td>0 days 00:17:51</td>\n",
       "      <td>31</td>\n",
       "      <td>30</td>\n",
       "      <td>money</td>\n",
       "    </tr>\n",
       "    <tr>\n",
       "      <th>2</th>\n",
       "      <td>337F8MIIM0ETIBXGPHT2KY5J0UK40B</td>\n",
       "      <td>A2JP9IKRHNLRPI</td>\n",
       "      <td>False</td>\n",
       "      <td>1.50</td>\n",
       "      <td>NaT</td>\n",
       "      <td>NaT</td>\n",
       "      <td>NaT</td>\n",
       "      <td>3R2UR8A0IBH86EB31F2KVUUQRUWOXJ</td>\n",
       "      <td>2021-11-20 10:49:26-08:00</td>\n",
       "      <td>2021-11-20 11:12:57-08:00</td>\n",
       "      <td>0 days 00:23:31</td>\n",
       "      <td>26</td>\n",
       "      <td>20</td>\n",
       "      <td>money</td>\n",
       "    </tr>\n",
       "    <tr>\n",
       "      <th>3</th>\n",
       "      <td>3F6045TU7EPCBBR5688MUHHSPQS99O</td>\n",
       "      <td>A3HZFB2JLF3JMY</td>\n",
       "      <td>True</td>\n",
       "      <td>0.50</td>\n",
       "      <td>2021-11-20 11:12:46-08:00</td>\n",
       "      <td>2021-11-20 11:40:18-08:00</td>\n",
       "      <td>0 days 00:27:32</td>\n",
       "      <td>386PBUZZXGYZ593H7J7RC4IHLRCJL9</td>\n",
       "      <td>2021-11-20 10:48:44-08:00</td>\n",
       "      <td>2021-11-20 11:11:19-08:00</td>\n",
       "      <td>0 days 00:22:35</td>\n",
       "      <td>24</td>\n",
       "      <td>50</td>\n",
       "      <td>fun</td>\n",
       "    </tr>\n",
       "    <tr>\n",
       "      <th>4</th>\n",
       "      <td>3VDI8GSXAGURCGV3FM8IM2849X5G8X</td>\n",
       "      <td>ADXJ0I0MRHLPX</td>\n",
       "      <td>True</td>\n",
       "      <td>1.50</td>\n",
       "      <td>2021-11-20 11:06:48-08:00</td>\n",
       "      <td>2021-11-20 11:22:31-08:00</td>\n",
       "      <td>0 days 00:15:43</td>\n",
       "      <td>3NL0RFNU0GOYIL2EJC8MR2GJEUHK4G</td>\n",
       "      <td>2021-11-20 10:50:55-08:00</td>\n",
       "      <td>2021-11-20 10:54:07-08:00</td>\n",
       "      <td>0 days 00:03:12</td>\n",
       "      <td>30</td>\n",
       "      <td>30</td>\n",
       "      <td>skills</td>\n",
       "    </tr>\n",
       "    <tr>\n",
       "      <th>5</th>\n",
       "      <td>3UOMW19E6E7V8MWWF25WKRDY9FC5CA</td>\n",
       "      <td>A2BNQ8VAMP3ZYO</td>\n",
       "      <td>True</td>\n",
       "      <td>0.50</td>\n",
       "      <td>2021-11-20 10:53:16-08:00</td>\n",
       "      <td>2021-11-20 10:59:23-08:00</td>\n",
       "      <td>0 days 00:06:07</td>\n",
       "      <td>3PS7W85Z803YIAYDUGI591EVJZM9T7</td>\n",
       "      <td>2021-11-20 10:48:45-08:00</td>\n",
       "      <td>2021-11-20 10:49:17-08:00</td>\n",
       "      <td>0 days 00:00:32</td>\n",
       "      <td>28</td>\n",
       "      <td>40</td>\n",
       "      <td>money</td>\n",
       "    </tr>\n",
       "  </tbody>\n",
       "</table>\n",
       "</div>"
      ],
      "text/plain": [
       "                           hit_id       worker_id  submitted reward  \\\n",
       "0  3I6NF2WGIHX8PYC1HO1FAIYD7755GL  A362MXJ7439Q76      False   1.50   \n",
       "1  309D674SH0MXX2D5GCW9NDDQJBYBCH  A2YO837C0O1E91       True   0.50   \n",
       "2  337F8MIIM0ETIBXGPHT2KY5J0UK40B  A2JP9IKRHNLRPI      False   1.50   \n",
       "3  3F6045TU7EPCBBR5688MUHHSPQS99O  A3HZFB2JLF3JMY       True   0.50   \n",
       "4  3VDI8GSXAGURCGV3FM8IM2849X5G8X   ADXJ0I0MRHLPX       True   1.50   \n",
       "5  3UOMW19E6E7V8MWWF25WKRDY9FC5CA  A2BNQ8VAMP3ZYO       True   0.50   \n",
       "\n",
       "         stage2_accept_time        stage2_submit_time  \\\n",
       "0                       NaT                       NaT   \n",
       "1 2021-11-20 11:33:11-08:00 2021-11-20 12:12:51-08:00   \n",
       "2                       NaT                       NaT   \n",
       "3 2021-11-20 11:12:46-08:00 2021-11-20 11:40:18-08:00   \n",
       "4 2021-11-20 11:06:48-08:00 2021-11-20 11:22:31-08:00   \n",
       "5 2021-11-20 10:53:16-08:00 2021-11-20 10:59:23-08:00   \n",
       "\n",
       "  stage2_accept_submit_gap                   assignment_id  \\\n",
       "0                      NaT  3JAOYWH7VJ5AZXQ8L7GENA4EPM3L9J   \n",
       "1          0 days 00:39:40  3WYP994K18S7HDV96F2SX8F880X6YJ   \n",
       "2                      NaT  3R2UR8A0IBH86EB31F2KVUUQRUWOXJ   \n",
       "3          0 days 00:27:32  386PBUZZXGYZ593H7J7RC4IHLRCJL9   \n",
       "4          0 days 00:15:43  3NL0RFNU0GOYIL2EJC8MR2GJEUHK4G   \n",
       "5          0 days 00:06:07  3PS7W85Z803YIAYDUGI591EVJZM9T7   \n",
       "\n",
       "         stage1_accept_time        stage1_submit_time  \\\n",
       "0 2021-11-20 12:28:25-08:00 2021-11-20 12:31:19-08:00   \n",
       "1 2021-11-20 11:04:58-08:00 2021-11-20 11:22:49-08:00   \n",
       "2 2021-11-20 10:49:26-08:00 2021-11-20 11:12:57-08:00   \n",
       "3 2021-11-20 10:48:44-08:00 2021-11-20 11:11:19-08:00   \n",
       "4 2021-11-20 10:50:55-08:00 2021-11-20 10:54:07-08:00   \n",
       "5 2021-11-20 10:48:45-08:00 2021-11-20 10:49:17-08:00   \n",
       "\n",
       "  stage1_accept_submit_gap stage1_age stage1_onlinehrs stage1_reason  \n",
       "0          0 days 00:02:54    30 1991               40        skills  \n",
       "1          0 days 00:17:51         31               30         money  \n",
       "2          0 days 00:23:31         26               20         money  \n",
       "3          0 days 00:22:35         24               50           fun  \n",
       "4          0 days 00:03:12         30               30        skills  \n",
       "5          0 days 00:00:32         28               40         money  "
      ]
     },
     "execution_count": 82,
     "metadata": {},
     "output_type": "execute_result"
    }
   ],
   "source": [
    "outcome_df = pd.DataFrame(outcome_data)\n",
    "outcome_df"
   ]
  },
  {
   "cell_type": "code",
   "execution_count": 77,
   "id": "global-sister",
   "metadata": {},
   "outputs": [],
   "source": [
    "high_df = outcome_df[outcome_df['reward'] == \"1.50\"].copy()\n",
    "low_df = outcome_df[outcome_df['reward'] == \"0.50\"].copy()"
   ]
  },
  {
   "cell_type": "code",
   "execution_count": 78,
   "id": "relevant-brick",
   "metadata": {},
   "outputs": [
    {
     "data": {
      "text/plain": [
       "False    2\n",
       "True     1\n",
       "Name: submitted, dtype: int64"
      ]
     },
     "execution_count": 78,
     "metadata": {},
     "output_type": "execute_result"
    }
   ],
   "source": [
    "high_df['submitted'].value_counts()"
   ]
  },
  {
   "cell_type": "code",
   "execution_count": 79,
   "id": "young-device",
   "metadata": {},
   "outputs": [
    {
     "data": {
      "text/plain": [
       "True    3\n",
       "Name: submitted, dtype: int64"
      ]
     },
     "execution_count": 79,
     "metadata": {},
     "output_type": "execute_result"
    }
   ],
   "source": [
    "low_df['submitted'].value_counts()"
   ]
  },
  {
   "cell_type": "code",
   "execution_count": null,
   "id": "coated-classics",
   "metadata": {},
   "outputs": [],
   "source": []
  },
  {
   "cell_type": "markdown",
   "id": "3d46f6d6-f692-42f5-94e7-8aacb798f446",
   "metadata": {},
   "source": [
    "### Now merge in the Qualtrics data"
   ]
  },
  {
   "cell_type": "code",
   "execution_count": 83,
   "id": "noble-surge",
   "metadata": {},
   "outputs": [
    {
     "name": "stderr",
     "output_type": "stream",
     "text": [
      "c:\\users\\jpjac\\appdata\\local\\programs\\python\\python39\\lib\\site-packages\\openpyxl\\styles\\stylesheet.py:221: UserWarning: Workbook contains no default style, apply openpyxl's default\n",
      "  warn(\"Workbook contains no default style, apply openpyxl's default\")\n"
     ]
    }
   ],
   "source": [
    "qual_fname = \"Job+Quality+NonWM+12.0_November+21,+2021_16.06.xlsx\"\n",
    "qual_df = pd.read_excel(f\"../results/qualtrics/{qual_fname}\")"
   ]
  },
  {
   "cell_type": "code",
   "execution_count": 84,
   "id": "bibliographic-beast",
   "metadata": {},
   "outputs": [],
   "source": [
    "qual_df = qual_df.iloc[1:].copy()"
   ]
  },
  {
   "cell_type": "code",
   "execution_count": 85,
   "id": "1b85b3d4-cc00-43b7-9fdc-4b53a8b225ea",
   "metadata": {},
   "outputs": [
    {
     "data": {
      "text/html": [
       "<div>\n",
       "<style scoped>\n",
       "    .dataframe tbody tr th:only-of-type {\n",
       "        vertical-align: middle;\n",
       "    }\n",
       "\n",
       "    .dataframe tbody tr th {\n",
       "        vertical-align: top;\n",
       "    }\n",
       "\n",
       "    .dataframe thead th {\n",
       "        text-align: right;\n",
       "    }\n",
       "</style>\n",
       "<table border=\"1\" class=\"dataframe\">\n",
       "  <thead>\n",
       "    <tr style=\"text-align: right;\">\n",
       "      <th></th>\n",
       "      <th>StartDate</th>\n",
       "      <th>EndDate</th>\n",
       "      <th>Status</th>\n",
       "      <th>IPAddress</th>\n",
       "      <th>Progress</th>\n",
       "      <th>Duration (in seconds)</th>\n",
       "      <th>Finished</th>\n",
       "      <th>RecordedDate</th>\n",
       "      <th>ResponseId</th>\n",
       "      <th>RecipientLastName</th>\n",
       "      <th>...</th>\n",
       "      <th>generated_jobtitle_21</th>\n",
       "      <th>generated_jobtitle_22</th>\n",
       "      <th>generated_jobtitle_23</th>\n",
       "      <th>generated_jobtitle_24</th>\n",
       "      <th>generated_jobtitle_25</th>\n",
       "      <th>generated_jobtitle_26</th>\n",
       "      <th>generated_jobtitle_27</th>\n",
       "      <th>generated_jobtitle_28</th>\n",
       "      <th>generated_jobtitle_29</th>\n",
       "      <th>generated_jobtitle_30</th>\n",
       "    </tr>\n",
       "  </thead>\n",
       "  <tbody>\n",
       "    <tr>\n",
       "      <th>1</th>\n",
       "      <td>2021-10-23 14:33:01</td>\n",
       "      <td>2021-10-23 14:37:45</td>\n",
       "      <td>IP Address</td>\n",
       "      <td>67.172.249.152</td>\n",
       "      <td>100.0</td>\n",
       "      <td>283.0</td>\n",
       "      <td>True</td>\n",
       "      <td>2021-10-23 14:37:46.219000</td>\n",
       "      <td>R_OvtQX4YtEzYaUZX</td>\n",
       "      <td>NaN</td>\n",
       "      <td>...</td>\n",
       "      <td>proofreader</td>\n",
       "      <td>proofreader</td>\n",
       "      <td>proofreader</td>\n",
       "      <td>proofreader</td>\n",
       "      <td>proofreader</td>\n",
       "      <td>proofreader</td>\n",
       "      <td>proofreader</td>\n",
       "      <td>proofreader</td>\n",
       "      <td>proofreader</td>\n",
       "      <td>proofreader</td>\n",
       "    </tr>\n",
       "    <tr>\n",
       "      <th>2</th>\n",
       "      <td>2021-10-23 14:40:47</td>\n",
       "      <td>2021-10-23 14:47:56</td>\n",
       "      <td>IP Address</td>\n",
       "      <td>73.123.179.39</td>\n",
       "      <td>100.0</td>\n",
       "      <td>429.0</td>\n",
       "      <td>True</td>\n",
       "      <td>2021-10-23 14:47:58.519000</td>\n",
       "      <td>R_pt5l94KDW0qHEmR</td>\n",
       "      <td>NaN</td>\n",
       "      <td>...</td>\n",
       "      <td>associate</td>\n",
       "      <td>associate</td>\n",
       "      <td>associate</td>\n",
       "      <td>associate</td>\n",
       "      <td>associate</td>\n",
       "      <td>associate</td>\n",
       "      <td>associate</td>\n",
       "      <td>associate</td>\n",
       "      <td>associate</td>\n",
       "      <td>associate</td>\n",
       "    </tr>\n",
       "    <tr>\n",
       "      <th>3</th>\n",
       "      <td>2021-10-23 15:07:12</td>\n",
       "      <td>2021-10-23 15:15:33</td>\n",
       "      <td>IP Address</td>\n",
       "      <td>68.199.9.22</td>\n",
       "      <td>100.0</td>\n",
       "      <td>501.0</td>\n",
       "      <td>True</td>\n",
       "      <td>2021-10-23 15:15:34.119000</td>\n",
       "      <td>R_3MlnSGQYDb1YMvD</td>\n",
       "      <td>NaN</td>\n",
       "      <td>...</td>\n",
       "      <td>Financial Controller</td>\n",
       "      <td>Financial Controller</td>\n",
       "      <td>Financial Controller</td>\n",
       "      <td>Financial Controller</td>\n",
       "      <td>Financial Controller</td>\n",
       "      <td>Financial Controller</td>\n",
       "      <td>Financial Controller</td>\n",
       "      <td>Financial Controller</td>\n",
       "      <td>Financial Controller</td>\n",
       "      <td>Financial Controller</td>\n",
       "    </tr>\n",
       "    <tr>\n",
       "      <th>4</th>\n",
       "      <td>2021-10-23 15:08:14</td>\n",
       "      <td>2021-10-23 15:18:51</td>\n",
       "      <td>IP Address</td>\n",
       "      <td>173.47.178.180</td>\n",
       "      <td>100.0</td>\n",
       "      <td>636.0</td>\n",
       "      <td>True</td>\n",
       "      <td>2021-10-23 15:18:52.414000</td>\n",
       "      <td>R_1FqutLiMQyEclGS</td>\n",
       "      <td>NaN</td>\n",
       "      <td>...</td>\n",
       "      <td>dept. mgr.</td>\n",
       "      <td>dept. mgr.</td>\n",
       "      <td>dept. mgr.</td>\n",
       "      <td>dept. mgr.</td>\n",
       "      <td>dept. mgr.</td>\n",
       "      <td>dept. mgr.</td>\n",
       "      <td>dept. mgr.</td>\n",
       "      <td>dept. mgr.</td>\n",
       "      <td>dept. mgr.</td>\n",
       "      <td>dept. mgr.</td>\n",
       "    </tr>\n",
       "    <tr>\n",
       "      <th>5</th>\n",
       "      <td>2021-10-23 15:15:02</td>\n",
       "      <td>2021-10-23 15:19:08</td>\n",
       "      <td>IP Address</td>\n",
       "      <td>71.175.7.39</td>\n",
       "      <td>100.0</td>\n",
       "      <td>246.0</td>\n",
       "      <td>True</td>\n",
       "      <td>2021-10-23 15:19:09.109000</td>\n",
       "      <td>R_BzvuLorhwD3d009</td>\n",
       "      <td>NaN</td>\n",
       "      <td>...</td>\n",
       "      <td>contractor</td>\n",
       "      <td>contractor</td>\n",
       "      <td>contractor</td>\n",
       "      <td>contractor</td>\n",
       "      <td>contractor</td>\n",
       "      <td>contractor</td>\n",
       "      <td>contractor</td>\n",
       "      <td>contractor</td>\n",
       "      <td>contractor</td>\n",
       "      <td>contractor</td>\n",
       "    </tr>\n",
       "    <tr>\n",
       "      <th>...</th>\n",
       "      <td>...</td>\n",
       "      <td>...</td>\n",
       "      <td>...</td>\n",
       "      <td>...</td>\n",
       "      <td>...</td>\n",
       "      <td>...</td>\n",
       "      <td>...</td>\n",
       "      <td>...</td>\n",
       "      <td>...</td>\n",
       "      <td>...</td>\n",
       "      <td>...</td>\n",
       "      <td>...</td>\n",
       "      <td>...</td>\n",
       "      <td>...</td>\n",
       "      <td>...</td>\n",
       "      <td>...</td>\n",
       "      <td>...</td>\n",
       "      <td>...</td>\n",
       "      <td>...</td>\n",
       "      <td>...</td>\n",
       "      <td>...</td>\n",
       "    </tr>\n",
       "    <tr>\n",
       "      <th>136</th>\n",
       "      <td>2021-11-20 12:07:22</td>\n",
       "      <td>2021-11-20 12:22:20</td>\n",
       "      <td>IP Address</td>\n",
       "      <td>45.42.201.14</td>\n",
       "      <td>100.0</td>\n",
       "      <td>897.0</td>\n",
       "      <td>True</td>\n",
       "      <td>2021-11-20 12:22:21.014000</td>\n",
       "      <td>R_XTGonafhoVTmGzL</td>\n",
       "      <td>NaN</td>\n",
       "      <td>...</td>\n",
       "      <td>IT</td>\n",
       "      <td>IT</td>\n",
       "      <td>IT</td>\n",
       "      <td>IT</td>\n",
       "      <td>IT</td>\n",
       "      <td>IT</td>\n",
       "      <td>IT</td>\n",
       "      <td>IT</td>\n",
       "      <td>IT</td>\n",
       "      <td>IT</td>\n",
       "    </tr>\n",
       "    <tr>\n",
       "      <th>137</th>\n",
       "      <td>2021-11-20 12:21:11</td>\n",
       "      <td>2021-11-20 12:39:46</td>\n",
       "      <td>IP Address</td>\n",
       "      <td>72.221.115.167</td>\n",
       "      <td>100.0</td>\n",
       "      <td>1114.0</td>\n",
       "      <td>True</td>\n",
       "      <td>2021-11-20 12:39:47.163000</td>\n",
       "      <td>R_1kHPDtD5JdFbRgz</td>\n",
       "      <td>NaN</td>\n",
       "      <td>...</td>\n",
       "      <td>retail manager</td>\n",
       "      <td>retail manager</td>\n",
       "      <td>retail manager</td>\n",
       "      <td>retail manager</td>\n",
       "      <td>retail manager</td>\n",
       "      <td>retail manager</td>\n",
       "      <td>retail manager</td>\n",
       "      <td>retail manager</td>\n",
       "      <td>retail manager</td>\n",
       "      <td>retail manager</td>\n",
       "    </tr>\n",
       "    <tr>\n",
       "      <th>138</th>\n",
       "      <td>2021-11-20 13:08:37</td>\n",
       "      <td>2021-11-20 13:12:46</td>\n",
       "      <td>IP Address</td>\n",
       "      <td>206.54.198.154</td>\n",
       "      <td>100.0</td>\n",
       "      <td>248.0</td>\n",
       "      <td>True</td>\n",
       "      <td>2021-11-20 13:12:46.561000</td>\n",
       "      <td>R_1dc1vBYFP9bCtOo</td>\n",
       "      <td>NaN</td>\n",
       "      <td>...</td>\n",
       "      <td>Data QA</td>\n",
       "      <td>Data QA</td>\n",
       "      <td>Data QA</td>\n",
       "      <td>Data QA</td>\n",
       "      <td>Data QA</td>\n",
       "      <td>Data QA</td>\n",
       "      <td>Data QA</td>\n",
       "      <td>Data QA</td>\n",
       "      <td>Data QA</td>\n",
       "      <td>Data QA</td>\n",
       "    </tr>\n",
       "    <tr>\n",
       "      <th>139</th>\n",
       "      <td>2021-11-20 12:46:54</td>\n",
       "      <td>2021-11-20 12:47:12</td>\n",
       "      <td>IP Address</td>\n",
       "      <td>98.212.187.205</td>\n",
       "      <td>7.0</td>\n",
       "      <td>17.0</td>\n",
       "      <td>False</td>\n",
       "      <td>2021-11-21 12:47:14.145000</td>\n",
       "      <td>R_1Ej5sBlSdiizamu</td>\n",
       "      <td>NaN</td>\n",
       "      <td>...</td>\n",
       "      <td>NaN</td>\n",
       "      <td>NaN</td>\n",
       "      <td>NaN</td>\n",
       "      <td>NaN</td>\n",
       "      <td>NaN</td>\n",
       "      <td>NaN</td>\n",
       "      <td>NaN</td>\n",
       "      <td>NaN</td>\n",
       "      <td>NaN</td>\n",
       "      <td>NaN</td>\n",
       "    </tr>\n",
       "    <tr>\n",
       "      <th>140</th>\n",
       "      <td>2021-11-20 13:08:23</td>\n",
       "      <td>2021-11-20 13:08:35</td>\n",
       "      <td>IP Address</td>\n",
       "      <td>206.54.198.154</td>\n",
       "      <td>1.0</td>\n",
       "      <td>11.0</td>\n",
       "      <td>False</td>\n",
       "      <td>2021-11-21 13:08:37.981000</td>\n",
       "      <td>R_2X1HakGRxmbTTrz</td>\n",
       "      <td>NaN</td>\n",
       "      <td>...</td>\n",
       "      <td>NaN</td>\n",
       "      <td>NaN</td>\n",
       "      <td>NaN</td>\n",
       "      <td>NaN</td>\n",
       "      <td>NaN</td>\n",
       "      <td>NaN</td>\n",
       "      <td>NaN</td>\n",
       "      <td>NaN</td>\n",
       "      <td>NaN</td>\n",
       "      <td>NaN</td>\n",
       "    </tr>\n",
       "  </tbody>\n",
       "</table>\n",
       "<p>140 rows × 1701 columns</p>\n",
       "</div>"
      ],
      "text/plain": [
       "               StartDate              EndDate      Status       IPAddress  \\\n",
       "1    2021-10-23 14:33:01  2021-10-23 14:37:45  IP Address  67.172.249.152   \n",
       "2    2021-10-23 14:40:47  2021-10-23 14:47:56  IP Address   73.123.179.39   \n",
       "3    2021-10-23 15:07:12  2021-10-23 15:15:33  IP Address     68.199.9.22   \n",
       "4    2021-10-23 15:08:14  2021-10-23 15:18:51  IP Address  173.47.178.180   \n",
       "5    2021-10-23 15:15:02  2021-10-23 15:19:08  IP Address     71.175.7.39   \n",
       "..                   ...                  ...         ...             ...   \n",
       "136  2021-11-20 12:07:22  2021-11-20 12:22:20  IP Address    45.42.201.14   \n",
       "137  2021-11-20 12:21:11  2021-11-20 12:39:46  IP Address  72.221.115.167   \n",
       "138  2021-11-20 13:08:37  2021-11-20 13:12:46  IP Address  206.54.198.154   \n",
       "139  2021-11-20 12:46:54  2021-11-20 12:47:12  IP Address  98.212.187.205   \n",
       "140  2021-11-20 13:08:23  2021-11-20 13:08:35  IP Address  206.54.198.154   \n",
       "\n",
       "    Progress Duration (in seconds) Finished                RecordedDate  \\\n",
       "1      100.0                 283.0     True  2021-10-23 14:37:46.219000   \n",
       "2      100.0                 429.0     True  2021-10-23 14:47:58.519000   \n",
       "3      100.0                 501.0     True  2021-10-23 15:15:34.119000   \n",
       "4      100.0                 636.0     True  2021-10-23 15:18:52.414000   \n",
       "5      100.0                 246.0     True  2021-10-23 15:19:09.109000   \n",
       "..       ...                   ...      ...                         ...   \n",
       "136    100.0                 897.0     True  2021-11-20 12:22:21.014000   \n",
       "137    100.0                1114.0     True  2021-11-20 12:39:47.163000   \n",
       "138    100.0                 248.0     True  2021-11-20 13:12:46.561000   \n",
       "139      7.0                  17.0    False  2021-11-21 12:47:14.145000   \n",
       "140      1.0                  11.0    False  2021-11-21 13:08:37.981000   \n",
       "\n",
       "            ResponseId RecipientLastName  ... generated_jobtitle_21  \\\n",
       "1    R_OvtQX4YtEzYaUZX               NaN  ...           proofreader   \n",
       "2    R_pt5l94KDW0qHEmR               NaN  ...             associate   \n",
       "3    R_3MlnSGQYDb1YMvD               NaN  ...  Financial Controller   \n",
       "4    R_1FqutLiMQyEclGS               NaN  ...            dept. mgr.   \n",
       "5    R_BzvuLorhwD3d009               NaN  ...            contractor   \n",
       "..                 ...               ...  ...                   ...   \n",
       "136  R_XTGonafhoVTmGzL               NaN  ...                    IT   \n",
       "137  R_1kHPDtD5JdFbRgz               NaN  ...        retail manager   \n",
       "138  R_1dc1vBYFP9bCtOo               NaN  ...               Data QA   \n",
       "139  R_1Ej5sBlSdiizamu               NaN  ...                   NaN   \n",
       "140  R_2X1HakGRxmbTTrz               NaN  ...                   NaN   \n",
       "\n",
       "    generated_jobtitle_22 generated_jobtitle_23 generated_jobtitle_24  \\\n",
       "1             proofreader           proofreader           proofreader   \n",
       "2               associate             associate             associate   \n",
       "3    Financial Controller  Financial Controller  Financial Controller   \n",
       "4              dept. mgr.            dept. mgr.            dept. mgr.   \n",
       "5              contractor            contractor            contractor   \n",
       "..                    ...                   ...                   ...   \n",
       "136                    IT                    IT                    IT   \n",
       "137        retail manager        retail manager        retail manager   \n",
       "138               Data QA               Data QA               Data QA   \n",
       "139                   NaN                   NaN                   NaN   \n",
       "140                   NaN                   NaN                   NaN   \n",
       "\n",
       "    generated_jobtitle_25 generated_jobtitle_26 generated_jobtitle_27  \\\n",
       "1             proofreader           proofreader           proofreader   \n",
       "2               associate             associate             associate   \n",
       "3    Financial Controller  Financial Controller  Financial Controller   \n",
       "4              dept. mgr.            dept. mgr.            dept. mgr.   \n",
       "5              contractor            contractor            contractor   \n",
       "..                    ...                   ...                   ...   \n",
       "136                    IT                    IT                    IT   \n",
       "137        retail manager        retail manager        retail manager   \n",
       "138               Data QA               Data QA               Data QA   \n",
       "139                   NaN                   NaN                   NaN   \n",
       "140                   NaN                   NaN                   NaN   \n",
       "\n",
       "    generated_jobtitle_28 generated_jobtitle_29 generated_jobtitle_30  \n",
       "1             proofreader           proofreader           proofreader  \n",
       "2               associate             associate             associate  \n",
       "3    Financial Controller  Financial Controller  Financial Controller  \n",
       "4              dept. mgr.            dept. mgr.            dept. mgr.  \n",
       "5              contractor            contractor            contractor  \n",
       "..                    ...                   ...                   ...  \n",
       "136                    IT                    IT                    IT  \n",
       "137        retail manager        retail manager        retail manager  \n",
       "138               Data QA               Data QA               Data QA  \n",
       "139                   NaN                   NaN                   NaN  \n",
       "140                   NaN                   NaN                   NaN  \n",
       "\n",
       "[140 rows x 1701 columns]"
      ]
     },
     "execution_count": 85,
     "metadata": {},
     "output_type": "execute_result"
    }
   ],
   "source": [
    "qual_df"
   ]
  },
  {
   "cell_type": "code",
   "execution_count": 86,
   "id": "stopped-hearing",
   "metadata": {},
   "outputs": [],
   "source": [
    "qual_df.rename(columns={'mt_id':'worker_id'}, inplace=True)"
   ]
  },
  {
   "cell_type": "code",
   "execution_count": 87,
   "id": "second-equality",
   "metadata": {},
   "outputs": [
    {
     "data": {
      "text/plain": [
       "1      A1QUQ0TV9KVD4C\n",
       "2       A5P12YJP805RG\n",
       "3       AFFXVHHBUWW4D\n",
       "4      A2MOKIEQZ0OF2M\n",
       "5       AKQAI78JTXXC9\n",
       "            ...      \n",
       "136     ADXJ0I0MRHLPX\n",
       "137    A3HZFB2JLF3JMY\n",
       "138    A2YO837C0O1E91\n",
       "139    A2JP9IKRHNLRPI\n",
       "140    A2YO837C0O1E91\n",
       "Name: worker_id, Length: 140, dtype: object"
      ]
     },
     "execution_count": 87,
     "metadata": {},
     "output_type": "execute_result"
    }
   ],
   "source": [
    "qual_df['worker_id']"
   ]
  },
  {
   "cell_type": "code",
   "execution_count": 88,
   "id": "deadly-moses",
   "metadata": {},
   "outputs": [],
   "source": [
    "# Merge on mt_id\n",
    "merged_df = outcome_df.merge(qual_df, on='worker_id', how='left', indicator=True)"
   ]
  },
  {
   "cell_type": "code",
   "execution_count": 89,
   "id": "tracked-entrepreneur",
   "metadata": {},
   "outputs": [
    {
     "data": {
      "text/plain": [
       "both          6\n",
       "left_only     1\n",
       "right_only    0\n",
       "Name: _merge, dtype: int64"
      ]
     },
     "execution_count": 89,
     "metadata": {},
     "output_type": "execute_result"
    }
   ],
   "source": [
    "merged_df['_merge'].value_counts()"
   ]
  },
  {
   "cell_type": "code",
   "execution_count": 90,
   "id": "73a8d0ed-62cc-4dfb-aebc-a5a78083ef26",
   "metadata": {},
   "outputs": [],
   "source": [
    "to_drop = [c for c in merged_df.columns \n",
    "           if c.startswith(\"name_\") or c.startswith(\"cur_\") or c.startswith(\"val_\") or \"tense\" in c]\n",
    "merged_df.drop(columns=to_drop, inplace=True)"
   ]
  },
  {
   "cell_type": "code",
   "execution_count": 91,
   "id": "e2aa7d58-7723-4345-8d6c-52db32309093",
   "metadata": {},
   "outputs": [
    {
     "data": {
      "text/plain": [
       "0                         NaT\n",
       "1   2021-11-20 11:33:11-08:00\n",
       "2   2021-11-20 11:33:11-08:00\n",
       "3                         NaT\n",
       "4   2021-11-20 11:12:46-08:00\n",
       "5   2021-11-20 11:06:48-08:00\n",
       "6   2021-11-20 10:53:16-08:00\n",
       "Name: stage2_accept_time, dtype: datetime64[ns, tzlocal()]"
      ]
     },
     "execution_count": 91,
     "metadata": {},
     "output_type": "execute_result"
    }
   ],
   "source": [
    "merged_df['stage2_accept_time']"
   ]
  },
  {
   "cell_type": "code",
   "execution_count": 92,
   "id": "72d0d4bb-8469-47b9-acc4-bb9fa1cebcd4",
   "metadata": {},
   "outputs": [
    {
     "data": {
      "text/plain": [
       "0    A362MXJ7439Q76\n",
       "1    A2YO837C0O1E91\n",
       "2    A2YO837C0O1E91\n",
       "3    A2JP9IKRHNLRPI\n",
       "4    A3HZFB2JLF3JMY\n",
       "5     ADXJ0I0MRHLPX\n",
       "6    A2BNQ8VAMP3ZYO\n",
       "Name: worker_id, dtype: object"
      ]
     },
     "execution_count": 92,
     "metadata": {},
     "output_type": "execute_result"
    }
   ],
   "source": [
    "# Smh. If someone managed to do it twice, just take the most recent data\n",
    "merged_df['worker_id']"
   ]
  },
  {
   "cell_type": "code",
   "execution_count": 93,
   "id": "c9fc2c1e-3166-4f69-ac35-f4a4aa8529d7",
   "metadata": {},
   "outputs": [],
   "source": [
    "merged_df.drop_duplicates(subset=['worker_id'], keep='last', inplace=True)"
   ]
  },
  {
   "cell_type": "code",
   "execution_count": 94,
   "id": "b3d48c09-8a78-4566-8ef9-7ea628da36ae",
   "metadata": {},
   "outputs": [
    {
     "data": {
      "text/plain": [
       "0    A362MXJ7439Q76\n",
       "2    A2YO837C0O1E91\n",
       "3    A2JP9IKRHNLRPI\n",
       "4    A3HZFB2JLF3JMY\n",
       "5     ADXJ0I0MRHLPX\n",
       "6    A2BNQ8VAMP3ZYO\n",
       "Name: worker_id, dtype: object"
      ]
     },
     "execution_count": 94,
     "metadata": {},
     "output_type": "execute_result"
    }
   ],
   "source": [
    "merged_df['worker_id']"
   ]
  },
  {
   "cell_type": "code",
   "execution_count": 95,
   "id": "791d01ba-61ce-456d-86d5-8cea17a97fe9",
   "metadata": {},
   "outputs": [],
   "source": [
    "#merged_df.to_stata(\"../results_2stage/results_qualtrics.dta\")"
   ]
  },
  {
   "cell_type": "code",
   "execution_count": 104,
   "id": "8672495e-d558-4371-a7e6-9913c8880640",
   "metadata": {},
   "outputs": [
    {
     "data": {
      "text/plain": [
       "'2021-11-21_152937'"
      ]
     },
     "execution_count": 104,
     "metadata": {},
     "output_type": "execute_result"
    }
   ],
   "source": [
    "dt_now = datetime.datetime.now()\n",
    "dt_no_ms = str(dt_now).split(\".\")[0]\n",
    "str(dt_no_ms)\n",
    "dt_final = dt_no_ms.replace(\" \",\"_\").replace(\":\",\"\")\n",
    "dt_final"
   ]
  },
  {
   "cell_type": "code",
   "execution_count": 105,
   "id": "promising-cabinet",
   "metadata": {},
   "outputs": [],
   "source": [
    "merged_df.to_csv(f\"../results_2stage/results_qualtrics_{dt_final}.csv\", index=False)"
   ]
  },
  {
   "cell_type": "code",
   "execution_count": null,
   "id": "provincial-rochester",
   "metadata": {},
   "outputs": [],
   "source": []
  },
  {
   "cell_type": "code",
   "execution_count": null,
   "id": "5b283561-b38c-41f6-92c4-51cd388ed5fb",
   "metadata": {},
   "outputs": [],
   "source": []
  }
 ],
 "metadata": {
  "kernelspec": {
   "display_name": "Python 3",
   "language": "python",
   "name": "python3"
  },
  "language_info": {
   "codemirror_mode": {
    "name": "ipython",
    "version": 3
   },
   "file_extension": ".py",
   "mimetype": "text/x-python",
   "name": "python",
   "nbconvert_exporter": "python",
   "pygments_lexer": "ipython3",
   "version": "3.9.2"
  }
 },
 "nbformat": 4,
 "nbformat_minor": 5
}
