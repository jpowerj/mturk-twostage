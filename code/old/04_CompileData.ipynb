{
 "cells": [
  {
   "cell_type": "markdown",
   "id": "62cd4f09-b6f5-4a8a-b438-20e53c2806d1",
   "metadata": {},
   "source": [
    "### Now take the data and generate one combined .csv/.dta"
   ]
  },
  {
   "cell_type": "code",
   "execution_count": 110,
   "id": "e93eed00-2988-4857-8d17-4dd2a8f12ba6",
   "metadata": {},
   "outputs": [
    {
     "name": "stdout",
     "output_type": "stream",
     "text": [
      "The autoreload extension is already loaded. To reload it, use:\n",
      "  %reload_ext autoreload\n"
     ]
    }
   ],
   "source": [
    "%load_ext autoreload\n",
    "%autoreload 2"
   ]
  },
  {
   "cell_type": "code",
   "execution_count": 111,
   "id": "65598d03-0b1e-4321-a6aa-9a0ef63af75c",
   "metadata": {},
   "outputs": [],
   "source": [
    "import pandas as pd\n",
    "import joblib\n",
    "\n",
    "import mtglobals"
   ]
  },
  {
   "cell_type": "code",
   "execution_count": 112,
   "id": "83b659b0-77ff-449d-99c5-5d37a2d73240",
   "metadata": {},
   "outputs": [],
   "source": [
    "# First we want a df where each row is a worker who submitted a round-1 HIT"
   ]
  },
  {
   "cell_type": "code",
   "execution_count": 113,
   "id": "b204e92d-1856-43a3-aba8-4b6beae1eef3",
   "metadata": {},
   "outputs": [],
   "source": [
    "submitted1_list = joblib.load(mtglobals.stage1_submit_list_fpath)"
   ]
  },
  {
   "cell_type": "code",
   "execution_count": 114,
   "id": "13f2f802-d9d8-4248-8e0e-0ecc45719179",
   "metadata": {},
   "outputs": [
    {
     "data": {
      "text/plain": [
       "125"
      ]
     },
     "execution_count": 114,
     "metadata": {},
     "output_type": "execute_result"
    }
   ],
   "source": [
    "len(submitted1_list)"
   ]
  },
  {
   "cell_type": "code",
   "execution_count": 115,
   "id": "5de87fdd-006a-4908-8306-2f92ed9ac027",
   "metadata": {},
   "outputs": [
    {
     "data": {
      "text/plain": [
       "[{'worker_id': 'A22VGT2F28LTWC',\n",
       "  'answer': {'age': '33', 'onlinehrs': '40', 'reason': 'money'}},\n",
       " {'worker_id': 'A171S8E9IFSHH2',\n",
       "  'answer': {'age': '24', 'onlinehrs': '60', 'reason': 'skills'}},\n",
       " {'worker_id': 'A3NFGEUZAH9V5G',\n",
       "  'answer': {'age': '35', 'onlinehrs': '40', 'reason': 'money'}},\n",
       " {'worker_id': 'A1SUU1QIRDZXJC',\n",
       "  'answer': {'age': '49', 'onlinehrs': '12', 'reason': 'money'}},\n",
       " {'worker_id': 'A3542PB4Z0NE80',\n",
       "  'answer': {'age': '39', 'onlinehrs': '40', 'reason': 'money'}}]"
      ]
     },
     "execution_count": 115,
     "metadata": {},
     "output_type": "execute_result"
    }
   ],
   "source": [
    "submitted1_list[:5]"
   ]
  },
  {
   "cell_type": "code",
   "execution_count": 116,
   "id": "f9c4ea88-4a58-4f60-acc0-6dea6d50bc47",
   "metadata": {},
   "outputs": [],
   "source": [
    "# Now make sure all these workers are also in launched_workers.csv (i.e.,\n",
    "# make sure everyone who submitted a round-1 HIT also got a round-2 HIT launched\n",
    "# for them"
   ]
  },
  {
   "cell_type": "code",
   "execution_count": 117,
   "id": "3a839073-03b1-4abb-901c-b1602aac298a",
   "metadata": {},
   "outputs": [],
   "source": [
    "result_df = pd.read_csv(mtglobals.stage2_launched_fpath)"
   ]
  },
  {
   "cell_type": "code",
   "execution_count": 132,
   "id": "8d213a25-4e31-490b-93fc-4628a029ef92",
   "metadata": {},
   "outputs": [
    {
     "data": {
      "text/html": [
       "<div>\n",
       "<style scoped>\n",
       "    .dataframe tbody tr th:only-of-type {\n",
       "        vertical-align: middle;\n",
       "    }\n",
       "\n",
       "    .dataframe tbody tr th {\n",
       "        vertical-align: top;\n",
       "    }\n",
       "\n",
       "    .dataframe thead th {\n",
       "        text-align: right;\n",
       "    }\n",
       "</style>\n",
       "<table border=\"1\" class=\"dataframe\">\n",
       "  <thead>\n",
       "    <tr style=\"text-align: right;\">\n",
       "      <th></th>\n",
       "      <th>worker_id</th>\n",
       "      <th>offer_amt</th>\n",
       "      <th>qual_name</th>\n",
       "      <th>qual_id</th>\n",
       "      <th>qual_num</th>\n",
       "      <th>url</th>\n",
       "      <th>accepted</th>\n",
       "    </tr>\n",
       "  </thead>\n",
       "  <tbody>\n",
       "    <tr>\n",
       "      <th>0</th>\n",
       "      <td>A22VGT2F28LTWC</td>\n",
       "      <td>1.5</td>\n",
       "      <td>Workplace_Survey_Custom</td>\n",
       "      <td>3QTU8Z4SHN84U5KCFOM3OI2TK3WGK7</td>\n",
       "      <td>29</td>\n",
       "      <td>https://www.mturk.com/mturk/preview?groupId=33...</td>\n",
       "      <td>True</td>\n",
       "    </tr>\n",
       "    <tr>\n",
       "      <th>1</th>\n",
       "      <td>A171S8E9IFSHH2</td>\n",
       "      <td>0.5</td>\n",
       "      <td>Workplace_Survey_Custom</td>\n",
       "      <td>3QTU8Z4SHN84U5KCFOM3OI2TK3WGK7</td>\n",
       "      <td>30</td>\n",
       "      <td>https://www.mturk.com/mturk/preview?groupId=3S...</td>\n",
       "      <td>False</td>\n",
       "    </tr>\n",
       "    <tr>\n",
       "      <th>2</th>\n",
       "      <td>A3NFGEUZAH9V5G</td>\n",
       "      <td>1.5</td>\n",
       "      <td>Workplace_Survey_Custom</td>\n",
       "      <td>3QTU8Z4SHN84U5KCFOM3OI2TK3WGK7</td>\n",
       "      <td>31</td>\n",
       "      <td>https://www.mturk.com/mturk/preview?groupId=3W...</td>\n",
       "      <td>True</td>\n",
       "    </tr>\n",
       "    <tr>\n",
       "      <th>3</th>\n",
       "      <td>A1SUU1QIRDZXJC</td>\n",
       "      <td>0.5</td>\n",
       "      <td>Workplace_Survey_Custom</td>\n",
       "      <td>3QTU8Z4SHN84U5KCFOM3OI2TK3WGK7</td>\n",
       "      <td>32</td>\n",
       "      <td>https://www.mturk.com/mturk/preview?groupId=33...</td>\n",
       "      <td>True</td>\n",
       "    </tr>\n",
       "    <tr>\n",
       "      <th>4</th>\n",
       "      <td>A3542PB4Z0NE80</td>\n",
       "      <td>1.5</td>\n",
       "      <td>Workplace_Survey_Custom</td>\n",
       "      <td>3QTU8Z4SHN84U5KCFOM3OI2TK3WGK7</td>\n",
       "      <td>33</td>\n",
       "      <td>https://www.mturk.com/mturk/preview?groupId=3B...</td>\n",
       "      <td>True</td>\n",
       "    </tr>\n",
       "  </tbody>\n",
       "</table>\n",
       "</div>"
      ],
      "text/plain": [
       "        worker_id  offer_amt                qual_name  \\\n",
       "0  A22VGT2F28LTWC        1.5  Workplace_Survey_Custom   \n",
       "1  A171S8E9IFSHH2        0.5  Workplace_Survey_Custom   \n",
       "2  A3NFGEUZAH9V5G        1.5  Workplace_Survey_Custom   \n",
       "3  A1SUU1QIRDZXJC        0.5  Workplace_Survey_Custom   \n",
       "4  A3542PB4Z0NE80        1.5  Workplace_Survey_Custom   \n",
       "\n",
       "                          qual_id  qual_num  \\\n",
       "0  3QTU8Z4SHN84U5KCFOM3OI2TK3WGK7        29   \n",
       "1  3QTU8Z4SHN84U5KCFOM3OI2TK3WGK7        30   \n",
       "2  3QTU8Z4SHN84U5KCFOM3OI2TK3WGK7        31   \n",
       "3  3QTU8Z4SHN84U5KCFOM3OI2TK3WGK7        32   \n",
       "4  3QTU8Z4SHN84U5KCFOM3OI2TK3WGK7        33   \n",
       "\n",
       "                                                 url  accepted  \n",
       "0  https://www.mturk.com/mturk/preview?groupId=33...      True  \n",
       "1  https://www.mturk.com/mturk/preview?groupId=3S...     False  \n",
       "2  https://www.mturk.com/mturk/preview?groupId=3W...      True  \n",
       "3  https://www.mturk.com/mturk/preview?groupId=33...      True  \n",
       "4  https://www.mturk.com/mturk/preview?groupId=3B...      True  "
      ]
     },
     "execution_count": 132,
     "metadata": {},
     "output_type": "execute_result"
    }
   ],
   "source": [
    "result_df.head()"
   ]
  },
  {
   "cell_type": "code",
   "execution_count": 131,
   "id": "34916299-9bdd-4b6f-b4e8-99d75110fb42",
   "metadata": {},
   "outputs": [
    {
     "data": {
      "text/plain": [
       "'\\nfor cur_submitted1 in submitted1_list:\\n    worker_df = result_df[result_df[\\'worker_id\\'] == cur_submitted1]\\n    if len(worker_df) > 0:\\n        # Found this worker\\n        print(f\"Found round-1 submitter {cur_submitted1}\")\\n    else:\\n        print(f\"Round-1 submitter {cur_submitted1} not in df\")\\n'"
      ]
     },
     "execution_count": 131,
     "metadata": {},
     "output_type": "execute_result"
    }
   ],
   "source": [
    "\"\"\"\n",
    "for cur_submitted1 in submitted1_list:\n",
    "    worker_df = result_df[result_df['worker_id'] == cur_submitted1]\n",
    "    if len(worker_df) > 0:\n",
    "        # Found this worker\n",
    "        print(f\"Found round-1 submitter {cur_submitted1}\")\n",
    "    else:\n",
    "        print(f\"Round-1 submitter {cur_submitted1} not in df\")\n",
    "\"\"\""
   ]
  },
  {
   "cell_type": "code",
   "execution_count": 120,
   "id": "3897dde3-10ae-4b28-9a0c-fda4ad56f143",
   "metadata": {},
   "outputs": [],
   "source": [
    "# Now we check who submitted the stage-2 HIT, and add this info in"
   ]
  },
  {
   "cell_type": "code",
   "execution_count": 121,
   "id": "994046ef-c3fd-41cd-ba30-51876d9a02d1",
   "metadata": {},
   "outputs": [],
   "source": [
    "result_df['accepted'] = False"
   ]
  },
  {
   "cell_type": "code",
   "execution_count": 123,
   "id": "5acf34ef-6220-4919-8902-35ba117230e4",
   "metadata": {},
   "outputs": [],
   "source": [
    "submitted2_df = pd.read_csv(mtglobals.stage2_submitted_fpath)"
   ]
  },
  {
   "cell_type": "code",
   "execution_count": 124,
   "id": "7aa30a21-abe6-44d5-9eb2-5e6db9e31234",
   "metadata": {},
   "outputs": [],
   "source": [
    "submitted2_workers = list(submitted2_df['worker_id'].values)"
   ]
  },
  {
   "cell_type": "code",
   "execution_count": 125,
   "id": "6d65692d-9112-4754-9683-4af1e5f770e2",
   "metadata": {},
   "outputs": [],
   "source": [
    "for cur_submitted2 in submitted2_workers:\n",
    "    result_df.at[result_df['worker_id'] == cur_submitted2, 'accepted'] = True"
   ]
  },
  {
   "cell_type": "code",
   "execution_count": 126,
   "id": "722c40b6-05f6-43f0-97d8-d0fabdc611af",
   "metadata": {},
   "outputs": [],
   "source": [
    "finished_df = result_df.copy() #.iloc[:40].copy()"
   ]
  },
  {
   "cell_type": "code",
   "execution_count": 127,
   "id": "47ff6340-402e-4c10-8389-f0d7730794c2",
   "metadata": {},
   "outputs": [],
   "source": [
    "high_df = finished_df[finished_df['offer_amt'] == 1.5].copy()\n",
    "low_df = finished_df[finished_df['offer_amt'] == 0.5].copy()"
   ]
  },
  {
   "cell_type": "code",
   "execution_count": 128,
   "id": "71bdbb36-4e3a-4240-b13b-8bd656a64cda",
   "metadata": {},
   "outputs": [
    {
     "data": {
      "text/plain": [
       "False    45\n",
       "True     29\n",
       "Name: accepted, dtype: int64"
      ]
     },
     "execution_count": 128,
     "metadata": {},
     "output_type": "execute_result"
    }
   ],
   "source": [
    "high_df['accepted'].value_counts()"
   ]
  },
  {
   "cell_type": "code",
   "execution_count": 129,
   "id": "e578ae56-882f-4474-91b8-4f7aeb0b7e7e",
   "metadata": {},
   "outputs": [
    {
     "data": {
      "text/plain": [
       "False    51\n",
       "True     21\n",
       "Name: accepted, dtype: int64"
      ]
     },
     "execution_count": 129,
     "metadata": {},
     "output_type": "execute_result"
    }
   ],
   "source": [
    "low_df['accepted'].value_counts()"
   ]
  },
  {
   "cell_type": "code",
   "execution_count": 1,
   "id": "a908d3b5-4f1a-4fe7-a498-00a418513766",
   "metadata": {},
   "outputs": [],
   "source": [
    "#with pd.option_context('max_rows',None):\n",
    "#    display(result_df)"
   ]
  },
  {
   "cell_type": "code",
   "execution_count": null,
   "id": "beadea06-0735-4bde-b47e-393d2cf588e3",
   "metadata": {},
   "outputs": [],
   "source": []
  },
  {
   "cell_type": "code",
   "execution_count": null,
   "id": "4828c3ba-44bd-4436-bf5a-1a8535236841",
   "metadata": {},
   "outputs": [],
   "source": []
  },
  {
   "cell_type": "code",
   "execution_count": null,
   "id": "db2fa5b8-6378-4178-ad1a-14f7cc400c1b",
   "metadata": {},
   "outputs": [],
   "source": []
  },
  {
   "cell_type": "code",
   "execution_count": null,
   "id": "2977d9e5-8004-4b0b-88c3-01837ed56249",
   "metadata": {},
   "outputs": [],
   "source": []
  }
 ],
 "metadata": {
  "kernelspec": {
   "display_name": "Python 3",
   "language": "python",
   "name": "python3"
  },
  "language_info": {
   "codemirror_mode": {
    "name": "ipython",
    "version": 3
   },
   "file_extension": ".py",
   "mimetype": "text/x-python",
   "name": "python",
   "nbconvert_exporter": "python",
   "pygments_lexer": "ipython3",
   "version": "3.9.2"
  }
 },
 "nbformat": 4,
 "nbformat_minor": 5
}
