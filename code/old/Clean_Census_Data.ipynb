{
 "cells": [
  {
   "cell_type": "code",
   "execution_count": 3,
   "metadata": {},
   "outputs": [],
   "source": [
    "import pandas as pd\n",
    "import numpy as np"
   ]
  },
  {
   "cell_type": "code",
   "execution_count": 4,
   "metadata": {},
   "outputs": [],
   "source": [
    "owner_df = pd.read_stata(\"slaveowner_pages_expanded.dta\")"
   ]
  },
  {
   "cell_type": "code",
   "execution_count": 5,
   "metadata": {},
   "outputs": [
    {
     "data": {
      "text/html": [
       "<div>\n",
       "<style scoped>\n",
       "    .dataframe tbody tr th:only-of-type {\n",
       "        vertical-align: middle;\n",
       "    }\n",
       "\n",
       "    .dataframe tbody tr th {\n",
       "        vertical-align: top;\n",
       "    }\n",
       "\n",
       "    .dataframe thead th {\n",
       "        text-align: right;\n",
       "    }\n",
       "</style>\n",
       "<table border=\"1\" class=\"dataframe\">\n",
       "  <thead>\n",
       "    <tr style=\"text-align: right;\">\n",
       "      <th></th>\n",
       "      <th>year</th>\n",
       "      <th>owner_id</th>\n",
       "      <th>state</th>\n",
       "      <th>county</th>\n",
       "      <th>lastname</th>\n",
       "      <th>firstname</th>\n",
       "      <th>image_url</th>\n",
       "    </tr>\n",
       "  </thead>\n",
       "  <tbody>\n",
       "    <tr>\n",
       "      <th>0</th>\n",
       "      <td>1850</td>\n",
       "      <td>470</td>\n",
       "      <td>Alabama</td>\n",
       "      <td>Autauga</td>\n",
       "      <td>Wyatte</td>\n",
       "      <td>Robt</td>\n",
       "      <td>http://textlab.econ.columbia.edu/~jjacobs/mtur...</td>\n",
       "    </tr>\n",
       "    <tr>\n",
       "      <th>1</th>\n",
       "      <td>1850</td>\n",
       "      <td>470</td>\n",
       "      <td>Alabama</td>\n",
       "      <td>Autauga</td>\n",
       "      <td>Wyatte</td>\n",
       "      <td>Robt</td>\n",
       "      <td>http://textlab.econ.columbia.edu/~jjacobs/mtur...</td>\n",
       "    </tr>\n",
       "    <tr>\n",
       "      <th>2</th>\n",
       "      <td>1850</td>\n",
       "      <td>126</td>\n",
       "      <td>Alabama</td>\n",
       "      <td>Autauga</td>\n",
       "      <td>Wyatte</td>\n",
       "      <td>Ann T R</td>\n",
       "      <td>http://textlab.econ.columbia.edu/~jjacobs/mtur...</td>\n",
       "    </tr>\n",
       "    <tr>\n",
       "      <th>3</th>\n",
       "      <td>1850</td>\n",
       "      <td>126</td>\n",
       "      <td>Alabama</td>\n",
       "      <td>Autauga</td>\n",
       "      <td>Wyatte</td>\n",
       "      <td>Ann T R</td>\n",
       "      <td>http://textlab.econ.columbia.edu/~jjacobs/mtur...</td>\n",
       "    </tr>\n",
       "    <tr>\n",
       "      <th>4</th>\n",
       "      <td>1850</td>\n",
       "      <td>32</td>\n",
       "      <td>Alabama</td>\n",
       "      <td>Autauga</td>\n",
       "      <td>Taylor</td>\n",
       "      <td></td>\n",
       "      <td>http://textlab.econ.columbia.edu/~jjacobs/mtur...</td>\n",
       "    </tr>\n",
       "  </tbody>\n",
       "</table>\n",
       "</div>"
      ],
      "text/plain": [
       "   year  owner_id    state   county lastname firstname  \\\n",
       "0  1850       470  Alabama  Autauga   Wyatte      Robt   \n",
       "1  1850       470  Alabama  Autauga   Wyatte      Robt   \n",
       "2  1850       126  Alabama  Autauga   Wyatte   Ann T R   \n",
       "3  1850       126  Alabama  Autauga   Wyatte   Ann T R   \n",
       "4  1850        32  Alabama  Autauga   Taylor             \n",
       "\n",
       "                                           image_url  \n",
       "0  http://textlab.econ.columbia.edu/~jjacobs/mtur...  \n",
       "1  http://textlab.econ.columbia.edu/~jjacobs/mtur...  \n",
       "2  http://textlab.econ.columbia.edu/~jjacobs/mtur...  \n",
       "3  http://textlab.econ.columbia.edu/~jjacobs/mtur...  \n",
       "4  http://textlab.econ.columbia.edu/~jjacobs/mtur...  "
      ]
     },
     "execution_count": 5,
     "metadata": {},
     "output_type": "execute_result"
    }
   ],
   "source": [
    "owner_df.head()"
   ]
  },
  {
   "cell_type": "code",
   "execution_count": 6,
   "metadata": {},
   "outputs": [],
   "source": [
    "ysci_groups = owner_df.groupby([\"year\",\"state\",\"county\",\"image_url\"], as_index=False)"
   ]
  },
  {
   "cell_type": "code",
   "execution_count": 7,
   "metadata": {},
   "outputs": [],
   "source": [
    "all_images = []\n",
    "for cur_group, group_data in ysci_groups:\n",
    "    all_images.append(list(cur_group))"
   ]
  },
  {
   "cell_type": "code",
   "execution_count": 8,
   "metadata": {},
   "outputs": [],
   "source": [
    "image_df = pd.DataFrame(all_images, columns=['year','state','county','image_url'])"
   ]
  },
  {
   "cell_type": "code",
   "execution_count": 9,
   "metadata": {},
   "outputs": [
    {
     "data": {
      "text/html": [
       "<div>\n",
       "<style scoped>\n",
       "    .dataframe tbody tr th:only-of-type {\n",
       "        vertical-align: middle;\n",
       "    }\n",
       "\n",
       "    .dataframe tbody tr th {\n",
       "        vertical-align: top;\n",
       "    }\n",
       "\n",
       "    .dataframe thead th {\n",
       "        text-align: right;\n",
       "    }\n",
       "</style>\n",
       "<table border=\"1\" class=\"dataframe\">\n",
       "  <thead>\n",
       "    <tr style=\"text-align: right;\">\n",
       "      <th></th>\n",
       "      <th>year</th>\n",
       "      <th>state</th>\n",
       "      <th>county</th>\n",
       "      <th>image_url</th>\n",
       "    </tr>\n",
       "  </thead>\n",
       "  <tbody>\n",
       "    <tr>\n",
       "      <th>0</th>\n",
       "      <td>1850</td>\n",
       "      <td>Alabama</td>\n",
       "      <td>Autauga</td>\n",
       "      <td>http://textlab.econ.columbia.edu/~jjacobs/mtur...</td>\n",
       "    </tr>\n",
       "    <tr>\n",
       "      <th>1</th>\n",
       "      <td>1850</td>\n",
       "      <td>Alabama</td>\n",
       "      <td>Autauga</td>\n",
       "      <td>http://textlab.econ.columbia.edu/~jjacobs/mtur...</td>\n",
       "    </tr>\n",
       "    <tr>\n",
       "      <th>2</th>\n",
       "      <td>1850</td>\n",
       "      <td>Alabama</td>\n",
       "      <td>Autauga</td>\n",
       "      <td>http://textlab.econ.columbia.edu/~jjacobs/mtur...</td>\n",
       "    </tr>\n",
       "    <tr>\n",
       "      <th>3</th>\n",
       "      <td>1850</td>\n",
       "      <td>Alabama</td>\n",
       "      <td>Autauga</td>\n",
       "      <td>http://textlab.econ.columbia.edu/~jjacobs/mtur...</td>\n",
       "    </tr>\n",
       "    <tr>\n",
       "      <th>4</th>\n",
       "      <td>1850</td>\n",
       "      <td>Alabama</td>\n",
       "      <td>Autauga</td>\n",
       "      <td>http://textlab.econ.columbia.edu/~jjacobs/mtur...</td>\n",
       "    </tr>\n",
       "    <tr>\n",
       "      <th>...</th>\n",
       "      <td>...</td>\n",
       "      <td>...</td>\n",
       "      <td>...</td>\n",
       "      <td>...</td>\n",
       "    </tr>\n",
       "    <tr>\n",
       "      <th>24819</th>\n",
       "      <td>1860</td>\n",
       "      <td>Virginia</td>\n",
       "      <td>Westmoreland</td>\n",
       "      <td>http://textlab.econ.columbia.edu/~jjacobs/mtur...</td>\n",
       "    </tr>\n",
       "    <tr>\n",
       "      <th>24820</th>\n",
       "      <td>1860</td>\n",
       "      <td>Virginia</td>\n",
       "      <td>Westmoreland</td>\n",
       "      <td>http://textlab.econ.columbia.edu/~jjacobs/mtur...</td>\n",
       "    </tr>\n",
       "    <tr>\n",
       "      <th>24821</th>\n",
       "      <td>1860</td>\n",
       "      <td>Virginia</td>\n",
       "      <td>Westmoreland</td>\n",
       "      <td>http://textlab.econ.columbia.edu/~jjacobs/mtur...</td>\n",
       "    </tr>\n",
       "    <tr>\n",
       "      <th>24822</th>\n",
       "      <td>1860</td>\n",
       "      <td>Virginia</td>\n",
       "      <td>Westmoreland</td>\n",
       "      <td>http://textlab.econ.columbia.edu/~jjacobs/mtur...</td>\n",
       "    </tr>\n",
       "    <tr>\n",
       "      <th>24823</th>\n",
       "      <td>1860</td>\n",
       "      <td>Virginia</td>\n",
       "      <td>Westmoreland</td>\n",
       "      <td>http://textlab.econ.columbia.edu/~jjacobs/mtur...</td>\n",
       "    </tr>\n",
       "  </tbody>\n",
       "</table>\n",
       "<p>24824 rows × 4 columns</p>\n",
       "</div>"
      ],
      "text/plain": [
       "       year     state        county  \\\n",
       "0      1850   Alabama       Autauga   \n",
       "1      1850   Alabama       Autauga   \n",
       "2      1850   Alabama       Autauga   \n",
       "3      1850   Alabama       Autauga   \n",
       "4      1850   Alabama       Autauga   \n",
       "...     ...       ...           ...   \n",
       "24819  1860  Virginia  Westmoreland   \n",
       "24820  1860  Virginia  Westmoreland   \n",
       "24821  1860  Virginia  Westmoreland   \n",
       "24822  1860  Virginia  Westmoreland   \n",
       "24823  1860  Virginia  Westmoreland   \n",
       "\n",
       "                                               image_url  \n",
       "0      http://textlab.econ.columbia.edu/~jjacobs/mtur...  \n",
       "1      http://textlab.econ.columbia.edu/~jjacobs/mtur...  \n",
       "2      http://textlab.econ.columbia.edu/~jjacobs/mtur...  \n",
       "3      http://textlab.econ.columbia.edu/~jjacobs/mtur...  \n",
       "4      http://textlab.econ.columbia.edu/~jjacobs/mtur...  \n",
       "...                                                  ...  \n",
       "24819  http://textlab.econ.columbia.edu/~jjacobs/mtur...  \n",
       "24820  http://textlab.econ.columbia.edu/~jjacobs/mtur...  \n",
       "24821  http://textlab.econ.columbia.edu/~jjacobs/mtur...  \n",
       "24822  http://textlab.econ.columbia.edu/~jjacobs/mtur...  \n",
       "24823  http://textlab.econ.columbia.edu/~jjacobs/mtur...  \n",
       "\n",
       "[24824 rows x 4 columns]"
      ]
     },
     "execution_count": 9,
     "metadata": {},
     "output_type": "execute_result"
    }
   ],
   "source": [
    "image_df"
   ]
  },
  {
   "cell_type": "code",
   "execution_count": 10,
   "metadata": {},
   "outputs": [],
   "source": [
    "image_df.to_pickle(\"unique_images.pkl\")"
   ]
  },
  {
   "cell_type": "markdown",
   "metadata": {},
   "source": [
    "Now merge in the mturk results for each image"
   ]
  },
  {
   "cell_type": "code",
   "execution_count": 11,
   "metadata": {},
   "outputs": [],
   "source": [
    "hit_df = pd.read_stata(\"image_results.dta\")"
   ]
  },
  {
   "cell_type": "code",
   "execution_count": 12,
   "metadata": {},
   "outputs": [
    {
     "data": {
      "text/html": [
       "<div>\n",
       "<style scoped>\n",
       "    .dataframe tbody tr th:only-of-type {\n",
       "        vertical-align: middle;\n",
       "    }\n",
       "\n",
       "    .dataframe tbody tr th {\n",
       "        vertical-align: top;\n",
       "    }\n",
       "\n",
       "    .dataframe thead th {\n",
       "        text-align: right;\n",
       "    }\n",
       "</style>\n",
       "<table border=\"1\" class=\"dataframe\">\n",
       "  <thead>\n",
       "    <tr style=\"text-align: right;\">\n",
       "      <th></th>\n",
       "      <th>image_id</th>\n",
       "      <th>image_tags</th>\n",
       "      <th>num_yes</th>\n",
       "      <th>num_no</th>\n",
       "      <th>num_dontknow</th>\n",
       "      <th>image_url</th>\n",
       "      <th>origin_file</th>\n",
       "    </tr>\n",
       "  </thead>\n",
       "  <tbody>\n",
       "    <tr>\n",
       "      <th>0</th>\n",
       "      <td>1.0</td>\n",
       "      <td>2.0</td>\n",
       "      <td>0.0</td>\n",
       "      <td>2.0</td>\n",
       "      <td>0.0</td>\n",
       "      <td>http://textlab.econ.columbia.edu/~jjacobs/mtur...</td>\n",
       "      <td>./Results_2016-07-06/Batch_results_FINAL_known...</td>\n",
       "    </tr>\n",
       "    <tr>\n",
       "      <th>1</th>\n",
       "      <td>2.0</td>\n",
       "      <td>4.0</td>\n",
       "      <td>0.0</td>\n",
       "      <td>4.0</td>\n",
       "      <td>0.0</td>\n",
       "      <td>http://textlab.econ.columbia.edu/~jjacobs/mtur...</td>\n",
       "      <td>./Results_2016-07-06/Batch_results_FINAL_known...</td>\n",
       "    </tr>\n",
       "    <tr>\n",
       "      <th>2</th>\n",
       "      <td>3.0</td>\n",
       "      <td>2.0</td>\n",
       "      <td>0.0</td>\n",
       "      <td>2.0</td>\n",
       "      <td>0.0</td>\n",
       "      <td>http://textlab.econ.columbia.edu/~jjacobs/mtur...</td>\n",
       "      <td>./Results_2016-07-06/Batch_results_FINAL_known...</td>\n",
       "    </tr>\n",
       "    <tr>\n",
       "      <th>3</th>\n",
       "      <td>4.0</td>\n",
       "      <td>2.0</td>\n",
       "      <td>0.0</td>\n",
       "      <td>2.0</td>\n",
       "      <td>0.0</td>\n",
       "      <td>http://textlab.econ.columbia.edu/~jjacobs/mtur...</td>\n",
       "      <td>./Results_2016-07-06/Batch_results_FINAL_known...</td>\n",
       "    </tr>\n",
       "    <tr>\n",
       "      <th>4</th>\n",
       "      <td>5.0</td>\n",
       "      <td>2.0</td>\n",
       "      <td>0.0</td>\n",
       "      <td>2.0</td>\n",
       "      <td>0.0</td>\n",
       "      <td>http://textlab.econ.columbia.edu/~jjacobs/mtur...</td>\n",
       "      <td>./Results_2016-06-07/Batch_Results_Final_2016-...</td>\n",
       "    </tr>\n",
       "  </tbody>\n",
       "</table>\n",
       "</div>"
      ],
      "text/plain": [
       "   image_id  image_tags  num_yes  num_no  num_dontknow  \\\n",
       "0       1.0         2.0      0.0     2.0           0.0   \n",
       "1       2.0         4.0      0.0     4.0           0.0   \n",
       "2       3.0         2.0      0.0     2.0           0.0   \n",
       "3       4.0         2.0      0.0     2.0           0.0   \n",
       "4       5.0         2.0      0.0     2.0           0.0   \n",
       "\n",
       "                                           image_url  \\\n",
       "0  http://textlab.econ.columbia.edu/~jjacobs/mtur...   \n",
       "1  http://textlab.econ.columbia.edu/~jjacobs/mtur...   \n",
       "2  http://textlab.econ.columbia.edu/~jjacobs/mtur...   \n",
       "3  http://textlab.econ.columbia.edu/~jjacobs/mtur...   \n",
       "4  http://textlab.econ.columbia.edu/~jjacobs/mtur...   \n",
       "\n",
       "                                         origin_file  \n",
       "0  ./Results_2016-07-06/Batch_results_FINAL_known...  \n",
       "1  ./Results_2016-07-06/Batch_results_FINAL_known...  \n",
       "2  ./Results_2016-07-06/Batch_results_FINAL_known...  \n",
       "3  ./Results_2016-07-06/Batch_results_FINAL_known...  \n",
       "4  ./Results_2016-06-07/Batch_Results_Final_2016-...  "
      ]
     },
     "execution_count": 12,
     "metadata": {},
     "output_type": "execute_result"
    }
   ],
   "source": [
    "hit_df.head()"
   ]
  },
  {
   "cell_type": "code",
   "execution_count": 13,
   "metadata": {},
   "outputs": [],
   "source": [
    "merged_df = image_df.merge(hit_df, on=[\"image_url\"], how=\"left\", indicator=True)"
   ]
  },
  {
   "cell_type": "code",
   "execution_count": 14,
   "metadata": {},
   "outputs": [
    {
     "data": {
      "text/plain": [
       "both          23678\n",
       "left_only      1146\n",
       "right_only        0\n",
       "Name: _merge, dtype: int64"
      ]
     },
     "execution_count": 14,
     "metadata": {},
     "output_type": "execute_result"
    }
   ],
   "source": [
    "merged_df[\"_merge\"].value_counts()"
   ]
  },
  {
   "cell_type": "code",
   "execution_count": 15,
   "metadata": {},
   "outputs": [],
   "source": [
    "finished_df = merged_df[merged_df[\"_merge\"] == \"both\"].copy()"
   ]
  },
  {
   "cell_type": "code",
   "execution_count": 16,
   "metadata": {},
   "outputs": [],
   "source": [
    "finished_df.drop(columns=['image_id','origin_file','_merge'], inplace=True)"
   ]
  },
  {
   "cell_type": "code",
   "execution_count": 17,
   "metadata": {},
   "outputs": [],
   "source": [
    "finished_df.rename(columns={'image_tags':'num_tags'}, inplace=True)"
   ]
  },
  {
   "cell_type": "code",
   "execution_count": 18,
   "metadata": {},
   "outputs": [],
   "source": [
    "finished_df.to_csv(\"page_tags_finished.csv\", index=False)"
   ]
  },
  {
   "cell_type": "code",
   "execution_count": 19,
   "metadata": {},
   "outputs": [],
   "source": [
    "full_df = merged_df.drop(columns=['image_id','origin_file','_merge'])"
   ]
  },
  {
   "cell_type": "code",
   "execution_count": 20,
   "metadata": {},
   "outputs": [],
   "source": [
    "full_df.rename(columns={'image_tags':'num_tags'}, inplace=True)"
   ]
  },
  {
   "cell_type": "code",
   "execution_count": 21,
   "metadata": {},
   "outputs": [],
   "source": [
    "full_df.to_csv(\"page_tags.csv\", index=False)"
   ]
  },
  {
   "cell_type": "code",
   "execution_count": 22,
   "metadata": {},
   "outputs": [],
   "source": [
    "full_df['num_tags'] = full_df['num_tags'].fillna(0)\n",
    "full_df['num_yes'] = full_df['num_yes'].fillna(0)\n",
    "full_df['num_no'] = full_df['num_no'].fillna(0)\n",
    "full_df['num_dontknow'] = full_df['num_dontknow'].fillna(0)"
   ]
  },
  {
   "cell_type": "code",
   "execution_count": 23,
   "metadata": {},
   "outputs": [
    {
     "data": {
      "text/plain": [
       "(array([], dtype=int64),)"
      ]
     },
     "execution_count": 23,
     "metadata": {},
     "output_type": "execute_result"
    }
   ],
   "source": [
    "np.where(np.isnan(full_df['num_yes']))"
   ]
  },
  {
   "cell_type": "code",
   "execution_count": 24,
   "metadata": {},
   "outputs": [],
   "source": [
    "# Plurality voting\n",
    "def get_vote_full(img_row):\n",
    "    #print(img_row)\n",
    "    num_yes = img_row['num_yes']\n",
    "    num_no = img_row['num_no']\n",
    "    num_dk = img_row['num_dontknow']\n",
    "    # Absolute winners\n",
    "    if (num_yes > num_no) and (num_yes > num_dk):\n",
    "        # yes beats both\n",
    "        return \"yes\"\n",
    "    elif (num_no > num_yes) and (num_no > num_dk):\n",
    "        # no beats both\n",
    "        return \"no\"\n",
    "    elif (num_dk > num_yes) and (num_dk > num_no):\n",
    "        # don't know beats both\n",
    "        return \"don't know\"\n",
    "    elif num_yes == num_no and num_yes == num_dk:\n",
    "        # all tie\n",
    "        return \"don't know\"\n",
    "    elif num_yes == num_no and num_yes > num_dk:\n",
    "        # yes-no tie for win\n",
    "        return \"don't know\"\n",
    "    elif num_yes == num_dk and num_yes > num_no:\n",
    "        # yes-dk tie for win\n",
    "        return \"yes\"\n",
    "    elif num_no == num_dk and num_no > num_yes:\n",
    "        # no-dk tie for win\n",
    "        return \"no\"\n",
    "    else:\n",
    "        print(num_yes, num_no, num_dk)\n",
    "def get_vote_simple(img_row):\n",
    "    # Simpler version: ignore the don't knows, then just do majority yes v no\n",
    "    num_yes = img_row['num_yes']\n",
    "    num_no = img_row['num_no']\n",
    "    if num_yes > num_no:\n",
    "        return \"yes\"\n",
    "    elif num_no > num_yes:\n",
    "        return \"no\"\n",
    "    else:\n",
    "        return \"don't know\"\n",
    "page_counts = finished_df.groupby(['year','state','county'])['image_url'].agg('count')\n",
    "votes_full = full_df.apply(get_vote_full, axis=1)\n",
    "votes_simple = full_df.apply(get_vote_simple, axis=1)"
   ]
  },
  {
   "cell_type": "code",
   "execution_count": 25,
   "metadata": {},
   "outputs": [
    {
     "data": {
      "text/plain": [
       "no            14554\n",
       "yes            6375\n",
       "don't know     3895\n",
       "dtype: int64"
      ]
     },
     "execution_count": 25,
     "metadata": {},
     "output_type": "execute_result"
    }
   ],
   "source": [
    "votes_full.value_counts()"
   ]
  },
  {
   "cell_type": "code",
   "execution_count": 26,
   "metadata": {},
   "outputs": [
    {
     "data": {
      "text/plain": [
       "no            14559\n",
       "yes            6376\n",
       "don't know     3889\n",
       "dtype: int64"
      ]
     },
     "execution_count": 26,
     "metadata": {},
     "output_type": "execute_result"
    }
   ],
   "source": [
    "votes_simple.value_counts()"
   ]
  },
  {
   "cell_type": "code",
   "execution_count": 27,
   "metadata": {},
   "outputs": [],
   "source": [
    "full_df['simple_vote'] = full_df.apply(get_vote_simple, axis=1)"
   ]
  },
  {
   "cell_type": "code",
   "execution_count": 28,
   "metadata": {},
   "outputs": [],
   "source": [
    "num_sheets = finished_df.groupby(['year','state','county']).image_url.count()"
   ]
  },
  {
   "cell_type": "code",
   "execution_count": 29,
   "metadata": {},
   "outputs": [],
   "source": [
    "no_votes = full_df.groupby(['year','state','county']).apply(lambda x: sum(x['simple_vote'] == 'no'))\n",
    "yes_votes = full_df.groupby(['year','state','county']).apply(lambda x: sum(x['simple_vote'] == 'yes'))\n",
    "dk_votes = full_df.groupby(['year','state','county']).apply(lambda x: sum(x['simple_vote'] == \"don't know\"))"
   ]
  },
  {
   "cell_type": "code",
   "execution_count": 30,
   "metadata": {},
   "outputs": [],
   "source": [
    "full_df['page_count'] = 1"
   ]
  },
  {
   "cell_type": "code",
   "execution_count": 31,
   "metadata": {},
   "outputs": [],
   "source": [
    "plz_df = full_df.groupby(['year','state','county']).agg('sum')"
   ]
  },
  {
   "cell_type": "code",
   "execution_count": 32,
   "metadata": {},
   "outputs": [],
   "source": [
    "plz_df['no_pages'] = no_votes\n",
    "plz_df['yes_pages'] = yes_votes\n",
    "plz_df['dontknow_pages'] = dk_votes"
   ]
  },
  {
   "cell_type": "code",
   "execution_count": 33,
   "metadata": {},
   "outputs": [],
   "source": [
    "plz_df = plz_df.drop(columns=['num_tags','num_yes','num_no','num_dontknow'])"
   ]
  },
  {
   "cell_type": "code",
   "execution_count": 34,
   "metadata": {},
   "outputs": [],
   "source": [
    "plz_df.rename(columns={'simple_vote':'total_pages'},inplace=True)"
   ]
  },
  {
   "cell_type": "code",
   "execution_count": 38,
   "metadata": {},
   "outputs": [
    {
     "data": {
      "text/html": [
       "<div>\n",
       "<style scoped>\n",
       "    .dataframe tbody tr th:only-of-type {\n",
       "        vertical-align: middle;\n",
       "    }\n",
       "\n",
       "    .dataframe tbody tr th {\n",
       "        vertical-align: top;\n",
       "    }\n",
       "\n",
       "    .dataframe thead th {\n",
       "        text-align: right;\n",
       "    }\n",
       "</style>\n",
       "<table border=\"1\" class=\"dataframe\">\n",
       "  <thead>\n",
       "    <tr style=\"text-align: right;\">\n",
       "      <th></th>\n",
       "      <th>year</th>\n",
       "      <th>state</th>\n",
       "      <th>county</th>\n",
       "      <th>page_count</th>\n",
       "      <th>no_pages</th>\n",
       "      <th>yes_pages</th>\n",
       "      <th>dontknow_pages</th>\n",
       "    </tr>\n",
       "  </thead>\n",
       "  <tbody>\n",
       "    <tr>\n",
       "      <th>0</th>\n",
       "      <td>1850</td>\n",
       "      <td>Alabama</td>\n",
       "      <td>Autauga</td>\n",
       "      <td>17</td>\n",
       "      <td>13</td>\n",
       "      <td>1</td>\n",
       "      <td>3</td>\n",
       "    </tr>\n",
       "    <tr>\n",
       "      <th>1</th>\n",
       "      <td>1850</td>\n",
       "      <td>Alabama</td>\n",
       "      <td>Baldwin</td>\n",
       "      <td>2</td>\n",
       "      <td>0</td>\n",
       "      <td>0</td>\n",
       "      <td>2</td>\n",
       "    </tr>\n",
       "    <tr>\n",
       "      <th>2</th>\n",
       "      <td>1850</td>\n",
       "      <td>Alabama</td>\n",
       "      <td>Barbour</td>\n",
       "      <td>6</td>\n",
       "      <td>5</td>\n",
       "      <td>0</td>\n",
       "      <td>1</td>\n",
       "    </tr>\n",
       "    <tr>\n",
       "      <th>3</th>\n",
       "      <td>1850</td>\n",
       "      <td>Alabama</td>\n",
       "      <td>Butler</td>\n",
       "      <td>4</td>\n",
       "      <td>3</td>\n",
       "      <td>0</td>\n",
       "      <td>1</td>\n",
       "    </tr>\n",
       "    <tr>\n",
       "      <th>4</th>\n",
       "      <td>1850</td>\n",
       "      <td>Alabama</td>\n",
       "      <td>Chambers</td>\n",
       "      <td>7</td>\n",
       "      <td>2</td>\n",
       "      <td>5</td>\n",
       "      <td>0</td>\n",
       "    </tr>\n",
       "    <tr>\n",
       "      <th>...</th>\n",
       "      <td>...</td>\n",
       "      <td>...</td>\n",
       "      <td>...</td>\n",
       "      <td>...</td>\n",
       "      <td>...</td>\n",
       "      <td>...</td>\n",
       "      <td>...</td>\n",
       "    </tr>\n",
       "    <tr>\n",
       "      <th>792</th>\n",
       "      <td>1860</td>\n",
       "      <td>Virginia</td>\n",
       "      <td>Surry</td>\n",
       "      <td>21</td>\n",
       "      <td>15</td>\n",
       "      <td>0</td>\n",
       "      <td>6</td>\n",
       "    </tr>\n",
       "    <tr>\n",
       "      <th>793</th>\n",
       "      <td>1860</td>\n",
       "      <td>Virginia</td>\n",
       "      <td>Sussex</td>\n",
       "      <td>12</td>\n",
       "      <td>12</td>\n",
       "      <td>0</td>\n",
       "      <td>0</td>\n",
       "    </tr>\n",
       "    <tr>\n",
       "      <th>794</th>\n",
       "      <td>1860</td>\n",
       "      <td>Virginia</td>\n",
       "      <td>Warwick</td>\n",
       "      <td>11</td>\n",
       "      <td>6</td>\n",
       "      <td>0</td>\n",
       "      <td>5</td>\n",
       "    </tr>\n",
       "    <tr>\n",
       "      <th>795</th>\n",
       "      <td>1860</td>\n",
       "      <td>Virginia</td>\n",
       "      <td>Washington</td>\n",
       "      <td>2</td>\n",
       "      <td>0</td>\n",
       "      <td>0</td>\n",
       "      <td>2</td>\n",
       "    </tr>\n",
       "    <tr>\n",
       "      <th>796</th>\n",
       "      <td>1860</td>\n",
       "      <td>Virginia</td>\n",
       "      <td>Westmoreland</td>\n",
       "      <td>31</td>\n",
       "      <td>22</td>\n",
       "      <td>1</td>\n",
       "      <td>8</td>\n",
       "    </tr>\n",
       "  </tbody>\n",
       "</table>\n",
       "<p>797 rows × 7 columns</p>\n",
       "</div>"
      ],
      "text/plain": [
       "     year     state        county  page_count  no_pages  yes_pages  \\\n",
       "0    1850   Alabama       Autauga          17        13          1   \n",
       "1    1850   Alabama       Baldwin           2         0          0   \n",
       "2    1850   Alabama       Barbour           6         5          0   \n",
       "3    1850   Alabama        Butler           4         3          0   \n",
       "4    1850   Alabama      Chambers           7         2          5   \n",
       "..    ...       ...           ...         ...       ...        ...   \n",
       "792  1860  Virginia         Surry          21        15          0   \n",
       "793  1860  Virginia        Sussex          12        12          0   \n",
       "794  1860  Virginia       Warwick          11         6          0   \n",
       "795  1860  Virginia    Washington           2         0          0   \n",
       "796  1860  Virginia  Westmoreland          31        22          1   \n",
       "\n",
       "     dontknow_pages  \n",
       "0                 3  \n",
       "1                 2  \n",
       "2                 1  \n",
       "3                 1  \n",
       "4                 0  \n",
       "..              ...  \n",
       "792               6  \n",
       "793               0  \n",
       "794               5  \n",
       "795               2  \n",
       "796               8  \n",
       "\n",
       "[797 rows x 7 columns]"
      ]
     },
     "execution_count": 38,
     "metadata": {},
     "output_type": "execute_result"
    }
   ],
   "source": [
    "plz_df.reset_index(inplace=True)\n",
    "plz_df"
   ]
  },
  {
   "cell_type": "code",
   "execution_count": 39,
   "metadata": {},
   "outputs": [],
   "source": [
    "plz_df.to_csv(\"year_county_tags.csv\", index=False)"
   ]
  },
  {
   "cell_type": "code",
   "execution_count": 37,
   "metadata": {},
   "outputs": [
    {
     "data": {
      "text/html": [
       "<div>\n",
       "<style scoped>\n",
       "    .dataframe tbody tr th:only-of-type {\n",
       "        vertical-align: middle;\n",
       "    }\n",
       "\n",
       "    .dataframe tbody tr th {\n",
       "        vertical-align: top;\n",
       "    }\n",
       "\n",
       "    .dataframe thead th {\n",
       "        text-align: right;\n",
       "    }\n",
       "</style>\n",
       "<table border=\"1\" class=\"dataframe\">\n",
       "  <thead>\n",
       "    <tr style=\"text-align: right;\">\n",
       "      <th></th>\n",
       "      <th>page_count</th>\n",
       "      <th>no_pages</th>\n",
       "      <th>yes_pages</th>\n",
       "      <th>dontknow_pages</th>\n",
       "    </tr>\n",
       "  </thead>\n",
       "  <tbody>\n",
       "    <tr>\n",
       "      <th>count</th>\n",
       "      <td>797.000000</td>\n",
       "      <td>797.000000</td>\n",
       "      <td>797.000000</td>\n",
       "      <td>797.000000</td>\n",
       "    </tr>\n",
       "    <tr>\n",
       "      <th>mean</th>\n",
       "      <td>31.146801</td>\n",
       "      <td>18.267252</td>\n",
       "      <td>8.000000</td>\n",
       "      <td>4.879548</td>\n",
       "    </tr>\n",
       "    <tr>\n",
       "      <th>std</th>\n",
       "      <td>49.187824</td>\n",
       "      <td>32.438192</td>\n",
       "      <td>19.847091</td>\n",
       "      <td>8.786727</td>\n",
       "    </tr>\n",
       "    <tr>\n",
       "      <th>min</th>\n",
       "      <td>1.000000</td>\n",
       "      <td>0.000000</td>\n",
       "      <td>0.000000</td>\n",
       "      <td>0.000000</td>\n",
       "    </tr>\n",
       "    <tr>\n",
       "      <th>25%</th>\n",
       "      <td>6.000000</td>\n",
       "      <td>2.000000</td>\n",
       "      <td>0.000000</td>\n",
       "      <td>1.000000</td>\n",
       "    </tr>\n",
       "    <tr>\n",
       "      <th>50%</th>\n",
       "      <td>16.000000</td>\n",
       "      <td>8.000000</td>\n",
       "      <td>1.000000</td>\n",
       "      <td>2.000000</td>\n",
       "    </tr>\n",
       "    <tr>\n",
       "      <th>75%</th>\n",
       "      <td>39.000000</td>\n",
       "      <td>22.000000</td>\n",
       "      <td>7.000000</td>\n",
       "      <td>6.000000</td>\n",
       "    </tr>\n",
       "    <tr>\n",
       "      <th>max</th>\n",
       "      <td>697.000000</td>\n",
       "      <td>508.000000</td>\n",
       "      <td>237.000000</td>\n",
       "      <td>90.000000</td>\n",
       "    </tr>\n",
       "  </tbody>\n",
       "</table>\n",
       "</div>"
      ],
      "text/plain": [
       "       page_count    no_pages   yes_pages  dontknow_pages\n",
       "count  797.000000  797.000000  797.000000      797.000000\n",
       "mean    31.146801   18.267252    8.000000        4.879548\n",
       "std     49.187824   32.438192   19.847091        8.786727\n",
       "min      1.000000    0.000000    0.000000        0.000000\n",
       "25%      6.000000    2.000000    0.000000        1.000000\n",
       "50%     16.000000    8.000000    1.000000        2.000000\n",
       "75%     39.000000   22.000000    7.000000        6.000000\n",
       "max    697.000000  508.000000  237.000000       90.000000"
      ]
     },
     "execution_count": 37,
     "metadata": {},
     "output_type": "execute_result"
    }
   ],
   "source": [
    "plz_df.describe()"
   ]
  },
  {
   "cell_type": "code",
   "execution_count": null,
   "metadata": {},
   "outputs": [],
   "source": []
  },
  {
   "cell_type": "code",
   "execution_count": null,
   "metadata": {},
   "outputs": [],
   "source": []
  },
  {
   "cell_type": "code",
   "execution_count": 117,
   "metadata": {},
   "outputs": [],
   "source": [
    "sheets_df['no_votes'] = no_votes"
   ]
  },
  {
   "cell_type": "code",
   "execution_count": 118,
   "metadata": {},
   "outputs": [
    {
     "data": {
      "text/plain": [
       "year      state     county      \n",
       "1850      Alabama   Autauga          15\n",
       "                    Baldwin           2\n",
       "                    Barbour           6\n",
       "                    Butler            3\n",
       "                    Chambers          7\n",
       "                                   ... \n",
       "1860      Virginia  Sussex           12\n",
       "                    Warwick          10\n",
       "                    Washington        2\n",
       "                    Westmoreland     29\n",
       "no_votes                            NaN\n",
       "Name: image_url, Length: 798, dtype: object"
      ]
     },
     "execution_count": 118,
     "metadata": {},
     "output_type": "execute_result"
    }
   ],
   "source": [
    "sheets_df"
   ]
  },
  {
   "cell_type": "code",
   "execution_count": null,
   "metadata": {},
   "outputs": [],
   "source": []
  }
 ],
 "metadata": {
  "kernelspec": {
   "display_name": "Python 3",
   "language": "python",
   "name": "python3"
  },
  "language_info": {
   "codemirror_mode": {
    "name": "ipython",
    "version": 3
   },
   "file_extension": ".py",
   "mimetype": "text/x-python",
   "name": "python",
   "nbconvert_exporter": "python",
   "pygments_lexer": "ipython3",
   "version": "3.7.3"
  }
 },
 "nbformat": 4,
 "nbformat_minor": 4
}
