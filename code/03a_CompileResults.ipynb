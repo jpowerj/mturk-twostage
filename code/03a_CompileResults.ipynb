{
 "cells": [
  {
   "cell_type": "code",
   "execution_count": 2,
   "id": "5bc8e2da-501b-4ad1-8aeb-3f4640fd99fe",
   "metadata": {
    "tags": []
   },
   "outputs": [],
   "source": [
    "%load_ext autoreload\n",
    "%autoreload 2"
   ]
  },
  {
   "cell_type": "code",
   "execution_count": 3,
   "id": "83d38808-59f6-4a5c-a388-505fcdf642a6",
   "metadata": {
    "tags": []
   },
   "outputs": [],
   "source": [
    "import datetime\n",
    "\n",
    "import pandas as pd\n",
    "import numpy as np\n",
    "import statsmodels.formula.api as smf\n",
    "import tqdm\n",
    "\n",
    "import mtglobals"
   ]
  },
  {
   "cell_type": "code",
   "execution_count": 4,
   "id": "b916cc6d-f822-45c5-88d4-675a13c2a0b8",
   "metadata": {
    "tags": []
   },
   "outputs": [
    {
     "name": "stdout",
     "output_type": "stream",
     "text": [
      "Your account balance is 498885.58\n"
     ]
    }
   ],
   "source": [
    "client, mt_env = mtglobals.gen_client()"
   ]
  },
  {
   "cell_type": "markdown",
   "id": "f3b7db04-d5c8-44a8-8b33-88dbf6fafb77",
   "metadata": {},
   "source": [
    "### (a) Get all HITs since `date_cutoff`"
   ]
  },
  {
   "cell_type": "code",
   "execution_count": 5,
   "id": "19e78014-6dc1-411e-9778-158488ee291b",
   "metadata": {
    "tags": []
   },
   "outputs": [
    {
     "name": "stdout",
     "output_type": "stream",
     "text": [
      "Downloading list of hits from 2021-10-01 00:00:00 to 2022-02-04 12:48:17.035716-07:53 (to ../results_2stage/all_hit_data.pkl)\n",
      "p2:WabWAzJp7PrhioSDhGdHSyIKP3gPdpTdRYmaOq2h1A44UWANXHyeitJcayDTLrY=\n",
      "p2:mWhVIdbT15DUDx7FZiJBtx3f5GIeXIe9ARI0HkzUNFyZQ5Fa+WgcknU4reoQVPA=\n",
      "p2:aOhhgH1dfOYgFHvA1CXvU2NUEnBEUR2RtQSZANXoD1YTVEvAsFFRmbsdFNrn4jg=\n",
      "p2:Mgi3sQEx16r07deejZZutjqZcUlcKDRjDGNmRBWC67vxmxRuJDeYEa2qj+phpng=\n",
      "p2:BKZd6kLUhZUwgZiD051XmAN52/0WrkblmO3jlOgaqpdKLz0FoP0r9JbkgbexJ60=\n",
      "p2:WdzBCKZ+DJZCloxvp0ytgCWrRMzs+GYfpUbm95f9Dp+RcEL73+H7E8NrHu98PJI=\n",
      "p2:80Y9NDRUuPNbDF+QBcbNyY26aTw89oogAT/Nel723kS1y9LoTos4iEM82pp9/F4=\n",
      "p2:bb/e9wHnFt0mfumEqJT2mZ6FMnGuAjo1DV8eBIBNLJxO7P0D2mOkpQETeoU258I=\n",
      "p2:NA5I3d+kPVGZUvBaEN0LIqgwh1RiMTFMEWZqBhy4xgl6KSyox9Qd5f9W4AAhvSHt\n",
      "p2:mShJXqWcYsCvdYLUGtLdmwFKctBOZ47E8pkSGZk1HUiAlhx/VbvWuz31awJp1naH\n",
      "p2:iSnBz5E+4mosqG3khjFDRbpoREDV0fSjUm0fWnQFD7QzOADwobzSs3/muJFyfHWw\n",
      "p2:0XfpUCNUPaYtJvN1jWu1glMqVVWI70YhEXvZYSMsEUgGjujKjsuma69b92zCzxat\n",
      "p2:Wx9o+5quU7sM3EFlcuq1RrMoTTonROlVf6qzi1QOAiqr3CCyU/T4cjAS6r8rW20o\n",
      "p2:WS+KixxC4nTj81fZV67ZszdujEGTc/yJ2Fn3oqcln34J0griK0uNULanprO+/YBR\n",
      "p2:7/M4EkeDkMRAOevw46yDYdTYPLslY/T//w3lkE33p9zQOvJSxVp9xYbsw62aMPmU\n",
      "p2:ycUr+FAaDylPx+o6M2lP4ztA2AZzvr9oL0ZIHdyppdl8y3GKzW74vk4nEQ3WmQzi\n",
      "p2:2l74pwp//DZV6VSoS2NFGMaujvoO058d/O4OYD9WVnR5smev7TWMxFnjobehJqXq\n",
      "p2:fZI/heekC9ye8skvWsoJouMM+Ioas3VaM1R8XHBoSbqU8hPeJ5NEg1FSf0BV4owb\n",
      "p2:MFmECBQ+qm+RoYRE2kFY0n5Fbz2lu5sTAmNw1ZLm+AnjMxkL2rDc43TGZIZXer02\n",
      "p2:YY81i+bGJSpFfjh0lxlIOvdzUyixzFrUU3MpynYAkboPKDe4g2vpteJQXptjRl2z\n",
      "p2:0bmL6EdnQiwCL5PJFwn8+N8/z9QMPC6G/6MJPvsHctH4dWEgdewYW3I4HK/ziRSp\n",
      "p2:JyynAzV2/PgTh1yb2W95FgpYEdnDlBzsJ2deSdW3q4BuGJEvdZweuqXNDKJOFs7I\n",
      "p2:t+Rh/KWHeMAoQ/J4l3jqEbUVsbiHJ16N/t5YAd6eS0dyD94rjJgbn2ehxa95p9/J\n",
      "p2:vTAPiaZH0057pfPWokAbCIHRrl+INyd6N6y8PClP3Q1LcUnIb80XL9hwJu/KN7N4\n",
      "p2:RHNeO6tXmQNootHHyw/Ou5ZpFoxsUd5RcrNKbSSjYaT/hEwH1wHOvSrSZtYUDJKE\n",
      "p2:KFKEiUdBdjLdH/S5IOgAaoFJjVbsxjGWPP1jmGK05hokZnAwIr74WOjk6YvLakYI\n",
      "p2:Ph+BnWVt/7yD+HMi6rHpodQEpmifAzRqIXd0JFI+afrmJAVSSortaP4mPEWpkWu/\n",
      "p2:IkVURMHLphh0dof74OFfszUsa2F2q0BUkb/GeCvzFzVHTlsCcR5YWYXKvDX7oMnj\n",
      "p2:RnsCKgm/ndFP41wMVQQOSSSbsnqs6sjkdYLpL5iFX3IgxpXzzZ15a/9xjWTJgxLX\n",
      "p2:sF7J4aD15zktxSAdh0QbWi3AtLhTOicvy9cpXZsAiA8Mp6++w4NCoLpRb+gPBWwW\n",
      "p2:NtlhuqF2OybyAnkA0Tt4ZMptBFJTncY7HgoFI4QN/W79Wff8WN94E3joMT1fFGfV\n",
      "p2:5OJYM90PEOHo4DJ73U7owK8IYDm/TVIUT3DonhxMWrsxgqw9scGjBRMq+K6SEZD5\n",
      "p2:xrN6aR0BxWc4dcGuTi9OEqDm4/icccEcjPWmXqSpJVffrlSlUswD9vBjaMBTqeRN\n",
      "p2:wgIrR2AQJP4FEnw/1TgiMM8s8fo/m2o6p+eEbXT8egQyPWW0c6jgbxGRVW3jF5I5\n",
      "p2:SAv2z2v2t9H/qYBYj1bADG17f6/HhUGn3OzSnYPUMbGzir4F/cOzMI7Osyq5tPcD\n"
     ]
    }
   ],
   "source": [
    "# Get the list of HITs you want to compile\n",
    "date_cutoff = datetime.datetime(2021,10,1)\n",
    "all_hits = mtglobals.download_all_hits(client, start_cutoff=date_cutoff)"
   ]
  },
  {
   "cell_type": "code",
   "execution_count": 6,
   "id": "04486151-b9dd-4a02-935a-7b99b9e35a5c",
   "metadata": {
    "tags": []
   },
   "outputs": [
    {
     "data": {
      "text/plain": [
       "3463"
      ]
     },
     "execution_count": 6,
     "metadata": {},
     "output_type": "execute_result"
    }
   ],
   "source": [
    "len(all_hits)"
   ]
  },
  {
   "cell_type": "markdown",
   "id": "a9df9eb1-b364-4377-b149-66ee5bb336e4",
   "metadata": {},
   "source": [
    "### (b) Specify the quals for each run you want to include in the compiled results"
   ]
  },
  {
   "cell_type": "code",
   "execution_count": 7,
   "id": "6df50784-d8cd-4a39-a8a5-ee3633c67da7",
   "metadata": {
    "tags": []
   },
   "outputs": [],
   "source": [
    " qual_names = ['Workplace_Survey_Custom06','Workplace_Survey_Custom07',\n",
    "               'Workplace_Survey_Custom08','Workplace_Survey_Custom09',\n",
    "               'Workplace_Survey_Custom10','Workplace_Survey_Custom11',\n",
    "               'Workplace_Survey_Custom12','Workplace_Survey_Custom13',\n",
    "               'Workplace_Survey_Custom14']\n",
    "#qual_names = ['Workplace_Survey_Custom12']"
   ]
  },
  {
   "cell_type": "code",
   "execution_count": 8,
   "id": "6fb9a80b-245e-4a5c-8077-16c4e141c14c",
   "metadata": {
    "tags": []
   },
   "outputs": [],
   "source": [
    "all_worker_ids = []\n",
    "for cur_qual_name in qual_names:\n",
    "    worker_ids = mtglobals.get_workers_with_qual(client, cur_qual_name)\n",
    "    all_worker_ids.extend(worker_ids)"
   ]
  },
  {
   "cell_type": "code",
   "execution_count": 9,
   "id": "0717c887-c10a-4679-8d20-d14cc6cc6541",
   "metadata": {
    "tags": []
   },
   "outputs": [
    {
     "data": {
      "text/plain": [
       "3016"
      ]
     },
     "execution_count": 9,
     "metadata": {},
     "output_type": "execute_result"
    }
   ],
   "source": [
    "len(all_worker_ids)"
   ]
  },
  {
   "cell_type": "markdown",
   "id": "b15839af-038d-40d2-b223-31232cc3ab12",
   "metadata": {},
   "source": [
    "### (c) Get the HITs for each worker across the quals from the previous step"
   ]
  },
  {
   "cell_type": "code",
   "execution_count": 10,
   "id": "c65c4e38-75f7-4000-9738-0ff639c69d47",
   "metadata": {
    "tags": []
   },
   "outputs": [],
   "source": [
    "# (worker_id, hit) tuples\n",
    "worker_tuples = [(wid, mtglobals.get_hit_for_worker(all_hits, wid)) for wid in all_worker_ids]"
   ]
  },
  {
   "cell_type": "code",
   "execution_count": 11,
   "id": "ba007c55-8a66-4748-bc3e-1e24129bcc14",
   "metadata": {
    "tags": []
   },
   "outputs": [
    {
     "name": "stderr",
     "output_type": "stream",
     "text": [
      "100%|██████████| 3016/3016 [00:00<00:00, 88706.09it/s]\n"
     ]
    }
   ],
   "source": [
    "all_submit_info = []\n",
    "for cur_tuple in tqdm.tqdm(worker_tuples):\n",
    "    worker_id = cur_tuple[0]\n",
    "    cur_hit = cur_tuple[1]\n",
    "    hit_id = cur_hit['HITId']\n",
    "    reward = cur_hit['Reward']\n",
    "    num_avail = cur_hit['NumberOfAssignmentsAvailable']\n",
    "    creation = cur_hit['CreationTime']\n",
    "    # Convert to non-tz\n",
    "    creation_naive = creation.replace(tzinfo=None)\n",
    "    # 1 - this is a 0/1 accepted vs. not accepted\n",
    "    accepted = 1 - num_avail\n",
    "    #print(f\"Processing {hit_id}, {reward}\")\n",
    "    submit_info = {'worker_id':worker_id, 'wage':reward, 'accepted':accepted,\n",
    "                   'stage2_creation':creation_naive, 'stage2_creation_str':str(creation)}\n",
    "    all_submit_info.append(submit_info)"
   ]
  },
  {
   "cell_type": "code",
   "execution_count": 12,
   "id": "b26c79ec-4e2f-4c73-b56c-319beb39e90b",
   "metadata": {
    "tags": []
   },
   "outputs": [],
   "source": [
    "#cur_hit"
   ]
  },
  {
   "cell_type": "code",
   "execution_count": 13,
   "id": "f7c74488-e0c3-4721-a148-83d6fa1650c3",
   "metadata": {
    "tags": []
   },
   "outputs": [
    {
     "data": {
      "text/plain": [
       "{'worker_id': 'A1AHWC9TUBF2Z4',\n",
       " 'wage': '1.50',\n",
       " 'accepted': 0,\n",
       " 'stage2_creation': datetime.datetime(2021, 12, 8, 19, 16, 16),\n",
       " 'stage2_creation_str': '2021-12-08 19:16:16-08:00'}"
      ]
     },
     "execution_count": 13,
     "metadata": {},
     "output_type": "execute_result"
    }
   ],
   "source": [
    "all_submit_info[0]"
   ]
  },
  {
   "cell_type": "markdown",
   "id": "695d12d0-0de6-4513-b8f8-9a9e7fc3147a",
   "metadata": {},
   "source": [
    "### (d) Transform the downloaded data into .dta form for regression"
   ]
  },
  {
   "cell_type": "code",
   "execution_count": 15,
   "id": "2a80ec2e-35f1-4450-aa93-557c8e18eb2f",
   "metadata": {
    "tags": []
   },
   "outputs": [],
   "source": [
    "# Transform this into a .dta for regression\n",
    "accepted_df = pd.DataFrame(all_submit_info)"
   ]
  },
  {
   "cell_type": "code",
   "execution_count": 16,
   "id": "ed871f06-1445-4253-bb43-78edcd9122ef",
   "metadata": {},
   "outputs": [
    {
     "data": {
      "text/plain": [
       "3016"
      ]
     },
     "execution_count": 16,
     "metadata": {},
     "output_type": "execute_result"
    }
   ],
   "source": [
    "len(accepted_df)"
   ]
  },
  {
   "cell_type": "code",
   "execution_count": 17,
   "id": "7adf5c0e-c9c8-454c-9b40-0e629e4e0b35",
   "metadata": {
    "tags": []
   },
   "outputs": [],
   "source": [
    "accepted_df['lwage'] = accepted_df['wage'].apply(lambda x: np.log(float(x)))"
   ]
  },
  {
   "cell_type": "code",
   "execution_count": 19,
   "id": "893d6907-1550-4e0d-8d63-eef4b4d511c0",
   "metadata": {
    "tags": []
   },
   "outputs": [
    {
     "name": "stdout",
     "output_type": "stream",
     "text": [
      "                            OLS Regression Results                            \n",
      "==============================================================================\n",
      "Dep. Variable:               accepted   R-squared:                       0.004\n",
      "Model:                            OLS   Adj. R-squared:                  0.004\n",
      "Method:                 Least Squares   F-statistic:                     11.61\n",
      "Date:                Fri, 04 Feb 2022   Prob (F-statistic):           0.000666\n",
      "Time:                        12:52:29   Log-Likelihood:                -1823.8\n",
      "No. Observations:                3016   AIC:                             3652.\n",
      "Df Residuals:                    3014   BIC:                             3664.\n",
      "Df Model:                           1                                         \n",
      "Covariance Type:                  HC1                                         \n",
      "==============================================================================\n",
      "                 coef    std err          z      P>|z|      [0.025      0.975]\n",
      "------------------------------------------------------------------------------\n",
      "Intercept      0.7331      0.008     90.876      0.000       0.717       0.749\n",
      "lwage          0.1119      0.033      3.407      0.001       0.048       0.176\n",
      "==============================================================================\n",
      "Omnibus:                      814.437   Durbin-Watson:                   1.911\n",
      "Prob(Omnibus):                  0.000   Jarque-Bera (JB):              639.704\n",
      "Skew:                          -1.031   Prob(JB):                    1.23e-139\n",
      "Kurtosis:                       2.085   Cond. No.                         3.91\n",
      "==============================================================================\n",
      "\n",
      "Notes:\n",
      "[1] Standard Errors are heteroscedasticity robust (HC1)\n"
     ]
    }
   ],
   "source": [
    "reg_result = smf.ols(formula='accepted ~ lwage', data=accepted_df).fit(cov_type='HC1')\n",
    "print(reg_result.summary())"
   ]
  },
  {
   "cell_type": "code",
   "execution_count": 20,
   "id": "e0c1bd7d-c9df-4b24-9579-55d7f515eb8b",
   "metadata": {
    "tags": []
   },
   "outputs": [
    {
     "data": {
      "text/plain": [
       "0.730106100795756"
      ]
     },
     "execution_count": 20,
     "metadata": {},
     "output_type": "execute_result"
    }
   ],
   "source": [
    "# Also get the sample mean of the dependent var\n",
    "np.mean(accepted_df['accepted'])"
   ]
  },
  {
   "cell_type": "markdown",
   "id": "32ab8613-ee67-4809-82bc-61dbdc8fee04",
   "metadata": {},
   "source": [
    "### (e) Check and record any workers who are suspended\n",
    "\n",
    "(As indicated by the API failing to notify them)"
   ]
  },
  {
   "cell_type": "code",
   "execution_count": 21,
   "id": "d46682ee-217d-4ad4-a257-c01a31969c97",
   "metadata": {
    "tags": []
   },
   "outputs": [],
   "source": [
    "wids = list(accepted_df['worker_id'].values)"
   ]
  },
  {
   "cell_type": "code",
   "execution_count": 22,
   "id": "f3b300f7-57e4-4be5-9cd1-10574d4691f0",
   "metadata": {
    "tags": []
   },
   "outputs": [],
   "source": [
    "with open('./mt_log.txt', 'r', encoding='utf-8') as f:\n",
    "    mt_log = [l.strip().lower() for l in f.readlines()]"
   ]
  },
  {
   "cell_type": "code",
   "execution_count": 23,
   "id": "2a67bf95-c995-4741-87a0-cd2c47af75fe",
   "metadata": {
    "tags": []
   },
   "outputs": [],
   "source": [
    "def get_wid_lines(worker_id):\n",
    "    wid_lines = [line for line in mt_log if worker_id.lower() in line]\n",
    "    return wid_lines\n",
    "wid_lines = {wid: get_wid_lines(wid) for wid in wids}"
   ]
  },
  {
   "cell_type": "code",
   "execution_count": 24,
   "id": "bf94b973-764b-4e55-89ae-0d548d138e93",
   "metadata": {
    "scrolled": true,
    "tags": []
   },
   "outputs": [],
   "source": [
    "failures = []\n",
    "for cur_wid, cur_lines in wid_lines.items():\n",
    "    fail = [l for l in cur_lines if \"fail\" in l]\n",
    "    if len(fail) > 0:\n",
    "        failures.append((cur_wid, fail))"
   ]
  },
  {
   "cell_type": "code",
   "execution_count": 25,
   "id": "e2173e0d-de52-4005-9ad5-a2d6640bcee4",
   "metadata": {
    "tags": []
   },
   "outputs": [],
   "source": [
    "fail_wids = [t[0] for t in failures]"
   ]
  },
  {
   "cell_type": "code",
   "execution_count": 26,
   "id": "ca628548-ca4e-4695-b4e6-07dcc2a3221b",
   "metadata": {
    "tags": []
   },
   "outputs": [],
   "source": [
    "fail_all = {k:v for k, v in wid_lines.items() if k in fail_wids}"
   ]
  },
  {
   "cell_type": "code",
   "execution_count": 27,
   "id": "2452dad3-8369-4e18-8ad6-8c5072fa965c",
   "metadata": {
    "tags": []
   },
   "outputs": [
    {
     "data": {
      "text/plain": [
       "91"
      ]
     },
     "execution_count": 27,
     "metadata": {},
     "output_type": "execute_result"
    }
   ],
   "source": [
    "len(fail_all)"
   ]
  },
  {
   "cell_type": "code",
   "execution_count": 28,
   "id": "85a3fcd9-8560-486a-9944-661d9e22ed77",
   "metadata": {
    "tags": []
   },
   "outputs": [],
   "source": [
    "# And merge"
   ]
  },
  {
   "cell_type": "code",
   "execution_count": 29,
   "id": "c45ef6ea-6417-4587-ba8c-35a354e57b59",
   "metadata": {
    "tags": []
   },
   "outputs": [],
   "source": [
    "accepted_df['suspended'] = accepted_df['worker_id'].apply(lambda x: True if x in fail_wids else False)"
   ]
  },
  {
   "cell_type": "code",
   "execution_count": 30,
   "id": "0ae7674d-2e96-46f1-bb43-99c4a3633a3a",
   "metadata": {
    "tags": []
   },
   "outputs": [
    {
     "data": {
      "text/plain": [
       "False    2925\n",
       "True       91\n",
       "Name: suspended, dtype: int64"
      ]
     },
     "execution_count": 30,
     "metadata": {},
     "output_type": "execute_result"
    }
   ],
   "source": [
    "accepted_df['suspended'].value_counts()"
   ]
  },
  {
   "cell_type": "markdown",
   "id": "4ce076a5-66d9-41a8-a32d-40bbc90ab8f2",
   "metadata": {},
   "source": [
    "### (f) Export the dataset, including suspended user data, to .dta with current timestamp"
   ]
  },
  {
   "cell_type": "code",
   "execution_count": 18,
   "id": "54c0347c-3b50-4029-b3fc-b24505802a7e",
   "metadata": {
    "tags": []
   },
   "outputs": [],
   "source": [
    "timestamp = str(datetime.datetime.now()).split(\".\")[0].replace(\" \",\"_\").replace(\"-\",\"\").replace(\":\",\"\")"
   ]
  },
  {
   "cell_type": "code",
   "execution_count": 32,
   "id": "35210e35-4d59-4889-8149-669c5468679c",
   "metadata": {
    "tags": []
   },
   "outputs": [],
   "source": [
    "output_fpath = f'../results_2stage/accepted_df_{timestamp}.dta'\n",
    "accepted_df.to_stata(output_fpath)"
   ]
  },
  {
   "cell_type": "code",
   "execution_count": null,
   "id": "4e548361-b256-4d24-98e4-bf1835694dcd",
   "metadata": {},
   "outputs": [],
   "source": []
  }
 ],
 "metadata": {
  "kernelspec": {
   "display_name": "Python 3 (ipykernel)",
   "language": "python",
   "name": "python3"
  },
  "language_info": {
   "codemirror_mode": {
    "name": "ipython",
    "version": 3
   },
   "file_extension": ".py",
   "mimetype": "text/x-python",
   "name": "python",
   "nbconvert_exporter": "python",
   "pygments_lexer": "ipython3",
   "version": "3.9.7"
  }
 },
 "nbformat": 4,
 "nbformat_minor": 5
}
