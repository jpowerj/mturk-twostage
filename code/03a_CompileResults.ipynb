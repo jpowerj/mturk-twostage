{
 "cells": [
  {
   "cell_type": "code",
   "execution_count": 1,
   "id": "5bc8e2da-501b-4ad1-8aeb-3f4640fd99fe",
   "metadata": {
    "tags": [],
    "pycharm": {
     "name": "#%%\n"
    }
   },
   "outputs": [],
   "source": [
    "%load_ext autoreload\n",
    "%autoreload 2"
   ]
  },
  {
   "cell_type": "code",
   "execution_count": 2,
   "id": "83d38808-59f6-4a5c-a388-505fcdf642a6",
   "metadata": {
    "tags": [],
    "pycharm": {
     "name": "#%%\n"
    }
   },
   "outputs": [],
   "source": [
    "import datetime\n",
    "\n",
    "import joblib\n",
    "import pandas as pd\n",
    "import numpy as np\n",
    "import statsmodels.formula.api as smf\n",
    "import tqdm\n",
    "\n",
    "from mtclient import MTClient\n",
    "import mtglobals"
   ]
  },
  {
   "cell_type": "code",
   "execution_count": 3,
   "id": "b916cc6d-f822-45c5-88d4-675a13c2a0b8",
   "metadata": {
    "tags": [],
    "pycharm": {
     "name": "#%%\n"
    }
   },
   "outputs": [
    {
     "name": "stdout",
     "output_type": "stream",
     "text": [
      "Loading environment variables from .env\n",
      "Using LIVE MTurk requester API\n",
      "Your account balance is 3992.28\n"
     ]
    }
   ],
   "source": [
    "client = MTClient()"
   ]
  },
  {
   "cell_type": "markdown",
   "id": "f3b7db04-d5c8-44a8-8b33-88dbf6fafb77",
   "metadata": {
    "pycharm": {
     "name": "#%% md\n"
    }
   },
   "source": [
    "### (a) Get all HITs since `date_cutoff`"
   ]
  },
  {
   "cell_type": "code",
   "execution_count": 4,
   "id": "19e78014-6dc1-411e-9778-158488ee291b",
   "metadata": {
    "tags": [],
    "pycharm": {
     "name": "#%%\n"
    }
   },
   "outputs": [
    {
     "name": "stdout",
     "output_type": "stream",
     "text": [
      "Downloading list of hits from 2022-10-01 00:00:00 to 2022-10-17 17:30:18.963463-07:53\n",
      "p2:UiU+Nd3Nrzx4JMQCAyOQOsvKOUOZNJzB+3UWIkL9zQKWqmbhUKOPl/I7CL5Oa0w=\n",
      "p2:w2o6nKmUyaW3utaujy1C5HwvMdRVtuPpHCMYczkjv0RETLvm5TWaWM2U36RTErw=\n",
      "p2:b0xfgGLEaciecsX+Q8tUcOHdFPSDS9+RauyXZrY0ynPHz1zg+EMZxWfbXO2sVX0=\n",
      "p2:/OlyXZe6LUdX1l9sok8dmdPeqblv1c9GrphhJvwCb9reKYYxSUNYiTQJR3MNHiM=\n",
      "p2:0PNEJ+YqgufBQr6daC+dkerzB5RAK0vDRIWdL/YdnVmhRtax6HpHhN1KkOdZI/Q=\n",
      "p2:nb6+khC+6072DszQnMhDUgKVSEKmtTdMcT0SIkg/CvUtj5F0tQ7h6HlfdNx1yuc=\n",
      "p2:1xSoSeXvzynAUbK0FPh0nmcJyIwK/1WYhn9KvyzaFHEtxh5KYw32IReV1PYUUwc=\n",
      "p2:MSIBp5Z22BGM3uVV2zz2otblBajpGRdpniVU/QJC0Bs+ToXd9Q+XzSgLD1rGYug=\n",
      "p2:B07urhccxGEqykfetb7ChVWbw2CaljAzpDAKGh37U3LhBsnrN92nbu82hGAuOYRJ\n",
      "p2:Vm6m+FCuuCcJAe7DLkzzBJ+meKOd1oY8wwyP3oPUu7pXRNgnp1qjuxF/PKxvlp14\n",
      "p2:jvt+BjW+pMENccrHbhXVjP5qBpJ6EZKHTMUOHp8uK4EPSw9kZceE/BXkEBS5Bt6b\n",
      "Saving downloaded HIT data to ../results_2stage/all_hit_data.pkl\n"
     ]
    }
   ],
   "source": [
    "# Get the list of HITs you want to compile\n",
    "all_hits = client.download_all_hits(start_cutoff=datetime.datetime(2022,10,1))"
   ]
  },
  {
   "cell_type": "code",
   "execution_count": 5,
   "id": "04486151-b9dd-4a02-935a-7b99b9e35a5c",
   "metadata": {
    "tags": [],
    "pycharm": {
     "name": "#%%\n"
    }
   },
   "outputs": [
    {
     "data": {
      "text/plain": "1010"
     },
     "execution_count": 5,
     "metadata": {},
     "output_type": "execute_result"
    }
   ],
   "source": [
    "len(all_hits)"
   ]
  },
  {
   "cell_type": "markdown",
   "source": [
    "### (b) Collect first round responses"
   ],
   "metadata": {
    "collapsed": false,
    "pycharm": {
     "name": "#%% md\n"
    }
   }
  },
  {
   "cell_type": "code",
   "execution_count": 6,
   "outputs": [
    {
     "data": {
      "text/plain": "[{'HITId': '3HEADTGN2QTGCI0U3QD4DK6JSDPRV5',\n  'HITTypeId': '3IYH2PD9CAK8WJ2510OXIQAXEIJITO',\n  'HITGroupId': '3TR9CMHN4O2GSXKBKIAOMCVRLG7BBQ',\n  'CreationTime': datetime.datetime(2022, 10, 16, 16, 33, 9, tzinfo=tzlocal()),\n  'Title': 'Quick 3-question survey about work [<15 seconds], instantly unlock 2nd-stage HIT with higher reward',\n  'Description': 'survey,workplace,work',\n  'Question': '<HTMLQuestion xmlns=\"http://mechanicalturk.amazonaws.com/AWSMechanicalTurkDataSchemas/2011-11-11/HTMLQuestion.xsd\">\\n  <HTMLContent><![CDATA[\\n<!DOCTYPE html>\\n<html>\\n <head>\\n  <meta http-equiv=\\'Content-Type\\' content=\\'text/html; charset=UTF-8\\'/>\\n  <script>\\nfunction turkGetParam( name, defaultValue ) { \\n   var regexS = \"[\\\\?&]\"+name+\"=([^&#]*)\"; \\n   var regex = new RegExp( regexS ); \\n   var tmpURL = window.location.href; \\n   var results = regex.exec( tmpURL ); \\n   if( results == null ) { \\n     return defaultValue; \\n   } else { \\n     return results[1];    \\n   } \\n}\\nfunction decode(strToDecode)\\n{\\n  var encoded = strToDecode;\\n  return unescape(encoded.replace(/\\\\+/g,  \" \"));\\n}\\nfunction turkGetSubmitToHost() {\\n    var defaultHost = \"https://www.mturk.com\";\\n    var submitToHost = decode(turkGetParam(\"turkSubmitTo\", defaultHost));\\n    if (stringStartsWith(submitToHost, \"https://\")) {\\n        return submitToHost;\\n    }\\n    if (stringStartsWith(submitToHost, \"http://\")) {\\n        return submitToHost;\\n    }\\n    if (stringStartsWith(submitToHost, \"//\")) {\\n        return submitToHost;\\n    }\\n    return defaultHost;\\n}\\n\\nfunction turkSetAssignmentID( form_name, button_name ) {\\n\\n  if (form_name == null) {\\n    form_name = \"mturk_form\";\\n  }\\n\\n  if (button_name == null) {\\n    button_name = \"submitButton\";\\n  }\\n\\n  assignmentID = turkGetParam(\\'assignmentId\\', \"\");\\n  document.getElementById(\\'assignmentId\\').value = assignmentID;\\n\\n  if (assignmentID == \"ASSIGNMENT_ID_NOT_AVAILABLE\") { \\n    // If we\\'re previewing, disable the button and give it a helpful message\\n    btn = document.getElementById(button_name);\\n    if (btn) {\\n      btn.disabled = true; \\n      btn.value = \"You must ACCEPT the HIT before you can submit the results.\";\\n    } \\n  }\\n\\n  form = document.getElementById(form_name); \\n  if (form) {\\n     form.action = turkGetSubmitToHost() + \"/mturk/externalSubmit\"; \\n  }\\n}\\nfunction stringStartsWith(str, search, pos) {\\n    pos = (!pos || pos < 0) ? 0 : +pos;\\n    return str.substring(pos, pos + search.length) === search;\\n}\\n</script>\\n<link href=\"https://cdn.jsdelivr.net/npm/bootstrap@5.1.3/dist/css/bootstrap.min.css\" rel=\"stylesheet\" integrity=\"sha384-1BmE4kWBq78iYhFldvKuhfTAU6auU8tT94WrHftjDbrCEXSU1oBoqyl2QvZ6jIW3\" crossorigin=\"anonymous\">\\n </head>\\n <body>\\n  <form name=\\'mturk_form\\' method=\\'post\\' id=\\'mturk_form\\' action=\\'https://www.mturk.com/mturk/externalSubmit\\'>\\n  <input type=\\'hidden\\' value=\\'\\' name=\\'assignmentId\\' id=\\'assignmentId\\'/>\\n  <h2>Instructions</h2>\\n  <p>We are conducting an academic survey about the conditions of the modern workplace.</p>\\n\\n  <p>This survey proceeds in <strong>two stages</strong>:</p>\\n\\n  <ol>\\n\\t  <li>First, please <strong>accept this HIT</strong> and then answer three quick questions about yourself below. As long as your responses are valid, your submission of this HIT will be auto-approved and you will receive the $0.10 reward for completion of this HIT.</li>\\n\\t  <li>Shortly after your submission, you will also receive an email containing a link to a <strong>second, custom HIT</strong> created for you, with a custom HIT reward amount. If you are willing to fill out an additional survey for this reward amount, with approximately 30 questions (about 30 seconds each) followed by a 300-word essay, please click the link in your email to access and accept the second-stage HIT.</li>\\n  </ol>\\n\\n  <p>This first-stage HIT may not be submitted more than once, and the second-stage HIT sent to your email will only be generated once per worker ID. Additional HIT submissions from the same worker will be rejected.</p>\\n  \\n  <p>\\n    <label for=\"age\">Please enter your age, in years:</label>\\n    <input class=\"form-control\" id=\"age\" name=\"age\" required=\"\" type=\"text\" />\\n  </p>\\n  <p>\\n    <label for=\"onlinehrs\">Hours per week spent online doing tasks for money:</label>\\n    <input class=\"form-control\" id=\"onlinehrs\" name=\"onlinehrs\" type=\"text\" />\\n  </p>\\n  <p>\\n    <label for=\"reason\">Primary reason for participation:</label>\\n    <select class=\"form-control\" id=\"reason\" name=\"reason\">\\n      <option disabled=\"disabled\" hidden=\"\" selected=\"selected\" value=\"\">-- Please select an option --</option>\\n      <option value=\"money\">Make money</option>\\n      <option value=\"skills\">Learn new skills</option><option value=\"fun\">Have fun</option>\\n    </select>\\n  </p>\\n  <p>\\n    <input type=\\'submit\\' id=\\'submitButton\\' value=\\'Submit\\' class=\"btn btn-primary\" />\\n  </p>\\n</form>\\n<script language=\\'Javascript\\'>turkSetAssignmentID();</script>\\n</body>\\n</html>\\n]]>\\n  </HTMLContent>\\n  <FrameHeight>450</FrameHeight>\\n</HTMLQuestion>\\n',\n  'Keywords': 'Quick <15 second survey about workplace conditions, upon submission will receive email with 2nd-stage HIT with higher reward',\n  'HITStatus': 'Reviewable',\n  'MaxAssignments': 100,\n  'Reward': '0.10',\n  'AutoApprovalDelayInSeconds': 2592000,\n  'Expiration': datetime.datetime(2022, 10, 17, 16, 33, 9, tzinfo=tzlocal()),\n  'AssignmentDurationInSeconds': 3600,\n  'QualificationRequirements': [{'QualificationTypeId': '00000000000000000071',\n    'Comparator': 'EqualTo',\n    'LocaleValues': [{'Country': 'US'}],\n    'RequiredToPreview': False,\n    'ActionsGuarded': 'Accept'},\n   {'QualificationTypeId': '3ACE7X5EFA17IX9O66OVG7YL1JYEN7',\n    'Comparator': 'DoesNotExist',\n    'RequiredToPreview': False,\n    'ActionsGuarded': 'Accept'}],\n  'HITReviewStatus': 'NotReviewed',\n  'NumberOfAssignmentsPending': 0,\n  'NumberOfAssignmentsAvailable': 0,\n  'NumberOfAssignmentsCompleted': 100},\n {'HITId': '3MJ28H2Y1F9WHBTZ57ENFR7F42YO5H',\n  'HITTypeId': '3IYH2PD9CAK8WJ2510OXIQAXEIJITO',\n  'HITGroupId': '3TR9CMHN4O2GSXKBKIAOMCVRLG7BBQ',\n  'CreationTime': datetime.datetime(2022, 10, 15, 15, 5, 44, tzinfo=tzlocal()),\n  'Title': 'Quick 3-question survey about work [<15 seconds], instantly unlock 2nd-stage HIT with higher reward',\n  'Description': 'survey,workplace,work',\n  'Question': '<HTMLQuestion xmlns=\"http://mechanicalturk.amazonaws.com/AWSMechanicalTurkDataSchemas/2011-11-11/HTMLQuestion.xsd\">\\n  <HTMLContent><![CDATA[\\n<!DOCTYPE html>\\n<html>\\n <head>\\n  <meta http-equiv=\\'Content-Type\\' content=\\'text/html; charset=UTF-8\\'/>\\n  <script>\\nfunction turkGetParam( name, defaultValue ) { \\n   var regexS = \"[\\\\?&]\"+name+\"=([^&#]*)\"; \\n   var regex = new RegExp( regexS ); \\n   var tmpURL = window.location.href; \\n   var results = regex.exec( tmpURL ); \\n   if( results == null ) { \\n     return defaultValue; \\n   } else { \\n     return results[1];    \\n   } \\n}\\nfunction decode(strToDecode)\\n{\\n  var encoded = strToDecode;\\n  return unescape(encoded.replace(/\\\\+/g,  \" \"));\\n}\\nfunction turkGetSubmitToHost() {\\n    var defaultHost = \"https://www.mturk.com\";\\n    var submitToHost = decode(turkGetParam(\"turkSubmitTo\", defaultHost));\\n    if (stringStartsWith(submitToHost, \"https://\")) {\\n        return submitToHost;\\n    }\\n    if (stringStartsWith(submitToHost, \"http://\")) {\\n        return submitToHost;\\n    }\\n    if (stringStartsWith(submitToHost, \"//\")) {\\n        return submitToHost;\\n    }\\n    return defaultHost;\\n}\\n\\nfunction turkSetAssignmentID( form_name, button_name ) {\\n\\n  if (form_name == null) {\\n    form_name = \"mturk_form\";\\n  }\\n\\n  if (button_name == null) {\\n    button_name = \"submitButton\";\\n  }\\n\\n  assignmentID = turkGetParam(\\'assignmentId\\', \"\");\\n  document.getElementById(\\'assignmentId\\').value = assignmentID;\\n\\n  if (assignmentID == \"ASSIGNMENT_ID_NOT_AVAILABLE\") { \\n    // If we\\'re previewing, disable the button and give it a helpful message\\n    btn = document.getElementById(button_name);\\n    if (btn) {\\n      btn.disabled = true; \\n      btn.value = \"You must ACCEPT the HIT before you can submit the results.\";\\n    } \\n  }\\n\\n  form = document.getElementById(form_name); \\n  if (form) {\\n     form.action = turkGetSubmitToHost() + \"/mturk/externalSubmit\"; \\n  }\\n}\\nfunction stringStartsWith(str, search, pos) {\\n    pos = (!pos || pos < 0) ? 0 : +pos;\\n    return str.substring(pos, pos + search.length) === search;\\n}\\n</script>\\n<link href=\"https://cdn.jsdelivr.net/npm/bootstrap@5.1.3/dist/css/bootstrap.min.css\" rel=\"stylesheet\" integrity=\"sha384-1BmE4kWBq78iYhFldvKuhfTAU6auU8tT94WrHftjDbrCEXSU1oBoqyl2QvZ6jIW3\" crossorigin=\"anonymous\">\\n </head>\\n <body>\\n  <form name=\\'mturk_form\\' method=\\'post\\' id=\\'mturk_form\\' action=\\'https://www.mturk.com/mturk/externalSubmit\\'>\\n  <input type=\\'hidden\\' value=\\'\\' name=\\'assignmentId\\' id=\\'assignmentId\\'/>\\n  <h2>Instructions</h2>\\n  <p>We are conducting an academic survey about the conditions of the modern workplace.</p>\\n\\n  <p>This survey proceeds in <strong>two stages</strong>:</p>\\n\\n  <ol>\\n\\t  <li>First, please <strong>accept this HIT</strong> and then answer three quick questions about yourself below. As long as your responses are valid, your submission of this HIT will be auto-approved and you will receive the $0.10 reward for completion of this HIT.</li>\\n\\t  <li>Shortly after your submission, you will also receive an email containing a link to a <strong>second, custom HIT</strong> created for you, with a custom HIT reward amount. If you are willing to fill out an additional survey for this reward amount, with approximately 30 questions (about 30 seconds each) followed by a 300-word essay, please click the link in your email to access and accept the second-stage HIT.</li>\\n  </ol>\\n\\n  <p>This first-stage HIT may not be submitted more than once, and the second-stage HIT sent to your email will only be generated once per worker ID. Additional HIT submissions from the same worker will be rejected.</p>\\n  \\n  <p>\\n    <label for=\"age\">Please enter your age, in years:</label>\\n    <input class=\"form-control\" id=\"age\" name=\"age\" required=\"\" type=\"text\" />\\n  </p>\\n  <p>\\n    <label for=\"onlinehrs\">Hours per week spent online doing tasks for money:</label>\\n    <input class=\"form-control\" id=\"onlinehrs\" name=\"onlinehrs\" type=\"text\" />\\n  </p>\\n  <p>\\n    <label for=\"reason\">Primary reason for participation:</label>\\n    <select class=\"form-control\" id=\"reason\" name=\"reason\">\\n      <option disabled=\"disabled\" hidden=\"\" selected=\"selected\" value=\"\">-- Please select an option --</option>\\n      <option value=\"money\">Make money</option>\\n      <option value=\"skills\">Learn new skills</option><option value=\"fun\">Have fun</option>\\n    </select>\\n  </p>\\n  <p>\\n    <input type=\\'submit\\' id=\\'submitButton\\' value=\\'Submit\\' class=\"btn btn-primary\" />\\n  </p>\\n</form>\\n<script language=\\'Javascript\\'>turkSetAssignmentID();</script>\\n</body>\\n</html>\\n]]>\\n  </HTMLContent>\\n  <FrameHeight>450</FrameHeight>\\n</HTMLQuestion>\\n',\n  'Keywords': 'Quick <15 second survey about workplace conditions, upon submission will receive email with 2nd-stage HIT with higher reward',\n  'HITStatus': 'Reviewable',\n  'MaxAssignments': 100,\n  'Reward': '0.10',\n  'AutoApprovalDelayInSeconds': 2592000,\n  'Expiration': datetime.datetime(2022, 10, 16, 15, 5, 44, tzinfo=tzlocal()),\n  'AssignmentDurationInSeconds': 3600,\n  'QualificationRequirements': [{'QualificationTypeId': '00000000000000000071',\n    'Comparator': 'EqualTo',\n    'LocaleValues': [{'Country': 'US'}],\n    'RequiredToPreview': False,\n    'ActionsGuarded': 'Accept'},\n   {'QualificationTypeId': '3ACE7X5EFA17IX9O66OVG7YL1JYEN7',\n    'Comparator': 'DoesNotExist',\n    'RequiredToPreview': False,\n    'ActionsGuarded': 'Accept'}],\n  'HITReviewStatus': 'NotReviewed',\n  'NumberOfAssignmentsPending': 0,\n  'NumberOfAssignmentsAvailable': 0,\n  'NumberOfAssignmentsCompleted': 100},\n {'HITId': '31SIZS5W5AGO7A4DHRJU7X7BBK0QRY',\n  'HITTypeId': '3IYH2PD9CAK8WJ2510OXIQAXEIJITO',\n  'HITGroupId': '3TR9CMHN4O2GSXKBKIAOMCVRLG7BBQ',\n  'CreationTime': datetime.datetime(2022, 10, 14, 15, 28, 7, tzinfo=tzlocal()),\n  'Title': 'Quick 3-question survey about work [<15 seconds], instantly unlock 2nd-stage HIT with higher reward',\n  'Description': 'survey,workplace,work',\n  'Question': '<HTMLQuestion xmlns=\"http://mechanicalturk.amazonaws.com/AWSMechanicalTurkDataSchemas/2011-11-11/HTMLQuestion.xsd\">\\n  <HTMLContent><![CDATA[\\n<!DOCTYPE html>\\n<html>\\n <head>\\n  <meta http-equiv=\\'Content-Type\\' content=\\'text/html; charset=UTF-8\\'/>\\n  <script>\\nfunction turkGetParam( name, defaultValue ) { \\n   var regexS = \"[\\\\?&]\"+name+\"=([^&#]*)\"; \\n   var regex = new RegExp( regexS ); \\n   var tmpURL = window.location.href; \\n   var results = regex.exec( tmpURL ); \\n   if( results == null ) { \\n     return defaultValue; \\n   } else { \\n     return results[1];    \\n   } \\n}\\nfunction decode(strToDecode)\\n{\\n  var encoded = strToDecode;\\n  return unescape(encoded.replace(/\\\\+/g,  \" \"));\\n}\\nfunction turkGetSubmitToHost() {\\n    var defaultHost = \"https://www.mturk.com\";\\n    var submitToHost = decode(turkGetParam(\"turkSubmitTo\", defaultHost));\\n    if (stringStartsWith(submitToHost, \"https://\")) {\\n        return submitToHost;\\n    }\\n    if (stringStartsWith(submitToHost, \"http://\")) {\\n        return submitToHost;\\n    }\\n    if (stringStartsWith(submitToHost, \"//\")) {\\n        return submitToHost;\\n    }\\n    return defaultHost;\\n}\\n\\nfunction turkSetAssignmentID( form_name, button_name ) {\\n\\n  if (form_name == null) {\\n    form_name = \"mturk_form\";\\n  }\\n\\n  if (button_name == null) {\\n    button_name = \"submitButton\";\\n  }\\n\\n  assignmentID = turkGetParam(\\'assignmentId\\', \"\");\\n  document.getElementById(\\'assignmentId\\').value = assignmentID;\\n\\n  if (assignmentID == \"ASSIGNMENT_ID_NOT_AVAILABLE\") { \\n    // If we\\'re previewing, disable the button and give it a helpful message\\n    btn = document.getElementById(button_name);\\n    if (btn) {\\n      btn.disabled = true; \\n      btn.value = \"You must ACCEPT the HIT before you can submit the results.\";\\n    } \\n  }\\n\\n  form = document.getElementById(form_name); \\n  if (form) {\\n     form.action = turkGetSubmitToHost() + \"/mturk/externalSubmit\"; \\n  }\\n}\\nfunction stringStartsWith(str, search, pos) {\\n    pos = (!pos || pos < 0) ? 0 : +pos;\\n    return str.substring(pos, pos + search.length) === search;\\n}\\n</script>\\n<link href=\"https://cdn.jsdelivr.net/npm/bootstrap@5.1.3/dist/css/bootstrap.min.css\" rel=\"stylesheet\" integrity=\"sha384-1BmE4kWBq78iYhFldvKuhfTAU6auU8tT94WrHftjDbrCEXSU1oBoqyl2QvZ6jIW3\" crossorigin=\"anonymous\">\\n </head>\\n <body>\\n  <form name=\\'mturk_form\\' method=\\'post\\' id=\\'mturk_form\\' action=\\'https://www.mturk.com/mturk/externalSubmit\\'>\\n  <input type=\\'hidden\\' value=\\'\\' name=\\'assignmentId\\' id=\\'assignmentId\\'/>\\n  <h2>Instructions</h2>\\n  <p>We are conducting an academic survey about the conditions of the modern workplace.</p>\\n\\n  <p>This survey proceeds in <strong>two stages</strong>:</p>\\n\\n  <ol>\\n\\t  <li>First, please <strong>accept this HIT</strong> and then answer three quick questions about yourself below. As long as your responses are valid, your submission of this HIT will be auto-approved and you will receive the $0.10 reward for completion of this HIT.</li>\\n\\t  <li>Shortly after your submission, you will also receive an email containing a link to a <strong>second, custom HIT</strong> created for you, with a custom HIT reward amount. If you are willing to fill out an additional survey for this reward amount, with approximately 30 questions (about 30 seconds each) followed by a 300-word essay, please click the link in your email to access and accept the second-stage HIT.</li>\\n  </ol>\\n\\n  <p>This first-stage HIT may not be submitted more than once, and the second-stage HIT sent to your email will only be generated once per worker ID. Additional HIT submissions from the same worker will be rejected.</p>\\n  \\n  <p>\\n    <label for=\"age\">Please enter your age, in years:</label>\\n    <input class=\"form-control\" id=\"age\" name=\"age\" required=\"\" type=\"text\" />\\n  </p>\\n  <p>\\n    <label for=\"onlinehrs\">Hours per week spent online doing tasks for money:</label>\\n    <input class=\"form-control\" id=\"onlinehrs\" name=\"onlinehrs\" type=\"text\" />\\n  </p>\\n  <p>\\n    <label for=\"reason\">Primary reason for participation:</label>\\n    <select class=\"form-control\" id=\"reason\" name=\"reason\">\\n      <option disabled=\"disabled\" hidden=\"\" selected=\"selected\" value=\"\">-- Please select an option --</option>\\n      <option value=\"money\">Make money</option>\\n      <option value=\"skills\">Learn new skills</option><option value=\"fun\">Have fun</option>\\n    </select>\\n  </p>\\n  <p>\\n    <input type=\\'submit\\' id=\\'submitButton\\' value=\\'Submit\\' class=\"btn btn-primary\" />\\n  </p>\\n</form>\\n<script language=\\'Javascript\\'>turkSetAssignmentID();</script>\\n</body>\\n</html>\\n]]>\\n  </HTMLContent>\\n  <FrameHeight>450</FrameHeight>\\n</HTMLQuestion>\\n',\n  'Keywords': 'Quick <15 second survey about workplace conditions, upon submission will receive email with 2nd-stage HIT with higher reward',\n  'HITStatus': 'Reviewable',\n  'MaxAssignments': 100,\n  'Reward': '0.10',\n  'AutoApprovalDelayInSeconds': 2592000,\n  'Expiration': datetime.datetime(2022, 10, 15, 15, 28, 7, tzinfo=tzlocal()),\n  'AssignmentDurationInSeconds': 3600,\n  'QualificationRequirements': [{'QualificationTypeId': '00000000000000000071',\n    'Comparator': 'EqualTo',\n    'LocaleValues': [{'Country': 'US'}],\n    'RequiredToPreview': False,\n    'ActionsGuarded': 'Accept'},\n   {'QualificationTypeId': '3ACE7X5EFA17IX9O66OVG7YL1JYEN7',\n    'Comparator': 'DoesNotExist',\n    'RequiredToPreview': False,\n    'ActionsGuarded': 'Accept'}],\n  'HITReviewStatus': 'NotReviewed',\n  'NumberOfAssignmentsPending': 0,\n  'NumberOfAssignmentsAvailable': 0,\n  'NumberOfAssignmentsCompleted': 100},\n {'HITId': '3HXK2V1N4LGGQ1TEZ5ZHCBV1T5AG2D',\n  'HITTypeId': '3IYH2PD9CAK8WJ2510OXIQAXEIJITO',\n  'HITGroupId': '3TR9CMHN4O2GSXKBKIAOMCVRLG7BBQ',\n  'CreationTime': datetime.datetime(2022, 10, 14, 13, 40, 50, tzinfo=tzlocal()),\n  'Title': 'Quick 3-question survey about work [<15 seconds], instantly unlock 2nd-stage HIT with higher reward',\n  'Description': 'survey,workplace,work',\n  'Question': '<HTMLQuestion xmlns=\"http://mechanicalturk.amazonaws.com/AWSMechanicalTurkDataSchemas/2011-11-11/HTMLQuestion.xsd\">\\n  <HTMLContent><![CDATA[\\n<!DOCTYPE html>\\n<html>\\n <head>\\n  <meta http-equiv=\\'Content-Type\\' content=\\'text/html; charset=UTF-8\\'/>\\n  <script>\\nfunction turkGetParam( name, defaultValue ) { \\n   var regexS = \"[\\\\?&]\"+name+\"=([^&#]*)\"; \\n   var regex = new RegExp( regexS ); \\n   var tmpURL = window.location.href; \\n   var results = regex.exec( tmpURL ); \\n   if( results == null ) { \\n     return defaultValue; \\n   } else { \\n     return results[1];    \\n   } \\n}\\nfunction decode(strToDecode)\\n{\\n  var encoded = strToDecode;\\n  return unescape(encoded.replace(/\\\\+/g,  \" \"));\\n}\\nfunction turkGetSubmitToHost() {\\n    var defaultHost = \"https://www.mturk.com\";\\n    var submitToHost = decode(turkGetParam(\"turkSubmitTo\", defaultHost));\\n    if (stringStartsWith(submitToHost, \"https://\")) {\\n        return submitToHost;\\n    }\\n    if (stringStartsWith(submitToHost, \"http://\")) {\\n        return submitToHost;\\n    }\\n    if (stringStartsWith(submitToHost, \"//\")) {\\n        return submitToHost;\\n    }\\n    return defaultHost;\\n}\\n\\nfunction turkSetAssignmentID( form_name, button_name ) {\\n\\n  if (form_name == null) {\\n    form_name = \"mturk_form\";\\n  }\\n\\n  if (button_name == null) {\\n    button_name = \"submitButton\";\\n  }\\n\\n  assignmentID = turkGetParam(\\'assignmentId\\', \"\");\\n  document.getElementById(\\'assignmentId\\').value = assignmentID;\\n\\n  if (assignmentID == \"ASSIGNMENT_ID_NOT_AVAILABLE\") { \\n    // If we\\'re previewing, disable the button and give it a helpful message\\n    btn = document.getElementById(button_name);\\n    if (btn) {\\n      btn.disabled = true; \\n      btn.value = \"You must ACCEPT the HIT before you can submit the results.\";\\n    } \\n  }\\n\\n  form = document.getElementById(form_name); \\n  if (form) {\\n     form.action = turkGetSubmitToHost() + \"/mturk/externalSubmit\"; \\n  }\\n}\\nfunction stringStartsWith(str, search, pos) {\\n    pos = (!pos || pos < 0) ? 0 : +pos;\\n    return str.substring(pos, pos + search.length) === search;\\n}\\n</script>\\n<link href=\"https://cdn.jsdelivr.net/npm/bootstrap@5.1.3/dist/css/bootstrap.min.css\" rel=\"stylesheet\" integrity=\"sha384-1BmE4kWBq78iYhFldvKuhfTAU6auU8tT94WrHftjDbrCEXSU1oBoqyl2QvZ6jIW3\" crossorigin=\"anonymous\">\\n </head>\\n <body>\\n  <form name=\\'mturk_form\\' method=\\'post\\' id=\\'mturk_form\\' action=\\'https://www.mturk.com/mturk/externalSubmit\\'>\\n  <input type=\\'hidden\\' value=\\'\\' name=\\'assignmentId\\' id=\\'assignmentId\\'/>\\n  <h2>Instructions</h2>\\n  <p>We are conducting an academic survey about the conditions of the modern workplace.</p>\\n\\n  <p>This survey proceeds in <strong>two stages</strong>:</p>\\n\\n  <ol>\\n\\t  <li>First, please <strong>accept this HIT</strong> and then answer three quick questions about yourself below. As long as your responses are valid, your submission of this HIT will be auto-approved and you will receive the $0.10 reward for completion of this HIT.</li>\\n\\t  <li>Shortly after your submission, you will also receive an email containing a link to a <strong>second, custom HIT</strong> created for you, with a custom HIT reward amount. If you are willing to fill out an additional survey for this reward amount, with approximately 30 questions (about 30 seconds each) followed by a 300-word essay, please click the link in your email to access and accept the second-stage HIT.</li>\\n  </ol>\\n\\n  <p>This first-stage HIT may not be submitted more than once, and the second-stage HIT sent to your email will only be generated once per worker ID. Additional HIT submissions from the same worker will be rejected.</p>\\n  \\n  <p>\\n    <label for=\"age\">Please enter your age, in years:</label>\\n    <input class=\"form-control\" id=\"age\" name=\"age\" required=\"\" type=\"text\" />\\n  </p>\\n  <p>\\n    <label for=\"onlinehrs\">Hours per week spent online doing tasks for money:</label>\\n    <input class=\"form-control\" id=\"onlinehrs\" name=\"onlinehrs\" type=\"text\" />\\n  </p>\\n  <p>\\n    <label for=\"reason\">Primary reason for participation:</label>\\n    <select class=\"form-control\" id=\"reason\" name=\"reason\">\\n      <option disabled=\"disabled\" hidden=\"\" selected=\"selected\" value=\"\">-- Please select an option --</option>\\n      <option value=\"money\">Make money</option>\\n      <option value=\"skills\">Learn new skills</option><option value=\"fun\">Have fun</option>\\n    </select>\\n  </p>\\n  <p>\\n    <input type=\\'submit\\' id=\\'submitButton\\' value=\\'Submit\\' class=\"btn btn-primary\" />\\n  </p>\\n</form>\\n<script language=\\'Javascript\\'>turkSetAssignmentID();</script>\\n</body>\\n</html>\\n]]>\\n  </HTMLContent>\\n  <FrameHeight>450</FrameHeight>\\n</HTMLQuestion>\\n',\n  'Keywords': 'Quick <15 second survey about workplace conditions, upon submission will receive email with 2nd-stage HIT with higher reward',\n  'HITStatus': 'Reviewable',\n  'MaxAssignments': 100,\n  'Reward': '0.10',\n  'AutoApprovalDelayInSeconds': 2592000,\n  'Expiration': datetime.datetime(2022, 10, 15, 13, 40, 50, tzinfo=tzlocal()),\n  'AssignmentDurationInSeconds': 3600,\n  'QualificationRequirements': [{'QualificationTypeId': '00000000000000000071',\n    'Comparator': 'EqualTo',\n    'LocaleValues': [{'Country': 'US'}],\n    'RequiredToPreview': False,\n    'ActionsGuarded': 'Accept'},\n   {'QualificationTypeId': '3ACE7X5EFA17IX9O66OVG7YL1JYEN7',\n    'Comparator': 'DoesNotExist',\n    'RequiredToPreview': False,\n    'ActionsGuarded': 'Accept'}],\n  'HITReviewStatus': 'NotReviewed',\n  'NumberOfAssignmentsPending': 0,\n  'NumberOfAssignmentsAvailable': 0,\n  'NumberOfAssignmentsCompleted': 100},\n {'HITId': '3J94SKDEKJQ5DE2AFY074XVG0N85DG',\n  'HITTypeId': '3IYH2PD9CAK8WJ2510OXIQAXEIJITO',\n  'HITGroupId': '3TR9CMHN4O2GSXKBKIAOMCVRLG7BBQ',\n  'CreationTime': datetime.datetime(2022, 10, 13, 17, 23, 17, tzinfo=tzlocal()),\n  'Title': 'Quick 3-question survey about work [<15 seconds], instantly unlock 2nd-stage HIT with higher reward',\n  'Description': 'survey,workplace,work',\n  'Question': '<HTMLQuestion xmlns=\"http://mechanicalturk.amazonaws.com/AWSMechanicalTurkDataSchemas/2011-11-11/HTMLQuestion.xsd\">\\n  <HTMLContent><![CDATA[\\n<!DOCTYPE html>\\n<html>\\n <head>\\n  <meta http-equiv=\\'Content-Type\\' content=\\'text/html; charset=UTF-8\\'/>\\n  <script>\\nfunction turkGetParam( name, defaultValue ) { \\n   var regexS = \"[\\\\?&]\"+name+\"=([^&#]*)\"; \\n   var regex = new RegExp( regexS ); \\n   var tmpURL = window.location.href; \\n   var results = regex.exec( tmpURL ); \\n   if( results == null ) { \\n     return defaultValue; \\n   } else { \\n     return results[1];    \\n   } \\n}\\nfunction decode(strToDecode)\\n{\\n  var encoded = strToDecode;\\n  return unescape(encoded.replace(/\\\\+/g,  \" \"));\\n}\\nfunction turkGetSubmitToHost() {\\n    var defaultHost = \"https://www.mturk.com\";\\n    var submitToHost = decode(turkGetParam(\"turkSubmitTo\", defaultHost));\\n    if (stringStartsWith(submitToHost, \"https://\")) {\\n        return submitToHost;\\n    }\\n    if (stringStartsWith(submitToHost, \"http://\")) {\\n        return submitToHost;\\n    }\\n    if (stringStartsWith(submitToHost, \"//\")) {\\n        return submitToHost;\\n    }\\n    return defaultHost;\\n}\\n\\nfunction turkSetAssignmentID( form_name, button_name ) {\\n\\n  if (form_name == null) {\\n    form_name = \"mturk_form\";\\n  }\\n\\n  if (button_name == null) {\\n    button_name = \"submitButton\";\\n  }\\n\\n  assignmentID = turkGetParam(\\'assignmentId\\', \"\");\\n  document.getElementById(\\'assignmentId\\').value = assignmentID;\\n\\n  if (assignmentID == \"ASSIGNMENT_ID_NOT_AVAILABLE\") { \\n    // If we\\'re previewing, disable the button and give it a helpful message\\n    btn = document.getElementById(button_name);\\n    if (btn) {\\n      btn.disabled = true; \\n      btn.value = \"You must ACCEPT the HIT before you can submit the results.\";\\n    } \\n  }\\n\\n  form = document.getElementById(form_name); \\n  if (form) {\\n     form.action = turkGetSubmitToHost() + \"/mturk/externalSubmit\"; \\n  }\\n}\\nfunction stringStartsWith(str, search, pos) {\\n    pos = (!pos || pos < 0) ? 0 : +pos;\\n    return str.substring(pos, pos + search.length) === search;\\n}\\n</script>\\n<link href=\"https://cdn.jsdelivr.net/npm/bootstrap@5.1.3/dist/css/bootstrap.min.css\" rel=\"stylesheet\" integrity=\"sha384-1BmE4kWBq78iYhFldvKuhfTAU6auU8tT94WrHftjDbrCEXSU1oBoqyl2QvZ6jIW3\" crossorigin=\"anonymous\">\\n </head>\\n <body>\\n  <form name=\\'mturk_form\\' method=\\'post\\' id=\\'mturk_form\\' action=\\'https://www.mturk.com/mturk/externalSubmit\\'>\\n  <input type=\\'hidden\\' value=\\'\\' name=\\'assignmentId\\' id=\\'assignmentId\\'/>\\n  <h2>Instructions</h2>\\n  <p>We are conducting an academic survey about the conditions of the modern workplace.</p>\\n\\n  <p>This survey proceeds in <strong>two stages</strong>:</p>\\n\\n  <ol>\\n\\t  <li>First, please <strong>accept this HIT</strong> and then answer three quick questions about yourself below. As long as your responses are valid, your submission of this HIT will be auto-approved and you will receive the $0.10 reward for completion of this HIT.</li>\\n\\t  <li>Shortly after your submission, you will also receive an email containing a link to a <strong>second, custom HIT</strong> created for you, with a custom HIT reward amount. If you are willing to fill out an additional survey for this reward amount, with approximately 30 questions (about 30 seconds each) followed by a 300-word essay, please click the link in your email to access and accept the second-stage HIT.</li>\\n  </ol>\\n\\n  <p>This first-stage HIT may not be submitted more than once, and the second-stage HIT sent to your email will only be generated once per worker ID. Additional HIT submissions from the same worker will be rejected.</p>\\n  \\n  <p>\\n    <label for=\"age\">Please enter your age, in years:</label>\\n    <input class=\"form-control\" id=\"age\" name=\"age\" required=\"\" type=\"text\" />\\n  </p>\\n  <p>\\n    <label for=\"onlinehrs\">Hours per week spent online doing tasks for money:</label>\\n    <input class=\"form-control\" id=\"onlinehrs\" name=\"onlinehrs\" type=\"text\" />\\n  </p>\\n  <p>\\n    <label for=\"reason\">Primary reason for participation:</label>\\n    <select class=\"form-control\" id=\"reason\" name=\"reason\">\\n      <option disabled=\"disabled\" hidden=\"\" selected=\"selected\" value=\"\">-- Please select an option --</option>\\n      <option value=\"money\">Make money</option>\\n      <option value=\"skills\">Learn new skills</option><option value=\"fun\">Have fun</option>\\n    </select>\\n  </p>\\n  <p>\\n    <input type=\\'submit\\' id=\\'submitButton\\' value=\\'Submit\\' class=\"btn btn-primary\" />\\n  </p>\\n</form>\\n<script language=\\'Javascript\\'>turkSetAssignmentID();</script>\\n</body>\\n</html>\\n]]>\\n  </HTMLContent>\\n  <FrameHeight>450</FrameHeight>\\n</HTMLQuestion>\\n',\n  'Keywords': 'Quick <15 second survey about workplace conditions, upon submission will receive email with 2nd-stage HIT with higher reward',\n  'HITStatus': 'Reviewable',\n  'MaxAssignments': 100,\n  'Reward': '0.10',\n  'AutoApprovalDelayInSeconds': 2592000,\n  'Expiration': datetime.datetime(2022, 10, 14, 17, 23, 17, tzinfo=tzlocal()),\n  'AssignmentDurationInSeconds': 3600,\n  'QualificationRequirements': [{'QualificationTypeId': '00000000000000000071',\n    'Comparator': 'EqualTo',\n    'LocaleValues': [{'Country': 'US'}],\n    'RequiredToPreview': False,\n    'ActionsGuarded': 'Accept'},\n   {'QualificationTypeId': '3ACE7X5EFA17IX9O66OVG7YL1JYEN7',\n    'Comparator': 'DoesNotExist',\n    'RequiredToPreview': False,\n    'ActionsGuarded': 'Accept'}],\n  'HITReviewStatus': 'NotReviewed',\n  'NumberOfAssignmentsPending': 0,\n  'NumberOfAssignmentsAvailable': 0,\n  'NumberOfAssignmentsCompleted': 100},\n {'HITId': '3IHWR4LC7EE5871Y5A8L7ELKUIC8II',\n  'HITTypeId': '3IYH2PD9CAK8WJ2510OXIQAXEIJITO',\n  'HITGroupId': '3TR9CMHN4O2GSXKBKIAOMCVRLG7BBQ',\n  'CreationTime': datetime.datetime(2022, 10, 13, 15, 0, 50, tzinfo=tzlocal()),\n  'Title': 'Quick 3-question survey about work [<15 seconds], instantly unlock 2nd-stage HIT with higher reward',\n  'Description': 'survey,workplace,work',\n  'Question': '<HTMLQuestion xmlns=\"http://mechanicalturk.amazonaws.com/AWSMechanicalTurkDataSchemas/2011-11-11/HTMLQuestion.xsd\">\\n  <HTMLContent><![CDATA[\\n<!DOCTYPE html>\\n<html>\\n <head>\\n  <meta http-equiv=\\'Content-Type\\' content=\\'text/html; charset=UTF-8\\'/>\\n  <script>\\nfunction turkGetParam( name, defaultValue ) { \\n   var regexS = \"[\\\\?&]\"+name+\"=([^&#]*)\"; \\n   var regex = new RegExp( regexS ); \\n   var tmpURL = window.location.href; \\n   var results = regex.exec( tmpURL ); \\n   if( results == null ) { \\n     return defaultValue; \\n   } else { \\n     return results[1];    \\n   } \\n}\\nfunction decode(strToDecode)\\n{\\n  var encoded = strToDecode;\\n  return unescape(encoded.replace(/\\\\+/g,  \" \"));\\n}\\nfunction turkGetSubmitToHost() {\\n    var defaultHost = \"https://www.mturk.com\";\\n    var submitToHost = decode(turkGetParam(\"turkSubmitTo\", defaultHost));\\n    if (stringStartsWith(submitToHost, \"https://\")) {\\n        return submitToHost;\\n    }\\n    if (stringStartsWith(submitToHost, \"http://\")) {\\n        return submitToHost;\\n    }\\n    if (stringStartsWith(submitToHost, \"//\")) {\\n        return submitToHost;\\n    }\\n    return defaultHost;\\n}\\n\\nfunction turkSetAssignmentID( form_name, button_name ) {\\n\\n  if (form_name == null) {\\n    form_name = \"mturk_form\";\\n  }\\n\\n  if (button_name == null) {\\n    button_name = \"submitButton\";\\n  }\\n\\n  assignmentID = turkGetParam(\\'assignmentId\\', \"\");\\n  document.getElementById(\\'assignmentId\\').value = assignmentID;\\n\\n  if (assignmentID == \"ASSIGNMENT_ID_NOT_AVAILABLE\") { \\n    // If we\\'re previewing, disable the button and give it a helpful message\\n    btn = document.getElementById(button_name);\\n    if (btn) {\\n      btn.disabled = true; \\n      btn.value = \"You must ACCEPT the HIT before you can submit the results.\";\\n    } \\n  }\\n\\n  form = document.getElementById(form_name); \\n  if (form) {\\n     form.action = turkGetSubmitToHost() + \"/mturk/externalSubmit\"; \\n  }\\n}\\nfunction stringStartsWith(str, search, pos) {\\n    pos = (!pos || pos < 0) ? 0 : +pos;\\n    return str.substring(pos, pos + search.length) === search;\\n}\\n</script>\\n<link href=\"https://cdn.jsdelivr.net/npm/bootstrap@5.1.3/dist/css/bootstrap.min.css\" rel=\"stylesheet\" integrity=\"sha384-1BmE4kWBq78iYhFldvKuhfTAU6auU8tT94WrHftjDbrCEXSU1oBoqyl2QvZ6jIW3\" crossorigin=\"anonymous\">\\n </head>\\n <body>\\n  <form name=\\'mturk_form\\' method=\\'post\\' id=\\'mturk_form\\' action=\\'https://www.mturk.com/mturk/externalSubmit\\'>\\n  <input type=\\'hidden\\' value=\\'\\' name=\\'assignmentId\\' id=\\'assignmentId\\'/>\\n  <h2>Instructions</h2>\\n  <p>We are conducting an academic survey about the conditions of the modern workplace.</p>\\n\\n  <p>This survey proceeds in <strong>two stages</strong>:</p>\\n\\n  <ol>\\n\\t  <li>First, please <strong>accept this HIT</strong> and then answer three quick questions about yourself below. As long as your responses are valid, your submission of this HIT will be auto-approved and you will receive the $0.10 reward for completion of this HIT.</li>\\n\\t  <li>Shortly after your submission, you will also receive an email containing a link to a <strong>second, custom HIT</strong> created for you, with a custom HIT reward amount. If you are willing to fill out an additional survey for this reward amount, with approximately 30 questions (about 30 seconds each) followed by a 300-word essay, please click the link in your email to access and accept the second-stage HIT.</li>\\n  </ol>\\n\\n  <p>This first-stage HIT may not be submitted more than once, and the second-stage HIT sent to your email will only be generated once per worker ID. Additional HIT submissions from the same worker will be rejected.</p>\\n  \\n  <p>\\n    <label for=\"age\">Please enter your age, in years:</label>\\n    <input class=\"form-control\" id=\"age\" name=\"age\" required=\"\" type=\"text\" />\\n  </p>\\n  <p>\\n    <label for=\"onlinehrs\">Hours per week spent online doing tasks for money:</label>\\n    <input class=\"form-control\" id=\"onlinehrs\" name=\"onlinehrs\" type=\"text\" />\\n  </p>\\n  <p>\\n    <label for=\"reason\">Primary reason for participation:</label>\\n    <select class=\"form-control\" id=\"reason\" name=\"reason\">\\n      <option disabled=\"disabled\" hidden=\"\" selected=\"selected\" value=\"\">-- Please select an option --</option>\\n      <option value=\"money\">Make money</option>\\n      <option value=\"skills\">Learn new skills</option><option value=\"fun\">Have fun</option>\\n    </select>\\n  </p>\\n  <p>\\n    <input type=\\'submit\\' id=\\'submitButton\\' value=\\'Submit\\' class=\"btn btn-primary\" />\\n  </p>\\n</form>\\n<script language=\\'Javascript\\'>turkSetAssignmentID();</script>\\n</body>\\n</html>\\n]]>\\n  </HTMLContent>\\n  <FrameHeight>450</FrameHeight>\\n</HTMLQuestion>\\n',\n  'Keywords': 'Quick <15 second survey about workplace conditions, upon submission will receive email with 2nd-stage HIT with higher reward',\n  'HITStatus': 'Reviewable',\n  'MaxAssignments': 100,\n  'Reward': '0.10',\n  'AutoApprovalDelayInSeconds': 2592000,\n  'Expiration': datetime.datetime(2022, 10, 14, 15, 0, 50, tzinfo=tzlocal()),\n  'AssignmentDurationInSeconds': 3600,\n  'QualificationRequirements': [{'QualificationTypeId': '00000000000000000071',\n    'Comparator': 'EqualTo',\n    'LocaleValues': [{'Country': 'US'}],\n    'RequiredToPreview': False,\n    'ActionsGuarded': 'Accept'},\n   {'QualificationTypeId': '3ACE7X5EFA17IX9O66OVG7YL1JYEN7',\n    'Comparator': 'DoesNotExist',\n    'RequiredToPreview': False,\n    'ActionsGuarded': 'Accept'}],\n  'HITReviewStatus': 'NotReviewed',\n  'NumberOfAssignmentsPending': 0,\n  'NumberOfAssignmentsAvailable': 0,\n  'NumberOfAssignmentsCompleted': 100},\n {'HITId': '3I01FDIL6N9DEHJNXFY96QS4GCF2D8',\n  'HITTypeId': '3IYH2PD9CAK8WJ2510OXIQAXEIJITO',\n  'HITGroupId': '3TR9CMHN4O2GSXKBKIAOMCVRLG7BBQ',\n  'CreationTime': datetime.datetime(2022, 10, 11, 13, 33, 34, tzinfo=tzlocal()),\n  'Title': 'Quick 3-question survey about work [<15 seconds], instantly unlock 2nd-stage HIT with higher reward',\n  'Description': 'survey,workplace,work',\n  'Question': '<HTMLQuestion xmlns=\"http://mechanicalturk.amazonaws.com/AWSMechanicalTurkDataSchemas/2011-11-11/HTMLQuestion.xsd\">\\n  <HTMLContent><![CDATA[\\n<!DOCTYPE html>\\n<html>\\n <head>\\n  <meta http-equiv=\\'Content-Type\\' content=\\'text/html; charset=UTF-8\\'/>\\n  <script>\\nfunction turkGetParam( name, defaultValue ) { \\n   var regexS = \"[\\\\?&]\"+name+\"=([^&#]*)\"; \\n   var regex = new RegExp( regexS ); \\n   var tmpURL = window.location.href; \\n   var results = regex.exec( tmpURL ); \\n   if( results == null ) { \\n     return defaultValue; \\n   } else { \\n     return results[1];    \\n   } \\n}\\nfunction decode(strToDecode)\\n{\\n  var encoded = strToDecode;\\n  return unescape(encoded.replace(/\\\\+/g,  \" \"));\\n}\\nfunction turkGetSubmitToHost() {\\n    var defaultHost = \"https://www.mturk.com\";\\n    var submitToHost = decode(turkGetParam(\"turkSubmitTo\", defaultHost));\\n    if (stringStartsWith(submitToHost, \"https://\")) {\\n        return submitToHost;\\n    }\\n    if (stringStartsWith(submitToHost, \"http://\")) {\\n        return submitToHost;\\n    }\\n    if (stringStartsWith(submitToHost, \"//\")) {\\n        return submitToHost;\\n    }\\n    return defaultHost;\\n}\\n\\nfunction turkSetAssignmentID( form_name, button_name ) {\\n\\n  if (form_name == null) {\\n    form_name = \"mturk_form\";\\n  }\\n\\n  if (button_name == null) {\\n    button_name = \"submitButton\";\\n  }\\n\\n  assignmentID = turkGetParam(\\'assignmentId\\', \"\");\\n  document.getElementById(\\'assignmentId\\').value = assignmentID;\\n\\n  if (assignmentID == \"ASSIGNMENT_ID_NOT_AVAILABLE\") { \\n    // If we\\'re previewing, disable the button and give it a helpful message\\n    btn = document.getElementById(button_name);\\n    if (btn) {\\n      btn.disabled = true; \\n      btn.value = \"You must ACCEPT the HIT before you can submit the results.\";\\n    } \\n  }\\n\\n  form = document.getElementById(form_name); \\n  if (form) {\\n     form.action = turkGetSubmitToHost() + \"/mturk/externalSubmit\"; \\n  }\\n}\\nfunction stringStartsWith(str, search, pos) {\\n    pos = (!pos || pos < 0) ? 0 : +pos;\\n    return str.substring(pos, pos + search.length) === search;\\n}\\n</script>\\n<link href=\"https://cdn.jsdelivr.net/npm/bootstrap@5.1.3/dist/css/bootstrap.min.css\" rel=\"stylesheet\" integrity=\"sha384-1BmE4kWBq78iYhFldvKuhfTAU6auU8tT94WrHftjDbrCEXSU1oBoqyl2QvZ6jIW3\" crossorigin=\"anonymous\">\\n </head>\\n <body>\\n  <form name=\\'mturk_form\\' method=\\'post\\' id=\\'mturk_form\\' action=\\'https://www.mturk.com/mturk/externalSubmit\\'>\\n  <input type=\\'hidden\\' value=\\'\\' name=\\'assignmentId\\' id=\\'assignmentId\\'/>\\n  <h2>Instructions</h2>\\n  <p>We are conducting an academic survey about the conditions of the modern workplace.</p>\\n\\n  <p>This survey proceeds in <strong>two stages</strong>:</p>\\n\\n  <ol>\\n\\t  <li>First, please <strong>accept this HIT</strong> and then answer three quick questions about yourself below. As long as your responses are valid, your submission of this HIT will be auto-approved and you will receive the $0.10 reward for completion of this HIT.</li>\\n\\t  <li>Shortly after your submission, you will also receive an email containing a link to a <strong>second, custom HIT</strong> created for you, with a custom HIT reward amount. If you are willing to fill out an additional survey for this reward amount, with approximately 30 questions (about 30 seconds each) followed by a 300-word essay, please click the link in your email to access and accept the second-stage HIT.</li>\\n  </ol>\\n\\n  <p>This first-stage HIT may not be submitted more than once, and the second-stage HIT sent to your email will only be generated once per worker ID. Additional HIT submissions from the same worker will be rejected.</p>\\n  \\n  <p>\\n    <label for=\"age\">Please enter your age, in years:</label>\\n    <input class=\"form-control\" id=\"age\" name=\"age\" required=\"\" type=\"text\" />\\n  </p>\\n  <p>\\n    <label for=\"onlinehrs\">Hours per week spent online doing tasks for money:</label>\\n    <input class=\"form-control\" id=\"onlinehrs\" name=\"onlinehrs\" type=\"text\" />\\n  </p>\\n  <p>\\n    <label for=\"reason\">Primary reason for participation:</label>\\n    <select class=\"form-control\" id=\"reason\" name=\"reason\">\\n      <option disabled=\"disabled\" hidden=\"\" selected=\"selected\" value=\"\">-- Please select an option --</option>\\n      <option value=\"money\">Make money</option>\\n      <option value=\"skills\">Learn new skills</option><option value=\"fun\">Have fun</option>\\n    </select>\\n  </p>\\n  <p>\\n    <input type=\\'submit\\' id=\\'submitButton\\' value=\\'Submit\\' class=\"btn btn-primary\" />\\n  </p>\\n</form>\\n<script language=\\'Javascript\\'>turkSetAssignmentID();</script>\\n</body>\\n</html>\\n]]>\\n  </HTMLContent>\\n  <FrameHeight>450</FrameHeight>\\n</HTMLQuestion>\\n',\n  'Keywords': 'Quick <15 second survey about workplace conditions, upon submission will receive email with 2nd-stage HIT with higher reward',\n  'HITStatus': 'Reviewable',\n  'MaxAssignments': 100,\n  'Reward': '0.10',\n  'AutoApprovalDelayInSeconds': 2592000,\n  'Expiration': datetime.datetime(2022, 10, 12, 13, 33, 34, tzinfo=tzlocal()),\n  'AssignmentDurationInSeconds': 3600,\n  'QualificationRequirements': [{'QualificationTypeId': '00000000000000000071',\n    'Comparator': 'EqualTo',\n    'LocaleValues': [{'Country': 'US'}],\n    'RequiredToPreview': False,\n    'ActionsGuarded': 'Accept'},\n   {'QualificationTypeId': '3ACE7X5EFA17IX9O66OVG7YL1JYEN7',\n    'Comparator': 'DoesNotExist',\n    'RequiredToPreview': False,\n    'ActionsGuarded': 'Accept'}],\n  'HITReviewStatus': 'NotReviewed',\n  'NumberOfAssignmentsPending': 0,\n  'NumberOfAssignmentsAvailable': 0,\n  'NumberOfAssignmentsCompleted': 100},\n {'HITId': '39KV3A5D198Q27ZB0HATXGVCSV27SE',\n  'HITTypeId': '3IYH2PD9CAK8WJ2510OXIQAXEIJITO',\n  'HITGroupId': '3TR9CMHN4O2GSXKBKIAOMCVRLG7BBQ',\n  'CreationTime': datetime.datetime(2022, 10, 10, 21, 59, 46, tzinfo=tzlocal()),\n  'Title': 'Quick 3-question survey about work [<15 seconds], instantly unlock 2nd-stage HIT with higher reward',\n  'Description': 'survey,workplace,work',\n  'Question': '<HTMLQuestion xmlns=\"http://mechanicalturk.amazonaws.com/AWSMechanicalTurkDataSchemas/2011-11-11/HTMLQuestion.xsd\">\\n  <HTMLContent><![CDATA[\\n<!DOCTYPE html>\\n<html>\\n <head>\\n  <meta http-equiv=\\'Content-Type\\' content=\\'text/html; charset=UTF-8\\'/>\\n  <script>\\nfunction turkGetParam( name, defaultValue ) { \\n   var regexS = \"[\\\\?&]\"+name+\"=([^&#]*)\"; \\n   var regex = new RegExp( regexS ); \\n   var tmpURL = window.location.href; \\n   var results = regex.exec( tmpURL ); \\n   if( results == null ) { \\n     return defaultValue; \\n   } else { \\n     return results[1];    \\n   } \\n}\\nfunction decode(strToDecode)\\n{\\n  var encoded = strToDecode;\\n  return unescape(encoded.replace(/\\\\+/g,  \" \"));\\n}\\nfunction turkGetSubmitToHost() {\\n    var defaultHost = \"https://www.mturk.com\";\\n    var submitToHost = decode(turkGetParam(\"turkSubmitTo\", defaultHost));\\n    if (stringStartsWith(submitToHost, \"https://\")) {\\n        return submitToHost;\\n    }\\n    if (stringStartsWith(submitToHost, \"http://\")) {\\n        return submitToHost;\\n    }\\n    if (stringStartsWith(submitToHost, \"//\")) {\\n        return submitToHost;\\n    }\\n    return defaultHost;\\n}\\n\\nfunction turkSetAssignmentID( form_name, button_name ) {\\n\\n  if (form_name == null) {\\n    form_name = \"mturk_form\";\\n  }\\n\\n  if (button_name == null) {\\n    button_name = \"submitButton\";\\n  }\\n\\n  assignmentID = turkGetParam(\\'assignmentId\\', \"\");\\n  document.getElementById(\\'assignmentId\\').value = assignmentID;\\n\\n  if (assignmentID == \"ASSIGNMENT_ID_NOT_AVAILABLE\") { \\n    // If we\\'re previewing, disable the button and give it a helpful message\\n    btn = document.getElementById(button_name);\\n    if (btn) {\\n      btn.disabled = true; \\n      btn.value = \"You must ACCEPT the HIT before you can submit the results.\";\\n    } \\n  }\\n\\n  form = document.getElementById(form_name); \\n  if (form) {\\n     form.action = turkGetSubmitToHost() + \"/mturk/externalSubmit\"; \\n  }\\n}\\nfunction stringStartsWith(str, search, pos) {\\n    pos = (!pos || pos < 0) ? 0 : +pos;\\n    return str.substring(pos, pos + search.length) === search;\\n}\\n</script>\\n<link href=\"https://cdn.jsdelivr.net/npm/bootstrap@5.1.3/dist/css/bootstrap.min.css\" rel=\"stylesheet\" integrity=\"sha384-1BmE4kWBq78iYhFldvKuhfTAU6auU8tT94WrHftjDbrCEXSU1oBoqyl2QvZ6jIW3\" crossorigin=\"anonymous\">\\n </head>\\n <body>\\n  <form name=\\'mturk_form\\' method=\\'post\\' id=\\'mturk_form\\' action=\\'https://www.mturk.com/mturk/externalSubmit\\'>\\n  <input type=\\'hidden\\' value=\\'\\' name=\\'assignmentId\\' id=\\'assignmentId\\'/>\\n  <h2>Instructions</h2>\\n  <p>We are conducting an academic survey about the conditions of the modern workplace.</p>\\n\\n  <p>This survey proceeds in <strong>two stages</strong>:</p>\\n\\n  <ol>\\n\\t  <li>First, please <strong>accept this HIT</strong> and then answer three quick questions about yourself below. As long as your responses are valid, your submission of this HIT will be auto-approved and you will receive the $0.10 reward for completion of this HIT.</li>\\n\\t  <li>Shortly after your submission, you will also receive an email containing a link to a <strong>second, custom HIT</strong> created for you, with a custom HIT reward amount. If you are willing to fill out an additional survey for this reward amount, with approximately 30 questions (about 30 seconds each) followed by a 300-word essay, please click the link in your email to access and accept the second-stage HIT.</li>\\n  </ol>\\n\\n  <p>This first-stage HIT may not be submitted more than once, and the second-stage HIT sent to your email will only be generated once per worker ID. Additional HIT submissions from the same worker will be rejected.</p>\\n  \\n  <p>\\n    <label for=\"age\">Please enter your age, in years:</label>\\n    <input class=\"form-control\" id=\"age\" name=\"age\" required=\"\" type=\"text\" />\\n  </p>\\n  <p>\\n    <label for=\"onlinehrs\">Hours per week spent online doing tasks for money:</label>\\n    <input class=\"form-control\" id=\"onlinehrs\" name=\"onlinehrs\" type=\"text\" />\\n  </p>\\n  <p>\\n    <label for=\"reason\">Primary reason for participation:</label>\\n    <select class=\"form-control\" id=\"reason\" name=\"reason\">\\n      <option disabled=\"disabled\" hidden=\"\" selected=\"selected\" value=\"\">-- Please select an option --</option>\\n      <option value=\"money\">Make money</option>\\n      <option value=\"skills\">Learn new skills</option><option value=\"fun\">Have fun</option>\\n    </select>\\n  </p>\\n  <p>\\n    <input type=\\'submit\\' id=\\'submitButton\\' value=\\'Submit\\' class=\"btn btn-primary\" />\\n  </p>\\n</form>\\n<script language=\\'Javascript\\'>turkSetAssignmentID();</script>\\n</body>\\n</html>\\n]]>\\n  </HTMLContent>\\n  <FrameHeight>450</FrameHeight>\\n</HTMLQuestion>\\n',\n  'Keywords': 'Quick <15 second survey about workplace conditions, upon submission will receive email with 2nd-stage HIT with higher reward',\n  'HITStatus': 'Reviewable',\n  'MaxAssignments': 100,\n  'Reward': '0.10',\n  'AutoApprovalDelayInSeconds': 2592000,\n  'Expiration': datetime.datetime(2022, 10, 11, 21, 59, 46, tzinfo=tzlocal()),\n  'AssignmentDurationInSeconds': 3600,\n  'QualificationRequirements': [{'QualificationTypeId': '00000000000000000071',\n    'Comparator': 'EqualTo',\n    'LocaleValues': [{'Country': 'US'}],\n    'RequiredToPreview': False,\n    'ActionsGuarded': 'Accept'},\n   {'QualificationTypeId': '3ACE7X5EFA17IX9O66OVG7YL1JYEN7',\n    'Comparator': 'DoesNotExist',\n    'RequiredToPreview': False,\n    'ActionsGuarded': 'Accept'}],\n  'HITReviewStatus': 'NotReviewed',\n  'NumberOfAssignmentsPending': 0,\n  'NumberOfAssignmentsAvailable': 0,\n  'NumberOfAssignmentsCompleted': 100},\n {'HITId': '31JUPBOORO57Y894QD5YZUDCBKZL8Y',\n  'HITTypeId': '3IYH2PD9CAK8WJ2510OXIQAXEIJITO',\n  'HITGroupId': '3TR9CMHN4O2GSXKBKIAOMCVRLG7BBQ',\n  'CreationTime': datetime.datetime(2022, 10, 7, 13, 10, 12, tzinfo=tzlocal()),\n  'Title': 'Quick 3-question survey about work [<15 seconds], instantly unlock 2nd-stage HIT with higher reward',\n  'Description': 'survey,workplace,work',\n  'Question': '<HTMLQuestion xmlns=\"http://mechanicalturk.amazonaws.com/AWSMechanicalTurkDataSchemas/2011-11-11/HTMLQuestion.xsd\">\\n  <HTMLContent><![CDATA[\\n<!DOCTYPE html>\\n<html>\\n <head>\\n  <meta http-equiv=\\'Content-Type\\' content=\\'text/html; charset=UTF-8\\'/>\\n  <script>\\nfunction turkGetParam( name, defaultValue ) { \\n   var regexS = \"[\\\\?&]\"+name+\"=([^&#]*)\"; \\n   var regex = new RegExp( regexS ); \\n   var tmpURL = window.location.href; \\n   var results = regex.exec( tmpURL ); \\n   if( results == null ) { \\n     return defaultValue; \\n   } else { \\n     return results[1];    \\n   } \\n}\\nfunction decode(strToDecode)\\n{\\n  var encoded = strToDecode;\\n  return unescape(encoded.replace(/\\\\+/g,  \" \"));\\n}\\nfunction turkGetSubmitToHost() {\\n    var defaultHost = \"https://www.mturk.com\";\\n    var submitToHost = decode(turkGetParam(\"turkSubmitTo\", defaultHost));\\n    if (stringStartsWith(submitToHost, \"https://\")) {\\n        return submitToHost;\\n    }\\n    if (stringStartsWith(submitToHost, \"http://\")) {\\n        return submitToHost;\\n    }\\n    if (stringStartsWith(submitToHost, \"//\")) {\\n        return submitToHost;\\n    }\\n    return defaultHost;\\n}\\n\\nfunction turkSetAssignmentID( form_name, button_name ) {\\n\\n  if (form_name == null) {\\n    form_name = \"mturk_form\";\\n  }\\n\\n  if (button_name == null) {\\n    button_name = \"submitButton\";\\n  }\\n\\n  assignmentID = turkGetParam(\\'assignmentId\\', \"\");\\n  document.getElementById(\\'assignmentId\\').value = assignmentID;\\n\\n  if (assignmentID == \"ASSIGNMENT_ID_NOT_AVAILABLE\") { \\n    // If we\\'re previewing, disable the button and give it a helpful message\\n    btn = document.getElementById(button_name);\\n    if (btn) {\\n      btn.disabled = true; \\n      btn.value = \"You must ACCEPT the HIT before you can submit the results.\";\\n    } \\n  }\\n\\n  form = document.getElementById(form_name); \\n  if (form) {\\n     form.action = turkGetSubmitToHost() + \"/mturk/externalSubmit\"; \\n  }\\n}\\nfunction stringStartsWith(str, search, pos) {\\n    pos = (!pos || pos < 0) ? 0 : +pos;\\n    return str.substring(pos, pos + search.length) === search;\\n}\\n</script>\\n<link href=\"https://cdn.jsdelivr.net/npm/bootstrap@5.1.3/dist/css/bootstrap.min.css\" rel=\"stylesheet\" integrity=\"sha384-1BmE4kWBq78iYhFldvKuhfTAU6auU8tT94WrHftjDbrCEXSU1oBoqyl2QvZ6jIW3\" crossorigin=\"anonymous\">\\n </head>\\n <body>\\n  <form name=\\'mturk_form\\' method=\\'post\\' id=\\'mturk_form\\' action=\\'https://www.mturk.com/mturk/externalSubmit\\'>\\n  <input type=\\'hidden\\' value=\\'\\' name=\\'assignmentId\\' id=\\'assignmentId\\'/>\\n  <h2>Instructions</h2>\\n  <p>We are conducting an academic survey about the conditions of the modern workplace.</p>\\n\\n  <p>This survey proceeds in <strong>two stages</strong>:</p>\\n\\n  <ol>\\n\\t  <li>First, please <strong>accept this HIT</strong> and then answer three quick questions about yourself below. As long as your responses are valid, your submission of this HIT will be auto-approved and you will receive the $0.10 reward for completion of this HIT.</li>\\n\\t  <li>Shortly after your submission, you will also receive an email containing a link to a <strong>second, custom HIT</strong> created for you, with a custom HIT reward amount. If you are willing to fill out an additional survey for this reward amount, with approximately 30 questions (about 30 seconds each) followed by a 300-word essay, please click the link in your email to access and accept the second-stage HIT.</li>\\n  </ol>\\n\\n  <p>This first-stage HIT may not be submitted more than once, and the second-stage HIT sent to your email will only be generated once per worker ID. Additional HIT submissions from the same worker will be rejected.</p>\\n  \\n  <p>\\n    <label for=\"age\">Please enter your age, in years:</label>\\n    <input class=\"form-control\" id=\"age\" name=\"age\" required=\"\" type=\"text\" />\\n  </p>\\n  <p>\\n    <label for=\"onlinehrs\">Hours per week spent online doing tasks for money:</label>\\n    <input class=\"form-control\" id=\"onlinehrs\" name=\"onlinehrs\" type=\"text\" />\\n  </p>\\n  <p>\\n    <label for=\"reason\">Primary reason for participation:</label>\\n    <select class=\"form-control\" id=\"reason\" name=\"reason\">\\n      <option disabled=\"disabled\" hidden=\"\" selected=\"selected\" value=\"\">-- Please select an option --</option>\\n      <option value=\"money\">Make money</option>\\n      <option value=\"skills\">Learn new skills</option><option value=\"fun\">Have fun</option>\\n    </select>\\n  </p>\\n  <p>\\n    <input type=\\'submit\\' id=\\'submitButton\\' value=\\'Submit\\' class=\"btn btn-primary\" />\\n  </p>\\n</form>\\n<script language=\\'Javascript\\'>turkSetAssignmentID();</script>\\n</body>\\n</html>\\n]]>\\n  </HTMLContent>\\n  <FrameHeight>450</FrameHeight>\\n</HTMLQuestion>\\n',\n  'Keywords': 'Quick <15 second survey about workplace conditions, upon submission will receive email with 2nd-stage HIT with higher reward',\n  'HITStatus': 'Reviewable',\n  'MaxAssignments': 100,\n  'Reward': '0.10',\n  'AutoApprovalDelayInSeconds': 2592000,\n  'Expiration': datetime.datetime(2022, 10, 8, 13, 10, 12, tzinfo=tzlocal()),\n  'AssignmentDurationInSeconds': 3600,\n  'QualificationRequirements': [{'QualificationTypeId': '00000000000000000071',\n    'Comparator': 'EqualTo',\n    'LocaleValues': [{'Country': 'US'}],\n    'RequiredToPreview': False,\n    'ActionsGuarded': 'Accept'},\n   {'QualificationTypeId': '3ACE7X5EFA17IX9O66OVG7YL1JYEN7',\n    'Comparator': 'DoesNotExist',\n    'RequiredToPreview': False,\n    'ActionsGuarded': 'Accept'}],\n  'HITReviewStatus': 'NotReviewed',\n  'NumberOfAssignmentsPending': 0,\n  'NumberOfAssignmentsAvailable': 0,\n  'NumberOfAssignmentsCompleted': 100},\n {'HITId': '3BKZLF99000X4BGZVMBOFT08E34QYH',\n  'HITTypeId': '3IYH2PD9CAK8WJ2510OXIQAXEIJITO',\n  'HITGroupId': '3TR9CMHN4O2GSXKBKIAOMCVRLG7BBQ',\n  'CreationTime': datetime.datetime(2022, 10, 3, 22, 12, 16, tzinfo=tzlocal()),\n  'Title': 'Quick 3-question survey about work [<15 seconds], instantly unlock 2nd-stage HIT with higher reward',\n  'Description': 'survey,workplace,work',\n  'Question': '<HTMLQuestion xmlns=\"http://mechanicalturk.amazonaws.com/AWSMechanicalTurkDataSchemas/2011-11-11/HTMLQuestion.xsd\">\\n  <HTMLContent><![CDATA[\\n<!DOCTYPE html>\\n<html>\\n <head>\\n  <meta http-equiv=\\'Content-Type\\' content=\\'text/html; charset=UTF-8\\'/>\\n  <script>\\nfunction turkGetParam( name, defaultValue ) { \\n   var regexS = \"[\\\\?&]\"+name+\"=([^&#]*)\"; \\n   var regex = new RegExp( regexS ); \\n   var tmpURL = window.location.href; \\n   var results = regex.exec( tmpURL ); \\n   if( results == null ) { \\n     return defaultValue; \\n   } else { \\n     return results[1];    \\n   } \\n}\\nfunction decode(strToDecode)\\n{\\n  var encoded = strToDecode;\\n  return unescape(encoded.replace(/\\\\+/g,  \" \"));\\n}\\nfunction turkGetSubmitToHost() {\\n    var defaultHost = \"https://www.mturk.com\";\\n    var submitToHost = decode(turkGetParam(\"turkSubmitTo\", defaultHost));\\n    if (stringStartsWith(submitToHost, \"https://\")) {\\n        return submitToHost;\\n    }\\n    if (stringStartsWith(submitToHost, \"http://\")) {\\n        return submitToHost;\\n    }\\n    if (stringStartsWith(submitToHost, \"//\")) {\\n        return submitToHost;\\n    }\\n    return defaultHost;\\n}\\n\\nfunction turkSetAssignmentID( form_name, button_name ) {\\n\\n  if (form_name == null) {\\n    form_name = \"mturk_form\";\\n  }\\n\\n  if (button_name == null) {\\n    button_name = \"submitButton\";\\n  }\\n\\n  assignmentID = turkGetParam(\\'assignmentId\\', \"\");\\n  document.getElementById(\\'assignmentId\\').value = assignmentID;\\n\\n  if (assignmentID == \"ASSIGNMENT_ID_NOT_AVAILABLE\") { \\n    // If we\\'re previewing, disable the button and give it a helpful message\\n    btn = document.getElementById(button_name);\\n    if (btn) {\\n      btn.disabled = true; \\n      btn.value = \"You must ACCEPT the HIT before you can submit the results.\";\\n    } \\n  }\\n\\n  form = document.getElementById(form_name); \\n  if (form) {\\n     form.action = turkGetSubmitToHost() + \"/mturk/externalSubmit\"; \\n  }\\n}\\nfunction stringStartsWith(str, search, pos) {\\n    pos = (!pos || pos < 0) ? 0 : +pos;\\n    return str.substring(pos, pos + search.length) === search;\\n}\\n</script>\\n<link href=\"https://cdn.jsdelivr.net/npm/bootstrap@5.1.3/dist/css/bootstrap.min.css\" rel=\"stylesheet\" integrity=\"sha384-1BmE4kWBq78iYhFldvKuhfTAU6auU8tT94WrHftjDbrCEXSU1oBoqyl2QvZ6jIW3\" crossorigin=\"anonymous\">\\n </head>\\n <body>\\n  <form name=\\'mturk_form\\' method=\\'post\\' id=\\'mturk_form\\' action=\\'https://www.mturk.com/mturk/externalSubmit\\'>\\n  <input type=\\'hidden\\' value=\\'\\' name=\\'assignmentId\\' id=\\'assignmentId\\'/>\\n  <h2>Instructions</h2>\\n  <p>We are conducting an academic survey about the conditions of the modern workplace.</p>\\n\\n  <p>This survey proceeds in <strong>two stages</strong>:</p>\\n\\n  <ol>\\n\\t  <li>First, please <strong>accept this HIT</strong> and then answer three quick questions about yourself below. As long as your responses are valid, your submission of this HIT will be auto-approved and you will receive the $0.10 reward for completion of this HIT.</li>\\n\\t  <li>Immediately upon submission, you will also receive an email containing a link to a <strong>second, custom HIT</strong> created for you, with a custom HIT reward amount. If you are willing to fill out an additional survey for this reward amount, with approximately 30 questions (about 30 seconds each), please click the link in your email to access and accept the second-stage HIT.</li>\\n  </ol>\\n\\n  <p>This first-stage HIT may not be submitted more than once, and the second-stage HIT sent to your email will only be generated once per worker ID. Additional HIT submissions from the same worker will be rejected.</p>\\n  \\n  <p>\\n    <label for=\"age\">Please enter your age, in years:</label>\\n    <input class=\"form-control\" id=\"age\" name=\"age\" required=\"\" type=\"text\" />\\n  </p>\\n  <p>\\n    <label for=\"onlinehrs\">Hours per week spent online doing tasks for money:</label>\\n    <input class=\"form-control\" id=\"onlinehrs\" name=\"onlinehrs\" type=\"text\" />\\n  </p>\\n  <p>\\n    <label for=\"reason\">Primary reason for participation:</label>\\n    <select class=\"form-control\" id=\"reason\" name=\"reason\">\\n      <option disabled=\"disabled\" hidden=\"\" selected=\"selected\" value=\"\">-- Please select an option --</option>\\n      <option value=\"money\">Make money</option>\\n      <option value=\"skills\">Learn new skills</option><option value=\"fun\">Have fun</option>\\n    </select>\\n  </p>\\n  <p>\\n    <input type=\\'submit\\' id=\\'submitButton\\' value=\\'Submit\\' class=\"btn btn-primary\" />\\n  </p>\\n</form>\\n<script language=\\'Javascript\\'>turkSetAssignmentID();</script>\\n</body>\\n</html>\\n]]>\\n  </HTMLContent>\\n  <FrameHeight>450</FrameHeight>\\n</HTMLQuestion>\\n',\n  'Keywords': 'Quick <15 second survey about workplace conditions, upon submission will receive email with 2nd-stage HIT with higher reward',\n  'HITStatus': 'Reviewable',\n  'MaxAssignments': 100,\n  'Reward': '0.10',\n  'AutoApprovalDelayInSeconds': 2592000,\n  'Expiration': datetime.datetime(2022, 10, 4, 22, 12, 16, tzinfo=tzlocal()),\n  'AssignmentDurationInSeconds': 3600,\n  'QualificationRequirements': [{'QualificationTypeId': '00000000000000000071',\n    'Comparator': 'EqualTo',\n    'LocaleValues': [{'Country': 'US'}],\n    'RequiredToPreview': False,\n    'ActionsGuarded': 'Accept'},\n   {'QualificationTypeId': '3ACE7X5EFA17IX9O66OVG7YL1JYEN7',\n    'Comparator': 'DoesNotExist',\n    'RequiredToPreview': False,\n    'ActionsGuarded': 'Accept'}],\n  'HITReviewStatus': 'NotReviewed',\n  'NumberOfAssignmentsPending': 0,\n  'NumberOfAssignmentsAvailable': 0,\n  'NumberOfAssignmentsCompleted': 100}]"
     },
     "execution_count": 6,
     "metadata": {},
     "output_type": "execute_result"
    }
   ],
   "source": [
    "stage1_hits = [h for h in all_hits if \"instantly unlock\" in h['Title']]\n",
    "stage1_hits"
   ],
   "metadata": {
    "collapsed": false,
    "pycharm": {
     "name": "#%%\n"
    }
   }
  },
  {
   "cell_type": "code",
   "execution_count": 7,
   "outputs": [],
   "source": [
    "all_stage1_data = {}\n",
    "for cur_stage1_hit in stage1_hits:\n",
    "    # Get the responses\n",
    "    submissions = client.get_hit_submissions(cur_stage1_hit['HITId'])\n",
    "    for cur_submission in submissions:\n",
    "        cur_worker_id = cur_submission['WorkerId']\n",
    "        cur_answer_xml = cur_submission['Answer']\n",
    "        cur_answer = mtglobals.parse_stage1_answer(cur_answer_xml)\n",
    "        cur_accept_time = cur_submission['AcceptTime']\n",
    "        cur_submit_time = cur_submission['SubmitTime']\n",
    "        all_stage1_data[cur_worker_id] = {'answer': cur_answer, 'accept_time': cur_accept_time,\n",
    "                                          'submit_time': cur_submit_time}"
   ],
   "metadata": {
    "collapsed": false,
    "pycharm": {
     "name": "#%%\n"
    }
   }
  },
  {
   "cell_type": "code",
   "execution_count": 8,
   "outputs": [
    {
     "data": {
      "text/plain": "1000"
     },
     "execution_count": 8,
     "metadata": {},
     "output_type": "execute_result"
    }
   ],
   "source": [
    "len(all_stage1_data)"
   ],
   "metadata": {
    "collapsed": false,
    "pycharm": {
     "name": "#%%\n"
    }
   }
  },
  {
   "cell_type": "markdown",
   "id": "a9df9eb1-b364-4377-b149-66ee5bb336e4",
   "metadata": {
    "pycharm": {
     "name": "#%% md\n"
    }
   },
   "source": [
    "### (c) Specify the participation quals for each run you want to include in the compiled results"
   ]
  },
  {
   "cell_type": "code",
   "execution_count": 9,
   "id": "6df50784-d8cd-4a39-a8a5-ee3633c67da7",
   "metadata": {
    "tags": [],
    "pycharm": {
     "name": "#%%\n"
    }
   },
   "outputs": [],
   "source": [
    "qual_names = ['Workplace_Survey_00']\n",
    "#qual_names = ['Workplace_Survey_Custom06','Workplace_Survey_Custom07',\n",
    "#              'Workplace_Survey_Custom08','Workplace_Survey_Custom09',\n",
    "#              'Workplace_Survey_Custom10','Workplace_Survey_Custom11',\n",
    "#              'Workplace_Survey_Custom12','Workplace_Survey_Custom13',\n",
    "#              'Workplace_Survey_Custom14']\n",
    "#qual_names = ['Workplace_Survey_Custom12']"
   ]
  },
  {
   "cell_type": "code",
   "execution_count": 10,
   "id": "6fb9a80b-245e-4a5c-8077-16c4e141c14c",
   "metadata": {
    "tags": [],
    "pycharm": {
     "name": "#%%\n"
    }
   },
   "outputs": [],
   "source": [
    "all_worker_ids = []\n",
    "for cur_qual_name in qual_names:\n",
    "    worker_ids = client.get_workers_with_qual(cur_qual_name)\n",
    "    all_worker_ids.extend(worker_ids)"
   ]
  },
  {
   "cell_type": "code",
   "execution_count": 11,
   "id": "0717c887-c10a-4679-8d20-d14cc6cc6541",
   "metadata": {
    "tags": [],
    "pycharm": {
     "name": "#%%\n"
    }
   },
   "outputs": [
    {
     "data": {
      "text/plain": "1000"
     },
     "execution_count": 11,
     "metadata": {},
     "output_type": "execute_result"
    }
   ],
   "source": [
    "len(all_worker_ids)"
   ]
  },
  {
   "cell_type": "markdown",
   "id": "b15839af-038d-40d2-b223-31232cc3ab12",
   "metadata": {
    "pycharm": {
     "name": "#%% md\n"
    }
   },
   "source": [
    "### (d) Get the HITs for each worker across the quals from the previous step"
   ]
  },
  {
   "cell_type": "code",
   "execution_count": 12,
   "id": "c65c4e38-75f7-4000-9738-0ff639c69d47",
   "metadata": {
    "tags": [],
    "pycharm": {
     "name": "#%%\n"
    }
   },
   "outputs": [],
   "source": [
    "# (worker_id, hit) tuples\n",
    "worker_data = [{'id': wid, 'hit': mtglobals.get_hit_for_worker(all_hits, wid)} for wid in all_worker_ids]"
   ]
  },
  {
   "cell_type": "code",
   "execution_count": 13,
   "outputs": [
    {
     "data": {
      "text/plain": "1000"
     },
     "execution_count": 13,
     "metadata": {},
     "output_type": "execute_result"
    }
   ],
   "source": [
    "len(worker_data)"
   ],
   "metadata": {
    "collapsed": false,
    "pycharm": {
     "name": "#%%\n"
    }
   }
  },
  {
   "cell_type": "code",
   "execution_count": 14,
   "outputs": [
    {
     "data": {
      "text/plain": "{'id': 'A101J0P2UYUKA1',\n 'hit': {'HITId': '3NBFJK3IOIJUX8IJM3XEJOY4UAOOG9',\n  'HITTypeId': '3XLRCUUVLW6TOPIFGGC3TLMGSFQU4F',\n  'HITGroupId': '3AJ89545NQ0EZ0WVU9CENK1COFHBER',\n  'CreationTime': datetime.datetime(2022, 10, 13, 15, 32, 15, tzinfo=tzlocal()),\n  'Title': 'Custom workplace survey HIT for worker id A101J0P2UYUKA1',\n  'Description': 'Custom workplace survey HIT for worker id A101J0P2UYUKA1, 30 questions, ~15mins to complete',\n  'Question': '<HTMLQuestion xmlns=\"http://mechanicalturk.amazonaws.com/AWSMechanicalTurkDataSchemas/2011-11-11/HTMLQuestion.xsd\">\\n  <HTMLContent><![CDATA[\\n<!DOCTYPE html>\\n<html>\\n <head>\\n  <meta http-equiv=\\'Content-Type\\' content=\\'text/html; charset=UTF-8\\'/>\\n  <script>\\nfunction turkGetParam( name, defaultValue ) { \\n   var regexS = \"[\\\\?&]\"+name+\"=([^&#]*)\"; \\n   var regex = new RegExp( regexS ); \\n   var tmpURL = window.location.href; \\n   var results = regex.exec( tmpURL ); \\n   if( results == null ) { \\n     return defaultValue; \\n   } else { \\n     return results[1];    \\n   } \\n}\\nfunction decode(strToDecode)\\n{\\n  var encoded = strToDecode;\\n  return unescape(encoded.replace(/\\\\+/g,  \" \"));\\n}\\nfunction turkGetSubmitToHost() {\\n    var defaultHost = \"https://www.mturk.com\";\\n    var submitToHost = decode(turkGetParam(\"turkSubmitTo\", defaultHost));\\n    if (stringStartsWith(submitToHost, \"https://\")) {\\n        return submitToHost;\\n    }\\n    if (stringStartsWith(submitToHost, \"http://\")) {\\n        return submitToHost;\\n    }\\n    if (stringStartsWith(submitToHost, \"//\")) {\\n        return submitToHost;\\n    }\\n    return defaultHost;\\n}\\n\\nfunction turkSetAssignmentID( form_name, button_name ) {\\n\\n  if (form_name == null) {\\n    form_name = \"mturk_form\";\\n  }\\n\\n  if (button_name == null) {\\n    button_name = \"submitButton\";\\n  }\\n\\n  assignmentID = turkGetParam(\\'assignmentId\\', \"\");\\n  document.getElementById(\\'assignmentId\\').value = assignmentID;\\n\\n  if (assignmentID == \"ASSIGNMENT_ID_NOT_AVAILABLE\") { \\n    // If we\\'re previewing, disable the button and give it a helpful message\\n    btn = document.getElementById(button_name);\\n    if (btn) {\\n      btn.disabled = true; \\n      btn.value = \"You must ACCEPT the HIT before you can submit the results.\";\\n    } \\n  }\\n\\n  form = document.getElementById(form_name); \\n  if (form) {\\n     form.action = turkGetSubmitToHost() + \"/mturk/externalSubmit\"; \\n  }\\n}\\nfunction stringStartsWith(str, search, pos) {\\n    pos = (!pos || pos < 0) ? 0 : +pos;\\n    return str.substring(pos, pos + search.length) === search;\\n}\\n</script>\\n<link href=\"https://cdn.jsdelivr.net/npm/bootstrap@5.1.3/dist/css/bootstrap.min.css\" rel=\"stylesheet\" integrity=\"sha384-1BmE4kWBq78iYhFldvKuhfTAU6auU8tT94WrHftjDbrCEXSU1oBoqyl2QvZ6jIW3\" crossorigin=\"anonymous\">\\n </head>\\n <body>\\n  <form name=\\'mturk_form\\' method=\\'post\\' id=\\'mturk_form\\' action=\\'https://www.mturk.com/mturk/externalSubmit\\'>\\n  <input type=\\'hidden\\' value=\\'\\' name=\\'assignmentId\\' id=\\'assignmentId\\'/>\\n  <h2>Instructions</h2>\\n  <p>We are conducting an academic survey about the conditions of the modern workplace.</p>\\n    <p>\\n        This survey HIT has been custom-generated for you based on your worker ID, A101J0P2UYUKA1, and will be available for the next 24 hours. If you are willing to fill out an additional survey with approximately 30 questions (about 30 seconds each) and a 300-word essay for this HIT\\'s reward amount ($1.05), please (1) accept this HIT, (2) fill out the survey at the link below, and (3) upon completion, copy-and-paste the survey completion code into the text box below. Your submission will be checked for accuracy and then approved or rejected within 24 hours.\\n    </p>\\n  <p>\\n    Survey Link:\\n    <a href=\"https://cumc.co1.qualtrics.com/jfe/form/SV_9Rn0KXVVGoPUrqe?offer=1.05&amp;mt_id=A101J0P2UYUKA1\" target=\"_blank\" rel=\"noopener noreferrer\" id=\"surveyLink\">Click here to launch the survey</a>\\n  </p>\\n  <p>\\n    <label for=\"codeInput\">Enter Survey Completion Code:</label></td>\\n\\t<input id=\"codeInput\" name=\"surveyCode\" style=\"width: 100%;\" type=\"text\" />\\n  </p>\\n  <p>\\n    <input type=\\'submit\\' id=\\'submitButton\\' value=\\'Submit\\' class=\"btn btn-primary\" />\\n  </p>\\n</form>\\n<script language=\\'Javascript\\'>turkSetAssignmentID();</script>\\n</body>\\n</html>\\n]]>\\n  </HTMLContent>\\n  <FrameHeight>450</FrameHeight>\\n</HTMLQuestion>\\n',\n  'Keywords': 'survey,workplace,work',\n  'HITStatus': 'Reviewable',\n  'MaxAssignments': 1,\n  'Reward': '1.05',\n  'AutoApprovalDelayInSeconds': 2592000,\n  'Expiration': datetime.datetime(2022, 10, 14, 15, 32, 15, tzinfo=tzlocal()),\n  'AssignmentDurationInSeconds': 3600,\n  'QualificationRequirements': [{'QualificationTypeId': '32X4OLFWW2U0L40877ZNJOMSQPITDT',\n    'Comparator': 'In',\n    'IntegerValues': [37],\n    'RequiredToPreview': True,\n    'ActionsGuarded': 'DiscoverPreviewAndAccept'}],\n  'HITReviewStatus': 'NotReviewed',\n  'NumberOfAssignmentsPending': 0,\n  'NumberOfAssignmentsAvailable': 0,\n  'NumberOfAssignmentsCompleted': 1}}"
     },
     "execution_count": 14,
     "metadata": {},
     "output_type": "execute_result"
    }
   ],
   "source": [
    "worker_data[0]"
   ],
   "metadata": {
    "collapsed": false,
    "pycharm": {
     "name": "#%%\n"
    }
   }
  },
  {
   "cell_type": "code",
   "execution_count": 15,
   "outputs": [
    {
     "data": {
      "text/plain": "['workerdata_temp.pkl']"
     },
     "execution_count": 15,
     "metadata": {},
     "output_type": "execute_result"
    }
   ],
   "source": [
    "joblib.dump(worker_data, \"workerdata_temp.pkl\")"
   ],
   "metadata": {
    "collapsed": false,
    "pycharm": {
     "name": "#%%\n"
    }
   }
  },
  {
   "cell_type": "code",
   "execution_count": 16,
   "id": "ba007c55-8a66-4748-bc3e-1e24129bcc14",
   "metadata": {
    "tags": [],
    "pycharm": {
     "name": "#%%\n"
    }
   },
   "outputs": [
    {
     "name": "stderr",
     "output_type": "stream",
     "text": [
      "100%|██████████| 1000/1000 [03:06<00:00,  5.36it/s]\n"
     ]
    }
   ],
   "source": [
    "all_submit_info = []\n",
    "for cur_data in tqdm.tqdm(worker_data):\n",
    "    worker_id = cur_data['id']\n",
    "    cur_hit = cur_data['hit']\n",
    "    hit_id = cur_hit['HITId']\n",
    "    reward = cur_hit['Reward']\n",
    "    num_avail = cur_hit['NumberOfAssignmentsAvailable']\n",
    "    creation = cur_hit['CreationTime']\n",
    "    # Now see if they accepted, and if so, record accept+submit times\n",
    "    accept_time = None\n",
    "    submit_time = None\n",
    "    submissions = client.get_hit_submissions(hit_id)\n",
    "    if len(submissions) > 0:\n",
    "        submission = submissions[0]\n",
    "        accept_time = submission['AcceptTime']\n",
    "        submit_time = submission['SubmitTime']\n",
    "    # Convert to non-localized\n",
    "    creation_naive = creation.replace(tzinfo=None)\n",
    "    # 1 - this is a 0/1 accepted vs. not accepted\n",
    "    accepted = 1 - num_avail\n",
    "    #print(f\"Processing {hit_id}, {reward}\")\n",
    "    submit_info = {'worker_id':worker_id, 'wage':reward, 'accepted':accepted,\n",
    "                   'stage2_creation':creation_naive, 'stage2_creation_str':str(creation),\n",
    "                   'stage2_accept_time': accept_time, 'stage2_submit_time': submit_time}\n",
    "    all_submit_info.append(submit_info)"
   ]
  },
  {
   "cell_type": "code",
   "execution_count": 17,
   "id": "b26c79ec-4e2f-4c73-b56c-319beb39e90b",
   "metadata": {
    "tags": [],
    "pycharm": {
     "name": "#%%\n"
    }
   },
   "outputs": [],
   "source": [
    "#cur_hit"
   ]
  },
  {
   "cell_type": "code",
   "execution_count": 18,
   "id": "f7c74488-e0c3-4721-a148-83d6fa1650c3",
   "metadata": {
    "tags": [],
    "pycharm": {
     "name": "#%%\n"
    }
   },
   "outputs": [
    {
     "data": {
      "text/plain": "{'worker_id': 'A101J0P2UYUKA1',\n 'wage': '1.05',\n 'accepted': 1,\n 'stage2_creation': datetime.datetime(2022, 10, 13, 15, 32, 15),\n 'stage2_creation_str': '2022-10-13 15:32:15-07:00',\n 'stage2_accept_time': datetime.datetime(2022, 10, 13, 15, 41, 19, tzinfo=tzlocal()),\n 'stage2_submit_time': datetime.datetime(2022, 10, 13, 15, 48, 31, tzinfo=tzlocal())}"
     },
     "execution_count": 18,
     "metadata": {},
     "output_type": "execute_result"
    }
   ],
   "source": [
    "all_submit_info[0]"
   ]
  },
  {
   "cell_type": "markdown",
   "id": "695d12d0-0de6-4513-b8f8-9a9e7fc3147a",
   "metadata": {
    "pycharm": {
     "name": "#%% md\n"
    }
   },
   "source": [
    "### (e) Transform the downloaded data into .dta form for regression"
   ]
  },
  {
   "cell_type": "code",
   "execution_count": 102,
   "id": "2a80ec2e-35f1-4450-aa93-557c8e18eb2f",
   "metadata": {
    "tags": [],
    "pycharm": {
     "name": "#%%\n"
    }
   },
   "outputs": [],
   "source": [
    "# Transform this into a .dta for regression\n",
    "accepted_df = pd.DataFrame(all_submit_info)"
   ]
  },
  {
   "cell_type": "code",
   "execution_count": 103,
   "id": "ed871f06-1445-4253-bb43-78edcd9122ef",
   "metadata": {
    "pycharm": {
     "name": "#%%\n"
    }
   },
   "outputs": [
    {
     "data": {
      "text/plain": "1000"
     },
     "execution_count": 103,
     "metadata": {},
     "output_type": "execute_result"
    }
   ],
   "source": [
    "len(accepted_df)"
   ]
  },
  {
   "cell_type": "code",
   "execution_count": 104,
   "id": "7adf5c0e-c9c8-454c-9b40-0e629e4e0b35",
   "metadata": {
    "tags": [],
    "pycharm": {
     "name": "#%%\n"
    }
   },
   "outputs": [],
   "source": [
    "accepted_df['lwage'] = accepted_df['wage'].apply(lambda x: np.log(float(x)))"
   ]
  },
  {
   "cell_type": "code",
   "execution_count": 105,
   "id": "893d6907-1550-4e0d-8d63-eef4b4d511c0",
   "metadata": {
    "tags": [],
    "pycharm": {
     "name": "#%%\n"
    }
   },
   "outputs": [
    {
     "name": "stdout",
     "output_type": "stream",
     "text": [
      "                            OLS Regression Results                            \n",
      "==============================================================================\n",
      "Dep. Variable:               accepted   R-squared:                       0.002\n",
      "Model:                            OLS   Adj. R-squared:                  0.001\n",
      "Method:                 Least Squares   F-statistic:                     1.522\n",
      "Date:                Mon, 17 Oct 2022   Prob (F-statistic):              0.218\n",
      "Time:                        18:11:31   Log-Likelihood:                -631.00\n",
      "No. Observations:                1000   AIC:                             1266.\n",
      "Df Residuals:                     998   BIC:                             1276.\n",
      "Df Model:                           1                                         \n",
      "Covariance Type:                  HC1                                         \n",
      "==============================================================================\n",
      "                 coef    std err          z      P>|z|      [0.025      0.975]\n",
      "------------------------------------------------------------------------------\n",
      "Intercept      0.7084      0.014     49.193      0.000       0.680       0.737\n",
      "lwage          0.0754      0.061      1.234      0.217      -0.044       0.195\n",
      "==============================================================================\n",
      "Omnibus:                      684.443   Durbin-Watson:                   2.124\n",
      "Prob(Omnibus):                  0.000   Jarque-Bera (JB):              194.184\n",
      "Skew:                          -0.908   Prob(JB):                     6.82e-43\n",
      "Kurtosis:                       1.831   Cond. No.                         4.20\n",
      "==============================================================================\n",
      "\n",
      "Notes:\n",
      "[1] Standard Errors are heteroscedasticity robust (HC1)\n"
     ]
    }
   ],
   "source": [
    "reg_result = smf.ols(formula='accepted ~ lwage', data=accepted_df).fit(cov_type='HC1')\n",
    "print(reg_result.summary())"
   ]
  },
  {
   "cell_type": "code",
   "execution_count": 106,
   "id": "e0c1bd7d-c9df-4b24-9579-55d7f515eb8b",
   "metadata": {
    "tags": [],
    "pycharm": {
     "name": "#%%\n"
    }
   },
   "outputs": [
    {
     "data": {
      "text/plain": "0.707"
     },
     "execution_count": 106,
     "metadata": {},
     "output_type": "execute_result"
    }
   ],
   "source": [
    "# Also get the sample mean of the dependent var\n",
    "np.mean(accepted_df['accepted'])"
   ]
  },
  {
   "cell_type": "markdown",
   "source": [
    "### (f) Merge in worker stage1 answers"
   ],
   "metadata": {
    "collapsed": false,
    "pycharm": {
     "name": "#%% md\n"
    }
   }
  },
  {
   "cell_type": "code",
   "execution_count": 107,
   "outputs": [],
   "source": [
    "def get_answer_data(worker_id):\n",
    "    return all_stage1_data[worker_id]['answer']"
   ],
   "metadata": {
    "collapsed": false,
    "pycharm": {
     "name": "#%%\n"
    }
   }
  },
  {
   "cell_type": "code",
   "execution_count": 108,
   "outputs": [],
   "source": [
    "accepted_df[['age','onlinehrs_str','reason']] = accepted_df['worker_id'].apply(lambda x: pd.Series(get_answer_data(x)))"
   ],
   "metadata": {
    "collapsed": false,
    "pycharm": {
     "name": "#%%\n"
    }
   }
  },
  {
   "cell_type": "code",
   "execution_count": 109,
   "outputs": [
    {
     "data": {
      "text/plain": "{'answer': {'age': '38', 'onlinehrs': '8', 'reason': 'money'},\n 'accept_time': datetime.datetime(2022, 10, 16, 16, 33, 21, tzinfo=tzlocal()),\n 'submit_time': datetime.datetime(2022, 10, 16, 16, 34, 4, tzinfo=tzlocal())}"
     },
     "execution_count": 109,
     "metadata": {},
     "output_type": "execute_result"
    }
   ],
   "source": [
    "test_id = list(all_stage1_data.keys())[0]\n",
    "all_stage1_data[test_id]"
   ],
   "metadata": {
    "collapsed": false,
    "pycharm": {
     "name": "#%%\n"
    }
   }
  },
  {
   "cell_type": "code",
   "execution_count": 110,
   "outputs": [],
   "source": [
    "accepted_df['stage1_accept_time'] = accepted_df['worker_id'].apply(lambda x: all_stage1_data[x]['accept_time'])\n",
    "accepted_df['stage1_submit_time'] = accepted_df['worker_id'].apply(lambda x: all_stage1_data[x]['submit_time'])"
   ],
   "metadata": {
    "collapsed": false,
    "pycharm": {
     "name": "#%%\n"
    }
   }
  },
  {
   "cell_type": "code",
   "execution_count": 111,
   "outputs": [],
   "source": [
    "### (f) Clean non-numeric responses"
   ],
   "metadata": {
    "collapsed": false,
    "pycharm": {
     "name": "#%%\n"
    }
   }
  },
  {
   "cell_type": "code",
   "execution_count": 112,
   "outputs": [],
   "source": [
    "# Handle non-numeric entries\n",
    "invalid_onlinehrs = [\"yes\",None,\"Amazonmturk\",\"YES\",\"GOOD\",\"yes.\",\"NO\",\"HOURS\",\"$500\",\"$2,000-$5,000\"]\n",
    "invalid_onlinehrs.append(\"Most freelancing websites list these jobs, and you can sign up on any of them to start working. Potential earnings: Rs 300 to Rs 1,500 per hour\")\n",
    "#accepted_df = accepted_df[~accepted_df['onlinehrs'].isin(invalid_onlinehrs)].copy()\n",
    "accepted_df.loc[accepted_df['onlinehrs_str'].isin(invalid_onlinehrs), 'onlinehrs_str'] = \"\""
   ],
   "metadata": {
    "collapsed": false,
    "pycharm": {
     "name": "#%%\n"
    }
   }
  },
  {
   "cell_type": "code",
   "execution_count": 113,
   "outputs": [],
   "source": [
    "hrs_replace_map = {\n",
    "    '10-15': 13,\n",
    "    '45 hours': 45,\n",
    "    '40+ hours per week': 40,\n",
    "    '24 hours': 24,\n",
    "    '45 to 50': 47,\n",
    "    'A minimum of three hours per week per credit, plus an additional hour per class each week to review materials.': 4,\n",
    "    '40 Hours': 40,\n",
    "    '35+': 35,\n",
    "    '$80': 80,\n",
    "    '8 HOURS /30,000 TO 49,000 MONEY': 40,\n",
    "    '30Hrs': 30,\n",
    "    '12 Hours': 12,\n",
    "    '8 HOURS': 40,\n",
    "    '40+': 40,\n",
    "    '50$': 50,\n",
    "    'You should plan to devote a minimum of three hours per week per credit, plus an additional hour per class each week to review materials. For instance, for a three-credit online course, you will need nine hours of study time and one hour of review time each week.': 4,\n",
    "    '6 HOURS': 6,\n",
    "    '12 to 14bhours': 13,\n",
    "    '5$': 54,\n",
    "    '56-70': 63,\n",
    "    '48 HOURS': 48,\n",
    "    '7 HOURS': 7,\n",
    "    '$10': 10,\n",
    "    '40 hours per week i am earn money ,i will doing any task .': 40,\n",
    "    '12hrs': 12,\n",
    "    '20+': 20,\n",
    "    '8 hours 500': 8,\n",
    "    '40 hours': 40,\n",
    "    '2 hours 500': 2,\n",
    "    '56 hours': 56,\n",
    "    '10-12 Hours': 11,\n",
    "    '41 hours': 41,\n",
    "    '5hours 700': 5,\n",
    "}\n",
    "accepted_df['onlinehrs_str'] = accepted_df['onlinehrs_str'].apply(lambda x: hrs_replace_map[x] if x in hrs_replace_map else x)"
   ],
   "metadata": {
    "collapsed": false,
    "pycharm": {
     "name": "#%%\n"
    }
   }
  },
  {
   "cell_type": "code",
   "execution_count": 114,
   "outputs": [
    {
     "data": {
      "text/plain": "          worker_id  wage  accepted     stage2_creation  \\\n0    A101J0P2UYUKA1  1.05         1 2022-10-13 15:32:15   \n1    A10AKR84P1WXHL  0.98         1 2022-10-03 22:26:00   \n2    A10MSB9X1UFLJ5  0.99         0 2022-10-16 16:48:26   \n3    A10NMPJSO8TYIT  1.50         1 2022-10-16 16:48:44   \n4    A10W3EILX06DFO  0.50         1 2022-10-13 17:29:28   \n..              ...   ...       ...                 ...   \n995   AZFXFW2ZDX54B  1.00         1 2022-10-14 18:56:27   \n996   AZH32KEBRPRES  0.98         1 2022-10-03 22:20:25   \n997   AZNWVHY3AUSNT  0.95         1 2022-10-10 22:04:06   \n998   AZPXDIOTEH989  0.50         1 2022-10-13 15:32:47   \n999   AZSBLMZUI0BRC  1.02         0 2022-10-13 15:32:06   \n\n           stage2_creation_str        stage2_accept_time  \\\n0    2022-10-13 15:32:15-07:00 2022-10-13 15:41:19-07:00   \n1    2022-10-03 22:26:00-07:00 2022-10-03 22:28:30-07:00   \n2    2022-10-16 16:48:26-07:00                       NaT   \n3    2022-10-16 16:48:44-07:00 2022-10-16 16:51:44-07:00   \n4    2022-10-13 17:29:28-07:00 2022-10-13 18:07:12-07:00   \n..                         ...                       ...   \n995  2022-10-14 18:56:27-07:00 2022-10-15 10:20:48-07:00   \n996  2022-10-03 22:20:25-07:00 2022-10-03 22:22:15-07:00   \n997  2022-10-10 22:04:06-07:00 2022-10-10 22:07:03-07:00   \n998  2022-10-13 15:32:47-07:00 2022-10-13 15:37:33-07:00   \n999  2022-10-13 15:32:06-07:00                       NaT   \n\n           stage2_submit_time     lwage age onlinehrs_str  reason  \\\n0   2022-10-13 15:48:31-07:00  0.048790  23            40  skills   \n1   2022-10-03 23:05:39-07:00 -0.020203  27            36   money   \n2                         NaT -0.010050  48            90   money   \n3   2022-10-16 17:41:26-07:00  0.405465  35            40   money   \n4   2022-10-13 19:03:30-07:00 -0.693147  35            40  skills   \n..                        ...       ...  ..           ...     ...   \n995 2022-10-15 10:39:45-07:00  0.000000  25           120   money   \n996 2022-10-03 22:47:16-07:00 -0.020203  32            25   money   \n997 2022-10-10 22:32:03-07:00 -0.051293  51            48   money   \n998 2022-10-13 15:58:15-07:00 -0.693147  25            35   money   \n999                       NaT  0.019803  25            10   money   \n\n           stage1_accept_time        stage1_submit_time  onlinehrs  \n0   2022-10-13 15:01:17-07:00 2022-10-13 15:03:12-07:00       40.0  \n1   2022-10-03 22:12:21-07:00 2022-10-03 22:21:54-07:00       36.0  \n2   2022-10-16 16:35:58-07:00 2022-10-16 16:36:56-07:00       90.0  \n3   2022-10-16 16:43:22-07:00 2022-10-16 16:45:06-07:00       40.0  \n4   2022-10-13 17:24:21-07:00 2022-10-13 17:27:05-07:00       40.0  \n..                        ...                       ...        ...  \n995 2022-10-14 16:28:45-07:00 2022-10-14 16:38:36-07:00      120.0  \n996 2022-10-03 22:15:50-07:00 2022-10-03 22:19:51-07:00       25.0  \n997 2022-10-10 22:00:11-07:00 2022-10-10 22:02:52-07:00       48.0  \n998 2022-10-13 15:01:38-07:00 2022-10-13 15:26:30-07:00       35.0  \n999 2022-10-13 15:01:27-07:00 2022-10-13 15:02:35-07:00       10.0  \n\n[1000 rows x 14 columns]",
      "text/html": "<div>\n<style scoped>\n    .dataframe tbody tr th:only-of-type {\n        vertical-align: middle;\n    }\n\n    .dataframe tbody tr th {\n        vertical-align: top;\n    }\n\n    .dataframe thead th {\n        text-align: right;\n    }\n</style>\n<table border=\"1\" class=\"dataframe\">\n  <thead>\n    <tr style=\"text-align: right;\">\n      <th></th>\n      <th>worker_id</th>\n      <th>wage</th>\n      <th>accepted</th>\n      <th>stage2_creation</th>\n      <th>stage2_creation_str</th>\n      <th>stage2_accept_time</th>\n      <th>stage2_submit_time</th>\n      <th>lwage</th>\n      <th>age</th>\n      <th>onlinehrs_str</th>\n      <th>reason</th>\n      <th>stage1_accept_time</th>\n      <th>stage1_submit_time</th>\n      <th>onlinehrs</th>\n    </tr>\n  </thead>\n  <tbody>\n    <tr>\n      <th>0</th>\n      <td>A101J0P2UYUKA1</td>\n      <td>1.05</td>\n      <td>1</td>\n      <td>2022-10-13 15:32:15</td>\n      <td>2022-10-13 15:32:15-07:00</td>\n      <td>2022-10-13 15:41:19-07:00</td>\n      <td>2022-10-13 15:48:31-07:00</td>\n      <td>0.048790</td>\n      <td>23</td>\n      <td>40</td>\n      <td>skills</td>\n      <td>2022-10-13 15:01:17-07:00</td>\n      <td>2022-10-13 15:03:12-07:00</td>\n      <td>40.0</td>\n    </tr>\n    <tr>\n      <th>1</th>\n      <td>A10AKR84P1WXHL</td>\n      <td>0.98</td>\n      <td>1</td>\n      <td>2022-10-03 22:26:00</td>\n      <td>2022-10-03 22:26:00-07:00</td>\n      <td>2022-10-03 22:28:30-07:00</td>\n      <td>2022-10-03 23:05:39-07:00</td>\n      <td>-0.020203</td>\n      <td>27</td>\n      <td>36</td>\n      <td>money</td>\n      <td>2022-10-03 22:12:21-07:00</td>\n      <td>2022-10-03 22:21:54-07:00</td>\n      <td>36.0</td>\n    </tr>\n    <tr>\n      <th>2</th>\n      <td>A10MSB9X1UFLJ5</td>\n      <td>0.99</td>\n      <td>0</td>\n      <td>2022-10-16 16:48:26</td>\n      <td>2022-10-16 16:48:26-07:00</td>\n      <td>NaT</td>\n      <td>NaT</td>\n      <td>-0.010050</td>\n      <td>48</td>\n      <td>90</td>\n      <td>money</td>\n      <td>2022-10-16 16:35:58-07:00</td>\n      <td>2022-10-16 16:36:56-07:00</td>\n      <td>90.0</td>\n    </tr>\n    <tr>\n      <th>3</th>\n      <td>A10NMPJSO8TYIT</td>\n      <td>1.50</td>\n      <td>1</td>\n      <td>2022-10-16 16:48:44</td>\n      <td>2022-10-16 16:48:44-07:00</td>\n      <td>2022-10-16 16:51:44-07:00</td>\n      <td>2022-10-16 17:41:26-07:00</td>\n      <td>0.405465</td>\n      <td>35</td>\n      <td>40</td>\n      <td>money</td>\n      <td>2022-10-16 16:43:22-07:00</td>\n      <td>2022-10-16 16:45:06-07:00</td>\n      <td>40.0</td>\n    </tr>\n    <tr>\n      <th>4</th>\n      <td>A10W3EILX06DFO</td>\n      <td>0.50</td>\n      <td>1</td>\n      <td>2022-10-13 17:29:28</td>\n      <td>2022-10-13 17:29:28-07:00</td>\n      <td>2022-10-13 18:07:12-07:00</td>\n      <td>2022-10-13 19:03:30-07:00</td>\n      <td>-0.693147</td>\n      <td>35</td>\n      <td>40</td>\n      <td>skills</td>\n      <td>2022-10-13 17:24:21-07:00</td>\n      <td>2022-10-13 17:27:05-07:00</td>\n      <td>40.0</td>\n    </tr>\n    <tr>\n      <th>...</th>\n      <td>...</td>\n      <td>...</td>\n      <td>...</td>\n      <td>...</td>\n      <td>...</td>\n      <td>...</td>\n      <td>...</td>\n      <td>...</td>\n      <td>...</td>\n      <td>...</td>\n      <td>...</td>\n      <td>...</td>\n      <td>...</td>\n      <td>...</td>\n    </tr>\n    <tr>\n      <th>995</th>\n      <td>AZFXFW2ZDX54B</td>\n      <td>1.00</td>\n      <td>1</td>\n      <td>2022-10-14 18:56:27</td>\n      <td>2022-10-14 18:56:27-07:00</td>\n      <td>2022-10-15 10:20:48-07:00</td>\n      <td>2022-10-15 10:39:45-07:00</td>\n      <td>0.000000</td>\n      <td>25</td>\n      <td>120</td>\n      <td>money</td>\n      <td>2022-10-14 16:28:45-07:00</td>\n      <td>2022-10-14 16:38:36-07:00</td>\n      <td>120.0</td>\n    </tr>\n    <tr>\n      <th>996</th>\n      <td>AZH32KEBRPRES</td>\n      <td>0.98</td>\n      <td>1</td>\n      <td>2022-10-03 22:20:25</td>\n      <td>2022-10-03 22:20:25-07:00</td>\n      <td>2022-10-03 22:22:15-07:00</td>\n      <td>2022-10-03 22:47:16-07:00</td>\n      <td>-0.020203</td>\n      <td>32</td>\n      <td>25</td>\n      <td>money</td>\n      <td>2022-10-03 22:15:50-07:00</td>\n      <td>2022-10-03 22:19:51-07:00</td>\n      <td>25.0</td>\n    </tr>\n    <tr>\n      <th>997</th>\n      <td>AZNWVHY3AUSNT</td>\n      <td>0.95</td>\n      <td>1</td>\n      <td>2022-10-10 22:04:06</td>\n      <td>2022-10-10 22:04:06-07:00</td>\n      <td>2022-10-10 22:07:03-07:00</td>\n      <td>2022-10-10 22:32:03-07:00</td>\n      <td>-0.051293</td>\n      <td>51</td>\n      <td>48</td>\n      <td>money</td>\n      <td>2022-10-10 22:00:11-07:00</td>\n      <td>2022-10-10 22:02:52-07:00</td>\n      <td>48.0</td>\n    </tr>\n    <tr>\n      <th>998</th>\n      <td>AZPXDIOTEH989</td>\n      <td>0.50</td>\n      <td>1</td>\n      <td>2022-10-13 15:32:47</td>\n      <td>2022-10-13 15:32:47-07:00</td>\n      <td>2022-10-13 15:37:33-07:00</td>\n      <td>2022-10-13 15:58:15-07:00</td>\n      <td>-0.693147</td>\n      <td>25</td>\n      <td>35</td>\n      <td>money</td>\n      <td>2022-10-13 15:01:38-07:00</td>\n      <td>2022-10-13 15:26:30-07:00</td>\n      <td>35.0</td>\n    </tr>\n    <tr>\n      <th>999</th>\n      <td>AZSBLMZUI0BRC</td>\n      <td>1.02</td>\n      <td>0</td>\n      <td>2022-10-13 15:32:06</td>\n      <td>2022-10-13 15:32:06-07:00</td>\n      <td>NaT</td>\n      <td>NaT</td>\n      <td>0.019803</td>\n      <td>25</td>\n      <td>10</td>\n      <td>money</td>\n      <td>2022-10-13 15:01:27-07:00</td>\n      <td>2022-10-13 15:02:35-07:00</td>\n      <td>10.0</td>\n    </tr>\n  </tbody>\n</table>\n<p>1000 rows × 14 columns</p>\n</div>"
     },
     "execution_count": 114,
     "metadata": {},
     "output_type": "execute_result"
    }
   ],
   "source": [
    "# And make sure it can be converted to numeric\n",
    "accepted_df['onlinehrs'] = pd.to_numeric(accepted_df['onlinehrs_str'])\n",
    "accepted_df"
   ],
   "metadata": {
    "collapsed": false,
    "pycharm": {
     "name": "#%%\n"
    }
   }
  },
  {
   "cell_type": "code",
   "execution_count": 115,
   "outputs": [],
   "source": [
    "# And entries with more onlinehrs than hrs in a week\n",
    "accepted_df.loc[accepted_df['onlinehrs'] > 168, 'onlinehrs'] = np.nan"
   ],
   "metadata": {
    "collapsed": false,
    "pycharm": {
     "name": "#%%\n"
    }
   }
  },
  {
   "cell_type": "code",
   "execution_count": 116,
   "outputs": [
    {
     "data": {
      "text/plain": "          worker_id  wage  accepted     stage2_creation  \\\n967   AWEOVYNS6G6OR  0.98         1 2022-10-03 22:15:47   \n865   AJEAPP3GM7XMJ  0.90         0 2022-10-03 22:15:48   \n320  A28Q9L1LRIKSA9  1.10         1 2022-10-03 22:15:49   \n834   AG9IZHB76SAJM  1.50         1 2022-10-03 22:15:49   \n952    AU8YJU8Y6AHU  0.99         1 2022-10-03 22:15:50   \n..              ...   ...       ...                 ...   \n762   A53S7J4JGWG38  0.99         1 2022-10-17 16:58:05   \n341   A2BIB03B8PIC0  0.99         0 2022-10-17 16:58:05   \n213  A1RWNNYPXUD0T4  0.90         0 2022-10-17 16:58:06   \n908   AP5IV4C2D3XR5  0.98         0 2022-10-17 16:58:07   \n120  A1F721FQQULL9G  1.01         0 2022-10-17 16:58:07   \n\n           stage2_creation_str        stage2_accept_time  \\\n967  2022-10-03 22:15:47-07:00 2022-10-03 22:16:22-07:00   \n865  2022-10-03 22:15:48-07:00                       NaT   \n320  2022-10-03 22:15:49-07:00 2022-10-03 22:51:43-07:00   \n834  2022-10-03 22:15:49-07:00 2022-10-03 22:16:36-07:00   \n952  2022-10-03 22:15:50-07:00 2022-10-03 22:39:59-07:00   \n..                         ...                       ...   \n762  2022-10-17 16:58:05-07:00 2022-10-17 17:08:08-07:00   \n341  2022-10-17 16:58:05-07:00                       NaT   \n213  2022-10-17 16:58:06-07:00                       NaT   \n908  2022-10-17 16:58:07-07:00                       NaT   \n120  2022-10-17 16:58:07-07:00                       NaT   \n\n           stage2_submit_time     lwage   age onlinehrs_str  reason  \\\n967 2022-10-03 22:21:16-07:00 -0.020203    20            40   money   \n865                       NaT -0.105361    28            60  skills   \n320 2022-10-03 23:09:24-07:00  0.095310    23            13   money   \n834 2022-10-03 22:51:44-07:00  0.405465    24                   fun   \n952 2022-10-03 22:43:14-07:00 -0.010050    62          2000   money   \n..                        ...       ...   ...           ...     ...   \n762 2022-10-17 17:33:57-07:00 -0.010050    46            20   money   \n341                       NaT -0.010050    39            20   money   \n213                       NaT -0.105361  1988             3  skills   \n908                       NaT -0.020203    46            45  skills   \n120                       NaT  0.009950    33           300   money   \n\n           stage1_accept_time        stage1_submit_time  onlinehrs  \n967 2022-10-03 22:12:34-07:00 2022-10-03 22:13:01-07:00       40.0  \n865 2022-10-03 22:12:46-07:00 2022-10-03 22:13:22-07:00       60.0  \n320 2022-10-03 22:12:45-07:00 2022-10-03 22:13:30-07:00       13.0  \n834 2022-10-03 22:12:46-07:00 2022-10-03 22:13:27-07:00        NaN  \n952 2022-10-03 22:12:34-07:00 2022-10-03 22:13:39-07:00        NaN  \n..                        ...                       ...        ...  \n762 2022-10-16 17:34:06-07:00 2022-10-16 17:51:11-07:00       20.0  \n341 2022-10-16 17:37:25-07:00 2022-10-16 17:48:16-07:00       20.0  \n213 2022-10-16 17:31:25-07:00 2022-10-16 17:52:40-07:00        3.0  \n908 2022-10-16 17:35:12-07:00 2022-10-16 18:08:41-07:00       45.0  \n120 2022-10-16 17:34:28-07:00 2022-10-16 17:55:13-07:00        NaN  \n\n[1000 rows x 14 columns]",
      "text/html": "<div>\n<style scoped>\n    .dataframe tbody tr th:only-of-type {\n        vertical-align: middle;\n    }\n\n    .dataframe tbody tr th {\n        vertical-align: top;\n    }\n\n    .dataframe thead th {\n        text-align: right;\n    }\n</style>\n<table border=\"1\" class=\"dataframe\">\n  <thead>\n    <tr style=\"text-align: right;\">\n      <th></th>\n      <th>worker_id</th>\n      <th>wage</th>\n      <th>accepted</th>\n      <th>stage2_creation</th>\n      <th>stage2_creation_str</th>\n      <th>stage2_accept_time</th>\n      <th>stage2_submit_time</th>\n      <th>lwage</th>\n      <th>age</th>\n      <th>onlinehrs_str</th>\n      <th>reason</th>\n      <th>stage1_accept_time</th>\n      <th>stage1_submit_time</th>\n      <th>onlinehrs</th>\n    </tr>\n  </thead>\n  <tbody>\n    <tr>\n      <th>967</th>\n      <td>AWEOVYNS6G6OR</td>\n      <td>0.98</td>\n      <td>1</td>\n      <td>2022-10-03 22:15:47</td>\n      <td>2022-10-03 22:15:47-07:00</td>\n      <td>2022-10-03 22:16:22-07:00</td>\n      <td>2022-10-03 22:21:16-07:00</td>\n      <td>-0.020203</td>\n      <td>20</td>\n      <td>40</td>\n      <td>money</td>\n      <td>2022-10-03 22:12:34-07:00</td>\n      <td>2022-10-03 22:13:01-07:00</td>\n      <td>40.0</td>\n    </tr>\n    <tr>\n      <th>865</th>\n      <td>AJEAPP3GM7XMJ</td>\n      <td>0.90</td>\n      <td>0</td>\n      <td>2022-10-03 22:15:48</td>\n      <td>2022-10-03 22:15:48-07:00</td>\n      <td>NaT</td>\n      <td>NaT</td>\n      <td>-0.105361</td>\n      <td>28</td>\n      <td>60</td>\n      <td>skills</td>\n      <td>2022-10-03 22:12:46-07:00</td>\n      <td>2022-10-03 22:13:22-07:00</td>\n      <td>60.0</td>\n    </tr>\n    <tr>\n      <th>320</th>\n      <td>A28Q9L1LRIKSA9</td>\n      <td>1.10</td>\n      <td>1</td>\n      <td>2022-10-03 22:15:49</td>\n      <td>2022-10-03 22:15:49-07:00</td>\n      <td>2022-10-03 22:51:43-07:00</td>\n      <td>2022-10-03 23:09:24-07:00</td>\n      <td>0.095310</td>\n      <td>23</td>\n      <td>13</td>\n      <td>money</td>\n      <td>2022-10-03 22:12:45-07:00</td>\n      <td>2022-10-03 22:13:30-07:00</td>\n      <td>13.0</td>\n    </tr>\n    <tr>\n      <th>834</th>\n      <td>AG9IZHB76SAJM</td>\n      <td>1.50</td>\n      <td>1</td>\n      <td>2022-10-03 22:15:49</td>\n      <td>2022-10-03 22:15:49-07:00</td>\n      <td>2022-10-03 22:16:36-07:00</td>\n      <td>2022-10-03 22:51:44-07:00</td>\n      <td>0.405465</td>\n      <td>24</td>\n      <td></td>\n      <td>fun</td>\n      <td>2022-10-03 22:12:46-07:00</td>\n      <td>2022-10-03 22:13:27-07:00</td>\n      <td>NaN</td>\n    </tr>\n    <tr>\n      <th>952</th>\n      <td>AU8YJU8Y6AHU</td>\n      <td>0.99</td>\n      <td>1</td>\n      <td>2022-10-03 22:15:50</td>\n      <td>2022-10-03 22:15:50-07:00</td>\n      <td>2022-10-03 22:39:59-07:00</td>\n      <td>2022-10-03 22:43:14-07:00</td>\n      <td>-0.010050</td>\n      <td>62</td>\n      <td>2000</td>\n      <td>money</td>\n      <td>2022-10-03 22:12:34-07:00</td>\n      <td>2022-10-03 22:13:39-07:00</td>\n      <td>NaN</td>\n    </tr>\n    <tr>\n      <th>...</th>\n      <td>...</td>\n      <td>...</td>\n      <td>...</td>\n      <td>...</td>\n      <td>...</td>\n      <td>...</td>\n      <td>...</td>\n      <td>...</td>\n      <td>...</td>\n      <td>...</td>\n      <td>...</td>\n      <td>...</td>\n      <td>...</td>\n      <td>...</td>\n    </tr>\n    <tr>\n      <th>762</th>\n      <td>A53S7J4JGWG38</td>\n      <td>0.99</td>\n      <td>1</td>\n      <td>2022-10-17 16:58:05</td>\n      <td>2022-10-17 16:58:05-07:00</td>\n      <td>2022-10-17 17:08:08-07:00</td>\n      <td>2022-10-17 17:33:57-07:00</td>\n      <td>-0.010050</td>\n      <td>46</td>\n      <td>20</td>\n      <td>money</td>\n      <td>2022-10-16 17:34:06-07:00</td>\n      <td>2022-10-16 17:51:11-07:00</td>\n      <td>20.0</td>\n    </tr>\n    <tr>\n      <th>341</th>\n      <td>A2BIB03B8PIC0</td>\n      <td>0.99</td>\n      <td>0</td>\n      <td>2022-10-17 16:58:05</td>\n      <td>2022-10-17 16:58:05-07:00</td>\n      <td>NaT</td>\n      <td>NaT</td>\n      <td>-0.010050</td>\n      <td>39</td>\n      <td>20</td>\n      <td>money</td>\n      <td>2022-10-16 17:37:25-07:00</td>\n      <td>2022-10-16 17:48:16-07:00</td>\n      <td>20.0</td>\n    </tr>\n    <tr>\n      <th>213</th>\n      <td>A1RWNNYPXUD0T4</td>\n      <td>0.90</td>\n      <td>0</td>\n      <td>2022-10-17 16:58:06</td>\n      <td>2022-10-17 16:58:06-07:00</td>\n      <td>NaT</td>\n      <td>NaT</td>\n      <td>-0.105361</td>\n      <td>1988</td>\n      <td>3</td>\n      <td>skills</td>\n      <td>2022-10-16 17:31:25-07:00</td>\n      <td>2022-10-16 17:52:40-07:00</td>\n      <td>3.0</td>\n    </tr>\n    <tr>\n      <th>908</th>\n      <td>AP5IV4C2D3XR5</td>\n      <td>0.98</td>\n      <td>0</td>\n      <td>2022-10-17 16:58:07</td>\n      <td>2022-10-17 16:58:07-07:00</td>\n      <td>NaT</td>\n      <td>NaT</td>\n      <td>-0.020203</td>\n      <td>46</td>\n      <td>45</td>\n      <td>skills</td>\n      <td>2022-10-16 17:35:12-07:00</td>\n      <td>2022-10-16 18:08:41-07:00</td>\n      <td>45.0</td>\n    </tr>\n    <tr>\n      <th>120</th>\n      <td>A1F721FQQULL9G</td>\n      <td>1.01</td>\n      <td>0</td>\n      <td>2022-10-17 16:58:07</td>\n      <td>2022-10-17 16:58:07-07:00</td>\n      <td>NaT</td>\n      <td>NaT</td>\n      <td>0.009950</td>\n      <td>33</td>\n      <td>300</td>\n      <td>money</td>\n      <td>2022-10-16 17:34:28-07:00</td>\n      <td>2022-10-16 17:55:13-07:00</td>\n      <td>NaN</td>\n    </tr>\n  </tbody>\n</table>\n<p>1000 rows × 14 columns</p>\n</div>"
     },
     "execution_count": 116,
     "metadata": {},
     "output_type": "execute_result"
    }
   ],
   "source": [
    "accepted_df.sort_values(by=['stage2_creation'])"
   ],
   "metadata": {
    "collapsed": false,
    "pycharm": {
     "name": "#%%\n"
    }
   }
  },
  {
   "cell_type": "code",
   "execution_count": 117,
   "outputs": [],
   "source": [
    "drop_same_day = False"
   ],
   "metadata": {
    "collapsed": false,
    "pycharm": {
     "name": "#%%\n"
    }
   }
  },
  {
   "cell_type": "code",
   "execution_count": 118,
   "outputs": [],
   "source": [
    "# Dropping obs created same day\n",
    "if drop_same_day:\n",
    "    accepted_df_full = accepted_df.copy()\n",
    "    today_ymd = str(datetime.datetime.now()).split()[0]\n",
    "    accepted_df = accepted_df[~accepted_df['stage2_creation_str'].str.startswith(today_ymd)].copy()\n",
    "    #2022-10-15 15:10:31"
   ],
   "metadata": {
    "collapsed": false,
    "pycharm": {
     "name": "#%%\n"
    }
   }
  },
  {
   "cell_type": "markdown",
   "source": [
    "### (g) and extract \"sophisticated\" workers"
   ],
   "metadata": {
    "collapsed": false,
    "pycharm": {
     "name": "#%% md\n"
    }
   }
  },
  {
   "cell_type": "code",
   "execution_count": 119,
   "outputs": [],
   "source": [
    "# First, pick a subset by stage2_creation date, if needed\n",
    "#accepted_df = accepted_df[accepted_df['stage2_creation_str'].str.startswith(\"2022-10-07\")].copy()"
   ],
   "metadata": {
    "collapsed": false,
    "pycharm": {
     "name": "#%%\n"
    }
   }
  },
  {
   "cell_type": "markdown",
   "source": [
    "Now re-do the regression only for experienced workers"
   ],
   "metadata": {
    "collapsed": false,
    "pycharm": {
     "name": "#%% md\n"
    }
   }
  },
  {
   "cell_type": "code",
   "execution_count": 120,
   "outputs": [],
   "source": [
    "reason_money = accepted_df['reason'] == \"money\"\n",
    "high_hrs = accepted_df['onlinehrs'] > 10"
   ],
   "metadata": {
    "collapsed": false,
    "pycharm": {
     "name": "#%%\n"
    }
   }
  },
  {
   "cell_type": "code",
   "execution_count": 121,
   "outputs": [],
   "source": [
    "accepted_df['sophisticated'] = 0\n",
    "accepted_df.loc[(reason_money & high_hrs), 'sophisticated'] = 1"
   ],
   "metadata": {
    "collapsed": false,
    "pycharm": {
     "name": "#%%\n"
    }
   }
  },
  {
   "cell_type": "code",
   "execution_count": 122,
   "outputs": [
    {
     "data": {
      "text/plain": "          worker_id  wage  accepted     stage2_creation  \\\n0    A101J0P2UYUKA1  1.05         1 2022-10-13 15:32:15   \n1    A10AKR84P1WXHL  0.98         1 2022-10-03 22:26:00   \n2    A10MSB9X1UFLJ5  0.99         0 2022-10-16 16:48:26   \n3    A10NMPJSO8TYIT  1.50         1 2022-10-16 16:48:44   \n4    A10W3EILX06DFO  0.50         1 2022-10-13 17:29:28   \n..              ...   ...       ...                 ...   \n995   AZFXFW2ZDX54B  1.00         1 2022-10-14 18:56:27   \n996   AZH32KEBRPRES  0.98         1 2022-10-03 22:20:25   \n997   AZNWVHY3AUSNT  0.95         1 2022-10-10 22:04:06   \n998   AZPXDIOTEH989  0.50         1 2022-10-13 15:32:47   \n999   AZSBLMZUI0BRC  1.02         0 2022-10-13 15:32:06   \n\n           stage2_creation_str        stage2_accept_time  \\\n0    2022-10-13 15:32:15-07:00 2022-10-13 15:41:19-07:00   \n1    2022-10-03 22:26:00-07:00 2022-10-03 22:28:30-07:00   \n2    2022-10-16 16:48:26-07:00                       NaT   \n3    2022-10-16 16:48:44-07:00 2022-10-16 16:51:44-07:00   \n4    2022-10-13 17:29:28-07:00 2022-10-13 18:07:12-07:00   \n..                         ...                       ...   \n995  2022-10-14 18:56:27-07:00 2022-10-15 10:20:48-07:00   \n996  2022-10-03 22:20:25-07:00 2022-10-03 22:22:15-07:00   \n997  2022-10-10 22:04:06-07:00 2022-10-10 22:07:03-07:00   \n998  2022-10-13 15:32:47-07:00 2022-10-13 15:37:33-07:00   \n999  2022-10-13 15:32:06-07:00                       NaT   \n\n           stage2_submit_time     lwage age onlinehrs_str  reason  \\\n0   2022-10-13 15:48:31-07:00  0.048790  23            40  skills   \n1   2022-10-03 23:05:39-07:00 -0.020203  27            36   money   \n2                         NaT -0.010050  48            90   money   \n3   2022-10-16 17:41:26-07:00  0.405465  35            40   money   \n4   2022-10-13 19:03:30-07:00 -0.693147  35            40  skills   \n..                        ...       ...  ..           ...     ...   \n995 2022-10-15 10:39:45-07:00  0.000000  25           120   money   \n996 2022-10-03 22:47:16-07:00 -0.020203  32            25   money   \n997 2022-10-10 22:32:03-07:00 -0.051293  51            48   money   \n998 2022-10-13 15:58:15-07:00 -0.693147  25            35   money   \n999                       NaT  0.019803  25            10   money   \n\n           stage1_accept_time        stage1_submit_time  onlinehrs  \\\n0   2022-10-13 15:01:17-07:00 2022-10-13 15:03:12-07:00       40.0   \n1   2022-10-03 22:12:21-07:00 2022-10-03 22:21:54-07:00       36.0   \n2   2022-10-16 16:35:58-07:00 2022-10-16 16:36:56-07:00       90.0   \n3   2022-10-16 16:43:22-07:00 2022-10-16 16:45:06-07:00       40.0   \n4   2022-10-13 17:24:21-07:00 2022-10-13 17:27:05-07:00       40.0   \n..                        ...                       ...        ...   \n995 2022-10-14 16:28:45-07:00 2022-10-14 16:38:36-07:00      120.0   \n996 2022-10-03 22:15:50-07:00 2022-10-03 22:19:51-07:00       25.0   \n997 2022-10-10 22:00:11-07:00 2022-10-10 22:02:52-07:00       48.0   \n998 2022-10-13 15:01:38-07:00 2022-10-13 15:26:30-07:00       35.0   \n999 2022-10-13 15:01:27-07:00 2022-10-13 15:02:35-07:00       10.0   \n\n     sophisticated  \n0                0  \n1                1  \n2                1  \n3                1  \n4                0  \n..             ...  \n995              1  \n996              1  \n997              1  \n998              1  \n999              0  \n\n[1000 rows x 15 columns]",
      "text/html": "<div>\n<style scoped>\n    .dataframe tbody tr th:only-of-type {\n        vertical-align: middle;\n    }\n\n    .dataframe tbody tr th {\n        vertical-align: top;\n    }\n\n    .dataframe thead th {\n        text-align: right;\n    }\n</style>\n<table border=\"1\" class=\"dataframe\">\n  <thead>\n    <tr style=\"text-align: right;\">\n      <th></th>\n      <th>worker_id</th>\n      <th>wage</th>\n      <th>accepted</th>\n      <th>stage2_creation</th>\n      <th>stage2_creation_str</th>\n      <th>stage2_accept_time</th>\n      <th>stage2_submit_time</th>\n      <th>lwage</th>\n      <th>age</th>\n      <th>onlinehrs_str</th>\n      <th>reason</th>\n      <th>stage1_accept_time</th>\n      <th>stage1_submit_time</th>\n      <th>onlinehrs</th>\n      <th>sophisticated</th>\n    </tr>\n  </thead>\n  <tbody>\n    <tr>\n      <th>0</th>\n      <td>A101J0P2UYUKA1</td>\n      <td>1.05</td>\n      <td>1</td>\n      <td>2022-10-13 15:32:15</td>\n      <td>2022-10-13 15:32:15-07:00</td>\n      <td>2022-10-13 15:41:19-07:00</td>\n      <td>2022-10-13 15:48:31-07:00</td>\n      <td>0.048790</td>\n      <td>23</td>\n      <td>40</td>\n      <td>skills</td>\n      <td>2022-10-13 15:01:17-07:00</td>\n      <td>2022-10-13 15:03:12-07:00</td>\n      <td>40.0</td>\n      <td>0</td>\n    </tr>\n    <tr>\n      <th>1</th>\n      <td>A10AKR84P1WXHL</td>\n      <td>0.98</td>\n      <td>1</td>\n      <td>2022-10-03 22:26:00</td>\n      <td>2022-10-03 22:26:00-07:00</td>\n      <td>2022-10-03 22:28:30-07:00</td>\n      <td>2022-10-03 23:05:39-07:00</td>\n      <td>-0.020203</td>\n      <td>27</td>\n      <td>36</td>\n      <td>money</td>\n      <td>2022-10-03 22:12:21-07:00</td>\n      <td>2022-10-03 22:21:54-07:00</td>\n      <td>36.0</td>\n      <td>1</td>\n    </tr>\n    <tr>\n      <th>2</th>\n      <td>A10MSB9X1UFLJ5</td>\n      <td>0.99</td>\n      <td>0</td>\n      <td>2022-10-16 16:48:26</td>\n      <td>2022-10-16 16:48:26-07:00</td>\n      <td>NaT</td>\n      <td>NaT</td>\n      <td>-0.010050</td>\n      <td>48</td>\n      <td>90</td>\n      <td>money</td>\n      <td>2022-10-16 16:35:58-07:00</td>\n      <td>2022-10-16 16:36:56-07:00</td>\n      <td>90.0</td>\n      <td>1</td>\n    </tr>\n    <tr>\n      <th>3</th>\n      <td>A10NMPJSO8TYIT</td>\n      <td>1.50</td>\n      <td>1</td>\n      <td>2022-10-16 16:48:44</td>\n      <td>2022-10-16 16:48:44-07:00</td>\n      <td>2022-10-16 16:51:44-07:00</td>\n      <td>2022-10-16 17:41:26-07:00</td>\n      <td>0.405465</td>\n      <td>35</td>\n      <td>40</td>\n      <td>money</td>\n      <td>2022-10-16 16:43:22-07:00</td>\n      <td>2022-10-16 16:45:06-07:00</td>\n      <td>40.0</td>\n      <td>1</td>\n    </tr>\n    <tr>\n      <th>4</th>\n      <td>A10W3EILX06DFO</td>\n      <td>0.50</td>\n      <td>1</td>\n      <td>2022-10-13 17:29:28</td>\n      <td>2022-10-13 17:29:28-07:00</td>\n      <td>2022-10-13 18:07:12-07:00</td>\n      <td>2022-10-13 19:03:30-07:00</td>\n      <td>-0.693147</td>\n      <td>35</td>\n      <td>40</td>\n      <td>skills</td>\n      <td>2022-10-13 17:24:21-07:00</td>\n      <td>2022-10-13 17:27:05-07:00</td>\n      <td>40.0</td>\n      <td>0</td>\n    </tr>\n    <tr>\n      <th>...</th>\n      <td>...</td>\n      <td>...</td>\n      <td>...</td>\n      <td>...</td>\n      <td>...</td>\n      <td>...</td>\n      <td>...</td>\n      <td>...</td>\n      <td>...</td>\n      <td>...</td>\n      <td>...</td>\n      <td>...</td>\n      <td>...</td>\n      <td>...</td>\n      <td>...</td>\n    </tr>\n    <tr>\n      <th>995</th>\n      <td>AZFXFW2ZDX54B</td>\n      <td>1.00</td>\n      <td>1</td>\n      <td>2022-10-14 18:56:27</td>\n      <td>2022-10-14 18:56:27-07:00</td>\n      <td>2022-10-15 10:20:48-07:00</td>\n      <td>2022-10-15 10:39:45-07:00</td>\n      <td>0.000000</td>\n      <td>25</td>\n      <td>120</td>\n      <td>money</td>\n      <td>2022-10-14 16:28:45-07:00</td>\n      <td>2022-10-14 16:38:36-07:00</td>\n      <td>120.0</td>\n      <td>1</td>\n    </tr>\n    <tr>\n      <th>996</th>\n      <td>AZH32KEBRPRES</td>\n      <td>0.98</td>\n      <td>1</td>\n      <td>2022-10-03 22:20:25</td>\n      <td>2022-10-03 22:20:25-07:00</td>\n      <td>2022-10-03 22:22:15-07:00</td>\n      <td>2022-10-03 22:47:16-07:00</td>\n      <td>-0.020203</td>\n      <td>32</td>\n      <td>25</td>\n      <td>money</td>\n      <td>2022-10-03 22:15:50-07:00</td>\n      <td>2022-10-03 22:19:51-07:00</td>\n      <td>25.0</td>\n      <td>1</td>\n    </tr>\n    <tr>\n      <th>997</th>\n      <td>AZNWVHY3AUSNT</td>\n      <td>0.95</td>\n      <td>1</td>\n      <td>2022-10-10 22:04:06</td>\n      <td>2022-10-10 22:04:06-07:00</td>\n      <td>2022-10-10 22:07:03-07:00</td>\n      <td>2022-10-10 22:32:03-07:00</td>\n      <td>-0.051293</td>\n      <td>51</td>\n      <td>48</td>\n      <td>money</td>\n      <td>2022-10-10 22:00:11-07:00</td>\n      <td>2022-10-10 22:02:52-07:00</td>\n      <td>48.0</td>\n      <td>1</td>\n    </tr>\n    <tr>\n      <th>998</th>\n      <td>AZPXDIOTEH989</td>\n      <td>0.50</td>\n      <td>1</td>\n      <td>2022-10-13 15:32:47</td>\n      <td>2022-10-13 15:32:47-07:00</td>\n      <td>2022-10-13 15:37:33-07:00</td>\n      <td>2022-10-13 15:58:15-07:00</td>\n      <td>-0.693147</td>\n      <td>25</td>\n      <td>35</td>\n      <td>money</td>\n      <td>2022-10-13 15:01:38-07:00</td>\n      <td>2022-10-13 15:26:30-07:00</td>\n      <td>35.0</td>\n      <td>1</td>\n    </tr>\n    <tr>\n      <th>999</th>\n      <td>AZSBLMZUI0BRC</td>\n      <td>1.02</td>\n      <td>0</td>\n      <td>2022-10-13 15:32:06</td>\n      <td>2022-10-13 15:32:06-07:00</td>\n      <td>NaT</td>\n      <td>NaT</td>\n      <td>0.019803</td>\n      <td>25</td>\n      <td>10</td>\n      <td>money</td>\n      <td>2022-10-13 15:01:27-07:00</td>\n      <td>2022-10-13 15:02:35-07:00</td>\n      <td>10.0</td>\n      <td>0</td>\n    </tr>\n  </tbody>\n</table>\n<p>1000 rows × 15 columns</p>\n</div>"
     },
     "execution_count": 122,
     "metadata": {},
     "output_type": "execute_result"
    }
   ],
   "source": [
    "accepted_df"
   ],
   "metadata": {
    "collapsed": false,
    "pycharm": {
     "name": "#%%\n"
    }
   }
  },
  {
   "cell_type": "code",
   "execution_count": 123,
   "outputs": [
    {
     "data": {
      "text/plain": "0.6893939393939394"
     },
     "execution_count": 123,
     "metadata": {},
     "output_type": "execute_result"
    }
   ],
   "source": [
    "soph_df = accepted_df[accepted_df['sophisticated'] == 1].copy()\n",
    "soph_df['accepted'].mean()"
   ],
   "metadata": {
    "collapsed": false,
    "pycharm": {
     "name": "#%%\n"
    }
   }
  },
  {
   "cell_type": "code",
   "execution_count": 124,
   "outputs": [
    {
     "name": "stdout",
     "output_type": "stream",
     "text": [
      "                            OLS Regression Results                            \n",
      "==============================================================================\n",
      "Dep. Variable:               accepted   R-squared:                       0.000\n",
      "Model:                            OLS   Adj. R-squared:                 -0.002\n",
      "Method:                 Least Squares   F-statistic:                   0.01319\n",
      "Date:                Mon, 17 Oct 2022   Prob (F-statistic):              0.909\n",
      "Time:                        18:11:38   Log-Likelihood:                -342.32\n",
      "No. Observations:                 528   AIC:                             688.6\n",
      "Df Residuals:                     526   BIC:                             697.2\n",
      "Df Model:                           1                                         \n",
      "Covariance Type:                  HC1                                         \n",
      "==============================================================================\n",
      "                 coef    std err          z      P>|z|      [0.025      0.975]\n",
      "------------------------------------------------------------------------------\n",
      "Intercept      0.6895      0.020     34.145      0.000       0.650       0.729\n",
      "lwage          0.0099      0.086      0.115      0.909      -0.159       0.179\n",
      "==============================================================================\n",
      "Omnibus:                     1313.018   Durbin-Watson:                   1.910\n",
      "Prob(Omnibus):                  0.000   Jarque-Bera (JB):               97.869\n",
      "Skew:                          -0.819   Prob(JB):                     5.60e-22\n",
      "Kurtosis:                       1.670   Cond. No.                         4.31\n",
      "==============================================================================\n",
      "\n",
      "Notes:\n",
      "[1] Standard Errors are heteroscedasticity robust (HC1)\n"
     ]
    }
   ],
   "source": [
    "reg_result = smf.ols(formula='accepted ~ lwage', data=soph_df).fit(cov_type='HC1')\n",
    "print(reg_result.summary())"
   ],
   "metadata": {
    "collapsed": false,
    "pycharm": {
     "name": "#%%\n"
    }
   }
  },
  {
   "cell_type": "markdown",
   "id": "32ab8613-ee67-4809-82bc-61dbdc8fee04",
   "metadata": {
    "pycharm": {
     "name": "#%% md\n"
    }
   },
   "source": [
    "### (h) Check and record any workers who are suspended\n",
    "\n",
    "(As indicated by the API failing to notify them)"
   ]
  },
  {
   "cell_type": "code",
   "execution_count": 125,
   "id": "d46682ee-217d-4ad4-a257-c01a31969c97",
   "metadata": {
    "tags": [],
    "pycharm": {
     "name": "#%%\n"
    }
   },
   "outputs": [],
   "source": [
    "wids = list(accepted_df['worker_id'].values)"
   ]
  },
  {
   "cell_type": "code",
   "execution_count": 126,
   "id": "f3b300f7-57e4-4be5-9cd1-10574d4691f0",
   "metadata": {
    "tags": [],
    "pycharm": {
     "name": "#%%\n"
    }
   },
   "outputs": [],
   "source": [
    "with open('./mt_log.txt', 'r', encoding='utf-8') as f:\n",
    "    mt_log = [l.strip().lower() for l in f.readlines()]"
   ]
  },
  {
   "cell_type": "code",
   "execution_count": 127,
   "id": "2a67bf95-c995-4741-87a0-cd2c47af75fe",
   "metadata": {
    "tags": [],
    "pycharm": {
     "name": "#%%\n"
    }
   },
   "outputs": [],
   "source": [
    "def get_wid_lines(worker_id):\n",
    "    wid_lines = [line for line in mt_log if worker_id.lower() in line]\n",
    "    return wid_lines\n",
    "wid_lines = {wid: get_wid_lines(wid) for wid in wids}"
   ]
  },
  {
   "cell_type": "code",
   "execution_count": 128,
   "id": "bf94b973-764b-4e55-89ae-0d548d138e93",
   "metadata": {
    "scrolled": true,
    "tags": [],
    "pycharm": {
     "name": "#%%\n"
    }
   },
   "outputs": [],
   "source": [
    "failures = []\n",
    "for cur_wid, cur_lines in wid_lines.items():\n",
    "    fail = [l for l in cur_lines if \"fail\" in l]\n",
    "    if len(fail) > 0:\n",
    "        failures.append((cur_wid, fail))"
   ]
  },
  {
   "cell_type": "code",
   "execution_count": 129,
   "id": "e2173e0d-de52-4005-9ad5-a2d6640bcee4",
   "metadata": {
    "tags": [],
    "pycharm": {
     "name": "#%%\n"
    }
   },
   "outputs": [],
   "source": [
    "fail_wids = [t[0] for t in failures]"
   ]
  },
  {
   "cell_type": "code",
   "execution_count": 130,
   "id": "ca628548-ca4e-4695-b4e6-07dcc2a3221b",
   "metadata": {
    "tags": [],
    "pycharm": {
     "name": "#%%\n"
    }
   },
   "outputs": [],
   "source": [
    "fail_all = {k:v for k, v in wid_lines.items() if k in fail_wids}"
   ]
  },
  {
   "cell_type": "code",
   "execution_count": 131,
   "id": "2452dad3-8369-4e18-8ad6-8c5072fa965c",
   "metadata": {
    "tags": [],
    "pycharm": {
     "name": "#%%\n"
    }
   },
   "outputs": [
    {
     "data": {
      "text/plain": "2"
     },
     "execution_count": 131,
     "metadata": {},
     "output_type": "execute_result"
    }
   ],
   "source": [
    "len(fail_all)"
   ]
  },
  {
   "cell_type": "code",
   "execution_count": 132,
   "id": "85a3fcd9-8560-486a-9944-661d9e22ed77",
   "metadata": {
    "tags": [],
    "pycharm": {
     "name": "#%%\n"
    }
   },
   "outputs": [],
   "source": [
    "# And merge"
   ]
  },
  {
   "cell_type": "code",
   "execution_count": 133,
   "id": "c45ef6ea-6417-4587-ba8c-35a354e57b59",
   "metadata": {
    "tags": [],
    "pycharm": {
     "name": "#%%\n"
    }
   },
   "outputs": [],
   "source": [
    "accepted_df['suspended'] = accepted_df['worker_id'].apply(lambda x: True if x in fail_wids else False)"
   ]
  },
  {
   "cell_type": "code",
   "execution_count": 134,
   "id": "0ae7674d-2e96-46f1-bb43-99c4a3633a3a",
   "metadata": {
    "tags": [],
    "pycharm": {
     "name": "#%%\n"
    }
   },
   "outputs": [
    {
     "data": {
      "text/plain": "False    998\nTrue       2\nName: suspended, dtype: int64"
     },
     "execution_count": 134,
     "metadata": {},
     "output_type": "execute_result"
    }
   ],
   "source": [
    "accepted_df['suspended'].value_counts()"
   ]
  },
  {
   "cell_type": "markdown",
   "id": "4ce076a5-66d9-41a8-a32d-40bbc90ab8f2",
   "metadata": {
    "pycharm": {
     "name": "#%% md\n"
    }
   },
   "source": [
    "### (i) Export the dataset, including suspended user data, to .dta with current timestamp"
   ]
  },
  {
   "cell_type": "code",
   "execution_count": 135,
   "id": "54c0347c-3b50-4029-b3fc-b24505802a7e",
   "metadata": {
    "tags": [],
    "pycharm": {
     "name": "#%%\n"
    }
   },
   "outputs": [],
   "source": [
    "timestamp = mtglobals.gen_timestamp()"
   ]
  },
  {
   "cell_type": "code",
   "execution_count": 136,
   "outputs": [
    {
     "data": {
      "text/plain": "0       40\n1       36\n2       90\n3       40\n4       40\n      ... \n995    120\n996     25\n997     48\n998     35\n999     10\nName: onlinehrs_str, Length: 1000, dtype: object"
     },
     "execution_count": 136,
     "metadata": {},
     "output_type": "execute_result"
    }
   ],
   "source": [
    "accepted_df['onlinehrs_str']"
   ],
   "metadata": {
    "collapsed": false,
    "pycharm": {
     "name": "#%%\n"
    }
   }
  },
  {
   "cell_type": "code",
   "execution_count": 137,
   "outputs": [
    {
     "data": {
      "text/plain": "40      126\n35       91\n20       64\n30       57\n45       48\n       ... \n11        1\n140       1\n56        1\n50        1\n5.00      1\nName: onlinehrs_str, Length: 113, dtype: int64"
     },
     "execution_count": 137,
     "metadata": {},
     "output_type": "execute_result"
    }
   ],
   "source": [
    "accepted_df['onlinehrs_str'].value_counts(dropna=False)"
   ],
   "metadata": {
    "collapsed": false,
    "pycharm": {
     "name": "#%%\n"
    }
   }
  },
  {
   "cell_type": "code",
   "execution_count": 138,
   "outputs": [],
   "source": [
    "accepted_df_nostr = accepted_df.drop(columns=['onlinehrs_str']).copy()\n",
    "accepted_df_nostr['stage1_accept_time'] = accepted_df_nostr['stage1_accept_time'].apply(str)\n",
    "accepted_df_nostr['stage1_submit_time'] = accepted_df_nostr['stage1_submit_time'].apply(str)\n",
    "accepted_df_nostr['stage2_accept_time'] = accepted_df_nostr['stage2_accept_time'].apply(str)\n",
    "accepted_df_nostr['stage2_submit_time'] = accepted_df_nostr['stage2_submit_time'].apply(str)"
   ],
   "metadata": {
    "collapsed": false,
    "pycharm": {
     "name": "#%%\n"
    }
   }
  },
  {
   "cell_type": "code",
   "execution_count": 139,
   "id": "35210e35-4d59-4889-8149-669c5468679c",
   "metadata": {
    "tags": [],
    "pycharm": {
     "name": "#%%\n"
    }
   },
   "outputs": [
    {
     "name": "stdout",
     "output_type": "stream",
     "text": [
      "Saved to ../results_2stage/accepted_df_20221017_181143.dta\n"
     ]
    }
   ],
   "source": [
    "output_fpath = f'../results_2stage/accepted_df_{timestamp}.dta'\n",
    "accepted_df_nostr.to_stata(output_fpath, version=117)\n",
    "print(f\"Saved to {output_fpath}\")"
   ]
  },
  {
   "cell_type": "code",
   "execution_count": 140,
   "outputs": [],
   "source": [
    "accepted_df.to_pickle(output_fpath.replace(\".dta\",\".pkl\"))"
   ],
   "metadata": {
    "collapsed": false,
    "pycharm": {
     "name": "#%%\n"
    }
   }
  },
  {
   "cell_type": "code",
   "execution_count": 141,
   "outputs": [
    {
     "data": {
      "text/plain": "          worker_id  wage  accepted     stage2_creation  \\\n0    A101J0P2UYUKA1  1.05         1 2022-10-13 15:32:15   \n1    A10AKR84P1WXHL  0.98         1 2022-10-03 22:26:00   \n2    A10MSB9X1UFLJ5  0.99         0 2022-10-16 16:48:26   \n3    A10NMPJSO8TYIT  1.50         1 2022-10-16 16:48:44   \n4    A10W3EILX06DFO  0.50         1 2022-10-13 17:29:28   \n..              ...   ...       ...                 ...   \n995   AZFXFW2ZDX54B  1.00         1 2022-10-14 18:56:27   \n996   AZH32KEBRPRES  0.98         1 2022-10-03 22:20:25   \n997   AZNWVHY3AUSNT  0.95         1 2022-10-10 22:04:06   \n998   AZPXDIOTEH989  0.50         1 2022-10-13 15:32:47   \n999   AZSBLMZUI0BRC  1.02         0 2022-10-13 15:32:06   \n\n           stage2_creation_str        stage2_accept_time  \\\n0    2022-10-13 15:32:15-07:00 2022-10-13 15:41:19-07:00   \n1    2022-10-03 22:26:00-07:00 2022-10-03 22:28:30-07:00   \n2    2022-10-16 16:48:26-07:00                       NaT   \n3    2022-10-16 16:48:44-07:00 2022-10-16 16:51:44-07:00   \n4    2022-10-13 17:29:28-07:00 2022-10-13 18:07:12-07:00   \n..                         ...                       ...   \n995  2022-10-14 18:56:27-07:00 2022-10-15 10:20:48-07:00   \n996  2022-10-03 22:20:25-07:00 2022-10-03 22:22:15-07:00   \n997  2022-10-10 22:04:06-07:00 2022-10-10 22:07:03-07:00   \n998  2022-10-13 15:32:47-07:00 2022-10-13 15:37:33-07:00   \n999  2022-10-13 15:32:06-07:00                       NaT   \n\n           stage2_submit_time     lwage age onlinehrs_str  reason  \\\n0   2022-10-13 15:48:31-07:00  0.048790  23            40  skills   \n1   2022-10-03 23:05:39-07:00 -0.020203  27            36   money   \n2                         NaT -0.010050  48            90   money   \n3   2022-10-16 17:41:26-07:00  0.405465  35            40   money   \n4   2022-10-13 19:03:30-07:00 -0.693147  35            40  skills   \n..                        ...       ...  ..           ...     ...   \n995 2022-10-15 10:39:45-07:00  0.000000  25           120   money   \n996 2022-10-03 22:47:16-07:00 -0.020203  32            25   money   \n997 2022-10-10 22:32:03-07:00 -0.051293  51            48   money   \n998 2022-10-13 15:58:15-07:00 -0.693147  25            35   money   \n999                       NaT  0.019803  25            10   money   \n\n           stage1_accept_time        stage1_submit_time  onlinehrs  \\\n0   2022-10-13 15:01:17-07:00 2022-10-13 15:03:12-07:00       40.0   \n1   2022-10-03 22:12:21-07:00 2022-10-03 22:21:54-07:00       36.0   \n2   2022-10-16 16:35:58-07:00 2022-10-16 16:36:56-07:00       90.0   \n3   2022-10-16 16:43:22-07:00 2022-10-16 16:45:06-07:00       40.0   \n4   2022-10-13 17:24:21-07:00 2022-10-13 17:27:05-07:00       40.0   \n..                        ...                       ...        ...   \n995 2022-10-14 16:28:45-07:00 2022-10-14 16:38:36-07:00      120.0   \n996 2022-10-03 22:15:50-07:00 2022-10-03 22:19:51-07:00       25.0   \n997 2022-10-10 22:00:11-07:00 2022-10-10 22:02:52-07:00       48.0   \n998 2022-10-13 15:01:38-07:00 2022-10-13 15:26:30-07:00       35.0   \n999 2022-10-13 15:01:27-07:00 2022-10-13 15:02:35-07:00       10.0   \n\n     sophisticated  suspended  \n0                0      False  \n1                1      False  \n2                1      False  \n3                1      False  \n4                0      False  \n..             ...        ...  \n995              1      False  \n996              1      False  \n997              1      False  \n998              1      False  \n999              0      False  \n\n[1000 rows x 16 columns]",
      "text/html": "<div>\n<style scoped>\n    .dataframe tbody tr th:only-of-type {\n        vertical-align: middle;\n    }\n\n    .dataframe tbody tr th {\n        vertical-align: top;\n    }\n\n    .dataframe thead th {\n        text-align: right;\n    }\n</style>\n<table border=\"1\" class=\"dataframe\">\n  <thead>\n    <tr style=\"text-align: right;\">\n      <th></th>\n      <th>worker_id</th>\n      <th>wage</th>\n      <th>accepted</th>\n      <th>stage2_creation</th>\n      <th>stage2_creation_str</th>\n      <th>stage2_accept_time</th>\n      <th>stage2_submit_time</th>\n      <th>lwage</th>\n      <th>age</th>\n      <th>onlinehrs_str</th>\n      <th>reason</th>\n      <th>stage1_accept_time</th>\n      <th>stage1_submit_time</th>\n      <th>onlinehrs</th>\n      <th>sophisticated</th>\n      <th>suspended</th>\n    </tr>\n  </thead>\n  <tbody>\n    <tr>\n      <th>0</th>\n      <td>A101J0P2UYUKA1</td>\n      <td>1.05</td>\n      <td>1</td>\n      <td>2022-10-13 15:32:15</td>\n      <td>2022-10-13 15:32:15-07:00</td>\n      <td>2022-10-13 15:41:19-07:00</td>\n      <td>2022-10-13 15:48:31-07:00</td>\n      <td>0.048790</td>\n      <td>23</td>\n      <td>40</td>\n      <td>skills</td>\n      <td>2022-10-13 15:01:17-07:00</td>\n      <td>2022-10-13 15:03:12-07:00</td>\n      <td>40.0</td>\n      <td>0</td>\n      <td>False</td>\n    </tr>\n    <tr>\n      <th>1</th>\n      <td>A10AKR84P1WXHL</td>\n      <td>0.98</td>\n      <td>1</td>\n      <td>2022-10-03 22:26:00</td>\n      <td>2022-10-03 22:26:00-07:00</td>\n      <td>2022-10-03 22:28:30-07:00</td>\n      <td>2022-10-03 23:05:39-07:00</td>\n      <td>-0.020203</td>\n      <td>27</td>\n      <td>36</td>\n      <td>money</td>\n      <td>2022-10-03 22:12:21-07:00</td>\n      <td>2022-10-03 22:21:54-07:00</td>\n      <td>36.0</td>\n      <td>1</td>\n      <td>False</td>\n    </tr>\n    <tr>\n      <th>2</th>\n      <td>A10MSB9X1UFLJ5</td>\n      <td>0.99</td>\n      <td>0</td>\n      <td>2022-10-16 16:48:26</td>\n      <td>2022-10-16 16:48:26-07:00</td>\n      <td>NaT</td>\n      <td>NaT</td>\n      <td>-0.010050</td>\n      <td>48</td>\n      <td>90</td>\n      <td>money</td>\n      <td>2022-10-16 16:35:58-07:00</td>\n      <td>2022-10-16 16:36:56-07:00</td>\n      <td>90.0</td>\n      <td>1</td>\n      <td>False</td>\n    </tr>\n    <tr>\n      <th>3</th>\n      <td>A10NMPJSO8TYIT</td>\n      <td>1.50</td>\n      <td>1</td>\n      <td>2022-10-16 16:48:44</td>\n      <td>2022-10-16 16:48:44-07:00</td>\n      <td>2022-10-16 16:51:44-07:00</td>\n      <td>2022-10-16 17:41:26-07:00</td>\n      <td>0.405465</td>\n      <td>35</td>\n      <td>40</td>\n      <td>money</td>\n      <td>2022-10-16 16:43:22-07:00</td>\n      <td>2022-10-16 16:45:06-07:00</td>\n      <td>40.0</td>\n      <td>1</td>\n      <td>False</td>\n    </tr>\n    <tr>\n      <th>4</th>\n      <td>A10W3EILX06DFO</td>\n      <td>0.50</td>\n      <td>1</td>\n      <td>2022-10-13 17:29:28</td>\n      <td>2022-10-13 17:29:28-07:00</td>\n      <td>2022-10-13 18:07:12-07:00</td>\n      <td>2022-10-13 19:03:30-07:00</td>\n      <td>-0.693147</td>\n      <td>35</td>\n      <td>40</td>\n      <td>skills</td>\n      <td>2022-10-13 17:24:21-07:00</td>\n      <td>2022-10-13 17:27:05-07:00</td>\n      <td>40.0</td>\n      <td>0</td>\n      <td>False</td>\n    </tr>\n    <tr>\n      <th>...</th>\n      <td>...</td>\n      <td>...</td>\n      <td>...</td>\n      <td>...</td>\n      <td>...</td>\n      <td>...</td>\n      <td>...</td>\n      <td>...</td>\n      <td>...</td>\n      <td>...</td>\n      <td>...</td>\n      <td>...</td>\n      <td>...</td>\n      <td>...</td>\n      <td>...</td>\n      <td>...</td>\n    </tr>\n    <tr>\n      <th>995</th>\n      <td>AZFXFW2ZDX54B</td>\n      <td>1.00</td>\n      <td>1</td>\n      <td>2022-10-14 18:56:27</td>\n      <td>2022-10-14 18:56:27-07:00</td>\n      <td>2022-10-15 10:20:48-07:00</td>\n      <td>2022-10-15 10:39:45-07:00</td>\n      <td>0.000000</td>\n      <td>25</td>\n      <td>120</td>\n      <td>money</td>\n      <td>2022-10-14 16:28:45-07:00</td>\n      <td>2022-10-14 16:38:36-07:00</td>\n      <td>120.0</td>\n      <td>1</td>\n      <td>False</td>\n    </tr>\n    <tr>\n      <th>996</th>\n      <td>AZH32KEBRPRES</td>\n      <td>0.98</td>\n      <td>1</td>\n      <td>2022-10-03 22:20:25</td>\n      <td>2022-10-03 22:20:25-07:00</td>\n      <td>2022-10-03 22:22:15-07:00</td>\n      <td>2022-10-03 22:47:16-07:00</td>\n      <td>-0.020203</td>\n      <td>32</td>\n      <td>25</td>\n      <td>money</td>\n      <td>2022-10-03 22:15:50-07:00</td>\n      <td>2022-10-03 22:19:51-07:00</td>\n      <td>25.0</td>\n      <td>1</td>\n      <td>False</td>\n    </tr>\n    <tr>\n      <th>997</th>\n      <td>AZNWVHY3AUSNT</td>\n      <td>0.95</td>\n      <td>1</td>\n      <td>2022-10-10 22:04:06</td>\n      <td>2022-10-10 22:04:06-07:00</td>\n      <td>2022-10-10 22:07:03-07:00</td>\n      <td>2022-10-10 22:32:03-07:00</td>\n      <td>-0.051293</td>\n      <td>51</td>\n      <td>48</td>\n      <td>money</td>\n      <td>2022-10-10 22:00:11-07:00</td>\n      <td>2022-10-10 22:02:52-07:00</td>\n      <td>48.0</td>\n      <td>1</td>\n      <td>False</td>\n    </tr>\n    <tr>\n      <th>998</th>\n      <td>AZPXDIOTEH989</td>\n      <td>0.50</td>\n      <td>1</td>\n      <td>2022-10-13 15:32:47</td>\n      <td>2022-10-13 15:32:47-07:00</td>\n      <td>2022-10-13 15:37:33-07:00</td>\n      <td>2022-10-13 15:58:15-07:00</td>\n      <td>-0.693147</td>\n      <td>25</td>\n      <td>35</td>\n      <td>money</td>\n      <td>2022-10-13 15:01:38-07:00</td>\n      <td>2022-10-13 15:26:30-07:00</td>\n      <td>35.0</td>\n      <td>1</td>\n      <td>False</td>\n    </tr>\n    <tr>\n      <th>999</th>\n      <td>AZSBLMZUI0BRC</td>\n      <td>1.02</td>\n      <td>0</td>\n      <td>2022-10-13 15:32:06</td>\n      <td>2022-10-13 15:32:06-07:00</td>\n      <td>NaT</td>\n      <td>NaT</td>\n      <td>0.019803</td>\n      <td>25</td>\n      <td>10</td>\n      <td>money</td>\n      <td>2022-10-13 15:01:27-07:00</td>\n      <td>2022-10-13 15:02:35-07:00</td>\n      <td>10.0</td>\n      <td>0</td>\n      <td>False</td>\n    </tr>\n  </tbody>\n</table>\n<p>1000 rows × 16 columns</p>\n</div>"
     },
     "execution_count": 141,
     "metadata": {},
     "output_type": "execute_result"
    }
   ],
   "source": [
    "accepted_df"
   ],
   "metadata": {
    "collapsed": false,
    "pycharm": {
     "name": "#%%\n"
    }
   }
  },
  {
   "cell_type": "code",
   "execution_count": null,
   "outputs": [],
   "source": [],
   "metadata": {
    "collapsed": false,
    "pycharm": {
     "name": "#%%\n"
    }
   }
  },
  {
   "cell_type": "code",
   "execution_count": null,
   "outputs": [],
   "source": [],
   "metadata": {
    "collapsed": false,
    "pycharm": {
     "name": "#%%\n"
    }
   }
  },
  {
   "cell_type": "code",
   "execution_count": null,
   "outputs": [],
   "source": [],
   "metadata": {
    "collapsed": false,
    "pycharm": {
     "name": "#%%\n"
    }
   }
  }
 ],
 "metadata": {
  "kernelspec": {
   "display_name": "Python 3 (ipykernel)",
   "language": "python",
   "name": "python3"
  },
  "language_info": {
   "codemirror_mode": {
    "name": "ipython",
    "version": 3
   },
   "file_extension": ".py",
   "mimetype": "text/x-python",
   "name": "python",
   "nbconvert_exporter": "python",
   "pygments_lexer": "ipython3",
   "version": "3.9.7"
  }
 },
 "nbformat": 4,
 "nbformat_minor": 5
}