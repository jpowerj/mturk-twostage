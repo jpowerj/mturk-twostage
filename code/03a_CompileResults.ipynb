{
 "cells": [
  {
   "cell_type": "code",
   "execution_count": 1,
   "id": "5bc8e2da-501b-4ad1-8aeb-3f4640fd99fe",
   "metadata": {
    "execution": {
     "iopub.execute_input": "2022-01-23T21:19:27.198615Z",
     "iopub.status.busy": "2022-01-23T21:19:27.198615Z",
     "iopub.status.idle": "2022-01-23T21:19:27.256620Z",
     "shell.execute_reply": "2022-01-23T21:19:27.256620Z",
     "shell.execute_reply.started": "2022-01-23T21:19:27.198615Z"
    },
    "tags": []
   },
   "outputs": [],
   "source": [
    "%load_ext autoreload\n",
    "%autoreload 2"
   ]
  },
  {
   "cell_type": "code",
   "execution_count": 2,
   "id": "83d38808-59f6-4a5c-a388-505fcdf642a6",
   "metadata": {
    "execution": {
     "iopub.execute_input": "2022-01-23T21:19:27.625361Z",
     "iopub.status.busy": "2022-01-23T21:19:27.625361Z",
     "iopub.status.idle": "2022-01-23T21:19:28.541348Z",
     "shell.execute_reply": "2022-01-23T21:19:28.541348Z",
     "shell.execute_reply.started": "2022-01-23T21:19:27.625361Z"
    },
    "tags": []
   },
   "outputs": [],
   "source": [
    "import datetime\n",
    "\n",
    "import pandas as pd\n",
    "import numpy as np\n",
    "import statsmodels.formula.api as smf\n",
    "import tqdm\n",
    "\n",
    "import mtglobals"
   ]
  },
  {
   "cell_type": "code",
   "execution_count": 3,
   "id": "b916cc6d-f822-45c5-88d4-675a13c2a0b8",
   "metadata": {
    "execution": {
     "iopub.execute_input": "2022-01-23T21:19:28.542350Z",
     "iopub.status.busy": "2022-01-23T21:19:28.542350Z",
     "iopub.status.idle": "2022-01-23T21:19:29.212727Z",
     "shell.execute_reply": "2022-01-23T21:19:29.212727Z",
     "shell.execute_reply.started": "2022-01-23T21:19:28.542350Z"
    },
    "tags": []
   },
   "outputs": [
    {
     "name": "stdout",
     "output_type": "stream",
     "text": [
      "Your account balance is 498226.73\n"
     ]
    }
   ],
   "source": [
    "client, mt_env = mtglobals.gen_client()"
   ]
  },
  {
   "cell_type": "code",
   "execution_count": 4,
   "id": "19e78014-6dc1-411e-9778-158488ee291b",
   "metadata": {
    "execution": {
     "iopub.execute_input": "2022-01-23T21:19:29.214729Z",
     "iopub.status.busy": "2022-01-23T21:19:29.213725Z",
     "iopub.status.idle": "2022-01-23T21:20:19.870886Z",
     "shell.execute_reply": "2022-01-23T21:20:19.870886Z",
     "shell.execute_reply.started": "2022-01-23T21:19:29.214729Z"
    },
    "tags": []
   },
   "outputs": [
    {
     "name": "stdout",
     "output_type": "stream",
     "text": [
      "Downloading list of hits from 2021-10-01 00:00:00 to 2022-01-23 13:19:29.284723-07:53 (to ../results_2stage/all_hit_data.pkl)\n",
      "p2:VaEOH9tTNqVc9GdKvouhb8gfApWXnQUg6L8vX7Ep1kgOrCLEjW9/PNnYFfs3fc8=\n",
      "p2:AgrE9bUk8gMeHc9y7Ilr1H62rKiJvjVr5sXYGd1dD2W7AKZbJGFQGcj69ayxn6k=\n",
      "p2:c4ioMFZTOQBg3fiJRfELPLJ1jNlQ9broecjHapJabDSAxcAdFaicTVjc/Q5lEJg=\n",
      "p2:utz0tiNNqcaDDFjhBTdaXoHv6PD03yl91QRnyTUomEUAmVC4MHDPT/1gdVE+peQ=\n",
      "p2:cqAQcC4Ql7wCtVBM+lLF7fMwcf+THBHE5QfBdip+S3H8KTDUlMOHlt1i9s3NKOw=\n",
      "p2:GFbb5bPIMf6aLGjg+I9kOzgp934OvlPFvQ+R6vJyu91dbsbHqnZh6sTeyViCEjo=\n",
      "p2:7vKS4hpOXekhDXPy1nAyJN0qfFWdikQ6cuaQDXcE7Pv+vvA/lFuuolnhO7Fl/vU=\n",
      "p2:PKI3R7PYZP69ARXhq1eR2WWCxbrkAdBys3Y1go2FW1Ous29mniDpeoaE8GiBn9Q=\n",
      "p2:izLgvXXWrFkQRErZm4EuSkB6/VyvUji6BQs20mqg2SCMOe/8AOdkX93SsVCYXqEa\n",
      "p2:UN7psWIxYedfR8ssUf5FhkoX8rPJqzoEJpSorswCJesxi8Aj9NUOZiJKc9scB40r\n",
      "p2:wLBjWAlVqQapL2fwMxCjU028ZvwgWfyyaFfVnQPliHtTtiQveRp7Ful3btAP0SPt\n",
      "p2:0PtoZLs/FzG09dcQKWaz0ndAIYu08a8SwGewVi1zrieUlpwDQxfz6tDlr5fumVF/\n",
      "p2:87kGqzhHuU/3kjumBX0Jtb5ge/A7FzX47ZhMSNlYrz+I8Qs2QUxW0nOxlkP3tV1O\n",
      "p2:8/L9+hZBc6lWzfuPG7udJPnIwR6NHF8zA+nIByD/CURRJkDMD4ZFUyz3VtCe9iCI\n",
      "p2:zgE8IQaf11Xjo/uN0GYM0emA771lc8eXplMMtK+JDLuRpbDZCzmdFcEU0YoYetzc\n",
      "p2:tGYid3lSE1VpOs26suk+bGuj1JwF4KbXUsl4PK7MmpnX3+Ff/j9K1eCg+HY8w2np\n",
      "p2:Iiau8NafyyXyA+UYvTBmCGsyncdjSpuUsotxRTIweVKVm7I6L6H/9Qznxj3ySF17\n",
      "p2:MsdisjDjsU+5c+vTPUK9XyLFoePH4bNzBvQWdSwxu2smBVkbyuS6CdnFDq3ANxgc\n",
      "p2:4AxKNNJt9CWhAJ2dM331Ug4Utk0ThmjKB06AV8kkLQkMAEgyn3HV7tIfp3e2cRBG\n",
      "p2:3mf2ko9bFoRcHjUUYD6psI7mrOY6ApRREcroDd4ngLZ1und6ORDdruYw8X/SltEM\n",
      "p2:gjLQkrEvL68i1469S+RPEVpaTmVnvr+g3ZWIJOVDsX8SJonBnvZmudMhx6wKGoOs\n",
      "p2:W5fOmCR1SNVHwCE2E8HBCq1koasnywZinQW7AkY7yElhNmNJsQGFtog8piYRKVAJ\n",
      "p2:ZmqoFbJpKet6RTs/T6T4+gR8mJCR5I7ox/UaJDQGmnn5ndU5u0Xb66It485bMY2T\n",
      "p2:Z7BHCkjruOo1bsvVzMe5yOEyBtdACB5XSE+3sE7Uirjb8gdSrc0NUKX5OU6Kj1FV\n",
      "p2:clEJFJYn/BKWNITjrVghhn+tg6ksQZ+HowGm+LeDxhQhg6x4rduih/11bK64Vr5u\n",
      "Creation 2021-09-29 15:10:04-07:00 before start_cutoff\n"
     ]
    }
   ],
   "source": [
    "# Get the list of HITs you want to compile\n",
    "all_hits = mtglobals.download_all_hits(client, start_cutoff=datetime.datetime(2021,10,1))"
   ]
  },
  {
   "cell_type": "code",
   "execution_count": 5,
   "id": "04486151-b9dd-4a02-935a-7b99b9e35a5c",
   "metadata": {
    "execution": {
     "iopub.execute_input": "2022-01-23T21:20:19.871886Z",
     "iopub.status.busy": "2022-01-23T21:20:19.871886Z",
     "iopub.status.idle": "2022-01-23T21:20:19.947886Z",
     "shell.execute_reply": "2022-01-23T21:20:19.947886Z",
     "shell.execute_reply.started": "2022-01-23T21:20:19.871886Z"
    },
    "tags": []
   },
   "outputs": [
    {
     "data": {
      "text/plain": [
       "2463"
      ]
     },
     "execution_count": 5,
     "metadata": {},
     "output_type": "execute_result"
    }
   ],
   "source": [
    "len(all_hits)"
   ]
  },
  {
   "cell_type": "code",
   "execution_count": 6,
   "id": "6df50784-d8cd-4a39-a8a5-ee3633c67da7",
   "metadata": {
    "execution": {
     "iopub.execute_input": "2022-01-23T21:20:19.948896Z",
     "iopub.status.busy": "2022-01-23T21:20:19.948896Z",
     "iopub.status.idle": "2022-01-23T21:20:20.025887Z",
     "shell.execute_reply": "2022-01-23T21:20:20.025887Z",
     "shell.execute_reply.started": "2022-01-23T21:20:19.948896Z"
    },
    "tags": []
   },
   "outputs": [],
   "source": [
    " qual_names = ['Workplace_Survey_Custom06','Workplace_Survey_Custom07',\n",
    "               'Workplace_Survey_Custom08','Workplace_Survey_Custom09',\n",
    "               'Workplace_Survey_Custom10','Workplace_Survey_Custom11',\n",
    "               'Workplace_Survey_Custom12','Workplace_Survey_Custom13',]\n",
    "#qual_names = ['Workplace_Survey_Custom12']"
   ]
  },
  {
   "cell_type": "code",
   "execution_count": 7,
   "id": "6fb9a80b-245e-4a5c-8077-16c4e141c14c",
   "metadata": {
    "execution": {
     "iopub.execute_input": "2022-01-23T21:20:20.027887Z",
     "iopub.status.busy": "2022-01-23T21:20:20.026887Z",
     "iopub.status.idle": "2022-01-23T21:20:40.372452Z",
     "shell.execute_reply": "2022-01-23T21:20:40.371448Z",
     "shell.execute_reply.started": "2022-01-23T21:20:20.027887Z"
    },
    "tags": []
   },
   "outputs": [],
   "source": [
    "all_worker_ids = []\n",
    "for cur_qual_name in qual_names:\n",
    "    worker_ids = mtglobals.get_workers_with_qual(client, cur_qual_name)\n",
    "    all_worker_ids.extend(worker_ids)"
   ]
  },
  {
   "cell_type": "code",
   "execution_count": 8,
   "id": "0717c887-c10a-4679-8d20-d14cc6cc6541",
   "metadata": {
    "execution": {
     "iopub.execute_input": "2022-01-23T21:20:40.373455Z",
     "iopub.status.busy": "2022-01-23T21:20:40.373455Z",
     "iopub.status.idle": "2022-01-23T21:20:40.448447Z",
     "shell.execute_reply": "2022-01-23T21:20:40.448447Z",
     "shell.execute_reply.started": "2022-01-23T21:20:40.373455Z"
    },
    "tags": []
   },
   "outputs": [
    {
     "data": {
      "text/plain": [
       "2016"
      ]
     },
     "execution_count": 8,
     "metadata": {},
     "output_type": "execute_result"
    }
   ],
   "source": [
    "len(all_worker_ids)"
   ]
  },
  {
   "cell_type": "markdown",
   "id": "b15839af-038d-40d2-b223-31232cc3ab12",
   "metadata": {},
   "source": [
    "Get the HITs for each of these workers"
   ]
  },
  {
   "cell_type": "code",
   "execution_count": 9,
   "id": "c65c4e38-75f7-4000-9738-0ff639c69d47",
   "metadata": {
    "execution": {
     "iopub.execute_input": "2022-01-23T21:25:51.691840Z",
     "iopub.status.busy": "2022-01-23T21:25:51.691840Z",
     "iopub.status.idle": "2022-01-23T21:25:53.265831Z",
     "shell.execute_reply": "2022-01-23T21:25:53.265831Z",
     "shell.execute_reply.started": "2022-01-23T21:25:51.691840Z"
    },
    "tags": []
   },
   "outputs": [],
   "source": [
    "# (worker_id, hit) tuples\n",
    "worker_tuples = [(wid, mtglobals.get_hit_for_worker(all_hits, wid)) for wid in all_worker_ids]"
   ]
  },
  {
   "cell_type": "code",
   "execution_count": 10,
   "id": "ba007c55-8a66-4748-bc3e-1e24129bcc14",
   "metadata": {
    "execution": {
     "iopub.execute_input": "2022-01-23T21:25:53.266831Z",
     "iopub.status.busy": "2022-01-23T21:25:53.266831Z",
     "iopub.status.idle": "2022-01-23T21:25:53.376831Z",
     "shell.execute_reply": "2022-01-23T21:25:53.376831Z",
     "shell.execute_reply.started": "2022-01-23T21:25:53.266831Z"
    },
    "tags": []
   },
   "outputs": [
    {
     "name": "stderr",
     "output_type": "stream",
     "text": [
      "100%|███████████████████████████████████████████████████████████████████████████| 2016/2016 [00:00<00:00, 91645.99it/s]\n"
     ]
    }
   ],
   "source": [
    "all_submit_info = []\n",
    "for cur_tuple in tqdm.tqdm(worker_tuples):\n",
    "    worker_id = cur_tuple[0]\n",
    "    cur_hit = cur_tuple[1]\n",
    "    hit_id = cur_hit['HITId']\n",
    "    reward = cur_hit['Reward']\n",
    "    num_avail = cur_hit['NumberOfAssignmentsAvailable']\n",
    "    creation = cur_hit['CreationTime']\n",
    "    # Convert to non-tz\n",
    "    creation_naive = creation.replace(tzinfo=None)\n",
    "    # 1 - this is a 0/1 accepted vs. not accepted\n",
    "    accepted = 1 - num_avail\n",
    "    #print(f\"Processing {hit_id}, {reward}\")\n",
    "    submit_info = {'worker_id':worker_id, 'wage':reward, 'accepted':accepted,\n",
    "                   'stage2_creation':creation_naive, 'stage2_creation_str':str(creation)}\n",
    "    all_submit_info.append(submit_info)"
   ]
  },
  {
   "cell_type": "code",
   "execution_count": 11,
   "id": "b26c79ec-4e2f-4c73-b56c-319beb39e90b",
   "metadata": {
    "execution": {
     "iopub.execute_input": "2022-01-23T21:25:53.377832Z",
     "iopub.status.busy": "2022-01-23T21:25:53.377832Z",
     "iopub.status.idle": "2022-01-23T21:25:53.455834Z",
     "shell.execute_reply": "2022-01-23T21:25:53.454831Z",
     "shell.execute_reply.started": "2022-01-23T21:25:53.377832Z"
    },
    "tags": []
   },
   "outputs": [],
   "source": [
    "#cur_hit"
   ]
  },
  {
   "cell_type": "code",
   "execution_count": 12,
   "id": "f7c74488-e0c3-4721-a148-83d6fa1650c3",
   "metadata": {
    "execution": {
     "iopub.execute_input": "2022-01-23T21:25:53.456835Z",
     "iopub.status.busy": "2022-01-23T21:25:53.456835Z",
     "iopub.status.idle": "2022-01-23T21:25:53.533831Z",
     "shell.execute_reply": "2022-01-23T21:25:53.533831Z",
     "shell.execute_reply.started": "2022-01-23T21:25:53.456835Z"
    },
    "tags": []
   },
   "outputs": [
    {
     "data": {
      "text/plain": [
       "{'worker_id': 'A1AHWC9TUBF2Z4',\n",
       " 'wage': '1.50',\n",
       " 'accepted': 0,\n",
       " 'stage2_creation': datetime.datetime(2021, 12, 8, 19, 16, 16),\n",
       " 'stage2_creation_str': '2021-12-08 19:16:16-08:00'}"
      ]
     },
     "execution_count": 12,
     "metadata": {},
     "output_type": "execute_result"
    }
   ],
   "source": [
    "all_submit_info[0]"
   ]
  },
  {
   "cell_type": "code",
   "execution_count": 13,
   "id": "2a80ec2e-35f1-4450-aa93-557c8e18eb2f",
   "metadata": {
    "execution": {
     "iopub.execute_input": "2022-01-23T21:25:53.534831Z",
     "iopub.status.busy": "2022-01-23T21:25:53.534831Z",
     "iopub.status.idle": "2022-01-23T21:25:53.612831Z",
     "shell.execute_reply": "2022-01-23T21:25:53.612831Z",
     "shell.execute_reply.started": "2022-01-23T21:25:53.534831Z"
    },
    "tags": []
   },
   "outputs": [],
   "source": [
    "# Transform this into a .dta for regression\n",
    "accepted_df = pd.DataFrame(all_submit_info)"
   ]
  },
  {
   "cell_type": "code",
   "execution_count": 14,
   "id": "7adf5c0e-c9c8-454c-9b40-0e629e4e0b35",
   "metadata": {
    "execution": {
     "iopub.execute_input": "2022-01-23T21:25:54.191476Z",
     "iopub.status.busy": "2022-01-23T21:25:54.191476Z",
     "iopub.status.idle": "2022-01-23T21:25:54.269476Z",
     "shell.execute_reply": "2022-01-23T21:25:54.269476Z",
     "shell.execute_reply.started": "2022-01-23T21:25:54.191476Z"
    },
    "tags": []
   },
   "outputs": [],
   "source": [
    "accepted_df['lwage'] = accepted_df['wage'].apply(lambda x: np.log(float(x)))"
   ]
  },
  {
   "cell_type": "code",
   "execution_count": 15,
   "id": "54c0347c-3b50-4029-b3fc-b24505802a7e",
   "metadata": {
    "execution": {
     "iopub.execute_input": "2022-01-23T21:25:54.621816Z",
     "iopub.status.busy": "2022-01-23T21:25:54.621816Z",
     "iopub.status.idle": "2022-01-23T21:25:54.707823Z",
     "shell.execute_reply": "2022-01-23T21:25:54.706816Z",
     "shell.execute_reply.started": "2022-01-23T21:25:54.621816Z"
    },
    "tags": []
   },
   "outputs": [],
   "source": [
    "timestamp = str(datetime.datetime.now()).split(\".\")[0].replace(\" \",\"_\").replace(\"-\",\"\").replace(\":\",\"\")"
   ]
  },
  {
   "cell_type": "code",
   "execution_count": null,
   "id": "7b810539-32bd-4521-bdcb-d14dea3d4a6c",
   "metadata": {
    "tags": []
   },
   "outputs": [],
   "source": []
  },
  {
   "cell_type": "code",
   "execution_count": 16,
   "id": "893d6907-1550-4e0d-8d63-eef4b4d511c0",
   "metadata": {
    "execution": {
     "iopub.execute_input": "2022-01-23T21:25:55.007803Z",
     "iopub.status.busy": "2022-01-23T21:25:55.007803Z",
     "iopub.status.idle": "2022-01-23T21:25:55.096804Z",
     "shell.execute_reply": "2022-01-23T21:25:55.096804Z",
     "shell.execute_reply.started": "2022-01-23T21:25:55.007803Z"
    },
    "tags": []
   },
   "outputs": [
    {
     "name": "stdout",
     "output_type": "stream",
     "text": [
      "                            OLS Regression Results                            \n",
      "==============================================================================\n",
      "Dep. Variable:               accepted   R-squared:                       0.006\n",
      "Model:                            OLS   Adj. R-squared:                  0.006\n",
      "Method:                 Least Squares   F-statistic:                     12.08\n",
      "Date:                Sun, 23 Jan 2022   Prob (F-statistic):           0.000522\n",
      "Time:                        13:25:55   Log-Likelihood:                -1295.0\n",
      "No. Observations:                2016   AIC:                             2594.\n",
      "Df Residuals:                    2014   BIC:                             2605.\n",
      "Df Model:                           1                                         \n",
      "Covariance Type:                  HC1                                         \n",
      "==============================================================================\n",
      "                 coef    std err          z      P>|z|      [0.025      0.975]\n",
      "------------------------------------------------------------------------------\n",
      "Intercept      0.6965      0.010     67.908      0.000       0.676       0.717\n",
      "lwage          0.1413      0.041      3.475      0.001       0.062       0.221\n",
      "==============================================================================\n",
      "Omnibus:                     4347.063   Durbin-Watson:                   1.941\n",
      "Prob(Omnibus):                  0.000   Jarque-Bera (JB):              368.753\n",
      "Skew:                          -0.828   Prob(JB):                     8.44e-81\n",
      "Kurtosis:                       1.716   Cond. No.                         3.82\n",
      "==============================================================================\n",
      "\n",
      "Notes:\n",
      "[1] Standard Errors are heteroscedasticity robust (HC1)\n"
     ]
    }
   ],
   "source": [
    "reg_result = smf.ols(formula='accepted ~ lwage', data=accepted_df).fit(cov_type='HC1')\n",
    "print(reg_result.summary())"
   ]
  },
  {
   "cell_type": "code",
   "execution_count": 17,
   "id": "e0c1bd7d-c9df-4b24-9579-55d7f515eb8b",
   "metadata": {
    "execution": {
     "iopub.execute_input": "2022-01-23T21:26:01.043036Z",
     "iopub.status.busy": "2022-01-23T21:26:01.043036Z",
     "iopub.status.idle": "2022-01-23T21:26:01.131235Z",
     "shell.execute_reply": "2022-01-23T21:26:01.130228Z",
     "shell.execute_reply.started": "2022-01-23T21:26:01.043036Z"
    },
    "tags": []
   },
   "outputs": [
    {
     "data": {
      "text/plain": [
       "0.6924603174603174"
      ]
     },
     "execution_count": 17,
     "metadata": {},
     "output_type": "execute_result"
    }
   ],
   "source": [
    "# Also get the sample mean of the dependent var\n",
    "np.mean(accepted_df['accepted'])"
   ]
  },
  {
   "cell_type": "markdown",
   "id": "32ab8613-ee67-4809-82bc-61dbdc8fee04",
   "metadata": {},
   "source": [
    "### Check who is suspended"
   ]
  },
  {
   "cell_type": "code",
   "execution_count": 18,
   "id": "d46682ee-217d-4ad4-a257-c01a31969c97",
   "metadata": {
    "execution": {
     "iopub.execute_input": "2022-01-23T21:26:08.528056Z",
     "iopub.status.busy": "2022-01-23T21:26:08.528056Z",
     "iopub.status.idle": "2022-01-23T21:26:08.614054Z",
     "shell.execute_reply": "2022-01-23T21:26:08.613053Z",
     "shell.execute_reply.started": "2022-01-23T21:26:08.528056Z"
    },
    "tags": []
   },
   "outputs": [],
   "source": [
    "wids = list(accepted_df['worker_id'].values)"
   ]
  },
  {
   "cell_type": "code",
   "execution_count": 19,
   "id": "f3b300f7-57e4-4be5-9cd1-10574d4691f0",
   "metadata": {
    "execution": {
     "iopub.execute_input": "2022-01-23T21:26:08.693748Z",
     "iopub.status.busy": "2022-01-23T21:26:08.693748Z",
     "iopub.status.idle": "2022-01-23T21:26:08.784749Z",
     "shell.execute_reply": "2022-01-23T21:26:08.784749Z",
     "shell.execute_reply.started": "2022-01-23T21:26:08.693748Z"
    },
    "tags": []
   },
   "outputs": [],
   "source": [
    "with open('./mt_log.txt', 'r', encoding='utf-8') as f:\n",
    "    mt_log = [l.strip().lower() for l in f.readlines()]"
   ]
  },
  {
   "cell_type": "code",
   "execution_count": 20,
   "id": "2a67bf95-c995-4741-87a0-cd2c47af75fe",
   "metadata": {
    "execution": {
     "iopub.execute_input": "2022-01-23T21:26:08.850026Z",
     "iopub.status.busy": "2022-01-23T21:26:08.850026Z",
     "iopub.status.idle": "2022-01-23T21:26:09.700022Z",
     "shell.execute_reply": "2022-01-23T21:26:09.700022Z",
     "shell.execute_reply.started": "2022-01-23T21:26:08.850026Z"
    },
    "tags": []
   },
   "outputs": [],
   "source": [
    "def get_wid_lines(worker_id):\n",
    "    wid_lines = [line for line in mt_log if worker_id.lower() in line]\n",
    "    return wid_lines\n",
    "wid_lines = {wid: get_wid_lines(wid) for wid in wids}"
   ]
  },
  {
   "cell_type": "code",
   "execution_count": 21,
   "id": "bf94b973-764b-4e55-89ae-0d548d138e93",
   "metadata": {
    "execution": {
     "iopub.execute_input": "2022-01-23T21:26:09.701023Z",
     "iopub.status.busy": "2022-01-23T21:26:09.701023Z",
     "iopub.status.idle": "2022-01-23T21:26:09.778023Z",
     "shell.execute_reply": "2022-01-23T21:26:09.778023Z",
     "shell.execute_reply.started": "2022-01-23T21:26:09.701023Z"
    },
    "scrolled": true,
    "tags": []
   },
   "outputs": [],
   "source": [
    "failures = []\n",
    "for cur_wid, cur_lines in wid_lines.items():\n",
    "    fail = [l for l in cur_lines if \"fail\" in l]\n",
    "    if len(fail) > 0:\n",
    "        failures.append((cur_wid, fail))"
   ]
  },
  {
   "cell_type": "code",
   "execution_count": 22,
   "id": "e2173e0d-de52-4005-9ad5-a2d6640bcee4",
   "metadata": {
    "execution": {
     "iopub.execute_input": "2022-01-23T21:26:09.779023Z",
     "iopub.status.busy": "2022-01-23T21:26:09.779023Z",
     "iopub.status.idle": "2022-01-23T21:26:09.856031Z",
     "shell.execute_reply": "2022-01-23T21:26:09.855022Z",
     "shell.execute_reply.started": "2022-01-23T21:26:09.779023Z"
    },
    "tags": []
   },
   "outputs": [],
   "source": [
    "fail_wids = [t[0] for t in failures]"
   ]
  },
  {
   "cell_type": "code",
   "execution_count": 23,
   "id": "ca628548-ca4e-4695-b4e6-07dcc2a3221b",
   "metadata": {
    "execution": {
     "iopub.execute_input": "2022-01-23T21:26:09.857024Z",
     "iopub.status.busy": "2022-01-23T21:26:09.857024Z",
     "iopub.status.idle": "2022-01-23T21:26:09.933024Z",
     "shell.execute_reply": "2022-01-23T21:26:09.933024Z",
     "shell.execute_reply.started": "2022-01-23T21:26:09.857024Z"
    },
    "tags": []
   },
   "outputs": [],
   "source": [
    "fail_all = {k:v for k, v in wid_lines.items() if k in fail_wids}"
   ]
  },
  {
   "cell_type": "code",
   "execution_count": 24,
   "id": "2452dad3-8369-4e18-8ad6-8c5072fa965c",
   "metadata": {
    "execution": {
     "iopub.execute_input": "2022-01-23T21:26:09.934023Z",
     "iopub.status.busy": "2022-01-23T21:26:09.934023Z",
     "iopub.status.idle": "2022-01-23T21:26:10.012023Z",
     "shell.execute_reply": "2022-01-23T21:26:10.012023Z",
     "shell.execute_reply.started": "2022-01-23T21:26:09.934023Z"
    },
    "tags": []
   },
   "outputs": [
    {
     "data": {
      "text/plain": [
       "51"
      ]
     },
     "execution_count": 24,
     "metadata": {},
     "output_type": "execute_result"
    }
   ],
   "source": [
    "len(fail_all)"
   ]
  },
  {
   "cell_type": "code",
   "execution_count": 25,
   "id": "85a3fcd9-8560-486a-9944-661d9e22ed77",
   "metadata": {
    "execution": {
     "iopub.execute_input": "2022-01-23T21:26:10.768820Z",
     "iopub.status.busy": "2022-01-23T21:26:10.768820Z",
     "iopub.status.idle": "2022-01-23T21:26:10.853821Z",
     "shell.execute_reply": "2022-01-23T21:26:10.853821Z",
     "shell.execute_reply.started": "2022-01-23T21:26:10.768820Z"
    },
    "tags": []
   },
   "outputs": [],
   "source": [
    "# And merge"
   ]
  },
  {
   "cell_type": "code",
   "execution_count": 26,
   "id": "c45ef6ea-6417-4587-ba8c-35a354e57b59",
   "metadata": {
    "execution": {
     "iopub.execute_input": "2022-01-23T21:26:10.941773Z",
     "iopub.status.busy": "2022-01-23T21:26:10.941773Z",
     "iopub.status.idle": "2022-01-23T21:26:11.026772Z",
     "shell.execute_reply": "2022-01-23T21:26:11.026772Z",
     "shell.execute_reply.started": "2022-01-23T21:26:10.941773Z"
    },
    "tags": []
   },
   "outputs": [],
   "source": [
    "accepted_df['suspended'] = accepted_df['worker_id'].apply(lambda x: True if x in fail_wids else False)"
   ]
  },
  {
   "cell_type": "code",
   "execution_count": 27,
   "id": "0ae7674d-2e96-46f1-bb43-99c4a3633a3a",
   "metadata": {
    "execution": {
     "iopub.execute_input": "2022-01-23T21:26:11.109174Z",
     "iopub.status.busy": "2022-01-23T21:26:11.109174Z",
     "iopub.status.idle": "2022-01-23T21:26:11.199174Z",
     "shell.execute_reply": "2022-01-23T21:26:11.199174Z",
     "shell.execute_reply.started": "2022-01-23T21:26:11.109174Z"
    },
    "tags": []
   },
   "outputs": [
    {
     "data": {
      "text/plain": [
       "False    1965\n",
       "True       51\n",
       "Name: suspended, dtype: int64"
      ]
     },
     "execution_count": 27,
     "metadata": {},
     "output_type": "execute_result"
    }
   ],
   "source": [
    "accepted_df['suspended'].value_counts()"
   ]
  },
  {
   "cell_type": "code",
   "execution_count": 28,
   "id": "35210e35-4d59-4889-8149-669c5468679c",
   "metadata": {
    "execution": {
     "iopub.execute_input": "2022-01-23T21:26:11.998575Z",
     "iopub.status.busy": "2022-01-23T21:26:11.998575Z",
     "iopub.status.idle": "2022-01-23T21:26:12.091576Z",
     "shell.execute_reply": "2022-01-23T21:26:12.091576Z",
     "shell.execute_reply.started": "2022-01-23T21:26:11.998575Z"
    },
    "tags": []
   },
   "outputs": [],
   "source": [
    "output_fpath = f'../results_2stage/accepted_df_{timestamp}.dta'\n",
    "accepted_df.to_stata(output_fpath)"
   ]
  },
  {
   "cell_type": "code",
   "execution_count": null,
   "id": "4e548361-b256-4d24-98e4-bf1835694dcd",
   "metadata": {},
   "outputs": [],
   "source": []
  }
 ],
 "metadata": {
  "kernelspec": {
   "display_name": "Python 3 (ipykernel)",
   "language": "python",
   "name": "python3"
  },
  "language_info": {
   "codemirror_mode": {
    "name": "ipython",
    "version": 3
   },
   "file_extension": ".py",
   "mimetype": "text/x-python",
   "name": "python",
   "nbconvert_exporter": "python",
   "pygments_lexer": "ipython3",
   "version": "3.9.9"
  }
 },
 "nbformat": 4,
 "nbformat_minor": 5
}
