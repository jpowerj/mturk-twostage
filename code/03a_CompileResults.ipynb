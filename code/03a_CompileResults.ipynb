{
 "cells": [
  {
   "cell_type": "code",
   "execution_count": 2,
   "id": "5bc8e2da-501b-4ad1-8aeb-3f4640fd99fe",
   "metadata": {
    "tags": [],
    "pycharm": {
     "name": "#%%\n"
    }
   },
   "outputs": [],
   "source": [
    "%load_ext autoreload\n",
    "%autoreload 2"
   ]
  },
  {
   "cell_type": "code",
   "execution_count": 1,
   "id": "83d38808-59f6-4a5c-a388-505fcdf642a6",
   "metadata": {
    "tags": [],
    "pycharm": {
     "name": "#%%\n"
    }
   },
   "outputs": [],
   "source": [
    "import datetime\n",
    "\n",
    "import pandas as pd\n",
    "import numpy as np\n",
    "import statsmodels.formula.api as smf\n",
    "import tqdm\n",
    "\n",
    "from mtclient import MTClient\n",
    "import mtglobals"
   ]
  },
  {
   "cell_type": "code",
   "execution_count": 2,
   "id": "b916cc6d-f822-45c5-88d4-675a13c2a0b8",
   "metadata": {
    "tags": [],
    "pycharm": {
     "name": "#%%\n"
    }
   },
   "outputs": [
    {
     "name": "stdout",
     "output_type": "stream",
     "text": [
      "Your account balance is 2481.66\n"
     ]
    }
   ],
   "source": [
    "client = MTClient()"
   ]
  },
  {
   "cell_type": "markdown",
   "id": "f3b7db04-d5c8-44a8-8b33-88dbf6fafb77",
   "metadata": {
    "pycharm": {
     "name": "#%% md\n"
    }
   },
   "source": [
    "### (a) Get all HITs since `date_cutoff`"
   ]
  },
  {
   "cell_type": "code",
   "execution_count": 3,
   "id": "19e78014-6dc1-411e-9778-158488ee291b",
   "metadata": {
    "tags": [],
    "pycharm": {
     "name": "#%%\n"
    }
   },
   "outputs": [
    {
     "name": "stdout",
     "output_type": "stream",
     "text": [
      "Downloading list of hits from 2021-10-30 00:00:00+00:00 to 2022-09-21 17:36:00.796371-07:53\n",
      "p2:5mRb1GHZOk1V4Mw8HOHwPr4H5QUNKDJjbFZdJtSeJfvkGyQE3QTO2mAi/s38Tys=\n",
      "Saving downloaded HIT data to ../results_2stage/all_hit_data.pkl\n"
     ]
    }
   ],
   "source": [
    "# Get the list of HITs you want to compile\n",
    "all_hits = client.download_all_hits()"
   ]
  },
  {
   "cell_type": "code",
   "execution_count": 4,
   "id": "04486151-b9dd-4a02-935a-7b99b9e35a5c",
   "metadata": {
    "tags": [],
    "pycharm": {
     "name": "#%%\n"
    }
   },
   "outputs": [
    {
     "data": {
      "text/plain": "1"
     },
     "execution_count": 4,
     "metadata": {},
     "output_type": "execute_result"
    }
   ],
   "source": [
    "len(all_hits)"
   ]
  },
  {
   "cell_type": "markdown",
   "id": "a9df9eb1-b364-4377-b149-66ee5bb336e4",
   "metadata": {
    "pycharm": {
     "name": "#%% md\n"
    }
   },
   "source": [
    "### (b) Specify the quals for each run you want to include in the compiled results"
   ]
  },
  {
   "cell_type": "code",
   "execution_count": 5,
   "id": "6df50784-d8cd-4a39-a8a5-ee3633c67da7",
   "metadata": {
    "tags": [],
    "pycharm": {
     "name": "#%%\n"
    }
   },
   "outputs": [],
   "source": [
    "qual_names = ['Workplace_Survey_00']\n",
    "#qual_names = ['Workplace_Survey_Custom06','Workplace_Survey_Custom07',\n",
    "#              'Workplace_Survey_Custom08','Workplace_Survey_Custom09',\n",
    "#              'Workplace_Survey_Custom10','Workplace_Survey_Custom11',\n",
    "#              'Workplace_Survey_Custom12','Workplace_Survey_Custom13',\n",
    "#              'Workplace_Survey_Custom14']\n",
    "#qual_names = ['Workplace_Survey_Custom12']"
   ]
  },
  {
   "cell_type": "code",
   "execution_count": 7,
   "id": "6fb9a80b-245e-4a5c-8077-16c4e141c14c",
   "metadata": {
    "tags": [],
    "pycharm": {
     "name": "#%%\n"
    }
   },
   "outputs": [],
   "source": [
    "all_worker_ids = []\n",
    "for cur_qual_name in qual_names:\n",
    "    worker_ids = client.get_workers_with_qual(cur_qual_name)\n",
    "    all_worker_ids.extend(worker_ids)"
   ]
  },
  {
   "cell_type": "code",
   "execution_count": 8,
   "id": "0717c887-c10a-4679-8d20-d14cc6cc6541",
   "metadata": {
    "tags": [],
    "pycharm": {
     "name": "#%%\n"
    }
   },
   "outputs": [
    {
     "data": {
      "text/plain": "0"
     },
     "execution_count": 8,
     "metadata": {},
     "output_type": "execute_result"
    }
   ],
   "source": [
    "len(all_worker_ids)"
   ]
  },
  {
   "cell_type": "markdown",
   "id": "b15839af-038d-40d2-b223-31232cc3ab12",
   "metadata": {
    "pycharm": {
     "name": "#%% md\n"
    }
   },
   "source": [
    "### (c) Get the HITs for each worker across the quals from the previous step"
   ]
  },
  {
   "cell_type": "code",
   "execution_count": 9,
   "id": "c65c4e38-75f7-4000-9738-0ff639c69d47",
   "metadata": {
    "tags": [],
    "pycharm": {
     "name": "#%%\n"
    }
   },
   "outputs": [],
   "source": [
    "# (worker_id, hit) tuples\n",
    "worker_data = [{'id': wid, 'hit': mtglobals.get_hit_for_worker(all_hits, wid)} for wid in all_worker_ids]"
   ]
  },
  {
   "cell_type": "code",
   "execution_count": 11,
   "id": "ba007c55-8a66-4748-bc3e-1e24129bcc14",
   "metadata": {
    "tags": [],
    "pycharm": {
     "name": "#%%\n"
    }
   },
   "outputs": [
    {
     "name": "stderr",
     "output_type": "stream",
     "text": [
      "100%|██████████| 3016/3016 [00:00<00:00, 88706.09it/s]\n"
     ]
    }
   ],
   "source": [
    "all_submit_info = []\n",
    "for cur_data in tqdm.tqdm(worker_data):\n",
    "    worker_id = cur_data['id']\n",
    "    cur_hit = cur_data['hit']\n",
    "    hit_id = cur_hit['HITId']\n",
    "    reward = cur_hit['Reward']\n",
    "    num_avail = cur_hit['NumberOfAssignmentsAvailable']\n",
    "    creation = cur_hit['CreationTime']\n",
    "    # Convert to non-localized\n",
    "    creation_naive = creation.replace(tzinfo=None)\n",
    "    # 1 - this is a 0/1 accepted vs. not accepted\n",
    "    accepted = 1 - num_avail\n",
    "    #print(f\"Processing {hit_id}, {reward}\")\n",
    "    submit_info = {'worker_id':worker_id, 'wage':reward, 'accepted':accepted,\n",
    "                   'stage2_creation':creation_naive, 'stage2_creation_str':str(creation)}\n",
    "    all_submit_info.append(submit_info)"
   ]
  },
  {
   "cell_type": "code",
   "execution_count": 12,
   "id": "b26c79ec-4e2f-4c73-b56c-319beb39e90b",
   "metadata": {
    "tags": [],
    "pycharm": {
     "name": "#%%\n"
    }
   },
   "outputs": [],
   "source": [
    "#cur_hit"
   ]
  },
  {
   "cell_type": "code",
   "execution_count": 13,
   "id": "f7c74488-e0c3-4721-a148-83d6fa1650c3",
   "metadata": {
    "tags": [],
    "pycharm": {
     "name": "#%%\n"
    }
   },
   "outputs": [
    {
     "data": {
      "text/plain": [
       "{'worker_id': 'A1AHWC9TUBF2Z4',\n",
       " 'wage': '1.50',\n",
       " 'accepted': 0,\n",
       " 'stage2_creation': datetime.datetime(2021, 12, 8, 19, 16, 16),\n",
       " 'stage2_creation_str': '2021-12-08 19:16:16-08:00'}"
      ]
     },
     "execution_count": 13,
     "metadata": {},
     "output_type": "execute_result"
    }
   ],
   "source": [
    "all_submit_info[0]"
   ]
  },
  {
   "cell_type": "markdown",
   "id": "695d12d0-0de6-4513-b8f8-9a9e7fc3147a",
   "metadata": {
    "pycharm": {
     "name": "#%% md\n"
    }
   },
   "source": [
    "### (d) Transform the downloaded data into .dta form for regression"
   ]
  },
  {
   "cell_type": "code",
   "execution_count": 15,
   "id": "2a80ec2e-35f1-4450-aa93-557c8e18eb2f",
   "metadata": {
    "tags": [],
    "pycharm": {
     "name": "#%%\n"
    }
   },
   "outputs": [],
   "source": [
    "# Transform this into a .dta for regression\n",
    "accepted_df = pd.DataFrame(all_submit_info)"
   ]
  },
  {
   "cell_type": "code",
   "execution_count": 16,
   "id": "ed871f06-1445-4253-bb43-78edcd9122ef",
   "metadata": {
    "pycharm": {
     "name": "#%%\n"
    }
   },
   "outputs": [
    {
     "data": {
      "text/plain": [
       "3016"
      ]
     },
     "execution_count": 16,
     "metadata": {},
     "output_type": "execute_result"
    }
   ],
   "source": [
    "len(accepted_df)"
   ]
  },
  {
   "cell_type": "code",
   "execution_count": 17,
   "id": "7adf5c0e-c9c8-454c-9b40-0e629e4e0b35",
   "metadata": {
    "tags": [],
    "pycharm": {
     "name": "#%%\n"
    }
   },
   "outputs": [],
   "source": [
    "accepted_df['lwage'] = accepted_df['wage'].apply(lambda x: np.log(float(x)))"
   ]
  },
  {
   "cell_type": "code",
   "execution_count": 19,
   "id": "893d6907-1550-4e0d-8d63-eef4b4d511c0",
   "metadata": {
    "tags": [],
    "pycharm": {
     "name": "#%%\n"
    }
   },
   "outputs": [
    {
     "name": "stdout",
     "output_type": "stream",
     "text": [
      "                            OLS Regression Results                            \n",
      "==============================================================================\n",
      "Dep. Variable:               accepted   R-squared:                       0.004\n",
      "Model:                            OLS   Adj. R-squared:                  0.004\n",
      "Method:                 Least Squares   F-statistic:                     11.61\n",
      "Date:                Fri, 04 Feb 2022   Prob (F-statistic):           0.000666\n",
      "Time:                        12:52:29   Log-Likelihood:                -1823.8\n",
      "No. Observations:                3016   AIC:                             3652.\n",
      "Df Residuals:                    3014   BIC:                             3664.\n",
      "Df Model:                           1                                         \n",
      "Covariance Type:                  HC1                                         \n",
      "==============================================================================\n",
      "                 coef    std err          z      P>|z|      [0.025      0.975]\n",
      "------------------------------------------------------------------------------\n",
      "Intercept      0.7331      0.008     90.876      0.000       0.717       0.749\n",
      "lwage          0.1119      0.033      3.407      0.001       0.048       0.176\n",
      "==============================================================================\n",
      "Omnibus:                      814.437   Durbin-Watson:                   1.911\n",
      "Prob(Omnibus):                  0.000   Jarque-Bera (JB):              639.704\n",
      "Skew:                          -1.031   Prob(JB):                    1.23e-139\n",
      "Kurtosis:                       2.085   Cond. No.                         3.91\n",
      "==============================================================================\n",
      "\n",
      "Notes:\n",
      "[1] Standard Errors are heteroscedasticity robust (HC1)\n"
     ]
    }
   ],
   "source": [
    "reg_result = smf.ols(formula='accepted ~ lwage', data=accepted_df).fit(cov_type='HC1')\n",
    "print(reg_result.summary())"
   ]
  },
  {
   "cell_type": "code",
   "execution_count": 20,
   "id": "e0c1bd7d-c9df-4b24-9579-55d7f515eb8b",
   "metadata": {
    "tags": [],
    "pycharm": {
     "name": "#%%\n"
    }
   },
   "outputs": [
    {
     "data": {
      "text/plain": [
       "0.730106100795756"
      ]
     },
     "execution_count": 20,
     "metadata": {},
     "output_type": "execute_result"
    }
   ],
   "source": [
    "# Also get the sample mean of the dependent var\n",
    "np.mean(accepted_df['accepted'])"
   ]
  },
  {
   "cell_type": "markdown",
   "id": "32ab8613-ee67-4809-82bc-61dbdc8fee04",
   "metadata": {
    "pycharm": {
     "name": "#%% md\n"
    }
   },
   "source": [
    "### (e) Check and record any workers who are suspended\n",
    "\n",
    "(As indicated by the API failing to notify them)"
   ]
  },
  {
   "cell_type": "code",
   "execution_count": 21,
   "id": "d46682ee-217d-4ad4-a257-c01a31969c97",
   "metadata": {
    "tags": [],
    "pycharm": {
     "name": "#%%\n"
    }
   },
   "outputs": [],
   "source": [
    "wids = list(accepted_df['worker_id'].values)"
   ]
  },
  {
   "cell_type": "code",
   "execution_count": 22,
   "id": "f3b300f7-57e4-4be5-9cd1-10574d4691f0",
   "metadata": {
    "tags": [],
    "pycharm": {
     "name": "#%%\n"
    }
   },
   "outputs": [],
   "source": [
    "with open('./mt_log.txt', 'r', encoding='utf-8') as f:\n",
    "    mt_log = [l.strip().lower() for l in f.readlines()]"
   ]
  },
  {
   "cell_type": "code",
   "execution_count": 23,
   "id": "2a67bf95-c995-4741-87a0-cd2c47af75fe",
   "metadata": {
    "tags": [],
    "pycharm": {
     "name": "#%%\n"
    }
   },
   "outputs": [],
   "source": [
    "def get_wid_lines(worker_id):\n",
    "    wid_lines = [line for line in mt_log if worker_id.lower() in line]\n",
    "    return wid_lines\n",
    "wid_lines = {wid: get_wid_lines(wid) for wid in wids}"
   ]
  },
  {
   "cell_type": "code",
   "execution_count": 24,
   "id": "bf94b973-764b-4e55-89ae-0d548d138e93",
   "metadata": {
    "scrolled": true,
    "tags": [],
    "pycharm": {
     "name": "#%%\n"
    }
   },
   "outputs": [],
   "source": [
    "failures = []\n",
    "for cur_wid, cur_lines in wid_lines.items():\n",
    "    fail = [l for l in cur_lines if \"fail\" in l]\n",
    "    if len(fail) > 0:\n",
    "        failures.append((cur_wid, fail))"
   ]
  },
  {
   "cell_type": "code",
   "execution_count": 25,
   "id": "e2173e0d-de52-4005-9ad5-a2d6640bcee4",
   "metadata": {
    "tags": [],
    "pycharm": {
     "name": "#%%\n"
    }
   },
   "outputs": [],
   "source": [
    "fail_wids = [t[0] for t in failures]"
   ]
  },
  {
   "cell_type": "code",
   "execution_count": 26,
   "id": "ca628548-ca4e-4695-b4e6-07dcc2a3221b",
   "metadata": {
    "tags": [],
    "pycharm": {
     "name": "#%%\n"
    }
   },
   "outputs": [],
   "source": [
    "fail_all = {k:v for k, v in wid_lines.items() if k in fail_wids}"
   ]
  },
  {
   "cell_type": "code",
   "execution_count": 27,
   "id": "2452dad3-8369-4e18-8ad6-8c5072fa965c",
   "metadata": {
    "tags": [],
    "pycharm": {
     "name": "#%%\n"
    }
   },
   "outputs": [
    {
     "data": {
      "text/plain": [
       "91"
      ]
     },
     "execution_count": 27,
     "metadata": {},
     "output_type": "execute_result"
    }
   ],
   "source": [
    "len(fail_all)"
   ]
  },
  {
   "cell_type": "code",
   "execution_count": 28,
   "id": "85a3fcd9-8560-486a-9944-661d9e22ed77",
   "metadata": {
    "tags": [],
    "pycharm": {
     "name": "#%%\n"
    }
   },
   "outputs": [],
   "source": [
    "# And merge"
   ]
  },
  {
   "cell_type": "code",
   "execution_count": 29,
   "id": "c45ef6ea-6417-4587-ba8c-35a354e57b59",
   "metadata": {
    "tags": [],
    "pycharm": {
     "name": "#%%\n"
    }
   },
   "outputs": [],
   "source": [
    "accepted_df['suspended'] = accepted_df['worker_id'].apply(lambda x: True if x in fail_wids else False)"
   ]
  },
  {
   "cell_type": "code",
   "execution_count": 30,
   "id": "0ae7674d-2e96-46f1-bb43-99c4a3633a3a",
   "metadata": {
    "tags": [],
    "pycharm": {
     "name": "#%%\n"
    }
   },
   "outputs": [
    {
     "data": {
      "text/plain": [
       "False    2925\n",
       "True       91\n",
       "Name: suspended, dtype: int64"
      ]
     },
     "execution_count": 30,
     "metadata": {},
     "output_type": "execute_result"
    }
   ],
   "source": [
    "accepted_df['suspended'].value_counts()"
   ]
  },
  {
   "cell_type": "markdown",
   "id": "4ce076a5-66d9-41a8-a32d-40bbc90ab8f2",
   "metadata": {
    "pycharm": {
     "name": "#%% md\n"
    }
   },
   "source": [
    "### (f) Export the dataset, including suspended user data, to .dta with current timestamp"
   ]
  },
  {
   "cell_type": "code",
   "execution_count": 18,
   "id": "54c0347c-3b50-4029-b3fc-b24505802a7e",
   "metadata": {
    "tags": [],
    "pycharm": {
     "name": "#%%\n"
    }
   },
   "outputs": [],
   "source": [
    "timestamp = mtglobals.get_timestamp()"
   ]
  },
  {
   "cell_type": "code",
   "execution_count": 32,
   "id": "35210e35-4d59-4889-8149-669c5468679c",
   "metadata": {
    "tags": [],
    "pycharm": {
     "name": "#%%\n"
    }
   },
   "outputs": [],
   "source": [
    "output_fpath = f'../results_2stage/accepted_df_{timestamp}.dta'\n",
    "accepted_df.to_stata(output_fpath)"
   ]
  },
  {
   "cell_type": "code",
   "execution_count": null,
   "id": "4e548361-b256-4d24-98e4-bf1835694dcd",
   "metadata": {
    "pycharm": {
     "name": "#%%\n"
    }
   },
   "outputs": [],
   "source": []
  }
 ],
 "metadata": {
  "kernelspec": {
   "display_name": "Python 3 (ipykernel)",
   "language": "python",
   "name": "python3"
  },
  "language_info": {
   "codemirror_mode": {
    "name": "ipython",
    "version": 3
   },
   "file_extension": ".py",
   "mimetype": "text/x-python",
   "name": "python",
   "nbconvert_exporter": "python",
   "pygments_lexer": "ipython3",
   "version": "3.9.7"
  }
 },
 "nbformat": 4,
 "nbformat_minor": 5
}