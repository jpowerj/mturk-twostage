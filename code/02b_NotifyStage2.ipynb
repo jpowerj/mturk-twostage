{
 "cells": [
  {
   "cell_type": "code",
   "execution_count": 1,
   "id": "8440f3ca-5636-4240-94af-59802da6d108",
   "metadata": {
    "execution": {
     "iopub.execute_input": "2022-02-03T00:21:18.299064Z",
     "iopub.status.busy": "2022-02-03T00:21:18.299064Z",
     "iopub.status.idle": "2022-02-03T00:21:18.354692Z",
     "shell.execute_reply": "2022-02-03T00:21:18.354063Z",
     "shell.execute_reply.started": "2022-02-03T00:21:18.299064Z"
    },
    "tags": [],
    "pycharm": {
     "name": "#%%\n"
    }
   },
   "outputs": [],
   "source": [
    "%load_ext autoreload\n",
    "%autoreload 2"
   ]
  },
  {
   "cell_type": "code",
   "execution_count": 2,
   "id": "given-highland",
   "metadata": {
    "execution": {
     "iopub.execute_input": "2022-02-03T00:21:18.770883Z",
     "iopub.status.busy": "2022-02-03T00:21:18.769872Z",
     "iopub.status.idle": "2022-02-03T00:21:21.582037Z",
     "shell.execute_reply": "2022-02-03T00:21:21.582037Z",
     "shell.execute_reply.started": "2022-02-03T00:21:18.770883Z"
    },
    "tags": [],
    "pycharm": {
     "name": "#%%\n"
    }
   },
   "outputs": [],
   "source": [
    "import datetime\n",
    "\n",
    "import pandas as pd\n",
    "import numpy as np\n",
    "import boto3\n",
    "import joblib\n",
    "\n",
    "from mtclient import MTClient\n",
    "import mtglobals"
   ]
  },
  {
   "cell_type": "code",
   "execution_count": 3,
   "id": "97fcd8db-2a8a-45f3-96b7-e1e8539683fc",
   "metadata": {
    "execution": {
     "iopub.execute_input": "2022-02-03T00:21:21.583043Z",
     "iopub.status.busy": "2022-02-03T00:21:21.583043Z",
     "iopub.status.idle": "2022-02-03T00:21:23.082697Z",
     "shell.execute_reply": "2022-02-03T00:21:23.082697Z",
     "shell.execute_reply.started": "2022-02-03T00:21:21.583043Z"
    },
    "tags": [],
    "pycharm": {
     "name": "#%%\n"
    }
   },
   "outputs": [
    {
     "name": "stdout",
     "output_type": "stream",
     "text": [
      "Loading environment variables from .env\n",
      "Using LIVE MTurk requester API\n",
      "Your account balance is 4644.17\n"
     ]
    }
   ],
   "source": [
    "client = MTClient()"
   ]
  },
  {
   "cell_type": "markdown",
   "id": "a91de9cd-caa4-48c9-815d-c74c0fc52e0b",
   "metadata": {
    "pycharm": {
     "name": "#%% md\n"
    }
   },
   "source": [
    "### (a) Load the .csv containing all launch info"
   ]
  },
  {
   "cell_type": "code",
   "execution_count": 4,
   "id": "db902239-286e-4c42-b38f-e3dcdfdb9192",
   "metadata": {
    "tags": [],
    "pycharm": {
     "name": "#%%\n"
    }
   },
   "outputs": [
    {
     "data": {
      "text/plain": "290"
     },
     "execution_count": 4,
     "metadata": {},
     "output_type": "execute_result"
    }
   ],
   "source": [
    "stage2_launched_df = pd.read_csv(mtglobals.stage2_launched_fpath)\n",
    "len(stage2_launched_df)"
   ]
  },
  {
   "cell_type": "markdown",
   "id": "5ee053f6-c3c8-4d7e-9925-935b59cbc47c",
   "metadata": {
    "pycharm": {
     "name": "#%% md\n"
    }
   },
   "source": [
    "### (b) Send notifications for all not-already-notified workers\n",
    "\n",
    "(this is checked based on whether or not the `notify_time` column is filled for\n",
    "that worker)"
   ]
  },
  {
   "cell_type": "code",
   "execution_count": 5,
   "id": "4692588b-b756-442c-bfe3-fe2c9c9366d6",
   "metadata": {
    "execution": {
     "iopub.execute_input": "2022-02-03T00:21:29.076644Z",
     "iopub.status.busy": "2022-02-03T00:21:29.076644Z",
     "iopub.status.idle": "2022-02-03T00:32:14.085703Z",
     "shell.execute_reply": "2022-02-03T00:32:14.085703Z",
     "shell.execute_reply.started": "2022-02-03T00:21:29.076644Z"
    },
    "scrolled": true,
    "tags": [],
    "pycharm": {
     "name": "#%%\n"
    }
   },
   "outputs": [
    {
     "name": "stdout",
     "output_type": "stream",
     "text": [
      "Processing worker AMWIBULQ4S8K3\n",
      "Processing worker A85FXHMLP0978\n",
      "Processing worker A3VPD34C23PQTQ\n",
      "Processing worker A1FMK21DN5YUDC\n",
      "Processing worker A6O1VFV32LBS8\n",
      "Processing worker AXTDEGFFQ0ZE7\n",
      "Processing worker A37AWU2VH1ZIXX\n",
      "Processing worker A348DIWEUQGAZA\n",
      "Processing worker A3F966OJMV2DUB\n",
      "Processing worker AUKALHTHFF9CY\n",
      "Processing worker A3M9ZVPFDH5BGJ\n",
      "Processing worker A1BWB7YNYB6SIK\n",
      "Processing worker AGZMOKYKPXN8X\n",
      "Processing worker A3PYT74DUPKM9R\n",
      "Processing worker A2IC2PVR57RY5C\n",
      "Processing worker AVEV8X13Y4JSR\n",
      "Processing worker A2JIYLV1WGFURS\n",
      "Processing worker AY52II1OC5RZ1\n",
      "Processing worker A165NK27A4EMG4\n",
      "Processing worker A23JDIW9TXD4ZH\n",
      "Processing worker A3OO6TSHQEFF5Y\n",
      "Processing worker A3RBO5QSANY9W0\n",
      "Processing worker A2Q7O0E83L1W74\n",
      "Processing worker ACXP8KHFX06KR\n",
      "Processing worker A1BDMG2RNPP0EZ\n",
      "Processing worker A36CN4SSP6UN3D\n",
      "Processing worker AG6UL22QLCKOG\n",
      "Processing worker A3HSFRJPM3E89Z\n",
      "Processing worker A149YZJBFRDWBJ\n",
      "Processing worker A1T5FB9SJMCDG1\n",
      "Processing worker A3I65SDKOXEG8Q\n",
      "Processing worker A2NDII2PZFIF5F\n",
      "Processing worker AA92PB4JQQKD\n",
      "Processing worker A2GE831IS8US6K\n",
      "Processing worker A1OXQ0FPY67W69\n",
      "Processing worker ALYO2LBSOZ74L\n",
      "Processing worker A30HSTVJV3CYCR\n",
      "Processing worker A2ZWLEDD3WZQH5\n",
      "Processing worker A1YWNRVI8ODGN5\n",
      "Processing worker AQ5QF1G59JLFI\n",
      "Processing worker A2OATYFM4AMDC3\n",
      "Processing worker A16IL34XCGNZB6\n",
      "Processing worker AI91L9BSP6NBM\n",
      "Processing worker A1PVX1OVM3NPGX\n",
      "Processing worker A3FSZC6AI8V4MW\n",
      "Processing worker A2PBFKNWWIIAO8\n",
      "Processing worker A137V1J5GNNZTH\n",
      "Processing worker A3SEQOF348VNQN\n",
      "Processing worker A3LXARU55PR281\n",
      "Processing worker A15UL5WCZIZCAV\n",
      "Processing worker A3VWJ8N2PEFJCY\n",
      "Processing worker A1OT63CDEHOY8U\n",
      "Processing worker APZMXLDWPQIB9\n",
      "Processing worker AWTCGY2CL1T68\n",
      "Processing worker ANHWX99RNY3TE\n",
      "Processing worker A3LELDIQL1AHII\n",
      "Processing worker A102INJKD92NUD\n",
      "Processing worker A3T9WZOUQGE2UW\n",
      "Processing worker A1UNBT94I82S8V\n",
      "Processing worker A2JJ3YHDP1V8ZT\n",
      "Processing worker A1TM3LLCKLP5Y3\n",
      "Processing worker A1DES5ILM2W3L5\n",
      "Processing worker ASJEZ391CPZ8E\n",
      "Processing worker AE2OXHX9R7ZWH\n",
      "Processing worker A1NN61ZAXV9FR0\n",
      "Processing worker A1OUVDQB90FJ31\n",
      "Processing worker A1FYZPVWWC808I\n",
      "Processing worker A2SKY317RZ3NCS\n",
      "Processing worker A1HCG3H9LC6ZPQ\n",
      "Processing worker A20B4WNUCHBXKX\n",
      "Processing worker A19DEU7T50K2WN\n",
      "Processing worker A1B9DFXBGW0O06\n",
      "Processing worker A1IH5FIG75IGAM\n",
      "Processing worker ABELRDZPHS45K\n",
      "Processing worker A3OV4LF262CKI3\n",
      "Processing worker A2P8LADS527NHD\n",
      "Processing worker A1RCQC4BQ11I71\n",
      "Processing worker A25SZWIWEFZ51N\n",
      "Processing worker A1MG8KNVSVZ365\n",
      "Processing worker A3NDRXXAVVTVJC\n",
      "Processing worker A16J8PU7O5U7TG\n",
      "Processing worker A23HHG2AXB5D8Z\n",
      "Processing worker A2UX2W49R55PH4\n",
      "Processing worker A3NTGJUQJIG4N5\n",
      "Processing worker A1JVMWLLKPC1JZ\n",
      "Processing worker A1X67ZHSBHFSIC\n",
      "Processing worker AGC7U2373O26I\n",
      "Processing worker A2JL7FGOIPBZQN\n",
      "Processing worker A1O7WVJLBKCX1A\n",
      "Processing worker AXCDKBG1R43GE\n",
      "Processing worker A103BJIOJSDJL1\n",
      "Processing worker ABNR8ID5Q3CYA\n",
      "Processing worker A3G3TIX6FEMN8R\n",
      "Processing worker AHEK1Z46IHKNS\n",
      "Processing worker AANTUUK9FPBPQ\n",
      "Processing worker A1G5EPLJEGL381\n",
      "Processing worker A34UIITMKVDWUN\n",
      "Processing worker A3QXI7YJY3WS4K\n",
      "Processing worker A32HHTM9N6C67R\n",
      "Processing worker ATN5QRETS7CBL\n",
      "Processing worker A1TEZJ6YLUD70N\n",
      "Processing worker A2U5SYR5AV8V19\n",
      "Processing worker A3FV18QC1L4YM7\n",
      "Processing worker A36NLK4X3MDMS8\n",
      "Processing worker A303YCOB4FUJ2G\n",
      "Processing worker A35CL66BEUSJ5Z\n",
      "Processing worker A3U2UNSYDPS933\n",
      "Processing worker A1F6MWP9A0XLJQ\n",
      "Processing worker AIFNOLKTEF9RV\n",
      "Processing worker A6IKEWK6FWOLC\n",
      "Processing worker A8IRVPCBEC76V\n",
      "Processing worker AVC24TCNHHMLZ\n",
      "Processing worker A3VREJALI163BH\n",
      "Processing worker A1YZHSMNTHT3HD\n",
      "Processing worker A125OL6SE10DCZ\n",
      "Processing worker A3TWIC69ZEJUT8\n",
      "Processing worker A3JTNYBRYPL6I2\n",
      "Processing worker A28ZPY6D5AS7GZ\n",
      "Processing worker A3N5H0ZDAEKOCL\n",
      "Processing worker A2VUJ3PTQXPDMS\n",
      "Processing worker A2MXEAHVSFIBHS\n",
      "Processing worker A19SL8BX8MNZ2E\n",
      "Processing worker A1B85OL4DT8116\n",
      "Processing worker APRZ7BR8C0ZMQ\n",
      "Processing worker A3W341JMZSKATX\n",
      "Processing worker A3QJ0LIK6SS3PG\n",
      "Processing worker AMOF050Z88M0L\n",
      "Processing worker A39V7EIWHZY106\n",
      "Processing worker A1VHCQC51J1EXD\n",
      "Processing worker AIN72TZK8NZSL\n",
      "Processing worker A3084P5PROPWOI\n",
      "Processing worker A1NEPC5XXLC444\n",
      "Processing worker A2Z4BPD47W08AI\n",
      "Processing worker A1OZ52GN5BC0LI\n",
      "Processing worker A2SN7ZNS2NIC1I\n",
      "Processing worker A2G62NNSATA7AY\n",
      "Processing worker A38VZ6CA1KGWS1\n",
      "Processing worker AMKU99PM2Q1IR\n",
      "Processing worker A1YX741QQSMKPS\n",
      "Processing worker AN4XFR2MSL0FB\n",
      "Processing worker A3G5M02JZBWNVG\n",
      "Processing worker A2UTQBDPIINHC1\n",
      "Processing worker A2BA1S5LNDMNDQ\n",
      "Processing worker A2WJAE15UM9WHJ\n",
      "Processing worker A2LA3NEWBU30QT\n",
      "Processing worker AG2YM9OWQP690\n",
      "Processing worker A30ZJB49LAIE0L\n",
      "Processing worker AEMD3CUVS9QLN\n",
      "Processing worker A2ZP04QFWRRV69\n",
      "Processing worker A3QLG05PWEN9BF\n",
      "Processing worker A2YHZ0A0BDM5X2\n",
      "Processing worker A14URR6IG9A9Y1\n",
      "Processing worker A14XSJMGQGOV6R\n",
      "Processing worker ACAYRYAYH1KYL\n",
      "Processing worker A5G7UW0WT3FOT\n",
      "Processing worker A42TXY4D6WMV8\n",
      "Processing worker ATWGIPWNR0BJS\n",
      "Processing worker AHCTZ4DHZHU1W\n",
      "Processing worker ANFUR3C2B0E9I\n",
      "Processing worker A1GM1LLM5K6KZD\n",
      "Processing worker A1051OLLP65I39\n",
      "Processing worker A2DOKOI44DKQ9F\n",
      "Processing worker A2L50T8CKUP374\n",
      "Processing worker A3PW2EVG74SB5Q\n",
      "Processing worker AWEE53WVURZGG\n",
      "Processing worker A26WVAVVE1RM47\n",
      "Processing worker A11BAIN13IGWCW\n",
      "Processing worker A384EFVY03N5KE\n",
      "Processing worker A2KSINSXGUVEMK\n",
      "Processing worker A33CWG4MC5K2XE\n",
      "Processing worker A2KVJIMQFP30S5\n",
      "Processing worker A1WVN6S68Y1M45\n",
      "Processing worker AIJG3Z7ATXCTD\n",
      "Processing worker A1NDAGSG816VFE\n",
      "Processing worker AMJ1GAUE8HDDH\n",
      "Processing worker A3RKPGS0HQ7XGI\n",
      "Processing worker AHT8PGG5G1A3I\n",
      "Processing worker A2EOCGTF6XS8AO\n",
      "Processing worker A361GKBBHAEDO6\n",
      "Processing worker A10E93U9D4KMCN\n",
      "Processing worker A1WSW7HWIF100A\n",
      "Processing worker A13XMAEO2LVLDV\n",
      "Processing worker A3AAJIOULPV12E\n",
      "Processing worker ABPQM60B72D8O\n",
      "Processing worker AVPX2BDNJ5X4C\n",
      "Processing worker A2RDJT4HCMCYV6\n",
      "Processing worker A2VO0CD0Z21DE4\n",
      "Processing worker AJWYXWY0UGW6X\n",
      "Processing worker AQHKPPYJJBSI9\n",
      "Processing worker A3OFVTPL3EHZAD\n",
      "Processing worker ASX9CJSEMH0UH\n",
      "Successfully notified\n",
      "..\\results_2stage\\stage2_launched_workers.csv successfully updated\n",
      "=====[ end loop iteration ]=====\n",
      "Processing worker A3TDA1NWHNQFE3\n",
      "Successfully notified\n",
      "..\\results_2stage\\stage2_launched_workers.csv successfully updated\n",
      "=====[ end loop iteration ]=====\n",
      "Processing worker A19GSU0ST2SIMW\n",
      "Successfully notified\n",
      "..\\results_2stage\\stage2_launched_workers.csv successfully updated\n",
      "=====[ end loop iteration ]=====\n",
      "Processing worker A33QI63NVR8CUO\n",
      "Successfully notified\n",
      "..\\results_2stage\\stage2_launched_workers.csv successfully updated\n",
      "=====[ end loop iteration ]=====\n",
      "Processing worker ALCPF5NANBDSZ\n",
      "Successfully notified\n",
      "..\\results_2stage\\stage2_launched_workers.csv successfully updated\n",
      "=====[ end loop iteration ]=====\n",
      "Processing worker A3ENQKD0V9VHBF\n",
      "Successfully notified\n",
      "..\\results_2stage\\stage2_launched_workers.csv successfully updated\n",
      "=====[ end loop iteration ]=====\n",
      "Processing worker A1TJA3HLWCJUSX\n",
      "Successfully notified\n",
      "..\\results_2stage\\stage2_launched_workers.csv successfully updated\n",
      "=====[ end loop iteration ]=====\n",
      "Processing worker A23UXKTVERRXNK\n",
      "Successfully notified\n",
      "..\\results_2stage\\stage2_launched_workers.csv successfully updated\n",
      "=====[ end loop iteration ]=====\n",
      "Processing worker A2TDK0LD62WZ8Y\n",
      "Successfully notified\n",
      "..\\results_2stage\\stage2_launched_workers.csv successfully updated\n",
      "=====[ end loop iteration ]=====\n",
      "Processing worker A1IL81UMEC9OJI\n",
      "Successfully notified\n",
      "..\\results_2stage\\stage2_launched_workers.csv successfully updated\n",
      "=====[ end loop iteration ]=====\n",
      "Processing worker A3AN5NG00BCMBP\n",
      "Successfully notified\n",
      "..\\results_2stage\\stage2_launched_workers.csv successfully updated\n",
      "=====[ end loop iteration ]=====\n",
      "Processing worker A330FMI751KNPC\n",
      "Successfully notified\n",
      "..\\results_2stage\\stage2_launched_workers.csv successfully updated\n",
      "=====[ end loop iteration ]=====\n",
      "Processing worker A1MX0ZPLW9SLY6\n",
      "Successfully notified\n",
      "..\\results_2stage\\stage2_launched_workers.csv successfully updated\n",
      "=====[ end loop iteration ]=====\n",
      "Processing worker AN45KLUESX3NY\n",
      "Successfully notified\n",
      "..\\results_2stage\\stage2_launched_workers.csv successfully updated\n",
      "=====[ end loop iteration ]=====\n",
      "Processing worker A3FUDUZVJAENVE\n",
      "Successfully notified\n",
      "..\\results_2stage\\stage2_launched_workers.csv successfully updated\n",
      "=====[ end loop iteration ]=====\n",
      "Processing worker A6NQQ3B2734MU\n",
      "Successfully notified\n",
      "..\\results_2stage\\stage2_launched_workers.csv successfully updated\n",
      "=====[ end loop iteration ]=====\n",
      "Processing worker A2FJ62X0X9YS5P\n",
      "Successfully notified\n",
      "..\\results_2stage\\stage2_launched_workers.csv successfully updated\n",
      "=====[ end loop iteration ]=====\n",
      "Processing worker AWYKYM16CB00Z\n",
      "Successfully notified\n",
      "..\\results_2stage\\stage2_launched_workers.csv successfully updated\n",
      "=====[ end loop iteration ]=====\n",
      "Processing worker ARG392N6HWZCJ\n",
      "Successfully notified\n",
      "..\\results_2stage\\stage2_launched_workers.csv successfully updated\n",
      "=====[ end loop iteration ]=====\n",
      "Processing worker A1X2NKYJNHB1A5\n",
      "Successfully notified\n",
      "..\\results_2stage\\stage2_launched_workers.csv successfully updated\n",
      "=====[ end loop iteration ]=====\n",
      "Processing worker A3MJSYSWX0Q4WQ\n",
      "Successfully notified\n",
      "..\\results_2stage\\stage2_launched_workers.csv successfully updated\n",
      "=====[ end loop iteration ]=====\n",
      "Processing worker A2E6Z6NDAES26P\n",
      "Successfully notified\n",
      "..\\results_2stage\\stage2_launched_workers.csv successfully updated\n",
      "=====[ end loop iteration ]=====\n",
      "Processing worker A16K7X677N4WN6\n",
      "Successfully notified\n",
      "..\\results_2stage\\stage2_launched_workers.csv successfully updated\n",
      "=====[ end loop iteration ]=====\n",
      "Processing worker ACY3ZOOZMVS7Y\n",
      "Successfully notified\n",
      "..\\results_2stage\\stage2_launched_workers.csv successfully updated\n",
      "=====[ end loop iteration ]=====\n",
      "Processing worker A1PIOTGADK1EN1\n",
      "Successfully notified\n",
      "..\\results_2stage\\stage2_launched_workers.csv successfully updated\n",
      "=====[ end loop iteration ]=====\n",
      "Processing worker AVZQFHMC30ZN4\n",
      "Successfully notified\n",
      "..\\results_2stage\\stage2_launched_workers.csv successfully updated\n",
      "=====[ end loop iteration ]=====\n",
      "Processing worker AI0K2LZWV73MB\n",
      "Successfully notified\n",
      "..\\results_2stage\\stage2_launched_workers.csv successfully updated\n",
      "=====[ end loop iteration ]=====\n",
      "Processing worker A3HCQGTFEZGEEF\n",
      "Successfully notified\n",
      "..\\results_2stage\\stage2_launched_workers.csv successfully updated\n",
      "=====[ end loop iteration ]=====\n",
      "Processing worker A3RC46ZOZAEL9V\n",
      "Successfully notified\n",
      "..\\results_2stage\\stage2_launched_workers.csv successfully updated\n",
      "=====[ end loop iteration ]=====\n",
      "Processing worker A2IC4IMH7G9UKU\n",
      "Successfully notified\n",
      "..\\results_2stage\\stage2_launched_workers.csv successfully updated\n",
      "=====[ end loop iteration ]=====\n",
      "Processing worker A2LEY4X3LD8G26\n",
      "Successfully notified\n",
      "..\\results_2stage\\stage2_launched_workers.csv successfully updated\n",
      "=====[ end loop iteration ]=====\n",
      "Processing worker A4PUOAFLUOQW4\n",
      "Successfully notified\n",
      "..\\results_2stage\\stage2_launched_workers.csv successfully updated\n",
      "=====[ end loop iteration ]=====\n",
      "Processing worker A63QNYB26OEZN\n",
      "Successfully notified\n",
      "..\\results_2stage\\stage2_launched_workers.csv successfully updated\n",
      "=====[ end loop iteration ]=====\n",
      "Processing worker A2DQ3J7T7VZDX8\n",
      "Successfully notified\n",
      "..\\results_2stage\\stage2_launched_workers.csv successfully updated\n",
      "=====[ end loop iteration ]=====\n",
      "Processing worker A2DVCDDVI697QR\n",
      "Successfully notified\n",
      "..\\results_2stage\\stage2_launched_workers.csv successfully updated\n",
      "=====[ end loop iteration ]=====\n",
      "Processing worker A3DP9IH8W5OXJL\n",
      "Successfully notified\n",
      "..\\results_2stage\\stage2_launched_workers.csv successfully updated\n",
      "=====[ end loop iteration ]=====\n",
      "Processing worker A165ZC634AIYVY\n",
      "Successfully notified\n",
      "..\\results_2stage\\stage2_launched_workers.csv successfully updated\n",
      "=====[ end loop iteration ]=====\n",
      "Processing worker A11JCTPPYRML49\n",
      "Successfully notified\n",
      "..\\results_2stage\\stage2_launched_workers.csv successfully updated\n",
      "=====[ end loop iteration ]=====\n",
      "Processing worker A171S8E9IFSHH2\n",
      "Successfully notified\n",
      "..\\results_2stage\\stage2_launched_workers.csv successfully updated\n",
      "=====[ end loop iteration ]=====\n",
      "Processing worker ADUJUZANFOWKW\n",
      "Successfully notified\n",
      "..\\results_2stage\\stage2_launched_workers.csv successfully updated\n",
      "=====[ end loop iteration ]=====\n",
      "Processing worker A87N9I8GBOYS6\n",
      "Successfully notified\n",
      "..\\results_2stage\\stage2_launched_workers.csv successfully updated\n",
      "=====[ end loop iteration ]=====\n",
      "Processing worker AODPCQK31HAWQ\n",
      "Successfully notified\n",
      "..\\results_2stage\\stage2_launched_workers.csv successfully updated\n",
      "=====[ end loop iteration ]=====\n",
      "Processing worker A212P9LUF0URRZ\n",
      "Successfully notified\n",
      "..\\results_2stage\\stage2_launched_workers.csv successfully updated\n",
      "=====[ end loop iteration ]=====\n",
      "Processing worker AKO3QLTHPQZ16\n",
      "Successfully notified\n",
      "..\\results_2stage\\stage2_launched_workers.csv successfully updated\n",
      "=====[ end loop iteration ]=====\n",
      "Processing worker A1NURUSQ7BPB1S\n",
      "Successfully notified\n",
      "..\\results_2stage\\stage2_launched_workers.csv successfully updated\n",
      "=====[ end loop iteration ]=====\n",
      "Processing worker A3A8P4UR9A0DWQ\n",
      "Successfully notified\n",
      "..\\results_2stage\\stage2_launched_workers.csv successfully updated\n",
      "=====[ end loop iteration ]=====\n",
      "Processing worker A1I7LQ7O0HR5WH\n",
      "Successfully notified\n",
      "..\\results_2stage\\stage2_launched_workers.csv successfully updated\n",
      "=====[ end loop iteration ]=====\n",
      "Processing worker A26X269P2OTJOD\n",
      "Successfully notified\n",
      "..\\results_2stage\\stage2_launched_workers.csv successfully updated\n",
      "=====[ end loop iteration ]=====\n",
      "Processing worker A14FOFNUBU2P5D\n",
      "Successfully notified\n",
      "..\\results_2stage\\stage2_launched_workers.csv successfully updated\n",
      "=====[ end loop iteration ]=====\n",
      "Processing worker A32BQNJMLMZYG0\n",
      "Successfully notified\n",
      "..\\results_2stage\\stage2_launched_workers.csv successfully updated\n",
      "=====[ end loop iteration ]=====\n",
      "Processing worker AY58M7QFW3QKH\n",
      "Successfully notified\n",
      "..\\results_2stage\\stage2_launched_workers.csv successfully updated\n",
      "=====[ end loop iteration ]=====\n",
      "Processing worker AUPAX5TIOP1G9\n",
      "Successfully notified\n",
      "..\\results_2stage\\stage2_launched_workers.csv successfully updated\n",
      "=====[ end loop iteration ]=====\n",
      "Processing worker A1W2GDEZ8I25MB\n",
      "Successfully notified\n",
      "..\\results_2stage\\stage2_launched_workers.csv successfully updated\n",
      "=====[ end loop iteration ]=====\n",
      "Processing worker A33F04W4EVT4GK\n",
      "Successfully notified\n",
      "..\\results_2stage\\stage2_launched_workers.csv successfully updated\n",
      "=====[ end loop iteration ]=====\n",
      "Processing worker A250FES5PFCGK9\n",
      "Successfully notified\n",
      "..\\results_2stage\\stage2_launched_workers.csv successfully updated\n",
      "=====[ end loop iteration ]=====\n",
      "Processing worker A3DIWJ5LY4JD1B\n",
      "Successfully notified\n",
      "..\\results_2stage\\stage2_launched_workers.csv successfully updated\n",
      "=====[ end loop iteration ]=====\n",
      "Processing worker A21XWR5M393RWA\n",
      "Successfully notified\n",
      "..\\results_2stage\\stage2_launched_workers.csv successfully updated\n",
      "=====[ end loop iteration ]=====\n",
      "Processing worker A25NE0NYK6JJU\n",
      "Successfully notified\n",
      "..\\results_2stage\\stage2_launched_workers.csv successfully updated\n",
      "=====[ end loop iteration ]=====\n",
      "Processing worker A24SPGECGCJGS1\n",
      "Successfully notified\n",
      "..\\results_2stage\\stage2_launched_workers.csv successfully updated\n",
      "=====[ end loop iteration ]=====\n",
      "Processing worker ADMTD74VX2A73\n",
      "Successfully notified\n",
      "..\\results_2stage\\stage2_launched_workers.csv successfully updated\n",
      "=====[ end loop iteration ]=====\n",
      "Processing worker A2CU4ZBMTFN4N8\n",
      "Successfully notified\n",
      "..\\results_2stage\\stage2_launched_workers.csv successfully updated\n",
      "=====[ end loop iteration ]=====\n",
      "Processing worker A2VN08AKS2M0V8\n",
      "Successfully notified\n",
      "..\\results_2stage\\stage2_launched_workers.csv successfully updated\n",
      "=====[ end loop iteration ]=====\n",
      "Processing worker A1F96XZ34MUTG\n",
      "Successfully notified\n",
      "..\\results_2stage\\stage2_launched_workers.csv successfully updated\n",
      "=====[ end loop iteration ]=====\n",
      "Processing worker A122QSIA01PR3L\n",
      "Successfully notified\n",
      "..\\results_2stage\\stage2_launched_workers.csv successfully updated\n",
      "=====[ end loop iteration ]=====\n",
      "Processing worker ARCANKHTVZ4ZO\n",
      "Successfully notified\n",
      "..\\results_2stage\\stage2_launched_workers.csv successfully updated\n",
      "=====[ end loop iteration ]=====\n",
      "Processing worker A1X7HINAD78EL0\n",
      "Successfully notified\n",
      "..\\results_2stage\\stage2_launched_workers.csv successfully updated\n",
      "=====[ end loop iteration ]=====\n",
      "Processing worker A32WTSTT7OU89Q\n",
      "Successfully notified\n",
      "..\\results_2stage\\stage2_launched_workers.csv successfully updated\n",
      "=====[ end loop iteration ]=====\n",
      "Processing worker A166BS4L4QUBR9\n",
      "Successfully notified\n",
      "..\\results_2stage\\stage2_launched_workers.csv successfully updated\n",
      "=====[ end loop iteration ]=====\n",
      "Processing worker A2IBBX3ZHMES6Y\n",
      "Successfully notified\n",
      "..\\results_2stage\\stage2_launched_workers.csv successfully updated\n",
      "=====[ end loop iteration ]=====\n",
      "Processing worker A2N3QPZQKB5TNH\n",
      "Successfully notified\n",
      "..\\results_2stage\\stage2_launched_workers.csv successfully updated\n",
      "=====[ end loop iteration ]=====\n",
      "Processing worker A2FV5CSQC9IIEI\n",
      "Successfully notified\n",
      "..\\results_2stage\\stage2_launched_workers.csv successfully updated\n",
      "=====[ end loop iteration ]=====\n",
      "Processing worker A19EG3AZSHS293\n",
      "Successfully notified\n",
      "..\\results_2stage\\stage2_launched_workers.csv successfully updated\n",
      "=====[ end loop iteration ]=====\n",
      "Processing worker A3O65XXK50TRZG\n",
      "Successfully notified\n",
      "..\\results_2stage\\stage2_launched_workers.csv successfully updated\n",
      "=====[ end loop iteration ]=====\n",
      "Processing worker A305FX1US12XAU\n",
      "Successfully notified\n",
      "..\\results_2stage\\stage2_launched_workers.csv successfully updated\n",
      "=====[ end loop iteration ]=====\n",
      "Processing worker A2T4QOZGI3CYYP\n",
      "Successfully notified\n",
      "..\\results_2stage\\stage2_launched_workers.csv successfully updated\n",
      "=====[ end loop iteration ]=====\n",
      "Processing worker A2MRPQ443DP4RJ\n",
      "Successfully notified\n",
      "..\\results_2stage\\stage2_launched_workers.csv successfully updated\n",
      "=====[ end loop iteration ]=====\n",
      "Processing worker AKQ7BGNTA81S6\n",
      "Successfully notified\n",
      "..\\results_2stage\\stage2_launched_workers.csv successfully updated\n",
      "=====[ end loop iteration ]=====\n",
      "Processing worker AGW8QHJ3C1U53\n",
      "Successfully notified\n",
      "..\\results_2stage\\stage2_launched_workers.csv successfully updated\n",
      "=====[ end loop iteration ]=====\n",
      "Processing worker AWDFPDUDNCVOX\n",
      "Successfully notified\n",
      "..\\results_2stage\\stage2_launched_workers.csv successfully updated\n",
      "=====[ end loop iteration ]=====\n",
      "Processing worker A36WGC00R5TWWB\n",
      "Successfully notified\n",
      "..\\results_2stage\\stage2_launched_workers.csv successfully updated\n",
      "=====[ end loop iteration ]=====\n",
      "Processing worker A2HBOFYZKSMN1Z\n",
      "Successfully notified\n",
      "..\\results_2stage\\stage2_launched_workers.csv successfully updated\n",
      "=====[ end loop iteration ]=====\n",
      "Processing worker A1AD2BDQYTTJIL\n",
      "Successfully notified\n",
      "..\\results_2stage\\stage2_launched_workers.csv successfully updated\n",
      "=====[ end loop iteration ]=====\n",
      "Processing worker AWXHYI0RU9SNV\n",
      "Successfully notified\n",
      "..\\results_2stage\\stage2_launched_workers.csv successfully updated\n",
      "=====[ end loop iteration ]=====\n",
      "Processing worker A247BFL5DPFIPM\n",
      "Successfully notified\n",
      "..\\results_2stage\\stage2_launched_workers.csv successfully updated\n",
      "=====[ end loop iteration ]=====\n",
      "Processing worker A31VBYKT62SBGY\n",
      "Successfully notified\n",
      "..\\results_2stage\\stage2_launched_workers.csv successfully updated\n",
      "=====[ end loop iteration ]=====\n",
      "Processing worker A2NU82V08QSPCC\n",
      "Successfully notified\n",
      "..\\results_2stage\\stage2_launched_workers.csv successfully updated\n",
      "=====[ end loop iteration ]=====\n",
      "Processing worker AF1QXK2OLAEKD\n",
      "Successfully notified\n",
      "..\\results_2stage\\stage2_launched_workers.csv successfully updated\n",
      "=====[ end loop iteration ]=====\n",
      "Processing worker A402OOIWWS0JF\n",
      "Successfully notified\n",
      "..\\results_2stage\\stage2_launched_workers.csv successfully updated\n",
      "=====[ end loop iteration ]=====\n",
      "Processing worker A1CN1H9UODZ1E6\n",
      "Successfully notified\n",
      "..\\results_2stage\\stage2_launched_workers.csv successfully updated\n",
      "=====[ end loop iteration ]=====\n",
      "Processing worker A1O1ZRKOJZ6LJG\n",
      "Successfully notified\n",
      "..\\results_2stage\\stage2_launched_workers.csv successfully updated\n",
      "=====[ end loop iteration ]=====\n",
      "Processing worker A19NZMAP7N9PK2\n",
      "Successfully notified\n",
      "..\\results_2stage\\stage2_launched_workers.csv successfully updated\n",
      "=====[ end loop iteration ]=====\n",
      "Processing worker AD0345HBWWZ45\n",
      "Successfully notified\n",
      "..\\results_2stage\\stage2_launched_workers.csv successfully updated\n",
      "=====[ end loop iteration ]=====\n",
      "Processing worker A2Y0VM8BAF0RMT\n",
      "Successfully notified\n",
      "..\\results_2stage\\stage2_launched_workers.csv successfully updated\n",
      "=====[ end loop iteration ]=====\n",
      "Processing worker A1HIJ7GKXCDRTW\n",
      "Successfully notified\n",
      "..\\results_2stage\\stage2_launched_workers.csv successfully updated\n",
      "=====[ end loop iteration ]=====\n",
      "Processing worker A1GD1SKU3C996C\n",
      "Successfully notified\n",
      "..\\results_2stage\\stage2_launched_workers.csv successfully updated\n",
      "=====[ end loop iteration ]=====\n",
      "Processing worker A3L9EN8YL1HZWF\n",
      "Successfully notified\n",
      "..\\results_2stage\\stage2_launched_workers.csv successfully updated\n",
      "=====[ end loop iteration ]=====\n",
      "Processing worker A3S2R1NK6HZ9KP\n",
      "Successfully notified\n",
      "..\\results_2stage\\stage2_launched_workers.csv successfully updated\n",
      "=====[ end loop iteration ]=====\n",
      "Processing worker A14CBWGILA1VG4\n",
      "Successfully notified\n",
      "..\\results_2stage\\stage2_launched_workers.csv successfully updated\n",
      "=====[ end loop iteration ]=====\n",
      "Processing worker A16IA4IRHG9RWF\n",
      "Successfully notified\n",
      "..\\results_2stage\\stage2_launched_workers.csv successfully updated\n",
      "=====[ end loop iteration ]=====\n",
      "Processing worker AQQZ96P85B3B\n",
      "Successfully notified\n",
      "..\\results_2stage\\stage2_launched_workers.csv successfully updated\n",
      "=====[ end loop iteration ]=====\n"
     ]
    }
   ],
   "source": [
    "# Loop over workers who submitted stage 1\n",
    "results = []\n",
    "for row_index, cur_row in stage2_launched_df.iterrows():\n",
    "    cur_result = {}\n",
    "    cur_worker_id = cur_row['worker_id']\n",
    "    cur_result['worker_id'] = cur_worker_id\n",
    "    print(f\"Processing worker {cur_worker_id}\")\n",
    "    custom_url = cur_row['url']\n",
    "    # But, if notified_time is already non-null, then skip (they've already been notified)\n",
    "    notified_time = cur_row['notified_time']\n",
    "    if not pd.isna(notified_time):\n",
    "        #print(f\"{cur_worker_id} already notified\")\n",
    "        # Already notified\n",
    "        cur_result['notify_success'] = True\n",
    "        cur_result['notify_time'] = notified_time\n",
    "        results.append(cur_result)\n",
    "        continue\n",
    "    # Otherwise, send notification and update notify_time\n",
    "    custom_msg = mtglobals.gen_custom_msg(cur_row['hit_type_id'])\n",
    "    notify_success = False\n",
    "    try:\n",
    "        notify_response = client.notify_worker(cur_worker_id, custom_msg)\n",
    "        #print(\"Notify response:\")\n",
    "        #print(notify_response)\n",
    "        print(\"Successfully notified\")\n",
    "        notify_success = True\n",
    "    except Exception as e:\n",
    "        print(f\"Error with notify_worker: {e}\")\n",
    "        \n",
    "    cur_result['notify_success'] = notify_success\n",
    "    notified_time = datetime.datetime.now(mtglobals.local_tz)\n",
    "    cur_result['notify_time'] = notified_time\n",
    "    results.append(cur_result)\n",
    "    # Log the results of this loop iteration\n",
    "    if notify_success:\n",
    "        mtglobals.write_log(f\"Notified worker {cur_worker_id}\")\n",
    "        # And update the .csv of launched workers\n",
    "        launched_fpath = mtglobals.update_launched_worker(cur_worker_id, notified_time)\n",
    "        print(f\"{launched_fpath} successfully updated\")\n",
    "    else:\n",
    "        mtglobals.write_log(f\"Failed to notify {cur_worker_id} because of RequestError\")\n",
    "    print(\"=====[ end loop iteration ]=====\")\n"
   ]
  },
  {
   "cell_type": "code",
   "execution_count": 6,
   "id": "ec1568f1-b002-4b14-8846-b9d1e9402ec4",
   "metadata": {
    "execution": {
     "iopub.execute_input": "2022-02-03T00:41:29.093636Z",
     "iopub.status.busy": "2022-02-03T00:41:29.093636Z",
     "iopub.status.idle": "2022-02-03T00:41:29.162635Z",
     "shell.execute_reply": "2022-02-03T00:41:29.162635Z",
     "shell.execute_reply.started": "2022-02-03T00:41:29.093636Z"
    },
    "tags": [],
    "pycharm": {
     "name": "#%%\n"
    }
   },
   "outputs": [
    {
     "data": {
      "text/plain": "290"
     },
     "execution_count": 6,
     "metadata": {},
     "output_type": "execute_result"
    }
   ],
   "source": [
    "# Check how many workers we have total\n",
    "len(results)"
   ]
  },
  {
   "cell_type": "code",
   "execution_count": 7,
   "id": "5794a25a-0a88-4b52-be1c-ce62d028873f",
   "metadata": {
    "execution": {
     "iopub.execute_input": "2022-02-03T00:41:30.074425Z",
     "iopub.status.busy": "2022-02-03T00:41:30.074425Z",
     "iopub.status.idle": "2022-02-03T00:41:30.130423Z",
     "shell.execute_reply": "2022-02-03T00:41:30.130423Z",
     "shell.execute_reply.started": "2022-02-03T00:41:30.074425Z"
    },
    "tags": [],
    "pycharm": {
     "name": "#%%\n"
    }
   },
   "outputs": [],
   "source": [
    "# Replace the dts with naive dts\n",
    "#for cur_result in results:\n",
    "#    #cur_result['notify_time_naive'] = cur_result['notify_time'].replace(tzinfo=None)\n",
    "#    print(type(cur_result['notify_time']))"
   ]
  },
  {
   "cell_type": "code",
   "execution_count": 8,
   "id": "d593fe6f-eb9a-42ed-a1be-52cedb5ecce3",
   "metadata": {
    "execution": {
     "iopub.execute_input": "2022-02-03T00:41:30.296387Z",
     "iopub.status.busy": "2022-02-03T00:41:30.296387Z",
     "iopub.status.idle": "2022-02-03T00:41:30.361382Z",
     "shell.execute_reply": "2022-02-03T00:41:30.361382Z",
     "shell.execute_reply.started": "2022-02-03T00:41:30.296387Z"
    },
    "tags": [],
    "pycharm": {
     "name": "#%%\n"
    }
   },
   "outputs": [
    {
     "data": {
      "text/plain": "{'worker_id': 'AQQZ96P85B3B',\n 'notify_success': True,\n 'notify_time': datetime.datetime(2022, 11, 21, 15, 21, 53, 616790, tzinfo=<DstTzInfo 'US/Pacific' PST-1 day, 16:00:00 STD>)}"
     },
     "execution_count": 8,
     "metadata": {},
     "output_type": "execute_result"
    }
   ],
   "source": [
    "results[-1]"
   ]
  },
  {
   "cell_type": "markdown",
   "id": "f5626fb8-f239-4def-9bd0-6288409790ae",
   "metadata": {
    "pycharm": {
     "name": "#%% md\n"
    }
   },
   "source": [
    "### (c) Create a dataset recording notification success/failure and notification time for each worker"
   ]
  },
  {
   "cell_type": "code",
   "execution_count": 9,
   "id": "d6a659f5-51f1-4c61-9b2a-bb210c85bdd8",
   "metadata": {
    "execution": {
     "iopub.execute_input": "2022-02-03T00:41:31.387084Z",
     "iopub.status.busy": "2022-02-03T00:41:31.387084Z",
     "iopub.status.idle": "2022-02-03T00:41:31.448104Z",
     "shell.execute_reply": "2022-02-03T00:41:31.448104Z",
     "shell.execute_reply.started": "2022-02-03T00:41:31.387084Z"
    },
    "tags": [],
    "pycharm": {
     "name": "#%%\n"
    }
   },
   "outputs": [],
   "source": [
    "result_df = pd.DataFrame(results)"
   ]
  },
  {
   "cell_type": "code",
   "execution_count": 10,
   "id": "cdb79704-b975-419c-9dbb-9a270f9d6b3c",
   "metadata": {
    "execution": {
     "iopub.execute_input": "2022-02-03T00:41:31.686260Z",
     "iopub.status.busy": "2022-02-03T00:41:31.686260Z",
     "iopub.status.idle": "2022-02-03T00:41:31.756254Z",
     "shell.execute_reply": "2022-02-03T00:41:31.756254Z",
     "shell.execute_reply.started": "2022-02-03T00:41:31.686260Z"
    },
    "tags": [],
    "pycharm": {
     "name": "#%%\n"
    }
   },
   "outputs": [
    {
     "data": {
      "text/plain": "Empty DataFrame\nColumns: [worker_id, notify_success, notify_time]\nIndex: []",
      "text/html": "<div>\n<style scoped>\n    .dataframe tbody tr th:only-of-type {\n        vertical-align: middle;\n    }\n\n    .dataframe tbody tr th {\n        vertical-align: top;\n    }\n\n    .dataframe thead th {\n        text-align: right;\n    }\n</style>\n<table border=\"1\" class=\"dataframe\">\n  <thead>\n    <tr style=\"text-align: right;\">\n      <th></th>\n      <th>worker_id</th>\n      <th>notify_success</th>\n      <th>notify_time</th>\n    </tr>\n  </thead>\n  <tbody>\n  </tbody>\n</table>\n</div>"
     },
     "execution_count": 10,
     "metadata": {},
     "output_type": "execute_result"
    }
   ],
   "source": [
    "# Check the non-successful notifications\n",
    "result_df[~result_df['notify_success']]"
   ]
  },
  {
   "cell_type": "code",
   "execution_count": 11,
   "id": "2c150915-e6e0-430b-aacd-17b77c664f7d",
   "metadata": {
    "execution": {
     "iopub.execute_input": "2022-02-03T00:41:32.177661Z",
     "iopub.status.busy": "2022-02-03T00:41:32.177661Z",
     "iopub.status.idle": "2022-02-03T00:41:32.246655Z",
     "shell.execute_reply": "2022-02-03T00:41:32.246655Z",
     "shell.execute_reply.started": "2022-02-03T00:41:32.177661Z"
    },
    "tags": [],
    "pycharm": {
     "name": "#%%\n"
    }
   },
   "outputs": [],
   "source": [
    "result_df.drop(columns=['notify_time'], inplace=True)"
   ]
  },
  {
   "cell_type": "code",
   "execution_count": 12,
   "id": "9744682c-716d-4eaa-96da-dcfb7487190b",
   "metadata": {
    "execution": {
     "iopub.execute_input": "2022-02-03T00:41:33.235000Z",
     "iopub.status.busy": "2022-02-03T00:41:33.235000Z",
     "iopub.status.idle": "2022-02-03T00:41:33.304846Z",
     "shell.execute_reply": "2022-02-03T00:41:33.304846Z",
     "shell.execute_reply.started": "2022-02-03T00:41:33.235000Z"
    },
    "tags": [],
    "pycharm": {
     "name": "#%%\n"
    }
   },
   "outputs": [
    {
     "data": {
      "text/plain": "True    190\nName: notify_success, dtype: int64"
     },
     "execution_count": 12,
     "metadata": {},
     "output_type": "execute_result"
    }
   ],
   "source": [
    "result_df['notify_success'].value_counts()"
   ]
  },
  {
   "cell_type": "markdown",
   "id": "a07f5d42-f865-48b7-bb34-209a61f345ce",
   "metadata": {
    "pycharm": {
     "name": "#%% md\n"
    }
   },
   "source": [
    "### (d) Export notification error data to Stata .dta format (to exclude suspended workers, if need be)"
   ]
  },
  {
   "cell_type": "code",
   "execution_count": 13,
   "id": "62535969-e1eb-4bdc-9e86-761db8a7cd1e",
   "metadata": {
    "execution": {
     "iopub.execute_input": "2022-02-03T00:41:33.480253Z",
     "iopub.status.busy": "2022-02-03T00:41:33.479253Z",
     "iopub.status.idle": "2022-02-03T00:41:33.552726Z",
     "shell.execute_reply": "2022-02-03T00:41:33.552726Z",
     "shell.execute_reply.started": "2022-02-03T00:41:33.480253Z"
    },
    "tags": [],
    "pycharm": {
     "name": "#%%\n"
    }
   },
   "outputs": [],
   "source": [
    "timestamp = mtglobals.gen_timestamp()\n",
    "result_df.to_stata(f\"../results_2stage/suspended_workers_{timestamp}.dta\")"
   ]
  },
  {
   "cell_type": "code",
   "execution_count": 13,
   "outputs": [],
   "source": [],
   "metadata": {
    "collapsed": false,
    "pycharm": {
     "name": "#%%\n"
    }
   }
  },
  {
   "cell_type": "code",
   "execution_count": 13,
   "outputs": [],
   "source": [],
   "metadata": {
    "collapsed": false,
    "pycharm": {
     "name": "#%%\n"
    }
   }
  },
  {
   "cell_type": "code",
   "execution_count": 13,
   "outputs": [],
   "source": [],
   "metadata": {
    "collapsed": false,
    "pycharm": {
     "name": "#%%\n"
    }
   }
  },
  {
   "cell_type": "code",
   "execution_count": null,
   "outputs": [],
   "source": [],
   "metadata": {
    "collapsed": false,
    "pycharm": {
     "name": "#%%\n"
    }
   }
  }
 ],
 "metadata": {
  "kernelspec": {
   "display_name": "Python 3 (ipykernel)",
   "language": "python",
   "name": "python3"
  },
  "language_info": {
   "codemirror_mode": {
    "name": "ipython",
    "version": 3
   },
   "file_extension": ".py",
   "mimetype": "text/x-python",
   "name": "python",
   "nbconvert_exporter": "python",
   "pygments_lexer": "ipython3",
   "version": "3.9.7"
  }
 },
 "nbformat": 4,
 "nbformat_minor": 5
}