{
 "cells": [
  {
   "cell_type": "code",
   "execution_count": 7,
   "id": "59e5b517-a5c2-4bba-87c4-3ec9d92a1802",
   "metadata": {},
   "outputs": [],
   "source": [
    "followup_template = \"\"\"Hello,\n",
    "\n",
    "We are researchers at Columbia University studying workplace conditions on and outside of Amazon Mechanical Turk. You participated in one of our pilot surveys, where after filling out a short 3-question survey you were sent a link to a custom HIT created for you, asking you to fill out a longer survey about your workplace conditions.\n",
    "\n",
    "For the sake of us understanding how we can improve the survey (before we launch a much larger number of HITs), we are curious about your experience with it, if you have time: when you received the offer to do the additional survey for !offer_amt!, was this too high, or too low, or did you have another reason for not completing this additional survey? Also, for either the initial 3-question survey or the longer customized survey, did you use any browser extensions like TurkerView, Turkopticon, or a TamperMonkey script to help with your decision on whether the HITs were worth doing?\n",
    "\n",
    "Thank you so much,\n",
    "\n",
    "Columbia TextLab\"\"\""
   ]
  },
  {
   "cell_type": "code",
   "execution_count": 8,
   "id": "b0c5c069-6f4e-4fe3-bf73-ead9304dfd16",
   "metadata": {},
   "outputs": [
    {
     "data": {
      "text/plain": [
       "'Hello,\\n\\nWe are researchers at Columbia University studying workplace conditions on and outside of Amazon Mechanical Turk. You participated in one of our pilot surveys, where after filling out a short 3-question survey you were sent a link to a custom HIT created for you, asking you to fill out a longer survey about your workplace conditions.\\n\\nFor the sake of us understanding how we can improve the survey (before we launch a much larger number of HITs), we are curious about your experience with it, if you have time: when you received the offer to do the additional survey for !offer_amt!, was this too high, or too low, or did you have another reason for not completing this additional survey? Also, for either the initial 3-question survey or the longer customized survey, did you use any browser extensions like TurkerView, Turkopticon, or a TamperMonkey script to help with your decision on whether the HITs were worth doing?\\n\\nThank you so much,\\n\\nColumbia TextLab'"
      ]
     },
     "execution_count": 8,
     "metadata": {},
     "output_type": "execute_result"
    }
   ],
   "source": [
    "followup_template"
   ]
  },
  {
   "cell_type": "code",
   "execution_count": 9,
   "id": "e2acb9de-1c3a-418c-bcb1-86744c6dec2b",
   "metadata": {},
   "outputs": [],
   "source": [
    "import pandas as pd\n",
    "import numpy as np\n",
    "import boto3\n",
    "import joblib\n",
    "import datetime\n",
    "\n",
    "import mtglobals"
   ]
  },
  {
   "cell_type": "markdown",
   "id": "2a86bcee-271e-4447-93db-b4a4131747f6",
   "metadata": {},
   "source": [
    "## Account Balance"
   ]
  },
  {
   "cell_type": "code",
   "execution_count": 10,
   "id": "aeb5a686-43ff-409f-b109-8c23d4374ca3",
   "metadata": {},
   "outputs": [
    {
     "name": "stdout",
     "output_type": "stream",
     "text": [
      "Your account balance is 499812.84\n"
     ]
    }
   ],
   "source": [
    "client, mturk_env = mtglobals.gen_client()"
   ]
  },
  {
   "cell_type": "code",
   "execution_count": 6,
   "id": "0d262999-1da8-41e3-8c4f-0a8e108d5a3e",
   "metadata": {},
   "outputs": [],
   "source": [
    "high_ids = ['ADXJ0I0MRHLPX', 'A2JP9IKRHNLRPI', 'A362MXJ7439Q76']\n",
    "low_ids = ['A2BNQ8VAMP3ZYO','A3HZFB2JLF3JMY','A2YO837C0O1E91']"
   ]
  },
  {
   "cell_type": "code",
   "execution_count": 11,
   "id": "83fdf8dc-1827-42ae-b835-afc6bc55c3e6",
   "metadata": {},
   "outputs": [],
   "source": [
    "followup_high = followup_template.replace(\"!offer_amt!\", \"$1.50\")\n",
    "followup_low = followup_template.replace(\"!offer_amt!\", \"$0.50\")"
   ]
  },
  {
   "cell_type": "code",
   "execution_count": 14,
   "id": "e97879b9-9f7d-4d77-8950-e67ebfdd6785",
   "metadata": {},
   "outputs": [
    {
     "data": {
      "text/plain": [
       "{'NotifyWorkersFailureStatuses': [],\n",
       " 'ResponseMetadata': {'RequestId': 'e2ca1066-1cbc-4825-8157-989016d11a45',\n",
       "  'HTTPStatusCode': 200,\n",
       "  'HTTPHeaders': {'x-amzn-requestid': 'e2ca1066-1cbc-4825-8157-989016d11a45',\n",
       "   'content-type': 'application/x-amz-json-1.1',\n",
       "   'content-length': '35',\n",
       "   'date': 'Wed, 24 Nov 2021 20:52:57 GMT'},\n",
       "  'RetryAttempts': 0}}"
      ]
     },
     "execution_count": 14,
     "metadata": {},
     "output_type": "execute_result"
    }
   ],
   "source": [
    "response = client.notify_workers(\n",
    "    Subject='Workplace Conditions Survey HIT Followup',\n",
    "    MessageText=followup_low,\n",
    "    WorkerIds=low_ids\n",
    ")\n",
    "response"
   ]
  },
  {
   "cell_type": "code",
   "execution_count": null,
   "id": "12ea30fc-e95c-497f-afaf-176f1df81ce8",
   "metadata": {},
   "outputs": [],
   "source": []
  },
  {
   "cell_type": "markdown",
   "id": "69e3033f-40f7-425c-b7a2-3322d81d10ce",
   "metadata": {},
   "source": [
    "## 1. Get *all* HITs"
   ]
  },
  {
   "cell_type": "code",
   "execution_count": 5,
   "id": "9cf27ec5-6fdb-48b1-917f-99009b64f4db",
   "metadata": {},
   "outputs": [],
   "source": [
    "response = client.list_hits(\n",
    "    #NextToken='string',\n",
    "    MaxResults=10\n",
    ")"
   ]
  },
  {
   "cell_type": "code",
   "execution_count": 6,
   "id": "2342286f-6761-40c8-8ebd-0f8b5e811921",
   "metadata": {},
   "outputs": [
    {
     "data": {
      "text/plain": [
       "['Quick 3-question survey about work [<15 seconds], instantly unlock 2nd-stage HIT with higher reward',\n",
       " 'Custom workplace survey HIT for worker id A3HNEYFOIJWPH1',\n",
       " 'Custom workplace survey HIT for worker id A23N4V8XW6Y49I',\n",
       " 'Custom workplace survey HIT for worker id A1XJAPEPY9XDOP',\n",
       " 'Custom workplace survey HIT for worker id A1R8A8BK2VN7RH',\n",
       " 'Custom workplace survey HIT for worker id A1QUQ0TV9KVD4C',\n",
       " 'Quick 3-question survey about work [<15 seconds], instantly unlock 2nd-stage HIT with higher reward',\n",
       " 'Custom HIT for worker id A22OHJHUW43ANT',\n",
       " 'Custom workplace survey HIT for worker id A22OHJHUW43ANT',\n",
       " 'Custom workplace survey HIT for worker id AQYYBOOF0846O']"
      ]
     },
     "execution_count": 6,
     "metadata": {},
     "output_type": "execute_result"
    }
   ],
   "source": [
    "# Print titles for each HIT\n",
    "[r['Title'] for r in response['HITs']]"
   ]
  },
  {
   "cell_type": "code",
   "execution_count": 12,
   "id": "927fadf1-47ec-447c-be20-75664fedf45d",
   "metadata": {},
   "outputs": [
    {
     "name": "stdout",
     "output_type": "stream",
     "text": [
      "HITId\n",
      "3BAKUKE49ID0Q6KWWCTF6WZ3WA51R8\n",
      "HITTypeId\n",
      "30XGWYMV4M6BXNBFZB5IUZUD6GZ5VL\n",
      "HITGroupId\n",
      "3MKD2J38HKOX445EMYWSV600ZA4B94\n",
      "HITLayoutId\n",
      "Title\n",
      "Quick 3-question survey about work [<15 seconds], instantly unlock 2nd-stage HIT with higher reward\n",
      "Description\n",
      "Quick <15 second survey about workplace conditions, upon submission will receive email with 2nd-stage HIT with higher reward\n",
      "Reward\n",
      "0.10\n",
      "QualificationRequirements\n",
      "[{'QualificationTypeId': '00000000000000000071', 'Comparator': 'EqualTo', 'LocaleValues': [{'Country': 'US'}], 'RequiredToPreview': False, 'ActionsGuarded': 'Accept'}]\n"
     ]
    }
   ],
   "source": [
    "first_hit = response['HITs'][0]\n",
    "first_id = first_hit['HITId']\n",
    "hit_info = ['HITId','HITTypeId','HITGroupId','HITLayoutId','Title','Description',\n",
    "            'Reward','QualificationRequirements']\n",
    "for cur_info in hit_info:\n",
    "    print(cur_info)\n",
    "    if cur_info in first_hit:\n",
    "        print(first_hit[cur_info])\n",
    "\n",
    "#print(first_hit['HITId'], first_hit['HITTypeId'], first_hit['HITGroupId'],\n",
    "#      first_hit['HITLayoutId'], first_hit['Title'], first_hit['Description'],\n",
    "#      first_hit['Reward'], first_hit['QualificationRequirements'])"
   ]
  },
  {
   "cell_type": "code",
   "execution_count": 11,
   "id": "3b51ca8e-62f1-4600-84c6-5ffe6d2917ad",
   "metadata": {},
   "outputs": [
    {
     "data": {
      "text/plain": [
       "'Reviewable'"
      ]
     },
     "execution_count": 11,
     "metadata": {},
     "output_type": "execute_result"
    }
   ],
   "source": [
    "first_hit['HITStatus']"
   ]
  },
  {
   "cell_type": "code",
   "execution_count": 17,
   "id": "2e730246-f799-4a6c-b0ae-dce4c3c96398",
   "metadata": {},
   "outputs": [],
   "source": [
    "response = client.update_expiration_for_hit(\n",
    "            HITId=first_id,\n",
    "            ExpireAt=datetime.datetime(2015, 1, 1)\n",
    ") "
   ]
  },
  {
   "cell_type": "code",
   "execution_count": 18,
   "id": "8affa05a-94ba-40ca-8d98-46701b45233b",
   "metadata": {},
   "outputs": [
    {
     "data": {
      "text/plain": [
       "{'ResponseMetadata': {'RequestId': '62650701-22ef-4110-8037-e65505da2677',\n",
       "  'HTTPStatusCode': 200,\n",
       "  'HTTPHeaders': {'x-amzn-requestid': '62650701-22ef-4110-8037-e65505da2677',\n",
       "   'content-type': 'application/x-amz-json-1.1',\n",
       "   'content-length': '2',\n",
       "   'date': 'Thu, 14 Oct 2021 01:46:57 GMT'},\n",
       "  'RetryAttempts': 0}}"
      ]
     },
     "execution_count": 18,
     "metadata": {},
     "output_type": "execute_result"
    }
   ],
   "source": [
    "response"
   ]
  },
  {
   "cell_type": "code",
   "execution_count": 21,
   "id": "8665125e-7625-4962-bb78-75476fd33fa7",
   "metadata": {},
   "outputs": [
    {
     "data": {
      "text/plain": [
       "'Reviewable'"
      ]
     },
     "execution_count": 21,
     "metadata": {},
     "output_type": "execute_result"
    }
   ],
   "source": [
    "first_hit['HITStatus']"
   ]
  },
  {
   "cell_type": "code",
   "execution_count": 23,
   "id": "8d9243fc-912b-46d0-a858-37b0ae30b66b",
   "metadata": {},
   "outputs": [
    {
     "data": {
      "text/plain": [
       "{'HITId': '3BAKUKE49ID0Q6KWWCTF6WZ3WA51R8',\n",
       " 'HITTypeId': '30XGWYMV4M6BXNBFZB5IUZUD6GZ5VL',\n",
       " 'HITGroupId': '3MKD2J38HKOX445EMYWSV600ZA4B94',\n",
       " 'CreationTime': datetime.datetime(2021, 10, 12, 16, 10, 6, tzinfo=tzlocal()),\n",
       " 'Title': 'Quick 3-question survey about work [<15 seconds], instantly unlock 2nd-stage HIT with higher reward',\n",
       " 'Description': 'Quick <15 second survey about workplace conditions, upon submission will receive email with 2nd-stage HIT with higher reward',\n",
       " 'Question': '<HTMLQuestion xmlns=\"http://mechanicalturk.amazonaws.com/AWSMechanicalTurkDataSchemas/2011-11-11/HTMLQuestion.xsd\">\\n  <HTMLContent><![CDATA[\\n<!DOCTYPE html>\\n<html>\\n <head>\\n  <meta http-equiv=\\'Content-Type\\' content=\\'text/html; charset=UTF-8\\'/>\\n  <script type=\\'text/javascript\\' src=\\'https://s3.amazonaws.com/mturk-public/externalHIT_v1.js\\'></script>\\n </head>\\n <body>\\n  <form name=\\'mturk_form\\' method=\\'post\\' id=\\'mturk_form\\' action=\\'https://www.mturk.com/mturk/externalSubmit\\'>\\n  <input type=\\'hidden\\' value=\\'\\' name=\\'assignmentId\\' id=\\'assignmentId\\'/>\\n  <!-- For help on using this template, see the blog post: https://blog.mturk.com/editing-the-survey-link-project-template-in-the-ui-7c75285105fb#.py7towsdx --><!-- HIT template: SurveyLink-v3.0 --><!-- The following snippet enables the \\'responsive\\' behavior on smaller screens -->\\n<meta content=\"width=device-width,initial-scale=1\" name=\"viewport\" />\\n<section class=\"container\" id=\"SurveyContainer\">\\n<div class=\"row\">\\n<div class=\"col-xs-12 col-md-12\">\\n<div class=\"panel-body\" id=\"instructionBody\">\\n<p>We are conducting an academic survey about the conditions of the modern workplace.</p>\\n\\n<p>This survey proceeds in <strong>two stages</strong>:</p>\\n\\n<ol>\\n\\t<li>First, please <strong>accept this HIT</strong> and then answer three quick questions about yourself below. As long as your responses are valid, your submission of this HIT will be auto-approved and you will receive the $0.10 reward for completion of this HIT.</li>\\n\\t<li>Immediately upon submission, you will also receive an email containing a link to a <strong>second, custom HIT</strong> created for you, with a custom HIT reward amount. If you are willing to fill out an additional survey for this reward amount, with approximately 30 questions and one 300-word essay, please click the link in your email to access and accept the second-stage HIT.</li>\\n</ol>\\n\\n<p>This first-stage HIT may not be submitted more than once, and the second-stage HIT sent to your email will only be generated once per worker ID. Additional HIT submissions from the same worker will be rejected.</p>\\n</div>\\n</div>\\n</div>\\n<!-- Survey Link Layout -->\\n\\n<div class=\"row\" id=\"workContent\">\\n<div class=\"col-xs-12 col-md-8 col-md-offset-2\"><!-- Content for Worker -->\\n<table class=\"table table-bordered\">\\n\\t<colgroup>\\n\\t\\t<col class=\"col-xs-5 col-md-5\" />\\n\\t\\t<col class=\"col-xs-7 col-md-7\" />\\n\\t</colgroup>\\n\\t<tbody>\\n\\t\\t<tr id=\"ageTr\">\\n\\t\\t\\t<td><label for=\"age\">Please enter your age, in years:</label></td>\\n\\t\\t\\t<td><input class=\"form-control\" id=\"age\" name=\"age\" required=\"\" type=\"text\" /></td>\\n\\t\\t</tr>\\n\\t\\t<tr id=\"onlineTr\">\\n\\t\\t\\t<td><label for=\"onlinehrs\">Hours per week spent online doing tasks for money:</label></td>\\n\\t\\t\\t<td><input class=\"form-control\" id=\"onlinehrs\" name=\"onlinehrs\" type=\"text\" /></td>\\n\\t\\t</tr>\\n\\t\\t<tr id=\"reasonTr\">\\n\\t\\t\\t<td><label for=\"reason\">Primary reason for participation:</label></td>\\n\\t\\t\\t<td><select class=\"form-control\" id=\"reason\" name=\"reason\"><option disabled=\"disabled\" hidden=\"\" selected=\"selected\" value=\"\">-- Please select an option --</option><option value=\"money\">Make money</option><option value=\"skills\">Learn new skills</option><option value=\"fun\">Have fun</option> </select></td>\\n\\t\\t</tr>\\n\\t</tbody>\\n</table>\\n<!-- End Content for Worker --></div>\\n</div>\\n<!-- End Survey Link Layout --></section>\\n<!-- Please note that Bootstrap CSS/JS and JQuery are 3rd party libraries that may update their url/code at any time. Amazon Mechanical Turk (MTurk) is including these libraries as a default option for you, but is not responsible for any changes to the external libraries --><!-- External CSS references -->\\n<link crossorigin=\"anonymous\" href=\"https://maxcdn.bootstrapcdn.com/bootstrap/3.0.3/css/bootstrap.min.css\" integrity=\"sha384-IS73LIqjtYesmURkDE9MXKbXqYA8rvKEp/ghicjem7Vc3mGRdQRptJSz60tvrB6+\" rel=\"stylesheet\" /><!-- Open internal style sheet -->\\n<style type=\"text/css\">#collapseTrigger {\\n  color:#fff;\\n  display: block;\\n  text-decoration: none;\\n}\\n.image{\\n  margin-bottom: 15px; \\n}\\n/* CSS for breaking long words/urls */\\n.dont-break-out {\\n  overflow-wrap: break-word;\\n  word-wrap: break-word;\\n  -ms-word-break: break-all;\\n  word-break: break-all;\\n  word-break: break-word;\\n  -ms-hyphens: auto;\\n  -moz-hyphens: auto;\\n  -webkit-hyphens: auto;\\n  hyphens: auto;\\n}\\n</style>\\n<!-- Close internal style sheet --><!-- External JS references --><script src=\"https://code.jquery.com/jquery-3.1.0.min.js\" integrity=\"sha256-cCueBR6CsyA4/9szpPfrX3s49M9vUU5BgtiJj06wt/s=\" crossorigin=\"anonymous\"></script><script src=\"https://maxcdn.bootstrapcdn.com/bootstrap/3.0.3/js/bootstrap.min.js\" integrity=\"sha384-s1ITto93iSMDxlp/79qhWHi+LsIi9Gx6yL+cOKDuymvihkfol83TYbLbOw+W/wv4\" crossorigin=\"anonymous\"></script>\\n  <script language=\\'Javascript\\'>turkSetAssignmentID();</script>\\n </body>\\n</html>\\n]]>\\n  </HTMLContent>\\n  <FrameHeight>450</FrameHeight>\\n</HTMLQuestion>\\n',\n",
       " 'Keywords': 'survey,workplace,work',\n",
       " 'HITStatus': 'Reviewable',\n",
       " 'MaxAssignments': 5,\n",
       " 'Reward': '0.10',\n",
       " 'AutoApprovalDelayInSeconds': 2592000,\n",
       " 'Expiration': datetime.datetime(2021, 10, 13, 16, 10, 6, tzinfo=tzlocal()),\n",
       " 'AssignmentDurationInSeconds': 3600,\n",
       " 'QualificationRequirements': [{'QualificationTypeId': '00000000000000000071',\n",
       "   'Comparator': 'EqualTo',\n",
       "   'LocaleValues': [{'Country': 'US'}],\n",
       "   'RequiredToPreview': False,\n",
       "   'ActionsGuarded': 'Accept'}],\n",
       " 'HITReviewStatus': 'NotReviewed',\n",
       " 'NumberOfAssignmentsPending': 0,\n",
       " 'NumberOfAssignmentsAvailable': 3,\n",
       " 'NumberOfAssignmentsCompleted': 0}"
      ]
     },
     "execution_count": 23,
     "metadata": {},
     "output_type": "execute_result"
    }
   ],
   "source": [
    "first_hit"
   ]
  },
  {
   "cell_type": "code",
   "execution_count": 32,
   "id": "6b70a365-bc0d-4525-b0ef-401b933d152d",
   "metadata": {},
   "outputs": [],
   "source": [
    "assignment_response = client.list_assignments_for_hit(\n",
    "    HITId=first_id,\n",
    "    MaxResults=20,\n",
    "    #AssignmentStatuses=[\n",
    "    #    'Submitted'|'Approved'|'Rejected',\n",
    "    #]\n",
    ")"
   ]
  },
  {
   "cell_type": "code",
   "execution_count": 33,
   "id": "33d141a3-91d3-4116-911a-a637d8ad4d29",
   "metadata": {},
   "outputs": [
    {
     "data": {
      "text/plain": [
       "{'NextToken': 'p2:evNoDyFPzqn6XF6ulMWEyRK3mMHDdqLQrID6LUOlZ/41xHFa+Nlk8Ak4oTCbxg==',\n",
       " 'NumResults': 2,\n",
       " 'Assignments': [{'AssignmentId': '3HOSI13XH0P34BFXK6NSQTFZ3WPDDD',\n",
       "   'WorkerId': 'A3UUH3632AI3ZX',\n",
       "   'HITId': '3BAKUKE49ID0Q6KWWCTF6WZ3WA51R8',\n",
       "   'AssignmentStatus': 'Submitted',\n",
       "   'AutoApprovalTime': datetime.datetime(2021, 11, 11, 15, 33, 37, tzinfo=tzlocal()),\n",
       "   'AcceptTime': datetime.datetime(2021, 10, 12, 16, 30, 38, tzinfo=tzlocal()),\n",
       "   'SubmitTime': datetime.datetime(2021, 10, 12, 16, 33, 37, tzinfo=tzlocal()),\n",
       "   'Answer': '<?xml version=\"1.0\" encoding=\"ASCII\"?><QuestionFormAnswers xmlns=\"http://mechanicalturk.amazonaws.com/AWSMechanicalTurkDataSchemas/2005-10-01/QuestionFormAnswers.xsd\"><Answer><QuestionIdentifier>age</QuestionIdentifier><FreeText>36</FreeText></Answer><Answer><QuestionIdentifier>onlinehrs</QuestionIdentifier><FreeText>50</FreeText></Answer><Answer><QuestionIdentifier>reason</QuestionIdentifier><FreeText>money</FreeText></Answer></QuestionFormAnswers>'},\n",
       "  {'AssignmentId': '3ZWFC4W1UV8U35CYTDD2JIZOUDGFRM',\n",
       "   'WorkerId': 'A3774HPOUKYTX7',\n",
       "   'HITId': '3BAKUKE49ID0Q6KWWCTF6WZ3WA51R8',\n",
       "   'AssignmentStatus': 'Submitted',\n",
       "   'AutoApprovalTime': datetime.datetime(2021, 11, 12, 3, 33, 45, tzinfo=tzlocal()),\n",
       "   'AcceptTime': datetime.datetime(2021, 10, 13, 4, 30, 44, tzinfo=tzlocal()),\n",
       "   'SubmitTime': datetime.datetime(2021, 10, 13, 4, 33, 45, tzinfo=tzlocal()),\n",
       "   'Answer': '<?xml version=\"1.0\" encoding=\"ASCII\"?><QuestionFormAnswers xmlns=\"http://mechanicalturk.amazonaws.com/AWSMechanicalTurkDataSchemas/2005-10-01/QuestionFormAnswers.xsd\"><Answer><QuestionIdentifier>age</QuestionIdentifier><FreeText>42</FreeText></Answer><Answer><QuestionIdentifier>onlinehrs</QuestionIdentifier><FreeText>15</FreeText></Answer><Answer><QuestionIdentifier>reason</QuestionIdentifier><FreeText>money</FreeText></Answer></QuestionFormAnswers>'}],\n",
       " 'ResponseMetadata': {'RequestId': '6d516fab-3fcd-408f-998a-4cf0dfb24039',\n",
       "  'HTTPStatusCode': 200,\n",
       "  'HTTPHeaders': {'x-amzn-requestid': '6d516fab-3fcd-408f-998a-4cf0dfb24039',\n",
       "   'content-type': 'application/x-amz-json-1.1',\n",
       "   'content-length': '1530',\n",
       "   'date': 'Thu, 14 Oct 2021 01:54:31 GMT'},\n",
       "  'RetryAttempts': 0}}"
      ]
     },
     "execution_count": 33,
     "metadata": {},
     "output_type": "execute_result"
    }
   ],
   "source": [
    "assignment_response"
   ]
  },
  {
   "cell_type": "code",
   "execution_count": 34,
   "id": "b21e252c-2c10-421b-bcc8-1dc8f95c7611",
   "metadata": {},
   "outputs": [
    {
     "data": {
      "text/plain": [
       "['Pilot2_responses_2021-10-13.pkl']"
      ]
     },
     "execution_count": 34,
     "metadata": {},
     "output_type": "execute_result"
    }
   ],
   "source": [
    "joblib.dump(assignment_response, \"Pilot2_responses_2021-10-13.pkl\")"
   ]
  },
  {
   "cell_type": "markdown",
   "id": "b36f7b0f-7f9e-4139-a772-c3e9e5c77d60",
   "metadata": {},
   "source": [
    "Approve them"
   ]
  },
  {
   "cell_type": "code",
   "execution_count": 35,
   "id": "334827e8-be42-457d-afb8-c03bddcf0519",
   "metadata": {},
   "outputs": [
    {
     "data": {
      "text/plain": [
       "[{'AssignmentId': '3HOSI13XH0P34BFXK6NSQTFZ3WPDDD',\n",
       "  'WorkerId': 'A3UUH3632AI3ZX',\n",
       "  'HITId': '3BAKUKE49ID0Q6KWWCTF6WZ3WA51R8',\n",
       "  'AssignmentStatus': 'Submitted',\n",
       "  'AutoApprovalTime': datetime.datetime(2021, 11, 11, 15, 33, 37, tzinfo=tzlocal()),\n",
       "  'AcceptTime': datetime.datetime(2021, 10, 12, 16, 30, 38, tzinfo=tzlocal()),\n",
       "  'SubmitTime': datetime.datetime(2021, 10, 12, 16, 33, 37, tzinfo=tzlocal()),\n",
       "  'Answer': '<?xml version=\"1.0\" encoding=\"ASCII\"?><QuestionFormAnswers xmlns=\"http://mechanicalturk.amazonaws.com/AWSMechanicalTurkDataSchemas/2005-10-01/QuestionFormAnswers.xsd\"><Answer><QuestionIdentifier>age</QuestionIdentifier><FreeText>36</FreeText></Answer><Answer><QuestionIdentifier>onlinehrs</QuestionIdentifier><FreeText>50</FreeText></Answer><Answer><QuestionIdentifier>reason</QuestionIdentifier><FreeText>money</FreeText></Answer></QuestionFormAnswers>'},\n",
       " {'AssignmentId': '3ZWFC4W1UV8U35CYTDD2JIZOUDGFRM',\n",
       "  'WorkerId': 'A3774HPOUKYTX7',\n",
       "  'HITId': '3BAKUKE49ID0Q6KWWCTF6WZ3WA51R8',\n",
       "  'AssignmentStatus': 'Submitted',\n",
       "  'AutoApprovalTime': datetime.datetime(2021, 11, 12, 3, 33, 45, tzinfo=tzlocal()),\n",
       "  'AcceptTime': datetime.datetime(2021, 10, 13, 4, 30, 44, tzinfo=tzlocal()),\n",
       "  'SubmitTime': datetime.datetime(2021, 10, 13, 4, 33, 45, tzinfo=tzlocal()),\n",
       "  'Answer': '<?xml version=\"1.0\" encoding=\"ASCII\"?><QuestionFormAnswers xmlns=\"http://mechanicalturk.amazonaws.com/AWSMechanicalTurkDataSchemas/2005-10-01/QuestionFormAnswers.xsd\"><Answer><QuestionIdentifier>age</QuestionIdentifier><FreeText>42</FreeText></Answer><Answer><QuestionIdentifier>onlinehrs</QuestionIdentifier><FreeText>15</FreeText></Answer><Answer><QuestionIdentifier>reason</QuestionIdentifier><FreeText>money</FreeText></Answer></QuestionFormAnswers>'}]"
      ]
     },
     "execution_count": 35,
     "metadata": {},
     "output_type": "execute_result"
    }
   ],
   "source": [
    "assignments = assignment_response['Assignments']\n",
    "assignments"
   ]
  },
  {
   "cell_type": "code",
   "execution_count": 36,
   "id": "8ed2de10-2030-48c1-b9fe-8c0b40c24ea7",
   "metadata": {},
   "outputs": [
    {
     "name": "stdout",
     "output_type": "stream",
     "text": [
      "{'ResponseMetadata': {'RequestId': 'a3f416f5-fc67-4410-9f4e-f3fa8331cb41', 'HTTPStatusCode': 200, 'HTTPHeaders': {'x-amzn-requestid': 'a3f416f5-fc67-4410-9f4e-f3fa8331cb41', 'content-type': 'application/x-amz-json-1.1', 'content-length': '2', 'date': 'Thu, 14 Oct 2021 01:55:37 GMT'}, 'RetryAttempts': 0}}\n",
      "{'ResponseMetadata': {'RequestId': '3ecfbd36-f24a-4a18-8164-f362fc73a3be', 'HTTPStatusCode': 200, 'HTTPHeaders': {'x-amzn-requestid': '3ecfbd36-f24a-4a18-8164-f362fc73a3be', 'content-type': 'application/x-amz-json-1.1', 'content-length': '2', 'date': 'Thu, 14 Oct 2021 01:55:37 GMT'}, 'RetryAttempts': 0}}\n"
     ]
    }
   ],
   "source": [
    "for cur_assignment in assignments:\n",
    "    assignment_id = cur_assignment['AssignmentId']\n",
    "    response = client.approve_assignment(\n",
    "        AssignmentId=assignment_id,\n",
    "        OverrideRejection=True\n",
    "    )\n",
    "    print(response)"
   ]
  },
  {
   "cell_type": "code",
   "execution_count": 37,
   "id": "e64a7513-5344-4026-be32-d181687f4fde",
   "metadata": {},
   "outputs": [],
   "source": [
    "response = client.delete_hit(HITId=first_id)"
   ]
  },
  {
   "cell_type": "code",
   "execution_count": 38,
   "id": "5f4d6095-bd8b-43f8-8a94-32c2bd2ac98e",
   "metadata": {},
   "outputs": [
    {
     "data": {
      "text/plain": [
       "{'ResponseMetadata': {'RequestId': '41cf66bf-212f-4ff3-af77-313f160afc3d',\n",
       "  'HTTPStatusCode': 200,\n",
       "  'HTTPHeaders': {'x-amzn-requestid': '41cf66bf-212f-4ff3-af77-313f160afc3d',\n",
       "   'content-type': 'application/x-amz-json-1.1',\n",
       "   'content-length': '2',\n",
       "   'date': 'Thu, 14 Oct 2021 01:55:58 GMT'},\n",
       "  'RetryAttempts': 0}}"
      ]
     },
     "execution_count": 38,
     "metadata": {},
     "output_type": "execute_result"
    }
   ],
   "source": [
    "response"
   ]
  },
  {
   "cell_type": "markdown",
   "id": "8bd0c6ed-9da9-4d31-b5a1-a7bff828ad35",
   "metadata": {},
   "source": [
    "## Send custom message"
   ]
  },
  {
   "cell_type": "code",
   "execution_count": 39,
   "id": "0b0681ff-45ef-4a03-a91b-e5914db83488",
   "metadata": {},
   "outputs": [],
   "source": [
    "hit_type_id = \"37BTIVOV5BR5OBWOP9V5T0218JMJKY\"\n",
    "custom_msg = (\"Hello, you have qualified for a custom HIT based on your completion of the \"\n",
    "              \"initial workplace survey HIT. Please visit the following URL to access your \"\n",
    "              \"custom HIT (if the link does not work, please email us at columbiatextlab@gmail.com): \"\n",
    "              f\"https://worker.mturk.com/projects/{hit_type_id}/tasks \\n\\nIf \"\n",
    "              \"this link does not work, please try searching for \\\"Columbia TextLab\\\" on the \"\n",
    "              \"web UI, or by visiting this URL: \"\n",
    "              \"https://worker.mturk.com/projects?filters%5Bsearch_term%5D=textlab&page_size=20&page_number=1\")"
   ]
  },
  {
   "cell_type": "code",
   "execution_count": 40,
   "id": "2b0e6841-0ddf-4968-816e-ebbc2eb7dbab",
   "metadata": {},
   "outputs": [
    {
     "data": {
      "text/plain": [
       "'Hello, you have qualified for a custom HIT based on your completion of the initial workplace survey HIT. Please visit the following URL to access your custom HIT (if the link does not work, please email us at columbiatextlab@gmail.com): https://worker.mturk.com/projects/37BTIVOV5BR5OBWOP9V5T0218JMJKY/tasks \\n\\nIf this link does not work, please try searching for \"Columbia TextLab\" on the web UI, or by visiting this URL: https://worker.mturk.com/projects?filters%5Bsearch_term%5D=textlab&page_size=20&page_number=1'"
      ]
     },
     "execution_count": 40,
     "metadata": {},
     "output_type": "execute_result"
    }
   ],
   "source": [
    "custom_msg"
   ]
  },
  {
   "cell_type": "code",
   "execution_count": 41,
   "id": "0222d2a9-0f18-492a-8827-321d6d96bc59",
   "metadata": {},
   "outputs": [],
   "source": [
    "response = client.notify_workers(\n",
    "    Subject='Custom Workplace Survey HIT',\n",
    "    # to send custom_msg\n",
    "    MessageText=custom_msg,\n",
    "    # to send payment msg\n",
    "    #MessageText=payment_msg,\n",
    "    WorkerIds=[\n",
    "        #'A22OHJHUW43ANT', # 1\n",
    "        #'A173A97OFDAX9F', # 2\n",
    "        #'A2HRUFTA09371Y', # 3\n",
    "        #'AJRY9ALX8069Y', # 4\n",
    "        #'AQYYBOOF0846O', # 5\n",
    "        #'A3IZUHHAA21KBM', # 5 (sandbox)\n",
    "        #'A1QUQ0TV9KVD4C' # 6\n",
    "        #'A1R8A8BK2VN7RH' # 7\n",
    "        #'A1XJAPEPY9XDOP' #8\n",
    "        #'A23N4V8XW6Y49I' #9\n",
    "        'A3HNEYFOIJWPH1'\n",
    "    ]\n",
    ")"
   ]
  },
  {
   "cell_type": "code",
   "execution_count": 42,
   "id": "e132bbd1-6e53-42ca-8b3a-97d4470363f0",
   "metadata": {},
   "outputs": [
    {
     "data": {
      "text/plain": [
       "{'NotifyWorkersFailureStatuses': [],\n",
       " 'ResponseMetadata': {'RequestId': 'd89a7b3c-4cc4-43ef-9136-7956f4703e9d',\n",
       "  'HTTPStatusCode': 200,\n",
       "  'HTTPHeaders': {'x-amzn-requestid': 'd89a7b3c-4cc4-43ef-9136-7956f4703e9d',\n",
       "   'content-type': 'application/x-amz-json-1.1',\n",
       "   'content-length': '35',\n",
       "   'date': 'Fri, 08 Oct 2021 03:14:10 GMT'},\n",
       "  'RetryAttempts': 0}}"
      ]
     },
     "execution_count": 42,
     "metadata": {},
     "output_type": "execute_result"
    }
   ],
   "source": [
    "response"
   ]
  },
  {
   "cell_type": "markdown",
   "id": "9c39d49e-2a26-4f3b-b4ac-847f53a8bce3",
   "metadata": {},
   "source": [
    "## Grant custom qual"
   ]
  },
  {
   "cell_type": "code",
   "execution_count": 116,
   "id": "9902b39a-b78d-400c-ad08-e9072778190f",
   "metadata": {},
   "outputs": [],
   "source": [
    "response = client.associate_qualification_with_worker(\n",
    "    # sandbox id\n",
    "    QualificationTypeId='3Y0FER3934AFGRF24YM9Q00LF2OXKO',\n",
    "    # production id\n",
    "    #QualificationTypeId='3QTU8Z4SHN84U5KCFOM3OI2TK3WGK7', \n",
    "    #WorkerId='AQU32GXNKCCYS', # jpj251@nyu.edu id\n",
    "    #WorkerId='A3IZUHHAA21KBM', # sn2430 worker sandbox id\n",
    "    IntegerValue=5,\n",
    "    SendNotification=True\n",
    ")"
   ]
  },
  {
   "cell_type": "code",
   "execution_count": 117,
   "id": "c2fa1898-820c-4109-ba97-092917a92d70",
   "metadata": {},
   "outputs": [
    {
     "data": {
      "text/plain": [
       "{'ResponseMetadata': {'RequestId': '049e09dc-aa2e-4605-8128-70cff816582f',\n",
       "  'HTTPStatusCode': 200,\n",
       "  'HTTPHeaders': {'x-amzn-requestid': '049e09dc-aa2e-4605-8128-70cff816582f',\n",
       "   'content-type': 'application/x-amz-json-1.1',\n",
       "   'content-length': '2',\n",
       "   'date': 'Wed, 29 Sep 2021 22:26:30 GMT'},\n",
       "  'RetryAttempts': 0}}"
      ]
     },
     "execution_count": 117,
     "metadata": {},
     "output_type": "execute_result"
    }
   ],
   "source": [
    "response"
   ]
  },
  {
   "cell_type": "markdown",
   "id": "eccd52eb-c77c-4c08-b5de-efa1e0bc575d",
   "metadata": {},
   "source": [
    "## Get HIT info"
   ]
  },
  {
   "cell_type": "code",
   "execution_count": 77,
   "id": "5ef5eab4-10a9-4054-845c-8db9ba41db08",
   "metadata": {},
   "outputs": [],
   "source": [
    "response = client.get_hit(\n",
    "    HITId='3VCK0Q0PO6FF4J7M7M8YJ7BJPPRN0R'\n",
    ")"
   ]
  },
  {
   "cell_type": "code",
   "execution_count": 78,
   "id": "f1781e2e-96e6-48ff-ab4a-6560005332de",
   "metadata": {},
   "outputs": [],
   "source": [
    "#response"
   ]
  },
  {
   "cell_type": "markdown",
   "id": "4f829278-226a-48da-8037-46085c115e6d",
   "metadata": {},
   "source": [
    "### Custom HIT for payment"
   ]
  },
  {
   "cell_type": "code",
   "execution_count": 25,
   "id": "4f1f94b3-330b-4a08-877c-dc1e4fd9c6b2",
   "metadata": {},
   "outputs": [
    {
     "data": {
      "text/plain": [
       "'Hello, we saw that you started the workplace survey HIT but did not finish it. For the sake of fairness, we\\'d like to still pay you the reward for the work you did complete. We\\'ve created a custom HIT for you with the same reward amount, but restricted to only your worker ID (A22OHJHUW43ANT), so that you can just submit it to receive the original reward of $0.50. Please visit the following URL to access your custom HIT: https://worker.mturk.com/projects/31AETRIGVCOYOM7CO0PMS1B8XLWEP9/tasks \\n\\nIf this link does not work, please try searching for \"Columbia TextLab\" using the MTurk worker interface, or email us at columbiatextlab@gmail.com if this does not work. Thank you for your contribution to the survey!'"
      ]
     },
     "execution_count": 25,
     "metadata": {},
     "output_type": "execute_result"
    }
   ],
   "source": [
    "payment_hit_type_id = \"31AETRIGVCOYOM7CO0PMS1B8XLWEP9\"\n",
    "payment_hit_worker_id = \"A22OHJHUW43ANT\"\n",
    "payment_msg = (\"Hello, we saw that you started the workplace survey HIT but did not finish it. \"\n",
    "               \"For the sake of fairness, we'd like to still pay you the reward for the work you \"\n",
    "               \"did complete. We've created a custom HIT for you with the same reward amount, but \"\n",
    "               f\"restricted to only your worker ID ({payment_hit_worker_id}), so that you can just \"\n",
    "               \"submit it to receive the \"\n",
    "               \"original reward of $0.50. Please visit the following URL to access your custom HIT: \"\n",
    "               f\"https://worker.mturk.com/projects/{payment_hit_type_id}/tasks \\n\\nIf this \"\n",
    "               \"link does not work, please try searching for \\\"Columbia TextLab\\\" using the MTurk \"\n",
    "               \"worker interface, or email us at columbiatextlab@gmail.com if this does not work. \"\n",
    "               \"Thank you for your contribution to the survey!\")\n",
    "payment_msg"
   ]
  },
  {
   "cell_type": "code",
   "execution_count": null,
   "id": "a53ac423-1ed8-4c66-adca-af83b55d0f00",
   "metadata": {},
   "outputs": [],
   "source": []
  }
 ],
 "metadata": {
  "kernelspec": {
   "display_name": "Python 3",
   "language": "python",
   "name": "python3"
  },
  "language_info": {
   "codemirror_mode": {
    "name": "ipython",
    "version": 3
   },
   "file_extension": ".py",
   "mimetype": "text/x-python",
   "name": "python",
   "nbconvert_exporter": "python",
   "pygments_lexer": "ipython3",
   "version": "3.9.2"
  }
 },
 "nbformat": 4,
 "nbformat_minor": 5
}
