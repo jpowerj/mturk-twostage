{
 "cells": [
  {
   "cell_type": "code",
   "execution_count": 1,
   "id": "0afa2dcb-b50f-4b30-9c78-c0b71a02e16f",
   "metadata": {
    "tags": [],
    "pycharm": {
     "name": "#%%\n"
    }
   },
   "outputs": [],
   "source": [
    "%load_ext autoreload\n",
    "%autoreload 2"
   ]
  },
  {
   "cell_type": "code",
   "execution_count": 2,
   "id": "01aa7c98-6b5c-4372-ad96-15670190ca18",
   "metadata": {
    "tags": [],
    "pycharm": {
     "name": "#%%\n"
    }
   },
   "outputs": [],
   "source": [
    "import datetime\n",
    "\n",
    "import pandas as pd\n",
    "import numpy as np\n",
    "import statsmodels.formula.api as smf\n",
    "\n",
    "from mtclient import MTClient\n",
    "import mtglobals"
   ]
  },
  {
   "cell_type": "markdown",
   "id": "ebb4e6f4-82ca-48b3-ae62-8a9a01c14263",
   "metadata": {
    "pycharm": {
     "name": "#%% md\n"
    }
   },
   "source": [
    "### (a) Get all hits since `date_cutoff`"
   ]
  },
  {
   "cell_type": "code",
   "execution_count": 3,
   "id": "42afca61-5f50-45be-ac34-8d022a4f9b2e",
   "metadata": {
    "tags": [],
    "pycharm": {
     "name": "#%%\n"
    }
   },
   "outputs": [
    {
     "name": "stdout",
     "output_type": "stream",
     "text": [
      "Loading environment variables from .env\n",
      "Using LIVE MTurk requester API\n",
      "Your account balance is 4683.18\n",
      "Downloading list of hits from 2022-11-10 00:00:00 to 2022-11-22 11:42:22.528918-07:53\n",
      "p2:VCoe28R6HyrZ6S03sHSgU5A2zb0MJOgjj1a4TqFW7P1SFRvFRQnUojCV7lZsbZo=\n",
      "p2:dTf+PTfEEU50qltDhnFRNCOh8B9Fjn48fiIzRHEMUzlsTuA3OuvAfd9iZ4j72c8=\n",
      "p2:G7kw7oS9T+lTtaMfNrRVQ31H4tJOL1LBUzc0p5uZZHLGIsDR0eeAH2A/9SgcYKo=\n",
      "Creation 2022-11-07 13:59:32-08:00 before start_cutoff\n",
      "Saving downloaded HIT data to ../results_2stage/all_hit_data.pkl\n"
     ]
    }
   ],
   "source": [
    "client = MTClient()\n",
    "all_hits = client.download_all_hits(start_cutoff=datetime.datetime(2022,11,10,0,0,0))"
   ]
  },
  {
   "cell_type": "markdown",
   "id": "aefab224-6517-4d66-ac1d-de6360f85d79",
   "metadata": {
    "pycharm": {
     "name": "#%% md\n"
    }
   },
   "source": [
    "### (b) Get all workers with the qual for the current run"
   ]
  },
  {
   "cell_type": "code",
   "execution_count": 4,
   "id": "b547b26f-ccb0-4d4b-a8a3-2b9c828412f5",
   "metadata": {
    "tags": [],
    "pycharm": {
     "name": "#%%\n"
    }
   },
   "outputs": [
    {
     "data": {
      "text/plain": "'Workplace_Survey_18'"
     },
     "execution_count": 4,
     "metadata": {},
     "output_type": "execute_result"
    }
   ],
   "source": [
    "current_qual = mtglobals.get_current_qual()\n",
    "current_qual['qual_name']"
   ]
  },
  {
   "cell_type": "code",
   "execution_count": 5,
   "outputs": [],
   "source": [
    "# Or, override it if you want to monitor a previous wave\n",
    "stage2_qual_names = [current_qual['qual_name']]\n",
    "#stage2_qual_names = ['Workplace_Survey_17']\n",
    "#[current_qual['qual_name'],]\n",
    "                     #'Workplace_Survey_16',]\n",
    "                     #'Workplace_Survey_15',]\n",
    "                     #'Workplace_Survey_14',]\n",
    "                     #'Workplace_Survey_11',\n",
    "                     #'Workplace_Survey_10',]\n",
    "                     #'Workplace_Survey_09', 'Workplace_Survey_08',\n",
    "                     #'Workplace_Survey_07']\n",
    "#stage2_qual_name = 'Workplace_Survey_04'"
   ],
   "metadata": {
    "collapsed": false,
    "pycharm": {
     "name": "#%%\n"
    }
   }
  },
  {
   "cell_type": "code",
   "execution_count": 6,
   "id": "6f6a1afd-e014-44dc-bfad-61a513e383f6",
   "metadata": {
    "tags": [],
    "pycharm": {
     "name": "#%%\n"
    }
   },
   "outputs": [],
   "source": [
    "worker_ids = []\n",
    "for cur_qual_name in stage2_qual_names:\n",
    "    cur_worker_ids = client.get_workers_with_qual(cur_qual_name)\n",
    "    worker_ids.extend(cur_worker_ids)"
   ]
  },
  {
   "cell_type": "code",
   "execution_count": 7,
   "id": "9c12b7d3-90e0-4204-8ee0-2c275063bd9b",
   "metadata": {
    "tags": [],
    "pycharm": {
     "name": "#%%\n"
    }
   },
   "outputs": [
    {
     "data": {
      "text/plain": "100"
     },
     "execution_count": 7,
     "metadata": {},
     "output_type": "execute_result"
    }
   ],
   "source": [
    "len(worker_ids)"
   ]
  },
  {
   "cell_type": "code",
   "execution_count": 8,
   "id": "24461587-8c83-487b-bbcf-d97e746d9a53",
   "metadata": {
    "tags": [],
    "pycharm": {
     "name": "#%%\n"
    }
   },
   "outputs": [],
   "source": [
    "# Print titles for each HIT\n",
    "#hit_list = [(r_num, r['Title'], r['NumberOfAssignmentsAvailable']) for r_num, r in enumerate(all_hits)]\n",
    "#len(hit_list)\n",
    "#hit_list[:20]"
   ]
  },
  {
   "cell_type": "code",
   "execution_count": 9,
   "id": "85ea7cc0-6fdd-4f72-b613-4e61e0f88342",
   "metadata": {
    "tags": [],
    "pycharm": {
     "name": "#%%\n"
    }
   },
   "outputs": [],
   "source": [
    "# Now load the launched worker HIT info\n",
    "#launched_df = pd.read_csv(mtglobals.stage2_launched_fpath)\n",
    "#len(launched_df)"
   ]
  },
  {
   "cell_type": "markdown",
   "id": "ee26d3ce-1618-4730-adc5-7da8adce72c9",
   "metadata": {
    "pycharm": {
     "name": "#%% md\n"
    }
   },
   "source": [
    "### (c) Get the HITs for each worker id"
   ]
  },
  {
   "cell_type": "code",
   "execution_count": 10,
   "id": "67755c4f-3b40-43cb-8a01-b058ef4b50c4",
   "metadata": {
    "tags": [],
    "pycharm": {
     "name": "#%%\n"
    }
   },
   "outputs": [],
   "source": [
    "def get_most_recent(worker_hits):\n",
    "    sorted_hits = sorted(worker_hits, key=lambda x: x['CreationTime'], reverse=True)\n",
    "    #print([h['CreationTime'] for h in sorted_hits])\n",
    "    return sorted_hits[0]\n",
    "\n",
    "def get_active_hits(all_hits, launched_df):\n",
    "    active_hits = []\n",
    "    for row_index, cur_row in launched_df.iterrows():\n",
    "        cur_worker_id = cur_row['worker_id']\n",
    "        cur_launch = cur_row['launched_time']\n",
    "        #print(f\"{cur_worker_id}: {cur_launch}\")\n",
    "        # Find the HIT for this worker\n",
    "        worker_hits = [h for h in all_hits if cur_worker_id in h['Title']]\n",
    "        if len(worker_hits) > 1:\n",
    "            # Multiple HITs for this worker...\n",
    "            print(f\"{len(worker_hits)} HITs for {cur_worker_id}\")\n",
    "            # Use CreationTime to find the most recent HIT\n",
    "            #for hit_num, cur_hit in enumerate(worker_hits):\n",
    "            #    print(f\"HIT #{hit_num}: {cur_hit['CreationTime']}\")\n",
    "            most_recent = get_most_recent(worker_hits)\n",
    "            #print(f\"Most recent: {most_recent['CreationTime']}\")\n",
    "            #print(worker_hits)\n",
    "            active_hits.append((cur_worker_id,most_recent))\n",
    "        elif len(worker_hits) == 1:\n",
    "            #print(f\"Found unique HIT for {cur_worker_id}\")\n",
    "            active_hits.append((cur_worker_id, worker_hits[0]))\n",
    "        else:\n",
    "            print(f\"No HIT found for {cur_worker_id}!\")\n",
    "    return active_hits"
   ]
  },
  {
   "cell_type": "code",
   "execution_count": 11,
   "id": "f016aa30-1398-49e8-965c-057542b51d6d",
   "metadata": {
    "tags": [],
    "pycharm": {
     "name": "#%%\n"
    }
   },
   "outputs": [],
   "source": [
    "def get_hit_for_worker(all_hits, worker_id, verbose=False):\n",
    "    vprint = print if verbose else lambda x: None\n",
    "    # The HIT only has the worker_id in its title, so we have to extract\n",
    "    # using mtglobals.worker_id_from_title()\n",
    "    #vprint([h['Title'] for h in all_hits])\n",
    "    results = [h for h in all_hits if mtglobals.worker_id_from_title(h['Title']) == worker_id]\n",
    "    if len(results) == 0:\n",
    "        raise Exception(f\"No HIT found for worker {worker_id}\")\n",
    "    return results[0]"
   ]
  },
  {
   "cell_type": "code",
   "execution_count": 12,
   "id": "d691e1ff-097e-4d83-9e71-559314bdfdcc",
   "metadata": {
    "tags": [],
    "pycharm": {
     "name": "#%%\n"
    }
   },
   "outputs": [],
   "source": [
    "# Get the hits created for all workers with the qual specified above\n",
    "stage2_hits = [get_hit_for_worker(all_hits, w, verbose=True) for w in worker_ids]"
   ]
  },
  {
   "cell_type": "code",
   "execution_count": 13,
   "outputs": [],
   "source": [
    "#stage2_hits"
   ],
   "metadata": {
    "collapsed": false,
    "pycharm": {
     "name": "#%%\n"
    }
   }
  },
  {
   "cell_type": "code",
   "execution_count": 14,
   "id": "68271065-82ec-4855-a1fe-8267dd056c38",
   "metadata": {
    "tags": [],
    "pycharm": {
     "name": "#%%\n"
    }
   },
   "outputs": [],
   "source": [
    "#stage2_hits = [h for h in all_hits if h['Title'].startswith(\"Custom workplace survey HIT\")]\n",
    "#stage2_hit_info = get_active_hits(all_hits, launched_df)\n",
    "#stage2_hits = [i[1] for i in stage2_hit_info]\n",
    "#print(f\"{len(stage2_hits)} stage-2 HITs found\")\n",
    "#stage2_ids = [h['HITId'] for h in stage2_hits]\n",
    "#info_vars = ['HITId','HITTypeId','HITGroupId','HITLayoutId', #'Title', 'Description',\n",
    "#            'Reward']"
   ]
  },
  {
   "cell_type": "markdown",
   "id": "d20f04c5-6502-4310-b80e-3aaeea94d633",
   "metadata": {
    "pycharm": {
     "name": "#%% md\n"
    }
   },
   "source": [
    "### (d) Get info about + approve the submissions (if any) for these HITs"
   ]
  },
  {
   "cell_type": "code",
   "execution_count": 15,
   "id": "79421871-649c-4d6c-90e0-6f3da8d5fa88",
   "metadata": {
    "scrolled": true,
    "tags": [],
    "pycharm": {
     "name": "#%%\n"
    }
   },
   "outputs": [
    {
     "name": "stdout",
     "output_type": "stream",
     "text": [
      "HIT #0: Custom workplace survey HIT for worker id A11JCTPPYRML49, created 2022-11-20 16:35:30-08:00\n",
      "Custom HIT not yet submitted\n",
      "HIT #1: Custom workplace survey HIT for worker id A122QSIA01PR3L, created 2022-11-20 17:07:46-08:00\n",
      "{'AssignmentId': '3X0H8UUIT2P8F6Y6YRN7DGQLOYISWP', 'WorkerId': 'A122QSIA01PR3L', 'HITId': '309D674SH0MXX2D5GCW9NDDQPXACB8', 'AssignmentStatus': 'Submitted', 'AutoApprovalTime': datetime.datetime(2022, 12, 21, 6, 25, 54, tzinfo=tzlocal()), 'AcceptTime': datetime.datetime(2022, 11, 21, 5, 47, 18, tzinfo=tzlocal()), 'SubmitTime': datetime.datetime(2022, 11, 21, 6, 25, 54, tzinfo=tzlocal()), 'Answer': '<?xml version=\"1.0\" encoding=\"ASCII\"?><QuestionFormAnswers xmlns=\"http://mechanicalturk.amazonaws.com/AWSMechanicalTurkDataSchemas/2005-10-01/QuestionFormAnswers.xsd\"><Answer><QuestionIdentifier>surveyCode</QuestionIdentifier><FreeText>81996708</FreeText></Answer></QuestionFormAnswers>'}\n",
      "Status: Submitted\n",
      "Approved assignment 3X0H8UUIT2P8F6Y6YRN7DGQLOYISWP\n",
      "{'ResponseMetadata': {'RequestId': '95f0b14d-caf8-4f5c-9ec4-929c1eaf530d', 'HTTPStatusCode': 200, 'HTTPHeaders': {'x-amzn-requestid': '95f0b14d-caf8-4f5c-9ec4-929c1eaf530d', 'content-type': 'application/x-amz-json-1.1', 'content-length': '2', 'date': 'Tue, 22 Nov 2022 19:43:41 GMT'}, 'RetryAttempts': 0}}\n",
      "HIT #2: Custom workplace survey HIT for worker id A14CBWGILA1VG4, created 2022-11-21 15:21:40-08:00\n",
      "Custom HIT not yet submitted\n",
      "HIT #3: Custom workplace survey HIT for worker id A14FOFNUBU2P5D, created 2022-11-20 16:35:38-08:00\n",
      "Custom HIT not yet submitted\n",
      "HIT #4: Custom workplace survey HIT for worker id A165ZC634AIYVY, created 2022-11-20 16:35:29-08:00\n",
      "Custom HIT not yet submitted\n",
      "HIT #5: Custom workplace survey HIT for worker id A166BS4L4QUBR9, created 2022-11-20 17:07:49-08:00\n",
      "{'AssignmentId': '3D8YOU6S9FLQ04B4WE53UN9WLSC6UI', 'WorkerId': 'A166BS4L4QUBR9', 'HITId': '3KWGG5KP6K3TGTH271MI1TOK1WEMC7', 'AssignmentStatus': 'Submitted', 'AutoApprovalTime': datetime.datetime(2022, 12, 20, 17, 29, 2, tzinfo=tzlocal()), 'AcceptTime': datetime.datetime(2022, 11, 20, 17, 19, 32, tzinfo=tzlocal()), 'SubmitTime': datetime.datetime(2022, 11, 20, 17, 29, 2, tzinfo=tzlocal()), 'Answer': '<?xml version=\"1.0\" encoding=\"ASCII\"?><QuestionFormAnswers xmlns=\"http://mechanicalturk.amazonaws.com/AWSMechanicalTurkDataSchemas/2005-10-01/QuestionFormAnswers.xsd\"><Answer><QuestionIdentifier>surveyCode</QuestionIdentifier><FreeText>34385440</FreeText></Answer></QuestionFormAnswers>'}\n",
      "Status: Submitted\n",
      "Approved assignment 3D8YOU6S9FLQ04B4WE53UN9WLSC6UI\n",
      "{'ResponseMetadata': {'RequestId': '3d5e528e-63b9-4504-8d98-63638cdf8be9', 'HTTPStatusCode': 200, 'HTTPHeaders': {'x-amzn-requestid': '3d5e528e-63b9-4504-8d98-63638cdf8be9', 'content-type': 'application/x-amz-json-1.1', 'content-length': '2', 'date': 'Tue, 22 Nov 2022 19:43:41 GMT'}, 'RetryAttempts': 0}}\n",
      "HIT #6: Custom workplace survey HIT for worker id A16IA4IRHG9RWF, created 2022-11-21 15:21:41-08:00\n",
      "Custom HIT not yet submitted\n",
      "HIT #7: Custom workplace survey HIT for worker id A16K7X677N4WN6, created 2022-11-20 16:35:20-08:00\n",
      "{'AssignmentId': '3QXNC7EIPJWX211MWEUVPQCRV4E09I', 'WorkerId': 'A16K7X677N4WN6', 'HITId': '3OND0WXMHXGMLD05CVC0ZCGR5MSEHJ', 'AssignmentStatus': 'Approved', 'AutoApprovalTime': datetime.datetime(2022, 12, 20, 16, 51, 35, tzinfo=tzlocal()), 'AcceptTime': datetime.datetime(2022, 11, 20, 16, 37, 15, tzinfo=tzlocal()), 'SubmitTime': datetime.datetime(2022, 11, 20, 16, 51, 35, tzinfo=tzlocal()), 'ApprovalTime': datetime.datetime(2022, 11, 20, 16, 59, 32, tzinfo=tzlocal()), 'Answer': '<?xml version=\"1.0\" encoding=\"ASCII\"?><QuestionFormAnswers xmlns=\"http://mechanicalturk.amazonaws.com/AWSMechanicalTurkDataSchemas/2005-10-01/QuestionFormAnswers.xsd\"><Answer><QuestionIdentifier>surveyCode</QuestionIdentifier><FreeText>81005750</FreeText></Answer></QuestionFormAnswers>'}\n",
      "HIT #8: Custom workplace survey HIT for worker id A171S8E9IFSHH2, created 2022-11-20 16:35:31-08:00\n",
      "Custom HIT not yet submitted\n",
      "HIT #9: Custom workplace survey HIT for worker id A19EG3AZSHS293, created 2022-11-20 17:07:52-08:00\n",
      "{'AssignmentId': '3WMOAN2SRCYYK46W0L1PSKX1UP9NVX', 'WorkerId': 'A19EG3AZSHS293', 'HITId': '37J05LC5AYKDKDHV404157ELI2VJD0', 'AssignmentStatus': 'Submitted', 'AutoApprovalTime': datetime.datetime(2022, 12, 20, 18, 6, 20, tzinfo=tzlocal()), 'AcceptTime': datetime.datetime(2022, 11, 20, 17, 9, 54, tzinfo=tzlocal()), 'SubmitTime': datetime.datetime(2022, 11, 20, 18, 6, 20, tzinfo=tzlocal()), 'Answer': '<?xml version=\"1.0\" encoding=\"ASCII\"?><QuestionFormAnswers xmlns=\"http://mechanicalturk.amazonaws.com/AWSMechanicalTurkDataSchemas/2005-10-01/QuestionFormAnswers.xsd\"><Answer><QuestionIdentifier>surveyCode</QuestionIdentifier><FreeText>40412791</FreeText></Answer></QuestionFormAnswers>'}\n",
      "Status: Submitted\n",
      "Approved assignment 3WMOAN2SRCYYK46W0L1PSKX1UP9NVX\n",
      "{'ResponseMetadata': {'RequestId': '87b2d8c0-2316-406c-bc99-88f24378ab15', 'HTTPStatusCode': 200, 'HTTPHeaders': {'x-amzn-requestid': '87b2d8c0-2316-406c-bc99-88f24378ab15', 'content-type': 'application/x-amz-json-1.1', 'content-length': '2', 'date': 'Tue, 22 Nov 2022 19:43:42 GMT'}, 'RetryAttempts': 0}}\n",
      "HIT #10: Custom workplace survey HIT for worker id A19GSU0ST2SIMW, created 2022-11-20 16:35:06-08:00\n",
      "{'AssignmentId': '3J2UYBXQQMDAKIZOY7RJ5GLP53760E', 'WorkerId': 'A19GSU0ST2SIMW', 'HITId': '3EHVO81VN6MN1C6T07HLSSXXGDOH13', 'AssignmentStatus': 'Submitted', 'AutoApprovalTime': datetime.datetime(2022, 12, 20, 17, 25, 10, tzinfo=tzlocal()), 'AcceptTime': datetime.datetime(2022, 11, 20, 17, 8, 14, tzinfo=tzlocal()), 'SubmitTime': datetime.datetime(2022, 11, 20, 17, 25, 10, tzinfo=tzlocal()), 'Answer': '<?xml version=\"1.0\" encoding=\"ASCII\"?><QuestionFormAnswers xmlns=\"http://mechanicalturk.amazonaws.com/AWSMechanicalTurkDataSchemas/2005-10-01/QuestionFormAnswers.xsd\"><Answer><QuestionIdentifier>surveyCode</QuestionIdentifier><FreeText>31798039</FreeText></Answer></QuestionFormAnswers>'}\n",
      "Status: Submitted\n",
      "Approved assignment 3J2UYBXQQMDAKIZOY7RJ5GLP53760E\n",
      "{'ResponseMetadata': {'RequestId': '03db5282-3db6-4dd9-bc33-ec26de6e1d62', 'HTTPStatusCode': 200, 'HTTPHeaders': {'x-amzn-requestid': '03db5282-3db6-4dd9-bc33-ec26de6e1d62', 'content-type': 'application/x-amz-json-1.1', 'content-length': '2', 'date': 'Tue, 22 Nov 2022 19:43:43 GMT'}, 'RetryAttempts': 0}}\n",
      "HIT #11: Custom workplace survey HIT for worker id A19NZMAP7N9PK2, created 2022-11-21 15:21:32-08:00\n",
      "Custom HIT not yet submitted\n",
      "HIT #12: Custom workplace survey HIT for worker id A1AD2BDQYTTJIL, created 2022-11-21 15:21:20-08:00\n",
      "Custom HIT not yet submitted\n",
      "HIT #13: Custom workplace survey HIT for worker id A1CN1H9UODZ1E6, created 2022-11-21 15:21:29-08:00\n",
      "Custom HIT not yet submitted\n",
      "HIT #14: Custom workplace survey HIT for worker id A1F96XZ34MUTG, created 2022-11-20 16:42:00-08:00\n",
      "Custom HIT not yet submitted\n",
      "HIT #15: Custom workplace survey HIT for worker id A1GD1SKU3C996C, created 2022-11-21 15:21:37-08:00\n",
      "Custom HIT not yet submitted\n",
      "HIT #16: Custom workplace survey HIT for worker id A1HIJ7GKXCDRTW, created 2022-11-21 15:21:35-08:00\n",
      "Custom HIT not yet submitted\n",
      "HIT #17: Custom workplace survey HIT for worker id A1I7LQ7O0HR5WH, created 2022-11-20 16:35:36-08:00\n",
      "Custom HIT not yet submitted\n",
      "HIT #18: Custom workplace survey HIT for worker id A1IL81UMEC9OJI, created 2022-11-20 16:35:12-08:00\n",
      "Custom HIT not yet submitted\n",
      "HIT #19: Custom workplace survey HIT for worker id A1MX0ZPLW9SLY6, created 2022-11-20 16:35:14-08:00\n",
      "{'AssignmentId': '3YWRV122CT0D4IUSPT21E15NRN0U8Q', 'WorkerId': 'A1MX0ZPLW9SLY6', 'HITId': '3CRWSLD91L5UPIE5X6V9WTI1QAXOM6', 'AssignmentStatus': 'Submitted', 'AutoApprovalTime': datetime.datetime(2022, 12, 20, 17, 42, 52, tzinfo=tzlocal()), 'AcceptTime': datetime.datetime(2022, 11, 20, 16, 53, 51, tzinfo=tzlocal()), 'SubmitTime': datetime.datetime(2022, 11, 20, 17, 42, 52, tzinfo=tzlocal()), 'Answer': '<?xml version=\"1.0\" encoding=\"ASCII\"?><QuestionFormAnswers xmlns=\"http://mechanicalturk.amazonaws.com/AWSMechanicalTurkDataSchemas/2005-10-01/QuestionFormAnswers.xsd\"><Answer><QuestionIdentifier>surveyCode</QuestionIdentifier><FreeText>78773264</FreeText></Answer></QuestionFormAnswers>'}\n",
      "Status: Submitted\n",
      "Approved assignment 3YWRV122CT0D4IUSPT21E15NRN0U8Q\n",
      "{'ResponseMetadata': {'RequestId': 'e92f16ac-67fe-4994-b102-f782099ace8d', 'HTTPStatusCode': 200, 'HTTPHeaders': {'x-amzn-requestid': 'e92f16ac-67fe-4994-b102-f782099ace8d', 'content-type': 'application/x-amz-json-1.1', 'content-length': '2', 'date': 'Tue, 22 Nov 2022 19:43:44 GMT'}, 'RetryAttempts': 0}}\n",
      "HIT #20: Custom workplace survey HIT for worker id A1NURUSQ7BPB1S, created 2022-11-20 16:35:35-08:00\n",
      "{'AssignmentId': '3S3AMIZX3V6TZJ9JKASH6NXIVEQDC5', 'WorkerId': 'A1NURUSQ7BPB1S', 'HITId': '35O6H0UNLTHIG022PUMI7VQT5LXJ5S', 'AssignmentStatus': 'Approved', 'AutoApprovalTime': datetime.datetime(2022, 12, 20, 16, 46, 39, tzinfo=tzlocal()), 'AcceptTime': datetime.datetime(2022, 11, 20, 16, 39, 9, tzinfo=tzlocal()), 'SubmitTime': datetime.datetime(2022, 11, 20, 16, 46, 39, tzinfo=tzlocal()), 'ApprovalTime': datetime.datetime(2022, 11, 20, 16, 59, 33, tzinfo=tzlocal()), 'Answer': '<?xml version=\"1.0\" encoding=\"ASCII\"?><QuestionFormAnswers xmlns=\"http://mechanicalturk.amazonaws.com/AWSMechanicalTurkDataSchemas/2005-10-01/QuestionFormAnswers.xsd\"><Answer><QuestionIdentifier>surveyCode</QuestionIdentifier><FreeText>97015694</FreeText></Answer></QuestionFormAnswers>'}\n",
      "HIT #21: Custom workplace survey HIT for worker id A1O1ZRKOJZ6LJG, created 2022-11-21 15:21:31-08:00\n",
      "{'AssignmentId': '3WJ1OXY92BHTP9GUJOLAE0TTKRY8AW', 'WorkerId': 'A1O1ZRKOJZ6LJG', 'HITId': '3XEIP58NL1OMI4ARZ35BCEAGA9SLZL', 'AssignmentStatus': 'Submitted', 'AutoApprovalTime': datetime.datetime(2022, 12, 21, 16, 18, 59, tzinfo=tzlocal()), 'AcceptTime': datetime.datetime(2022, 11, 21, 15, 42, 10, tzinfo=tzlocal()), 'SubmitTime': datetime.datetime(2022, 11, 21, 16, 18, 59, tzinfo=tzlocal()), 'Answer': '<?xml version=\"1.0\" encoding=\"ASCII\"?><QuestionFormAnswers xmlns=\"http://mechanicalturk.amazonaws.com/AWSMechanicalTurkDataSchemas/2005-10-01/QuestionFormAnswers.xsd\"><Answer><QuestionIdentifier>surveyCode</QuestionIdentifier><FreeText>25963221</FreeText></Answer></QuestionFormAnswers>'}\n",
      "Status: Submitted\n",
      "Approved assignment 3WJ1OXY92BHTP9GUJOLAE0TTKRY8AW\n",
      "{'ResponseMetadata': {'RequestId': 'f30ab0d2-c47c-4714-9df7-5b5aed249ce3', 'HTTPStatusCode': 200, 'HTTPHeaders': {'x-amzn-requestid': 'f30ab0d2-c47c-4714-9df7-5b5aed249ce3', 'content-type': 'application/x-amz-json-1.1', 'content-length': '2', 'date': 'Tue, 22 Nov 2022 19:43:45 GMT'}, 'RetryAttempts': 0}}\n",
      "HIT #22: Custom workplace survey HIT for worker id A1PIOTGADK1EN1, created 2022-11-20 16:35:21-08:00\n",
      "Custom HIT not yet submitted\n",
      "HIT #23: Custom workplace survey HIT for worker id A1TJA3HLWCJUSX, created 2022-11-20 16:35:10-08:00\n",
      "Custom HIT not yet submitted\n",
      "HIT #24: Custom workplace survey HIT for worker id A1W2GDEZ8I25MB, created 2022-11-20 16:35:40-08:00\n",
      "{'AssignmentId': '3TEM0PF1Q6Y95RE38UZXBMVHMPT0DZ', 'WorkerId': 'A1W2GDEZ8I25MB', 'HITId': '3UZUVSO3P8W8DR1G3SSDRHONM8REMS', 'AssignmentStatus': 'Approved', 'AutoApprovalTime': datetime.datetime(2022, 12, 20, 16, 51, 9, tzinfo=tzlocal()), 'AcceptTime': datetime.datetime(2022, 11, 20, 16, 38, 20, tzinfo=tzlocal()), 'SubmitTime': datetime.datetime(2022, 11, 20, 16, 51, 9, tzinfo=tzlocal()), 'ApprovalTime': datetime.datetime(2022, 11, 20, 16, 59, 34, tzinfo=tzlocal()), 'Answer': '<?xml version=\"1.0\" encoding=\"ASCII\"?><QuestionFormAnswers xmlns=\"http://mechanicalturk.amazonaws.com/AWSMechanicalTurkDataSchemas/2005-10-01/QuestionFormAnswers.xsd\"><Answer><QuestionIdentifier>surveyCode</QuestionIdentifier><FreeText>42945420</FreeText></Answer></QuestionFormAnswers>'}\n",
      "HIT #25: Custom workplace survey HIT for worker id A1X2NKYJNHB1A5, created 2022-11-20 16:35:18-08:00\n",
      "Custom HIT not yet submitted\n",
      "HIT #26: Custom workplace survey HIT for worker id A1X7HINAD78EL0, created 2022-11-20 17:07:48-08:00\n",
      "Custom HIT not yet submitted\n",
      "HIT #27: Custom workplace survey HIT for worker id A212P9LUF0URRZ, created 2022-11-20 16:35:33-08:00\n",
      "{'AssignmentId': '3ZY8KE4ISK4JN1JOGDT6WES6Z5UQVV', 'WorkerId': 'A212P9LUF0URRZ', 'HITId': '3DWNFENNE4W0KHY2BP3823KF5P2J4N', 'AssignmentStatus': 'Submitted', 'AutoApprovalTime': datetime.datetime(2022, 12, 21, 11, 48, 28, tzinfo=tzlocal()), 'AcceptTime': datetime.datetime(2022, 11, 21, 11, 40, 15, tzinfo=tzlocal()), 'SubmitTime': datetime.datetime(2022, 11, 21, 11, 48, 28, tzinfo=tzlocal()), 'Answer': '<?xml version=\"1.0\" encoding=\"ASCII\"?><QuestionFormAnswers xmlns=\"http://mechanicalturk.amazonaws.com/AWSMechanicalTurkDataSchemas/2005-10-01/QuestionFormAnswers.xsd\"><Answer><QuestionIdentifier>surveyCode</QuestionIdentifier><FreeText>80787893</FreeText></Answer></QuestionFormAnswers>'}\n",
      "Status: Submitted\n",
      "Approved assignment 3ZY8KE4ISK4JN1JOGDT6WES6Z5UQVV\n",
      "{'ResponseMetadata': {'RequestId': 'cb1f8bbd-e698-4509-a4fe-c1e7874a25df', 'HTTPStatusCode': 200, 'HTTPHeaders': {'x-amzn-requestid': 'cb1f8bbd-e698-4509-a4fe-c1e7874a25df', 'content-type': 'application/x-amz-json-1.1', 'content-length': '2', 'date': 'Tue, 22 Nov 2022 19:43:46 GMT'}, 'RetryAttempts': 0}}\n",
      "HIT #28: Custom workplace survey HIT for worker id A21XWR5M393RWA, created 2022-11-20 16:41:56-08:00\n",
      "{'AssignmentId': '3M23Y66PO38ALRJ079A3FMR80VX6S8', 'WorkerId': 'A21XWR5M393RWA', 'HITId': '3Z56AA6EK5140C81XA9FFTWA5A3M6F', 'AssignmentStatus': 'Submitted', 'AutoApprovalTime': datetime.datetime(2022, 12, 20, 19, 59, 56, tzinfo=tzlocal()), 'AcceptTime': datetime.datetime(2022, 11, 20, 19, 47, 39, tzinfo=tzlocal()), 'SubmitTime': datetime.datetime(2022, 11, 20, 19, 59, 56, tzinfo=tzlocal()), 'Answer': '<?xml version=\"1.0\" encoding=\"ASCII\"?><QuestionFormAnswers xmlns=\"http://mechanicalturk.amazonaws.com/AWSMechanicalTurkDataSchemas/2005-10-01/QuestionFormAnswers.xsd\"><Answer><QuestionIdentifier>surveyCode</QuestionIdentifier><FreeText>18211491</FreeText></Answer></QuestionFormAnswers>'}\n",
      "Status: Submitted\n",
      "Approved assignment 3M23Y66PO38ALRJ079A3FMR80VX6S8\n",
      "{'ResponseMetadata': {'RequestId': '3e72b708-6dca-433d-98e5-2932431cd29c', 'HTTPStatusCode': 200, 'HTTPHeaders': {'x-amzn-requestid': '3e72b708-6dca-433d-98e5-2932431cd29c', 'content-type': 'application/x-amz-json-1.1', 'content-length': '2', 'date': 'Tue, 22 Nov 2022 19:43:46 GMT'}, 'RetryAttempts': 0}}\n",
      "HIT #29: Custom workplace survey HIT for worker id A23UXKTVERRXNK, created 2022-11-20 16:35:10-08:00\n",
      "Custom HIT not yet submitted\n",
      "HIT #30: Custom workplace survey HIT for worker id A247BFL5DPFIPM, created 2022-11-21 15:21:22-08:00\n",
      "{'AssignmentId': '3KV0LJBBH3M09F4FF0HFE8JY40JMRE', 'WorkerId': 'A247BFL5DPFIPM', 'HITId': '3BA7SXOG1KRI164HVX2UL6MBHSA8RT', 'AssignmentStatus': 'Submitted', 'AutoApprovalTime': datetime.datetime(2022, 12, 21, 17, 38, 7, tzinfo=tzlocal()), 'AcceptTime': datetime.datetime(2022, 11, 21, 16, 49, 28, tzinfo=tzlocal()), 'SubmitTime': datetime.datetime(2022, 11, 21, 17, 38, 7, tzinfo=tzlocal()), 'Answer': '<?xml version=\"1.0\" encoding=\"ASCII\"?><QuestionFormAnswers xmlns=\"http://mechanicalturk.amazonaws.com/AWSMechanicalTurkDataSchemas/2005-10-01/QuestionFormAnswers.xsd\"><Answer><QuestionIdentifier>surveyCode</QuestionIdentifier><FreeText>69113752</FreeText></Answer></QuestionFormAnswers>'}\n",
      "Status: Submitted\n",
      "Approved assignment 3KV0LJBBH3M09F4FF0HFE8JY40JMRE\n",
      "{'ResponseMetadata': {'RequestId': 'b9bb5a27-91b3-4249-b49a-7e8da6fe83ac', 'HTTPStatusCode': 200, 'HTTPHeaders': {'x-amzn-requestid': 'b9bb5a27-91b3-4249-b49a-7e8da6fe83ac', 'content-type': 'application/x-amz-json-1.1', 'content-length': '2', 'date': 'Tue, 22 Nov 2022 19:43:47 GMT'}, 'RetryAttempts': 0}}\n",
      "HIT #31: Custom workplace survey HIT for worker id A24SPGECGCJGS1, created 2022-11-20 16:41:57-08:00\n",
      "{'AssignmentId': '3IQ1VMJRYULT3EZ4OGROEWO44QTA9M', 'WorkerId': 'A24SPGECGCJGS1', 'HITId': '3T2HW4QDUW8E99Y8ISIDW7I01X79CV', 'AssignmentStatus': 'Submitted', 'AutoApprovalTime': datetime.datetime(2022, 12, 20, 17, 58, 32, tzinfo=tzlocal()), 'AcceptTime': datetime.datetime(2022, 11, 20, 17, 49, 36, tzinfo=tzlocal()), 'SubmitTime': datetime.datetime(2022, 11, 20, 17, 58, 32, tzinfo=tzlocal()), 'Answer': '<?xml version=\"1.0\" encoding=\"ASCII\"?><QuestionFormAnswers xmlns=\"http://mechanicalturk.amazonaws.com/AWSMechanicalTurkDataSchemas/2005-10-01/QuestionFormAnswers.xsd\"><Answer><QuestionIdentifier>surveyCode</QuestionIdentifier><FreeText>72488412</FreeText></Answer></QuestionFormAnswers>'}\n",
      "Status: Submitted\n",
      "Approved assignment 3IQ1VMJRYULT3EZ4OGROEWO44QTA9M\n",
      "{'ResponseMetadata': {'RequestId': 'c3290dee-3010-4bb3-9d50-2f3a8ff65521', 'HTTPStatusCode': 200, 'HTTPHeaders': {'x-amzn-requestid': 'c3290dee-3010-4bb3-9d50-2f3a8ff65521', 'content-type': 'application/x-amz-json-1.1', 'content-length': '2', 'date': 'Tue, 22 Nov 2022 19:43:47 GMT'}, 'RetryAttempts': 0}}\n",
      "HIT #32: Custom workplace survey HIT for worker id A250FES5PFCGK9, created 2022-11-20 16:41:55-08:00\n",
      "Custom HIT not yet submitted\n",
      "HIT #33: Custom workplace survey HIT for worker id A25NE0NYK6JJU, created 2022-11-20 16:41:57-08:00\n",
      "{'AssignmentId': '39N5ACM9HFO0QI56DZ9L4RDZ3DTP9J', 'WorkerId': 'A25NE0NYK6JJU', 'HITId': '359AP8GAGHLAVQAF3VKTIBRU67JC7M', 'AssignmentStatus': 'Submitted', 'AutoApprovalTime': datetime.datetime(2022, 12, 21, 6, 30, 41, tzinfo=tzlocal()), 'AcceptTime': datetime.datetime(2022, 11, 21, 5, 59, 34, tzinfo=tzlocal()), 'SubmitTime': datetime.datetime(2022, 11, 21, 6, 30, 41, tzinfo=tzlocal()), 'Answer': '<?xml version=\"1.0\" encoding=\"ASCII\"?><QuestionFormAnswers xmlns=\"http://mechanicalturk.amazonaws.com/AWSMechanicalTurkDataSchemas/2005-10-01/QuestionFormAnswers.xsd\"><Answer><QuestionIdentifier>surveyCode</QuestionIdentifier><FreeText>59502276</FreeText></Answer></QuestionFormAnswers>'}\n",
      "Status: Submitted\n",
      "Approved assignment 39N5ACM9HFO0QI56DZ9L4RDZ3DTP9J\n",
      "{'ResponseMetadata': {'RequestId': 'ca4a9cd1-f44e-40ff-bdaa-e78c83984976', 'HTTPStatusCode': 200, 'HTTPHeaders': {'x-amzn-requestid': 'ca4a9cd1-f44e-40ff-bdaa-e78c83984976', 'content-type': 'application/x-amz-json-1.1', 'content-length': '2', 'date': 'Tue, 22 Nov 2022 19:43:47 GMT'}, 'RetryAttempts': 0}}\n",
      "HIT #34: Custom workplace survey HIT for worker id A26X269P2OTJOD, created 2022-11-20 16:35:37-08:00\n",
      "Custom HIT not yet submitted\n",
      "HIT #35: Custom workplace survey HIT for worker id A2CU4ZBMTFN4N8, created 2022-11-20 16:41:59-08:00\n",
      "{'AssignmentId': '3Q5ZZ9ZEVPGWJ34DOSUT6PD7S6Q582', 'WorkerId': 'A2CU4ZBMTFN4N8', 'HITId': '37OPIVELUV4JV0JTWQAE3TQ0K7UHAR', 'AssignmentStatus': 'Submitted', 'AutoApprovalTime': datetime.datetime(2022, 12, 20, 22, 30, 44, tzinfo=tzlocal()), 'AcceptTime': datetime.datetime(2022, 11, 20, 22, 15, 59, tzinfo=tzlocal()), 'SubmitTime': datetime.datetime(2022, 11, 20, 22, 30, 44, tzinfo=tzlocal()), 'Answer': '<?xml version=\"1.0\" encoding=\"ASCII\"?><QuestionFormAnswers xmlns=\"http://mechanicalturk.amazonaws.com/AWSMechanicalTurkDataSchemas/2005-10-01/QuestionFormAnswers.xsd\"><Answer><QuestionIdentifier>surveyCode</QuestionIdentifier><FreeText>10446845</FreeText></Answer></QuestionFormAnswers>'}\n",
      "Status: Submitted\n",
      "Approved assignment 3Q5ZZ9ZEVPGWJ34DOSUT6PD7S6Q582\n",
      "{'ResponseMetadata': {'RequestId': 'a2d7058b-19ae-4c86-9802-17af1878ffd3', 'HTTPStatusCode': 200, 'HTTPHeaders': {'x-amzn-requestid': 'a2d7058b-19ae-4c86-9802-17af1878ffd3', 'content-type': 'application/x-amz-json-1.1', 'content-length': '2', 'date': 'Tue, 22 Nov 2022 19:43:48 GMT'}, 'RetryAttempts': 0}}\n",
      "HIT #36: Custom workplace survey HIT for worker id A2DQ3J7T7VZDX8, created 2022-11-20 16:35:27-08:00\n",
      "Custom HIT not yet submitted\n",
      "HIT #37: Custom workplace survey HIT for worker id A2DVCDDVI697QR, created 2022-11-20 16:35:28-08:00\n",
      "{'AssignmentId': '3ZWFC4W1UV8U35CYTDD2JIZP7S9RF0', 'WorkerId': 'A2DVCDDVI697QR', 'HITId': '3MWOYZD5WWP070Z597A99871V07ON6', 'AssignmentStatus': 'Submitted', 'AutoApprovalTime': datetime.datetime(2022, 12, 20, 17, 1, 30, tzinfo=tzlocal()), 'AcceptTime': datetime.datetime(2022, 11, 20, 16, 51, 50, tzinfo=tzlocal()), 'SubmitTime': datetime.datetime(2022, 11, 20, 17, 1, 30, tzinfo=tzlocal()), 'Answer': '<?xml version=\"1.0\" encoding=\"ASCII\"?><QuestionFormAnswers xmlns=\"http://mechanicalturk.amazonaws.com/AWSMechanicalTurkDataSchemas/2005-10-01/QuestionFormAnswers.xsd\"><Answer><QuestionIdentifier>surveyCode</QuestionIdentifier><FreeText>24729507</FreeText></Answer></QuestionFormAnswers>'}\n",
      "Status: Submitted\n",
      "Approved assignment 3ZWFC4W1UV8U35CYTDD2JIZP7S9RF0\n",
      "{'ResponseMetadata': {'RequestId': '6e85455d-12a0-4826-97e7-78bfe132ebf1', 'HTTPStatusCode': 200, 'HTTPHeaders': {'x-amzn-requestid': '6e85455d-12a0-4826-97e7-78bfe132ebf1', 'content-type': 'application/x-amz-json-1.1', 'content-length': '2', 'date': 'Tue, 22 Nov 2022 19:43:48 GMT'}, 'RetryAttempts': 0}}\n",
      "HIT #38: Custom workplace survey HIT for worker id A2E6Z6NDAES26P, created 2022-11-20 16:35:19-08:00\n",
      "{'AssignmentId': '3AMW0RGHOE3LFK90E9SQMS8J819PNF', 'WorkerId': 'A2E6Z6NDAES26P', 'HITId': '3MDKGGG61RO8D7YL67AR17R2ZIZ6T0', 'AssignmentStatus': 'Submitted', 'AutoApprovalTime': datetime.datetime(2022, 12, 20, 17, 54, 43, tzinfo=tzlocal()), 'AcceptTime': datetime.datetime(2022, 11, 20, 17, 43, 26, tzinfo=tzlocal()), 'SubmitTime': datetime.datetime(2022, 11, 20, 17, 54, 43, tzinfo=tzlocal()), 'Answer': '<?xml version=\"1.0\" encoding=\"ASCII\"?><QuestionFormAnswers xmlns=\"http://mechanicalturk.amazonaws.com/AWSMechanicalTurkDataSchemas/2005-10-01/QuestionFormAnswers.xsd\"><Answer><QuestionIdentifier>surveyCode</QuestionIdentifier><FreeText>89796662</FreeText></Answer></QuestionFormAnswers>'}\n",
      "Status: Submitted\n",
      "Approved assignment 3AMW0RGHOE3LFK90E9SQMS8J819PNF\n",
      "{'ResponseMetadata': {'RequestId': '62f08ce3-1fef-4cfa-9a53-995b204c5b1e', 'HTTPStatusCode': 200, 'HTTPHeaders': {'x-amzn-requestid': '62f08ce3-1fef-4cfa-9a53-995b204c5b1e', 'content-type': 'application/x-amz-json-1.1', 'content-length': '2', 'date': 'Tue, 22 Nov 2022 19:43:49 GMT'}, 'RetryAttempts': 0}}\n",
      "HIT #39: Custom workplace survey HIT for worker id A2FJ62X0X9YS5P, created 2022-11-20 16:35:16-08:00\n",
      "{'AssignmentId': '3JC6VJ2SACKA2RXSLQE72GJ2IU7A5S', 'WorkerId': 'A2FJ62X0X9YS5P', 'HITId': '3KTCJ4SCVH29TQ74R4XYKX5TXZNM1H', 'AssignmentStatus': 'Approved', 'AutoApprovalTime': datetime.datetime(2022, 12, 20, 16, 53, 18, tzinfo=tzlocal()), 'AcceptTime': datetime.datetime(2022, 11, 20, 16, 35, 28, tzinfo=tzlocal()), 'SubmitTime': datetime.datetime(2022, 11, 20, 16, 53, 18, tzinfo=tzlocal()), 'ApprovalTime': datetime.datetime(2022, 11, 20, 16, 59, 36, tzinfo=tzlocal()), 'Answer': '<?xml version=\"1.0\" encoding=\"ASCII\"?><QuestionFormAnswers xmlns=\"http://mechanicalturk.amazonaws.com/AWSMechanicalTurkDataSchemas/2005-10-01/QuestionFormAnswers.xsd\"><Answer><QuestionIdentifier>surveyCode</QuestionIdentifier><FreeText>15498122</FreeText></Answer></QuestionFormAnswers>'}\n",
      "HIT #40: Custom workplace survey HIT for worker id A2FV5CSQC9IIEI, created 2022-11-20 17:07:51-08:00\n",
      "{'AssignmentId': '3U8YCDAGXQH3U0I8DG5HBL2G54J0Q5', 'WorkerId': 'A2FV5CSQC9IIEI', 'HITId': '39HYCOOPKPM3LLNG7XHTLZ62MWQMD7', 'AssignmentStatus': 'Submitted', 'AutoApprovalTime': datetime.datetime(2022, 12, 20, 17, 20, 47, tzinfo=tzlocal()), 'AcceptTime': datetime.datetime(2022, 11, 20, 17, 8, 54, tzinfo=tzlocal()), 'SubmitTime': datetime.datetime(2022, 11, 20, 17, 20, 47, tzinfo=tzlocal()), 'Answer': '<?xml version=\"1.0\" encoding=\"ASCII\"?><QuestionFormAnswers xmlns=\"http://mechanicalturk.amazonaws.com/AWSMechanicalTurkDataSchemas/2005-10-01/QuestionFormAnswers.xsd\"><Answer><QuestionIdentifier>surveyCode</QuestionIdentifier><FreeText>78377186</FreeText></Answer></QuestionFormAnswers>'}\n",
      "Status: Submitted\n",
      "Approved assignment 3U8YCDAGXQH3U0I8DG5HBL2G54J0Q5\n",
      "{'ResponseMetadata': {'RequestId': 'eefd4b87-af86-409e-b488-a9600b1db078', 'HTTPStatusCode': 200, 'HTTPHeaders': {'x-amzn-requestid': 'eefd4b87-af86-409e-b488-a9600b1db078', 'content-type': 'application/x-amz-json-1.1', 'content-length': '2', 'date': 'Tue, 22 Nov 2022 19:43:49 GMT'}, 'RetryAttempts': 0}}\n",
      "HIT #41: Custom workplace survey HIT for worker id A2HBOFYZKSMN1Z, created 2022-11-21 15:21:19-08:00\n",
      "{'AssignmentId': '3QILPRALQ6W09SAJSSQF06DTJYV8NE', 'WorkerId': 'A2HBOFYZKSMN1Z', 'HITId': '3XAOZ9UYR0S0E55WJX4F16PY702Q1Q', 'AssignmentStatus': 'Submitted', 'AutoApprovalTime': datetime.datetime(2022, 12, 21, 15, 47, 55, tzinfo=tzlocal()), 'AcceptTime': datetime.datetime(2022, 11, 21, 15, 22, 37, tzinfo=tzlocal()), 'SubmitTime': datetime.datetime(2022, 11, 21, 15, 47, 55, tzinfo=tzlocal()), 'Answer': '<?xml version=\"1.0\" encoding=\"ASCII\"?><QuestionFormAnswers xmlns=\"http://mechanicalturk.amazonaws.com/AWSMechanicalTurkDataSchemas/2005-10-01/QuestionFormAnswers.xsd\"><Answer><QuestionIdentifier>surveyCode</QuestionIdentifier><FreeText>33218512</FreeText></Answer></QuestionFormAnswers>'}\n",
      "Status: Submitted\n",
      "Approved assignment 3QILPRALQ6W09SAJSSQF06DTJYV8NE\n",
      "{'ResponseMetadata': {'RequestId': 'a2b06736-ae1c-422c-858a-52e07b781f03', 'HTTPStatusCode': 200, 'HTTPHeaders': {'x-amzn-requestid': 'a2b06736-ae1c-422c-858a-52e07b781f03', 'content-type': 'application/x-amz-json-1.1', 'content-length': '2', 'date': 'Tue, 22 Nov 2022 19:43:50 GMT'}, 'RetryAttempts': 0}}\n",
      "HIT #42: Custom workplace survey HIT for worker id A2IBBX3ZHMES6Y, created 2022-11-20 17:07:50-08:00\n",
      "{'AssignmentId': '3EFE17QCRD6QIG3H3S17CDGY99DHSK', 'WorkerId': 'A2IBBX3ZHMES6Y', 'HITId': '30OITAWPBR45QH9O4KWE7YFGEPC9H4', 'AssignmentStatus': 'Submitted', 'AutoApprovalTime': datetime.datetime(2022, 12, 20, 20, 10, 54, tzinfo=tzlocal()), 'AcceptTime': datetime.datetime(2022, 11, 20, 19, 54, 28, tzinfo=tzlocal()), 'SubmitTime': datetime.datetime(2022, 11, 20, 20, 10, 54, tzinfo=tzlocal()), 'Answer': '<?xml version=\"1.0\" encoding=\"ASCII\"?><QuestionFormAnswers xmlns=\"http://mechanicalturk.amazonaws.com/AWSMechanicalTurkDataSchemas/2005-10-01/QuestionFormAnswers.xsd\"><Answer><QuestionIdentifier>surveyCode</QuestionIdentifier><FreeText>59591983</FreeText></Answer></QuestionFormAnswers>'}\n",
      "Status: Submitted\n",
      "Approved assignment 3EFE17QCRD6QIG3H3S17CDGY99DHSK\n",
      "{'ResponseMetadata': {'RequestId': '7f609e6d-f0f8-48ff-a2e8-3212a3b5677d', 'HTTPStatusCode': 200, 'HTTPHeaders': {'x-amzn-requestid': '7f609e6d-f0f8-48ff-a2e8-3212a3b5677d', 'content-type': 'application/x-amz-json-1.1', 'content-length': '2', 'date': 'Tue, 22 Nov 2022 19:43:50 GMT'}, 'RetryAttempts': 0}}\n",
      "HIT #43: Custom workplace survey HIT for worker id A2IC4IMH7G9UKU, created 2022-11-20 16:35:25-08:00\n",
      "Custom HIT not yet submitted\n",
      "HIT #44: Custom workplace survey HIT for worker id A2LEY4X3LD8G26, created 2022-11-20 16:35:25-08:00\n",
      "{'AssignmentId': '3AMW0RGHOE3LFK90E9SQMS8J81BNPF', 'WorkerId': 'A2LEY4X3LD8G26', 'HITId': '3S8A4GJRD44NQZ2AB2A62PFNW3F6VG', 'AssignmentStatus': 'Submitted', 'AutoApprovalTime': datetime.datetime(2022, 12, 20, 18, 19, 51, tzinfo=tzlocal()), 'AcceptTime': datetime.datetime(2022, 11, 20, 18, 13, 17, tzinfo=tzlocal()), 'SubmitTime': datetime.datetime(2022, 11, 20, 18, 19, 51, tzinfo=tzlocal()), 'Answer': '<?xml version=\"1.0\" encoding=\"ASCII\"?><QuestionFormAnswers xmlns=\"http://mechanicalturk.amazonaws.com/AWSMechanicalTurkDataSchemas/2005-10-01/QuestionFormAnswers.xsd\"><Answer><QuestionIdentifier>surveyCode</QuestionIdentifier><FreeText>33695079</FreeText></Answer></QuestionFormAnswers>'}\n",
      "Status: Submitted\n",
      "Approved assignment 3AMW0RGHOE3LFK90E9SQMS8J81BNPF\n",
      "{'ResponseMetadata': {'RequestId': '5b3c0417-a7eb-47c4-b2ad-216a46cbd1f7', 'HTTPStatusCode': 200, 'HTTPHeaders': {'x-amzn-requestid': '5b3c0417-a7eb-47c4-b2ad-216a46cbd1f7', 'content-type': 'application/x-amz-json-1.1', 'content-length': '2', 'date': 'Tue, 22 Nov 2022 19:43:51 GMT'}, 'RetryAttempts': 0}}\n",
      "HIT #45: Custom workplace survey HIT for worker id A2MRPQ443DP4RJ, created 2022-11-20 17:07:54-08:00\n",
      "{'AssignmentId': '317HQ483I8TTYYMW1E26DV77MNDINV', 'WorkerId': 'A2MRPQ443DP4RJ', 'HITId': '3UZUVSO3P8W8DR1G3SSDRHONM8RME0', 'AssignmentStatus': 'Submitted', 'AutoApprovalTime': datetime.datetime(2022, 12, 20, 18, 5, 33, tzinfo=tzlocal()), 'AcceptTime': datetime.datetime(2022, 11, 20, 17, 9, 40, tzinfo=tzlocal()), 'SubmitTime': datetime.datetime(2022, 11, 20, 18, 5, 33, tzinfo=tzlocal()), 'Answer': '<?xml version=\"1.0\" encoding=\"ASCII\"?><QuestionFormAnswers xmlns=\"http://mechanicalturk.amazonaws.com/AWSMechanicalTurkDataSchemas/2005-10-01/QuestionFormAnswers.xsd\"><Answer><QuestionIdentifier>surveyCode</QuestionIdentifier><FreeText>58578396</FreeText></Answer></QuestionFormAnswers>'}\n",
      "Status: Submitted\n",
      "Approved assignment 317HQ483I8TTYYMW1E26DV77MNDINV\n",
      "{'ResponseMetadata': {'RequestId': 'd1c8610c-e7ae-4fe7-9be7-dbe8a319459c', 'HTTPStatusCode': 200, 'HTTPHeaders': {'x-amzn-requestid': 'd1c8610c-e7ae-4fe7-9be7-dbe8a319459c', 'content-type': 'application/x-amz-json-1.1', 'content-length': '2', 'date': 'Tue, 22 Nov 2022 19:43:51 GMT'}, 'RetryAttempts': 0}}\n",
      "HIT #46: Custom workplace survey HIT for worker id A2N3QPZQKB5TNH, created 2022-11-20 17:07:50-08:00\n",
      "{'AssignmentId': '3HFNH7HEMIF054TTRIUKWDPWCL8GQO', 'WorkerId': 'A2N3QPZQKB5TNH', 'HITId': '3T8DUCXY0O7VVQ0J4ED3LHI4PJ7T9Y', 'AssignmentStatus': 'Submitted', 'AutoApprovalTime': datetime.datetime(2022, 12, 20, 18, 4, 6, tzinfo=tzlocal()), 'AcceptTime': datetime.datetime(2022, 11, 20, 17, 9, 43, tzinfo=tzlocal()), 'SubmitTime': datetime.datetime(2022, 11, 20, 18, 4, 6, tzinfo=tzlocal()), 'Answer': '<?xml version=\"1.0\" encoding=\"ASCII\"?><QuestionFormAnswers xmlns=\"http://mechanicalturk.amazonaws.com/AWSMechanicalTurkDataSchemas/2005-10-01/QuestionFormAnswers.xsd\"><Answer><QuestionIdentifier>surveyCode</QuestionIdentifier><FreeText>63076098</FreeText></Answer></QuestionFormAnswers>'}\n",
      "Status: Submitted\n",
      "Approved assignment 3HFNH7HEMIF054TTRIUKWDPWCL8GQO\n",
      "{'ResponseMetadata': {'RequestId': 'dff75318-e382-4ea8-a64a-df04e8a47ae8', 'HTTPStatusCode': 200, 'HTTPHeaders': {'x-amzn-requestid': 'dff75318-e382-4ea8-a64a-df04e8a47ae8', 'content-type': 'application/x-amz-json-1.1', 'content-length': '2', 'date': 'Tue, 22 Nov 2022 19:43:52 GMT'}, 'RetryAttempts': 0}}\n",
      "HIT #47: Custom workplace survey HIT for worker id A2NU82V08QSPCC, created 2022-11-21 15:21:24-08:00\n",
      "Custom HIT not yet submitted\n",
      "HIT #48: Custom workplace survey HIT for worker id A2T4QOZGI3CYYP, created 2022-11-20 17:07:54-08:00\n",
      "{'AssignmentId': '3WT783CTPCI0KMBZ6E1BBX9ISTMCB5', 'WorkerId': 'A2T4QOZGI3CYYP', 'HITId': '3OB6JN3A9RQXMV6LPYCDQON61XHRMI', 'AssignmentStatus': 'Submitted', 'AutoApprovalTime': datetime.datetime(2022, 12, 20, 19, 54, 3, tzinfo=tzlocal()), 'AcceptTime': datetime.datetime(2022, 11, 20, 19, 46, 25, tzinfo=tzlocal()), 'SubmitTime': datetime.datetime(2022, 11, 20, 19, 54, 3, tzinfo=tzlocal()), 'Answer': '<?xml version=\"1.0\" encoding=\"ASCII\"?><QuestionFormAnswers xmlns=\"http://mechanicalturk.amazonaws.com/AWSMechanicalTurkDataSchemas/2005-10-01/QuestionFormAnswers.xsd\"><Answer><QuestionIdentifier>surveyCode</QuestionIdentifier><FreeText>66564317</FreeText></Answer></QuestionFormAnswers>'}\n",
      "Status: Submitted\n",
      "Approved assignment 3WT783CTPCI0KMBZ6E1BBX9ISTMCB5\n",
      "{'ResponseMetadata': {'RequestId': '0aae3642-571b-4236-a68a-a0b30ce3fc81', 'HTTPStatusCode': 200, 'HTTPHeaders': {'x-amzn-requestid': '0aae3642-571b-4236-a68a-a0b30ce3fc81', 'content-type': 'application/x-amz-json-1.1', 'content-length': '2', 'date': 'Tue, 22 Nov 2022 19:43:52 GMT'}, 'RetryAttempts': 0}}\n",
      "HIT #49: Custom workplace survey HIT for worker id A2TDK0LD62WZ8Y, created 2022-11-20 16:35:11-08:00\n",
      "Custom HIT not yet submitted\n",
      "HIT #50: Custom workplace survey HIT for worker id A2VN08AKS2M0V8, created 2022-11-20 16:41:59-08:00\n",
      "Custom HIT not yet submitted\n",
      "HIT #51: Custom workplace survey HIT for worker id A2Y0VM8BAF0RMT, created 2022-11-21 15:21:34-08:00\n",
      "Custom HIT not yet submitted\n",
      "HIT #52: Custom workplace survey HIT for worker id A305FX1US12XAU, created 2022-11-20 17:07:53-08:00\n",
      "{'AssignmentId': '33F859I567ER1UMFS6FCMO6Y5LKBH6', 'WorkerId': 'A305FX1US12XAU', 'HITId': '32204AGAACDK5RWWIQ2OZF13I27HG3', 'AssignmentStatus': 'Submitted', 'AutoApprovalTime': datetime.datetime(2022, 12, 20, 18, 4, 15, tzinfo=tzlocal()), 'AcceptTime': datetime.datetime(2022, 11, 20, 17, 9, 14, tzinfo=tzlocal()), 'SubmitTime': datetime.datetime(2022, 11, 20, 18, 4, 15, tzinfo=tzlocal()), 'Answer': '<?xml version=\"1.0\" encoding=\"ASCII\"?><QuestionFormAnswers xmlns=\"http://mechanicalturk.amazonaws.com/AWSMechanicalTurkDataSchemas/2005-10-01/QuestionFormAnswers.xsd\"><Answer><QuestionIdentifier>surveyCode</QuestionIdentifier><FreeText>13417990</FreeText></Answer></QuestionFormAnswers>'}\n",
      "Status: Submitted\n",
      "Approved assignment 33F859I567ER1UMFS6FCMO6Y5LKBH6\n",
      "{'ResponseMetadata': {'RequestId': '551cc5dd-dab3-49f9-8a81-64e07eb044c1', 'HTTPStatusCode': 200, 'HTTPHeaders': {'x-amzn-requestid': '551cc5dd-dab3-49f9-8a81-64e07eb044c1', 'content-type': 'application/x-amz-json-1.1', 'content-length': '2', 'date': 'Tue, 22 Nov 2022 19:43:53 GMT'}, 'RetryAttempts': 0}}\n",
      "HIT #53: Custom workplace survey HIT for worker id A31VBYKT62SBGY, created 2022-11-21 15:21:23-08:00\n",
      "{'AssignmentId': '3OS4RQUCRAG7NYV9XGRCJ3ULPD8FBR', 'WorkerId': 'A31VBYKT62SBGY', 'HITId': '32204AGAACDK5RWWIQ2OZF13I2PGHK', 'AssignmentStatus': 'Submitted', 'AutoApprovalTime': datetime.datetime(2022, 12, 21, 17, 43, 12, tzinfo=tzlocal()), 'AcceptTime': datetime.datetime(2022, 11, 21, 17, 22, 47, tzinfo=tzlocal()), 'SubmitTime': datetime.datetime(2022, 11, 21, 17, 43, 12, tzinfo=tzlocal()), 'Answer': '<?xml version=\"1.0\" encoding=\"ASCII\"?><QuestionFormAnswers xmlns=\"http://mechanicalturk.amazonaws.com/AWSMechanicalTurkDataSchemas/2005-10-01/QuestionFormAnswers.xsd\"><Answer><QuestionIdentifier>surveyCode</QuestionIdentifier><FreeText>83122999</FreeText></Answer></QuestionFormAnswers>'}\n",
      "Status: Submitted\n",
      "Approved assignment 3OS4RQUCRAG7NYV9XGRCJ3ULPD8FBR\n",
      "{'ResponseMetadata': {'RequestId': 'b98d2a1a-a292-4f41-a7f8-b660a2c3a28a', 'HTTPStatusCode': 200, 'HTTPHeaders': {'x-amzn-requestid': 'b98d2a1a-a292-4f41-a7f8-b660a2c3a28a', 'content-type': 'application/x-amz-json-1.1', 'content-length': '2', 'date': 'Tue, 22 Nov 2022 19:43:54 GMT'}, 'RetryAttempts': 0}}\n",
      "HIT #54: Custom workplace survey HIT for worker id A32BQNJMLMZYG0, created 2022-11-20 16:35:38-08:00\n",
      "Custom HIT not yet submitted\n",
      "HIT #55: Custom workplace survey HIT for worker id A32WTSTT7OU89Q, created 2022-11-20 17:07:49-08:00\n",
      "{'AssignmentId': '3TPWUS5F8A2S8P9A15X7YBM32U2CWJ', 'WorkerId': 'A32WTSTT7OU89Q', 'HITId': '35U0MRQMUK8DF58EBYW0JP1EH39OVN', 'AssignmentStatus': 'Submitted', 'AutoApprovalTime': datetime.datetime(2022, 12, 20, 19, 5, 39, tzinfo=tzlocal()), 'AcceptTime': datetime.datetime(2022, 11, 20, 18, 49, 24, tzinfo=tzlocal()), 'SubmitTime': datetime.datetime(2022, 11, 20, 19, 5, 39, tzinfo=tzlocal()), 'Answer': '<?xml version=\"1.0\" encoding=\"ASCII\"?><QuestionFormAnswers xmlns=\"http://mechanicalturk.amazonaws.com/AWSMechanicalTurkDataSchemas/2005-10-01/QuestionFormAnswers.xsd\"><Answer><QuestionIdentifier>surveyCode</QuestionIdentifier><FreeText>57088919</FreeText></Answer></QuestionFormAnswers>'}\n",
      "Status: Submitted\n",
      "Approved assignment 3TPWUS5F8A2S8P9A15X7YBM32U2CWJ\n",
      "{'ResponseMetadata': {'RequestId': '92c558b3-e2c2-4403-a045-f2323e2f1dd9', 'HTTPStatusCode': 200, 'HTTPHeaders': {'x-amzn-requestid': '92c558b3-e2c2-4403-a045-f2323e2f1dd9', 'content-type': 'application/x-amz-json-1.1', 'content-length': '2', 'date': 'Tue, 22 Nov 2022 19:43:54 GMT'}, 'RetryAttempts': 0}}\n",
      "HIT #56: Custom workplace survey HIT for worker id A330FMI751KNPC, created 2022-11-20 16:35:13-08:00\n",
      "Custom HIT not yet submitted\n",
      "HIT #57: Custom workplace survey HIT for worker id A33F04W4EVT4GK, created 2022-11-20 16:35:41-08:00\n",
      "Custom HIT not yet submitted\n",
      "HIT #58: Custom workplace survey HIT for worker id A33QI63NVR8CUO, created 2022-11-20 16:35:07-08:00\n",
      "{'AssignmentId': '3COPXFW7XCDK7EOXHW0AU0RFEDQPKA', 'WorkerId': 'A33QI63NVR8CUO', 'HITId': '3O4VWC1GEX7F2LFYBBYPSYS9RP6J32', 'AssignmentStatus': 'Submitted', 'AutoApprovalTime': datetime.datetime(2022, 12, 21, 15, 51, 3, tzinfo=tzlocal()), 'AcceptTime': datetime.datetime(2022, 11, 21, 15, 25, 46, tzinfo=tzlocal()), 'SubmitTime': datetime.datetime(2022, 11, 21, 15, 51, 3, tzinfo=tzlocal()), 'Answer': '<?xml version=\"1.0\" encoding=\"ASCII\"?><QuestionFormAnswers xmlns=\"http://mechanicalturk.amazonaws.com/AWSMechanicalTurkDataSchemas/2005-10-01/QuestionFormAnswers.xsd\"><Answer><QuestionIdentifier>surveyCode</QuestionIdentifier><FreeText>11289321</FreeText></Answer></QuestionFormAnswers>'}\n",
      "Status: Submitted\n",
      "Approved assignment 3COPXFW7XCDK7EOXHW0AU0RFEDQPKA\n",
      "{'ResponseMetadata': {'RequestId': '081d5198-f9f6-43bc-9249-94ca0e07fb20', 'HTTPStatusCode': 200, 'HTTPHeaders': {'x-amzn-requestid': '081d5198-f9f6-43bc-9249-94ca0e07fb20', 'content-type': 'application/x-amz-json-1.1', 'content-length': '2', 'date': 'Tue, 22 Nov 2022 19:43:55 GMT'}, 'RetryAttempts': 0}}\n",
      "HIT #59: Custom workplace survey HIT for worker id A36WGC00R5TWWB, created 2022-11-21 15:21:18-08:00\n",
      "Custom HIT not yet submitted\n",
      "HIT #60: Custom workplace survey HIT for worker id A3A8P4UR9A0DWQ, created 2022-11-20 16:35:35-08:00\n",
      "Custom HIT not yet submitted\n",
      "HIT #61: Custom workplace survey HIT for worker id A3AN5NG00BCMBP, created 2022-11-20 16:35:12-08:00\n",
      "Custom HIT not yet submitted\n",
      "HIT #62: Custom workplace survey HIT for worker id A3DIWJ5LY4JD1B, created 2022-11-20 16:41:55-08:00\n",
      "{'AssignmentId': '3TOK3KHVJUJERZ5CJ2YM1VH3YH6O7K', 'WorkerId': 'A3DIWJ5LY4JD1B', 'HITId': '344M16OZKJGEV9MGFT7D4WDNRY1ENS', 'AssignmentStatus': 'Submitted', 'AutoApprovalTime': datetime.datetime(2022, 12, 20, 17, 18, 31, tzinfo=tzlocal()), 'AcceptTime': datetime.datetime(2022, 11, 20, 16, 45, tzinfo=tzlocal()), 'SubmitTime': datetime.datetime(2022, 11, 20, 17, 18, 31, tzinfo=tzlocal()), 'Answer': '<?xml version=\"1.0\" encoding=\"ASCII\"?><QuestionFormAnswers xmlns=\"http://mechanicalturk.amazonaws.com/AWSMechanicalTurkDataSchemas/2005-10-01/QuestionFormAnswers.xsd\"><Answer><QuestionIdentifier>surveyCode</QuestionIdentifier><FreeText>71486712</FreeText></Answer></QuestionFormAnswers>'}\n",
      "Status: Submitted\n",
      "Approved assignment 3TOK3KHVJUJERZ5CJ2YM1VH3YH6O7K\n",
      "{'ResponseMetadata': {'RequestId': '508cfffd-dd40-4953-bf7e-474ae4d399b4', 'HTTPStatusCode': 200, 'HTTPHeaders': {'x-amzn-requestid': '508cfffd-dd40-4953-bf7e-474ae4d399b4', 'content-type': 'application/x-amz-json-1.1', 'content-length': '2', 'date': 'Tue, 22 Nov 2022 19:43:56 GMT'}, 'RetryAttempts': 0}}\n",
      "HIT #63: Custom workplace survey HIT for worker id A3DP9IH8W5OXJL, created 2022-11-20 16:35:29-08:00\n",
      "{'AssignmentId': '3TPWUS5F8A2S8P9A15X7YBM32UZWC0', 'WorkerId': 'A3DP9IH8W5OXJL', 'HITId': '3BPP3MA3TDLO79JV3GRYR49YM31ELQ', 'AssignmentStatus': 'Submitted', 'AutoApprovalTime': datetime.datetime(2022, 12, 20, 18, 22, 5, tzinfo=tzlocal()), 'AcceptTime': datetime.datetime(2022, 11, 20, 17, 59, 22, tzinfo=tzlocal()), 'SubmitTime': datetime.datetime(2022, 11, 20, 18, 22, 5, tzinfo=tzlocal()), 'Answer': '<?xml version=\"1.0\" encoding=\"ASCII\"?><QuestionFormAnswers xmlns=\"http://mechanicalturk.amazonaws.com/AWSMechanicalTurkDataSchemas/2005-10-01/QuestionFormAnswers.xsd\"><Answer><QuestionIdentifier>surveyCode</QuestionIdentifier><FreeText>77667904</FreeText></Answer></QuestionFormAnswers>'}\n",
      "Status: Submitted\n",
      "Approved assignment 3TPWUS5F8A2S8P9A15X7YBM32UZWC0\n",
      "{'ResponseMetadata': {'RequestId': 'd15da16d-6deb-40f5-aa84-d622410d3e81', 'HTTPStatusCode': 200, 'HTTPHeaders': {'x-amzn-requestid': 'd15da16d-6deb-40f5-aa84-d622410d3e81', 'content-type': 'application/x-amz-json-1.1', 'content-length': '2', 'date': 'Tue, 22 Nov 2022 19:43:56 GMT'}, 'RetryAttempts': 0}}\n",
      "HIT #64: Custom workplace survey HIT for worker id A3ENQKD0V9VHBF, created 2022-11-20 16:35:09-08:00\n",
      "Custom HIT not yet submitted\n",
      "HIT #65: Custom workplace survey HIT for worker id A3FUDUZVJAENVE, created 2022-11-20 16:35:15-08:00\n",
      "{'AssignmentId': '3A1COHJ8NKW8ZWO8PUV2VMGXXFY8H3', 'WorkerId': 'A3FUDUZVJAENVE', 'HITId': '3BDORL6HKLEKD9UUC9IZNSIU7JDRC0', 'AssignmentStatus': 'Approved', 'AutoApprovalTime': datetime.datetime(2022, 12, 20, 16, 54, 52, tzinfo=tzlocal()), 'AcceptTime': datetime.datetime(2022, 11, 20, 16, 40, 15, tzinfo=tzlocal()), 'SubmitTime': datetime.datetime(2022, 11, 20, 16, 54, 52, tzinfo=tzlocal()), 'ApprovalTime': datetime.datetime(2022, 11, 20, 16, 59, 38, tzinfo=tzlocal()), 'Answer': '<?xml version=\"1.0\" encoding=\"ASCII\"?><QuestionFormAnswers xmlns=\"http://mechanicalturk.amazonaws.com/AWSMechanicalTurkDataSchemas/2005-10-01/QuestionFormAnswers.xsd\"><Answer><QuestionIdentifier>surveyCode</QuestionIdentifier><FreeText>73539158</FreeText></Answer></QuestionFormAnswers>'}\n",
      "HIT #66: Custom workplace survey HIT for worker id A3HCQGTFEZGEEF, created 2022-11-20 16:35:23-08:00\n",
      "Custom HIT not yet submitted\n",
      "HIT #67: Custom workplace survey HIT for worker id A3L9EN8YL1HZWF, created 2022-11-21 15:21:38-08:00\n",
      "Custom HIT not yet submitted\n",
      "HIT #68: Custom workplace survey HIT for worker id A3MJSYSWX0Q4WQ, created 2022-11-20 16:35:19-08:00\n",
      "{'AssignmentId': '30H4UDGLT3JFX2O028DQ9DJJ3CPMP4', 'WorkerId': 'A3MJSYSWX0Q4WQ', 'HITId': '39I4RL8QGKI4TB3CNP0NQQ40SXYH4G', 'AssignmentStatus': 'Submitted', 'AutoApprovalTime': datetime.datetime(2022, 12, 21, 4, 42, 29, tzinfo=tzlocal()), 'AcceptTime': datetime.datetime(2022, 11, 21, 4, 31, 17, tzinfo=tzlocal()), 'SubmitTime': datetime.datetime(2022, 11, 21, 4, 42, 29, tzinfo=tzlocal()), 'Answer': '<?xml version=\"1.0\" encoding=\"ASCII\"?><QuestionFormAnswers xmlns=\"http://mechanicalturk.amazonaws.com/AWSMechanicalTurkDataSchemas/2005-10-01/QuestionFormAnswers.xsd\"><Answer><QuestionIdentifier>surveyCode</QuestionIdentifier><FreeText>28341403</FreeText></Answer></QuestionFormAnswers>'}\n",
      "Status: Submitted\n",
      "Approved assignment 30H4UDGLT3JFX2O028DQ9DJJ3CPMP4\n",
      "{'ResponseMetadata': {'RequestId': '65eb3e69-5eaf-4a9a-9afb-630c75b38579', 'HTTPStatusCode': 200, 'HTTPHeaders': {'x-amzn-requestid': '65eb3e69-5eaf-4a9a-9afb-630c75b38579', 'content-type': 'application/x-amz-json-1.1', 'content-length': '2', 'date': 'Tue, 22 Nov 2022 19:43:57 GMT'}, 'RetryAttempts': 0}}\n",
      "HIT #69: Custom workplace survey HIT for worker id A3O65XXK50TRZG, created 2022-11-20 17:07:52-08:00\n",
      "{'AssignmentId': '3ZAK8W07I5FVMTPPUPPMLMZ58PP0UA', 'WorkerId': 'A3O65XXK50TRZG', 'HITId': '3511RHPADWFDGDO0PMBYQB8H1SRRLG', 'AssignmentStatus': 'Submitted', 'AutoApprovalTime': datetime.datetime(2022, 12, 20, 18, 5, 49, tzinfo=tzlocal()), 'AcceptTime': datetime.datetime(2022, 11, 20, 17, 9, 54, tzinfo=tzlocal()), 'SubmitTime': datetime.datetime(2022, 11, 20, 18, 5, 49, tzinfo=tzlocal()), 'Answer': '<?xml version=\"1.0\" encoding=\"ASCII\"?><QuestionFormAnswers xmlns=\"http://mechanicalturk.amazonaws.com/AWSMechanicalTurkDataSchemas/2005-10-01/QuestionFormAnswers.xsd\"><Answer><QuestionIdentifier>surveyCode</QuestionIdentifier><FreeText>52200644</FreeText></Answer></QuestionFormAnswers>'}\n",
      "Status: Submitted\n",
      "Approved assignment 3ZAK8W07I5FVMTPPUPPMLMZ58PP0UA\n",
      "{'ResponseMetadata': {'RequestId': '314f70c7-4c65-4bee-bbca-ba4e10745871', 'HTTPStatusCode': 200, 'HTTPHeaders': {'x-amzn-requestid': '314f70c7-4c65-4bee-bbca-ba4e10745871', 'content-type': 'application/x-amz-json-1.1', 'content-length': '2', 'date': 'Tue, 22 Nov 2022 19:43:57 GMT'}, 'RetryAttempts': 0}}\n",
      "HIT #70: Custom workplace survey HIT for worker id A3RC46ZOZAEL9V, created 2022-11-20 16:35:24-08:00\n",
      "Custom HIT not yet submitted\n",
      "HIT #71: Custom workplace survey HIT for worker id A3S2R1NK6HZ9KP, created 2022-11-21 15:21:39-08:00\n",
      "Custom HIT not yet submitted\n",
      "HIT #72: Custom workplace survey HIT for worker id A3TDA1NWHNQFE3, created 2022-11-20 16:35:05-08:00\n",
      "{'AssignmentId': '35BLDD71I7YS1TKF39CJN74A43OZVX', 'WorkerId': 'A3TDA1NWHNQFE3', 'HITId': '3L7SUC0TTVV9M1MMVLTY6SMJS7HM0E', 'AssignmentStatus': 'Submitted', 'AutoApprovalTime': datetime.datetime(2022, 12, 20, 20, 17, 54, tzinfo=tzlocal()), 'AcceptTime': datetime.datetime(2022, 11, 20, 19, 55, 41, tzinfo=tzlocal()), 'SubmitTime': datetime.datetime(2022, 11, 20, 20, 17, 54, tzinfo=tzlocal()), 'Answer': '<?xml version=\"1.0\" encoding=\"ASCII\"?><QuestionFormAnswers xmlns=\"http://mechanicalturk.amazonaws.com/AWSMechanicalTurkDataSchemas/2005-10-01/QuestionFormAnswers.xsd\"><Answer><QuestionIdentifier>surveyCode</QuestionIdentifier><FreeText>86206712</FreeText></Answer></QuestionFormAnswers>'}\n",
      "Status: Submitted\n",
      "Approved assignment 35BLDD71I7YS1TKF39CJN74A43OZVX\n",
      "{'ResponseMetadata': {'RequestId': 'bab3ee6a-fda0-4a33-aab8-e0a3e415f5f6', 'HTTPStatusCode': 200, 'HTTPHeaders': {'x-amzn-requestid': 'bab3ee6a-fda0-4a33-aab8-e0a3e415f5f6', 'content-type': 'application/x-amz-json-1.1', 'content-length': '2', 'date': 'Tue, 22 Nov 2022 19:43:58 GMT'}, 'RetryAttempts': 0}}\n",
      "HIT #73: Custom workplace survey HIT for worker id A402OOIWWS0JF, created 2022-11-21 15:21:27-08:00\n",
      "{'AssignmentId': '3TGOYF991YNB2F15SW36ATNCOLHUU9', 'WorkerId': 'A402OOIWWS0JF', 'HITId': '3B623HUYJ5RU2L4UAM2ZBGR73UT8SH', 'AssignmentStatus': 'Submitted', 'AutoApprovalTime': datetime.datetime(2022, 12, 21, 15, 58, 58, tzinfo=tzlocal()), 'AcceptTime': datetime.datetime(2022, 11, 21, 15, 34, 26, tzinfo=tzlocal()), 'SubmitTime': datetime.datetime(2022, 11, 21, 15, 58, 58, tzinfo=tzlocal()), 'Answer': '<?xml version=\"1.0\" encoding=\"ASCII\"?><QuestionFormAnswers xmlns=\"http://mechanicalturk.amazonaws.com/AWSMechanicalTurkDataSchemas/2005-10-01/QuestionFormAnswers.xsd\"><Answer><QuestionIdentifier>surveyCode</QuestionIdentifier><FreeText>63122866</FreeText></Answer></QuestionFormAnswers>'}\n",
      "Status: Submitted\n",
      "Approved assignment 3TGOYF991YNB2F15SW36ATNCOLHUU9\n",
      "{'ResponseMetadata': {'RequestId': '697fc308-24c6-4a15-8dbe-449f1e66681f', 'HTTPStatusCode': 200, 'HTTPHeaders': {'x-amzn-requestid': '697fc308-24c6-4a15-8dbe-449f1e66681f', 'content-type': 'application/x-amz-json-1.1', 'content-length': '2', 'date': 'Tue, 22 Nov 2022 19:43:58 GMT'}, 'RetryAttempts': 0}}\n",
      "HIT #74: Custom workplace survey HIT for worker id A4PUOAFLUOQW4, created 2022-11-20 16:35:26-08:00\n",
      "Custom HIT not yet submitted\n",
      "HIT #75: Custom workplace survey HIT for worker id A63QNYB26OEZN, created 2022-11-20 16:35:26-08:00\n",
      "{'AssignmentId': '33OOO72IVIM0G85G60SWBRF4Y78CTV', 'WorkerId': 'A63QNYB26OEZN', 'HITId': '3TFJJUELSIQ39PD9XJ3YMKAMVRXC26', 'AssignmentStatus': 'Submitted', 'AutoApprovalTime': datetime.datetime(2022, 12, 21, 16, 23, 32, tzinfo=tzlocal()), 'AcceptTime': datetime.datetime(2022, 11, 21, 16, 6, 14, tzinfo=tzlocal()), 'SubmitTime': datetime.datetime(2022, 11, 21, 16, 23, 32, tzinfo=tzlocal()), 'Answer': '<?xml version=\"1.0\" encoding=\"ASCII\"?><QuestionFormAnswers xmlns=\"http://mechanicalturk.amazonaws.com/AWSMechanicalTurkDataSchemas/2005-10-01/QuestionFormAnswers.xsd\"><Answer><QuestionIdentifier>surveyCode</QuestionIdentifier><FreeText>18894893</FreeText></Answer></QuestionFormAnswers>'}\n",
      "Status: Submitted\n",
      "Approved assignment 33OOO72IVIM0G85G60SWBRF4Y78CTV\n",
      "{'ResponseMetadata': {'RequestId': '5acd7a98-1d71-45a1-9522-1c8fc342d30b', 'HTTPStatusCode': 200, 'HTTPHeaders': {'x-amzn-requestid': '5acd7a98-1d71-45a1-9522-1c8fc342d30b', 'content-type': 'application/x-amz-json-1.1', 'content-length': '2', 'date': 'Tue, 22 Nov 2022 19:44:00 GMT'}, 'RetryAttempts': 0}}\n",
      "HIT #76: Custom workplace survey HIT for worker id A6NQQ3B2734MU, created 2022-11-20 16:35:16-08:00\n",
      "{'AssignmentId': '3TXD01ZLD5ICLH7QDQCOXPPIP1KU4Z', 'WorkerId': 'A6NQQ3B2734MU', 'HITId': '3RDTX9JRTZ28XS3CRBA2GLQM0MG972', 'AssignmentStatus': 'Submitted', 'AutoApprovalTime': datetime.datetime(2022, 12, 20, 21, 22, 43, tzinfo=tzlocal()), 'AcceptTime': datetime.datetime(2022, 11, 20, 21, 5, 16, tzinfo=tzlocal()), 'SubmitTime': datetime.datetime(2022, 11, 20, 21, 22, 43, tzinfo=tzlocal()), 'Answer': '<?xml version=\"1.0\" encoding=\"ASCII\"?><QuestionFormAnswers xmlns=\"http://mechanicalturk.amazonaws.com/AWSMechanicalTurkDataSchemas/2005-10-01/QuestionFormAnswers.xsd\"><Answer><QuestionIdentifier>surveyCode</QuestionIdentifier><FreeText>24426814</FreeText></Answer></QuestionFormAnswers>'}\n",
      "Status: Submitted\n",
      "Approved assignment 3TXD01ZLD5ICLH7QDQCOXPPIP1KU4Z\n",
      "{'ResponseMetadata': {'RequestId': '5815c98c-fc8f-41a4-83d7-eb30abd76576', 'HTTPStatusCode': 200, 'HTTPHeaders': {'x-amzn-requestid': '5815c98c-fc8f-41a4-83d7-eb30abd76576', 'content-type': 'application/x-amz-json-1.1', 'content-length': '2', 'date': 'Tue, 22 Nov 2022 19:44:00 GMT'}, 'RetryAttempts': 0}}\n",
      "HIT #77: Custom workplace survey HIT for worker id A87N9I8GBOYS6, created 2022-11-20 16:35:32-08:00\n",
      "{'AssignmentId': '3MB8LZR5BGUUGT9ZP473DJIV9W1KL5', 'WorkerId': 'A87N9I8GBOYS6', 'HITId': '3F6045TU7EPCBBR5688MUHHSVC499E', 'AssignmentStatus': 'Submitted', 'AutoApprovalTime': datetime.datetime(2022, 12, 20, 17, 26, 13, tzinfo=tzlocal()), 'AcceptTime': datetime.datetime(2022, 11, 20, 16, 40, 28, tzinfo=tzlocal()), 'SubmitTime': datetime.datetime(2022, 11, 20, 17, 26, 13, tzinfo=tzlocal()), 'Answer': '<?xml version=\"1.0\" encoding=\"ASCII\"?><QuestionFormAnswers xmlns=\"http://mechanicalturk.amazonaws.com/AWSMechanicalTurkDataSchemas/2005-10-01/QuestionFormAnswers.xsd\"><Answer><QuestionIdentifier>surveyCode</QuestionIdentifier><FreeText>81802267</FreeText></Answer></QuestionFormAnswers>'}\n",
      "Status: Submitted\n",
      "Approved assignment 3MB8LZR5BGUUGT9ZP473DJIV9W1KL5\n",
      "{'ResponseMetadata': {'RequestId': 'a5660e4c-2b35-46a8-91b2-1c1c364f4a82', 'HTTPStatusCode': 200, 'HTTPHeaders': {'x-amzn-requestid': 'a5660e4c-2b35-46a8-91b2-1c1c364f4a82', 'content-type': 'application/x-amz-json-1.1', 'content-length': '2', 'date': 'Tue, 22 Nov 2022 19:44:01 GMT'}, 'RetryAttempts': 0}}\n",
      "HIT #78: Custom workplace survey HIT for worker id ACY3ZOOZMVS7Y, created 2022-11-20 16:35:21-08:00\n",
      "{'AssignmentId': '3EKVH9QMEZ5G11HHNH3BUAOWJNDD2W', 'WorkerId': 'ACY3ZOOZMVS7Y', 'HITId': '31ANT7FQN93MPU7C1UJXVIAESTTH5L', 'AssignmentStatus': 'Approved', 'AutoApprovalTime': datetime.datetime(2022, 12, 20, 16, 49, 36, tzinfo=tzlocal()), 'AcceptTime': datetime.datetime(2022, 11, 20, 16, 37, 16, tzinfo=tzlocal()), 'SubmitTime': datetime.datetime(2022, 11, 20, 16, 49, 36, tzinfo=tzlocal()), 'ApprovalTime': datetime.datetime(2022, 11, 20, 16, 59, 39, tzinfo=tzlocal()), 'Answer': '<?xml version=\"1.0\" encoding=\"ASCII\"?><QuestionFormAnswers xmlns=\"http://mechanicalturk.amazonaws.com/AWSMechanicalTurkDataSchemas/2005-10-01/QuestionFormAnswers.xsd\"><Answer><QuestionIdentifier>surveyCode</QuestionIdentifier><FreeText>31807173</FreeText></Answer></QuestionFormAnswers>'}\n",
      "HIT #79: Custom workplace survey HIT for worker id AD0345HBWWZ45, created 2022-11-21 15:21:33-08:00\n",
      "Custom HIT not yet submitted\n",
      "HIT #80: Custom workplace survey HIT for worker id ADMTD74VX2A73, created 2022-11-20 16:41:58-08:00\n",
      "{'AssignmentId': '3DI28L7YXBFE4MDL08EHV9WCRTJ1EF', 'WorkerId': 'ADMTD74VX2A73', 'HITId': '37VHPF5VYD4EV4FYD0CZWBNPHRPC89', 'AssignmentStatus': 'Submitted', 'AutoApprovalTime': datetime.datetime(2022, 12, 20, 22, 30, 38, tzinfo=tzlocal()), 'AcceptTime': datetime.datetime(2022, 11, 20, 22, 7, 24, tzinfo=tzlocal()), 'SubmitTime': datetime.datetime(2022, 11, 20, 22, 30, 38, tzinfo=tzlocal()), 'Answer': '<?xml version=\"1.0\" encoding=\"ASCII\"?><QuestionFormAnswers xmlns=\"http://mechanicalturk.amazonaws.com/AWSMechanicalTurkDataSchemas/2005-10-01/QuestionFormAnswers.xsd\"><Answer><QuestionIdentifier>surveyCode</QuestionIdentifier><FreeText>42634152</FreeText></Answer></QuestionFormAnswers>'}\n",
      "Status: Submitted\n",
      "Approved assignment 3DI28L7YXBFE4MDL08EHV9WCRTJ1EF\n",
      "{'ResponseMetadata': {'RequestId': '4be5b7ff-5de5-4c87-9be1-d0fef1b4119e', 'HTTPStatusCode': 200, 'HTTPHeaders': {'x-amzn-requestid': '4be5b7ff-5de5-4c87-9be1-d0fef1b4119e', 'content-type': 'application/x-amz-json-1.1', 'content-length': '2', 'date': 'Tue, 22 Nov 2022 19:44:01 GMT'}, 'RetryAttempts': 0}}\n",
      "HIT #81: Custom workplace survey HIT for worker id ADUJUZANFOWKW, created 2022-11-20 16:35:31-08:00\n",
      "{'AssignmentId': '3GLB5JMZFYW6GVPOMWO0WEIXT6IDGF', 'WorkerId': 'ADUJUZANFOWKW', 'HITId': '3ROUCZ907GVIPLZHAMAMOX76LACOOL', 'AssignmentStatus': 'Approved', 'AutoApprovalTime': datetime.datetime(2022, 12, 20, 16, 52, 17, tzinfo=tzlocal()), 'AcceptTime': datetime.datetime(2022, 11, 20, 16, 39, 31, tzinfo=tzlocal()), 'SubmitTime': datetime.datetime(2022, 11, 20, 16, 52, 17, tzinfo=tzlocal()), 'ApprovalTime': datetime.datetime(2022, 11, 20, 16, 59, 40, tzinfo=tzlocal()), 'Answer': '<?xml version=\"1.0\" encoding=\"ASCII\"?><QuestionFormAnswers xmlns=\"http://mechanicalturk.amazonaws.com/AWSMechanicalTurkDataSchemas/2005-10-01/QuestionFormAnswers.xsd\"><Answer><QuestionIdentifier>surveyCode</QuestionIdentifier><FreeText>73857365</FreeText></Answer></QuestionFormAnswers>'}\n",
      "HIT #82: Custom workplace survey HIT for worker id AF1QXK2OLAEKD, created 2022-11-21 15:21:26-08:00\n",
      "Custom HIT not yet submitted\n",
      "HIT #83: Custom workplace survey HIT for worker id AGW8QHJ3C1U53, created 2022-11-20 17:07:56-08:00\n",
      "{'AssignmentId': '3P59JYT76MLNIQDE973QZE6IM92T2W', 'WorkerId': 'AGW8QHJ3C1U53', 'HITId': '308KJXFUJS7909AOWKR3HCTOV1PTAD', 'AssignmentStatus': 'Submitted', 'AutoApprovalTime': datetime.datetime(2022, 12, 20, 17, 22, 51, tzinfo=tzlocal()), 'AcceptTime': datetime.datetime(2022, 11, 20, 17, 10, 59, tzinfo=tzlocal()), 'SubmitTime': datetime.datetime(2022, 11, 20, 17, 22, 51, tzinfo=tzlocal()), 'Answer': '<?xml version=\"1.0\" encoding=\"ASCII\"?><QuestionFormAnswers xmlns=\"http://mechanicalturk.amazonaws.com/AWSMechanicalTurkDataSchemas/2005-10-01/QuestionFormAnswers.xsd\"><Answer><QuestionIdentifier>surveyCode</QuestionIdentifier><FreeText>67122338</FreeText></Answer></QuestionFormAnswers>'}\n",
      "Status: Submitted\n",
      "Approved assignment 3P59JYT76MLNIQDE973QZE6IM92T2W\n",
      "{'ResponseMetadata': {'RequestId': '68823d92-8dfa-4026-9568-c25782fee2bd', 'HTTPStatusCode': 200, 'HTTPHeaders': {'x-amzn-requestid': '68823d92-8dfa-4026-9568-c25782fee2bd', 'content-type': 'application/x-amz-json-1.1', 'content-length': '2', 'date': 'Tue, 22 Nov 2022 19:44:02 GMT'}, 'RetryAttempts': 0}}\n",
      "HIT #84: Custom workplace survey HIT for worker id AI0K2LZWV73MB, created 2022-11-20 16:35:23-08:00\n",
      "{'AssignmentId': '3ZDAD0O1T2EOJ6GBXWOJP40EZORTX7', 'WorkerId': 'AI0K2LZWV73MB', 'HITId': '3TTPFEFXCULI8Y7Q6DT2NOOEOO4H61', 'AssignmentStatus': 'Submitted', 'AutoApprovalTime': datetime.datetime(2022, 12, 21, 13, 4, tzinfo=tzlocal()), 'AcceptTime': datetime.datetime(2022, 11, 21, 12, 53, 8, tzinfo=tzlocal()), 'SubmitTime': datetime.datetime(2022, 11, 21, 13, 4, tzinfo=tzlocal()), 'Answer': '<?xml version=\"1.0\" encoding=\"ASCII\"?><QuestionFormAnswers xmlns=\"http://mechanicalturk.amazonaws.com/AWSMechanicalTurkDataSchemas/2005-10-01/QuestionFormAnswers.xsd\"><Answer><QuestionIdentifier>surveyCode</QuestionIdentifier><FreeText>76369041</FreeText></Answer></QuestionFormAnswers>'}\n",
      "Status: Submitted\n",
      "Approved assignment 3ZDAD0O1T2EOJ6GBXWOJP40EZORTX7\n",
      "{'ResponseMetadata': {'RequestId': '7f41bc12-ae54-437f-a3d9-4974db047efb', 'HTTPStatusCode': 200, 'HTTPHeaders': {'x-amzn-requestid': '7f41bc12-ae54-437f-a3d9-4974db047efb', 'content-type': 'application/x-amz-json-1.1', 'content-length': '2', 'date': 'Tue, 22 Nov 2022 19:44:03 GMT'}, 'RetryAttempts': 0}}\n",
      "HIT #85: Custom workplace survey HIT for worker id AKO3QLTHPQZ16, created 2022-11-20 16:35:34-08:00\n",
      "Custom HIT not yet submitted\n",
      "HIT #86: Custom workplace survey HIT for worker id AKQ7BGNTA81S6, created 2022-11-20 17:07:55-08:00\n",
      "{'AssignmentId': '34Z02EIMITEGMGA0UKZCGQD3PBIT0C', 'WorkerId': 'AKQ7BGNTA81S6', 'HITId': '3H781YYV6UJCQMR0CPTPDVJFGGNETT', 'AssignmentStatus': 'Submitted', 'AutoApprovalTime': datetime.datetime(2022, 12, 20, 17, 28, 6, tzinfo=tzlocal()), 'AcceptTime': datetime.datetime(2022, 11, 20, 17, 10, 49, tzinfo=tzlocal()), 'SubmitTime': datetime.datetime(2022, 11, 20, 17, 28, 6, tzinfo=tzlocal()), 'Answer': '<?xml version=\"1.0\" encoding=\"ASCII\"?><QuestionFormAnswers xmlns=\"http://mechanicalturk.amazonaws.com/AWSMechanicalTurkDataSchemas/2005-10-01/QuestionFormAnswers.xsd\"><Answer><QuestionIdentifier>surveyCode</QuestionIdentifier><FreeText>23663947</FreeText></Answer></QuestionFormAnswers>'}\n",
      "Status: Submitted\n",
      "Approved assignment 34Z02EIMITEGMGA0UKZCGQD3PBIT0C\n",
      "{'ResponseMetadata': {'RequestId': 'a07e9038-ba29-42f0-992f-cba0ac0c18b7', 'HTTPStatusCode': 200, 'HTTPHeaders': {'x-amzn-requestid': 'a07e9038-ba29-42f0-992f-cba0ac0c18b7', 'content-type': 'application/x-amz-json-1.1', 'content-length': '2', 'date': 'Tue, 22 Nov 2022 19:44:03 GMT'}, 'RetryAttempts': 0}}\n",
      "HIT #87: Custom workplace survey HIT for worker id ALCPF5NANBDSZ, created 2022-11-20 16:35:08-08:00\n",
      "Custom HIT not yet submitted\n",
      "HIT #88: Custom workplace survey HIT for worker id AN45KLUESX3NY, created 2022-11-20 16:35:14-08:00\n",
      "{'AssignmentId': '3NPI0JQDAP6JAXEKB5E2VREBXJXPTI', 'WorkerId': 'AN45KLUESX3NY', 'HITId': '3W1K7D6QSCIA5VOF8QGHYBEBYFWBZ6', 'AssignmentStatus': 'Submitted', 'AutoApprovalTime': datetime.datetime(2022, 12, 20, 19, 3, 41, tzinfo=tzlocal()), 'AcceptTime': datetime.datetime(2022, 11, 20, 18, 28, 37, tzinfo=tzlocal()), 'SubmitTime': datetime.datetime(2022, 11, 20, 19, 3, 41, tzinfo=tzlocal()), 'Answer': '<?xml version=\"1.0\" encoding=\"ASCII\"?><QuestionFormAnswers xmlns=\"http://mechanicalturk.amazonaws.com/AWSMechanicalTurkDataSchemas/2005-10-01/QuestionFormAnswers.xsd\"><Answer><QuestionIdentifier>surveyCode</QuestionIdentifier><FreeText>49565206</FreeText></Answer></QuestionFormAnswers>'}\n",
      "Status: Submitted\n",
      "Approved assignment 3NPI0JQDAP6JAXEKB5E2VREBXJXPTI\n",
      "{'ResponseMetadata': {'RequestId': '5e0ac35f-1973-412d-80af-daa6278af389', 'HTTPStatusCode': 200, 'HTTPHeaders': {'x-amzn-requestid': '5e0ac35f-1973-412d-80af-daa6278af389', 'content-type': 'application/x-amz-json-1.1', 'content-length': '2', 'date': 'Tue, 22 Nov 2022 19:44:04 GMT'}, 'RetryAttempts': 0}}\n",
      "HIT #89: Custom workplace survey HIT for worker id AODPCQK31HAWQ, created 2022-11-20 16:35:32-08:00\n",
      "Custom HIT not yet submitted\n",
      "HIT #90: Custom workplace survey HIT for worker id AQQZ96P85B3B, created 2022-11-21 15:21:42-08:00\n",
      "{'AssignmentId': '3FDJT1UU759GE46EXHRWWUMYNFN5K6', 'WorkerId': 'AQQZ96P85B3B', 'HITId': '3ZTE0JGGCFTHGW2EKH1VTXDPWWBOC6', 'AssignmentStatus': 'Submitted', 'AutoApprovalTime': datetime.datetime(2022, 12, 22, 7, 18, 40, tzinfo=tzlocal()), 'AcceptTime': datetime.datetime(2022, 11, 22, 6, 40, 7, tzinfo=tzlocal()), 'SubmitTime': datetime.datetime(2022, 11, 22, 7, 18, 40, tzinfo=tzlocal()), 'Answer': '<?xml version=\"1.0\" encoding=\"ASCII\"?><QuestionFormAnswers xmlns=\"http://mechanicalturk.amazonaws.com/AWSMechanicalTurkDataSchemas/2005-10-01/QuestionFormAnswers.xsd\"><Answer><QuestionIdentifier>surveyCode</QuestionIdentifier><FreeText>91959269</FreeText></Answer></QuestionFormAnswers>'}\n",
      "Status: Submitted\n",
      "Approved assignment 3FDJT1UU759GE46EXHRWWUMYNFN5K6\n",
      "{'ResponseMetadata': {'RequestId': 'fe19732c-d69b-48fa-9fbc-3af0f8b56628', 'HTTPStatusCode': 200, 'HTTPHeaders': {'x-amzn-requestid': 'fe19732c-d69b-48fa-9fbc-3af0f8b56628', 'content-type': 'application/x-amz-json-1.1', 'content-length': '2', 'date': 'Tue, 22 Nov 2022 19:44:04 GMT'}, 'RetryAttempts': 0}}\n",
      "HIT #91: Custom workplace survey HIT for worker id ARCANKHTVZ4ZO, created 2022-11-20 17:07:47-08:00\n",
      "Custom HIT not yet submitted\n",
      "HIT #92: Custom workplace survey HIT for worker id ARG392N6HWZCJ, created 2022-11-20 16:35:17-08:00\n",
      "Custom HIT not yet submitted\n",
      "HIT #93: Custom workplace survey HIT for worker id ASX9CJSEMH0UH, created 2022-11-20 16:35:05-08:00\n",
      "{'AssignmentId': '3TDXMTX3CCVLRDG42XGPBKLLRXNI6K', 'WorkerId': 'ASX9CJSEMH0UH', 'HITId': '3WYZV0QBFKEL00O078SW1QY0QFYBX9', 'AssignmentStatus': 'Approved', 'AutoApprovalTime': datetime.datetime(2022, 12, 20, 16, 47, 59, tzinfo=tzlocal()), 'AcceptTime': datetime.datetime(2022, 11, 20, 16, 37, 52, tzinfo=tzlocal()), 'SubmitTime': datetime.datetime(2022, 11, 20, 16, 47, 59, tzinfo=tzlocal()), 'ApprovalTime': datetime.datetime(2022, 11, 20, 16, 59, 41, tzinfo=tzlocal()), 'Answer': '<?xml version=\"1.0\" encoding=\"ASCII\"?><QuestionFormAnswers xmlns=\"http://mechanicalturk.amazonaws.com/AWSMechanicalTurkDataSchemas/2005-10-01/QuestionFormAnswers.xsd\"><Answer><QuestionIdentifier>surveyCode</QuestionIdentifier><FreeText>46829226</FreeText></Answer></QuestionFormAnswers>'}\n",
      "HIT #94: Custom workplace survey HIT for worker id AUPAX5TIOP1G9, created 2022-11-20 16:35:40-08:00\n",
      "{'AssignmentId': '39GXDJN2OUFDHXJSUJC6AN765U98VT', 'WorkerId': 'AUPAX5TIOP1G9', 'HITId': '3UUIU9GZC66CU3Y71O0M91D23NOT57', 'AssignmentStatus': 'Submitted', 'AutoApprovalTime': datetime.datetime(2022, 12, 20, 17, 20, 38, tzinfo=tzlocal()), 'AcceptTime': datetime.datetime(2022, 11, 20, 16, 42, 47, tzinfo=tzlocal()), 'SubmitTime': datetime.datetime(2022, 11, 20, 17, 20, 38, tzinfo=tzlocal()), 'Answer': '<?xml version=\"1.0\" encoding=\"ASCII\"?><QuestionFormAnswers xmlns=\"http://mechanicalturk.amazonaws.com/AWSMechanicalTurkDataSchemas/2005-10-01/QuestionFormAnswers.xsd\"><Answer><QuestionIdentifier>surveyCode</QuestionIdentifier><FreeText>21930746</FreeText></Answer></QuestionFormAnswers>'}\n",
      "Status: Submitted\n",
      "Approved assignment 39GXDJN2OUFDHXJSUJC6AN765U98VT\n",
      "{'ResponseMetadata': {'RequestId': '2e9204be-eb31-4823-87e0-0fedbebaf495', 'HTTPStatusCode': 200, 'HTTPHeaders': {'x-amzn-requestid': '2e9204be-eb31-4823-87e0-0fedbebaf495', 'content-type': 'application/x-amz-json-1.1', 'content-length': '2', 'date': 'Tue, 22 Nov 2022 19:44:05 GMT'}, 'RetryAttempts': 0}}\n",
      "HIT #95: Custom workplace survey HIT for worker id AVZQFHMC30ZN4, created 2022-11-20 16:35:22-08:00\n",
      "{'AssignmentId': '3SBEHTYCWO4NAXQA8GBHUB5EQ7GIYK', 'WorkerId': 'AVZQFHMC30ZN4', 'HITId': '3SNR5F7R93UMH8BPIDULZOH65Z7EIC', 'AssignmentStatus': 'Submitted', 'AutoApprovalTime': datetime.datetime(2022, 12, 20, 17, 27, 12, tzinfo=tzlocal()), 'AcceptTime': datetime.datetime(2022, 11, 20, 16, 42, 27, tzinfo=tzlocal()), 'SubmitTime': datetime.datetime(2022, 11, 20, 17, 27, 12, tzinfo=tzlocal()), 'Answer': '<?xml version=\"1.0\" encoding=\"ASCII\"?><QuestionFormAnswers xmlns=\"http://mechanicalturk.amazonaws.com/AWSMechanicalTurkDataSchemas/2005-10-01/QuestionFormAnswers.xsd\"><Answer><QuestionIdentifier>surveyCode</QuestionIdentifier><FreeText>48101905</FreeText></Answer></QuestionFormAnswers>'}\n",
      "Status: Submitted\n",
      "Approved assignment 3SBEHTYCWO4NAXQA8GBHUB5EQ7GIYK\n",
      "{'ResponseMetadata': {'RequestId': '5ad34210-c416-4cf2-a0b2-1243586bf123', 'HTTPStatusCode': 200, 'HTTPHeaders': {'x-amzn-requestid': '5ad34210-c416-4cf2-a0b2-1243586bf123', 'content-type': 'application/x-amz-json-1.1', 'content-length': '2', 'date': 'Tue, 22 Nov 2022 19:44:05 GMT'}, 'RetryAttempts': 0}}\n",
      "HIT #96: Custom workplace survey HIT for worker id AWDFPDUDNCVOX, created 2022-11-20 17:07:56-08:00\n",
      "{'AssignmentId': '3AUQQEL7U6UVZ8EPZFZRH81OMWY0VZ', 'WorkerId': 'AWDFPDUDNCVOX', 'HITId': '3L60IFZKF4JY5NR72WK6KFD4X2KHH2', 'AssignmentStatus': 'Submitted', 'AutoApprovalTime': datetime.datetime(2022, 12, 20, 17, 30, 13, tzinfo=tzlocal()), 'AcceptTime': datetime.datetime(2022, 11, 20, 17, 9, 59, tzinfo=tzlocal()), 'SubmitTime': datetime.datetime(2022, 11, 20, 17, 30, 13, tzinfo=tzlocal()), 'Answer': '<?xml version=\"1.0\" encoding=\"ASCII\"?><QuestionFormAnswers xmlns=\"http://mechanicalturk.amazonaws.com/AWSMechanicalTurkDataSchemas/2005-10-01/QuestionFormAnswers.xsd\"><Answer><QuestionIdentifier>surveyCode</QuestionIdentifier><FreeText>45865136</FreeText></Answer></QuestionFormAnswers>'}\n",
      "Status: Submitted\n",
      "Approved assignment 3AUQQEL7U6UVZ8EPZFZRH81OMWY0VZ\n",
      "{'ResponseMetadata': {'RequestId': '64d26156-65be-405d-bc12-cd1082fa4045', 'HTTPStatusCode': 200, 'HTTPHeaders': {'x-amzn-requestid': '64d26156-65be-405d-bc12-cd1082fa4045', 'content-type': 'application/x-amz-json-1.1', 'content-length': '2', 'date': 'Tue, 22 Nov 2022 19:44:06 GMT'}, 'RetryAttempts': 0}}\n",
      "HIT #97: Custom workplace survey HIT for worker id AWXHYI0RU9SNV, created 2022-11-21 15:21:21-08:00\n",
      "Custom HIT not yet submitted\n",
      "HIT #98: Custom workplace survey HIT for worker id AWYKYM16CB00Z, created 2022-11-20 16:35:17-08:00\n",
      "{'AssignmentId': '3R5F3LQFV3LXB9BI2XQ5SFA28AMZOQ', 'WorkerId': 'AWYKYM16CB00Z', 'HITId': '389A2A304PJWDFAVIWZK3WH7YTDC0M', 'AssignmentStatus': 'Submitted', 'AutoApprovalTime': datetime.datetime(2022, 12, 20, 18, 20, 50, tzinfo=tzlocal()), 'AcceptTime': datetime.datetime(2022, 11, 20, 18, 0, 49, tzinfo=tzlocal()), 'SubmitTime': datetime.datetime(2022, 11, 20, 18, 20, 50, tzinfo=tzlocal()), 'Answer': '<?xml version=\"1.0\" encoding=\"ASCII\"?><QuestionFormAnswers xmlns=\"http://mechanicalturk.amazonaws.com/AWSMechanicalTurkDataSchemas/2005-10-01/QuestionFormAnswers.xsd\"><Answer><QuestionIdentifier>surveyCode</QuestionIdentifier><FreeText>13158363</FreeText></Answer></QuestionFormAnswers>'}\n",
      "Status: Submitted\n",
      "Approved assignment 3R5F3LQFV3LXB9BI2XQ5SFA28AMZOQ\n",
      "{'ResponseMetadata': {'RequestId': 'ceda0ada-ae67-4e7d-a1c8-05a90036b657', 'HTTPStatusCode': 200, 'HTTPHeaders': {'x-amzn-requestid': 'ceda0ada-ae67-4e7d-a1c8-05a90036b657', 'content-type': 'application/x-amz-json-1.1', 'content-length': '2', 'date': 'Tue, 22 Nov 2022 19:44:06 GMT'}, 'RetryAttempts': 0}}\n",
      "HIT #99: Custom workplace survey HIT for worker id AY58M7QFW3QKH, created 2022-11-20 16:35:39-08:00\n",
      "{'AssignmentId': '3KOPY89HM93IP5DS1D3RGIO1ULA3JB', 'WorkerId': 'AY58M7QFW3QKH', 'HITId': '3JU8CV4BRMD0ALBIPMN1DXCWVF8OP2', 'AssignmentStatus': 'Submitted', 'AutoApprovalTime': datetime.datetime(2022, 12, 20, 17, 3, 36, tzinfo=tzlocal()), 'AcceptTime': datetime.datetime(2022, 11, 20, 16, 38, 27, tzinfo=tzlocal()), 'SubmitTime': datetime.datetime(2022, 11, 20, 17, 3, 36, tzinfo=tzlocal()), 'Answer': '<?xml version=\"1.0\" encoding=\"ASCII\"?><QuestionFormAnswers xmlns=\"http://mechanicalturk.amazonaws.com/AWSMechanicalTurkDataSchemas/2005-10-01/QuestionFormAnswers.xsd\"><Answer><QuestionIdentifier>surveyCode</QuestionIdentifier><FreeText>AY58M7QFW3QKH</FreeText></Answer></QuestionFormAnswers>'}\n",
      "Status: Submitted\n",
      "Approved assignment 3KOPY89HM93IP5DS1D3RGIO1ULA3JB\n",
      "{'ResponseMetadata': {'RequestId': 'e699fb72-6935-40c9-b459-11bcf87caed4', 'HTTPStatusCode': 200, 'HTTPHeaders': {'x-amzn-requestid': 'e699fb72-6935-40c9-b459-11bcf87caed4', 'content-type': 'application/x-amz-json-1.1', 'content-length': '2', 'date': 'Tue, 22 Nov 2022 19:44:07 GMT'}, 'RetryAttempts': 0}}\n"
     ]
    }
   ],
   "source": [
    "def process_assignments(assignment_response):\n",
    "    #print(f\"=====[ Submitted HIT: {cur_title} ]=====\")\n",
    "    # Approve Stage2 submission\n",
    "    assignment_id = assignment_response['AssignmentId']\n",
    "    status = assignment_response['AssignmentStatus']\n",
    "    if status == \"Submitted\":\n",
    "        print(f\"Status: {status}\")\n",
    "        response = client.approve_assignment(assignment_id)\n",
    "        print(f\"Approved assignment {assignment_id}\")\n",
    "        print(response)\n",
    "\n",
    "approve_submitted = True\n",
    "submitted_list = []\n",
    "all_submit_info = []\n",
    "for hit_num, cur_hit in enumerate(stage2_hits):\n",
    "    cur_title = cur_hit['Title']\n",
    "    cur_creation = cur_hit['CreationTime']\n",
    "    #print(\"=====[ start loop iteration ]=====\")\n",
    "    print(f\"HIT #{hit_num}: {cur_title}, created {cur_creation}\")\n",
    "    #print()\n",
    "    cur_id = cur_hit['HITId']\n",
    "    cur_reward = cur_hit['Reward']\n",
    "    num_avail = cur_hit['NumberOfAssignmentsAvailable']\n",
    "    assignment_responses = client.get_hit_submissions(cur_id)\n",
    "    # Should have only one submission\n",
    "    if len(assignment_responses) > 1:\n",
    "        raise Exception(f\"Multiple responses for HITId {cur_id}\")\n",
    "    elif len(assignment_responses) < 1:\n",
    "        print(\"Custom HIT not yet submitted\")\n",
    "    else:\n",
    "        assignment_response = assignment_responses[0]\n",
    "        print(assignment_response)\n",
    "        if approve_submitted:\n",
    "            process_assignments(assignment_response)\n",
    "    # Get submission info\n",
    "    cur_worker_id = mtglobals.worker_id_from_title(cur_title)\n",
    "    submit_info = {\n",
    "        'worker_id': cur_worker_id,\n",
    "        'wage': cur_reward,\n",
    "        'num_avail': num_avail,\n",
    "        'accepted': 1-num_avail\n",
    "    }\n",
    "    all_submit_info.append(submit_info)\n",
    "    #print(\"----- end loop iteration -----\\n\")"
   ]
  },
  {
   "cell_type": "code",
   "execution_count": 16,
   "id": "c8c89251-c147-4f40-bbd2-631dab7930c7",
   "metadata": {
    "tags": [],
    "pycharm": {
     "name": "#%%\n"
    }
   },
   "outputs": [
    {
     "data": {
      "text/plain": "100"
     },
     "execution_count": 16,
     "metadata": {},
     "output_type": "execute_result"
    }
   ],
   "source": [
    "len(all_submit_info)"
   ]
  },
  {
   "cell_type": "code",
   "execution_count": 17,
   "id": "2c92f2bc-741e-4eee-b13e-21493dbc1b31",
   "metadata": {
    "tags": [],
    "pycharm": {
     "name": "#%%\n"
    }
   },
   "outputs": [
    {
     "data": {
      "text/plain": "{'worker_id': 'A11JCTPPYRML49', 'wage': '1.50', 'num_avail': 1, 'accepted': 0}"
     },
     "execution_count": 17,
     "metadata": {},
     "output_type": "execute_result"
    }
   ],
   "source": [
    "all_submit_info[0]"
   ]
  },
  {
   "cell_type": "markdown",
   "id": "ffbbecde-d589-47a0-bbab-00864f6e2883",
   "metadata": {
    "pycharm": {
     "name": "#%% md\n"
    }
   },
   "source": [
    "Select only the expired HITs here, if necessary"
   ]
  },
  {
   "cell_type": "code",
   "execution_count": 18,
   "id": "3e4203ba-2deb-4d62-8f3a-e1f99a968ddc",
   "metadata": {
    "tags": [],
    "pycharm": {
     "name": "#%%\n"
    }
   },
   "outputs": [],
   "source": [
    "#accepted_info = accepted_info[:8]"
   ]
  },
  {
   "cell_type": "markdown",
   "id": "7ce779e9-2b8c-4b33-ae79-61daff096f25",
   "metadata": {
    "pycharm": {
     "name": "#%% md\n"
    }
   },
   "source": [
    "### (e) Transform the downloaded data into a .dta for regression\n",
    "\n",
    "(This is the .dta for *just* this run. The full .dta with all the data across all runs can be generated using 03a_CompileResults.ipynb)"
   ]
  },
  {
   "cell_type": "code",
   "execution_count": 19,
   "id": "796a6f87-3601-4721-b148-7c542549157d",
   "metadata": {
    "tags": [],
    "pycharm": {
     "name": "#%%\n"
    }
   },
   "outputs": [],
   "source": [
    "# Transform this into a .dta for regression\n",
    "accepted_df = pd.DataFrame(all_submit_info)"
   ]
  },
  {
   "cell_type": "code",
   "execution_count": 20,
   "id": "6c59d5a6-11f1-444f-9020-75c409a9ce60",
   "metadata": {
    "tags": [],
    "pycharm": {
     "name": "#%%\n"
    }
   },
   "outputs": [],
   "source": [
    "accepted_df['lwage'] = accepted_df['wage'].apply(lambda x: np.log(float(x)))"
   ]
  },
  {
   "cell_type": "code",
   "execution_count": 21,
   "id": "e9d9511d-5163-4995-a710-e2abbb6a6c71",
   "metadata": {
    "tags": [],
    "pycharm": {
     "name": "#%%\n"
    }
   },
   "outputs": [],
   "source": [
    "# Save the data in Stata format\n",
    "accepted_df.to_stata('../results_2stage/accepted_reg_currun.dta')"
   ]
  },
  {
   "cell_type": "markdown",
   "id": "7f8b168f-6989-4f63-ab93-bb2fb762b23b",
   "metadata": {
    "pycharm": {
     "name": "#%% md\n"
    }
   },
   "source": [
    "### (f) But also run the regression here (for Jeff)"
   ]
  },
  {
   "cell_type": "code",
   "execution_count": 22,
   "id": "5d169673-7415-4eb6-9a45-60d184a66e8f",
   "metadata": {
    "tags": [],
    "pycharm": {
     "name": "#%%\n"
    }
   },
   "outputs": [
    {
     "data": {
      "text/plain": "         worker_id  wage  num_avail  accepted     lwage\n0   A11JCTPPYRML49  1.50          1         0  0.405465\n1   A122QSIA01PR3L  1.50          0         1  0.405465\n2   A14CBWGILA1VG4  1.01          1         0  0.009950\n3   A14FOFNUBU2P5D  1.00          1         0  0.000000\n4   A165ZC634AIYVY  0.90          1         0 -0.105361\n..             ...   ...        ...       ...       ...\n95   AVZQFHMC30ZN4  0.95          0         1 -0.051293\n96   AWDFPDUDNCVOX  1.50          0         1  0.405465\n97   AWXHYI0RU9SNV  0.95          1         0 -0.051293\n98   AWYKYM16CB00Z  0.90          0         1 -0.105361\n99   AY58M7QFW3QKH  1.01          0         1  0.009950\n\n[100 rows x 5 columns]",
      "text/html": "<div>\n<style scoped>\n    .dataframe tbody tr th:only-of-type {\n        vertical-align: middle;\n    }\n\n    .dataframe tbody tr th {\n        vertical-align: top;\n    }\n\n    .dataframe thead th {\n        text-align: right;\n    }\n</style>\n<table border=\"1\" class=\"dataframe\">\n  <thead>\n    <tr style=\"text-align: right;\">\n      <th></th>\n      <th>worker_id</th>\n      <th>wage</th>\n      <th>num_avail</th>\n      <th>accepted</th>\n      <th>lwage</th>\n    </tr>\n  </thead>\n  <tbody>\n    <tr>\n      <th>0</th>\n      <td>A11JCTPPYRML49</td>\n      <td>1.50</td>\n      <td>1</td>\n      <td>0</td>\n      <td>0.405465</td>\n    </tr>\n    <tr>\n      <th>1</th>\n      <td>A122QSIA01PR3L</td>\n      <td>1.50</td>\n      <td>0</td>\n      <td>1</td>\n      <td>0.405465</td>\n    </tr>\n    <tr>\n      <th>2</th>\n      <td>A14CBWGILA1VG4</td>\n      <td>1.01</td>\n      <td>1</td>\n      <td>0</td>\n      <td>0.009950</td>\n    </tr>\n    <tr>\n      <th>3</th>\n      <td>A14FOFNUBU2P5D</td>\n      <td>1.00</td>\n      <td>1</td>\n      <td>0</td>\n      <td>0.000000</td>\n    </tr>\n    <tr>\n      <th>4</th>\n      <td>A165ZC634AIYVY</td>\n      <td>0.90</td>\n      <td>1</td>\n      <td>0</td>\n      <td>-0.105361</td>\n    </tr>\n    <tr>\n      <th>...</th>\n      <td>...</td>\n      <td>...</td>\n      <td>...</td>\n      <td>...</td>\n      <td>...</td>\n    </tr>\n    <tr>\n      <th>95</th>\n      <td>AVZQFHMC30ZN4</td>\n      <td>0.95</td>\n      <td>0</td>\n      <td>1</td>\n      <td>-0.051293</td>\n    </tr>\n    <tr>\n      <th>96</th>\n      <td>AWDFPDUDNCVOX</td>\n      <td>1.50</td>\n      <td>0</td>\n      <td>1</td>\n      <td>0.405465</td>\n    </tr>\n    <tr>\n      <th>97</th>\n      <td>AWXHYI0RU9SNV</td>\n      <td>0.95</td>\n      <td>1</td>\n      <td>0</td>\n      <td>-0.051293</td>\n    </tr>\n    <tr>\n      <th>98</th>\n      <td>AWYKYM16CB00Z</td>\n      <td>0.90</td>\n      <td>0</td>\n      <td>1</td>\n      <td>-0.105361</td>\n    </tr>\n    <tr>\n      <th>99</th>\n      <td>AY58M7QFW3QKH</td>\n      <td>1.01</td>\n      <td>0</td>\n      <td>1</td>\n      <td>0.009950</td>\n    </tr>\n  </tbody>\n</table>\n<p>100 rows × 5 columns</p>\n</div>"
     },
     "execution_count": 22,
     "metadata": {},
     "output_type": "execute_result"
    }
   ],
   "source": [
    "accepted_df"
   ]
  },
  {
   "cell_type": "code",
   "execution_count": 23,
   "id": "530dc250-1f6f-4684-a1f2-3fa364196c1c",
   "metadata": {
    "tags": [],
    "pycharm": {
     "name": "#%%\n"
    }
   },
   "outputs": [],
   "source": [
    "# Get just the info for the most recent HITs\n",
    "#accepted_info_sub = accepted_info[-106:]\n",
    "#accepted_info_sub;"
   ]
  },
  {
   "cell_type": "code",
   "execution_count": 24,
   "id": "117129bb-f81e-41ac-bba8-25711c87d0a6",
   "metadata": {
    "tags": [],
    "pycharm": {
     "name": "#%%\n"
    }
   },
   "outputs": [],
   "source": [
    "totals = {'overall':0}\n",
    "accepts = {'overall':0}\n",
    "for cur_info in all_submit_info:\n",
    "    cur_wage = cur_info['wage']\n",
    "    if cur_wage not in totals:\n",
    "        totals[cur_wage] = 0\n",
    "    if cur_wage not in accepts:\n",
    "        accepts[cur_wage] = 0\n",
    "    cur_accepted = cur_info['accepted']\n",
    "    totals['overall'] = totals['overall'] + 1\n",
    "    totals[cur_wage] = totals[cur_wage] + 1\n",
    "    if cur_accepted == 1:\n",
    "        accepts['overall'] = accepts['overall'] + 1\n",
    "        accepts[cur_wage] = accepts[cur_wage] + 1"
   ]
  },
  {
   "cell_type": "code",
   "execution_count": 25,
   "id": "1bab664c-e6a1-4d44-9758-acb74b742f33",
   "metadata": {
    "tags": [],
    "pycharm": {
     "name": "#%%\n"
    }
   },
   "outputs": [
    {
     "data": {
      "text/plain": "{'overall': 100,\n '1.50': 7,\n '1.01': 13,\n '1.00': 6,\n '0.90': 11,\n '0.50': 11,\n '1.10': 7,\n '0.99': 4,\n '1.05': 11,\n '1.02': 7,\n '0.98': 8,\n '0.95': 15}"
     },
     "execution_count": 25,
     "metadata": {},
     "output_type": "execute_result"
    }
   ],
   "source": [
    "totals"
   ]
  },
  {
   "cell_type": "code",
   "execution_count": 26,
   "id": "171aaed8-3fbe-44fd-ad6c-3ba7270c585b",
   "metadata": {
    "tags": [],
    "pycharm": {
     "name": "#%%\n"
    }
   },
   "outputs": [
    {
     "data": {
      "text/plain": "{'overall': 53,\n '1.50': 5,\n '1.01': 10,\n '1.00': 3,\n '0.90': 6,\n '0.50': 7,\n '1.10': 4,\n '0.99': 3,\n '1.05': 5,\n '1.02': 2,\n '0.98': 3,\n '0.95': 5}"
     },
     "execution_count": 26,
     "metadata": {},
     "output_type": "execute_result"
    }
   ],
   "source": [
    "accepts"
   ]
  },
  {
   "cell_type": "code",
   "execution_count": 27,
   "id": "79340a31-2fe6-4b6e-9859-faa6e0ad9045",
   "metadata": {
    "tags": [],
    "pycharm": {
     "name": "#%%\n"
    }
   },
   "outputs": [
    {
     "name": "stdout",
     "output_type": "stream",
     "text": [
      "$0.50:\n",
      "7 accepted out of 11 offers\n",
      "Accept rate: 0.6364\n",
      "$0.90:\n",
      "6 accepted out of 11 offers\n",
      "Accept rate: 0.5455\n",
      "$0.95:\n",
      "5 accepted out of 15 offers\n",
      "Accept rate: 0.3333\n",
      "$0.98:\n",
      "3 accepted out of 8 offers\n",
      "Accept rate: 0.3750\n",
      "$0.99:\n",
      "3 accepted out of 4 offers\n",
      "Accept rate: 0.7500\n",
      "$1.00:\n",
      "3 accepted out of 6 offers\n",
      "Accept rate: 0.5000\n",
      "$1.01:\n",
      "10 accepted out of 13 offers\n",
      "Accept rate: 0.7692\n",
      "$1.02:\n",
      "2 accepted out of 7 offers\n",
      "Accept rate: 0.2857\n",
      "$1.05:\n",
      "5 accepted out of 11 offers\n",
      "Accept rate: 0.4545\n",
      "$1.10:\n",
      "4 accepted out of 7 offers\n",
      "Accept rate: 0.5714\n",
      "$1.50:\n",
      "5 accepted out of 7 offers\n",
      "Accept rate: 0.7143\n",
      "overall:\n",
      "53 accepted out of 100 offers\n",
      "Accept rate: 0.5300\n"
     ]
    }
   ],
   "source": [
    "for cur_wage in sorted(totals.keys()):\n",
    "    header = f\"{cur_wage}:\" if cur_wage == \"overall\" else f\"${cur_wage}:\"\n",
    "    print(header)\n",
    "    print(f\"{accepts[cur_wage]} accepted out of {totals[cur_wage]} offers\")\n",
    "    accept_rate = accepts[cur_wage] / totals[cur_wage]\n",
    "    print(f\"Accept rate: {accept_rate:.4f}\")\n",
    "#print(f\"Regression intercept: {intercept:.4f}\")"
   ]
  },
  {
   "cell_type": "code",
   "execution_count": 28,
   "outputs": [
    {
     "data": {
      "text/plain": "0.53"
     },
     "execution_count": 28,
     "metadata": {},
     "output_type": "execute_result"
    }
   ],
   "source": [
    "accept_rate_overall = accepts['overall'] / totals['overall']\n",
    "accept_rate_overall"
   ],
   "metadata": {
    "collapsed": false,
    "pycharm": {
     "name": "#%%\n"
    }
   }
  },
  {
   "cell_type": "markdown",
   "id": "f3e93df4-8c3c-492d-b359-5965c099697c",
   "metadata": {
    "pycharm": {
     "name": "#%% md\n"
    }
   },
   "source": [
    "### (e) And now compute the elasticity"
   ]
  },
  {
   "cell_type": "code",
   "execution_count": 29,
   "id": "a487aca0-b50c-4a93-9d17-79f86b295470",
   "metadata": {
    "tags": [],
    "pycharm": {
     "name": "#%%\n"
    }
   },
   "outputs": [
    {
     "name": "stdout",
     "output_type": "stream",
     "text": [
      "                            OLS Regression Results                            \n",
      "==============================================================================\n",
      "Dep. Variable:               accepted   R-squared:                       0.000\n",
      "Model:                            OLS   Adj. R-squared:                 -0.010\n",
      "Method:                 Least Squares   F-statistic:                   0.01510\n",
      "Date:                Tue, 22 Nov 2022   Prob (F-statistic):              0.902\n",
      "Time:                        11:43:11   Log-Likelihood:                -72.391\n",
      "No. Observations:                 100   AIC:                             148.8\n",
      "Df Residuals:                      98   BIC:                             154.0\n",
      "Df Model:                           1                                         \n",
      "Covariance Type:                  HC1                                         \n",
      "==============================================================================\n",
      "                 coef    std err          z      P>|z|      [0.025      0.975]\n",
      "------------------------------------------------------------------------------\n",
      "Intercept      0.5287      0.052     10.245      0.000       0.428       0.630\n",
      "lwage         -0.0241      0.196     -0.123      0.902      -0.408       0.360\n",
      "==============================================================================\n",
      "Omnibus:                      814.978   Durbin-Watson:                   2.203\n",
      "Prob(Omnibus):                  0.000   Jarque-Bera (JB):               16.658\n",
      "Skew:                          -0.120   Prob(JB):                     0.000241\n",
      "Kurtosis:                       1.015   Cond. No.                         3.97\n",
      "==============================================================================\n",
      "\n",
      "Notes:\n",
      "[1] Standard Errors are heteroscedasticity robust (HC1)\n"
     ]
    }
   ],
   "source": [
    "result = smf.ols(formula='accepted ~ lwage', data=accepted_df).fit(cov_type='HC1')\n",
    "print(result.summary())"
   ]
  },
  {
   "cell_type": "code",
   "execution_count": 30,
   "id": "e8e6dd2b-40a2-4eee-87d0-9f5901c774da",
   "metadata": {
    "execution": {
     "iopub.execute_input": "2022-01-16T23:21:39.276266Z",
     "iopub.status.busy": "2022-01-16T23:21:39.276266Z",
     "iopub.status.idle": "2022-01-16T23:21:39.321259Z",
     "shell.execute_reply": "2022-01-16T23:21:39.321259Z",
     "shell.execute_reply.started": "2022-01-16T23:21:39.276266Z"
    },
    "pycharm": {
     "name": "#%%\n"
    }
   },
   "outputs": [],
   "source": [
    "# Save list of submitters\n",
    "submitter_list = []\n",
    "for cur_assignment in submitted_list:\n",
    "    worker_id = cur_assignment['WorkerId']\n",
    "    submitter_list.append(worker_id)"
   ]
  },
  {
   "cell_type": "code",
   "execution_count": 31,
   "id": "46b2e68d-43e8-4472-a221-03b0a6f2dbb9",
   "metadata": {
    "execution": {
     "iopub.execute_input": "2022-01-16T23:21:39.891124Z",
     "iopub.status.busy": "2022-01-16T23:21:39.891124Z",
     "iopub.status.idle": "2022-01-16T23:21:39.947557Z",
     "shell.execute_reply": "2022-01-16T23:21:39.946530Z",
     "shell.execute_reply.started": "2022-01-16T23:21:39.891124Z"
    },
    "pycharm": {
     "name": "#%%\n"
    }
   },
   "outputs": [],
   "source": [
    "submit_df = pd.DataFrame({'worker_id':submitter_list})"
   ]
  },
  {
   "cell_type": "code",
   "execution_count": 32,
   "id": "377f391e-f503-4b03-8610-f83ee37c8129",
   "metadata": {
    "execution": {
     "iopub.execute_input": "2022-01-16T23:21:40.191611Z",
     "iopub.status.busy": "2022-01-16T23:21:40.191611Z",
     "iopub.status.idle": "2022-01-16T23:21:40.242919Z",
     "shell.execute_reply": "2022-01-16T23:21:40.242919Z",
     "shell.execute_reply.started": "2022-01-16T23:21:40.191611Z"
    },
    "pycharm": {
     "name": "#%%\n"
    }
   },
   "outputs": [],
   "source": [
    "csv_fpath = mtglobals.stage2_submitted_fpath\n",
    "submit_df.to_csv(csv_fpath, index=False)"
   ]
  },
  {
   "cell_type": "code",
   "execution_count": 92,
   "outputs": [],
   "source": [],
   "metadata": {
    "collapsed": false,
    "pycharm": {
     "name": "#%%\n"
    }
   }
  },
  {
   "cell_type": "code",
   "execution_count": 92,
   "outputs": [],
   "source": [],
   "metadata": {
    "collapsed": false,
    "pycharm": {
     "name": "#%%\n"
    }
   }
  },
  {
   "cell_type": "code",
   "execution_count": null,
   "outputs": [],
   "source": [],
   "metadata": {
    "collapsed": false,
    "pycharm": {
     "name": "#%%\n"
    }
   }
  }
 ],
 "metadata": {
  "kernelspec": {
   "display_name": "Python 3 (ipykernel)",
   "language": "python",
   "name": "python3"
  },
  "language_info": {
   "codemirror_mode": {
    "name": "ipython",
    "version": 3
   },
   "file_extension": ".py",
   "mimetype": "text/x-python",
   "name": "python",
   "nbconvert_exporter": "python",
   "pygments_lexer": "ipython3",
   "version": "3.9.7"
  }
 },
 "nbformat": 4,
 "nbformat_minor": 5
}