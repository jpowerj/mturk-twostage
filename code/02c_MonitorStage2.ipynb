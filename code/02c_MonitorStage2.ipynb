{
 "cells": [
  {
   "cell_type": "code",
   "execution_count": 1,
   "id": "0afa2dcb-b50f-4b30-9c78-c0b71a02e16f",
   "metadata": {
    "tags": [],
    "pycharm": {
     "name": "#%%\n"
    }
   },
   "outputs": [],
   "source": [
    "%load_ext autoreload\n",
    "%autoreload 2"
   ]
  },
  {
   "cell_type": "code",
   "execution_count": 2,
   "id": "01aa7c98-6b5c-4372-ad96-15670190ca18",
   "metadata": {
    "tags": [],
    "pycharm": {
     "name": "#%%\n"
    }
   },
   "outputs": [],
   "source": [
    "import datetime\n",
    "\n",
    "import boto3\n",
    "import pandas as pd\n",
    "import numpy as np\n",
    "import statsmodels.formula.api as smf\n",
    "\n",
    "from mtclient import MTClient\n",
    "import mtglobals"
   ]
  },
  {
   "cell_type": "markdown",
   "id": "ebb4e6f4-82ca-48b3-ae62-8a9a01c14263",
   "metadata": {
    "pycharm": {
     "name": "#%% md\n"
    }
   },
   "source": [
    "### (a) Get all hits since `date_cutoff`"
   ]
  },
  {
   "cell_type": "code",
   "execution_count": 3,
   "id": "42afca61-5f50-45be-ac34-8d022a4f9b2e",
   "metadata": {
    "tags": [],
    "pycharm": {
     "name": "#%%\n"
    }
   },
   "outputs": [
    {
     "name": "stdout",
     "output_type": "stream",
     "text": [
      "Your account balance is 2481.66\n",
      "Downloading list of hits from 2021-10-30 00:00:00+00:00 to 2022-09-21 17:27:07.117372-07:53\n",
      "p2:dPZUAoRE7HA7o3GLotDDQ3EXkCYTOBlfBg8RV9hP05Gb7NKhysqDHGjgGQ6kdJM=\n",
      "Saving downloaded HIT data to ../results_2stage/all_hit_data.pkl\n"
     ]
    }
   ],
   "source": [
    "client = MTClient()\n",
    "all_hits = client.download_all_hits()"
   ]
  },
  {
   "cell_type": "markdown",
   "id": "aefab224-6517-4d66-ac1d-de6360f85d79",
   "metadata": {
    "pycharm": {
     "name": "#%% md\n"
    }
   },
   "source": [
    "### (b) Get all workers with the qual for the current run"
   ]
  },
  {
   "cell_type": "code",
   "execution_count": 4,
   "id": "b547b26f-ccb0-4d4b-a8a3-2b9c828412f5",
   "metadata": {
    "tags": [],
    "pycharm": {
     "name": "#%%\n"
    }
   },
   "outputs": [
    {
     "data": {
      "text/plain": "'Workplace_Survey_00'"
     },
     "execution_count": 4,
     "metadata": {},
     "output_type": "execute_result"
    }
   ],
   "source": [
    "current_qual = mtglobals.get_current_qual()\n",
    "current_qual['qual_name']"
   ]
  },
  {
   "cell_type": "code",
   "execution_count": 6,
   "id": "6f6a1afd-e014-44dc-bfad-61a513e383f6",
   "metadata": {
    "tags": [],
    "pycharm": {
     "name": "#%%\n"
    }
   },
   "outputs": [],
   "source": [
    "worker_ids = client.get_workers_with_qual(current_qual['qual_name'])"
   ]
  },
  {
   "cell_type": "code",
   "execution_count": 7,
   "id": "9c12b7d3-90e0-4204-8ee0-2c275063bd9b",
   "metadata": {
    "tags": [],
    "pycharm": {
     "name": "#%%\n"
    }
   },
   "outputs": [
    {
     "data": {
      "text/plain": "0"
     },
     "execution_count": 7,
     "metadata": {},
     "output_type": "execute_result"
    }
   ],
   "source": [
    "len(worker_ids)"
   ]
  },
  {
   "cell_type": "code",
   "execution_count": 46,
   "id": "24461587-8c83-487b-bbcf-d97e746d9a53",
   "metadata": {
    "tags": [],
    "pycharm": {
     "name": "#%%\n"
    }
   },
   "outputs": [],
   "source": [
    "# Print titles for each HIT\n",
    "#hit_list = [(r_num, r['Title'], r['NumberOfAssignmentsAvailable']) for r_num, r in enumerate(all_hits)]\n",
    "#len(hit_list)\n",
    "#hit_list[:20]"
   ]
  },
  {
   "cell_type": "code",
   "execution_count": 47,
   "id": "85ea7cc0-6fdd-4f72-b613-4e61e0f88342",
   "metadata": {
    "tags": [],
    "pycharm": {
     "name": "#%%\n"
    }
   },
   "outputs": [],
   "source": [
    "# Now load the launched worker HIT info\n",
    "#launched_df = pd.read_csv(mtglobals.stage2_launched_fpath)\n",
    "#len(launched_df)"
   ]
  },
  {
   "cell_type": "markdown",
   "id": "ee26d3ce-1618-4730-adc5-7da8adce72c9",
   "metadata": {
    "pycharm": {
     "name": "#%% md\n"
    }
   },
   "source": [
    "### (c) Get the HITs for each worker id"
   ]
  },
  {
   "cell_type": "code",
   "execution_count": 15,
   "id": "67755c4f-3b40-43cb-8a01-b058ef4b50c4",
   "metadata": {
    "tags": [],
    "pycharm": {
     "name": "#%%\n"
    }
   },
   "outputs": [],
   "source": [
    "def get_most_recent(worker_hits):\n",
    "    sorted_hits = sorted(worker_hits, key=lambda x: x['CreationTime'], reverse=True)\n",
    "    #print([h['CreationTime'] for h in sorted_hits])\n",
    "    return sorted_hits[0]\n",
    "\n",
    "def get_active_hits(all_hits, launched_df):\n",
    "    active_hits = []\n",
    "    for row_index, cur_row in launched_df.iterrows():\n",
    "        cur_worker_id = cur_row['worker_id']\n",
    "        cur_launch = cur_row['launched_time']\n",
    "        #print(f\"{cur_worker_id}: {cur_launch}\")\n",
    "        # Find the HIT for this worker\n",
    "        worker_hits = [h for h in all_hits if cur_worker_id in h['Title']]\n",
    "        if len(worker_hits) > 1:\n",
    "            # Multiple HITs for this worker...\n",
    "            print(f\"{len(worker_hits)} HITs for {cur_worker_id}\")\n",
    "            # Use CreationTime to find the most recent HIT\n",
    "            #for hit_num, cur_hit in enumerate(worker_hits):\n",
    "            #    print(f\"HIT #{hit_num}: {cur_hit['CreationTime']}\")\n",
    "            most_recent = get_most_recent(worker_hits)\n",
    "            #print(f\"Most recent: {most_recent['CreationTime']}\")\n",
    "            #print(worker_hits)\n",
    "            active_hits.append((cur_worker_id,most_recent))\n",
    "        elif len(worker_hits) == 1:\n",
    "            #print(f\"Found unique HIT for {cur_worker_id}\")\n",
    "            active_hits.append((cur_worker_id, worker_hits[0]))\n",
    "        else:\n",
    "            print(f\"No HIT found for {cur_worker_id}!\")\n",
    "    return active_hits"
   ]
  },
  {
   "cell_type": "code",
   "execution_count": 16,
   "id": "f016aa30-1398-49e8-965c-057542b51d6d",
   "metadata": {
    "tags": [],
    "pycharm": {
     "name": "#%%\n"
    }
   },
   "outputs": [],
   "source": [
    "def get_hit_for_worker(all_hits, worker_id, verbose=False):\n",
    "    vprint = print if verbose else lambda x: None\n",
    "    # The HIT only has the worker_id in its title, so we have to extract\n",
    "    # using mtglobals.worker_id_from_title()\n",
    "    #vprint([h['Title'] for h in all_hits])\n",
    "    results = [h for h in all_hits if mtglobals.worker_id_from_title(h['Title']) == worker_id]\n",
    "    if len(results) == 0:\n",
    "        raise Exception(f\"No HIT found for worker {worker_id}\")\n",
    "    return results[0]"
   ]
  },
  {
   "cell_type": "code",
   "execution_count": 8,
   "id": "d691e1ff-097e-4d83-9e71-559314bdfdcc",
   "metadata": {
    "tags": [],
    "pycharm": {
     "name": "#%%\n"
    }
   },
   "outputs": [],
   "source": [
    "# Get the hits created for all workers with the qual specified above\n",
    "stage2_hits = [get_hit_for_worker(all_hits, w, verbose=True) for w in worker_ids]"
   ]
  },
  {
   "cell_type": "code",
   "execution_count": 9,
   "outputs": [
    {
     "data": {
      "text/plain": "[]"
     },
     "execution_count": 9,
     "metadata": {},
     "output_type": "execute_result"
    }
   ],
   "source": [
    "stage2_hits"
   ],
   "metadata": {
    "collapsed": false,
    "pycharm": {
     "name": "#%%\n"
    }
   }
  },
  {
   "cell_type": "code",
   "execution_count": 18,
   "id": "68271065-82ec-4855-a1fe-8267dd056c38",
   "metadata": {
    "tags": [],
    "pycharm": {
     "name": "#%%\n"
    }
   },
   "outputs": [],
   "source": [
    "#stage2_hits = [h for h in all_hits if h['Title'].startswith(\"Custom workplace survey HIT\")]\n",
    "#stage2_hit_info = get_active_hits(all_hits, launched_df)\n",
    "#stage2_hits = [i[1] for i in stage2_hit_info]\n",
    "#print(f\"{len(stage2_hits)} stage-2 HITs found\")\n",
    "#stage2_ids = [h['HITId'] for h in stage2_hits]\n",
    "#info_vars = ['HITId','HITTypeId','HITGroupId','HITLayoutId', #'Title', 'Description',\n",
    "#            'Reward']"
   ]
  },
  {
   "cell_type": "markdown",
   "id": "d20f04c5-6502-4310-b80e-3aaeea94d633",
   "metadata": {
    "pycharm": {
     "name": "#%% md\n"
    }
   },
   "source": [
    "### (d) Get info about + approve the submissions (if any) for these HITs"
   ]
  },
  {
   "cell_type": "code",
   "execution_count": 19,
   "id": "91e9dd90-368b-4699-8efa-0b9212036926",
   "metadata": {
    "tags": [],
    "pycharm": {
     "name": "#%%\n"
    }
   },
   "outputs": [],
   "source": [
    "def check_submitted(hit_id):\n",
    "    # Return \n",
    "    assignment_response = client.list_assignments_for_hit(\n",
    "        HITId=hit_id,\n",
    "        #AssignmentStatuses=[\n",
    "        #    'Submitted'|'Approved'|'Rejected',\n",
    "        #]\n",
    "    )\n",
    "    return assignment_response"
   ]
  },
  {
   "cell_type": "code",
   "execution_count": 20,
   "id": "f47ddd4e-a04f-470d-925d-2ef4260df12a",
   "metadata": {
    "tags": [],
    "pycharm": {
     "name": "#%%\n"
    }
   },
   "outputs": [],
   "source": [
    "[\n",
    "    (n, str(h['CreationTime']), h['Title'], h['Reward'], h['NumberOfAssignmentsCompleted'],\n",
    "     h['NumberOfAssignmentsPending'], h['NumberOfAssignmentsAvailable'])\n",
    "    for n, h in enumerate(stage2_hits)\n",
    "];"
   ]
  },
  {
   "cell_type": "code",
   "execution_count": 21,
   "id": "79421871-649c-4d6c-90e0-6f3da8d5fa88",
   "metadata": {
    "scrolled": true,
    "tags": [],
    "pycharm": {
     "name": "#%%\n"
    }
   },
   "outputs": [
    {
     "name": "stdout",
     "output_type": "stream",
     "text": [
      "HIT #0: Custom workplace survey HIT for worker id A101034V35PRT0, created 2022-02-02 15:33:35-08:00\n",
      "HIT #1: Custom workplace survey HIT for worker id A101U3FTZYY87V, created 2022-02-02 15:32:07-08:00\n",
      "HIT #2: Custom workplace survey HIT for worker id A103A7PRZURWVQ, created 2022-02-02 16:16:13-08:00\n",
      "HIT #3: Custom workplace survey HIT for worker id A10994CPHWH2VP, created 2022-02-02 15:34:50-08:00\n",
      "HIT #4: Custom workplace survey HIT for worker id A109ZF92TH9Y8J, created 2022-02-02 15:34:18-08:00\n",
      "HIT #5: Custom workplace survey HIT for worker id A10HW8JXM17XLD, created 2022-02-02 15:40:24-08:00\n",
      "HIT #6: Custom workplace survey HIT for worker id A10KKMVN3C5JK2, created 2022-02-02 16:13:31-08:00\n",
      "HIT #7: Custom workplace survey HIT for worker id A10KRP4WDWI8PN, created 2022-02-02 15:34:20-08:00\n",
      "HIT #8: Custom workplace survey HIT for worker id A10QHF22I8ON1O, created 2022-02-02 16:16:35-08:00\n",
      "HIT #9: Custom workplace survey HIT for worker id A10STLCK650JHQ, created 2022-02-02 16:12:50-08:00\n",
      "HIT #10: Custom workplace survey HIT for worker id A10T1B7ZPCZIPK, created 2022-02-02 15:39:46-08:00\n",
      "HIT #11: Custom workplace survey HIT for worker id A10ULZCNQ3DY3Q, created 2022-02-02 16:14:36-08:00\n",
      "HIT #12: Custom workplace survey HIT for worker id A1120COK15LCEU, created 2022-02-02 16:12:56-08:00\n",
      "HIT #13: Custom workplace survey HIT for worker id A11C3YKXF3IKGU, created 2022-02-02 15:36:34-08:00\n",
      "HIT #14: Custom workplace survey HIT for worker id A11CKZRF987UZF, created 2022-02-02 16:14:52-08:00\n",
      "HIT #15: Custom workplace survey HIT for worker id A11FFJZ0C984W4, created 2022-02-02 16:17:25-08:00\n",
      "HIT #16: Custom workplace survey HIT for worker id A11KCJVVZDSOT0, created 2022-02-02 15:40:17-08:00\n",
      "HIT #17: Custom workplace survey HIT for worker id A11OZ8HFTQM88I, created 2022-02-02 15:32:20-08:00\n",
      "HIT #18: Custom workplace survey HIT for worker id A11UG30LL53IHA, created 2022-02-02 16:16:29-08:00\n",
      "HIT #19: Custom workplace survey HIT for worker id A1228O8OZIJMSP, created 2022-02-02 15:35:19-08:00\n",
      "HIT #20: Custom workplace survey HIT for worker id A123KWRQA4CZDI, created 2022-02-02 16:16:38-08:00\n",
      "HIT #21: Custom workplace survey HIT for worker id A127IAEAJ5C2VN, created 2022-02-02 15:32:10-08:00\n",
      "HIT #22: Custom workplace survey HIT for worker id A12FIOBKBN0AK9, created 2022-02-02 15:33:41-08:00\n",
      "HIT #23: Custom workplace survey HIT for worker id A12GME5CM4AJA4, created 2022-02-02 15:35:38-08:00\n",
      "HIT #24: Custom workplace survey HIT for worker id A12MSYRHI3XWDT, created 2022-02-02 15:33:31-08:00\n",
      "HIT #25: Custom workplace survey HIT for worker id A12NNJKHIZP1TY, created 2022-02-02 16:17:34-08:00\n",
      "HIT #26: Custom workplace survey HIT for worker id A12O9P1OTMJOPW, created 2022-02-02 15:38:26-08:00\n",
      "HIT #27: Custom workplace survey HIT for worker id A12S9AKSP4U4BD, created 2022-02-02 15:33:23-08:00\n",
      "HIT #28: Custom workplace survey HIT for worker id A132MSWBBVTOES, created 2022-02-02 15:36:37-08:00\n",
      "HIT #29: Custom workplace survey HIT for worker id A133QG754CGS3I, created 2022-02-02 16:15:13-08:00\n",
      "HIT #30: Custom workplace survey HIT for worker id A1368BGPOZID3I, created 2022-02-02 16:15:34-08:00\n",
      "HIT #31: Custom workplace survey HIT for worker id A13DHPKBQXN9R7, created 2022-02-02 16:15:58-08:00\n",
      "HIT #32: Custom workplace survey HIT for worker id A13VEADTZLHTP6, created 2022-02-02 15:37:35-08:00\n",
      "HIT #33: Custom workplace survey HIT for worker id A13VKP74NRMO11, created 2022-02-02 15:36:04-08:00\n",
      "HIT #34: Custom workplace survey HIT for worker id A144NI4IO15JFI, created 2022-02-02 15:35:39-08:00\n",
      "HIT #35: Custom workplace survey HIT for worker id A146MSML39KY98, created 2022-02-02 16:13:36-08:00\n",
      "HIT #36: Custom workplace survey HIT for worker id A14FEOINUAM721, created 2022-02-02 16:17:55-08:00\n",
      "HIT #37: Custom workplace survey HIT for worker id A14KU2S0KYTP5U, created 2022-02-02 16:14:48-08:00\n",
      "HIT #38: Custom workplace survey HIT for worker id A14M2EERU7E8KD, created 2022-02-02 15:36:11-08:00\n",
      "HIT #39: Custom workplace survey HIT for worker id A14OPFM8OFA4WF, created 2022-02-02 15:39:26-08:00\n",
      "HIT #40: Custom workplace survey HIT for worker id A14QUTGEXRV4R5, created 2022-02-02 15:39:22-08:00\n",
      "HIT #41: Custom workplace survey HIT for worker id A14SGA9OIEK177, created 2022-02-02 15:33:12-08:00\n",
      "HIT #42: Custom workplace survey HIT for worker id A14YASSPFLPIGE, created 2022-02-02 16:17:09-08:00\n",
      "HIT #43: Custom workplace survey HIT for worker id A14YQGOZX4KRMA, created 2022-02-02 15:34:03-08:00\n",
      "HIT #44: Custom workplace survey HIT for worker id A14Z7ED81ZWP0O, created 2022-02-02 15:40:06-08:00\n",
      "HIT #45: Custom workplace survey HIT for worker id A1546K5ZL0H4B, created 2022-02-02 15:37:46-08:00\n",
      "HIT #46: Custom workplace survey HIT for worker id A157YDLCSQDF1T, created 2022-02-02 15:32:05-08:00\n",
      "HIT #47: Custom workplace survey HIT for worker id A15E8QIOPOFMG3, created 2022-02-02 15:33:16-08:00\n",
      "HIT #48: Custom workplace survey HIT for worker id A15HCM2AMX95Z9, created 2022-02-02 15:39:25-08:00\n",
      "HIT #49: Custom workplace survey HIT for worker id A15LPXZLC6NUHT, created 2022-02-02 15:37:25-08:00\n",
      "HIT #50: Custom workplace survey HIT for worker id A15M2UXOU9A55N, created 2022-02-02 15:38:04-08:00\n",
      "HIT #51: Custom workplace survey HIT for worker id A15T9HDPHV3X7Q, created 2022-02-02 15:33:14-08:00\n",
      "HIT #52: Custom workplace survey HIT for worker id A15X9KAJB8M54B, created 2022-02-02 15:37:33-08:00\n",
      "HIT #53: Custom workplace survey HIT for worker id A15Y215D57OSO5, created 2022-02-02 16:14:21-08:00\n",
      "HIT #54: Custom workplace survey HIT for worker id A1635L6G60W2S4, created 2022-02-02 15:32:30-08:00\n",
      "HIT #55: Custom workplace survey HIT for worker id A16IQOX0DK14OJ, created 2022-02-02 15:37:00-08:00\n",
      "HIT #56: Custom workplace survey HIT for worker id A16JWEMJYB2YMZ, created 2022-02-02 16:16:20-08:00\n",
      "HIT #57: Custom workplace survey HIT for worker id A16VLGA9GWPM16, created 2022-02-02 16:13:52-08:00\n",
      "HIT #58: Custom workplace survey HIT for worker id A16XDO6MW9ZKMI, created 2022-02-02 15:31:56-08:00\n",
      "HIT #59: Custom workplace survey HIT for worker id A16YX79JWA298D, created 2022-02-02 16:17:16-08:00\n",
      "HIT #60: Custom workplace survey HIT for worker id A171C7B6HHSEGH, created 2022-02-02 16:17:49-08:00\n",
      "HIT #61: Custom workplace survey HIT for worker id A17C0MS1LWI1AB, created 2022-02-02 16:15:01-08:00\n",
      "HIT #62: Custom workplace survey HIT for worker id A17D6BK59S31BM, created 2022-02-02 15:34:53-08:00\n",
      "HIT #63: Custom workplace survey HIT for worker id A17KD4QJIL83SR, created 2022-02-02 16:14:56-08:00\n",
      "HIT #64: Custom workplace survey HIT for worker id A17LE8NF6KKDDH, created 2022-02-02 15:36:17-08:00\n",
      "HIT #65: Custom workplace survey HIT for worker id A17TKHT8FEVH0R, created 2022-02-02 16:16:49-08:00\n",
      "HIT #66: Custom workplace survey HIT for worker id A17X6EQ0UKZVB1, created 2022-02-02 15:33:34-08:00\n",
      "HIT #67: Custom workplace survey HIT for worker id A18E16UFE351U6, created 2022-02-02 16:15:56-08:00\n",
      "HIT #68: Custom workplace survey HIT for worker id A18F1YMEP5KTG8, created 2022-02-02 16:16:46-08:00\n",
      "HIT #69: Custom workplace survey HIT for worker id A18KLDM615KKX1, created 2022-02-02 15:39:45-08:00\n",
      "HIT #70: Custom workplace survey HIT for worker id A18UTX5FD7NPRV, created 2022-02-02 15:40:06-08:00\n",
      "HIT #71: Custom workplace survey HIT for worker id A18WG7Z9X9GH7E, created 2022-02-02 15:33:22-08:00\n",
      "HIT #72: Custom workplace survey HIT for worker id A18WSAKX5YN2FB, created 2022-02-02 15:40:33-08:00\n",
      "HIT #73: Custom workplace survey HIT for worker id A195MOXRMNHRVT, created 2022-02-02 15:34:31-08:00\n",
      "HIT #74: Custom workplace survey HIT for worker id A19CRLXBLNZAHQ, created 2022-02-02 16:14:06-08:00\n",
      "HIT #75: Custom workplace survey HIT for worker id A19KFIN90I939T, created 2022-02-02 15:36:05-08:00\n",
      "HIT #76: Custom workplace survey HIT for worker id A19L9LTUD8Q7SH, created 2022-02-02 15:32:31-08:00\n",
      "HIT #77: Custom workplace survey HIT for worker id A19WV2PBWN5UPU, created 2022-02-02 15:40:21-08:00\n",
      "HIT #78: Custom workplace survey HIT for worker id A19Y5YPLLDD2TD, created 2022-02-02 15:39:50-08:00\n",
      "HIT #79: Custom workplace survey HIT for worker id A1A3IZ30V2JU65, created 2022-02-02 16:18:25-08:00\n",
      "HIT #80: Custom workplace survey HIT for worker id A1A6R5X6YELRAV, created 2022-02-02 15:31:57-08:00\n",
      "HIT #81: Custom workplace survey HIT for worker id A1AKWJBYNSKFEF, created 2022-02-02 15:34:44-08:00\n",
      "HIT #82: Custom workplace survey HIT for worker id A1AMGHYG5PT0L2, created 2022-02-02 16:15:38-08:00\n",
      "HIT #83: Custom workplace survey HIT for worker id A1ASKWAY6UBG7B, created 2022-02-02 15:34:14-08:00\n",
      "HIT #84: Custom workplace survey HIT for worker id A1ASVZ6ZU0V41P, created 2022-02-02 15:35:11-08:00\n",
      "HIT #85: Custom workplace survey HIT for worker id A1ATXPTNDA7P9N, created 2022-02-02 15:34:00-08:00\n",
      "HIT #86: Custom workplace survey HIT for worker id A1B1POX9IQ9BF1, created 2022-02-02 15:38:23-08:00\n",
      "HIT #87: Custom workplace survey HIT for worker id A1BAIZCYBP3S0Z, created 2022-02-02 15:39:02-08:00\n",
      "HIT #88: Custom workplace survey HIT for worker id A1BIENE9M8DX6H, created 2022-02-02 15:32:15-08:00\n",
      "HIT #89: Custom workplace survey HIT for worker id A1BJC7D4UBFCR1, created 2022-02-02 15:37:02-08:00\n",
      "HIT #90: Custom workplace survey HIT for worker id A1BXXF6RNJRPS0, created 2022-02-02 15:34:54-08:00\n",
      "HIT #91: Custom workplace survey HIT for worker id A1CA6ZXKK09ZRI, created 2022-02-02 15:37:52-08:00\n",
      "HIT #92: Custom workplace survey HIT for worker id A1CC37O25NMKXI, created 2022-02-02 15:38:40-08:00\n",
      "HIT #93: Custom workplace survey HIT for worker id A1CPT8WZBTJTP9, created 2022-02-02 15:40:08-08:00\n",
      "HIT #94: Custom workplace survey HIT for worker id A1CPVTZAK27YSF, created 2022-02-02 16:15:47-08:00\n",
      "HIT #95: Custom workplace survey HIT for worker id A1CRE2Z623JZ6V, created 2022-02-02 15:40:20-08:00\n",
      "HIT #96: Custom workplace survey HIT for worker id A1CVYXRMV8L5KQ, created 2022-02-02 15:36:13-08:00\n",
      "HIT #97: Custom workplace survey HIT for worker id A1D61PI0WJ9571, created 2022-02-02 15:38:24-08:00\n",
      "HIT #98: Custom workplace survey HIT for worker id A1D96X2VVDA8EP, created 2022-02-02 16:17:12-08:00\n",
      "HIT #99: Custom workplace survey HIT for worker id A1DH3NR9F3CM4E, created 2022-02-02 15:39:39-08:00\n",
      "HIT #100: Custom workplace survey HIT for worker id A1DIVR1A7B0PHG, created 2022-02-02 15:33:14-08:00\n",
      "HIT #101: Custom workplace survey HIT for worker id A1DJVDXTQBNJMZ, created 2022-02-02 15:33:33-08:00\n",
      "HIT #102: Custom workplace survey HIT for worker id A1DL3NEZFY4V4E, created 2022-02-02 15:37:39-08:00\n",
      "HIT #103: Custom workplace survey HIT for worker id A1DO4560E6OQC2, created 2022-02-02 15:37:07-08:00\n",
      "HIT #104: Custom workplace survey HIT for worker id A1DXKXWTAHA93N, created 2022-02-02 15:39:28-08:00\n",
      "HIT #105: Custom workplace survey HIT for worker id A1DZ08Y8LI6IC9, created 2022-02-02 15:37:37-08:00\n",
      "HIT #106: Custom workplace survey HIT for worker id A1E3MR98PNWZBD, created 2022-02-02 16:16:33-08:00\n",
      "HIT #107: Custom workplace survey HIT for worker id A1E5CXUFXRRWUC, created 2022-02-02 15:35:14-08:00\n",
      "HIT #108: Custom workplace survey HIT for worker id A1EEGUHNFWHN4C, created 2022-02-02 15:38:35-08:00\n",
      "HIT #109: Custom workplace survey HIT for worker id A1EIKIHK12UDP0, created 2022-02-02 15:38:08-08:00\n",
      "HIT #110: Custom workplace survey HIT for worker id A1EVZFXEN0LO0, created 2022-02-02 15:36:37-08:00\n",
      "HIT #111: Custom workplace survey HIT for worker id A1F6ONUGQVVINK, created 2022-02-02 16:13:23-08:00\n",
      "HIT #112: Custom workplace survey HIT for worker id A1FDOUTS5CV1YK, created 2022-02-02 15:38:58-08:00\n",
      "HIT #113: Custom workplace survey HIT for worker id A1FG2G9TZSDN, created 2022-02-02 15:35:49-08:00\n",
      "HIT #114: Custom workplace survey HIT for worker id A1FLEFIVFT809G, created 2022-02-02 15:39:13-08:00\n",
      "HIT #115: Custom workplace survey HIT for worker id A1FLFFDM3S6Q3D, created 2022-02-02 16:15:59-08:00\n",
      "HIT #116: Custom workplace survey HIT for worker id A1FMI7N933H3LX, created 2022-02-02 15:33:00-08:00\n",
      "HIT #117: Custom workplace survey HIT for worker id A1FRGSJ9KXUABM, created 2022-02-02 15:32:21-08:00\n",
      "HIT #118: Custom workplace survey HIT for worker id A1FYQBIT3AACZX, created 2022-02-02 15:37:13-08:00\n",
      "HIT #119: Custom workplace survey HIT for worker id A1FZV1T80VA9GK, created 2022-02-02 15:40:38-08:00\n",
      "HIT #120: Custom workplace survey HIT for worker id A1G1OO4IWM8EP5, created 2022-02-02 16:13:04-08:00\n",
      "HIT #121: Custom workplace survey HIT for worker id A1G5EPLJEGL381, created 2022-02-02 16:15:52-08:00\n",
      "HIT #122: Custom workplace survey HIT for worker id A1G8B6NLZNZI46, created 2022-02-02 16:17:08-08:00\n",
      "HIT #123: Custom workplace survey HIT for worker id A1GAN1ZSJ49T1E, created 2022-02-02 15:36:41-08:00\n",
      "HIT #124: Custom workplace survey HIT for worker id A1GCTKOPKUTW3G, created 2022-02-02 15:32:44-08:00\n",
      "HIT #125: Custom workplace survey HIT for worker id A1GJCYBSWQXB9P, created 2022-02-02 15:40:34-08:00\n",
      "HIT #126: Custom workplace survey HIT for worker id A1GKEEI844CEKI, created 2022-02-02 15:39:59-08:00\n",
      "HIT #127: Custom workplace survey HIT for worker id A1GRPIBHW72HDU, created 2022-02-02 15:40:28-08:00\n",
      "HIT #128: Custom workplace survey HIT for worker id A1GTK51EOSCJOV, created 2022-02-02 15:38:06-08:00\n",
      "HIT #129: Custom workplace survey HIT for worker id A1H8KUKV1DKA6U, created 2022-02-02 16:18:11-08:00\n",
      "HIT #130: Custom workplace survey HIT for worker id A1HCG7JVD2AHIV, created 2022-02-02 15:40:12-08:00\n",
      "HIT #131: Custom workplace survey HIT for worker id A1HQACVVJED1UR, created 2022-02-02 15:33:32-08:00\n",
      "HIT #132: Custom workplace survey HIT for worker id A1HQHTBGXT7CM5, created 2022-02-02 16:14:31-08:00\n",
      "HIT #133: Custom workplace survey HIT for worker id A1HSWJDMQYZL3X, created 2022-02-02 15:38:05-08:00\n",
      "HIT #134: Custom workplace survey HIT for worker id A1HTVF21ZSSYNJ, created 2022-02-02 16:14:09-08:00\n",
      "HIT #135: Custom workplace survey HIT for worker id A1HWMTN7NNV4UA, created 2022-02-02 16:15:00-08:00\n",
      "HIT #136: Custom workplace survey HIT for worker id A1HZI0OOSZQ14V, created 2022-02-02 16:14:02-08:00\n",
      "HIT #137: Custom workplace survey HIT for worker id A1I7OX254Z8KY0, created 2022-02-02 15:40:25-08:00\n",
      "HIT #138: Custom workplace survey HIT for worker id A1I9MKBMK0C6FO, created 2022-02-02 15:33:20-08:00\n",
      "HIT #139: Custom workplace survey HIT for worker id A1INL9RS5TI9QB, created 2022-02-02 16:15:28-08:00\n",
      "HIT #140: Custom workplace survey HIT for worker id A1ITEGLA8ZQ8TL, created 2022-02-02 15:35:03-08:00\n",
      "HIT #141: Custom workplace survey HIT for worker id A1J08C3Z62NS33, created 2022-02-02 15:37:19-08:00\n",
      "HIT #142: Custom workplace survey HIT for worker id A1J9VZ372FV2QZ, created 2022-02-02 16:17:38-08:00\n",
      "HIT #143: Custom workplace survey HIT for worker id A1JCSV5UXQ5VFK, created 2022-02-02 16:14:53-08:00\n",
      "HIT #144: Custom workplace survey HIT for worker id A1JDM2T6MCDFXE, created 2022-02-02 15:32:27-08:00\n",
      "HIT #145: Custom workplace survey HIT for worker id A1JGYI2JP5XM93, created 2022-02-02 16:14:01-08:00\n",
      "HIT #146: Custom workplace survey HIT for worker id A1JRN43LLN30FQ, created 2022-02-02 16:14:16-08:00\n",
      "HIT #147: Custom workplace survey HIT for worker id A1JT53BJT9J5HU, created 2022-02-02 15:38:11-08:00\n",
      "HIT #148: Custom workplace survey HIT for worker id A1JTB0WOGPDIWU, created 2022-02-02 15:33:06-08:00\n",
      "HIT #149: Custom workplace survey HIT for worker id A1JWNZLD7PS5NU, created 2022-02-02 16:15:22-08:00\n",
      "HIT #150: Custom workplace survey HIT for worker id A1K2R6FBPUA5TQ, created 2022-02-02 15:37:22-08:00\n",
      "HIT #151: Custom workplace survey HIT for worker id A1K8VUKRL53OX, created 2022-02-02 15:39:17-08:00\n",
      "HIT #152: Custom workplace survey HIT for worker id A1L2N1X8U8Z3W7, created 2022-02-02 16:13:29-08:00\n",
      "HIT #153: Custom workplace survey HIT for worker id A1L393GYCF4XIH, created 2022-02-02 15:32:24-08:00\n",
      "HIT #154: Custom workplace survey HIT for worker id A1L8ZQ4A13OGWX, created 2022-02-02 16:14:23-08:00\n",
      "HIT #155: Custom workplace survey HIT for worker id A1LFOS4GL90HWU, created 2022-02-02 15:40:25-08:00\n",
      "HIT #156: Custom workplace survey HIT for worker id A1LUSBP8O7KBTK, created 2022-02-02 15:39:11-08:00\n",
      "HIT #157: Custom workplace survey HIT for worker id A1M29T8N8FM6H8, created 2022-02-02 16:13:59-08:00\n",
      "HIT #158: Custom workplace survey HIT for worker id A1M2SEEHPQGK32, created 2022-02-02 16:14:35-08:00\n",
      "HIT #159: Custom workplace survey HIT for worker id A1M5834OFX908O, created 2022-02-02 16:15:37-08:00\n",
      "HIT #160: Custom workplace survey HIT for worker id A1M9ED6NUDC9KV, created 2022-02-02 15:32:48-08:00\n",
      "HIT #161: Custom workplace survey HIT for worker id A1MC30KP636JVS, created 2022-02-02 15:34:25-08:00\n",
      "HIT #162: Custom workplace survey HIT for worker id A1MD5SMZ7L4P0H, created 2022-02-02 15:35:04-08:00\n",
      "HIT #163: Custom workplace survey HIT for worker id A1MF8IRLW6YRF7, created 2022-02-02 15:35:54-08:00\n",
      "HIT #164: Custom workplace survey HIT for worker id A1MJCUWVCRAZ73, created 2022-02-02 15:38:44-08:00\n",
      "HIT #165: Custom workplace survey HIT for worker id A1MP2GETEETIT7, created 2022-02-02 16:12:54-08:00\n",
      "HIT #166: Custom workplace survey HIT for worker id A1MT2PTYKKLNMP, created 2022-02-02 16:13:51-08:00\n",
      "HIT #167: Custom workplace survey HIT for worker id A1N6LEU6CYVTNW, created 2022-02-02 15:39:21-08:00\n",
      "HIT #168: Custom workplace survey HIT for worker id A1NCO5A4JYHGKQ, created 2022-02-02 16:13:12-08:00\n",
      "HIT #169: Custom workplace survey HIT for worker id A1NLARSRIKKKGX, created 2022-02-02 15:35:50-08:00\n",
      "HIT #170: Custom workplace survey HIT for worker id A1NOFP5DV5S7DW, created 2022-02-02 15:39:48-08:00\n",
      "HIT #171: Custom workplace survey HIT for worker id A1NOI849V6DAIB, created 2022-02-02 16:12:59-08:00\n",
      "HIT #172: Custom workplace survey HIT for worker id A1NRHODZG1OWAJ, created 2022-02-02 16:15:17-08:00\n",
      "HIT #173: Custom workplace survey HIT for worker id A1NUW3AISE7RZC, created 2022-02-02 16:13:30-08:00\n",
      "HIT #174: Custom workplace survey HIT for worker id A1NZTREGVTRQS7, created 2022-02-02 15:34:53-08:00\n",
      "HIT #175: Custom workplace survey HIT for worker id A1O1Q9NG7TADK9, created 2022-02-02 15:35:17-08:00\n",
      "HIT #176: Custom workplace survey HIT for worker id A1O406PT08JFTR, created 2022-02-02 15:35:00-08:00\n",
      "HIT #177: Custom workplace survey HIT for worker id A1O8UCJE4SB5VO, created 2022-02-02 15:37:20-08:00\n",
      "HIT #178: Custom workplace survey HIT for worker id A1O9OVB3AFL9R4, created 2022-02-02 16:17:48-08:00\n",
      "HIT #179: Custom workplace survey HIT for worker id A1OGOV0F5NCBZK, created 2022-02-02 15:38:03-08:00\n",
      "HIT #180: Custom workplace survey HIT for worker id A1OREUR6RUEVOX, created 2022-02-02 15:32:04-08:00\n",
      "HIT #181: Custom workplace survey HIT for worker id A1OZ3PPHAEWA8S, created 2022-02-02 16:12:57-08:00\n",
      "HIT #182: Custom workplace survey HIT for worker id A1OZPLHNIU1519, created 2022-02-02 15:32:50-08:00\n",
      "HIT #183: Custom workplace survey HIT for worker id A1P47Q6LZPLQ6P, created 2022-02-02 16:15:04-08:00\n",
      "HIT #184: Custom workplace survey HIT for worker id A1PAY3X73PQ16S, created 2022-02-02 15:31:55-08:00\n",
      "HIT #185: Custom workplace survey HIT for worker id A1PLVSI37Y3YFM, created 2022-02-02 16:14:28-08:00\n",
      "HIT #186: Custom workplace survey HIT for worker id A1PNBO2A6UZXRC, created 2022-02-02 15:36:40-08:00\n",
      "HIT #187: Custom workplace survey HIT for worker id A1PO2UI2D34K1T, created 2022-02-02 15:37:28-08:00\n",
      "HIT #188: Custom workplace survey HIT for worker id A1PT01KYWACFKT, created 2022-02-02 16:12:39-08:00\n",
      "HIT #189: Custom workplace survey HIT for worker id A1PVL74S10WYD7, created 2022-02-02 16:15:10-08:00\n",
      "HIT #190: Custom workplace survey HIT for worker id A1PVTQNQ3GMMQS, created 2022-02-02 15:33:17-08:00\n",
      "HIT #191: Custom workplace survey HIT for worker id A1PX0L6KWGXC3E, created 2022-02-02 15:37:12-08:00\n",
      "HIT #192: Custom workplace survey HIT for worker id A1QAIJ6OOQH3RL, created 2022-02-02 15:37:04-08:00\n",
      "HIT #193: Custom workplace survey HIT for worker id A1QBXHBQ3WL2IW, created 2022-02-02 15:32:51-08:00\n",
      "HIT #194: Custom workplace survey HIT for worker id A1QJTS0D6UCN43, created 2022-02-02 16:16:58-08:00\n",
      "HIT #195: Custom workplace survey HIT for worker id A1QJW2DB0W14FB, created 2022-02-02 16:17:59-08:00\n",
      "HIT #196: Custom workplace survey HIT for worker id A1QMM7AVY98D0C, created 2022-02-02 16:15:26-08:00\n",
      "HIT #197: Custom workplace survey HIT for worker id A1QSUIQRZFQ85E, created 2022-02-02 16:14:41-08:00\n",
      "HIT #198: Custom workplace survey HIT for worker id A1R0DIJHIE1LOC, created 2022-02-02 16:13:57-08:00\n",
      "HIT #199: Custom workplace survey HIT for worker id A1R880JML3MFV4, created 2022-02-02 16:17:47-08:00\n",
      "HIT #200: Custom workplace survey HIT for worker id A1RJHSL4I191RM, created 2022-02-02 15:40:49-08:00\n",
      "HIT #201: Custom workplace survey HIT for worker id A1RKAIRM3UWF64, created 2022-02-02 15:39:43-08:00\n",
      "HIT #202: Custom workplace survey HIT for worker id A1RLQRTQQDGZ6, created 2022-02-02 15:35:51-08:00\n",
      "HIT #203: Custom workplace survey HIT for worker id A1RQY5B639UAT2, created 2022-02-02 15:34:58-08:00\n",
      "HIT #204: Custom workplace survey HIT for worker id A1RSE4DSTSQVJS, created 2022-02-02 15:35:05-08:00\n",
      "HIT #205: Custom workplace survey HIT for worker id A1S1F495QARNP3, created 2022-02-02 15:35:22-08:00\n",
      "HIT #206: Custom workplace survey HIT for worker id A1S5QGZRIIYTWC, created 2022-02-02 16:15:32-08:00\n",
      "HIT #207: Custom workplace survey HIT for worker id A1S7L6Z7HYSO4S, created 2022-02-02 15:39:04-08:00\n",
      "HIT #208: Custom workplace survey HIT for worker id A1S88VQY8G8CNC, created 2022-02-02 15:33:30-08:00\n",
      "HIT #209: Custom workplace survey HIT for worker id A1S8KMGKJACGVO, created 2022-02-02 15:36:43-08:00\n",
      "HIT #210: Custom workplace survey HIT for worker id A1SEV4I2D860XF, created 2022-02-02 15:36:14-08:00\n",
      "HIT #211: Custom workplace survey HIT for worker id A1SIRJRQA2AYU2, created 2022-02-02 15:37:57-08:00\n",
      "HIT #212: Custom workplace survey HIT for worker id A1SJ4EZTJFESUU, created 2022-02-02 16:15:15-08:00\n",
      "HIT #213: Custom workplace survey HIT for worker id A1SWV4X4PD25S1, created 2022-02-02 16:14:47-08:00\n",
      "HIT #214: Custom workplace survey HIT for worker id A1T6INSRNIJ759, created 2022-02-02 15:36:30-08:00\n",
      "HIT #215: Custom workplace survey HIT for worker id A1TD88JHBU0VET, created 2022-02-02 16:13:42-08:00\n",
      "HIT #216: Custom workplace survey HIT for worker id A1TGEUP380JQS1, created 2022-02-02 15:35:08-08:00\n",
      "HIT #217: Custom workplace survey HIT for worker id A1TGZ063G5UKEC, created 2022-02-02 15:36:59-08:00\n",
      "HIT #218: Custom workplace survey HIT for worker id A1TKQ8IHGEVWYX, created 2022-02-02 16:14:11-08:00\n",
      "HIT #219: Custom workplace survey HIT for worker id A1TNVWC8WBC5HL, created 2022-02-02 15:36:08-08:00\n",
      "HIT #220: Custom workplace survey HIT for worker id A1TR2V2HUO8P7W, created 2022-02-02 15:40:09-08:00\n",
      "HIT #221: Custom workplace survey HIT for worker id A1TWVJS27CL3KT, created 2022-02-02 15:33:09-08:00\n",
      "HIT #222: Custom workplace survey HIT for worker id A1U17OZVKWPNY1, created 2022-02-02 15:38:21-08:00\n",
      "HIT #223: Custom workplace survey HIT for worker id A1U5ESOCFQI4LG, created 2022-02-02 15:33:24-08:00\n",
      "HIT #224: Custom workplace survey HIT for worker id A1U8ZC4THEZXR1, created 2022-02-02 15:33:11-08:00\n",
      "HIT #225: Custom workplace survey HIT for worker id A1UBNFT20LXBMJ, created 2022-02-02 15:36:45-08:00\n",
      "HIT #226: Custom workplace survey HIT for worker id A1UBU03JYW6D8O, created 2022-02-02 15:34:47-08:00\n",
      "HIT #227: Custom workplace survey HIT for worker id A1UDKBRFNICVTC, created 2022-02-02 15:36:48-08:00\n",
      "HIT #228: Custom workplace survey HIT for worker id A1UET5TMTVSOC1, created 2022-02-02 15:40:23-08:00\n",
      "HIT #229: Custom workplace survey HIT for worker id A1UGFNSA16TKA0, created 2022-02-02 15:40:26-08:00\n",
      "HIT #230: Custom workplace survey HIT for worker id A1UIQVD589UWXQ, created 2022-02-02 15:34:28-08:00\n",
      "HIT #231: Custom workplace survey HIT for worker id A1UQ4MC5J2WIY8, created 2022-02-02 16:16:52-08:00\n",
      "HIT #232: Custom workplace survey HIT for worker id A1UZ91EFSJFUM8, created 2022-02-02 16:13:18-08:00\n",
      "HIT #233: Custom workplace survey HIT for worker id A1V2JTEEBCXR20, created 2022-02-02 15:33:38-08:00\n",
      "HIT #234: Custom workplace survey HIT for worker id A1VE1CAMPSYRHE, created 2022-02-02 15:35:16-08:00\n",
      "HIT #235: Custom workplace survey HIT for worker id A1VJ4ZOXP9PUCP, created 2022-02-02 15:38:56-08:00\n",
      "HIT #236: Custom workplace survey HIT for worker id A1VT4HJ87R2IRL, created 2022-02-02 15:38:24-08:00\n",
      "HIT #237: Custom workplace survey HIT for worker id A1W9WZ9NZJME8H, created 2022-02-02 15:33:03-08:00\n",
      "HIT #238: Custom workplace survey HIT for worker id A1WCQRVQC6BVA1, created 2022-02-02 15:32:58-08:00\n",
      "HIT #239: Custom workplace survey HIT for worker id A1WF19BIZNJDZR, created 2022-02-02 16:13:21-08:00\n",
      "HIT #240: Custom workplace survey HIT for worker id A1WKWC9C5XIPKV, created 2022-02-02 16:16:07-08:00\n",
      "HIT #241: Custom workplace survey HIT for worker id A1WL39WMSWTN2T, created 2022-02-02 15:37:35-08:00\n",
      "HIT #242: Custom workplace survey HIT for worker id A1WP82QI3XRO70, created 2022-02-02 15:40:01-08:00\n",
      "HIT #243: Custom workplace survey HIT for worker id A1WTUFTRMUN5IR, created 2022-02-02 16:16:23-08:00\n",
      "HIT #244: Custom workplace survey HIT for worker id A1WZY0K6IE3ASG, created 2022-02-02 15:32:11-08:00\n",
      "HIT #245: Custom workplace survey HIT for worker id A1X1F32I7T2JLQ, created 2022-02-02 15:38:12-08:00\n",
      "HIT #246: Custom workplace survey HIT for worker id A1X67YRXZP6XFW, created 2022-02-02 15:34:30-08:00\n",
      "HIT #247: Custom workplace survey HIT for worker id A1X6WAK55MYGFH, created 2022-02-02 16:17:54-08:00\n",
      "HIT #248: Custom workplace survey HIT for worker id A1X79O8A2G3XFX, created 2022-02-02 15:36:12-08:00\n",
      "HIT #249: Custom workplace survey HIT for worker id A1XCR8UPNMH8L, created 2022-02-02 16:13:50-08:00\n",
      "HIT #250: Custom workplace survey HIT for worker id A1XFPVU0RMO02S, created 2022-02-02 15:36:35-08:00\n",
      "HIT #251: Custom workplace survey HIT for worker id A1XH15NJNH78Z5, created 2022-02-02 15:40:05-08:00\n",
      "HIT #252: Custom workplace survey HIT for worker id A1XISPF7D72BAL, created 2022-02-02 15:33:43-08:00\n",
      "HIT #253: Custom workplace survey HIT for worker id A1XNVHBT1JTHQ, created 2022-02-02 15:36:07-08:00\n",
      "HIT #254: Custom workplace survey HIT for worker id A1XOOA5V1IKDJZ, created 2022-02-02 15:34:36-08:00\n",
      "HIT #255: Custom workplace survey HIT for worker id A1XT8BOA06IL4M, created 2022-02-02 15:40:44-08:00\n",
      "HIT #256: Custom workplace survey HIT for worker id A1XUZ4A2STUYB1, created 2022-02-02 15:39:36-08:00\n",
      "HIT #257: Custom workplace survey HIT for worker id A1Y0R3W8CA7C1U, created 2022-02-02 16:13:54-08:00\n",
      "HIT #258: Custom workplace survey HIT for worker id A1Y3W8KKAU1S0J, created 2022-02-02 16:14:18-08:00\n",
      "HIT #259: Custom workplace survey HIT for worker id A1Y4Z0S60L8HQ8, created 2022-02-02 16:15:41-08:00\n",
      "HIT #260: Custom workplace survey HIT for worker id A1YKLPTXDF28KV, created 2022-02-02 16:17:14-08:00\n",
      "HIT #261: Custom workplace survey HIT for worker id A1YPIJR0B4YDEW, created 2022-02-02 16:15:31-08:00\n",
      "HIT #262: Custom workplace survey HIT for worker id A1YTH5ZX8WQC1V, created 2022-02-02 15:38:28-08:00\n",
      "HIT #263: Custom workplace survey HIT for worker id A1YXWQBBBHKLO6, created 2022-02-02 15:33:02-08:00\n",
      "HIT #264: Custom workplace survey HIT for worker id A1YZK4C8Y49H95, created 2022-02-02 16:13:02-08:00\n",
      "HIT #265: Custom workplace survey HIT for worker id A1Z19ZOMFK3C0D, created 2022-02-02 15:40:27-08:00\n",
      "HIT #266: Custom workplace survey HIT for worker id A1Z6RWYW76I6OC, created 2022-02-02 15:36:03-08:00\n",
      "HIT #267: Custom workplace survey HIT for worker id A1Z9LYCAHX1G1Q, created 2022-02-02 16:17:03-08:00\n",
      "HIT #268: Custom workplace survey HIT for worker id A1ZAK9IFNC9MHS, created 2022-02-02 16:17:33-08:00\n",
      "HIT #269: Custom workplace survey HIT for worker id A1ZDBMKF7EC3EK, created 2022-02-02 15:40:00-08:00\n",
      "HIT #270: Custom workplace survey HIT for worker id A1ZEK19L6KD160, created 2022-02-02 15:37:03-08:00\n",
      "HIT #271: Custom workplace survey HIT for worker id A1ZM5GIL2U6PUO, created 2022-02-02 15:36:03-08:00\n",
      "HIT #272: Custom workplace survey HIT for worker id A1ZQL01P5GDU50, created 2022-02-02 16:14:26-08:00\n",
      "HIT #273: Custom workplace survey HIT for worker id A1ZTR3Z88CYP06, created 2022-02-02 16:16:55-08:00\n",
      "HIT #274: Custom workplace survey HIT for worker id A1ZVIZ7RX9ZAAS, created 2022-02-02 15:40:48-08:00\n",
      "HIT #275: Custom workplace survey HIT for worker id A2030B5FV3I73L, created 2022-02-02 16:14:39-08:00\n",
      "HIT #276: Custom workplace survey HIT for worker id A2077SFTRWL6UT, created 2022-02-02 15:37:27-08:00\n",
      "HIT #277: Custom workplace survey HIT for worker id A2078XQX9ZSWBC, created 2022-02-02 15:37:56-08:00\n",
      "HIT #278: Custom workplace survey HIT for worker id A20ASMCESA51U4, created 2022-02-02 16:15:08-08:00\n",
      "HIT #279: Custom workplace survey HIT for worker id A20D9HRB03PITM, created 2022-02-02 16:13:16-08:00\n",
      "HIT #280: Custom workplace survey HIT for worker id A20FRI05TYOIAP, created 2022-02-02 15:37:44-08:00\n",
      "HIT #281: Custom workplace survey HIT for worker id A20KIJRVCQSC5L, created 2022-02-02 16:17:36-08:00\n",
      "HIT #282: Custom workplace survey HIT for worker id A20SJM9GOFF23J, created 2022-02-02 16:15:51-08:00\n",
      "HIT #283: Custom workplace survey HIT for worker id A20TOOYZRH6KUZ, created 2022-02-02 16:16:06-08:00\n",
      "HIT #284: Custom workplace survey HIT for worker id A20VV7T4D76OKZ, created 2022-02-02 15:32:54-08:00\n",
      "HIT #285: Custom workplace survey HIT for worker id A212CUA8CIUWUV, created 2022-02-02 16:18:19-08:00\n",
      "HIT #286: Custom workplace survey HIT for worker id A217E1EMJSYBON, created 2022-02-02 16:14:15-08:00\n",
      "HIT #287: Custom workplace survey HIT for worker id A217IK0RA64CQO, created 2022-02-02 16:14:39-08:00\n",
      "HIT #288: Custom workplace survey HIT for worker id A217NGSZFTUJ8T, created 2022-02-02 16:14:13-08:00\n",
      "HIT #289: Custom workplace survey HIT for worker id A2196WCNDZULFS, created 2022-02-02 16:15:11-08:00\n",
      "HIT #290: Custom workplace survey HIT for worker id A21CCLRB6CQJL9, created 2022-02-02 15:37:17-08:00\n",
      "HIT #291: Custom workplace survey HIT for worker id A21DJDOTHDLWND, created 2022-02-02 16:12:45-08:00\n",
      "HIT #292: Custom workplace survey HIT for worker id A21M3FOHLHBR7Y, created 2022-02-02 16:12:55-08:00\n",
      "HIT #293: Custom workplace survey HIT for worker id A21STU4Z97J2Z6, created 2022-02-02 16:17:01-08:00\n",
      "HIT #294: Custom workplace survey HIT for worker id A21W69Z63UQP69, created 2022-02-02 15:36:47-08:00\n",
      "HIT #295: Custom workplace survey HIT for worker id A2235NT3Q1VJV2, created 2022-02-02 15:36:34-08:00\n",
      "HIT #296: Custom workplace survey HIT for worker id A22APX7QK9R9DL, created 2022-02-02 15:32:59-08:00\n",
      "HIT #297: Custom workplace survey HIT for worker id A22AXECRBBKUH8, created 2022-02-02 15:33:05-08:00\n",
      "HIT #298: Custom workplace survey HIT for worker id A22EBXRMK6TOTJ, created 2022-02-02 15:39:16-08:00\n",
      "HIT #299: Custom workplace survey HIT for worker id A22GOTMA3ES0SL, created 2022-02-02 16:16:24-08:00\n",
      "HIT #300: Custom workplace survey HIT for worker id A22KSWL724MR61, created 2022-02-02 16:17:24-08:00\n",
      "HIT #301: Custom workplace survey HIT for worker id A22N5ONOWPNZGB, created 2022-02-02 15:32:19-08:00\n",
      "HIT #302: Custom workplace survey HIT for worker id A22UOF4J3ZOW57, created 2022-02-02 15:37:01-08:00\n",
      "HIT #303: Custom workplace survey HIT for worker id A22V0BPWJIVMHW, created 2022-02-02 15:31:54-08:00\n",
      "HIT #304: Custom workplace survey HIT for worker id A22WWSTT8TU7G1, created 2022-02-02 16:16:22-08:00\n",
      "HIT #305: Custom workplace survey HIT for worker id A238Z1W1B9BGTH, created 2022-02-02 16:13:03-08:00\n",
      "HIT #306: Custom workplace survey HIT for worker id A23IT4I1U1GY2, created 2022-02-02 15:34:27-08:00\n",
      "HIT #307: Custom workplace survey HIT for worker id A23KNG1BID2U4X, created 2022-02-02 16:13:31-08:00\n",
      "HIT #308: Custom workplace survey HIT for worker id A23ONWDSVICDCY, created 2022-02-02 15:39:43-08:00\n",
      "HIT #309: Custom workplace survey HIT for worker id A23OS0HQ12VVOR, created 2022-02-02 15:36:20-08:00\n",
      "HIT #310: Custom workplace survey HIT for worker id A23Q1Y7729QJOP, created 2022-02-02 15:37:56-08:00\n",
      "HIT #311: Custom workplace survey HIT for worker id A23RTRMJ4BILKC, created 2022-02-02 15:40:33-08:00\n",
      "HIT #312: Custom workplace survey HIT for worker id A23UYMAR7U1OTL, created 2022-02-02 15:36:43-08:00\n",
      "HIT #313: Custom workplace survey HIT for worker id A23YXEQ26FW4PF, created 2022-02-02 16:17:15-08:00\n",
      "HIT #314: Custom workplace survey HIT for worker id A247L6RIYT1J8X, created 2022-02-02 15:33:47-08:00\n",
      "HIT #315: Custom workplace survey HIT for worker id A249M2F9FFNIK2, created 2022-02-02 16:13:47-08:00\n",
      "HIT #316: Custom workplace survey HIT for worker id A24AWGSJ6PNF6K, created 2022-02-02 15:36:24-08:00\n",
      "HIT #317: Custom workplace survey HIT for worker id A24CG5BTB8KQ39, created 2022-02-02 16:14:59-08:00\n",
      "HIT #318: Custom workplace survey HIT for worker id A24CNWX2BQA638, created 2022-02-02 15:32:18-08:00\n",
      "HIT #319: Custom workplace survey HIT for worker id A24DSECWUBZC0Z, created 2022-02-02 16:14:03-08:00\n",
      "HIT #320: Custom workplace survey HIT for worker id A24GY3MMDG63PB, created 2022-02-02 15:35:29-08:00\n",
      "HIT #321: Custom workplace survey HIT for worker id A24JE7RQ5WQYKX, created 2022-02-02 15:37:08-08:00\n",
      "HIT #322: Custom workplace survey HIT for worker id A250PLI5IYXNWV, created 2022-02-02 16:15:33-08:00\n",
      "HIT #323: Custom workplace survey HIT for worker id A253TBOD1XPKUC, created 2022-02-02 15:35:49-08:00\n",
      "HIT #324: Custom workplace survey HIT for worker id A255TQAF514QL6, created 2022-02-02 16:16:16-08:00\n",
      "HIT #325: Custom workplace survey HIT for worker id A259UZJQOOVE4V, created 2022-02-02 15:32:21-08:00\n",
      "HIT #326: Custom workplace survey HIT for worker id A25ARB2EF455BK, created 2022-02-02 16:12:58-08:00\n",
      "HIT #327: Custom workplace survey HIT for worker id A25FHFTKE1TYA5, created 2022-02-02 15:36:21-08:00\n",
      "HIT #328: Custom workplace survey HIT for worker id A25LHZZ54YF9TY, created 2022-02-02 15:33:04-08:00\n",
      "HIT #329: Custom workplace survey HIT for worker id A25MBD9OSITLSJ, created 2022-02-02 15:37:48-08:00\n",
      "HIT #330: Custom workplace survey HIT for worker id A25PT4YG045XLB, created 2022-02-02 15:36:51-08:00\n",
      "HIT #331: Custom workplace survey HIT for worker id A25VF05LY174SE, created 2022-02-02 16:15:59-08:00\n",
      "HIT #332: Custom workplace survey HIT for worker id A260EJW55KFZX7, created 2022-02-02 15:33:49-08:00\n",
      "HIT #333: Custom workplace survey HIT for worker id A2615YW1YERQBO, created 2022-02-02 15:34:09-08:00\n",
      "HIT #334: Custom workplace survey HIT for worker id A266U96PZ68VOJ, created 2022-02-02 16:17:10-08:00\n",
      "HIT #335: Custom workplace survey HIT for worker id A268H7Y4AXO0ZT, created 2022-02-02 15:34:44-08:00\n",
      "HIT #336: Custom workplace survey HIT for worker id A26B6SWLH19YX6, created 2022-02-02 15:34:24-08:00\n",
      "HIT #337: Custom workplace survey HIT for worker id A26EYKPLND616Y, created 2022-02-02 15:36:42-08:00\n",
      "HIT #338: Custom workplace survey HIT for worker id A26FC0H9JNICC7, created 2022-02-02 16:17:16-08:00\n",
      "HIT #339: Custom workplace survey HIT for worker id A26SF9CTNKKBYB, created 2022-02-02 16:16:24-08:00\n",
      "HIT #340: Custom workplace survey HIT for worker id A26TRX3QNC8SRS, created 2022-02-02 16:18:24-08:00\n",
      "HIT #341: Custom workplace survey HIT for worker id A26WG74M652I3P, created 2022-02-02 16:15:29-08:00\n",
      "HIT #342: Custom workplace survey HIT for worker id A27B9RMAOXK6RW, created 2022-02-02 15:37:32-08:00\n",
      "HIT #343: Custom workplace survey HIT for worker id A27ENV44NIXJO8, created 2022-02-02 15:33:44-08:00\n",
      "HIT #344: Custom workplace survey HIT for worker id A27KZ7HNCP2F9R, created 2022-02-02 15:34:43-08:00\n",
      "HIT #345: Custom workplace survey HIT for worker id A27QTZD44FZC79, created 2022-02-02 15:39:34-08:00\n",
      "HIT #346: Custom workplace survey HIT for worker id A27VK38SRSSHV3, created 2022-02-02 15:39:38-08:00\n",
      "HIT #347: Custom workplace survey HIT for worker id A27W7YF5LN69UP, created 2022-02-02 15:31:58-08:00\n",
      "HIT #348: Custom workplace survey HIT for worker id A27WNFBJN048KP, created 2022-02-02 15:35:55-08:00\n",
      "HIT #349: Custom workplace survey HIT for worker id A27WZHGZLEDJ22, created 2022-02-02 15:39:48-08:00\n",
      "HIT #350: Custom workplace survey HIT for worker id A27YCYJP8J35JL, created 2022-02-02 16:17:09-08:00\n",
      "HIT #351: Custom workplace survey HIT for worker id A282D1111CTH37, created 2022-02-02 15:36:39-08:00\n",
      "HIT #352: Custom workplace survey HIT for worker id A286798DZB9U9O, created 2022-02-02 15:39:37-08:00\n",
      "HIT #353: Custom workplace survey HIT for worker id A289YSSTQL52JC, created 2022-02-02 15:36:19-08:00\n",
      "HIT #354: Custom workplace survey HIT for worker id A28BNLF8DIHQ0N, created 2022-02-02 15:38:30-08:00\n",
      "HIT #355: Custom workplace survey HIT for worker id A28HF9T1J25D2C, created 2022-02-02 16:15:50-08:00\n",
      "HIT #356: Custom workplace survey HIT for worker id A28HJMZ82GR7M4, created 2022-02-02 15:38:27-08:00\n",
      "HIT #357: Custom workplace survey HIT for worker id A28JBDTFGFJ5NR, created 2022-02-02 16:13:35-08:00\n",
      "HIT #358: Custom workplace survey HIT for worker id A28KBK7Q4EBJVI, created 2022-02-02 15:37:51-08:00\n",
      "HIT #359: Custom workplace survey HIT for worker id A28S1APU25BOO2, created 2022-02-02 15:36:00-08:00\n",
      "HIT #360: Custom workplace survey HIT for worker id A293D7FWLMNMLI, created 2022-02-02 15:40:16-08:00\n",
      "HIT #361: Custom workplace survey HIT for worker id A2943EKF45PEV9, created 2022-02-02 15:34:10-08:00\n",
      "HIT #362: Custom workplace survey HIT for worker id A2974LIETNGX31, created 2022-02-02 15:36:56-08:00\n",
      "HIT #363: Custom workplace survey HIT for worker id A297QZZZDYQ9H7, created 2022-02-02 15:40:15-08:00\n",
      "HIT #364: Custom workplace survey HIT for worker id A29A8992RAL0YV, created 2022-02-02 16:17:26-08:00\n",
      "HIT #365: Custom workplace survey HIT for worker id A29EM58R1PMYWG, created 2022-02-02 15:40:10-08:00\n",
      "HIT #366: Custom workplace survey HIT for worker id A29GFYXH33BA3M, created 2022-02-02 15:37:26-08:00\n",
      "HIT #367: Custom workplace survey HIT for worker id A29HFXCYLT9H8G, created 2022-02-02 16:14:20-08:00\n",
      "HIT #368: Custom workplace survey HIT for worker id A29HNN7SWL3N31, created 2022-02-02 15:37:37-08:00\n",
      "HIT #369: Custom workplace survey HIT for worker id A29PQPB5JKWI7Y, created 2022-02-02 16:17:01-08:00\n",
      "HIT #370: Custom workplace survey HIT for worker id A29PYAYK5Q8XYJ, created 2022-02-02 15:39:19-08:00\n",
      "HIT #371: Custom workplace survey HIT for worker id A2A40D950QGXHK, created 2022-02-02 16:14:25-08:00\n",
      "HIT #372: Custom workplace survey HIT for worker id A2A4DODAIU2VVM, created 2022-02-02 15:35:24-08:00\n",
      "HIT #373: Custom workplace survey HIT for worker id A2A52ZU139XOTR, created 2022-02-02 15:35:01-08:00\n",
      "HIT #374: Custom workplace survey HIT for worker id A2A56XB6YTRFJ9, created 2022-02-02 16:13:20-08:00\n",
      "HIT #375: Custom workplace survey HIT for worker id A2A7BQ09WKLEB1, created 2022-02-02 16:17:51-08:00\n",
      "HIT #376: Custom workplace survey HIT for worker id A2AA29XJTLZEDG, created 2022-02-02 15:34:32-08:00\n",
      "HIT #377: Custom workplace survey HIT for worker id A2ACX43GBX15OC, created 2022-02-02 16:13:37-08:00\n",
      "HIT #378: Custom workplace survey HIT for worker id A2ADS3GG3B4JXQ, created 2022-02-02 16:16:18-08:00\n",
      "HIT #379: Custom workplace survey HIT for worker id A2AOD3GOS9NKFC, created 2022-02-02 16:17:39-08:00\n",
      "HIT #380: Custom workplace survey HIT for worker id A2AQ6ZCB8C5GZD, created 2022-02-02 15:35:46-08:00\n",
      "HIT #381: Custom workplace survey HIT for worker id A2ARAEADX52PKE, created 2022-02-02 16:13:12-08:00\n",
      "HIT #382: Custom workplace survey HIT for worker id A2AS12X0U1L76S, created 2022-02-02 15:33:51-08:00\n",
      "HIT #383: Custom workplace survey HIT for worker id A2AW5504I3KKSG, created 2022-02-02 16:16:44-08:00\n",
      "HIT #384: Custom workplace survey HIT for worker id A2AYLSJ3Y0N8CX, created 2022-02-02 15:32:33-08:00\n",
      "HIT #385: Custom workplace survey HIT for worker id A2B2HQHFBYLTXU, created 2022-02-02 16:17:53-08:00\n",
      "HIT #386: Custom workplace survey HIT for worker id A2B3B0T0V8RTH8, created 2022-02-02 16:14:13-08:00\n",
      "HIT #387: Custom workplace survey HIT for worker id A2BBJ1JVU10D8B, created 2022-02-02 15:39:46-08:00\n",
      "HIT #388: Custom workplace survey HIT for worker id A2BK8TOVJQHC0V, created 2022-02-02 15:39:08-08:00\n",
      "HIT #389: Custom workplace survey HIT for worker id A2BNOEYZ3VRW2R, created 2022-02-02 16:15:04-08:00\n",
      "HIT #390: Custom workplace survey HIT for worker id A2BX9RY192YG6A, created 2022-02-02 15:38:07-08:00\n",
      "HIT #391: Custom workplace survey HIT for worker id A2C3IB7C7HWQ1G, created 2022-02-02 16:15:21-08:00\n",
      "HIT #392: Custom workplace survey HIT for worker id A2C83KDE5MUZQP, created 2022-02-02 16:13:40-08:00\n",
      "HIT #393: Custom workplace survey HIT for worker id A2CE99M4YO5F82, created 2022-02-02 15:35:10-08:00\n",
      "HIT #394: Custom workplace survey HIT for worker id A2CFU3GA2QTXPC, created 2022-02-02 15:35:12-08:00\n",
      "HIT #395: Custom workplace survey HIT for worker id A2CHB7WYFS4W0Q, created 2022-02-02 16:14:49-08:00\n",
      "HIT #396: Custom workplace survey HIT for worker id A2CQP20O9KH1TZ, created 2022-02-02 15:35:57-08:00\n",
      "HIT #397: Custom workplace survey HIT for worker id A2CS67AX8RPJUB, created 2022-02-02 16:18:12-08:00\n",
      "HIT #398: Custom workplace survey HIT for worker id A2CSV75E3JT58Y, created 2022-02-02 15:40:44-08:00\n",
      "HIT #399: Custom workplace survey HIT for worker id A2CU9YCBZ2EZ3F, created 2022-02-02 15:35:48-08:00\n",
      "HIT #400: Custom workplace survey HIT for worker id A2D5IRAW7TRMWP, created 2022-02-02 15:38:54-08:00\n",
      "HIT #401: Custom workplace survey HIT for worker id A2D6QNCAN9X77R, created 2022-02-02 15:39:29-08:00\n",
      "HIT #402: Custom workplace survey HIT for worker id A2DB7ICL2R8Y0O, created 2022-02-02 15:35:58-08:00\n",
      "HIT #403: Custom workplace survey HIT for worker id A2DDNXODLMMVE0, created 2022-02-02 15:35:04-08:00\n",
      "HIT #404: Custom workplace survey HIT for worker id A2DKLE2USCETPZ, created 2022-02-02 15:33:21-08:00\n",
      "HIT #405: Custom workplace survey HIT for worker id A2DLV3WN24WTDS, created 2022-02-02 16:13:37-08:00\n",
      "HIT #406: Custom workplace survey HIT for worker id A2DQ2CF2W5PDYG, created 2022-02-02 16:17:41-08:00\n",
      "HIT #407: Custom workplace survey HIT for worker id A2DQ6ABHXR30KX, created 2022-02-02 15:39:31-08:00\n",
      "HIT #408: Custom workplace survey HIT for worker id A2DUKWR9I6FFZV, created 2022-02-02 15:36:57-08:00\n",
      "HIT #409: Custom workplace survey HIT for worker id A2DXZC89Q8IBQW, created 2022-02-02 16:13:07-08:00\n",
      "HIT #410: Custom workplace survey HIT for worker id A2E2UARVOVDR9Y, created 2022-02-02 16:14:51-08:00\n",
      "HIT #411: Custom workplace survey HIT for worker id A2E3KV3E3HJXD0, created 2022-02-02 15:38:00-08:00\n",
      "HIT #412: Custom workplace survey HIT for worker id A2E3MNGY6HZ8Y7, created 2022-02-02 15:38:09-08:00\n",
      "HIT #413: Custom workplace survey HIT for worker id A2EDX6JYA6IWT7, created 2022-02-02 15:36:00-08:00\n",
      "HIT #414: Custom workplace survey HIT for worker id A2EED3HLTA96CP, created 2022-02-02 15:39:01-08:00\n",
      "HIT #415: Custom workplace survey HIT for worker id A2ERHMM3VUP9E1, created 2022-02-02 15:33:20-08:00\n",
      "HIT #416: Custom workplace survey HIT for worker id A2EZ1FVHQPKBLK, created 2022-02-02 15:37:59-08:00\n",
      "HIT #417: Custom workplace survey HIT for worker id A2EZF2J4UB2DBP, created 2022-02-02 15:35:10-08:00\n",
      "HIT #418: Custom workplace survey HIT for worker id A2F1AA15HG0FRU, created 2022-02-02 15:36:16-08:00\n",
      "HIT #419: Custom workplace survey HIT for worker id A2F4E017K09B54, created 2022-02-02 16:12:43-08:00\n",
      "HIT #420: Custom workplace survey HIT for worker id A2FCYVEFTZBXPD, created 2022-02-02 15:32:28-08:00\n",
      "HIT #421: Custom workplace survey HIT for worker id A2FG1X6DQT1MSK, created 2022-02-02 16:18:26-08:00\n",
      "HIT #422: Custom workplace survey HIT for worker id A2GO0EY5FW18AG, created 2022-02-02 15:33:25-08:00\n",
      "HIT #423: Custom workplace survey HIT for worker id A2GPHM4UMVLN08, created 2022-02-02 16:17:47-08:00\n",
      "HIT #424: Custom workplace survey HIT for worker id A2GQH4SWIOFH2L, created 2022-02-02 15:32:34-08:00\n",
      "HIT #425: Custom workplace survey HIT for worker id A2H1JETV0EF77G, created 2022-02-02 16:12:52-08:00\n",
      "HIT #426: Custom workplace survey HIT for worker id A2H7MAB7MRH5VR, created 2022-02-02 16:13:40-08:00\n",
      "HIT #427: Custom workplace survey HIT for worker id A2H8PEGI28NKZD, created 2022-02-02 16:13:25-08:00\n",
      "HIT #428: Custom workplace survey HIT for worker id A2HI794S6XICBT, created 2022-02-02 15:37:04-08:00\n",
      "HIT #429: Custom workplace survey HIT for worker id A2HILJXCL1Z6JU, created 2022-02-02 15:31:57-08:00\n",
      "HIT #430: Custom workplace survey HIT for worker id A2HJURCWGXGT57, created 2022-02-02 16:17:43-08:00\n",
      "HIT #431: Custom workplace survey HIT for worker id A2HRH6EMUIZO0S, created 2022-02-02 15:36:10-08:00\n",
      "HIT #432: Custom workplace survey HIT for worker id A2HWGF8P5T5NX9, created 2022-02-02 15:32:47-08:00\n",
      "HIT #433: Custom workplace survey HIT for worker id A2HXAA4WF7IVYG, created 2022-02-02 16:14:11-08:00\n",
      "HIT #434: Custom workplace survey HIT for worker id A2HZBU75N58PPM, created 2022-02-02 16:12:46-08:00\n",
      "HIT #435: Custom workplace survey HIT for worker id A2HZPO7YWOQ9P4, created 2022-02-02 16:17:06-08:00\n",
      "HIT #436: Custom workplace survey HIT for worker id A2I6ZALE49CVSC, created 2022-02-02 15:39:24-08:00\n",
      "HIT #437: Custom workplace survey HIT for worker id A2ID2YX15N3IRM, created 2022-02-02 16:14:10-08:00\n",
      "HIT #438: Custom workplace survey HIT for worker id A2IFHU3P1MF54K, created 2022-02-02 15:38:19-08:00\n",
      "HIT #439: Custom workplace survey HIT for worker id A2IGF97DQTQ7VY, created 2022-02-02 16:18:21-08:00\n",
      "HIT #440: Custom workplace survey HIT for worker id A2INAZZZFJ1LBE, created 2022-02-02 15:36:36-08:00\n",
      "HIT #441: Custom workplace survey HIT for worker id A2IP0EIWXDWAMJ, created 2022-02-02 15:32:01-08:00\n",
      "HIT #442: Custom workplace survey HIT for worker id A2IZQ0MSRSBOUN, created 2022-02-02 15:35:45-08:00\n",
      "HIT #443: Custom workplace survey HIT for worker id A2J8G451Y8HFK, created 2022-02-02 15:36:55-08:00\n",
      "HIT #444: Custom workplace survey HIT for worker id A2J8XK991F3MS, created 2022-02-02 15:38:43-08:00\n",
      "HIT #445: Custom workplace survey HIT for worker id A2JDMOIGD3AVAQ, created 2022-02-02 15:34:18-08:00\n",
      "HIT #446: Custom workplace survey HIT for worker id A2JFSWK6DWXARQ, created 2022-02-02 15:38:15-08:00\n",
      "HIT #447: Custom workplace survey HIT for worker id A2JV461I3AIXOH, created 2022-02-02 15:34:04-08:00\n",
      "HIT #448: Custom workplace survey HIT for worker id A2JZ3EUDKBK1QO, created 2022-02-02 15:38:29-08:00\n",
      "HIT #449: Custom workplace survey HIT for worker id A2K19LE45E4HGD, created 2022-02-02 15:33:11-08:00\n",
      "HIT #450: Custom workplace survey HIT for worker id A2K1AL6WAWT83X, created 2022-02-02 16:14:14-08:00\n",
      "HIT #451: Custom workplace survey HIT for worker id A2K4JITB7LJ4J1, created 2022-02-02 15:37:41-08:00\n",
      "HIT #452: Custom workplace survey HIT for worker id A2K6VG008QFOPN, created 2022-02-02 15:39:58-08:00\n",
      "HIT #453: Custom workplace survey HIT for worker id A2KAO546CF46AZ, created 2022-02-02 16:13:05-08:00\n",
      "HIT #454: Custom workplace survey HIT for worker id A2KHLJ2F58BEZK, created 2022-02-02 15:35:54-08:00\n",
      "HIT #455: Custom workplace survey HIT for worker id A2KNV8X9K7F80Y, created 2022-02-02 15:40:31-08:00\n",
      "HIT #456: Custom workplace survey HIT for worker id A2KRWSCXNUNMAJ, created 2022-02-02 16:16:42-08:00\n",
      "HIT #457: Custom workplace survey HIT for worker id A2KWCQK2UEW3YB, created 2022-02-02 16:13:28-08:00\n",
      "HIT #458: Custom workplace survey HIT for worker id A2KWGCHV2FILJO, created 2022-02-02 15:31:59-08:00\n",
      "HIT #459: Custom workplace survey HIT for worker id A2KYUEWT9TIDWV, created 2022-02-02 15:37:55-08:00\n",
      "HIT #460: Custom workplace survey HIT for worker id A2KZN3UH5NGC9, created 2022-02-02 15:37:06-08:00\n",
      "HIT #461: Custom workplace survey HIT for worker id A2L9F0CFGZB5RM, created 2022-02-02 15:36:44-08:00\n",
      "HIT #462: Custom workplace survey HIT for worker id A2LE8VTSBGZ70X, created 2022-02-02 16:14:05-08:00\n",
      "HIT #463: Custom workplace survey HIT for worker id A2LIY5A4EZ4159, created 2022-02-02 16:15:06-08:00\n",
      "HIT #464: Custom workplace survey HIT for worker id A2LMMAHWHWC1TZ, created 2022-02-02 15:38:52-08:00\n",
      "HIT #465: Custom workplace survey HIT for worker id A2LUL0QE90HUU5, created 2022-02-02 16:15:03-08:00\n",
      "HIT #466: Custom workplace survey HIT for worker id A2M2BPZ1LOLK0R, created 2022-02-02 15:40:03-08:00\n",
      "HIT #467: Custom workplace survey HIT for worker id A2MEF2PMF5YZ0X, created 2022-02-02 16:17:52-08:00\n",
      "HIT #468: Custom workplace survey HIT for worker id A2N41K9F5PBSLV, created 2022-02-02 15:37:53-08:00\n",
      "HIT #469: Custom workplace survey HIT for worker id A2N4Q60TCBWBL4, created 2022-02-02 15:32:09-08:00\n",
      "HIT #470: Custom workplace survey HIT for worker id A2NC61IAQ2700H, created 2022-02-02 15:34:11-08:00\n",
      "HIT #471: Custom workplace survey HIT for worker id A2NCNMIA8DIS1H, created 2022-02-02 16:13:49-08:00\n",
      "HIT #472: Custom workplace survey HIT for worker id A2NGZGEYTEI2NN, created 2022-02-02 16:14:00-08:00\n",
      "HIT #473: Custom workplace survey HIT for worker id A2O0B9KWB7RSTO, created 2022-02-02 16:17:28-08:00\n",
      "HIT #474: Custom workplace survey HIT for worker id A2O15EFAY3ITK, created 2022-02-02 16:16:10-08:00\n",
      "HIT #475: Custom workplace survey HIT for worker id A2O9HHREU62UGB, created 2022-02-02 16:13:24-08:00\n",
      "HIT #476: Custom workplace survey HIT for worker id A2ODABG5FHP2AD, created 2022-02-02 16:15:07-08:00\n",
      "HIT #477: Custom workplace survey HIT for worker id A2OVWCQ4B9AHFY, created 2022-02-02 15:34:15-08:00\n",
      "HIT #478: Custom workplace survey HIT for worker id A2OX7O0A6Z84O9, created 2022-02-02 16:18:22-08:00\n",
      "HIT #479: Custom workplace survey HIT for worker id A2OXCANW3XQ03E, created 2022-02-02 16:16:57-08:00\n",
      "HIT #480: Custom workplace survey HIT for worker id A2P3WX5M6VW4VZ, created 2022-02-02 16:14:38-08:00\n",
      "HIT #481: Custom workplace survey HIT for worker id A2PD9SHVWNX7Q2, created 2022-02-02 16:12:52-08:00\n",
      "HIT #482: Custom workplace survey HIT for worker id A2PI6RY9USPIRS, created 2022-02-02 15:39:12-08:00\n",
      "HIT #483: Custom workplace survey HIT for worker id A2PN23A4HNRSJV, created 2022-02-02 15:38:22-08:00\n",
      "HIT #484: Custom workplace survey HIT for worker id A2Q7B2G4GGZ8HJ, created 2022-02-02 15:40:45-08:00\n",
      "HIT #485: Custom workplace survey HIT for worker id A2QEC3D3VS52DG, created 2022-02-02 16:14:44-08:00\n",
      "HIT #486: Custom workplace survey HIT for worker id A2QEW0TPX8LQNT, created 2022-02-02 15:33:52-08:00\n",
      "HIT #487: Custom workplace survey HIT for worker id A2QY653X9531JP, created 2022-02-02 16:16:40-08:00\n",
      "HIT #488: Custom workplace survey HIT for worker id A2R1W2DTQD17CO, created 2022-02-02 16:17:18-08:00\n",
      "HIT #489: Custom workplace survey HIT for worker id A2REJHHCX9OHFI, created 2022-02-02 16:13:55-08:00\n",
      "HIT #490: Custom workplace survey HIT for worker id A2S4OYIG64MBUX, created 2022-02-02 16:16:21-08:00\n",
      "HIT #491: Custom workplace survey HIT for worker id A2SHOFSQGLTOCE, created 2022-02-02 16:13:57-08:00\n",
      "HIT #492: Custom workplace survey HIT for worker id A2SK6X2ST16PZC, created 2022-02-02 15:35:33-08:00\n",
      "HIT #493: Custom workplace survey HIT for worker id A2SKGYIGD7FM69, created 2022-02-02 16:17:39-08:00\n",
      "HIT #494: Custom workplace survey HIT for worker id A2SPEITP0H9DOC, created 2022-02-02 15:38:20-08:00\n",
      "HIT #495: Custom workplace survey HIT for worker id A2SWCMIBCO88FN, created 2022-02-02 15:38:48-08:00\n",
      "HIT #496: Custom workplace survey HIT for worker id A2T2XXJKNM2A2L, created 2022-02-02 15:35:21-08:00\n",
      "HIT #497: Custom workplace survey HIT for worker id A2T6YRS12EO2UC, created 2022-02-02 15:34:22-08:00\n",
      "HIT #498: Custom workplace survey HIT for worker id A2T76WC6F2XW6N, created 2022-02-02 15:38:10-08:00\n",
      "HIT #499: Custom workplace survey HIT for worker id A2T81LE4FPAFJ9, created 2022-02-02 15:38:44-08:00\n",
      "HIT #500: Custom workplace survey HIT for worker id A2T9QD2SXRJSWJ, created 2022-02-02 16:16:14-08:00\n",
      "HIT #501: Custom workplace survey HIT for worker id A2TO6N1MTMQD1B, created 2022-02-02 15:38:42-08:00\n",
      "HIT #502: Custom workplace survey HIT for worker id A2TVX9XZ2RTBUE, created 2022-02-02 15:32:38-08:00\n",
      "HIT #503: Custom workplace survey HIT for worker id A2TXK35PJRO3KS, created 2022-02-02 16:16:30-08:00\n",
      "HIT #504: Custom workplace survey HIT for worker id A2U2LICYDFMI00, created 2022-02-02 16:14:42-08:00\n",
      "HIT #505: Custom workplace survey HIT for worker id A2U74SU3BDAC7G, created 2022-02-02 15:36:41-08:00\n",
      "HIT #506: Custom workplace survey HIT for worker id A2U7BMG19Q83GE, created 2022-02-02 15:38:53-08:00\n",
      "HIT #507: Custom workplace survey HIT for worker id A2UKLEPUC4X9X2, created 2022-02-02 16:17:37-08:00\n",
      "HIT #508: Custom workplace survey HIT for worker id A2UPJWDQFVHZV8, created 2022-02-02 15:32:01-08:00\n",
      "HIT #509: Custom workplace survey HIT for worker id A2UPMRZ5OPQTNP, created 2022-02-02 15:36:30-08:00\n",
      "HIT #510: Custom workplace survey HIT for worker id A2V3938DIP03PJ, created 2022-02-02 15:36:52-08:00\n",
      "HIT #511: Custom workplace survey HIT for worker id A2V862P1P8SE8M, created 2022-02-02 15:40:49-08:00\n",
      "HIT #512: Custom workplace survey HIT for worker id A2VF04D80CX344, created 2022-02-02 15:36:02-08:00\n",
      "HIT #513: Custom workplace survey HIT for worker id A2VH4J1I0AFZQW, created 2022-02-02 15:39:44-08:00\n",
      "HIT #514: Custom workplace survey HIT for worker id A2VNR6984SDFGQ, created 2022-02-02 16:17:21-08:00\n",
      "HIT #515: Custom workplace survey HIT for worker id A2W1EIVLN6JCLC, created 2022-02-02 15:38:03-08:00\n",
      "HIT #516: Custom workplace survey HIT for worker id A2W1VYVDM9D695, created 2022-02-02 16:16:00-08:00\n",
      "HIT #517: Custom workplace survey HIT for worker id A2WCZNW33ZN925, created 2022-02-02 16:17:29-08:00\n",
      "HIT #518: Custom workplace survey HIT for worker id A2WROT8QGFDS86, created 2022-02-02 16:13:05-08:00\n",
      "HIT #519: Custom workplace survey HIT for worker id A2WRTPJ8WC51RH, created 2022-02-02 15:40:40-08:00\n",
      "HIT #520: Custom workplace survey HIT for worker id A2WZTMXWD20NYE, created 2022-02-02 15:35:00-08:00\n",
      "HIT #521: Custom workplace survey HIT for worker id A2X56NAG5KQB1X, created 2022-02-02 15:32:49-08:00\n",
      "HIT #522: Custom workplace survey HIT for worker id A2X6JU8F75BX5J, created 2022-02-02 15:36:26-08:00\n",
      "HIT #523: Custom workplace survey HIT for worker id A2XC69PN7L25ZV, created 2022-02-02 16:14:08-08:00\n",
      "HIT #524: Custom workplace survey HIT for worker id A2XE89KFI1DRPQ, created 2022-02-02 16:13:39-08:00\n",
      "HIT #525: Custom workplace survey HIT for worker id A2XESI8BC44J3P, created 2022-02-02 15:39:09-08:00\n",
      "HIT #526: Custom workplace survey HIT for worker id A2XHLKOGG4WUWV, created 2022-02-02 15:34:41-08:00\n",
      "HIT #527: Custom workplace survey HIT for worker id A2XSGALF8O9ISQ, created 2022-02-02 16:13:28-08:00\n",
      "HIT #528: Custom workplace survey HIT for worker id A2XUDZ2OSR9C6O, created 2022-02-02 15:39:00-08:00\n",
      "HIT #529: Custom workplace survey HIT for worker id A2XUJD9Z7ZDLB5, created 2022-02-02 16:13:01-08:00\n",
      "HIT #530: Custom workplace survey HIT for worker id A2XVMSPJ5H7XBG, created 2022-02-02 15:39:38-08:00\n",
      "HIT #531: Custom workplace survey HIT for worker id A2Y2AZ8DBFU47Q, created 2022-02-02 15:37:34-08:00\n",
      "HIT #532: Custom workplace survey HIT for worker id A2YLO6DCZE7LH1, created 2022-02-02 16:12:47-08:00\n",
      "HIT #533: Custom workplace survey HIT for worker id A2YNLYTG8SEXWJ, created 2022-02-02 16:16:44-08:00\n",
      "HIT #534: Custom workplace survey HIT for worker id A2YQ9TI4W68VLF, created 2022-02-02 15:37:30-08:00\n",
      "HIT #535: Custom workplace survey HIT for worker id A2YTTNEX6T1W1W, created 2022-02-02 16:14:00-08:00\n",
      "HIT #536: Custom workplace survey HIT for worker id A2YWN5IN4WWOEH, created 2022-02-02 15:37:53-08:00\n",
      "HIT #537: Custom workplace survey HIT for worker id A2YX09NLKDPIL9, created 2022-02-02 15:32:56-08:00\n",
      "HIT #538: Custom workplace survey HIT for worker id A2YZWNN7U7DZI4, created 2022-02-02 15:36:28-08:00\n",
      "HIT #539: Custom workplace survey HIT for worker id A2Z03W0OORZLU8, created 2022-02-02 15:35:57-08:00\n",
      "HIT #540: Custom workplace survey HIT for worker id A2Z3O3JOAM2306, created 2022-02-02 16:17:35-08:00\n",
      "HIT #541: Custom workplace survey HIT for worker id A2ZE2IPHK152KA, created 2022-02-02 15:32:43-08:00\n",
      "HIT #542: Custom workplace survey HIT for worker id A2ZEL4GCEZ1PF5, created 2022-02-02 15:38:31-08:00\n",
      "HIT #543: Custom workplace survey HIT for worker id A2ZJB82DJGRXS2, created 2022-02-02 15:35:07-08:00\n",
      "HIT #544: Custom workplace survey HIT for worker id A2ZJSBAM7CVBKP, created 2022-02-02 15:33:10-08:00\n",
      "HIT #545: Custom workplace survey HIT for worker id A2ZMXVKDIWADJA, created 2022-02-02 15:35:09-08:00\n",
      "HIT #546: Custom workplace survey HIT for worker id A2ZNN99UEJA2EU, created 2022-02-02 15:40:04-08:00\n",
      "HIT #547: Custom workplace survey HIT for worker id A2ZVH7DRB2JK83, created 2022-02-02 15:39:35-08:00\n",
      "HIT #548: Custom workplace survey HIT for worker id A2ZWVX2M5VEUTU, created 2022-02-02 16:14:30-08:00\n",
      "HIT #549: Custom workplace survey HIT for worker id A2ZX7JQ3NZMVIV, created 2022-02-02 15:34:03-08:00\n",
      "HIT #550: Custom workplace survey HIT for worker id A2ZXI9LDN93XXM, created 2022-02-02 16:12:41-08:00\n",
      "HIT #551: Custom workplace survey HIT for worker id A2ZXZQFMSLVXZC, created 2022-02-02 16:13:22-08:00\n",
      "HIT #552: Custom workplace survey HIT for worker id A3045HPJSYCN0H, created 2022-02-02 16:16:56-08:00\n",
      "HIT #553: Custom workplace survey HIT for worker id A307K1CZXGBN4L, created 2022-02-02 16:14:33-08:00\n",
      "HIT #554: Custom workplace survey HIT for worker id A30GCTXJ17JC3I, created 2022-02-02 15:38:34-08:00\n",
      "HIT #555: Custom workplace survey HIT for worker id A30LGXM81Q1G6S, created 2022-02-02 15:38:39-08:00\n",
      "HIT #556: Custom workplace survey HIT for worker id A30MRY1AAPODFV, created 2022-02-02 15:32:16-08:00\n",
      "HIT #557: Custom workplace survey HIT for worker id A30N7MR3JGIS9Q, created 2022-02-02 16:17:45-08:00\n",
      "HIT #558: Custom workplace survey HIT for worker id A30YJOBPR1LJKC, created 2022-02-02 15:36:58-08:00\n",
      "HIT #559: Custom workplace survey HIT for worker id A310OLQJR5AN26, created 2022-02-02 16:18:00-08:00\n",
      "HIT #560: Custom workplace survey HIT for worker id A31681CCEVDIH3, created 2022-02-02 15:34:25-08:00\n",
      "HIT #561: Custom workplace survey HIT for worker id A318574M8Q965P, created 2022-02-02 16:12:54-08:00\n",
      "HIT #562: Custom workplace survey HIT for worker id A31GFBRBYLMUBJ, created 2022-02-02 16:15:00-08:00\n",
      "HIT #563: Custom workplace survey HIT for worker id A31KTO5Q6T25UP, created 2022-02-02 15:36:06-08:00\n",
      "HIT #564: Custom workplace survey HIT for worker id A31MIFTJ5X397P, created 2022-02-02 15:34:55-08:00\n",
      "HIT #565: Custom workplace survey HIT for worker id A31U7VGTEOY2RG, created 2022-02-02 15:38:14-08:00\n",
      "HIT #566: Custom workplace survey HIT for worker id A31YF0NYJ4OHX8, created 2022-02-02 15:34:51-08:00\n",
      "HIT #567: Custom workplace survey HIT for worker id A3243HCN0T5GJJ, created 2022-02-02 16:15:20-08:00\n",
      "HIT #568: Custom workplace survey HIT for worker id A3285DPCS1GT0U, created 2022-02-02 15:40:07-08:00\n",
      "HIT #569: Custom workplace survey HIT for worker id A328I88IU68S5X, created 2022-02-02 15:34:52-08:00\n",
      "HIT #570: Custom workplace survey HIT for worker id A328S8XGPX85LT, created 2022-02-02 15:32:36-08:00\n",
      "HIT #571: Custom workplace survey HIT for worker id A329XUHB78C2IK, created 2022-02-02 15:34:08-08:00\n",
      "HIT #572: Custom workplace survey HIT for worker id A32E2DAL0IX723, created 2022-02-02 15:38:37-08:00\n",
      "HIT #573: Custom workplace survey HIT for worker id A32RIZVRL3XJXR, created 2022-02-02 16:16:41-08:00\n",
      "HIT #574: Custom workplace survey HIT for worker id A32SIL15SH1UA9, created 2022-02-02 15:33:40-08:00\n",
      "HIT #575: Custom workplace survey HIT for worker id A32U29CFYUYAJG, created 2022-02-02 15:36:33-08:00\n",
      "HIT #576: Custom workplace survey HIT for worker id A32WSJH5RYLXRQ, created 2022-02-02 15:40:38-08:00\n",
      "HIT #577: Custom workplace survey HIT for worker id A32XW59UVW9YCO, created 2022-02-02 15:32:03-08:00\n",
      "HIT #578: Custom workplace survey HIT for worker id A332YE239LQIPJ, created 2022-02-02 16:15:47-08:00\n",
      "HIT #579: Custom workplace survey HIT for worker id A334V4Z119Y4G8, created 2022-02-02 15:39:32-08:00\n",
      "HIT #580: Custom workplace survey HIT for worker id A335FAMV62ZVX3, created 2022-02-02 16:15:25-08:00\n",
      "HIT #581: Custom workplace survey HIT for worker id A3398NZQPID9Z8, created 2022-02-02 15:36:24-08:00\n",
      "HIT #582: Custom workplace survey HIT for worker id A33EUI5CMN0MLJ, created 2022-02-02 15:37:23-08:00\n",
      "HIT #583: Custom workplace survey HIT for worker id A33I17JEFZ925P, created 2022-02-02 16:14:29-08:00\n",
      "HIT #584: Custom workplace survey HIT for worker id A33K1KJAGKZM96, created 2022-02-02 16:15:30-08:00\n",
      "HIT #585: Custom workplace survey HIT for worker id A33S5VOWZVL6VA, created 2022-02-02 15:34:39-08:00\n",
      "HIT #586: Custom workplace survey HIT for worker id A340UGIDGIF4W6, created 2022-02-02 15:40:13-08:00\n",
      "HIT #587: Custom workplace survey HIT for worker id A341FRRF0JO4LC, created 2022-02-02 16:13:00-08:00\n",
      "HIT #588: Custom workplace survey HIT for worker id A34467GUIU0WGK, created 2022-02-02 16:16:53-08:00\n",
      "HIT #589: Custom workplace survey HIT for worker id A3492HL94OVDR5, created 2022-02-02 16:15:16-08:00\n",
      "HIT #590: Custom workplace survey HIT for worker id A34DGS74FOSYML, created 2022-02-02 15:39:41-08:00\n",
      "HIT #591: Custom workplace survey HIT for worker id A34HVO6CF0FSF1, created 2022-02-02 15:32:35-08:00\n",
      "HIT #592: Custom workplace survey HIT for worker id A34IBZYHGIIFZA, created 2022-02-02 15:35:20-08:00\n",
      "HIT #593: Custom workplace survey HIT for worker id A355NR88V0KFH0, created 2022-02-02 15:40:47-08:00\n",
      "HIT #594: Custom workplace survey HIT for worker id A35CHBMYRAXDNZ, created 2022-02-02 15:39:30-08:00\n",
      "HIT #595: Custom workplace survey HIT for worker id A35N8JKGLT5PNK, created 2022-02-02 15:39:59-08:00\n",
      "HIT #596: Custom workplace survey HIT for worker id A35R51I2SUMCQJ, created 2022-02-02 15:37:31-08:00\n",
      "HIT #597: Custom workplace survey HIT for worker id A35ROC8J91VOW0, created 2022-02-02 16:13:32-08:00\n",
      "HIT #598: Custom workplace survey HIT for worker id A35X49GYI5O2V4, created 2022-02-02 15:32:39-08:00\n",
      "HIT #599: Custom workplace survey HIT for worker id A35Z4S9XQA4FZ2, created 2022-02-02 16:12:39-08:00\n",
      "HIT #600: Custom workplace survey HIT for worker id A36A2JLZUOPNUM, created 2022-02-02 15:39:24-08:00\n",
      "HIT #601: Custom workplace survey HIT for worker id A36P1LGCZEC6NX, created 2022-02-02 16:13:13-08:00\n",
      "HIT #602: Custom workplace survey HIT for worker id A36QGCT3MMXC4Q, created 2022-02-02 16:14:44-08:00\n",
      "HIT #603: Custom workplace survey HIT for worker id A36X6B6HXD442I, created 2022-02-02 15:34:34-08:00\n",
      "HIT #604: Custom workplace survey HIT for worker id A36XMGX5Q63LNM, created 2022-02-02 15:35:23-08:00\n",
      "HIT #605: Custom workplace survey HIT for worker id A372725XPFZ48Q, created 2022-02-02 16:12:48-08:00\n",
      "HIT #606: Custom workplace survey HIT for worker id A37451I8J4AFNE, created 2022-02-02 15:33:36-08:00\n",
      "HIT #607: Custom workplace survey HIT for worker id A37B4IKMX7A74O, created 2022-02-02 15:38:09-08:00\n",
      "HIT #608: Custom workplace survey HIT for worker id A37JE78044N1C1, created 2022-02-02 15:38:50-08:00\n",
      "HIT #609: Custom workplace survey HIT for worker id A37Q4O126A4RNA, created 2022-02-02 15:38:20-08:00\n",
      "HIT #610: Custom workplace survey HIT for worker id A37RRXV0ZWYFBV, created 2022-02-02 15:38:57-08:00\n",
      "HIT #611: Custom workplace survey HIT for worker id A37XRO9RNNIS72, created 2022-02-02 15:40:10-08:00\n",
      "HIT #612: Custom workplace survey HIT for worker id A37YALHDA3OB8M, created 2022-02-02 15:34:16-08:00\n",
      "HIT #613: Custom workplace survey HIT for worker id A37ZO8K4C1AVL6, created 2022-02-02 15:37:38-08:00\n",
      "HIT #614: Custom workplace survey HIT for worker id A38240X9B0EBKE, created 2022-02-02 15:39:13-08:00\n",
      "HIT #615: Custom workplace survey HIT for worker id A383WHU79L19V7, created 2022-02-02 15:40:22-08:00\n",
      "HIT #616: Custom workplace survey HIT for worker id A38D6P1S6SK8AD, created 2022-02-02 15:32:12-08:00\n",
      "HIT #617: Custom workplace survey HIT for worker id A38EMARW218692, created 2022-02-02 16:13:27-08:00\n",
      "HIT #618: Custom workplace survey HIT for worker id A38O477LEMGO8A, created 2022-02-02 15:32:30-08:00\n",
      "HIT #619: Custom workplace survey HIT for worker id A38VFGL477QDJC, created 2022-02-02 15:40:46-08:00\n",
      "HIT #620: Custom workplace survey HIT for worker id A38ZLHQKD09JMM, created 2022-02-02 15:34:07-08:00\n",
      "HIT #621: Custom workplace survey HIT for worker id A38ZP9C44DGJXU, created 2022-02-02 15:32:46-08:00\n",
      "HIT #622: Custom workplace survey HIT for worker id A391MROQ25010H, created 2022-02-02 16:17:44-08:00\n",
      "HIT #623: Custom workplace survey HIT for worker id A391UNZPWPIU8E, created 2022-02-02 16:14:32-08:00\n",
      "HIT #624: Custom workplace survey HIT for worker id A399GYOD60WD7M, created 2022-02-02 16:16:27-08:00\n",
      "HIT #625: Custom workplace survey HIT for worker id A39BR7NYRDWC01, created 2022-02-02 16:18:03-08:00\n",
      "HIT #626: Custom workplace survey HIT for worker id A39GP79ULCP9J2, created 2022-02-02 15:38:01-08:00\n",
      "HIT #627: Custom workplace survey HIT for worker id A39GRMHHQA3F2N, created 2022-02-02 15:34:05-08:00\n",
      "HIT #628: Custom workplace survey HIT for worker id A39K4JNYDU0QMJ, created 2022-02-02 16:14:08-08:00\n",
      "HIT #629: Custom workplace survey HIT for worker id A39QNT9PQCP5KA, created 2022-02-02 15:35:25-08:00\n",
      "HIT #630: Custom workplace survey HIT for worker id A39RGE68OWVGSN, created 2022-02-02 15:35:30-08:00\n",
      "HIT #631: Custom workplace survey HIT for worker id A39TKEZXJ5EAH9, created 2022-02-02 16:14:18-08:00\n",
      "HIT #632: Custom workplace survey HIT for worker id A39UNTUXW8XO8T, created 2022-02-02 15:35:41-08:00\n",
      "HIT #633: Custom workplace survey HIT for worker id A39VDXGL1RVURU, created 2022-02-02 15:39:10-08:00\n",
      "HIT #634: Custom workplace survey HIT for worker id A39Y2UOHEAD0DT, created 2022-02-02 15:35:26-08:00\n",
      "HIT #635: Custom workplace survey HIT for worker id A3A5KTVA3YGBE9, created 2022-02-02 15:34:21-08:00\n",
      "HIT #636: Custom workplace survey HIT for worker id A3A9UHGEZBQBQP, created 2022-02-02 15:34:36-08:00\n",
      "HIT #637: Custom workplace survey HIT for worker id A3AASHQGQW8Q5D, created 2022-02-02 16:17:50-08:00\n",
      "HIT #638: Custom workplace survey HIT for worker id A3ADP5EDYSB9HD, created 2022-02-02 15:39:49-08:00\n",
      "HIT #639: Custom workplace survey HIT for worker id A3ADQ2RLQNJQDU, created 2022-02-02 15:37:46-08:00\n",
      "HIT #640: Custom workplace survey HIT for worker id A3ARG65B4FMQMO, created 2022-02-02 16:13:48-08:00\n",
      "HIT #641: Custom workplace survey HIT for worker id A3AUWLSAATRKQU, created 2022-02-02 16:14:27-08:00\n",
      "HIT #642: Custom workplace survey HIT for worker id A3AV3GI198TCYI, created 2022-02-02 16:15:43-08:00\n",
      "HIT #643: Custom workplace survey HIT for worker id A3AVUWEVKE63E8, created 2022-02-02 15:32:06-08:00\n",
      "HIT #644: Custom workplace survey HIT for worker id A3AWSE6R5EQ6W9, created 2022-02-02 15:36:28-08:00\n",
      "HIT #645: Custom workplace survey HIT for worker id A3AZZY6PM1G2NJ, created 2022-02-02 15:35:59-08:00\n",
      "HIT #646: Custom workplace survey HIT for worker id A3B01L2TR8ZH4O, created 2022-02-02 15:40:39-08:00\n",
      "HIT #647: Custom workplace survey HIT for worker id A3B9ZD4S1WBSXW, created 2022-02-02 15:37:31-08:00\n",
      "HIT #648: Custom workplace survey HIT for worker id A3BFST7D03LRQ6, created 2022-02-02 16:16:25-08:00\n",
      "HIT #649: Custom workplace survey HIT for worker id A3BHC26JY7KFST, created 2022-02-02 15:34:26-08:00\n",
      "HIT #650: Custom workplace survey HIT for worker id A3BJOWUNJG6MM2, created 2022-02-02 15:32:16-08:00\n",
      "HIT #651: Custom workplace survey HIT for worker id A3BPR4NCX247XK, created 2022-02-02 15:40:50-08:00\n",
      "HIT #652: Custom workplace survey HIT for worker id A3BUQV1KE7BJJL, created 2022-02-02 15:35:56-08:00\n",
      "HIT #653: Custom workplace survey HIT for worker id A3C18HXTYA4CM3, created 2022-02-02 15:34:40-08:00\n",
      "HIT #654: Custom workplace survey HIT for worker id A3CFN175EGQL6A, created 2022-02-02 15:37:50-08:00\n",
      "HIT #655: Custom workplace survey HIT for worker id A3CNYZO01Z6I1W, created 2022-02-02 15:34:22-08:00\n",
      "HIT #656: Custom workplace survey HIT for worker id A3COJKUH7J9FOA, created 2022-02-02 15:33:50-08:00\n",
      "HIT #657: Custom workplace survey HIT for worker id A3CQMJTSXBDQ2E, created 2022-02-02 15:33:06-08:00\n",
      "HIT #658: Custom workplace survey HIT for worker id A3CRUIAEIR6NO9, created 2022-02-02 15:35:06-08:00\n",
      "HIT #659: Custom workplace survey HIT for worker id A3CSPN2MNWWWPN, created 2022-02-02 15:33:24-08:00\n",
      "HIT #660: Custom workplace survey HIT for worker id A3CT27XPBO5K6C, created 2022-02-02 15:38:14-08:00\n",
      "HIT #661: Custom workplace survey HIT for worker id A3D6HRTNTA1CQJ, created 2022-02-02 15:37:23-08:00\n",
      "HIT #662: Custom workplace survey HIT for worker id A3DAA9VH8T031A, created 2022-02-02 15:35:28-08:00\n",
      "HIT #663: Custom workplace survey HIT for worker id A3DBYCJRV5Y6FJ, created 2022-02-02 15:35:32-08:00\n",
      "HIT #664: Custom workplace survey HIT for worker id A3DLEZ2RQBZADF, created 2022-02-02 16:16:40-08:00\n",
      "HIT #665: Custom workplace survey HIT for worker id A3DQ80OTKUEZFY, created 2022-02-02 16:15:05-08:00\n",
      "HIT #666: Custom workplace survey HIT for worker id A3DV82BTWL6MQK, created 2022-02-02 15:35:25-08:00\n",
      "HIT #667: Custom workplace survey HIT for worker id A3E65QA8DZX26T, created 2022-02-02 16:17:20-08:00\n",
      "HIT #668: Custom workplace survey HIT for worker id A3E88UCY0CE50M, created 2022-02-02 16:18:18-08:00\n",
      "HIT #669: Custom workplace survey HIT for worker id A3EGPSSNB7Z8BO, created 2022-02-02 15:32:22-08:00\n",
      "HIT #670: Custom workplace survey HIT for worker id A3EHAY80BFLUJJ, created 2022-02-02 15:32:26-08:00\n",
      "HIT #671: Custom workplace survey HIT for worker id A3EJL5QQCMHK41, created 2022-02-02 15:39:16-08:00\n",
      "HIT #672: Custom workplace survey HIT for worker id A3EP6WGHX8K1ML, created 2022-02-02 15:34:35-08:00\n",
      "HIT #673: Custom workplace survey HIT for worker id A3EQX5PTQQU65K, created 2022-02-02 15:33:26-08:00\n",
      "HIT #674: Custom workplace survey HIT for worker id A3EU8ENRH654SB, created 2022-02-02 15:37:21-08:00\n",
      "HIT #675: Custom workplace survey HIT for worker id A3EWXP71YC0AOB, created 2022-02-02 15:36:16-08:00\n",
      "HIT #676: Custom workplace survey HIT for worker id A3F1SO6HO48A0E, created 2022-02-02 15:38:26-08:00\n",
      "HIT #677: Custom workplace survey HIT for worker id A3F5AODCU2SLRQ, created 2022-02-02 16:13:44-08:00\n",
      "HIT #678: Custom workplace survey HIT for worker id A3FC1V60Y3IYQI, created 2022-02-02 16:13:44-08:00\n",
      "HIT #679: Custom workplace survey HIT for worker id A3FF7CM681WLTA, created 2022-02-02 15:37:05-08:00\n",
      "HIT #680: Custom workplace survey HIT for worker id A3FPXYVABXB9IZ, created 2022-02-02 15:33:55-08:00\n",
      "HIT #681: Custom workplace survey HIT for worker id A3G1HG9Q8M4UI5, created 2022-02-02 16:18:07-08:00\n",
      "HIT #682: Custom workplace survey HIT for worker id A3G2G2W271CY1Z, created 2022-02-02 15:36:50-08:00\n",
      "HIT #683: Custom workplace survey HIT for worker id A3GAQNTZ1V1VO, created 2022-02-02 15:39:14-08:00\n",
      "HIT #684: Custom workplace survey HIT for worker id A3GINL0EIHQL33, created 2022-02-02 16:15:55-08:00\n",
      "HIT #685: Custom workplace survey HIT for worker id A3GJSMZJ3ZDYPP, created 2022-02-02 16:14:46-08:00\n",
      "HIT #686: Custom workplace survey HIT for worker id A3GMFFU5ZW9BR6, created 2022-02-02 15:37:28-08:00\n",
      "HIT #687: Custom workplace survey HIT for worker id A3GPZWCZ7A72NY, created 2022-02-02 16:18:09-08:00\n",
      "HIT #688: Custom workplace survey HIT for worker id A3H7WFRISBGM1K, created 2022-02-02 15:39:27-08:00\n",
      "HIT #689: Custom workplace survey HIT for worker id A3HE29W5IDR394, created 2022-02-02 15:33:29-08:00\n",
      "HIT #690: Custom workplace survey HIT for worker id A3HELO5GPE16D4, created 2022-02-02 16:15:18-08:00\n",
      "HIT #691: Custom workplace survey HIT for worker id A3HGPZSE4ZZK83, created 2022-02-02 15:33:27-08:00\n",
      "HIT #692: Custom workplace survey HIT for worker id A3HN0NXIAPC9LM, created 2022-02-02 15:32:45-08:00\n",
      "HIT #693: Custom workplace survey HIT for worker id A3HOBJ4PJUOCUN, created 2022-02-02 16:14:19-08:00\n",
      "HIT #694: Custom workplace survey HIT for worker id A3HVAUVU328M02, created 2022-02-02 15:36:14-08:00\n",
      "HIT #695: Custom workplace survey HIT for worker id A3I5ZQI3WP7NS4, created 2022-02-02 15:40:37-08:00\n",
      "HIT #696: Custom workplace survey HIT for worker id A3I65SDKOXEG8Q, created 2022-02-02 15:38:51-08:00\n",
      "HIT #697: Custom workplace survey HIT for worker id A3I7B7Z1LB56BW, created 2022-02-02 16:12:49-08:00\n",
      "HIT #698: Custom workplace survey HIT for worker id A3I8XPW3AGMTA5, created 2022-02-02 16:16:31-08:00\n",
      "HIT #699: Custom workplace survey HIT for worker id A3IDIRFXR3U9GO, created 2022-02-02 15:35:42-08:00\n",
      "HIT #700: Custom workplace survey HIT for worker id A3IEY9GDK4ZNV4, created 2022-02-02 15:35:20-08:00\n",
      "HIT #701: Custom workplace survey HIT for worker id A3IJFLF2TX0OP7, created 2022-02-02 15:32:55-08:00\n",
      "HIT #702: Custom workplace survey HIT for worker id A3IU2E7QCWYEZI, created 2022-02-02 16:16:45-08:00\n",
      "HIT #703: Custom workplace survey HIT for worker id A3IZ0KKJ2IHL04, created 2022-02-02 15:32:14-08:00\n",
      "HIT #704: Custom workplace survey HIT for worker id A3J6650P8O9GXI, created 2022-02-02 16:16:36-08:00\n",
      "HIT #705: Custom workplace survey HIT for worker id A3J9C0RNRB5OWO, created 2022-02-02 15:34:59-08:00\n",
      "HIT #706: Custom workplace survey HIT for worker id A3JBN7RTZTUK0X, created 2022-02-02 15:32:53-08:00\n",
      "HIT #707: Custom workplace survey HIT for worker id A3JC3AR9RO7KZZ, created 2022-02-02 15:32:32-08:00\n",
      "HIT #708: Custom workplace survey HIT for worker id A3JFDR56EC72BW, created 2022-02-02 15:39:51-08:00\n",
      "HIT #709: Custom workplace survey HIT for worker id A3JGYKW0YD31MG, created 2022-02-02 15:34:13-08:00\n",
      "HIT #710: Custom workplace survey HIT for worker id A3JPI2UCX0Z6BA, created 2022-02-02 15:36:10-08:00\n",
      "HIT #711: Custom workplace survey HIT for worker id A3JVO6BEZPJ3QQ, created 2022-02-02 16:16:32-08:00\n",
      "HIT #712: Custom workplace survey HIT for worker id A3JWOB5IEJCDZC, created 2022-02-02 15:39:33-08:00\n",
      "HIT #713: Custom workplace survey HIT for worker id A3JWWL42NDDOXR, created 2022-02-02 16:15:12-08:00\n",
      "HIT #714: Custom workplace survey HIT for worker id A3JYC7C2BS2MXQ, created 2022-02-02 15:33:28-08:00\n",
      "HIT #715: Custom workplace survey HIT for worker id A3JYYWY500T59M, created 2022-02-02 16:13:19-08:00\n",
      "HIT #716: Custom workplace survey HIT for worker id A3JZG4HF6B7XWC, created 2022-02-02 15:34:57-08:00\n",
      "HIT #717: Custom workplace survey HIT for worker id A3JZNUBAIASMKA, created 2022-02-02 15:40:20-08:00\n",
      "HIT #718: Custom workplace survey HIT for worker id A3K4IQVUWJGM7F, created 2022-02-02 15:37:59-08:00\n",
      "HIT #719: Custom workplace survey HIT for worker id A3KB96I2NLKWMC, created 2022-02-02 15:33:19-08:00\n",
      "HIT #720: Custom workplace survey HIT for worker id A3KJUHFFIXFLMI, created 2022-02-02 16:18:04-08:00\n",
      "HIT #721: Custom workplace survey HIT for worker id A3KM1WY4POHX6V, created 2022-02-02 16:16:59-08:00\n",
      "HIT #722: Custom workplace survey HIT for worker id A3KMO0CAWJ8ZNL, created 2022-02-02 15:35:42-08:00\n",
      "HIT #723: Custom workplace survey HIT for worker id A3KNIYRAHE70X0, created 2022-02-02 16:15:14-08:00\n",
      "HIT #724: Custom workplace survey HIT for worker id A3KQOOCHCYYF9E, created 2022-02-02 15:38:38-08:00\n",
      "HIT #725: Custom workplace survey HIT for worker id A3L3DQBOMGQX2Z, created 2022-02-02 15:38:41-08:00\n",
      "HIT #726: Custom workplace survey HIT for worker id A3LIOYH1H5BQ04, created 2022-02-02 15:35:52-08:00\n",
      "HIT #727: Custom workplace survey HIT for worker id A3LTFYL8W6PN7L, created 2022-02-02 16:16:54-08:00\n",
      "HIT #728: Custom workplace survey HIT for worker id A3M2A3QUKIH8FN, created 2022-02-02 15:37:49-08:00\n",
      "HIT #729: Custom workplace survey HIT for worker id A3M7J1V9NA210Q, created 2022-02-02 16:16:09-08:00\n",
      "HIT #730: Custom workplace survey HIT for worker id A3M8M7FBXBRCUM, created 2022-02-02 15:37:42-08:00\n",
      "HIT #731: Custom workplace survey HIT for worker id A3MHLQBHJ266G, created 2022-02-02 15:34:23-08:00\n",
      "HIT #732: Custom workplace survey HIT for worker id A3MHT97TY1M91Y, created 2022-02-02 15:40:02-08:00\n",
      "HIT #733: Custom workplace survey HIT for worker id A3MJSGA39AEY39, created 2022-02-02 15:39:42-08:00\n",
      "HIT #734: Custom workplace survey HIT for worker id A3MM0Y2X69OOV5, created 2022-02-02 15:32:13-08:00\n",
      "HIT #735: Custom workplace survey HIT for worker id A3MNRQ039XJNJ6, created 2022-02-02 15:36:21-08:00\n",
      "HIT #736: Custom workplace survey HIT for worker id A3MPRLOQP8D3DL, created 2022-02-02 16:16:49-08:00\n",
      "HIT #737: Custom workplace survey HIT for worker id A3NCC63CW1FX3H, created 2022-02-02 16:13:33-08:00\n",
      "HIT #738: Custom workplace survey HIT for worker id A3NDEH3AWDHWL8, created 2022-02-02 16:14:43-08:00\n",
      "HIT #739: Custom workplace survey HIT for worker id A3NHOKR2PMLTZV, created 2022-02-02 15:32:35-08:00\n",
      "HIT #740: Custom workplace survey HIT for worker id A3NKE06CY81RBZ, created 2022-02-02 15:39:11-08:00\n",
      "HIT #741: Custom workplace survey HIT for worker id A3NNJASZ12VR5L, created 2022-02-02 15:39:20-08:00\n",
      "HIT #742: Custom workplace survey HIT for worker id A3NNJFPJS77OLV, created 2022-02-02 15:34:34-08:00\n",
      "HIT #743: Custom workplace survey HIT for worker id A3NTL94AI3P5GX, created 2022-02-02 15:34:49-08:00\n",
      "HIT #744: Custom workplace survey HIT for worker id A3NXXMACEGVNIO, created 2022-02-02 16:18:17-08:00\n",
      "HIT #745: Custom workplace survey HIT for worker id A3O0ZQMDKOKAMR, created 2022-02-02 15:39:41-08:00\n",
      "HIT #746: Custom workplace survey HIT for worker id A3O1FCC2657OKM, created 2022-02-02 16:17:05-08:00\n",
      "HIT #747: Custom workplace survey HIT for worker id A3O5SDG9KS6MZ7, created 2022-02-02 15:37:10-08:00\n",
      "HIT #748: Custom workplace survey HIT for worker id A3O9CEMFLRVJLA, created 2022-02-02 15:37:43-08:00\n",
      "HIT #749: Custom workplace survey HIT for worker id A3OD2OEK4AIXYR, created 2022-02-02 15:38:54-08:00\n",
      "HIT #750: Custom workplace survey HIT for worker id A3OGD3GT1YR4ZA, created 2022-02-02 16:13:17-08:00\n",
      "HIT #751: Custom workplace survey HIT for worker id A3OMXJE08GFFTG, created 2022-02-02 16:12:51-08:00\n",
      "HIT #752: Custom workplace survey HIT for worker id A3OWI0U5NXT8NO, created 2022-02-02 16:17:11-08:00\n",
      "HIT #753: Custom workplace survey HIT for worker id A3P06TH9UCBQ5B, created 2022-02-02 16:15:45-08:00\n",
      "HIT #754: Custom workplace survey HIT for worker id A3P0GFFXZWV5AZ, created 2022-02-02 15:37:47-08:00\n",
      "HIT #755: Custom workplace survey HIT for worker id A3P6PWRC69TYP0, created 2022-02-02 15:36:59-08:00\n",
      "HIT #756: Custom workplace survey HIT for worker id A3P7AXWF57BHNX, created 2022-02-02 16:14:27-08:00\n",
      "HIT #757: Custom workplace survey HIT for worker id A3PBA2ZHVZFGA3, created 2022-02-02 15:40:42-08:00\n",
      "HIT #758: Custom workplace survey HIT for worker id A3PR8IJCUQ0V2G, created 2022-02-02 16:17:44-08:00\n",
      "HIT #759: Custom workplace survey HIT for worker id A3PXFJENHWK6T6, created 2022-02-02 16:17:17-08:00\n",
      "HIT #760: Custom workplace survey HIT for worker id A3Q1EZDNIUK41P, created 2022-02-02 15:38:18-08:00\n",
      "HIT #761: Custom workplace survey HIT for worker id A3Q59ZWE37WE7V, created 2022-02-02 15:39:35-08:00\n",
      "HIT #762: Custom workplace survey HIT for worker id A3Q8AVXB6GHA7K, created 2022-02-02 15:37:54-08:00\n",
      "HIT #763: Custom workplace survey HIT for worker id A3QA6T4K8J7CYL, created 2022-02-02 15:36:38-08:00\n",
      "HIT #764: Custom workplace survey HIT for worker id A3QGTRTRB7YAF8, created 2022-02-02 16:14:04-08:00\n",
      "HIT #765: Custom workplace survey HIT for worker id A3QIKZ5WPXW8FW, created 2022-02-02 16:18:10-08:00\n",
      "HIT #766: Custom workplace survey HIT for worker id A3QNFTVKFFAB42, created 2022-02-02 15:37:43-08:00\n",
      "HIT #767: Custom workplace survey HIT for worker id A3R3UB4E8U9J5O, created 2022-02-02 16:14:50-08:00\n",
      "HIT #768: Custom workplace survey HIT for worker id A3RDHWFPD90XIP, created 2022-02-02 15:35:52-08:00\n",
      "HIT #769: Custom workplace survey HIT for worker id A3S8A6T8K3KAD2, created 2022-02-02 15:40:43-08:00\n",
      "HIT #770: Custom workplace survey HIT for worker id A3SJTDFJ03P5LJ, created 2022-02-02 15:36:23-08:00\n",
      "HIT #771: Custom workplace survey HIT for worker id A3SMCLMGEWAJ1D, created 2022-02-02 15:37:42-08:00\n",
      "HIT #772: Custom workplace survey HIT for worker id A3SMPG1SKJSLQW, created 2022-02-02 15:37:24-08:00\n",
      "HIT #773: Custom workplace survey HIT for worker id A3SSK5U42O6E7Q, created 2022-02-02 15:36:15-08:00\n",
      "HIT #774: Custom workplace survey HIT for worker id A3ST523TY7XP26, created 2022-02-02 15:35:27-08:00\n",
      "HIT #775: Custom workplace survey HIT for worker id A3SZ6U0IA6OB39, created 2022-02-02 15:32:37-08:00\n",
      "HIT #776: Custom workplace survey HIT for worker id A3T3WRVSK1N2PR, created 2022-02-02 16:18:15-08:00\n",
      "HIT #777: Custom workplace survey HIT for worker id A3T64S3SXIL4I, created 2022-02-02 15:37:15-08:00\n",
      "HIT #778: Custom workplace survey HIT for worker id A3T7460V5X87P2, created 2022-02-02 15:34:29-08:00\n",
      "HIT #779: Custom workplace survey HIT for worker id A3TMHPQVI7LPLO, created 2022-02-02 16:17:56-08:00\n",
      "HIT #780: Custom workplace survey HIT for worker id A3TMQO6MJKP270, created 2022-02-02 15:33:58-08:00\n",
      "HIT #781: Custom workplace survey HIT for worker id A3TRHEWVJJF2GO, created 2022-02-02 15:37:51-08:00\n",
      "HIT #782: Custom workplace survey HIT for worker id A3TVDF5EZWP1DQ, created 2022-02-02 16:17:00-08:00\n",
      "HIT #783: Custom workplace survey HIT for worker id A3TWZH1DE4Z7WB, created 2022-02-02 15:32:55-08:00\n",
      "HIT #784: Custom workplace survey HIT for worker id A3UCMC3O58E3DM, created 2022-02-02 16:17:33-08:00\n",
      "HIT #785: Custom workplace survey HIT for worker id A3UCP8QT39UC3, created 2022-02-02 15:32:40-08:00\n",
      "HIT #786: Custom workplace survey HIT for worker id A3UJJDA7F2UHQP, created 2022-02-02 16:16:51-08:00\n",
      "HIT #787: Custom workplace survey HIT for worker id A3UKP5VKOHM4A2, created 2022-02-02 15:35:16-08:00\n",
      "HIT #788: Custom workplace survey HIT for worker id A3UKYYCSTGAWRJ, created 2022-02-02 16:15:23-08:00\n",
      "HIT #789: Custom workplace survey HIT for worker id A3ULCNNTPQINKP, created 2022-02-02 15:36:22-08:00\n",
      "HIT #790: Custom workplace survey HIT for worker id A3UMFQFJ8HE82I, created 2022-02-02 15:36:06-08:00\n",
      "HIT #791: Custom workplace survey HIT for worker id A3UY88CSI2WHPP, created 2022-02-02 15:32:57-08:00\n",
      "HIT #792: Custom workplace survey HIT for worker id A3V4AW6DGWBHDO, created 2022-02-02 15:40:14-08:00\n",
      "HIT #793: Custom workplace survey HIT for worker id A3V9E20YXID4O7, created 2022-02-02 16:12:40-08:00\n",
      "HIT #794: Custom workplace survey HIT for worker id A3VCGGQLXJMKFK, created 2022-02-02 16:16:04-08:00\n",
      "HIT #795: Custom workplace survey HIT for worker id A3VOYK4UGI5BJF, created 2022-02-02 16:13:06-08:00\n",
      "HIT #796: Custom workplace survey HIT for worker id A3VPD34C23PQTQ, created 2022-02-02 15:32:42-08:00\n",
      "HIT #797: Custom workplace survey HIT for worker id A3VXLED856I25D, created 2022-02-02 15:37:45-08:00\n",
      "HIT #798: Custom workplace survey HIT for worker id A3VZUPCZB4Q9XW, created 2022-02-02 15:35:47-08:00\n",
      "HIT #799: Custom workplace survey HIT for worker id A432GFZ88EC9D, created 2022-02-02 15:36:01-08:00\n",
      "HIT #800: Custom workplace survey HIT for worker id A47X266SGF8MM, created 2022-02-02 16:17:32-08:00\n",
      "HIT #801: Custom workplace survey HIT for worker id A489K1IFOM4JW, created 2022-02-02 15:33:15-08:00\n",
      "HIT #802: Custom workplace survey HIT for worker id A49A0FF6ZXYDU, created 2022-02-02 16:14:58-08:00\n",
      "HIT #803: Custom workplace survey HIT for worker id A4DP9QI2225WM, created 2022-02-02 15:39:07-08:00\n",
      "HIT #804: Custom workplace survey HIT for worker id A4FUTGKIOQHCL, created 2022-02-02 15:37:18-08:00\n",
      "HIT #805: Custom workplace survey HIT for worker id A4HNS81WU3KY1, created 2022-02-02 15:39:20-08:00\n",
      "HIT #806: Custom workplace survey HIT for worker id A4L3VEQPJIVMP, created 2022-02-02 16:16:19-08:00\n",
      "HIT #807: Custom workplace survey HIT for worker id A4SLYHRJF2O0U, created 2022-02-02 15:32:17-08:00\n",
      "HIT #808: Custom workplace survey HIT for worker id A59DVED5S9N9Y, created 2022-02-02 15:38:07-08:00\n",
      "HIT #809: Custom workplace survey HIT for worker id A5FOLKO1MT45U, created 2022-02-02 15:32:41-08:00\n",
      "HIT #810: Custom workplace survey HIT for worker id A5GSJYGCTADR6, created 2022-02-02 15:36:55-08:00\n",
      "HIT #811: Custom workplace survey HIT for worker id A5MG93MY9433J, created 2022-02-02 15:36:48-08:00\n",
      "HIT #812: Custom workplace survey HIT for worker id A5PK6DCXAX1JH, created 2022-02-02 16:18:13-08:00\n",
      "HIT #813: Custom workplace survey HIT for worker id A5TZ3J8DHX00J, created 2022-02-02 15:35:34-08:00\n",
      "HIT #814: Custom workplace survey HIT for worker id A5UZPC7RB6HP3, created 2022-02-02 15:37:16-08:00\n",
      "HIT #815: Custom workplace survey HIT for worker id A5VBIZ2KIQ1R8, created 2022-02-02 15:39:40-08:00\n",
      "HIT #816: Custom workplace survey HIT for worker id A5ZREZH2F2KOF, created 2022-02-02 15:39:47-08:00\n",
      "HIT #817: Custom workplace survey HIT for worker id A6GZ38EKJ07T8, created 2022-02-02 16:16:01-08:00\n",
      "HIT #818: Custom workplace survey HIT for worker id A6HRTXXSGJHP6, created 2022-02-02 16:16:37-08:00\n",
      "HIT #819: Custom workplace survey HIT for worker id A6NNTKY436XR8, created 2022-02-02 15:38:38-08:00\n",
      "HIT #820: Custom workplace survey HIT for worker id A6PF1ASQWBWK1, created 2022-02-02 15:38:36-08:00\n",
      "HIT #821: Custom workplace survey HIT for worker id A6SSG88Y84M0P, created 2022-02-02 15:38:49-08:00\n",
      "HIT #822: Custom workplace survey HIT for worker id A6ULQNJYVC2GJ, created 2022-02-02 15:34:02-08:00\n",
      "HIT #823: Custom workplace survey HIT for worker id A7VK9VA1969LZ, created 2022-02-02 15:38:33-08:00\n",
      "HIT #824: Custom workplace survey HIT for worker id A8H3TDQ3213KV, created 2022-02-02 15:39:29-08:00\n",
      "HIT #825: Custom workplace survey HIT for worker id A8J63IHJGWRYS, created 2022-02-02 15:32:41-08:00\n",
      "HIT #826: Custom workplace survey HIT for worker id A8M95JMF1A10S, created 2022-02-02 16:14:47-08:00\n",
      "HIT #827: Custom workplace survey HIT for worker id A8TWVTO74H736, created 2022-02-02 15:37:40-08:00\n",
      "HIT #828: Custom workplace survey HIT for worker id A8UYPMK3VAJVP, created 2022-02-02 16:17:13-08:00\n",
      "HIT #829: Custom workplace survey HIT for worker id A9X4HAOVSJH1Y, created 2022-02-02 16:17:57-08:00\n",
      "HIT #830: Custom workplace survey HIT for worker id AA8IOLRTSGA8D, created 2022-02-02 16:16:55-08:00\n",
      "HIT #831: Custom workplace survey HIT for worker id AB3L4DBGHX7PG, created 2022-02-02 15:37:58-08:00\n",
      "HIT #832: Custom workplace survey HIT for worker id AB5BD2WKPBOK7, created 2022-02-02 15:33:42-08:00\n",
      "HIT #833: Custom workplace survey HIT for worker id AB8KB8IYHVPAM, created 2022-02-02 16:15:24-08:00\n",
      "HIT #834: Custom workplace survey HIT for worker id ABETKAHL8LIVA, created 2022-02-02 16:13:53-08:00\n",
      "HIT #835: Custom workplace survey HIT for worker id ABN8CVZBMH8BM, created 2022-02-02 15:38:35-08:00\n",
      "HIT #836: Custom workplace survey HIT for worker id ABO9F0JD9NN54, created 2022-02-02 16:14:54-08:00\n",
      "HIT #837: Custom workplace survey HIT for worker id ABQ1X8O457IPC, created 2022-02-02 16:17:21-08:00\n",
      "HIT #838: Custom workplace survey HIT for worker id ABS5DWGFW9T37, created 2022-02-02 15:38:25-08:00\n",
      "HIT #839: Custom workplace survey HIT for worker id ABSK9TAZ0NNRD, created 2022-02-02 16:12:42-08:00\n",
      "HIT #840: Custom workplace survey HIT for worker id AC10U9G34PQGG, created 2022-02-02 15:36:27-08:00\n",
      "HIT #841: Custom workplace survey HIT for worker id ACFSU0I71UULU, created 2022-02-02 15:40:40-08:00\n",
      "HIT #842: Custom workplace survey HIT for worker id ACGGPFX4B50AJ, created 2022-02-02 15:35:31-08:00\n",
      "HIT #843: Custom workplace survey HIT for worker id ACH0WY8QOL7UM, created 2022-02-02 15:39:15-08:00\n",
      "HIT #844: Custom workplace survey HIT for worker id ACKABDH3REQJ4, created 2022-02-02 15:38:16-08:00\n",
      "HIT #845: Custom workplace survey HIT for worker id ADIW4L4IGU98R, created 2022-02-02 16:16:11-08:00\n",
      "HIT #846: Custom workplace survey HIT for worker id ADKDC0IXTYCIJ, created 2022-02-02 15:35:07-08:00\n",
      "HIT #847: Custom workplace survey HIT for worker id ADX202DCO2B2O, created 2022-02-02 16:15:14-08:00\n",
      "HIT #848: Custom workplace survey HIT for worker id AE3T8BA696DVQ, created 2022-02-02 16:17:07-08:00\n",
      "HIT #849: Custom workplace survey HIT for worker id AEGM6B3JSS2MO, created 2022-02-02 15:34:38-08:00\n",
      "HIT #850: Custom workplace survey HIT for worker id AEH7DCKL1R601, created 2022-02-02 15:40:19-08:00\n",
      "HIT #851: Custom workplace survey HIT for worker id AEI5V2CFMR370, created 2022-02-02 15:34:08-08:00\n",
      "HIT #852: Custom workplace survey HIT for worker id AEKKRR5SMS3RE, created 2022-02-02 15:38:32-08:00\n",
      "HIT #853: Custom workplace survey HIT for worker id AEOZZ0KYR4998, created 2022-02-02 15:38:13-08:00\n",
      "HIT #854: Custom workplace survey HIT for worker id AEZL6P69UF6KE, created 2022-02-02 15:35:15-08:00\n",
      "HIT #855: Custom workplace survey HIT for worker id AF1YQO63QMA3T, created 2022-02-02 16:18:16-08:00\n",
      "HIT #856: Custom workplace survey HIT for worker id AF5FYXDUK07B0, created 2022-02-02 15:35:44-08:00\n",
      "HIT #857: Custom workplace survey HIT for worker id AFEQUE4KQX61P, created 2022-02-02 16:13:48-08:00\n",
      "HIT #858: Custom workplace survey HIT for worker id AFERIASET17LW, created 2022-02-02 16:15:46-08:00\n",
      "HIT #859: Custom workplace survey HIT for worker id AFX5YAQSBCXC9, created 2022-02-02 15:37:33-08:00\n",
      "HIT #860: Custom workplace survey HIT for worker id AG1ODW7KG7CEP, created 2022-02-02 16:17:31-08:00\n",
      "HIT #861: Custom workplace survey HIT for worker id AGC1N8XA7OBQY, created 2022-02-02 16:18:14-08:00\n",
      "HIT #862: Custom workplace survey HIT for worker id AGEU3VFG2D6HY, created 2022-02-02 16:13:08-08:00\n",
      "HIT #863: Custom workplace survey HIT for worker id AGL27C0JWH8RV, created 2022-02-02 15:33:48-08:00\n",
      "HIT #864: Custom workplace survey HIT for worker id AGMPG6GHW9CIA, created 2022-02-02 16:15:40-08:00\n",
      "HIT #865: Custom workplace survey HIT for worker id AGNEWBU7179GY, created 2022-02-02 16:13:34-08:00\n",
      "HIT #866: Custom workplace survey HIT for worker id AH0VI3PY1RC8C, created 2022-02-02 16:14:55-08:00\n",
      "HIT #867: Custom workplace survey HIT for worker id AH2RCDLB6W278, created 2022-02-02 15:38:02-08:00\n",
      "HIT #868: Custom workplace survey HIT for worker id AHH24JW6AUC3M, created 2022-02-02 15:39:06-08:00\n",
      "HIT #869: Custom workplace survey HIT for worker id AHI4R9YE0SF9E, created 2022-02-02 16:14:24-08:00\n",
      "HIT #870: Custom workplace survey HIT for worker id AHKOMKJ1HGJLM, created 2022-02-02 15:34:11-08:00\n",
      "HIT #871: Custom workplace survey HIT for worker id AHKTM6Q48PGEQ, created 2022-02-02 15:35:36-08:00\n",
      "HIT #872: Custom workplace survey HIT for worker id AHMAYJ5ZXXZHF, created 2022-02-02 15:35:13-08:00\n",
      "HIT #873: Custom workplace survey HIT for worker id AHQL3JGALDMM0, created 2022-02-02 16:13:26-08:00\n",
      "HIT #874: Custom workplace survey HIT for worker id AHY4OBDNT9GQF, created 2022-02-02 15:38:32-08:00\n",
      "HIT #875: Custom workplace survey HIT for worker id AHZ7C7ETHYX3N, created 2022-02-02 16:13:54-08:00\n",
      "HIT #876: Custom workplace survey HIT for worker id AI380TE70QWVY, created 2022-02-02 16:17:02-08:00\n",
      "HIT #877: Custom workplace survey HIT for worker id AI8VXMEBZOCM1, created 2022-02-02 16:13:58-08:00\n",
      "HIT #878: Custom workplace survey HIT for worker id AI9QOT5C5DN1P, created 2022-02-02 16:16:39-08:00\n",
      "HIT #879: Custom workplace survey HIT for worker id AICFZPQM4C1I, created 2022-02-02 15:35:37-08:00\n",
      "HIT #880: Custom workplace survey HIT for worker id AIJQ37M7SD5U4, created 2022-02-02 16:12:44-08:00\n",
      "HIT #881: Custom workplace survey HIT for worker id AJ0WRHPCVTIGN, created 2022-02-02 15:36:09-08:00\n",
      "HIT #882: Custom workplace survey HIT for worker id AJ5L00MR9IAFY, created 2022-02-02 15:34:42-08:00\n",
      "HIT #883: Custom workplace survey HIT for worker id AJB3A6844VHKZ, created 2022-02-02 15:33:02-08:00\n",
      "HIT #884: Custom workplace survey HIT for worker id AJI76D4U5WGBZ, created 2022-02-02 15:33:37-08:00\n",
      "HIT #885: Custom workplace survey HIT for worker id AJNQ2PBD07FKE, created 2022-02-02 16:15:27-08:00\n",
      "HIT #886: Custom workplace survey HIT for worker id AJTP4BJUTIIKL, created 2022-02-02 15:34:19-08:00\n",
      "HIT #887: Custom workplace survey HIT for worker id AK491PLS3GRCF, created 2022-02-02 15:35:28-08:00\n",
      "HIT #888: Custom workplace survey HIT for worker id AKC9H6IX5YCG4, created 2022-02-02 15:34:46-08:00\n",
      "HIT #889: Custom workplace survey HIT for worker id AKGAMGA2JH279, created 2022-02-02 16:13:35-08:00\n",
      "HIT #890: Custom workplace survey HIT for worker id AKHKMEPXX1YZ9, created 2022-02-02 15:32:29-08:00\n",
      "HIT #891: Custom workplace survey HIT for worker id AKJUIW3A6TJAZ, created 2022-02-02 15:36:18-08:00\n",
      "HIT #892: Custom workplace survey HIT for worker id AKVDK30EEV08C, created 2022-02-02 15:36:54-08:00\n",
      "HIT #893: Custom workplace survey HIT for worker id AKVWG6XK4IZOG, created 2022-02-02 15:35:39-08:00\n",
      "HIT #894: Custom workplace survey HIT for worker id AKZD89B2WLSX7, created 2022-02-02 16:16:48-08:00\n",
      "HIT #895: Custom workplace survey HIT for worker id AL83KKXUORS9Y, created 2022-02-02 16:15:56-08:00\n",
      "HIT #896: Custom workplace survey HIT for worker id AL9LOAMJAMAUJ, created 2022-02-02 16:18:06-08:00\n",
      "HIT #897: Custom workplace survey HIT for worker id AM3GN1LZQYZXF, created 2022-02-02 16:16:47-08:00\n",
      "HIT #898: Custom workplace survey HIT for worker id AM6BV9CKRWF2K, created 2022-02-02 15:40:29-08:00\n",
      "HIT #899: Custom workplace survey HIT for worker id AMF4S0WH04EM, created 2022-02-02 15:32:37-08:00\n",
      "HIT #900: Custom workplace survey HIT for worker id AMJR9KZPU2B85, created 2022-02-02 16:14:21-08:00\n",
      "HIT #901: Custom workplace survey HIT for worker id AMNRYECHXZY34, created 2022-02-02 16:13:10-08:00\n",
      "HIT #902: Custom workplace survey HIT for worker id AMNS0MEH6987O, created 2022-02-02 16:15:49-08:00\n",
      "HIT #903: Custom workplace survey HIT for worker id AMPR904VJJFZY, created 2022-02-02 16:13:11-08:00\n",
      "HIT #904: Custom workplace survey HIT for worker id AMTHJ9ARXXWVA, created 2022-02-02 15:33:45-08:00\n",
      "HIT #905: Custom workplace survey HIT for worker id AMX5R6NLYNA2K, created 2022-02-02 15:34:15-08:00\n",
      "HIT #906: Custom workplace survey HIT for worker id AN0R1OW2KZ3Z, created 2022-02-02 16:13:43-08:00\n",
      "HIT #907: Custom workplace survey HIT for worker id AN2TLMRZF7DW8, created 2022-02-02 16:13:41-08:00\n",
      "HIT #908: Custom workplace survey HIT for worker id AN4K6BWY7TSM9, created 2022-02-02 16:13:52-08:00\n",
      "HIT #909: Custom workplace survey HIT for worker id AN6AD7X424488, created 2022-02-02 16:14:32-08:00\n",
      "HIT #910: Custom workplace survey HIT for worker id AN86X4LGR5876, created 2022-02-02 16:16:34-08:00\n",
      "HIT #911: Custom workplace survey HIT for worker id ANAH6AKNR5WSA, created 2022-02-02 16:14:17-08:00\n",
      "HIT #912: Custom workplace survey HIT for worker id ANCIB6B6EBBIJ, created 2022-02-02 16:14:45-08:00\n",
      "HIT #913: Custom workplace survey HIT for worker id ANI12NBMRC83N, created 2022-02-02 15:33:18-08:00\n",
      "HIT #914: Custom workplace survey HIT for worker id ANIRTJBXLLWKY, created 2022-02-02 15:34:49-08:00\n",
      "HIT #915: Custom workplace survey HIT for worker id ANR0LIX0VLUYJ, created 2022-02-02 15:32:11-08:00\n",
      "HIT #916: Custom workplace survey HIT for worker id ANWRXKAOV327E, created 2022-02-02 15:34:33-08:00\n",
      "HIT #917: Custom workplace survey HIT for worker id AO2MW0MDNIH0U, created 2022-02-02 16:17:23-08:00\n",
      "HIT #918: Custom workplace survey HIT for worker id AO803D9U2KO2W, created 2022-02-02 15:37:11-08:00\n",
      "HIT #919: Custom workplace survey HIT for worker id AOD1OXK3U2N5D, created 2022-02-02 16:18:23-08:00\n",
      "HIT #920: Custom workplace survey HIT for worker id AOMFEAWQHU3D8, created 2022-02-02 15:32:25-08:00\n",
      "HIT #921: Custom workplace survey HIT for worker id APAURJ08JMJFN, created 2022-02-02 15:40:32-08:00\n",
      "HIT #922: Custom workplace survey HIT for worker id APMNBORS2KMID, created 2022-02-02 15:33:13-08:00\n",
      "HIT #923: Custom workplace survey HIT for worker id APRG9LXYWVMRT, created 2022-02-02 15:34:37-08:00\n",
      "HIT #924: Custom workplace survey HIT for worker id APRZ7BR8C0ZMQ, created 2022-02-02 15:38:12-08:00\n",
      "HIT #925: Custom workplace survey HIT for worker id APXW3W5FOGF34, created 2022-02-02 16:13:15-08:00\n",
      "HIT #926: Custom workplace survey HIT for worker id APYXJIJ84P6BZ, created 2022-02-02 15:39:04-08:00\n",
      "HIT #927: Custom workplace survey HIT for worker id AQBLBSV7IXXXH, created 2022-02-02 15:36:46-08:00\n",
      "HIT #928: Custom workplace survey HIT for worker id AQCR3CZ7EEMBE, created 2022-02-02 16:13:46-08:00\n",
      "HIT #929: Custom workplace survey HIT for worker id AQWOA20A8F732, created 2022-02-02 16:14:37-08:00\n",
      "HIT #930: Custom workplace survey HIT for worker id AQY3P7G18A43H, created 2022-02-02 15:32:23-08:00\n",
      "HIT #931: Custom workplace survey HIT for worker id AR78EVSBHVFR7, created 2022-02-02 15:37:12-08:00\n",
      "HIT #932: Custom workplace survey HIT for worker id ARHELGKHTCBAV, created 2022-02-02 15:32:02-08:00\n",
      "HIT #933: Custom workplace survey HIT for worker id ARJ4XIRNZ1PV1, created 2022-02-02 16:17:27-08:00\n",
      "HIT #934: Custom workplace survey HIT for worker id ARJ8XLYXTWNE, created 2022-02-02 16:15:35-08:00\n",
      "HIT #935: Custom workplace survey HIT for worker id ARJFMC9IWR8W0, created 2022-02-02 15:34:12-08:00\n",
      "HIT #936: Custom workplace survey HIT for worker id ARU1B3X1EGRVA, created 2022-02-02 16:18:17-08:00\n",
      "HIT #937: Custom workplace survey HIT for worker id AS0PN9WONYMNC, created 2022-02-02 15:40:46-08:00\n",
      "HIT #938: Custom workplace survey HIT for worker id AS4UT5OK9XFR9, created 2022-02-02 15:33:07-08:00\n",
      "HIT #939: Custom workplace survey HIT for worker id ASANA6HNAHR3T, created 2022-02-02 15:39:31-08:00\n",
      "HIT #940: Custom workplace survey HIT for worker id ASC9DUCC64M3P, created 2022-02-02 16:13:45-08:00\n",
      "HIT #941: Custom workplace survey HIT for worker id ASN06RMBP7Z5G, created 2022-02-02 15:34:56-08:00\n",
      "HIT #942: Custom workplace survey HIT for worker id ASRV6YQ071F4R, created 2022-02-02 15:35:18-08:00\n",
      "HIT #943: Custom workplace survey HIT for worker id ASV711JW8LKHM, created 2022-02-02 15:36:29-08:00\n",
      "HIT #944: Custom workplace survey HIT for worker id ASY5W2HJPIPF4, created 2022-02-02 16:13:22-08:00\n",
      "HIT #945: Custom workplace survey HIT for worker id AT2O7HHHZDYSZ, created 2022-02-02 15:38:16-08:00\n",
      "HIT #946: Custom workplace survey HIT for worker id AT3ROHFXY9938, created 2022-02-02 15:37:16-08:00\n",
      "HIT #947: Custom workplace survey HIT for worker id AT4ITNSM1NDB3, created 2022-02-02 15:39:05-08:00\n",
      "HIT #948: Custom workplace survey HIT for worker id AT4O4LBG16O4H, created 2022-02-02 16:16:27-08:00\n",
      "HIT #949: Custom workplace survey HIT for worker id AT7NIGVH5BAF8, created 2022-02-02 15:37:36-08:00\n",
      "HIT #950: Custom workplace survey HIT for worker id AT8D7EFQBPON8, created 2022-02-02 15:38:18-08:00\n",
      "HIT #951: Custom workplace survey HIT for worker id ATA6JFM9B4TIB, created 2022-02-02 15:33:54-08:00\n",
      "HIT #952: Custom workplace survey HIT for worker id ATCNAJ12DOTLE, created 2022-02-02 16:16:43-08:00\n",
      "HIT #953: Custom workplace survey HIT for worker id ATFIP7FLYDX3V, created 2022-02-02 15:34:17-08:00\n",
      "HIT #954: Custom workplace survey HIT for worker id ATPI6MDIS0L2B, created 2022-02-02 15:39:57-08:00\n",
      "HIT #955: Custom workplace survey HIT for worker id ATS1NQ34NV3A2, created 2022-02-02 15:37:29-08:00\n",
      "HIT #956: Custom workplace survey HIT for worker id AU3Y03566DKU4, created 2022-02-02 16:14:07-08:00\n",
      "HIT #957: Custom workplace survey HIT for worker id AU5FXW94DCPK9, created 2022-02-02 15:40:04-08:00\n",
      "HIT #958: Custom workplace survey HIT for worker id AU5JP4ALJ9JA2, created 2022-02-02 16:17:30-08:00\n",
      "HIT #959: Custom workplace survey HIT for worker id AU6OA9N64TWXK, created 2022-02-02 15:40:35-08:00\n",
      "HIT #960: Custom workplace survey HIT for worker id AU7V3ELZYHZ52, created 2022-02-02 16:16:08-08:00\n",
      "HIT #961: Custom workplace survey HIT for worker id AUESA970V41FM, created 2022-02-02 15:39:23-08:00\n",
      "HIT #962: Custom workplace survey HIT for worker id AUFQDLYCLCRYP, created 2022-02-02 15:33:17-08:00\n",
      "HIT #963: Custom workplace survey HIT for worker id AUMJA1ZIA1X2P, created 2022-02-02 16:14:57-08:00\n",
      "HIT #964: Custom workplace survey HIT for worker id AURIUNVQ8C1VB, created 2022-02-02 16:13:56-08:00\n",
      "HIT #965: Custom workplace survey HIT for worker id AV08BL91TJ9BX, created 2022-02-02 15:36:49-08:00\n",
      "HIT #966: Custom workplace survey HIT for worker id AV2TVWU9W96WH, created 2022-02-02 16:15:48-08:00\n",
      "HIT #967: Custom workplace survey HIT for worker id AV4P7N58PU55P, created 2022-02-02 16:16:05-08:00\n",
      "HIT #968: Custom workplace survey HIT for worker id AV5MWD94OG639, created 2022-02-02 15:36:32-08:00\n",
      "HIT #969: Custom workplace survey HIT for worker id AVBRJBJONL47I, created 2022-02-02 16:15:39-08:00\n",
      "HIT #970: Custom workplace survey HIT for worker id AVEC60MU4R94X, created 2022-02-02 15:40:18-08:00\n",
      "HIT #971: Custom workplace survey HIT for worker id AW10PEUEA51NM, created 2022-02-02 15:34:45-08:00\n",
      "HIT #972: Custom workplace survey HIT for worker id AW2IJYOPX2MSE, created 2022-02-02 16:15:43-08:00\n",
      "HIT #973: Custom workplace survey HIT for worker id AW4V8WL40P6FT, created 2022-02-02 15:39:03-08:00\n",
      "HIT #974: Custom workplace survey HIT for worker id AW70RRQM32PZ, created 2022-02-02 15:38:59-08:00\n",
      "HIT #975: Custom workplace survey HIT for worker id AW8LADYIGFQGP, created 2022-02-02 16:16:03-08:00\n",
      "HIT #976: Custom workplace survey HIT for worker id AWFLXMFBLN15F, created 2022-02-02 15:40:30-08:00\n",
      "HIT #977: Custom workplace survey HIT for worker id AWM2QG8OM5FCG, created 2022-02-02 15:36:25-08:00\n",
      "HIT #978: Custom workplace survey HIT for worker id AWPZVPQ0Z18GN, created 2022-02-02 16:15:09-08:00\n",
      "HIT #979: Custom workplace survey HIT for worker id AWZU5RID4SI58, created 2022-02-02 15:39:19-08:00\n",
      "HIT #980: Custom workplace survey HIT for worker id AX2712XL5CFKH, created 2022-02-02 15:32:08-08:00\n",
      "HIT #981: Custom workplace survey HIT for worker id AX46XYFDWN0DZ, created 2022-02-02 16:15:19-08:00\n",
      "HIT #982: Custom workplace survey HIT for worker id AX8RDFKYAO9BX, created 2022-02-02 16:16:15-08:00\n",
      "HIT #983: Custom workplace survey HIT for worker id AXYHEBUZ2W5S3, created 2022-02-02 15:33:01-08:00\n",
      "HIT #984: Custom workplace survey HIT for worker id AXYTTGZ4MCOB4, created 2022-02-02 15:37:02-08:00\n",
      "HIT #985: Custom workplace survey HIT for worker id AY3W8FJ9RTHAP, created 2022-02-02 16:14:34-08:00\n",
      "HIT #986: Custom workplace survey HIT for worker id AY66B9W9D0E76, created 2022-02-02 15:39:18-08:00\n",
      "HIT #987: Custom workplace survey HIT for worker id AY7WPVKHVNBLG, created 2022-02-02 15:35:22-08:00\n",
      "HIT #988: Custom workplace survey HIT for worker id AYHUZ7SINHDRQ, created 2022-02-02 16:17:04-08:00\n",
      "HIT #989: Custom workplace survey HIT for worker id AYIALQ4U55T0Z, created 2022-02-02 15:35:40-08:00\n",
      "HIT #990: Custom workplace survey HIT for worker id AYK4CYUI7HQA9, created 2022-02-02 15:37:18-08:00\n",
      "HIT #991: Custom workplace survey HIT for worker id AYOXZN5JZIHDT, created 2022-02-02 15:38:17-08:00\n",
      "HIT #992: Custom workplace survey HIT for worker id AYV6PRURTN1PG, created 2022-02-02 15:37:26-08:00\n",
      "HIT #993: Custom workplace survey HIT for worker id AYVJ1AI4VLWU9, created 2022-02-02 15:38:50-08:00\n",
      "HIT #994: Custom workplace survey HIT for worker id AYXN53TNFG71P, created 2022-02-02 15:40:36-08:00\n",
      "HIT #995: Custom workplace survey HIT for worker id AZ4YEK3U8T3DY, created 2022-02-02 16:14:40-08:00\n",
      "HIT #996: Custom workplace survey HIT for worker id AZLKVYU5QZ2Z9, created 2022-02-02 16:17:29-08:00\n",
      "HIT #997: Custom workplace survey HIT for worker id AZQ4QIEBEFYQL, created 2022-02-02 15:36:53-08:00\n",
      "HIT #998: Custom workplace survey HIT for worker id AZVC4M3EXGIGI, created 2022-02-02 16:16:50-08:00\n",
      "HIT #999: Custom workplace survey HIT for worker id AZXRWSMDC8FJN, created 2022-02-02 16:18:20-08:00\n"
     ]
    }
   ],
   "source": [
    "def process_assignments(assignment_response):\n",
    "    num_results = assignment_response['NumResults']\n",
    "    assignments = assignment_response['Assignments']\n",
    "    if num_results > 0:\n",
    "        #print(f\"=====[ Submitted HIT: {cur_title} ]=====\")\n",
    "        # Approve Stage2 submission\n",
    "        cur_assignment = assignments[0]\n",
    "        submitted_list.append(cur_assignment)\n",
    "        assignment_id = cur_assignment['AssignmentId']\n",
    "        status = cur_assignment['AssignmentStatus']\n",
    "        if status == \"Submitted\":\n",
    "            print(f\"Status: {status}\")\n",
    "            response = client.approve_assignment(\n",
    "                AssignmentId=assignment_id,\n",
    "                OverrideRejection=True\n",
    "            )\n",
    "            print(f\"Approved assignment {assignment_id}\")\n",
    "            print(response)\n",
    "\n",
    "\n",
    "approve_submitted = True\n",
    "submitted_list = []\n",
    "all_submit_info = []\n",
    "for hit_num, cur_hit in enumerate(stage2_hits):\n",
    "    cur_title = cur_hit['Title']\n",
    "    cur_creation = cur_hit['CreationTime']\n",
    "    #print(\"=====[ start loop iteration ]=====\")\n",
    "    print(f\"HIT #{hit_num}: {cur_title}, created {cur_creation}\")\n",
    "    #print()\n",
    "    cur_id = cur_hit['HITId']\n",
    "    cur_reward = cur_hit['Reward']\n",
    "    num_avail = cur_hit['NumberOfAssignmentsAvailable']\n",
    "    assignment_response = check_submitted(cur_id)\n",
    "    if approve_submitted:\n",
    "        process_assignments(assignment_response)\n",
    "    # Get submission info\n",
    "    cur_worker_id = mtglobals.worker_id_from_title(cur_title)\n",
    "    submit_info = (cur_worker_id, cur_reward, num_avail)\n",
    "    all_submit_info.append(submit_info)\n",
    "    #print(\"----- end loop iteration -----\\n\")"
   ]
  },
  {
   "cell_type": "code",
   "execution_count": 22,
   "id": "c8c89251-c147-4f40-bbd2-631dab7930c7",
   "metadata": {
    "tags": [],
    "pycharm": {
     "name": "#%%\n"
    }
   },
   "outputs": [
    {
     "data": {
      "text/plain": [
       "1000"
      ]
     },
     "execution_count": 22,
     "metadata": {},
     "output_type": "execute_result"
    }
   ],
   "source": [
    "len(all_submit_info)"
   ]
  },
  {
   "cell_type": "code",
   "execution_count": 23,
   "id": "2c92f2bc-741e-4eee-b13e-21493dbc1b31",
   "metadata": {
    "tags": [],
    "pycharm": {
     "name": "#%%\n"
    }
   },
   "outputs": [
    {
     "data": {
      "text/plain": [
       "('A101034V35PRT0', '0.99', 0)"
      ]
     },
     "execution_count": 23,
     "metadata": {},
     "output_type": "execute_result"
    }
   ],
   "source": [
    "all_submit_info[0]"
   ]
  },
  {
   "cell_type": "code",
   "execution_count": 24,
   "id": "aa527405-5f11-4eea-9b12-1fbb629b2e0d",
   "metadata": {
    "tags": [],
    "pycharm": {
     "name": "#%%\n"
    }
   },
   "outputs": [],
   "source": [
    "# Just switches 0 and 1 so it's 1 for accepted and 0 otherwise\n",
    "accepted_info = [(i[0], i[1], 1-i[2]) for i in all_submit_info]"
   ]
  },
  {
   "cell_type": "markdown",
   "id": "ffbbecde-d589-47a0-bbab-00864f6e2883",
   "metadata": {
    "pycharm": {
     "name": "#%% md\n"
    }
   },
   "source": [
    "Select only the expired HITs here, if necessary"
   ]
  },
  {
   "cell_type": "code",
   "execution_count": 25,
   "id": "3e4203ba-2deb-4d62-8f3a-e1f99a968ddc",
   "metadata": {
    "tags": [],
    "pycharm": {
     "name": "#%%\n"
    }
   },
   "outputs": [],
   "source": [
    "#accepted_info = accepted_info[:8]"
   ]
  },
  {
   "cell_type": "markdown",
   "id": "7ce779e9-2b8c-4b33-ae79-61daff096f25",
   "metadata": {
    "pycharm": {
     "name": "#%% md\n"
    }
   },
   "source": [
    "### (e) Transform the downloaded data into a .dta for regression\n",
    "\n",
    "(This is the .dta for *just* this run. The full .dta with all the data across all runs can be generated using 03a_CompileResults.ipynb)"
   ]
  },
  {
   "cell_type": "code",
   "execution_count": 26,
   "id": "796a6f87-3601-4721-b148-7c542549157d",
   "metadata": {
    "tags": [],
    "pycharm": {
     "name": "#%%\n"
    }
   },
   "outputs": [],
   "source": [
    "# Transform this into a .dta for regression\n",
    "accepted_df = pd.DataFrame(accepted_info, columns=['worker_id','wage','accepted'])"
   ]
  },
  {
   "cell_type": "code",
   "execution_count": 27,
   "id": "6c59d5a6-11f1-444f-9020-75c409a9ce60",
   "metadata": {
    "tags": [],
    "pycharm": {
     "name": "#%%\n"
    }
   },
   "outputs": [],
   "source": [
    "accepted_df['lwage'] = accepted_df['wage'].apply(lambda x: np.log(float(x)))"
   ]
  },
  {
   "cell_type": "code",
   "execution_count": 30,
   "id": "e9d9511d-5163-4995-a710-e2abbb6a6c71",
   "metadata": {
    "tags": [],
    "pycharm": {
     "name": "#%%\n"
    }
   },
   "outputs": [],
   "source": [
    "# Save the data in Stata format\n",
    "accepted_df.to_stata('../results_2stage/accepted_reg_currun.dta')"
   ]
  },
  {
   "cell_type": "markdown",
   "id": "7f8b168f-6989-4f63-ab93-bb2fb762b23b",
   "metadata": {
    "pycharm": {
     "name": "#%% md\n"
    }
   },
   "source": [
    "### (f) But also run the regression here (for Jeff)"
   ]
  },
  {
   "cell_type": "code",
   "execution_count": 31,
   "id": "5d169673-7415-4eb6-9a45-60d184a66e8f",
   "metadata": {
    "tags": [],
    "pycharm": {
     "name": "#%%\n"
    }
   },
   "outputs": [
    {
     "data": {
      "text/html": [
       "<div>\n",
       "<style scoped>\n",
       "    .dataframe tbody tr th:only-of-type {\n",
       "        vertical-align: middle;\n",
       "    }\n",
       "\n",
       "    .dataframe tbody tr th {\n",
       "        vertical-align: top;\n",
       "    }\n",
       "\n",
       "    .dataframe thead th {\n",
       "        text-align: right;\n",
       "    }\n",
       "</style>\n",
       "<table border=\"1\" class=\"dataframe\">\n",
       "  <thead>\n",
       "    <tr style=\"text-align: right;\">\n",
       "      <th></th>\n",
       "      <th>worker_id</th>\n",
       "      <th>wage</th>\n",
       "      <th>accepted</th>\n",
       "      <th>lwage</th>\n",
       "    </tr>\n",
       "  </thead>\n",
       "  <tbody>\n",
       "    <tr>\n",
       "      <th>0</th>\n",
       "      <td>A101034V35PRT0</td>\n",
       "      <td>0.99</td>\n",
       "      <td>1</td>\n",
       "      <td>-0.010050</td>\n",
       "    </tr>\n",
       "    <tr>\n",
       "      <th>1</th>\n",
       "      <td>A101U3FTZYY87V</td>\n",
       "      <td>1.02</td>\n",
       "      <td>1</td>\n",
       "      <td>0.019803</td>\n",
       "    </tr>\n",
       "    <tr>\n",
       "      <th>2</th>\n",
       "      <td>A103A7PRZURWVQ</td>\n",
       "      <td>0.95</td>\n",
       "      <td>1</td>\n",
       "      <td>-0.051293</td>\n",
       "    </tr>\n",
       "    <tr>\n",
       "      <th>3</th>\n",
       "      <td>A10994CPHWH2VP</td>\n",
       "      <td>1.05</td>\n",
       "      <td>0</td>\n",
       "      <td>0.048790</td>\n",
       "    </tr>\n",
       "    <tr>\n",
       "      <th>4</th>\n",
       "      <td>A109ZF92TH9Y8J</td>\n",
       "      <td>0.50</td>\n",
       "      <td>0</td>\n",
       "      <td>-0.693147</td>\n",
       "    </tr>\n",
       "    <tr>\n",
       "      <th>...</th>\n",
       "      <td>...</td>\n",
       "      <td>...</td>\n",
       "      <td>...</td>\n",
       "      <td>...</td>\n",
       "    </tr>\n",
       "    <tr>\n",
       "      <th>995</th>\n",
       "      <td>AZ4YEK3U8T3DY</td>\n",
       "      <td>1.50</td>\n",
       "      <td>1</td>\n",
       "      <td>0.405465</td>\n",
       "    </tr>\n",
       "    <tr>\n",
       "      <th>996</th>\n",
       "      <td>AZLKVYU5QZ2Z9</td>\n",
       "      <td>1.02</td>\n",
       "      <td>1</td>\n",
       "      <td>0.019803</td>\n",
       "    </tr>\n",
       "    <tr>\n",
       "      <th>997</th>\n",
       "      <td>AZQ4QIEBEFYQL</td>\n",
       "      <td>1.00</td>\n",
       "      <td>1</td>\n",
       "      <td>0.000000</td>\n",
       "    </tr>\n",
       "    <tr>\n",
       "      <th>998</th>\n",
       "      <td>AZVC4M3EXGIGI</td>\n",
       "      <td>1.01</td>\n",
       "      <td>0</td>\n",
       "      <td>0.009950</td>\n",
       "    </tr>\n",
       "    <tr>\n",
       "      <th>999</th>\n",
       "      <td>AZXRWSMDC8FJN</td>\n",
       "      <td>1.00</td>\n",
       "      <td>1</td>\n",
       "      <td>0.000000</td>\n",
       "    </tr>\n",
       "  </tbody>\n",
       "</table>\n",
       "<p>1000 rows × 4 columns</p>\n",
       "</div>"
      ],
      "text/plain": [
       "          worker_id  wage  accepted     lwage\n",
       "0    A101034V35PRT0  0.99         1 -0.010050\n",
       "1    A101U3FTZYY87V  1.02         1  0.019803\n",
       "2    A103A7PRZURWVQ  0.95         1 -0.051293\n",
       "3    A10994CPHWH2VP  1.05         0  0.048790\n",
       "4    A109ZF92TH9Y8J  0.50         0 -0.693147\n",
       "..              ...   ...       ...       ...\n",
       "995   AZ4YEK3U8T3DY  1.50         1  0.405465\n",
       "996   AZLKVYU5QZ2Z9  1.02         1  0.019803\n",
       "997   AZQ4QIEBEFYQL  1.00         1  0.000000\n",
       "998   AZVC4M3EXGIGI  1.01         0  0.009950\n",
       "999   AZXRWSMDC8FJN  1.00         1  0.000000\n",
       "\n",
       "[1000 rows x 4 columns]"
      ]
     },
     "execution_count": 31,
     "metadata": {},
     "output_type": "execute_result"
    }
   ],
   "source": [
    "accepted_df"
   ]
  },
  {
   "cell_type": "code",
   "execution_count": 32,
   "id": "530dc250-1f6f-4684-a1f2-3fa364196c1c",
   "metadata": {
    "tags": [],
    "pycharm": {
     "name": "#%%\n"
    }
   },
   "outputs": [],
   "source": [
    "# Get just the info for the most recent HITs\n",
    "#accepted_info_sub = accepted_info[-106:]\n",
    "#accepted_info_sub;"
   ]
  },
  {
   "cell_type": "code",
   "execution_count": 33,
   "id": "117129bb-f81e-41ac-bba8-25711c87d0a6",
   "metadata": {
    "tags": [],
    "pycharm": {
     "name": "#%%\n"
    }
   },
   "outputs": [],
   "source": [
    "totals = {'overall':0}\n",
    "accepts = {'overall':0}\n",
    "for cur_info in accepted_info:\n",
    "    cur_wage = cur_info[1]\n",
    "    if cur_wage not in totals:\n",
    "        totals[cur_wage] = 0\n",
    "    if cur_wage not in accepts:\n",
    "        accepts[cur_wage] = 0\n",
    "    cur_accepted = cur_info[2]\n",
    "    totals['overall'] = totals['overall'] + 1\n",
    "    totals[cur_wage] = totals[cur_wage] + 1\n",
    "    if cur_accepted == 1:\n",
    "        accepts['overall'] = accepts['overall'] + 1\n",
    "        accepts[cur_wage] = accepts[cur_wage] + 1"
   ]
  },
  {
   "cell_type": "code",
   "execution_count": 34,
   "id": "1bab664c-e6a1-4d44-9758-acb74b742f33",
   "metadata": {
    "tags": [],
    "pycharm": {
     "name": "#%%\n"
    }
   },
   "outputs": [
    {
     "data": {
      "text/plain": [
       "{'overall': 1000,\n",
       " '0.99': 75,\n",
       " '1.02': 92,\n",
       " '0.95': 102,\n",
       " '1.05': 93,\n",
       " '0.50': 88,\n",
       " '1.01': 84,\n",
       " '1.50': 93,\n",
       " '0.98': 93,\n",
       " '0.90': 84,\n",
       " '1.00': 100,\n",
       " '1.10': 96}"
      ]
     },
     "execution_count": 34,
     "metadata": {},
     "output_type": "execute_result"
    }
   ],
   "source": [
    "totals"
   ]
  },
  {
   "cell_type": "code",
   "execution_count": 35,
   "id": "171aaed8-3fbe-44fd-ad6c-3ba7270c585b",
   "metadata": {
    "tags": [],
    "pycharm": {
     "name": "#%%\n"
    }
   },
   "outputs": [
    {
     "data": {
      "text/plain": [
       "{'overall': 806,\n",
       " '0.99': 64,\n",
       " '1.02': 78,\n",
       " '0.95': 77,\n",
       " '1.05': 86,\n",
       " '0.50': 71,\n",
       " '1.01': 66,\n",
       " '1.50': 77,\n",
       " '0.98': 63,\n",
       " '0.90': 64,\n",
       " '1.00': 83,\n",
       " '1.10': 77}"
      ]
     },
     "execution_count": 35,
     "metadata": {},
     "output_type": "execute_result"
    }
   ],
   "source": [
    "accepts"
   ]
  },
  {
   "cell_type": "code",
   "execution_count": 49,
   "id": "79340a31-2fe6-4b6e-9859-faa6e0ad9045",
   "metadata": {
    "tags": [],
    "pycharm": {
     "name": "#%%\n"
    }
   },
   "outputs": [
    {
     "name": "stdout",
     "output_type": "stream",
     "text": [
      "$0.50:\n",
      "71 accepted out of 88 offers\n",
      "Accept rate: 0.8068\n",
      "$0.90:\n",
      "64 accepted out of 84 offers\n",
      "Accept rate: 0.7619\n",
      "$0.95:\n",
      "77 accepted out of 102 offers\n",
      "Accept rate: 0.7549\n",
      "$0.98:\n",
      "63 accepted out of 93 offers\n",
      "Accept rate: 0.6774\n",
      "$0.99:\n",
      "64 accepted out of 75 offers\n",
      "Accept rate: 0.8533\n",
      "$1.00:\n",
      "83 accepted out of 100 offers\n",
      "Accept rate: 0.8300\n",
      "$1.01:\n",
      "66 accepted out of 84 offers\n",
      "Accept rate: 0.7857\n",
      "$1.02:\n",
      "78 accepted out of 92 offers\n",
      "Accept rate: 0.8478\n",
      "$1.05:\n",
      "86 accepted out of 93 offers\n",
      "Accept rate: 0.9247\n",
      "$1.10:\n",
      "77 accepted out of 96 offers\n",
      "Accept rate: 0.8021\n",
      "$1.50:\n",
      "77 accepted out of 93 offers\n",
      "Accept rate: 0.8280\n",
      "overall:\n",
      "806 accepted out of 1000 offers\n",
      "Accept rate: 0.8060\n"
     ]
    }
   ],
   "source": [
    "for cur_wage in sorted(totals.keys()):\n",
    "    header = f\"{cur_wage}:\" if cur_wage == \"overall\" else f\"${cur_wage}:\"\n",
    "    print(header)\n",
    "    print(f\"{accepts[cur_wage]} accepted out of {totals[cur_wage]} offers\")\n",
    "    accept_rate = accepts[cur_wage] / totals[cur_wage]\n",
    "    print(f\"Accept rate: {accept_rate:.4f}\")\n",
    "#print(f\"Regression intercept: {intercept:.4f}\")"
   ]
  },
  {
   "cell_type": "markdown",
   "id": "f3e93df4-8c3c-492d-b359-5965c099697c",
   "metadata": {
    "pycharm": {
     "name": "#%% md\n"
    }
   },
   "source": [
    "### (e) And now compute the elasticity"
   ]
  },
  {
   "cell_type": "code",
   "execution_count": 50,
   "id": "a487aca0-b50c-4a93-9d17-79f86b295470",
   "metadata": {
    "tags": [],
    "pycharm": {
     "name": "#%%\n"
    }
   },
   "outputs": [
    {
     "name": "stdout",
     "output_type": "stream",
     "text": [
      "                            OLS Regression Results                            \n",
      "==============================================================================\n",
      "Dep. Variable:               accepted   R-squared:                       0.001\n",
      "Model:                            OLS   Adj. R-squared:                 -0.000\n",
      "Method:                 Least Squares   F-statistic:                    0.5364\n",
      "Date:                Fri, 04 Feb 2022   Prob (F-statistic):              0.464\n",
      "Time:                        12:45:29   Log-Likelihood:                -490.89\n",
      "No. Observations:                1000   AIC:                             985.8\n",
      "Df Residuals:                     998   BIC:                             995.6\n",
      "Df Model:                           1                                         \n",
      "Covariance Type:                  HC1                                         \n",
      "==============================================================================\n",
      "                 coef    std err          z      P>|z|      [0.025      0.975]\n",
      "------------------------------------------------------------------------------\n",
      "Intercept      0.8069      0.013     64.415      0.000       0.782       0.831\n",
      "lwage          0.0371      0.051      0.732      0.464      -0.062       0.136\n",
      "==============================================================================\n",
      "Omnibus:                      226.487   Durbin-Watson:                   1.931\n",
      "Prob(Omnibus):                  0.000   Jarque-Bera (JB):              405.068\n",
      "Skew:                          -1.546   Prob(JB):                     1.10e-88\n",
      "Kurtosis:                       3.395   Cond. No.                         4.11\n",
      "==============================================================================\n",
      "\n",
      "Notes:\n",
      "[1] Standard Errors are heteroscedasticity robust (HC1)\n"
     ]
    }
   ],
   "source": [
    "result = smf.ols(formula='accepted ~ lwage', data=accepted_df).fit(cov_type='HC1')\n",
    "print(result.summary())"
   ]
  },
  {
   "cell_type": "code",
   "execution_count": 35,
   "id": "e8e6dd2b-40a2-4eee-87d0-9f5901c774da",
   "metadata": {
    "execution": {
     "iopub.execute_input": "2022-01-16T23:21:39.276266Z",
     "iopub.status.busy": "2022-01-16T23:21:39.276266Z",
     "iopub.status.idle": "2022-01-16T23:21:39.321259Z",
     "shell.execute_reply": "2022-01-16T23:21:39.321259Z",
     "shell.execute_reply.started": "2022-01-16T23:21:39.276266Z"
    },
    "pycharm": {
     "name": "#%%\n"
    }
   },
   "outputs": [],
   "source": [
    "# Save list of submitters\n",
    "submitter_list = []\n",
    "for cur_assignment in submitted_list:\n",
    "    worker_id = cur_assignment['WorkerId']\n",
    "    submitter_list.append(worker_id)"
   ]
  },
  {
   "cell_type": "code",
   "execution_count": 36,
   "id": "46b2e68d-43e8-4472-a221-03b0a6f2dbb9",
   "metadata": {
    "execution": {
     "iopub.execute_input": "2022-01-16T23:21:39.891124Z",
     "iopub.status.busy": "2022-01-16T23:21:39.891124Z",
     "iopub.status.idle": "2022-01-16T23:21:39.947557Z",
     "shell.execute_reply": "2022-01-16T23:21:39.946530Z",
     "shell.execute_reply.started": "2022-01-16T23:21:39.891124Z"
    },
    "pycharm": {
     "name": "#%%\n"
    }
   },
   "outputs": [],
   "source": [
    "submit_df = pd.DataFrame({'worker_id':submitter_list})"
   ]
  },
  {
   "cell_type": "code",
   "execution_count": 37,
   "id": "377f391e-f503-4b03-8610-f83ee37c8129",
   "metadata": {
    "execution": {
     "iopub.execute_input": "2022-01-16T23:21:40.191611Z",
     "iopub.status.busy": "2022-01-16T23:21:40.191611Z",
     "iopub.status.idle": "2022-01-16T23:21:40.242919Z",
     "shell.execute_reply": "2022-01-16T23:21:40.242919Z",
     "shell.execute_reply.started": "2022-01-16T23:21:40.191611Z"
    },
    "pycharm": {
     "name": "#%%\n"
    }
   },
   "outputs": [],
   "source": [
    "csv_fpath = mtglobals.stage2_submitted_fpath\n",
    "submit_df.to_csv(csv_fpath, index=False)"
   ]
  },
  {
   "cell_type": "code",
   "execution_count": null,
   "outputs": [],
   "source": [],
   "metadata": {
    "collapsed": false,
    "pycharm": {
     "name": "#%%\n"
    }
   }
  }
 ],
 "metadata": {
  "kernelspec": {
   "display_name": "Python 3 (ipykernel)",
   "language": "python",
   "name": "python3"
  },
  "language_info": {
   "codemirror_mode": {
    "name": "ipython",
    "version": 3
   },
   "file_extension": ".py",
   "mimetype": "text/x-python",
   "name": "python",
   "nbconvert_exporter": "python",
   "pygments_lexer": "ipython3",
   "version": "3.9.7"
  }
 },
 "nbformat": 4,
 "nbformat_minor": 5
}