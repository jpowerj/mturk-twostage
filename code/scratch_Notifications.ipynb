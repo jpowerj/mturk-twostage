{
 "cells": [
  {
   "cell_type": "markdown",
   "id": "bcd3991e-f93c-48bb-9160-dfa2f3ed6bb2",
   "metadata": {},
   "source": [
    "## SQS"
   ]
  },
  {
   "cell_type": "markdown",
   "id": "e55ad8eb-c3a3-42fc-a6de-414cfb67aaa9",
   "metadata": {},
   "source": [
    "https://docs.aws.amazon.com/AWSMechTurk/latest/AWSMturkAPI/ApiReference_NotificationReceptorAPI_SQSTransportArticle.html\n",
    "\n",
    "Testing Your Queue\n",
    "\n",
    "To test your permissions, call the Mechanical Turk SendTestEventNotification operation with a Transport of SQS and your queue URL as the Destination. \n",
    "\n",
    "Queue URL: https://sqs.us-east-1.amazonaws.com/969753306155/MTurkQueue.fifo"
   ]
  },
  {
   "cell_type": "markdown",
   "id": "12e77bf6-17f4-43d0-bd72-861a189eed6c",
   "metadata": {},
   "source": [
    "## SNS"
   ]
  },
  {
   "cell_type": "markdown",
   "id": "40bb83af-c752-4168-b3a3-dcc6c8025ed9",
   "metadata": {},
   "source": [
    "https://docs.aws.amazon.com/AWSMechTurk/latest/AWSMturkAPI/ApiReference_NotificationReceptorAPI_SNSTransportArticle.html\n",
    "Testing Your Topic (SNS)\n",
    "\n",
    "To test your permissions, call the Mechanical Turk SendTestEventNotification operation with a Transport of SNS and your topic ARN as the Destination. \n",
    "\n",
    "Topic ARN: arn:aws:sns:us-east-1:969753306155:MTurkSNS.fifo"
   ]
  },
  {
   "cell_type": "markdown",
   "id": "8128b573-794a-4675-85b9-5cf5abb05b4d",
   "metadata": {},
   "source": [
    "## Boto3 test notification syntax"
   ]
  },
  {
   "cell_type": "markdown",
   "id": "b3e0dd76-b4ba-491a-be95-1c9d2fcdac0b",
   "metadata": {},
   "source": [
    "https://boto3.amazonaws.com/v1/documentation/api/latest/reference/services/mturk.html#MTurk.Client.send_test_event_notification\n",
    "\n",
    "```python\n",
    "response = client.send_test_event_notification(\n",
    "    Notification={\n",
    "        'Destination': 'string',\n",
    "        'Transport': 'Email'|'SQS'|'SNS',\n",
    "        'Version': 'string',\n",
    "        'EventTypes': [\n",
    "            'AssignmentAccepted'|'AssignmentAbandoned'|'AssignmentReturned'|'AssignmentSubmitted'| 'AssignmentRejected'|'AssignmentApproved'|'HITCreated'|'HITExpired'|'HITReviewable'|'HITExtended'|'HITDisposed'|'Ping',\n",
    "        ]\n",
    "    },\n",
    "    TestEventType='AssignmentAccepted'|'AssignmentAbandoned'|'AssignmentReturned'|'AssignmentSubmitted'|'AssignmentRejected'|'AssignmentApproved'|'HITCreated'|'HITExpired'|'HITReviewable'|'HITExtended'|'HITDisposed'|'Ping'\n",
    ")\n",
    "```"
   ]
  },
  {
   "cell_type": "markdown",
   "id": "ac5096c5-6d62-41a4-abbb-c7c7e70af538",
   "metadata": {},
   "source": [
    "## Testing"
   ]
  },
  {
   "cell_type": "code",
   "execution_count": 1,
   "id": "566132cf-9315-4db7-85bc-a6c4676f551c",
   "metadata": {},
   "outputs": [
    {
     "ename": "NameError",
     "evalue": "name 'client' is not defined",
     "output_type": "error",
     "traceback": [
      "\u001b[1;31m---------------------------------------------------------------------------\u001b[0m",
      "\u001b[1;31mNameError\u001b[0m                                 Traceback (most recent call last)",
      "\u001b[1;32m<ipython-input-1-b0fb05a101fe>\u001b[0m in \u001b[0;36m<module>\u001b[1;34m\u001b[0m\n\u001b[0;32m      1\u001b[0m \u001b[1;31m# SQS\u001b[0m\u001b[1;33m\u001b[0m\u001b[1;33m\u001b[0m\u001b[1;33m\u001b[0m\u001b[0m\n\u001b[1;32m----> 2\u001b[1;33m response = client.send_test_event_notification(\n\u001b[0m\u001b[0;32m      3\u001b[0m     Notification={\n\u001b[0;32m      4\u001b[0m         \u001b[1;31m#'Destination': 'https://sqs.us-east-1.amazonaws.com/969753306155/MTurkQueue.fifo',\u001b[0m\u001b[1;33m\u001b[0m\u001b[1;33m\u001b[0m\u001b[1;33m\u001b[0m\u001b[0m\n\u001b[0;32m      5\u001b[0m         \u001b[1;34m'Destination'\u001b[0m\u001b[1;33m:\u001b[0m \u001b[1;34m'arn:aws:sqs:us-east-1:969753306155:MTurkQueue.fifo'\u001b[0m\u001b[1;33m,\u001b[0m\u001b[1;33m\u001b[0m\u001b[1;33m\u001b[0m\u001b[0m\n",
      "\u001b[1;31mNameError\u001b[0m: name 'client' is not defined"
     ]
    }
   ],
   "source": [
    "# SQS\n",
    "response = client.send_test_event_notification(\n",
    "    Notification={\n",
    "        #'Destination': 'https://sqs.us-east-1.amazonaws.com/969753306155/MTurkQueue.fifo',\n",
    "        'Destination': 'arn:aws:sqs:us-east-1:969753306155:MTurkQueue.fifo',\n",
    "        'Transport': 'SQS',\n",
    "        'Version': '2014-08-15',\n",
    "        'EventTypes': ['AssignmentAccepted']\n",
    "    },\n",
    "    TestEventType='AssignmentAccepted'\n",
    ")\n",
    "response"
   ]
  },
  {
   "cell_type": "code",
   "execution_count": 2,
   "id": "fb3ee390-b060-49ee-baea-968cdac281ac",
   "metadata": {},
   "outputs": [
    {
     "ename": "NameError",
     "evalue": "name 'client' is not defined",
     "output_type": "error",
     "traceback": [
      "\u001b[1;31m---------------------------------------------------------------------------\u001b[0m",
      "\u001b[1;31mNameError\u001b[0m                                 Traceback (most recent call last)",
      "\u001b[1;32m<ipython-input-2-ce30fdadcc75>\u001b[0m in \u001b[0;36m<module>\u001b[1;34m\u001b[0m\n\u001b[0;32m      1\u001b[0m \u001b[1;31m# SNS\u001b[0m\u001b[1;33m\u001b[0m\u001b[1;33m\u001b[0m\u001b[1;33m\u001b[0m\u001b[0m\n\u001b[1;32m----> 2\u001b[1;33m response = client.send_test_event_notification(\n\u001b[0m\u001b[0;32m      3\u001b[0m     Notification={\n\u001b[0;32m      4\u001b[0m         \u001b[1;31m#'Destination': 'https://sqs.us-east-1.amazonaws.com/969753306155/MTurkQueue.fifo',\u001b[0m\u001b[1;33m\u001b[0m\u001b[1;33m\u001b[0m\u001b[1;33m\u001b[0m\u001b[0m\n\u001b[0;32m      5\u001b[0m         \u001b[1;34m'Destination'\u001b[0m\u001b[1;33m:\u001b[0m \u001b[1;34m'arn:aws:sns:us-east-1:969753306155:MTurkSNS.fifo'\u001b[0m\u001b[1;33m,\u001b[0m\u001b[1;33m\u001b[0m\u001b[1;33m\u001b[0m\u001b[0m\n",
      "\u001b[1;31mNameError\u001b[0m: name 'client' is not defined"
     ]
    }
   ],
   "source": [
    "# SNS\n",
    "response = client.send_test_event_notification(\n",
    "    Notification={\n",
    "        #'Destination': 'https://sqs.us-east-1.amazonaws.com/969753306155/MTurkQueue.fifo',\n",
    "        'Destination': 'arn:aws:sns:us-east-1:969753306155:MTurkSNS.fifo',\n",
    "        'Transport': 'SNS',\n",
    "        'Version': '2014-08-15',\n",
    "        'EventTypes': ['AssignmentAccepted']\n",
    "    },\n",
    "    TestEventType='AssignmentAccepted'\n",
    ")\n",
    "response"
   ]
  },
  {
   "cell_type": "markdown",
   "id": "7374aef1-2ce5-404d-9b14-b1abe149d3f0",
   "metadata": {},
   "source": [
    "## Old"
   ]
  },
  {
   "cell_type": "code",
   "execution_count": 1,
   "id": "5b817ace-db3a-45ba-9dc0-e8f12e424f2f",
   "metadata": {},
   "outputs": [],
   "source": [
    "import boto3"
   ]
  },
  {
   "cell_type": "code",
   "execution_count": 4,
   "id": "f9115cd3-d24f-44c0-8cdd-7c42a7d2732a",
   "metadata": {},
   "outputs": [
    {
     "data": {
      "text/plain": [
       "\u001b[1;31mSignature:\u001b[0m \u001b[0mboto3\u001b[0m\u001b[1;33m.\u001b[0m\u001b[0mclient\u001b[0m\u001b[1;33m(\u001b[0m\u001b[1;33m*\u001b[0m\u001b[0margs\u001b[0m\u001b[1;33m,\u001b[0m \u001b[1;33m**\u001b[0m\u001b[0mkwargs\u001b[0m\u001b[1;33m)\u001b[0m\u001b[1;33m\u001b[0m\u001b[1;33m\u001b[0m\u001b[0m\n",
       "\u001b[1;31mDocstring:\u001b[0m\n",
       "Create a low-level service client by name using the default session.\n",
       "\n",
       "See :py:meth:`boto3.session.Session.client`.\n",
       "\u001b[1;31mFile:\u001b[0m      c:\\users\\jpjac\\appdata\\local\\programs\\python\\python39\\lib\\site-packages\\boto3\\__init__.py\n",
       "\u001b[1;31mType:\u001b[0m      function\n"
      ]
     },
     "metadata": {},
     "output_type": "display_data"
    }
   ],
   "source": [
    "boto3.client?"
   ]
  },
  {
   "cell_type": "code",
   "execution_count": 8,
   "id": "abf80980-5fc3-4d3f-a004-903f7bf85df4",
   "metadata": {},
   "outputs": [],
   "source": [
    "MTURK_SANDBOX = 'https://mturk-requester-sandbox.us-east-1.amazonaws.com'\n",
    "client = boto3.client('mturk',\n",
    "                      region_name='us-east-1',\n",
    "                      endpoint_url = MTURK_SANDBOX)"
   ]
  },
  {
   "cell_type": "code",
   "execution_count": null,
   "id": "62c26c43-4f8e-498c-b780-78443fbfab03",
   "metadata": {},
   "outputs": [],
   "source": []
  },
  {
   "cell_type": "code",
   "execution_count": 9,
   "id": "2c486203-1463-4ceb-bb41-2cd7d88f4582",
   "metadata": {},
   "outputs": [],
   "source": [
    "response = client.notify_workers(\n",
    "    Subject='testing123',\n",
    "    MessageText='Hello test test',\n",
    "    WorkerIds=[\n",
    "        'A3IZUHHAA21KBM',\n",
    "    ]\n",
    ")"
   ]
  },
  {
   "cell_type": "code",
   "execution_count": 10,
   "id": "f3d35bd0-7349-4623-97de-6d874a5df0b7",
   "metadata": {},
   "outputs": [
    {
     "data": {
      "text/plain": [
       "{'NotifyWorkersFailureStatuses': [],\n",
       " 'ResponseMetadata': {'RequestId': '1eb0cbad-9506-4cd2-927a-ddb0e5593c27',\n",
       "  'HTTPStatusCode': 200,\n",
       "  'HTTPHeaders': {'x-amzn-requestid': '1eb0cbad-9506-4cd2-927a-ddb0e5593c27',\n",
       "   'content-type': 'application/x-amz-json-1.1',\n",
       "   'content-length': '35',\n",
       "   'date': 'Wed, 08 Sep 2021 23:41:58 GMT'},\n",
       "  'RetryAttempts': 0}}"
      ]
     },
     "execution_count": 10,
     "metadata": {},
     "output_type": "execute_result"
    }
   ],
   "source": [
    "response"
   ]
  },
  {
   "cell_type": "code",
   "execution_count": null,
   "id": "7455580d-fed9-4f62-9b7a-dcca752e4651",
   "metadata": {},
   "outputs": [],
   "source": []
  }
 ],
 "metadata": {
  "kernelspec": {
   "display_name": "Python 3",
   "language": "python",
   "name": "python3"
  },
  "language_info": {
   "codemirror_mode": {
    "name": "ipython",
    "version": 3
   },
   "file_extension": ".py",
   "mimetype": "text/x-python",
   "name": "python",
   "nbconvert_exporter": "python",
   "pygments_lexer": "ipython3",
   "version": "3.9.2"
  }
 },
 "nbformat": 4,
 "nbformat_minor": 5
}
