{
 "cells": [
  {
   "cell_type": "markdown",
   "source": [
    "### Duration Variables\n",
    "\n",
    "Load the merged MTurk+Qualtrics dataset produced by `03b_MergeQualtrics.ipynb`,\n",
    "and generate a set of vars for the gaps between (e.g.) accepting and completing the HIT"
   ],
   "metadata": {
    "collapsed": false,
    "pycharm": {
     "name": "#%% md\n"
    }
   }
  },
  {
   "cell_type": "code",
   "execution_count": 1,
   "id": "c7ccabe3-622e-42c2-b1a8-4a30f2a4f3f0",
   "metadata": {
    "pycharm": {
     "name": "#%%\n"
    }
   },
   "outputs": [],
   "source": [
    "import glob\n",
    "\n",
    "import pandas as pd\n",
    "\n",
    "import mtglobals"
   ]
  },
  {
   "cell_type": "code",
   "execution_count": 6,
   "outputs": [
    {
     "data": {
      "text/plain": "['../results_2stage\\\\pilot_results_qualtrics_20221014_133011.pkl',\n '../results_2stage\\\\pilot_results_qualtrics_20221014_145431.pkl',\n '../results_2stage\\\\pilot_results_qualtrics_20221014_145549.pkl',\n '../results_2stage\\\\pilot_results_qualtrics_20221014_145832.pkl',\n '../results_2stage\\\\pilot_results_qualtrics_20221014_145858.pkl',\n '../results_2stage\\\\pilot_results_qualtrics_20221015_171111.pkl']"
     },
     "execution_count": 6,
     "metadata": {},
     "output_type": "execute_result"
    }
   ],
   "source": [
    "merged_fpaths = sorted(glob.glob(\"../results_2stage/pilot_results_qualtrics_*.pkl\"))\n",
    "merged_fpaths"
   ],
   "metadata": {
    "collapsed": false,
    "pycharm": {
     "name": "#%%\n"
    }
   }
  },
  {
   "cell_type": "code",
   "execution_count": 7,
   "id": "ae4c9076-39c6-4791-846f-16d1c4297b08",
   "metadata": {
    "pycharm": {
     "name": "#%%\n"
    }
   },
   "outputs": [],
   "source": [
    "# Should be the .csv file output in the previous step\n",
    "df = pd.read_pickle(merged_fpaths[-1])"
   ]
  },
  {
   "cell_type": "code",
   "execution_count": 8,
   "id": "58751d2a-f73e-4d8a-9ced-d164677e5175",
   "metadata": {
    "pycharm": {
     "name": "#%%\n"
    }
   },
   "outputs": [
    {
     "data": {
      "text/plain": "525"
     },
     "execution_count": 8,
     "metadata": {},
     "output_type": "execute_result"
    }
   ],
   "source": [
    "len(df.columns)"
   ]
  },
  {
   "cell_type": "code",
   "execution_count": 9,
   "id": "889239c0-1987-4c6b-b0ba-068898aee44c",
   "metadata": {
    "pycharm": {
     "name": "#%%\n"
    }
   },
   "outputs": [
    {
     "data": {
      "text/plain": "[]"
     },
     "execution_count": 9,
     "metadata": {},
     "output_type": "execute_result"
    }
   ],
   "source": [
    "list([c for c in df.columns if \"tense\" in c])"
   ]
  },
  {
   "cell_type": "code",
   "execution_count": 10,
   "id": "29b78777-f61b-4041-921a-8f0a9c46a588",
   "metadata": {
    "pycharm": {
     "name": "#%%\n"
    }
   },
   "outputs": [],
   "source": [
    "# Make sure the times are the right data type\n",
    "df['stage1_accept_time'] = pd.to_datetime(df['stage1_accept_time'])\n",
    "df['stage1_submit_time'] = pd.to_datetime(df['stage1_submit_time'])\n",
    "df['stage2_accept_time'] = pd.to_datetime(df['stage2_accept_time'])\n",
    "df['stage2_submit_time'] = pd.to_datetime(df['stage2_submit_time'])"
   ]
  },
  {
   "cell_type": "code",
   "execution_count": 11,
   "id": "45ac9e4d-32e2-4130-916c-bbfaef66d61c",
   "metadata": {
    "pycharm": {
     "name": "#%%\n"
    }
   },
   "outputs": [],
   "source": [
    "df['stage1_accept_submit_gap'] = df['stage1_submit_time'] - df['stage1_accept_time']\n",
    "df['stage2_accept_submit_gap'] = df['stage2_submit_time'] - df['stage2_accept_time']"
   ]
  },
  {
   "cell_type": "code",
   "execution_count": 12,
   "id": "1ce3da4b-52db-4bcd-ac0e-c3196caeff98",
   "metadata": {
    "pycharm": {
     "name": "#%%\n"
    }
   },
   "outputs": [
    {
     "data": {
      "text/plain": "              mt_id wage_mturk  accepted     stage2_creation  \\\n0    A101J0P2UYUKA1       1.05         1 2022-10-13 15:32:15   \n1    A10AKR84P1WXHL       0.98         1 2022-10-03 22:26:00   \n2    A10W3EILX06DFO       0.50         1 2022-10-13 17:29:28   \n3    A114Q54Z648PKO       1.05         1 2022-10-13 18:37:57   \n4     A1198W1SPF1R4       1.02         0 2022-10-07 14:06:16   \n..              ...        ...       ...                 ...   \n795   AZFXFW2ZDX54B       1.00         1 2022-10-14 18:56:27   \n796   AZH32KEBRPRES       0.98         1 2022-10-03 22:20:25   \n797   AZNWVHY3AUSNT       0.95         1 2022-10-10 22:04:06   \n798   AZPXDIOTEH989       0.50         1 2022-10-13 15:32:47   \n799   AZSBLMZUI0BRC       1.02         0 2022-10-13 15:32:06   \n\n           stage2_creation_str        stage2_accept_time  \\\n0    2022-10-13 15:32:15-07:00 2022-10-13 15:41:19-07:00   \n1    2022-10-03 22:26:00-07:00 2022-10-03 22:28:30-07:00   \n2    2022-10-13 17:29:28-07:00 2022-10-13 18:07:12-07:00   \n3    2022-10-13 18:37:57-07:00 2022-10-13 19:41:48-07:00   \n4    2022-10-07 14:06:16-07:00                       NaT   \n..                         ...                       ...   \n795  2022-10-14 18:56:27-07:00 2022-10-15 10:20:48-07:00   \n796  2022-10-03 22:20:25-07:00 2022-10-03 22:22:15-07:00   \n797  2022-10-10 22:04:06-07:00 2022-10-10 22:07:03-07:00   \n798  2022-10-13 15:32:47-07:00 2022-10-13 15:37:33-07:00   \n799  2022-10-13 15:32:06-07:00                       NaT   \n\n           stage2_submit_time     lwage age onlinehrs_str  ...  \\\n0   2022-10-13 15:48:31-07:00  0.048790  23            40  ...   \n1   2022-10-03 23:05:39-07:00 -0.020203  27            36  ...   \n2   2022-10-13 19:03:30-07:00 -0.693147  35            40  ...   \n3   2022-10-13 20:30:31-07:00  0.048790  25             8  ...   \n4                         NaT  0.019803  54            40  ...   \n..                        ...       ...  ..           ...  ...   \n795 2022-10-15 10:39:45-07:00  0.000000  25           120  ...   \n796 2022-10-03 22:47:16-07:00 -0.020203  32            25  ...   \n797 2022-10-10 22:32:03-07:00 -0.051293  51            48  ...   \n798 2022-10-13 15:58:15-07:00 -0.693147  25            35  ...   \n799                       NaT  0.019803  25            10  ...   \n\n      generated_jobtitle_26   generated_jobtitle_27   generated_jobtitle_28  \\\n0    INFORMATION TECHNOLOGY  INFORMATION TECHNOLOGY  INFORMATION TECHNOLOGY   \n1               Healthcare              Healthcare              Healthcare    \n2                        IT                      IT                      IT   \n3                       NaN                     NaN                     NaN   \n4                       NaN                     NaN                     NaN   \n..                      ...                     ...                     ...   \n795       Marketing Manager       Marketing Manager       Marketing Manager   \n796                   ADMIN                   ADMIN                   ADMIN   \n797    Middle level manager    Middle level manager    Middle level manager   \n798  information technology  information technology  information technology   \n799                     NaN                     NaN                     NaN   \n\n      generated_jobtitle_29   generated_jobtitle_30  \\\n0    INFORMATION TECHNOLOGY  INFORMATION TECHNOLOGY   \n1               Healthcare              Healthcare    \n2                        IT                      IT   \n3                       NaN                     NaN   \n4                       NaN                     NaN   \n..                      ...                     ...   \n795       Marketing Manager       Marketing Manager   \n796                   ADMIN                   ADMIN   \n797    Middle level manager    Middle level manager   \n798  information technology  information technology   \n799                     NaN                     NaN   \n\n                                      qualtrics_source _merge  \\\n0    Job+Quality+NonWM+13.0_October+15,+2022_18.07....   both   \n1    Job+Quality+NonWM+13.0_October+15,+2022_18.07....   both   \n2    Job+Quality+NonWM+13.0_October+15,+2022_18.07....   both   \n3    Job+Quality+NonWM+13.0_October+15,+2022_18.07....   both   \n4    Job+Quality+NonWM+13.0_October+15,+2022_18.07....   both   \n..                                                 ...    ...   \n795  Job+Quality+NonWM+13.0_October+15,+2022_18.07....   both   \n796  Job+Quality+NonWM+13.0_October+15,+2022_18.07....   both   \n797  Job+Quality+NonWM+13.0_October+15,+2022_18.07....   both   \n798  Job+Quality+NonWM+13.0_October+15,+2022_18.07....   both   \n799  Job+Quality+NonWM+13.0_October+15,+2022_18.07....   both   \n\n              result stage1_accept_submit_gap stage2_accept_submit_gap  \n0    finished_survey          0 days 00:01:55          0 days 00:07:12  \n1    finished_survey          0 days 00:09:33          0 days 00:37:09  \n2    finished_survey          0 days 00:02:44          0 days 00:56:18  \n3     did_not_finish          0 days 00:24:13          0 days 00:48:43  \n4     did_not_finish          0 days 00:03:08                      NaT  \n..               ...                      ...                      ...  \n795  finished_survey          0 days 00:09:51          0 days 00:18:57  \n796  finished_survey          0 days 00:04:01          0 days 00:25:01  \n797  finished_survey          0 days 00:02:41          0 days 00:25:00  \n798  finished_survey          0 days 00:24:52          0 days 00:20:42  \n799   did_not_finish          0 days 00:01:08                      NaT  \n\n[800 rows x 527 columns]",
      "text/html": "<div>\n<style scoped>\n    .dataframe tbody tr th:only-of-type {\n        vertical-align: middle;\n    }\n\n    .dataframe tbody tr th {\n        vertical-align: top;\n    }\n\n    .dataframe thead th {\n        text-align: right;\n    }\n</style>\n<table border=\"1\" class=\"dataframe\">\n  <thead>\n    <tr style=\"text-align: right;\">\n      <th></th>\n      <th>mt_id</th>\n      <th>wage_mturk</th>\n      <th>accepted</th>\n      <th>stage2_creation</th>\n      <th>stage2_creation_str</th>\n      <th>stage2_accept_time</th>\n      <th>stage2_submit_time</th>\n      <th>lwage</th>\n      <th>age</th>\n      <th>onlinehrs_str</th>\n      <th>...</th>\n      <th>generated_jobtitle_26</th>\n      <th>generated_jobtitle_27</th>\n      <th>generated_jobtitle_28</th>\n      <th>generated_jobtitle_29</th>\n      <th>generated_jobtitle_30</th>\n      <th>qualtrics_source</th>\n      <th>_merge</th>\n      <th>result</th>\n      <th>stage1_accept_submit_gap</th>\n      <th>stage2_accept_submit_gap</th>\n    </tr>\n  </thead>\n  <tbody>\n    <tr>\n      <th>0</th>\n      <td>A101J0P2UYUKA1</td>\n      <td>1.05</td>\n      <td>1</td>\n      <td>2022-10-13 15:32:15</td>\n      <td>2022-10-13 15:32:15-07:00</td>\n      <td>2022-10-13 15:41:19-07:00</td>\n      <td>2022-10-13 15:48:31-07:00</td>\n      <td>0.048790</td>\n      <td>23</td>\n      <td>40</td>\n      <td>...</td>\n      <td>INFORMATION TECHNOLOGY</td>\n      <td>INFORMATION TECHNOLOGY</td>\n      <td>INFORMATION TECHNOLOGY</td>\n      <td>INFORMATION TECHNOLOGY</td>\n      <td>INFORMATION TECHNOLOGY</td>\n      <td>Job+Quality+NonWM+13.0_October+15,+2022_18.07....</td>\n      <td>both</td>\n      <td>finished_survey</td>\n      <td>0 days 00:01:55</td>\n      <td>0 days 00:07:12</td>\n    </tr>\n    <tr>\n      <th>1</th>\n      <td>A10AKR84P1WXHL</td>\n      <td>0.98</td>\n      <td>1</td>\n      <td>2022-10-03 22:26:00</td>\n      <td>2022-10-03 22:26:00-07:00</td>\n      <td>2022-10-03 22:28:30-07:00</td>\n      <td>2022-10-03 23:05:39-07:00</td>\n      <td>-0.020203</td>\n      <td>27</td>\n      <td>36</td>\n      <td>...</td>\n      <td>Healthcare</td>\n      <td>Healthcare</td>\n      <td>Healthcare</td>\n      <td>Healthcare</td>\n      <td>Healthcare</td>\n      <td>Job+Quality+NonWM+13.0_October+15,+2022_18.07....</td>\n      <td>both</td>\n      <td>finished_survey</td>\n      <td>0 days 00:09:33</td>\n      <td>0 days 00:37:09</td>\n    </tr>\n    <tr>\n      <th>2</th>\n      <td>A10W3EILX06DFO</td>\n      <td>0.50</td>\n      <td>1</td>\n      <td>2022-10-13 17:29:28</td>\n      <td>2022-10-13 17:29:28-07:00</td>\n      <td>2022-10-13 18:07:12-07:00</td>\n      <td>2022-10-13 19:03:30-07:00</td>\n      <td>-0.693147</td>\n      <td>35</td>\n      <td>40</td>\n      <td>...</td>\n      <td>IT</td>\n      <td>IT</td>\n      <td>IT</td>\n      <td>IT</td>\n      <td>IT</td>\n      <td>Job+Quality+NonWM+13.0_October+15,+2022_18.07....</td>\n      <td>both</td>\n      <td>finished_survey</td>\n      <td>0 days 00:02:44</td>\n      <td>0 days 00:56:18</td>\n    </tr>\n    <tr>\n      <th>3</th>\n      <td>A114Q54Z648PKO</td>\n      <td>1.05</td>\n      <td>1</td>\n      <td>2022-10-13 18:37:57</td>\n      <td>2022-10-13 18:37:57-07:00</td>\n      <td>2022-10-13 19:41:48-07:00</td>\n      <td>2022-10-13 20:30:31-07:00</td>\n      <td>0.048790</td>\n      <td>25</td>\n      <td>8</td>\n      <td>...</td>\n      <td>NaN</td>\n      <td>NaN</td>\n      <td>NaN</td>\n      <td>NaN</td>\n      <td>NaN</td>\n      <td>Job+Quality+NonWM+13.0_October+15,+2022_18.07....</td>\n      <td>both</td>\n      <td>did_not_finish</td>\n      <td>0 days 00:24:13</td>\n      <td>0 days 00:48:43</td>\n    </tr>\n    <tr>\n      <th>4</th>\n      <td>A1198W1SPF1R4</td>\n      <td>1.02</td>\n      <td>0</td>\n      <td>2022-10-07 14:06:16</td>\n      <td>2022-10-07 14:06:16-07:00</td>\n      <td>NaT</td>\n      <td>NaT</td>\n      <td>0.019803</td>\n      <td>54</td>\n      <td>40</td>\n      <td>...</td>\n      <td>NaN</td>\n      <td>NaN</td>\n      <td>NaN</td>\n      <td>NaN</td>\n      <td>NaN</td>\n      <td>Job+Quality+NonWM+13.0_October+15,+2022_18.07....</td>\n      <td>both</td>\n      <td>did_not_finish</td>\n      <td>0 days 00:03:08</td>\n      <td>NaT</td>\n    </tr>\n    <tr>\n      <th>...</th>\n      <td>...</td>\n      <td>...</td>\n      <td>...</td>\n      <td>...</td>\n      <td>...</td>\n      <td>...</td>\n      <td>...</td>\n      <td>...</td>\n      <td>...</td>\n      <td>...</td>\n      <td>...</td>\n      <td>...</td>\n      <td>...</td>\n      <td>...</td>\n      <td>...</td>\n      <td>...</td>\n      <td>...</td>\n      <td>...</td>\n      <td>...</td>\n      <td>...</td>\n      <td>...</td>\n    </tr>\n    <tr>\n      <th>795</th>\n      <td>AZFXFW2ZDX54B</td>\n      <td>1.00</td>\n      <td>1</td>\n      <td>2022-10-14 18:56:27</td>\n      <td>2022-10-14 18:56:27-07:00</td>\n      <td>2022-10-15 10:20:48-07:00</td>\n      <td>2022-10-15 10:39:45-07:00</td>\n      <td>0.000000</td>\n      <td>25</td>\n      <td>120</td>\n      <td>...</td>\n      <td>Marketing Manager</td>\n      <td>Marketing Manager</td>\n      <td>Marketing Manager</td>\n      <td>Marketing Manager</td>\n      <td>Marketing Manager</td>\n      <td>Job+Quality+NonWM+13.0_October+15,+2022_18.07....</td>\n      <td>both</td>\n      <td>finished_survey</td>\n      <td>0 days 00:09:51</td>\n      <td>0 days 00:18:57</td>\n    </tr>\n    <tr>\n      <th>796</th>\n      <td>AZH32KEBRPRES</td>\n      <td>0.98</td>\n      <td>1</td>\n      <td>2022-10-03 22:20:25</td>\n      <td>2022-10-03 22:20:25-07:00</td>\n      <td>2022-10-03 22:22:15-07:00</td>\n      <td>2022-10-03 22:47:16-07:00</td>\n      <td>-0.020203</td>\n      <td>32</td>\n      <td>25</td>\n      <td>...</td>\n      <td>ADMIN</td>\n      <td>ADMIN</td>\n      <td>ADMIN</td>\n      <td>ADMIN</td>\n      <td>ADMIN</td>\n      <td>Job+Quality+NonWM+13.0_October+15,+2022_18.07....</td>\n      <td>both</td>\n      <td>finished_survey</td>\n      <td>0 days 00:04:01</td>\n      <td>0 days 00:25:01</td>\n    </tr>\n    <tr>\n      <th>797</th>\n      <td>AZNWVHY3AUSNT</td>\n      <td>0.95</td>\n      <td>1</td>\n      <td>2022-10-10 22:04:06</td>\n      <td>2022-10-10 22:04:06-07:00</td>\n      <td>2022-10-10 22:07:03-07:00</td>\n      <td>2022-10-10 22:32:03-07:00</td>\n      <td>-0.051293</td>\n      <td>51</td>\n      <td>48</td>\n      <td>...</td>\n      <td>Middle level manager</td>\n      <td>Middle level manager</td>\n      <td>Middle level manager</td>\n      <td>Middle level manager</td>\n      <td>Middle level manager</td>\n      <td>Job+Quality+NonWM+13.0_October+15,+2022_18.07....</td>\n      <td>both</td>\n      <td>finished_survey</td>\n      <td>0 days 00:02:41</td>\n      <td>0 days 00:25:00</td>\n    </tr>\n    <tr>\n      <th>798</th>\n      <td>AZPXDIOTEH989</td>\n      <td>0.50</td>\n      <td>1</td>\n      <td>2022-10-13 15:32:47</td>\n      <td>2022-10-13 15:32:47-07:00</td>\n      <td>2022-10-13 15:37:33-07:00</td>\n      <td>2022-10-13 15:58:15-07:00</td>\n      <td>-0.693147</td>\n      <td>25</td>\n      <td>35</td>\n      <td>...</td>\n      <td>information technology</td>\n      <td>information technology</td>\n      <td>information technology</td>\n      <td>information technology</td>\n      <td>information technology</td>\n      <td>Job+Quality+NonWM+13.0_October+15,+2022_18.07....</td>\n      <td>both</td>\n      <td>finished_survey</td>\n      <td>0 days 00:24:52</td>\n      <td>0 days 00:20:42</td>\n    </tr>\n    <tr>\n      <th>799</th>\n      <td>AZSBLMZUI0BRC</td>\n      <td>1.02</td>\n      <td>0</td>\n      <td>2022-10-13 15:32:06</td>\n      <td>2022-10-13 15:32:06-07:00</td>\n      <td>NaT</td>\n      <td>NaT</td>\n      <td>0.019803</td>\n      <td>25</td>\n      <td>10</td>\n      <td>...</td>\n      <td>NaN</td>\n      <td>NaN</td>\n      <td>NaN</td>\n      <td>NaN</td>\n      <td>NaN</td>\n      <td>Job+Quality+NonWM+13.0_October+15,+2022_18.07....</td>\n      <td>both</td>\n      <td>did_not_finish</td>\n      <td>0 days 00:01:08</td>\n      <td>NaT</td>\n    </tr>\n  </tbody>\n</table>\n<p>800 rows × 527 columns</p>\n</div>"
     },
     "execution_count": 12,
     "metadata": {},
     "output_type": "execute_result"
    }
   ],
   "source": [
    "df"
   ]
  },
  {
   "cell_type": "code",
   "execution_count": 13,
   "id": "f4ab8d81-4891-49ff-9881-a12ca7e4cc54",
   "metadata": {
    "pycharm": {
     "name": "#%%\n"
    }
   },
   "outputs": [
    {
     "name": "stdout",
     "output_type": "stream",
     "text": [
      "0 days 00:09:28.245000\n",
      "0 days 00:29:11.282647584\n"
     ]
    }
   ],
   "source": [
    "print(df['stage1_accept_submit_gap'].mean())\n",
    "print(df['stage2_accept_submit_gap'].mean())"
   ]
  },
  {
   "cell_type": "code",
   "execution_count": 14,
   "id": "0033be57-8233-4d69-9651-73c929bf418b",
   "metadata": {
    "pycharm": {
     "name": "#%%\n"
    }
   },
   "outputs": [
    {
     "data": {
      "text/plain": "Timedelta('0 days 00:03:40.500000')"
     },
     "execution_count": 14,
     "metadata": {},
     "output_type": "execute_result"
    }
   ],
   "source": [
    "df['stage1_accept_submit_gap'].median()"
   ]
  },
  {
   "cell_type": "code",
   "execution_count": 15,
   "id": "e9e4fd26-b80a-4f0e-8fce-aa991f7dff66",
   "metadata": {
    "pycharm": {
     "name": "#%%\n"
    }
   },
   "outputs": [],
   "source": [
    "# Convert stuff so it can be outputted to stata format\n",
    "df.rename(columns={'Duration (in seconds)':'duration'}, inplace=True)\n",
    "for cur_col in df.columns:\n",
    "    if df[cur_col].dtype == \"O\":\n",
    "        df[cur_col] = df[cur_col].astype(str)"
   ]
  },
  {
   "cell_type": "code",
   "execution_count": 16,
   "outputs": [],
   "source": [
    "timestamp = mtglobals.gen_timestamp()"
   ],
   "metadata": {
    "collapsed": false,
    "pycharm": {
     "name": "#%%\n"
    }
   }
  },
  {
   "cell_type": "code",
   "execution_count": 17,
   "id": "25d92c8b-676d-4ec6-9631-610f5ef3ed73",
   "metadata": {
    "pycharm": {
     "name": "#%%\n"
    }
   },
   "outputs": [],
   "source": [
    "#df.to_stata(\"../results_2stage/results_timegaps.dta\")\n",
    "csv_fpath = f\"../results_2stage/pilot_results_timegaps_{timestamp}.csv\"\n",
    "df.to_csv(csv_fpath, index=False)"
   ]
  },
  {
   "cell_type": "code",
   "execution_count": 18,
   "outputs": [
    {
     "name": "stdout",
     "output_type": "stream",
     "text": [
      "Saved to ../results_2stage/pilot_results_timegaps_20221015_171141.pkl\n"
     ]
    }
   ],
   "source": [
    "pkl_fpath = csv_fpath.replace(\".csv\",\".pkl\")\n",
    "df.to_pickle(pkl_fpath)\n",
    "print(f\"Saved to {pkl_fpath}\")"
   ],
   "metadata": {
    "collapsed": false,
    "pycharm": {
     "name": "#%%\n"
    }
   }
  },
  {
   "cell_type": "code",
   "execution_count": 18,
   "outputs": [],
   "source": [],
   "metadata": {
    "collapsed": false,
    "pycharm": {
     "name": "#%%\n"
    }
   }
  },
  {
   "cell_type": "code",
   "execution_count": null,
   "outputs": [],
   "source": [],
   "metadata": {
    "collapsed": false,
    "pycharm": {
     "name": "#%%\n"
    }
   }
  },
  {
   "cell_type": "markdown",
   "source": [
    "And just some sanity checks, for differences in the durations between high- and\n",
    "low-reward workers"
   ],
   "metadata": {
    "collapsed": false,
    "pycharm": {
     "name": "#%% md\n"
    }
   }
  },
  {
   "cell_type": "code",
   "execution_count": 45,
   "id": "171e2fdb-02f3-4c40-a9f3-88e309eb2886",
   "metadata": {
    "pycharm": {
     "name": "#%%\n"
    }
   },
   "outputs": [
    {
     "data": {
      "text/plain": [
       "['hit_id',\n",
       " 'worker_id',\n",
       " 'submitted',\n",
       " 'reward',\n",
       " 'hit_accept_time',\n",
       " 'hit_submit_time',\n",
       " 'StartDate',\n",
       " 'EndDate',\n",
       " 'Status',\n",
       " 'IPAddress',\n",
       " 'Progress',\n",
       " 'duration',\n",
       " 'Finished',\n",
       " 'RecordedDate',\n",
       " 'ResponseId',\n",
       " 'RecipientLastName',\n",
       " 'RecipientFirstName',\n",
       " 'RecipientEmail',\n",
       " 'ExternalReference',\n",
       " 'LocationLatitude',\n",
       " 'LocationLongitude',\n",
       " 'DistributionChannel',\n",
       " 'UserLanguage',\n",
       " 'state',\n",
       " 'race',\n",
       " 'race_6_TEXT',\n",
       " 'gender',\n",
       " 'gender_4_TEXT',\n",
       " 'education',\n",
       " 'currently_employed',\n",
       " 'fulltime',\n",
       " 'most_recent_job',\n",
       " 'most_recent_fulltime',\n",
       " 'weeks_unemployment',\n",
       " 'how_easy',\n",
       " 'lowest_wage',\n",
       " 'savings',\n",
       " 'jobtitle',\n",
       " 'wage',\n",
       " 'hrs',\n",
       " 'controlhrs',\n",
       " 'sickleave',\n",
       " 'friends',\n",
       " 'commute',\n",
       " 'physical',\n",
       " 'skills',\n",
       " 'vaccine',\n",
       " 'express',\n",
       " 'coworkers',\n",
       " 'suprespect',\n",
       " 'supfair',\n",
       " 'response1',\n",
       " 'response2',\n",
       " 'response3',\n",
       " 'response4',\n",
       " 'response5',\n",
       " 'response6',\n",
       " 'response7',\n",
       " 'response8',\n",
       " 'response9',\n",
       " 'response10',\n",
       " 'response11',\n",
       " 'response12',\n",
       " 'response13',\n",
       " 'response14',\n",
       " 'response15',\n",
       " 'response16',\n",
       " 'response17',\n",
       " 'response18',\n",
       " 'response19',\n",
       " 'response20',\n",
       " 'response21',\n",
       " 'response22',\n",
       " 'response23',\n",
       " 'response24',\n",
       " 'response25',\n",
       " 'response26',\n",
       " 'response27',\n",
       " 'response28',\n",
       " 'response29',\n",
       " 'response30',\n",
       " 'mturk_code',\n",
       " 'num_tasks',\n",
       " 'ever_employed',\n",
       " 'offer',\n",
       " 'entered_jobtitle',\n",
       " 'entered_wage',\n",
       " 'entered_hrs',\n",
       " 'entered_controlhrs',\n",
       " 'entered_friends',\n",
       " 'entered_commute',\n",
       " 'entered_physical',\n",
       " 'entered_coworkers',\n",
       " 'entered_suprespect',\n",
       " 'entered_supfair',\n",
       " 'entered_express',\n",
       " 'entered_skills',\n",
       " 'entered_sickleave',\n",
       " 'entered_vaccine',\n",
       " 'generated_wage_01',\n",
       " 'generated_hrsweek_01',\n",
       " 'generated_controlhrs_01',\n",
       " 'generated_paidsick_01',\n",
       " 'generated_friends_01',\n",
       " 'generated_commute_01',\n",
       " 'generated_physical_01',\n",
       " 'generated_skills_01',\n",
       " 'generated_vaccine_01',\n",
       " 'generated_express_01',\n",
       " 'generated_coworkers_01',\n",
       " 'generated_suprespect_01',\n",
       " 'generated_supfair_01',\n",
       " 'generated_wage_02',\n",
       " 'generated_hrsweek_02',\n",
       " 'generated_controlhrs_02',\n",
       " 'generated_paidsick_02',\n",
       " 'generated_friends_02',\n",
       " 'generated_commute_02',\n",
       " 'generated_physical_02',\n",
       " 'generated_skills_02',\n",
       " 'generated_vaccine_02',\n",
       " 'generated_express_02',\n",
       " 'generated_coworkers_02',\n",
       " 'generated_suprespect_02',\n",
       " 'generated_supfair_02',\n",
       " 'generated_wage_03',\n",
       " 'generated_hrsweek_03',\n",
       " 'generated_controlhrs_03',\n",
       " 'generated_paidsick_03',\n",
       " 'generated_friends_03',\n",
       " 'generated_commute_03',\n",
       " 'generated_physical_03',\n",
       " 'generated_skills_03',\n",
       " 'generated_vaccine_03',\n",
       " 'generated_express_03',\n",
       " 'generated_coworkers_03',\n",
       " 'generated_suprespect_03',\n",
       " 'generated_supfair_03',\n",
       " 'generated_wage_04',\n",
       " 'generated_hrsweek_04',\n",
       " 'generated_controlhrs_04',\n",
       " 'generated_paidsick_04',\n",
       " 'generated_friends_04',\n",
       " 'generated_commute_04',\n",
       " 'generated_physical_04',\n",
       " 'generated_skills_04',\n",
       " 'generated_vaccine_04',\n",
       " 'generated_express_04',\n",
       " 'generated_coworkers_04',\n",
       " 'generated_suprespect_04',\n",
       " 'generated_supfair_04',\n",
       " 'generated_wage_05',\n",
       " 'generated_hrsweek_05',\n",
       " 'generated_controlhrs_05',\n",
       " 'generated_paidsick_05',\n",
       " 'generated_friends_05',\n",
       " 'generated_commute_05',\n",
       " 'generated_physical_05',\n",
       " 'generated_skills_05',\n",
       " 'generated_vaccine_05',\n",
       " 'generated_express_05',\n",
       " 'generated_coworkers_05',\n",
       " 'generated_suprespect_05',\n",
       " 'generated_supfair_05',\n",
       " 'generated_wage_06',\n",
       " 'generated_hrsweek_06',\n",
       " 'generated_controlhrs_06',\n",
       " 'generated_paidsick_06',\n",
       " 'generated_friends_06',\n",
       " 'generated_commute_06',\n",
       " 'generated_physical_06',\n",
       " 'generated_skills_06',\n",
       " 'generated_vaccine_06',\n",
       " 'generated_express_06',\n",
       " 'generated_coworkers_06',\n",
       " 'generated_suprespect_06',\n",
       " 'generated_supfair_06',\n",
       " 'generated_wage_07',\n",
       " 'generated_hrsweek_07',\n",
       " 'generated_controlhrs_07',\n",
       " 'generated_paidsick_07',\n",
       " 'generated_friends_07',\n",
       " 'generated_commute_07',\n",
       " 'generated_physical_07',\n",
       " 'generated_skills_07',\n",
       " 'generated_vaccine_07',\n",
       " 'generated_express_07',\n",
       " 'generated_coworkers_07',\n",
       " 'generated_suprespect_07',\n",
       " 'generated_supfair_07',\n",
       " 'generated_wage_08',\n",
       " 'generated_hrsweek_08',\n",
       " 'generated_controlhrs_08',\n",
       " 'generated_paidsick_08',\n",
       " 'generated_friends_08',\n",
       " 'generated_commute_08',\n",
       " 'generated_physical_08',\n",
       " 'generated_skills_08',\n",
       " 'generated_vaccine_08',\n",
       " 'generated_express_08',\n",
       " 'generated_coworkers_08',\n",
       " 'generated_suprespect_08',\n",
       " 'generated_supfair_08',\n",
       " 'generated_wage_09',\n",
       " 'generated_hrsweek_09',\n",
       " 'generated_controlhrs_09',\n",
       " 'generated_paidsick_09',\n",
       " 'generated_friends_09',\n",
       " 'generated_commute_09',\n",
       " 'generated_physical_09',\n",
       " 'generated_skills_09',\n",
       " 'generated_vaccine_09',\n",
       " 'generated_express_09',\n",
       " 'generated_coworkers_09',\n",
       " 'generated_suprespect_09',\n",
       " 'generated_supfair_09',\n",
       " 'generated_wage_10',\n",
       " 'generated_hrsweek_10',\n",
       " 'generated_controlhrs_10',\n",
       " 'generated_paidsick_10',\n",
       " 'generated_friends_10',\n",
       " 'generated_commute_10',\n",
       " 'generated_physical_10',\n",
       " 'generated_skills_10',\n",
       " 'generated_vaccine_10',\n",
       " 'generated_express_10',\n",
       " 'generated_coworkers_10',\n",
       " 'generated_suprespect_10',\n",
       " 'generated_supfair_10',\n",
       " 'generated_wage_11',\n",
       " 'generated_hrsweek_11',\n",
       " 'generated_controlhrs_11',\n",
       " 'generated_paidsick_11',\n",
       " 'generated_friends_11',\n",
       " 'generated_commute_11',\n",
       " 'generated_physical_11',\n",
       " 'generated_skills_11',\n",
       " 'generated_vaccine_11',\n",
       " 'generated_express_11',\n",
       " 'generated_coworkers_11',\n",
       " 'generated_suprespect_11',\n",
       " 'generated_supfair_11',\n",
       " 'generated_wage_12',\n",
       " 'generated_hrsweek_12',\n",
       " 'generated_controlhrs_12',\n",
       " 'generated_paidsick_12',\n",
       " 'generated_friends_12',\n",
       " 'generated_commute_12',\n",
       " 'generated_physical_12',\n",
       " 'generated_skills_12',\n",
       " 'generated_vaccine_12',\n",
       " 'generated_express_12',\n",
       " 'generated_coworkers_12',\n",
       " 'generated_suprespect_12',\n",
       " 'generated_supfair_12',\n",
       " 'generated_wage_13',\n",
       " 'generated_hrsweek_13',\n",
       " 'generated_controlhrs_13',\n",
       " 'generated_paidsick_13',\n",
       " 'generated_friends_13',\n",
       " 'generated_commute_13',\n",
       " 'generated_physical_13',\n",
       " 'generated_skills_13',\n",
       " 'generated_vaccine_13',\n",
       " 'generated_express_13',\n",
       " 'generated_coworkers_13',\n",
       " 'generated_suprespect_13',\n",
       " 'generated_supfair_13',\n",
       " 'generated_wage_14',\n",
       " 'generated_hrsweek_14',\n",
       " 'generated_controlhrs_14',\n",
       " 'generated_paidsick_14',\n",
       " 'generated_friends_14',\n",
       " 'generated_commute_14',\n",
       " 'generated_physical_14',\n",
       " 'generated_skills_14',\n",
       " 'generated_vaccine_14',\n",
       " 'generated_express_14',\n",
       " 'generated_coworkers_14',\n",
       " 'generated_suprespect_14',\n",
       " 'generated_supfair_14',\n",
       " 'generated_wage_15',\n",
       " 'generated_hrsweek_15',\n",
       " 'generated_controlhrs_15',\n",
       " 'generated_paidsick_15',\n",
       " 'generated_friends_15',\n",
       " 'generated_commute_15',\n",
       " 'generated_physical_15',\n",
       " 'generated_skills_15',\n",
       " 'generated_vaccine_15',\n",
       " 'generated_express_15',\n",
       " 'generated_coworkers_15',\n",
       " 'generated_suprespect_15',\n",
       " 'generated_supfair_15',\n",
       " 'generated_wage_16',\n",
       " 'generated_hrsweek_16',\n",
       " 'generated_controlhrs_16',\n",
       " 'generated_paidsick_16',\n",
       " 'generated_friends_16',\n",
       " 'generated_commute_16',\n",
       " 'generated_physical_16',\n",
       " 'generated_skills_16',\n",
       " 'generated_vaccine_16',\n",
       " 'generated_express_16',\n",
       " 'generated_coworkers_16',\n",
       " 'generated_suprespect_16',\n",
       " 'generated_supfair_16',\n",
       " 'generated_wage_17',\n",
       " 'generated_hrsweek_17',\n",
       " 'generated_controlhrs_17',\n",
       " 'generated_paidsick_17',\n",
       " 'generated_friends_17',\n",
       " 'generated_commute_17',\n",
       " 'generated_physical_17',\n",
       " 'generated_skills_17',\n",
       " 'generated_vaccine_17',\n",
       " 'generated_express_17',\n",
       " 'generated_coworkers_17',\n",
       " 'generated_suprespect_17',\n",
       " 'generated_supfair_17',\n",
       " 'generated_wage_18',\n",
       " 'generated_hrsweek_18',\n",
       " 'generated_controlhrs_18',\n",
       " 'generated_paidsick_18',\n",
       " 'generated_friends_18',\n",
       " 'generated_commute_18',\n",
       " 'generated_physical_18',\n",
       " 'generated_skills_18',\n",
       " 'generated_vaccine_18',\n",
       " 'generated_express_18',\n",
       " 'generated_coworkers_18',\n",
       " 'generated_suprespect_18',\n",
       " 'generated_supfair_18',\n",
       " 'generated_wage_19',\n",
       " 'generated_hrsweek_19',\n",
       " 'generated_controlhrs_19',\n",
       " 'generated_paidsick_19',\n",
       " 'generated_friends_19',\n",
       " 'generated_commute_19',\n",
       " 'generated_physical_19',\n",
       " 'generated_skills_19',\n",
       " 'generated_vaccine_19',\n",
       " 'generated_express_19',\n",
       " 'generated_coworkers_19',\n",
       " 'generated_suprespect_19',\n",
       " 'generated_supfair_19',\n",
       " 'generated_wage_20',\n",
       " 'generated_hrsweek_20',\n",
       " 'generated_controlhrs_20',\n",
       " 'generated_paidsick_20',\n",
       " 'generated_friends_20',\n",
       " 'generated_commute_20',\n",
       " 'generated_physical_20',\n",
       " 'generated_skills_20',\n",
       " 'generated_vaccine_20',\n",
       " 'generated_express_20',\n",
       " 'generated_coworkers_20',\n",
       " 'generated_suprespect_20',\n",
       " 'generated_supfair_20',\n",
       " 'generated_wage_21',\n",
       " 'generated_hrsweek_21',\n",
       " 'generated_controlhrs_21',\n",
       " 'generated_paidsick_21',\n",
       " 'generated_friends_21',\n",
       " 'generated_commute_21',\n",
       " 'generated_physical_21',\n",
       " 'generated_skills_21',\n",
       " 'generated_vaccine_21',\n",
       " 'generated_express_21',\n",
       " 'generated_coworkers_21',\n",
       " 'generated_suprespect_21',\n",
       " 'generated_supfair_21',\n",
       " 'generated_wage_22',\n",
       " 'generated_hrsweek_22',\n",
       " 'generated_controlhrs_22',\n",
       " 'generated_paidsick_22',\n",
       " 'generated_friends_22',\n",
       " 'generated_commute_22',\n",
       " 'generated_physical_22',\n",
       " 'generated_skills_22',\n",
       " 'generated_vaccine_22',\n",
       " 'generated_express_22',\n",
       " 'generated_coworkers_22',\n",
       " 'generated_suprespect_22',\n",
       " 'generated_supfair_22',\n",
       " 'generated_wage_23',\n",
       " 'generated_hrsweek_23',\n",
       " 'generated_controlhrs_23',\n",
       " 'generated_paidsick_23',\n",
       " 'generated_friends_23',\n",
       " 'generated_commute_23',\n",
       " 'generated_physical_23',\n",
       " 'generated_skills_23',\n",
       " 'generated_vaccine_23',\n",
       " 'generated_express_23',\n",
       " 'generated_coworkers_23',\n",
       " 'generated_suprespect_23',\n",
       " 'generated_supfair_23',\n",
       " 'generated_wage_24',\n",
       " 'generated_hrsweek_24',\n",
       " 'generated_controlhrs_24',\n",
       " 'generated_paidsick_24',\n",
       " 'generated_friends_24',\n",
       " 'generated_commute_24',\n",
       " 'generated_physical_24',\n",
       " 'generated_skills_24',\n",
       " 'generated_vaccine_24',\n",
       " 'generated_express_24',\n",
       " 'generated_coworkers_24',\n",
       " 'generated_suprespect_24',\n",
       " 'generated_supfair_24',\n",
       " 'generated_wage_25',\n",
       " 'generated_hrsweek_25',\n",
       " 'generated_controlhrs_25',\n",
       " 'generated_paidsick_25',\n",
       " 'generated_friends_25',\n",
       " 'generated_commute_25',\n",
       " 'generated_physical_25',\n",
       " 'generated_skills_25',\n",
       " 'generated_vaccine_25',\n",
       " 'generated_express_25',\n",
       " 'generated_coworkers_25',\n",
       " 'generated_suprespect_25',\n",
       " 'generated_supfair_25',\n",
       " 'generated_wage_26',\n",
       " 'generated_hrsweek_26',\n",
       " 'generated_controlhrs_26',\n",
       " 'generated_paidsick_26',\n",
       " 'generated_friends_26',\n",
       " 'generated_commute_26',\n",
       " 'generated_physical_26',\n",
       " 'generated_skills_26',\n",
       " 'generated_vaccine_26',\n",
       " 'generated_express_26',\n",
       " 'generated_coworkers_26',\n",
       " 'generated_suprespect_26',\n",
       " 'generated_supfair_26',\n",
       " 'generated_wage_27',\n",
       " 'generated_hrsweek_27',\n",
       " 'generated_controlhrs_27',\n",
       " 'generated_paidsick_27',\n",
       " 'generated_friends_27',\n",
       " 'generated_commute_27',\n",
       " 'generated_physical_27',\n",
       " 'generated_skills_27',\n",
       " 'generated_vaccine_27',\n",
       " 'generated_express_27',\n",
       " 'generated_coworkers_27',\n",
       " 'generated_suprespect_27',\n",
       " 'generated_supfair_27',\n",
       " 'generated_wage_28',\n",
       " 'generated_hrsweek_28',\n",
       " 'generated_controlhrs_28',\n",
       " 'generated_paidsick_28',\n",
       " 'generated_friends_28',\n",
       " 'generated_commute_28',\n",
       " 'generated_physical_28',\n",
       " 'generated_skills_28',\n",
       " 'generated_vaccine_28',\n",
       " 'generated_express_28',\n",
       " 'generated_coworkers_28',\n",
       " 'generated_suprespect_28',\n",
       " 'generated_supfair_28',\n",
       " 'generated_wage_29',\n",
       " 'generated_hrsweek_29',\n",
       " 'generated_controlhrs_29',\n",
       " 'generated_paidsick_29',\n",
       " 'generated_friends_29',\n",
       " 'generated_commute_29',\n",
       " 'generated_physical_29',\n",
       " 'generated_skills_29',\n",
       " 'generated_vaccine_29',\n",
       " 'generated_express_29',\n",
       " 'generated_coworkers_29',\n",
       " 'generated_suprespect_29',\n",
       " 'generated_supfair_29',\n",
       " 'generated_wage_30',\n",
       " 'generated_hrsweek_30',\n",
       " 'generated_controlhrs_30',\n",
       " 'generated_paidsick_30',\n",
       " 'generated_friends_30',\n",
       " 'generated_commute_30',\n",
       " 'generated_physical_30',\n",
       " 'generated_skills_30',\n",
       " 'generated_vaccine_30',\n",
       " 'generated_express_30',\n",
       " 'generated_coworkers_30',\n",
       " 'generated_suprespect_30',\n",
       " 'generated_supfair_30',\n",
       " 'generated_jobtitle_01',\n",
       " 'generated_jobtitle_02',\n",
       " 'generated_jobtitle_03',\n",
       " 'generated_jobtitle_04',\n",
       " 'generated_jobtitle_05',\n",
       " 'generated_jobtitle_06',\n",
       " 'generated_jobtitle_07',\n",
       " 'generated_jobtitle_08',\n",
       " 'generated_jobtitle_09',\n",
       " 'generated_jobtitle_10',\n",
       " 'generated_jobtitle_11',\n",
       " 'generated_jobtitle_12',\n",
       " 'generated_jobtitle_13',\n",
       " 'generated_jobtitle_14',\n",
       " 'generated_jobtitle_15',\n",
       " 'generated_jobtitle_16',\n",
       " 'generated_jobtitle_17',\n",
       " 'generated_jobtitle_18',\n",
       " 'generated_jobtitle_19',\n",
       " 'generated_jobtitle_20',\n",
       " 'generated_jobtitle_21',\n",
       " 'generated_jobtitle_22',\n",
       " 'generated_jobtitle_23',\n",
       " 'generated_jobtitle_24',\n",
       " 'generated_jobtitle_25',\n",
       " 'generated_jobtitle_26',\n",
       " 'generated_jobtitle_27',\n",
       " 'generated_jobtitle_28',\n",
       " 'generated_jobtitle_29',\n",
       " 'generated_jobtitle_30',\n",
       " '_merge',\n",
       " 'accept_submit_gap']"
      ]
     },
     "execution_count": 45,
     "metadata": {},
     "output_type": "execute_result"
    }
   ],
   "source": [
    "list(df.columns)"
   ]
  },
  {
   "cell_type": "code",
   "execution_count": 47,
   "id": "4821d041-c50e-4313-9460-15db182f9047",
   "metadata": {
    "pycharm": {
     "name": "#%%\n"
    }
   },
   "outputs": [],
   "source": [
    "df_high = df[df['reward'] == 1.5].copy()\n",
    "df_low = df[df['reward'] == 0.5].copy()"
   ]
  },
  {
   "cell_type": "code",
   "execution_count": 49,
   "id": "4276be29-9204-4a75-be92-ef1520fce086",
   "metadata": {
    "pycharm": {
     "name": "#%%\n"
    }
   },
   "outputs": [
    {
     "name": "stdout",
     "output_type": "stream",
     "text": [
      "0 days 00:12:13.538461538\n",
      "0 days 00:15:46.382352941\n"
     ]
    }
   ],
   "source": [
    "print(df_high['accept_submit_gap'].mean())\n",
    "print(df_low['accept_submit_gap'].mean())"
   ]
  },
  {
   "cell_type": "code",
   "execution_count": 50,
   "id": "291ce2ee-ed63-4ef9-8d0b-5ce9d3853b4e",
   "metadata": {
    "pycharm": {
     "name": "#%%\n"
    }
   },
   "outputs": [
    {
     "name": "stdout",
     "output_type": "stream",
     "text": [
      "0 days 00:12:06\n",
      "0 days 00:13:48\n"
     ]
    }
   ],
   "source": [
    "print(df_high['accept_submit_gap'].median())\n",
    "print(df_low['accept_submit_gap'].median())"
   ]
  },
  {
   "cell_type": "code",
   "execution_count": null,
   "id": "ef6fa674-0837-4552-ac88-bd1e6f29e282",
   "metadata": {
    "pycharm": {
     "name": "#%%\n"
    }
   },
   "outputs": [],
   "source": []
  }
 ],
 "metadata": {
  "kernelspec": {
   "display_name": "Python 3",
   "language": "python",
   "name": "python3"
  },
  "language_info": {
   "codemirror_mode": {
    "name": "ipython",
    "version": 3
   },
   "file_extension": ".py",
   "mimetype": "text/x-python",
   "name": "python",
   "nbconvert_exporter": "python",
   "pygments_lexer": "ipython3",
   "version": "3.9.2"
  }
 },
 "nbformat": 4,
 "nbformat_minor": 5
}