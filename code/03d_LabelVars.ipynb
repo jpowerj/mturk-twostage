{
 "cells": [
  {
   "cell_type": "markdown",
   "source": [
    "### Create a variable-label map, then output the results in Stata format"
   ],
   "metadata": {
    "collapsed": false,
    "pycharm": {
     "name": "#%% md\n"
    }
   }
  },
  {
   "cell_type": "code",
   "execution_count": 1,
   "outputs": [],
   "source": [
    "%load_ext autoreload\n",
    "%autoreload 2"
   ],
   "metadata": {
    "collapsed": false,
    "pycharm": {
     "name": "#%%\n"
    }
   }
  },
  {
   "cell_type": "code",
   "execution_count": 2,
   "id": "f4a9daf8-4180-4723-a5d7-cd15b97cc605",
   "metadata": {
    "pycharm": {
     "name": "#%%\n"
    }
   },
   "outputs": [],
   "source": [
    "import glob\n",
    "\n",
    "import pandas as pd\n",
    "import numpy as np\n",
    "import unidecode\n",
    "\n",
    "import mtglobals"
   ]
  },
  {
   "cell_type": "markdown",
   "id": "4df2a7c2-1b23-4ac8-a5d4-01e6a84c6ad7",
   "metadata": {
    "pycharm": {
     "name": "#%% md\n"
    }
   },
   "source": [
    "### (a) Load older (non-2-stage) results (skip this if you only ran the 2-stage version)"
   ]
  },
  {
   "cell_type": "code",
   "execution_count": 3,
   "id": "fe88bcb3-494c-4707-9116-b231686f0a47",
   "metadata": {
    "pycharm": {
     "name": "#%%\n"
    }
   },
   "outputs": [],
   "source": [
    "df = pd.read_csv(\"../results_2stage/results_2021-11-02.csv\")"
   ]
  },
  {
   "cell_type": "code",
   "execution_count": 5,
   "id": "cf0c6fff-e4db-436d-8164-1bc2bbd323f4",
   "metadata": {
    "pycharm": {
     "name": "#%%\n"
    }
   },
   "outputs": [],
   "source": [
    "df.rename(columns={'Answer.age':'age', 'Answer.onlinehrs':'onlinehrs', 'Answer.reason':'reason'}, inplace=True)"
   ]
  },
  {
   "cell_type": "code",
   "execution_count": 6,
   "id": "efceeaa1-2cc3-4ed8-bccc-240103b38c5f",
   "metadata": {
    "pycharm": {
     "name": "#%%\n"
    }
   },
   "outputs": [
    {
     "data": {
      "text/html": [
       "<div>\n",
       "<style scoped>\n",
       "    .dataframe tbody tr th:only-of-type {\n",
       "        vertical-align: middle;\n",
       "    }\n",
       "\n",
       "    .dataframe tbody tr th {\n",
       "        vertical-align: top;\n",
       "    }\n",
       "\n",
       "    .dataframe thead th {\n",
       "        text-align: right;\n",
       "    }\n",
       "</style>\n",
       "<table border=\"1\" class=\"dataframe\">\n",
       "  <thead>\n",
       "    <tr style=\"text-align: right;\">\n",
       "      <th></th>\n",
       "      <th>hit_id</th>\n",
       "      <th>worker_id</th>\n",
       "      <th>submitted</th>\n",
       "      <th>reward</th>\n",
       "      <th>StartDate</th>\n",
       "      <th>EndDate</th>\n",
       "      <th>Status</th>\n",
       "      <th>IPAddress</th>\n",
       "      <th>Progress</th>\n",
       "      <th>Duration (in seconds)</th>\n",
       "      <th>...</th>\n",
       "      <th>generated_jobtitle_22</th>\n",
       "      <th>generated_jobtitle_23</th>\n",
       "      <th>generated_jobtitle_24</th>\n",
       "      <th>generated_jobtitle_25</th>\n",
       "      <th>generated_jobtitle_26</th>\n",
       "      <th>generated_jobtitle_27</th>\n",
       "      <th>generated_jobtitle_28</th>\n",
       "      <th>generated_jobtitle_29</th>\n",
       "      <th>generated_jobtitle_30</th>\n",
       "      <th>_merge</th>\n",
       "    </tr>\n",
       "  </thead>\n",
       "  <tbody>\n",
       "    <tr>\n",
       "      <th>0</th>\n",
       "      <td>3YCT0L9OMNAF5SRYGORITDH2MQ4SNX</td>\n",
       "      <td>A2I0RSK2Y87ETH</td>\n",
       "      <td>False</td>\n",
       "      <td>1.5</td>\n",
       "      <td>NaN</td>\n",
       "      <td>NaN</td>\n",
       "      <td>NaN</td>\n",
       "      <td>NaN</td>\n",
       "      <td>NaN</td>\n",
       "      <td>NaN</td>\n",
       "      <td>...</td>\n",
       "      <td>NaN</td>\n",
       "      <td>NaN</td>\n",
       "      <td>NaN</td>\n",
       "      <td>NaN</td>\n",
       "      <td>NaN</td>\n",
       "      <td>NaN</td>\n",
       "      <td>NaN</td>\n",
       "      <td>NaN</td>\n",
       "      <td>NaN</td>\n",
       "      <td>left_only</td>\n",
       "    </tr>\n",
       "    <tr>\n",
       "      <th>1</th>\n",
       "      <td>3ULIZ0H1VB6BLJMYZ5GC3VU755S511</td>\n",
       "      <td>ACHEDJOIAGMP2</td>\n",
       "      <td>True</td>\n",
       "      <td>0.5</td>\n",
       "      <td>2021-11-01 20:38:47</td>\n",
       "      <td>2021-11-01 20:51:10</td>\n",
       "      <td>IP Address</td>\n",
       "      <td>185.186.60.87</td>\n",
       "      <td>100.0</td>\n",
       "      <td>743.0</td>\n",
       "      <td>...</td>\n",
       "      <td>Supervisor</td>\n",
       "      <td>Supervisor</td>\n",
       "      <td>Supervisor</td>\n",
       "      <td>Supervisor</td>\n",
       "      <td>Supervisor</td>\n",
       "      <td>Supervisor</td>\n",
       "      <td>Supervisor</td>\n",
       "      <td>Supervisor</td>\n",
       "      <td>Supervisor</td>\n",
       "      <td>both</td>\n",
       "    </tr>\n",
       "    <tr>\n",
       "      <th>2</th>\n",
       "      <td>3TFJJUELSIQ39PD9XJ3YMKAMPSS2CN</td>\n",
       "      <td>A18KS7Y1G3IUCM</td>\n",
       "      <td>False</td>\n",
       "      <td>1.5</td>\n",
       "      <td>NaN</td>\n",
       "      <td>NaN</td>\n",
       "      <td>NaN</td>\n",
       "      <td>NaN</td>\n",
       "      <td>NaN</td>\n",
       "      <td>NaN</td>\n",
       "      <td>...</td>\n",
       "      <td>NaN</td>\n",
       "      <td>NaN</td>\n",
       "      <td>NaN</td>\n",
       "      <td>NaN</td>\n",
       "      <td>NaN</td>\n",
       "      <td>NaN</td>\n",
       "      <td>NaN</td>\n",
       "      <td>NaN</td>\n",
       "      <td>NaN</td>\n",
       "      <td>left_only</td>\n",
       "    </tr>\n",
       "    <tr>\n",
       "      <th>3</th>\n",
       "      <td>3E9ZFLPWOZTVN826DIKDND2DF6CXIU</td>\n",
       "      <td>AYUQBR5XZDJHZ</td>\n",
       "      <td>False</td>\n",
       "      <td>1.5</td>\n",
       "      <td>NaN</td>\n",
       "      <td>NaN</td>\n",
       "      <td>NaN</td>\n",
       "      <td>NaN</td>\n",
       "      <td>NaN</td>\n",
       "      <td>NaN</td>\n",
       "      <td>...</td>\n",
       "      <td>NaN</td>\n",
       "      <td>NaN</td>\n",
       "      <td>NaN</td>\n",
       "      <td>NaN</td>\n",
       "      <td>NaN</td>\n",
       "      <td>NaN</td>\n",
       "      <td>NaN</td>\n",
       "      <td>NaN</td>\n",
       "      <td>NaN</td>\n",
       "      <td>left_only</td>\n",
       "    </tr>\n",
       "    <tr>\n",
       "      <th>4</th>\n",
       "      <td>3VZYA8PITPZBEU1G3MCCPQBX0DM50Y</td>\n",
       "      <td>A2VMHLKYJYO5TB</td>\n",
       "      <td>False</td>\n",
       "      <td>0.5</td>\n",
       "      <td>NaN</td>\n",
       "      <td>NaN</td>\n",
       "      <td>NaN</td>\n",
       "      <td>NaN</td>\n",
       "      <td>NaN</td>\n",
       "      <td>NaN</td>\n",
       "      <td>...</td>\n",
       "      <td>NaN</td>\n",
       "      <td>NaN</td>\n",
       "      <td>NaN</td>\n",
       "      <td>NaN</td>\n",
       "      <td>NaN</td>\n",
       "      <td>NaN</td>\n",
       "      <td>NaN</td>\n",
       "      <td>NaN</td>\n",
       "      <td>NaN</td>\n",
       "      <td>left_only</td>\n",
       "    </tr>\n",
       "    <tr>\n",
       "      <th>...</th>\n",
       "      <td>...</td>\n",
       "      <td>...</td>\n",
       "      <td>...</td>\n",
       "      <td>...</td>\n",
       "      <td>...</td>\n",
       "      <td>...</td>\n",
       "      <td>...</td>\n",
       "      <td>...</td>\n",
       "      <td>...</td>\n",
       "      <td>...</td>\n",
       "      <td>...</td>\n",
       "      <td>...</td>\n",
       "      <td>...</td>\n",
       "      <td>...</td>\n",
       "      <td>...</td>\n",
       "      <td>...</td>\n",
       "      <td>...</td>\n",
       "      <td>...</td>\n",
       "      <td>...</td>\n",
       "      <td>...</td>\n",
       "      <td>...</td>\n",
       "    </tr>\n",
       "    <tr>\n",
       "      <th>87</th>\n",
       "      <td>3P458N04Q2IRCNO4OFZL0XVWQAFX2J</td>\n",
       "      <td>A11F3MA5FWH6SJ</td>\n",
       "      <td>True</td>\n",
       "      <td>1.5</td>\n",
       "      <td>2021-11-01 14:15:35</td>\n",
       "      <td>2021-11-01 14:27:41</td>\n",
       "      <td>IP Address</td>\n",
       "      <td>24.88.146.255</td>\n",
       "      <td>100.0</td>\n",
       "      <td>725.0</td>\n",
       "      <td>...</td>\n",
       "      <td>Freelancer</td>\n",
       "      <td>Freelancer</td>\n",
       "      <td>Freelancer</td>\n",
       "      <td>Freelancer</td>\n",
       "      <td>Freelancer</td>\n",
       "      <td>Freelancer</td>\n",
       "      <td>Freelancer</td>\n",
       "      <td>Freelancer</td>\n",
       "      <td>Freelancer</td>\n",
       "      <td>both</td>\n",
       "    </tr>\n",
       "    <tr>\n",
       "      <th>88</th>\n",
       "      <td>3IH9TRB0FC0NX7HD6PZ6S4YCARXI1N</td>\n",
       "      <td>A2JFL3H254VGZ7</td>\n",
       "      <td>True</td>\n",
       "      <td>1.5</td>\n",
       "      <td>2021-11-01 13:57:36</td>\n",
       "      <td>2021-11-01 14:07:32</td>\n",
       "      <td>IP Address</td>\n",
       "      <td>63.75.245.171</td>\n",
       "      <td>100.0</td>\n",
       "      <td>596.0</td>\n",
       "      <td>...</td>\n",
       "      <td>WORK</td>\n",
       "      <td>WORK</td>\n",
       "      <td>WORK</td>\n",
       "      <td>WORK</td>\n",
       "      <td>WORK</td>\n",
       "      <td>WORK</td>\n",
       "      <td>WORK</td>\n",
       "      <td>WORK</td>\n",
       "      <td>WORK</td>\n",
       "      <td>both</td>\n",
       "    </tr>\n",
       "    <tr>\n",
       "      <th>89</th>\n",
       "      <td>3RWSQDNYLANUDV9VCG86E9PEV9OFFU</td>\n",
       "      <td>AE4P5KVUE9HST</td>\n",
       "      <td>True</td>\n",
       "      <td>1.5</td>\n",
       "      <td>2021-11-01 19:45:16</td>\n",
       "      <td>2021-11-01 19:54:46</td>\n",
       "      <td>IP Address</td>\n",
       "      <td>206.195.93.25</td>\n",
       "      <td>100.0</td>\n",
       "      <td>569.0</td>\n",
       "      <td>...</td>\n",
       "      <td>Retail Representive</td>\n",
       "      <td>Retail Representive</td>\n",
       "      <td>Retail Representive</td>\n",
       "      <td>Retail Representive</td>\n",
       "      <td>Retail Representive</td>\n",
       "      <td>Retail Representive</td>\n",
       "      <td>Retail Representive</td>\n",
       "      <td>Retail Representive</td>\n",
       "      <td>Retail Representive</td>\n",
       "      <td>both</td>\n",
       "    </tr>\n",
       "    <tr>\n",
       "      <th>90</th>\n",
       "      <td>3FDWKV9VCO3P2NY2TS7IVZAQ2XFUMF</td>\n",
       "      <td>A2VZGR99TJC2BZ</td>\n",
       "      <td>True</td>\n",
       "      <td>0.5</td>\n",
       "      <td>2021-11-01 13:17:18</td>\n",
       "      <td>2021-11-01 13:25:05</td>\n",
       "      <td>IP Address</td>\n",
       "      <td>72.53.179.173</td>\n",
       "      <td>100.0</td>\n",
       "      <td>466.0</td>\n",
       "      <td>...</td>\n",
       "      <td>IT Technician</td>\n",
       "      <td>IT Technician</td>\n",
       "      <td>IT Technician</td>\n",
       "      <td>IT Technician</td>\n",
       "      <td>IT Technician</td>\n",
       "      <td>IT Technician</td>\n",
       "      <td>IT Technician</td>\n",
       "      <td>IT Technician</td>\n",
       "      <td>IT Technician</td>\n",
       "      <td>both</td>\n",
       "    </tr>\n",
       "    <tr>\n",
       "      <th>91</th>\n",
       "      <td>3W9XHF7WGLWFCMJA8B4SBQWKUEDKT9</td>\n",
       "      <td>A39D2O58VQ5GMO</td>\n",
       "      <td>True</td>\n",
       "      <td>0.5</td>\n",
       "      <td>2021-11-01 13:29:12</td>\n",
       "      <td>2021-11-01 13:36:11</td>\n",
       "      <td>IP Address</td>\n",
       "      <td>76.89.231.26</td>\n",
       "      <td>100.0</td>\n",
       "      <td>419.0</td>\n",
       "      <td>...</td>\n",
       "      <td>Personal Assstance</td>\n",
       "      <td>Personal Assstance</td>\n",
       "      <td>Personal Assstance</td>\n",
       "      <td>Personal Assstance</td>\n",
       "      <td>Personal Assstance</td>\n",
       "      <td>Personal Assstance</td>\n",
       "      <td>Personal Assstance</td>\n",
       "      <td>Personal Assstance</td>\n",
       "      <td>Personal Assstance</td>\n",
       "      <td>both</td>\n",
       "    </tr>\n",
       "  </tbody>\n",
       "</table>\n",
       "<p>92 rows × 1705 columns</p>\n",
       "</div>"
      ],
      "text/plain": [
       "                            hit_id       worker_id  submitted  reward  \\\n",
       "0   3YCT0L9OMNAF5SRYGORITDH2MQ4SNX  A2I0RSK2Y87ETH      False     1.5   \n",
       "1   3ULIZ0H1VB6BLJMYZ5GC3VU755S511   ACHEDJOIAGMP2       True     0.5   \n",
       "2   3TFJJUELSIQ39PD9XJ3YMKAMPSS2CN  A18KS7Y1G3IUCM      False     1.5   \n",
       "3   3E9ZFLPWOZTVN826DIKDND2DF6CXIU   AYUQBR5XZDJHZ      False     1.5   \n",
       "4   3VZYA8PITPZBEU1G3MCCPQBX0DM50Y  A2VMHLKYJYO5TB      False     0.5   \n",
       "..                             ...             ...        ...     ...   \n",
       "87  3P458N04Q2IRCNO4OFZL0XVWQAFX2J  A11F3MA5FWH6SJ       True     1.5   \n",
       "88  3IH9TRB0FC0NX7HD6PZ6S4YCARXI1N  A2JFL3H254VGZ7       True     1.5   \n",
       "89  3RWSQDNYLANUDV9VCG86E9PEV9OFFU   AE4P5KVUE9HST       True     1.5   \n",
       "90  3FDWKV9VCO3P2NY2TS7IVZAQ2XFUMF  A2VZGR99TJC2BZ       True     0.5   \n",
       "91  3W9XHF7WGLWFCMJA8B4SBQWKUEDKT9  A39D2O58VQ5GMO       True     0.5   \n",
       "\n",
       "              StartDate              EndDate      Status      IPAddress  \\\n",
       "0                   NaN                  NaN         NaN            NaN   \n",
       "1   2021-11-01 20:38:47  2021-11-01 20:51:10  IP Address  185.186.60.87   \n",
       "2                   NaN                  NaN         NaN            NaN   \n",
       "3                   NaN                  NaN         NaN            NaN   \n",
       "4                   NaN                  NaN         NaN            NaN   \n",
       "..                  ...                  ...         ...            ...   \n",
       "87  2021-11-01 14:15:35  2021-11-01 14:27:41  IP Address  24.88.146.255   \n",
       "88  2021-11-01 13:57:36  2021-11-01 14:07:32  IP Address  63.75.245.171   \n",
       "89  2021-11-01 19:45:16  2021-11-01 19:54:46  IP Address  206.195.93.25   \n",
       "90  2021-11-01 13:17:18  2021-11-01 13:25:05  IP Address  72.53.179.173   \n",
       "91  2021-11-01 13:29:12  2021-11-01 13:36:11  IP Address   76.89.231.26   \n",
       "\n",
       "    Progress  Duration (in seconds)  ... generated_jobtitle_22  \\\n",
       "0        NaN                    NaN  ...                   NaN   \n",
       "1      100.0                  743.0  ...            Supervisor   \n",
       "2        NaN                    NaN  ...                   NaN   \n",
       "3        NaN                    NaN  ...                   NaN   \n",
       "4        NaN                    NaN  ...                   NaN   \n",
       "..       ...                    ...  ...                   ...   \n",
       "87     100.0                  725.0  ...            Freelancer   \n",
       "88     100.0                  596.0  ...                  WORK   \n",
       "89     100.0                  569.0  ...   Retail Representive   \n",
       "90     100.0                  466.0  ...         IT Technician   \n",
       "91     100.0                  419.0  ...    Personal Assstance   \n",
       "\n",
       "   generated_jobtitle_23 generated_jobtitle_24  generated_jobtitle_25  \\\n",
       "0                    NaN                   NaN                    NaN   \n",
       "1             Supervisor            Supervisor             Supervisor   \n",
       "2                    NaN                   NaN                    NaN   \n",
       "3                    NaN                   NaN                    NaN   \n",
       "4                    NaN                   NaN                    NaN   \n",
       "..                   ...                   ...                    ...   \n",
       "87            Freelancer            Freelancer             Freelancer   \n",
       "88                  WORK                  WORK                   WORK   \n",
       "89   Retail Representive   Retail Representive    Retail Representive   \n",
       "90         IT Technician         IT Technician          IT Technician   \n",
       "91    Personal Assstance    Personal Assstance     Personal Assstance   \n",
       "\n",
       "    generated_jobtitle_26  generated_jobtitle_27  generated_jobtitle_28  \\\n",
       "0                     NaN                    NaN                    NaN   \n",
       "1              Supervisor             Supervisor             Supervisor   \n",
       "2                     NaN                    NaN                    NaN   \n",
       "3                     NaN                    NaN                    NaN   \n",
       "4                     NaN                    NaN                    NaN   \n",
       "..                    ...                    ...                    ...   \n",
       "87             Freelancer             Freelancer             Freelancer   \n",
       "88                   WORK                   WORK                   WORK   \n",
       "89    Retail Representive    Retail Representive    Retail Representive   \n",
       "90          IT Technician          IT Technician          IT Technician   \n",
       "91     Personal Assstance     Personal Assstance     Personal Assstance   \n",
       "\n",
       "    generated_jobtitle_29  generated_jobtitle_30     _merge  \n",
       "0                     NaN                    NaN  left_only  \n",
       "1              Supervisor             Supervisor       both  \n",
       "2                     NaN                    NaN  left_only  \n",
       "3                     NaN                    NaN  left_only  \n",
       "4                     NaN                    NaN  left_only  \n",
       "..                    ...                    ...        ...  \n",
       "87             Freelancer             Freelancer       both  \n",
       "88                   WORK                   WORK       both  \n",
       "89    Retail Representive    Retail Representive       both  \n",
       "90          IT Technician          IT Technician       both  \n",
       "91     Personal Assstance     Personal Assstance       both  \n",
       "\n",
       "[92 rows x 1705 columns]"
      ]
     },
     "execution_count": 6,
     "metadata": {},
     "output_type": "execute_result"
    }
   ],
   "source": [
    "df"
   ]
  },
  {
   "cell_type": "markdown",
   "id": "9ff93ace-e399-4fa0-96a7-e212d2ee5736",
   "metadata": {
    "pycharm": {
     "name": "#%% md\n"
    }
   },
   "source": [
    "Drop extraneous cols"
   ]
  },
  {
   "cell_type": "code",
   "execution_count": 40,
   "id": "ad5f2898-86c5-4e94-ba6a-354761489214",
   "metadata": {
    "pycharm": {
     "name": "#%%\n"
    }
   },
   "outputs": [],
   "source": [
    "# Uncomment for old versions\n",
    "#drop_cols = ['Q11', 'Q22', 'Q12', 'Q90', 'Q13', 'Q14', 'Q15', 'Q20',\n",
    "#             'Q19', 'Q16', 'Q17', 'Q18'] #, 'what_would_it_take', 'end_essay']\n",
    "#drop_cols = drop_cols + [col for col in df.columns.values \n",
    "#                         if col.startswith(\"name_\") or col.startswith(\"cur_\") or col.startswith(\"val_\")]\n",
    "drop_cols = ['Duration (in seconds)'] + [col for col in df.columns.values\n",
    "             if col.startswith(\"name_\") or col.startswith(\"cur_\") or col.startswith(\"val_\") or \"tense\" in col]"
   ]
  },
  {
   "cell_type": "code",
   "execution_count": 41,
   "id": "4e095253-a40d-4d05-af96-627aa1089908",
   "metadata": {
    "pycharm": {
     "name": "#%%\n"
    }
   },
   "outputs": [],
   "source": [
    "df.drop(columns=drop_cols, inplace=True)"
   ]
  },
  {
   "cell_type": "code",
   "execution_count": 42,
   "id": "b8216a6c-297c-436b-b8c5-86935e120531",
   "metadata": {
    "pycharm": {
     "name": "#%%\n"
    }
   },
   "outputs": [
    {
     "data": {
      "text/plain": [
       "517"
      ]
     },
     "execution_count": 42,
     "metadata": {},
     "output_type": "execute_result"
    }
   ],
   "source": [
    "len(df.columns)"
   ]
  },
  {
   "cell_type": "code",
   "execution_count": 43,
   "id": "d118eb77-195b-44aa-8c01-14aa428a33f8",
   "metadata": {
    "pycharm": {
     "name": "#%%\n"
    }
   },
   "outputs": [
    {
     "data": {
      "text/plain": [
       "455"
      ]
     },
     "execution_count": 43,
     "metadata": {},
     "output_type": "execute_result"
    }
   ],
   "source": [
    "# Cool, now generate labels and output a .dta\n",
    "labels = {\n",
    "    'restdb_id': 'ID in the RestDB wage database',\n",
    "    'worker_id': 'MTurk ID for the worker',\n",
    "    'age': 'Respondent\\'s specified age, in years',\n",
    "    'onlinehrs': 'Number of hours per week the respondent spends doing online tasks for money',\n",
    "    'reason': 'Respondent\\'s primary reason for doing online tasks for money',\n",
    "}\n",
    "prefix_map = {\n",
    "    'response': 'Response to offer ',\n",
    "    'generated_jobtitle_': 'Job title generated for offer ',\n",
    "    'generated_wage_': 'Wage generated for offer ',\n",
    "    'generated_hrsweek_': 'Weekly hours generated for offer ',\n",
    "    'generated_controlhrs_': 'Control over weekly hours? for offer ',\n",
    "    'generated_paidsick_': 'Paid sick leave generated for offer ',\n",
    "    'generated_friends_': 'Work with friends, generated for offer ',\n",
    "    'generated_commute_': 'Commute time generated for offer ',\n",
    "    'generated_physical_': 'Requires physical exertion, generated for offer ',\n",
    "    'generated_skills_': 'Learn transferrable skills, generated for offer ',\n",
    "    'generated_vaccine_': 'Requires vaccination, generated for offer ',\n",
    "    'generated_express_': 'Opportunities for expression, generated for offer ',\n",
    "    'generated_coworkers_': 'Dependable coworkers, generated for offer ',\n",
    "    'generated_suprespect_': 'Supervisor treats with respect, offer ',\n",
    "    'generated_supfair_': 'Supervisor treats everyone fairly, offer ',\n",
    "}\n",
    "for i in range(1,31):\n",
    "    i_padded = str(i).zfill(2)\n",
    "    for cur_var, cur_prefix in prefix_map.items():\n",
    "        if cur_var == \"response\":\n",
    "            varname = cur_var + str(i)\n",
    "        else:\n",
    "            varname = cur_var + i_padded\n",
    "        value = cur_prefix + i_padded\n",
    "        labels[varname] = value\n",
    "len(labels)"
   ]
  },
  {
   "cell_type": "code",
   "execution_count": 44,
   "id": "eeed4416-6856-4dd5-99f4-2cc4a5f1a79a",
   "metadata": {
    "pycharm": {
     "name": "#%%\n"
    }
   },
   "outputs": [
    {
     "data": {
      "text/plain": [
       "True"
      ]
     },
     "execution_count": 44,
     "metadata": {},
     "output_type": "execute_result"
    }
   ],
   "source": [
    "'age' in labels.keys()"
   ]
  },
  {
   "cell_type": "code",
   "execution_count": 45,
   "id": "1f315ce8-7f69-4af5-82de-0ae1854b0ad1",
   "metadata": {
    "pycharm": {
     "name": "#%%\n"
    }
   },
   "outputs": [
    {
     "data": {
      "text/plain": [
       "array(['hit_id', 'worker_id', 'accepted_offer', 'reward', 'StartDate',\n",
       "       'EndDate', 'Status', 'IPAddress', 'Progress', 'Finished',\n",
       "       'RecordedDate', 'ResponseId', 'RecipientLastName',\n",
       "       'RecipientFirstName', 'RecipientEmail', 'ExternalReference',\n",
       "       'LocationLatitude', 'LocationLongitude', 'DistributionChannel',\n",
       "       'UserLanguage'], dtype=object)"
      ]
     },
     "execution_count": 45,
     "metadata": {},
     "output_type": "execute_result"
    }
   ],
   "source": [
    "df.columns.values[:20]"
   ]
  },
  {
   "cell_type": "code",
   "execution_count": 46,
   "id": "1adaec97-e9d9-400e-b180-3a7243407642",
   "metadata": {
    "pycharm": {
     "name": "#%%\n"
    }
   },
   "outputs": [],
   "source": [
    "not_labeled = set(df.columns.values).difference(set(labels.keys()))"
   ]
  },
  {
   "cell_type": "code",
   "execution_count": 47,
   "id": "74fbbb4d-7e01-481e-8fbf-d513a0672644",
   "metadata": {
    "pycharm": {
     "name": "#%%\n"
    }
   },
   "outputs": [
    {
     "data": {
      "text/plain": [
       "66"
      ]
     },
     "execution_count": 47,
     "metadata": {},
     "output_type": "execute_result"
    }
   ],
   "source": [
    "len(not_labeled)"
   ]
  },
  {
   "cell_type": "code",
   "execution_count": 48,
   "id": "41271e5b-ed3d-4bcd-bd6d-033f035eccf9",
   "metadata": {
    "pycharm": {
     "name": "#%%\n"
    }
   },
   "outputs": [
    {
     "data": {
      "text/plain": [
       "{'DistributionChannel',\n",
       " 'EndDate',\n",
       " 'ExternalReference',\n",
       " 'Finished',\n",
       " 'IPAddress',\n",
       " 'LocationLatitude',\n",
       " 'LocationLongitude',\n",
       " 'Progress',\n",
       " 'RecipientEmail',\n",
       " 'RecipientFirstName',\n",
       " 'RecipientLastName',\n",
       " 'RecordedDate',\n",
       " 'ResponseId',\n",
       " 'StartDate',\n",
       " 'Status',\n",
       " 'UserLanguage',\n",
       " '_merge',\n",
       " 'accepted_offer',\n",
       " 'commute',\n",
       " 'controlhrs',\n",
       " 'coworkers',\n",
       " 'currently_employed',\n",
       " 'education',\n",
       " 'entered_commute',\n",
       " 'entered_controlhrs',\n",
       " 'entered_coworkers',\n",
       " 'entered_express',\n",
       " 'entered_friends',\n",
       " 'entered_hrs',\n",
       " 'entered_jobtitle',\n",
       " 'entered_physical',\n",
       " 'entered_sickleave',\n",
       " 'entered_skills',\n",
       " 'entered_supfair',\n",
       " 'entered_suprespect',\n",
       " 'entered_vaccine',\n",
       " 'entered_wage',\n",
       " 'ever_employed',\n",
       " 'express',\n",
       " 'friends',\n",
       " 'fulltime',\n",
       " 'gender',\n",
       " 'gender_4_TEXT',\n",
       " 'hit_id',\n",
       " 'how_easy',\n",
       " 'hrs',\n",
       " 'jobtitle',\n",
       " 'lowest_wage',\n",
       " 'most_recent_fulltime',\n",
       " 'most_recent_job',\n",
       " 'mturk_code',\n",
       " 'num_tasks',\n",
       " 'offer',\n",
       " 'physical',\n",
       " 'race',\n",
       " 'race_6_TEXT',\n",
       " 'reward',\n",
       " 'savings',\n",
       " 'sickleave',\n",
       " 'skills',\n",
       " 'state',\n",
       " 'supfair',\n",
       " 'suprespect',\n",
       " 'vaccine',\n",
       " 'wage',\n",
       " 'weeks_unemployment'}"
      ]
     },
     "execution_count": 48,
     "metadata": {},
     "output_type": "execute_result"
    }
   ],
   "source": [
    "not_labeled"
   ]
  },
  {
   "cell_type": "code",
   "execution_count": 49,
   "id": "b56eaf0f-2ece-47a6-9922-af9096f548bf",
   "metadata": {
    "pycharm": {
     "name": "#%%\n"
    }
   },
   "outputs": [],
   "source": [
    "# Rename \"submitted\" to \"accepted_offer\"\n",
    "df.rename(columns={'submitted':'accepted_offer'}, inplace=True)"
   ]
  },
  {
   "cell_type": "code",
   "execution_count": 50,
   "id": "5b773859-4604-45fb-936d-84e266a792c3",
   "metadata": {
    "pycharm": {
     "name": "#%%\n"
    }
   },
   "outputs": [
    {
     "data": {
      "text/plain": [
       "True     60\n",
       "False    32\n",
       "Name: accepted_offer, dtype: int64"
      ]
     },
     "execution_count": 50,
     "metadata": {},
     "output_type": "execute_result"
    }
   ],
   "source": [
    "df['accepted_offer'].value_counts(dropna=False)"
   ]
  },
  {
   "cell_type": "code",
   "execution_count": 51,
   "id": "777e5a68-6e55-4191-8b46-338c8055847b",
   "metadata": {
    "pycharm": {
     "name": "#%%\n"
    }
   },
   "outputs": [],
   "source": [
    "# Convert NaN to None\n",
    "df = df.where(pd.notnull(df), None)"
   ]
  },
  {
   "cell_type": "code",
   "execution_count": 52,
   "id": "3bc0c64c-0e19-4336-ae83-cd01f7c24c3c",
   "metadata": {
    "pycharm": {
     "name": "#%%\n"
    }
   },
   "outputs": [
    {
     "data": {
      "text/plain": [
       "0     False\n",
       "1      True\n",
       "2     False\n",
       "3     False\n",
       "4     False\n",
       "      ...  \n",
       "87     True\n",
       "88     True\n",
       "89     True\n",
       "90     True\n",
       "91     True\n",
       "Name: accepted_offer, Length: 92, dtype: bool"
      ]
     },
     "execution_count": 52,
     "metadata": {},
     "output_type": "execute_result"
    }
   ],
   "source": [
    "df['accepted_offer']"
   ]
  },
  {
   "cell_type": "code",
   "execution_count": 53,
   "id": "ab675cff-ada8-4971-b5a6-417ed10e849a",
   "metadata": {
    "pycharm": {
     "name": "#%%\n"
    }
   },
   "outputs": [],
   "source": [
    "obj_cols = list(df.select_dtypes(include=['object']).columns)"
   ]
  },
  {
   "cell_type": "code",
   "execution_count": 54,
   "id": "2466c051-e3e6-4f1b-8e98-fdb66814e3ed",
   "metadata": {
    "pycharm": {
     "name": "#%%\n"
    }
   },
   "outputs": [],
   "source": [
    "for cur_obj_col in obj_cols:\n",
    "    df[cur_obj_col] = df[cur_obj_col].astype(str)"
   ]
  },
  {
   "cell_type": "code",
   "execution_count": null,
   "id": "d297b70d-bf55-4286-bf68-3241b77f428a",
   "metadata": {
    "pycharm": {
     "name": "#%%\n"
    }
   },
   "outputs": [],
   "source": []
  },
  {
   "cell_type": "code",
   "execution_count": 55,
   "id": "48a0c6e6-bea7-4496-b6f9-6dda4bf6fce9",
   "metadata": {
    "pycharm": {
     "name": "#%%\n"
    }
   },
   "outputs": [],
   "source": [
    "# Output to .dta\n",
    "df.to_stata(\"../results/results_clean.dta\", variable_labels=labels)"
   ]
  },
  {
   "cell_type": "markdown",
   "id": "c097f565-16c1-4082-9e2b-05df53448e3a",
   "metadata": {
    "pycharm": {
     "name": "#%% md\n"
    }
   },
   "source": [
    "### (b) Label the newer 2-stage results"
   ]
  },
  {
   "cell_type": "code",
   "execution_count": 3,
   "outputs": [
    {
     "data": {
      "text/plain": "['../results_2stage\\\\pilot_results_timegaps_20221014_150129.pkl',\n '../results_2stage\\\\pilot_results_timegaps_20221015_171141.pkl']"
     },
     "execution_count": 3,
     "metadata": {},
     "output_type": "execute_result"
    }
   ],
   "source": [
    "all_pkl_fpaths = glob.glob(\"../results_2stage/pilot_results_timegaps_*.pkl\")\n",
    "all_pkl_fpaths"
   ],
   "metadata": {
    "collapsed": false,
    "pycharm": {
     "name": "#%%\n"
    }
   }
  },
  {
   "cell_type": "code",
   "execution_count": 4,
   "id": "bb7ac5f1-c2e5-4669-adf0-a2993f15fa3f",
   "metadata": {
    "pycharm": {
     "name": "#%%\n"
    }
   },
   "outputs": [],
   "source": [
    "# Load the .pkl\n",
    "df = pd.read_pickle(all_pkl_fpaths[-1])"
   ]
  },
  {
   "cell_type": "code",
   "execution_count": 5,
   "id": "e6da75c4-5d3f-4b70-b435-efdb315a8c5f",
   "metadata": {
    "pycharm": {
     "name": "#%%\n"
    }
   },
   "outputs": [
    {
     "data": {
      "text/plain": "Index(['mt_id', 'wage_mturk', 'accepted', 'stage2_creation',\n       'stage2_creation_str', 'stage2_accept_time', 'stage2_submit_time',\n       'lwage', 'age', 'onlinehrs_str',\n       ...\n       'generated_jobtitle_26', 'generated_jobtitle_27',\n       'generated_jobtitle_28', 'generated_jobtitle_29',\n       'generated_jobtitle_30', 'qualtrics_source', '_merge', 'result',\n       'stage1_accept_submit_gap', 'stage2_accept_submit_gap'],\n      dtype='object', length=527)"
     },
     "execution_count": 5,
     "metadata": {},
     "output_type": "execute_result"
    }
   ],
   "source": [
    "df.columns"
   ]
  },
  {
   "cell_type": "code",
   "execution_count": 6,
   "id": "f022fcc3-efdb-43fe-9484-debe2c9cffb7",
   "metadata": {
    "pycharm": {
     "name": "#%%\n"
    }
   },
   "outputs": [],
   "source": [
    "# Cool, now generate labels and output a .dta\n",
    "labels = {\n",
    "    'reward_stage1': 'Reward offered for first-stage (3-question survey) HIT',\n",
    "    'reward_stage2': 'Reward offered for the second-stage (full Qualtrics survey) HIT',\n",
    "    'mt_id': 'MTurk ID for the worker',\n",
    "    'age': 'Respondent\\'s specified age, in years',\n",
    "    'onlinehrs': 'Number of hours per week the respondent spends doing online tasks for money',\n",
    "    'reason': 'Respondent\\'s primary reason for doing online tasks for money',\n",
    "    'submitted_hit': 'TRUE if respondent submitted the MTurk HIT, FALSE otherwise',\n",
    "    'case': \"'rejected' if respondent rejected offer, 'did_not_finish' if they started but didn't finish survey, 'completed_survey' otherwise\"\n",
    "}"
   ]
  },
  {
   "cell_type": "markdown",
   "source": [
    "### (c) Output to Stata format"
   ],
   "metadata": {
    "collapsed": false,
    "pycharm": {
     "name": "#%% md\n"
    }
   }
  },
  {
   "cell_type": "code",
   "execution_count": 7,
   "outputs": [],
   "source": [
    "timestamp = mtglobals.gen_timestamp()"
   ],
   "metadata": {
    "collapsed": false,
    "pycharm": {
     "name": "#%%\n"
    }
   }
  },
  {
   "cell_type": "code",
   "execution_count": 8,
   "outputs": [
    {
     "data": {
      "text/plain": "              mt_id wage_mturk  accepted     stage2_creation  \\\n0    A101J0P2UYUKA1       1.05         1 2022-10-13 15:32:15   \n1    A10AKR84P1WXHL       0.98         1 2022-10-03 22:26:00   \n2    A10W3EILX06DFO       0.50         1 2022-10-13 17:29:28   \n3    A114Q54Z648PKO       1.05         1 2022-10-13 18:37:57   \n4     A1198W1SPF1R4       1.02         0 2022-10-07 14:06:16   \n..              ...        ...       ...                 ...   \n795   AZFXFW2ZDX54B       1.00         1 2022-10-14 18:56:27   \n796   AZH32KEBRPRES       0.98         1 2022-10-03 22:20:25   \n797   AZNWVHY3AUSNT       0.95         1 2022-10-10 22:04:06   \n798   AZPXDIOTEH989       0.50         1 2022-10-13 15:32:47   \n799   AZSBLMZUI0BRC       1.02         0 2022-10-13 15:32:06   \n\n           stage2_creation_str        stage2_accept_time  \\\n0    2022-10-13 15:32:15-07:00 2022-10-13 15:41:19-07:00   \n1    2022-10-03 22:26:00-07:00 2022-10-03 22:28:30-07:00   \n2    2022-10-13 17:29:28-07:00 2022-10-13 18:07:12-07:00   \n3    2022-10-13 18:37:57-07:00 2022-10-13 19:41:48-07:00   \n4    2022-10-07 14:06:16-07:00                       NaT   \n..                         ...                       ...   \n795  2022-10-14 18:56:27-07:00 2022-10-15 10:20:48-07:00   \n796  2022-10-03 22:20:25-07:00 2022-10-03 22:22:15-07:00   \n797  2022-10-10 22:04:06-07:00 2022-10-10 22:07:03-07:00   \n798  2022-10-13 15:32:47-07:00 2022-10-13 15:37:33-07:00   \n799  2022-10-13 15:32:06-07:00                       NaT   \n\n           stage2_submit_time     lwage age onlinehrs_str  ...  \\\n0   2022-10-13 15:48:31-07:00  0.048790  23            40  ...   \n1   2022-10-03 23:05:39-07:00 -0.020203  27            36  ...   \n2   2022-10-13 19:03:30-07:00 -0.693147  35            40  ...   \n3   2022-10-13 20:30:31-07:00  0.048790  25             8  ...   \n4                         NaT  0.019803  54            40  ...   \n..                        ...       ...  ..           ...  ...   \n795 2022-10-15 10:39:45-07:00  0.000000  25           120  ...   \n796 2022-10-03 22:47:16-07:00 -0.020203  32            25  ...   \n797 2022-10-10 22:32:03-07:00 -0.051293  51            48  ...   \n798 2022-10-13 15:58:15-07:00 -0.693147  25            35  ...   \n799                       NaT  0.019803  25            10  ...   \n\n      generated_jobtitle_26   generated_jobtitle_27   generated_jobtitle_28  \\\n0    INFORMATION TECHNOLOGY  INFORMATION TECHNOLOGY  INFORMATION TECHNOLOGY   \n1               Healthcare              Healthcare              Healthcare    \n2                        IT                      IT                      IT   \n3                       nan                     nan                     nan   \n4                       nan                     nan                     nan   \n..                      ...                     ...                     ...   \n795       Marketing Manager       Marketing Manager       Marketing Manager   \n796                   ADMIN                   ADMIN                   ADMIN   \n797    Middle level manager    Middle level manager    Middle level manager   \n798  information technology  information technology  information technology   \n799                     nan                     nan                     nan   \n\n      generated_jobtitle_29   generated_jobtitle_30  \\\n0    INFORMATION TECHNOLOGY  INFORMATION TECHNOLOGY   \n1               Healthcare              Healthcare    \n2                        IT                      IT   \n3                       nan                     nan   \n4                       nan                     nan   \n..                      ...                     ...   \n795       Marketing Manager       Marketing Manager   \n796                   ADMIN                   ADMIN   \n797    Middle level manager    Middle level manager   \n798  information technology  information technology   \n799                     nan                     nan   \n\n                                      qualtrics_source _merge  \\\n0    Job+Quality+NonWM+13.0_October+15,+2022_18.07....   both   \n1    Job+Quality+NonWM+13.0_October+15,+2022_18.07....   both   \n2    Job+Quality+NonWM+13.0_October+15,+2022_18.07....   both   \n3    Job+Quality+NonWM+13.0_October+15,+2022_18.07....   both   \n4    Job+Quality+NonWM+13.0_October+15,+2022_18.07....   both   \n..                                                 ...    ...   \n795  Job+Quality+NonWM+13.0_October+15,+2022_18.07....   both   \n796  Job+Quality+NonWM+13.0_October+15,+2022_18.07....   both   \n797  Job+Quality+NonWM+13.0_October+15,+2022_18.07....   both   \n798  Job+Quality+NonWM+13.0_October+15,+2022_18.07....   both   \n799  Job+Quality+NonWM+13.0_October+15,+2022_18.07....   both   \n\n              result stage1_accept_submit_gap stage2_accept_submit_gap  \n0    finished_survey          0 days 00:01:55          0 days 00:07:12  \n1    finished_survey          0 days 00:09:33          0 days 00:37:09  \n2    finished_survey          0 days 00:02:44          0 days 00:56:18  \n3     did_not_finish          0 days 00:24:13          0 days 00:48:43  \n4     did_not_finish          0 days 00:03:08                      NaT  \n..               ...                      ...                      ...  \n795  finished_survey          0 days 00:09:51          0 days 00:18:57  \n796  finished_survey          0 days 00:04:01          0 days 00:25:01  \n797  finished_survey          0 days 00:02:41          0 days 00:25:00  \n798  finished_survey          0 days 00:24:52          0 days 00:20:42  \n799   did_not_finish          0 days 00:01:08                      NaT  \n\n[800 rows x 527 columns]",
      "text/html": "<div>\n<style scoped>\n    .dataframe tbody tr th:only-of-type {\n        vertical-align: middle;\n    }\n\n    .dataframe tbody tr th {\n        vertical-align: top;\n    }\n\n    .dataframe thead th {\n        text-align: right;\n    }\n</style>\n<table border=\"1\" class=\"dataframe\">\n  <thead>\n    <tr style=\"text-align: right;\">\n      <th></th>\n      <th>mt_id</th>\n      <th>wage_mturk</th>\n      <th>accepted</th>\n      <th>stage2_creation</th>\n      <th>stage2_creation_str</th>\n      <th>stage2_accept_time</th>\n      <th>stage2_submit_time</th>\n      <th>lwage</th>\n      <th>age</th>\n      <th>onlinehrs_str</th>\n      <th>...</th>\n      <th>generated_jobtitle_26</th>\n      <th>generated_jobtitle_27</th>\n      <th>generated_jobtitle_28</th>\n      <th>generated_jobtitle_29</th>\n      <th>generated_jobtitle_30</th>\n      <th>qualtrics_source</th>\n      <th>_merge</th>\n      <th>result</th>\n      <th>stage1_accept_submit_gap</th>\n      <th>stage2_accept_submit_gap</th>\n    </tr>\n  </thead>\n  <tbody>\n    <tr>\n      <th>0</th>\n      <td>A101J0P2UYUKA1</td>\n      <td>1.05</td>\n      <td>1</td>\n      <td>2022-10-13 15:32:15</td>\n      <td>2022-10-13 15:32:15-07:00</td>\n      <td>2022-10-13 15:41:19-07:00</td>\n      <td>2022-10-13 15:48:31-07:00</td>\n      <td>0.048790</td>\n      <td>23</td>\n      <td>40</td>\n      <td>...</td>\n      <td>INFORMATION TECHNOLOGY</td>\n      <td>INFORMATION TECHNOLOGY</td>\n      <td>INFORMATION TECHNOLOGY</td>\n      <td>INFORMATION TECHNOLOGY</td>\n      <td>INFORMATION TECHNOLOGY</td>\n      <td>Job+Quality+NonWM+13.0_October+15,+2022_18.07....</td>\n      <td>both</td>\n      <td>finished_survey</td>\n      <td>0 days 00:01:55</td>\n      <td>0 days 00:07:12</td>\n    </tr>\n    <tr>\n      <th>1</th>\n      <td>A10AKR84P1WXHL</td>\n      <td>0.98</td>\n      <td>1</td>\n      <td>2022-10-03 22:26:00</td>\n      <td>2022-10-03 22:26:00-07:00</td>\n      <td>2022-10-03 22:28:30-07:00</td>\n      <td>2022-10-03 23:05:39-07:00</td>\n      <td>-0.020203</td>\n      <td>27</td>\n      <td>36</td>\n      <td>...</td>\n      <td>Healthcare</td>\n      <td>Healthcare</td>\n      <td>Healthcare</td>\n      <td>Healthcare</td>\n      <td>Healthcare</td>\n      <td>Job+Quality+NonWM+13.0_October+15,+2022_18.07....</td>\n      <td>both</td>\n      <td>finished_survey</td>\n      <td>0 days 00:09:33</td>\n      <td>0 days 00:37:09</td>\n    </tr>\n    <tr>\n      <th>2</th>\n      <td>A10W3EILX06DFO</td>\n      <td>0.50</td>\n      <td>1</td>\n      <td>2022-10-13 17:29:28</td>\n      <td>2022-10-13 17:29:28-07:00</td>\n      <td>2022-10-13 18:07:12-07:00</td>\n      <td>2022-10-13 19:03:30-07:00</td>\n      <td>-0.693147</td>\n      <td>35</td>\n      <td>40</td>\n      <td>...</td>\n      <td>IT</td>\n      <td>IT</td>\n      <td>IT</td>\n      <td>IT</td>\n      <td>IT</td>\n      <td>Job+Quality+NonWM+13.0_October+15,+2022_18.07....</td>\n      <td>both</td>\n      <td>finished_survey</td>\n      <td>0 days 00:02:44</td>\n      <td>0 days 00:56:18</td>\n    </tr>\n    <tr>\n      <th>3</th>\n      <td>A114Q54Z648PKO</td>\n      <td>1.05</td>\n      <td>1</td>\n      <td>2022-10-13 18:37:57</td>\n      <td>2022-10-13 18:37:57-07:00</td>\n      <td>2022-10-13 19:41:48-07:00</td>\n      <td>2022-10-13 20:30:31-07:00</td>\n      <td>0.048790</td>\n      <td>25</td>\n      <td>8</td>\n      <td>...</td>\n      <td>nan</td>\n      <td>nan</td>\n      <td>nan</td>\n      <td>nan</td>\n      <td>nan</td>\n      <td>Job+Quality+NonWM+13.0_October+15,+2022_18.07....</td>\n      <td>both</td>\n      <td>did_not_finish</td>\n      <td>0 days 00:24:13</td>\n      <td>0 days 00:48:43</td>\n    </tr>\n    <tr>\n      <th>4</th>\n      <td>A1198W1SPF1R4</td>\n      <td>1.02</td>\n      <td>0</td>\n      <td>2022-10-07 14:06:16</td>\n      <td>2022-10-07 14:06:16-07:00</td>\n      <td>NaT</td>\n      <td>NaT</td>\n      <td>0.019803</td>\n      <td>54</td>\n      <td>40</td>\n      <td>...</td>\n      <td>nan</td>\n      <td>nan</td>\n      <td>nan</td>\n      <td>nan</td>\n      <td>nan</td>\n      <td>Job+Quality+NonWM+13.0_October+15,+2022_18.07....</td>\n      <td>both</td>\n      <td>did_not_finish</td>\n      <td>0 days 00:03:08</td>\n      <td>NaT</td>\n    </tr>\n    <tr>\n      <th>...</th>\n      <td>...</td>\n      <td>...</td>\n      <td>...</td>\n      <td>...</td>\n      <td>...</td>\n      <td>...</td>\n      <td>...</td>\n      <td>...</td>\n      <td>...</td>\n      <td>...</td>\n      <td>...</td>\n      <td>...</td>\n      <td>...</td>\n      <td>...</td>\n      <td>...</td>\n      <td>...</td>\n      <td>...</td>\n      <td>...</td>\n      <td>...</td>\n      <td>...</td>\n      <td>...</td>\n    </tr>\n    <tr>\n      <th>795</th>\n      <td>AZFXFW2ZDX54B</td>\n      <td>1.00</td>\n      <td>1</td>\n      <td>2022-10-14 18:56:27</td>\n      <td>2022-10-14 18:56:27-07:00</td>\n      <td>2022-10-15 10:20:48-07:00</td>\n      <td>2022-10-15 10:39:45-07:00</td>\n      <td>0.000000</td>\n      <td>25</td>\n      <td>120</td>\n      <td>...</td>\n      <td>Marketing Manager</td>\n      <td>Marketing Manager</td>\n      <td>Marketing Manager</td>\n      <td>Marketing Manager</td>\n      <td>Marketing Manager</td>\n      <td>Job+Quality+NonWM+13.0_October+15,+2022_18.07....</td>\n      <td>both</td>\n      <td>finished_survey</td>\n      <td>0 days 00:09:51</td>\n      <td>0 days 00:18:57</td>\n    </tr>\n    <tr>\n      <th>796</th>\n      <td>AZH32KEBRPRES</td>\n      <td>0.98</td>\n      <td>1</td>\n      <td>2022-10-03 22:20:25</td>\n      <td>2022-10-03 22:20:25-07:00</td>\n      <td>2022-10-03 22:22:15-07:00</td>\n      <td>2022-10-03 22:47:16-07:00</td>\n      <td>-0.020203</td>\n      <td>32</td>\n      <td>25</td>\n      <td>...</td>\n      <td>ADMIN</td>\n      <td>ADMIN</td>\n      <td>ADMIN</td>\n      <td>ADMIN</td>\n      <td>ADMIN</td>\n      <td>Job+Quality+NonWM+13.0_October+15,+2022_18.07....</td>\n      <td>both</td>\n      <td>finished_survey</td>\n      <td>0 days 00:04:01</td>\n      <td>0 days 00:25:01</td>\n    </tr>\n    <tr>\n      <th>797</th>\n      <td>AZNWVHY3AUSNT</td>\n      <td>0.95</td>\n      <td>1</td>\n      <td>2022-10-10 22:04:06</td>\n      <td>2022-10-10 22:04:06-07:00</td>\n      <td>2022-10-10 22:07:03-07:00</td>\n      <td>2022-10-10 22:32:03-07:00</td>\n      <td>-0.051293</td>\n      <td>51</td>\n      <td>48</td>\n      <td>...</td>\n      <td>Middle level manager</td>\n      <td>Middle level manager</td>\n      <td>Middle level manager</td>\n      <td>Middle level manager</td>\n      <td>Middle level manager</td>\n      <td>Job+Quality+NonWM+13.0_October+15,+2022_18.07....</td>\n      <td>both</td>\n      <td>finished_survey</td>\n      <td>0 days 00:02:41</td>\n      <td>0 days 00:25:00</td>\n    </tr>\n    <tr>\n      <th>798</th>\n      <td>AZPXDIOTEH989</td>\n      <td>0.50</td>\n      <td>1</td>\n      <td>2022-10-13 15:32:47</td>\n      <td>2022-10-13 15:32:47-07:00</td>\n      <td>2022-10-13 15:37:33-07:00</td>\n      <td>2022-10-13 15:58:15-07:00</td>\n      <td>-0.693147</td>\n      <td>25</td>\n      <td>35</td>\n      <td>...</td>\n      <td>information technology</td>\n      <td>information technology</td>\n      <td>information technology</td>\n      <td>information technology</td>\n      <td>information technology</td>\n      <td>Job+Quality+NonWM+13.0_October+15,+2022_18.07....</td>\n      <td>both</td>\n      <td>finished_survey</td>\n      <td>0 days 00:24:52</td>\n      <td>0 days 00:20:42</td>\n    </tr>\n    <tr>\n      <th>799</th>\n      <td>AZSBLMZUI0BRC</td>\n      <td>1.02</td>\n      <td>0</td>\n      <td>2022-10-13 15:32:06</td>\n      <td>2022-10-13 15:32:06-07:00</td>\n      <td>NaT</td>\n      <td>NaT</td>\n      <td>0.019803</td>\n      <td>25</td>\n      <td>10</td>\n      <td>...</td>\n      <td>nan</td>\n      <td>nan</td>\n      <td>nan</td>\n      <td>nan</td>\n      <td>nan</td>\n      <td>Job+Quality+NonWM+13.0_October+15,+2022_18.07....</td>\n      <td>both</td>\n      <td>did_not_finish</td>\n      <td>0 days 00:01:08</td>\n      <td>NaT</td>\n    </tr>\n  </tbody>\n</table>\n<p>800 rows × 527 columns</p>\n</div>"
     },
     "execution_count": 8,
     "metadata": {},
     "output_type": "execute_result"
    }
   ],
   "source": [
    "df"
   ],
   "metadata": {
    "collapsed": false,
    "pycharm": {
     "name": "#%%\n"
    }
   }
  },
  {
   "cell_type": "code",
   "execution_count": 9,
   "outputs": [],
   "source": [
    "df = df.applymap(lambda x: unidecode.unidecode(x) if type(x) == str else x)"
   ],
   "metadata": {
    "collapsed": false,
    "pycharm": {
     "name": "#%%\n"
    }
   }
  },
  {
   "cell_type": "code",
   "execution_count": 10,
   "outputs": [
    {
     "data": {
      "text/plain": "mt_id                                object\nwage_mturk                           object\naccepted                              int64\nstage2_creation              datetime64[ns]\nstage2_creation_str                  object\n                                 ...       \nqualtrics_source                     object\n_merge                               object\nresult                               object\nstage1_accept_submit_gap    timedelta64[ns]\nstage2_accept_submit_gap    timedelta64[ns]\nLength: 527, dtype: object"
     },
     "execution_count": 10,
     "metadata": {},
     "output_type": "execute_result"
    }
   ],
   "source": [
    "df.dtypes"
   ],
   "metadata": {
    "collapsed": false,
    "pycharm": {
     "name": "#%%\n"
    }
   }
  },
  {
   "cell_type": "code",
   "execution_count": 11,
   "outputs": [],
   "source": [
    "df['stage1_accept_time'] = df['stage1_accept_time'].apply(str)\n",
    "df['stage1_submit_time'] = df['stage1_submit_time'].apply(str)\n",
    "df['stage2_creation'] = df['stage2_creation'].apply(str)\n",
    "df['stage2_accept_time'] = df['stage2_accept_time'].apply(str)\n",
    "df['stage2_submit_time'] = df['stage2_submit_time'].apply(str)\n",
    "df['stage1_accept_submit_gap'] = df['stage1_accept_submit_gap'].apply(str)\n",
    "df['stage2_accept_submit_gap'] = df['stage2_accept_submit_gap'].apply(str)"
   ],
   "metadata": {
    "collapsed": false,
    "pycharm": {
     "name": "#%%\n"
    }
   }
  },
  {
   "cell_type": "code",
   "execution_count": 12,
   "outputs": [
    {
     "data": {
      "text/plain": "mt_id                       object\nwage_mturk                  object\naccepted                     int64\nstage2_creation             object\nstage2_creation_str         object\n                             ...  \nqualtrics_source            object\n_merge                      object\nresult                      object\nstage1_accept_submit_gap    object\nstage2_accept_submit_gap    object\nLength: 527, dtype: object"
     },
     "execution_count": 12,
     "metadata": {},
     "output_type": "execute_result"
    }
   ],
   "source": [
    "df.dtypes"
   ],
   "metadata": {
    "collapsed": false,
    "pycharm": {
     "name": "#%%\n"
    }
   }
  },
  {
   "cell_type": "code",
   "execution_count": 13,
   "id": "60729b68-694d-4cd4-a272-5c6139d5dde2",
   "metadata": {
    "pycharm": {
     "name": "#%%\n"
    }
   },
   "outputs": [],
   "source": [
    "df.to_stata(f\"../results_2stage/pilot_results_labels_{timestamp}.dta\",\n",
    "            variable_labels=labels, version=117)"
   ]
  },
  {
   "cell_type": "code",
   "execution_count": null,
   "id": "e71ed8d0-b38c-4cb0-ab9f-da5885735789",
   "metadata": {
    "pycharm": {
     "name": "#%%\n"
    }
   },
   "outputs": [],
   "source": []
  }
 ],
 "metadata": {
  "kernelspec": {
   "display_name": "Python 3",
   "language": "python",
   "name": "python3"
  },
  "language_info": {
   "codemirror_mode": {
    "name": "ipython",
    "version": 3
   },
   "file_extension": ".py",
   "mimetype": "text/x-python",
   "name": "python",
   "nbconvert_exporter": "python",
   "pygments_lexer": "ipython3",
   "version": "3.9.2"
  }
 },
 "nbformat": 4,
 "nbformat_minor": 5
}