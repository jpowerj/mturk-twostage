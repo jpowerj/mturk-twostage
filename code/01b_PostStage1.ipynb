{
 "cells": [
  {
   "cell_type": "code",
   "execution_count": 1,
   "id": "e16ef1f8-c3a1-482a-85b7-460c676f6dd6",
   "metadata": {
    "tags": [],
    "pycharm": {
     "name": "#%%\n"
    }
   },
   "outputs": [],
   "source": [
    "%load_ext autoreload\n",
    "%autoreload 2"
   ]
  },
  {
   "cell_type": "code",
   "execution_count": 2,
   "id": "adjacent-lithuania",
   "metadata": {
    "tags": [],
    "pycharm": {
     "name": "#%%\n"
    }
   },
   "outputs": [],
   "source": [
    "import os\n",
    "\n",
    "import dotenv\n",
    "\n",
    "from mtclient import MTClient\n",
    "import mtglobals"
   ]
  },
  {
   "cell_type": "code",
   "execution_count": 3,
   "id": "upset-lawrence",
   "metadata": {
    "execution": {
     "iopub.execute_input": "2022-02-01T03:10:50.130980Z",
     "iopub.status.busy": "2022-02-01T03:10:50.130980Z",
     "iopub.status.idle": "2022-02-01T03:10:50.727485Z",
     "shell.execute_reply": "2022-02-01T03:10:50.727485Z",
     "shell.execute_reply.started": "2022-02-01T03:10:50.130980Z"
    },
    "tags": [],
    "pycharm": {
     "name": "#%%\n"
    }
   },
   "outputs": [
    {
     "name": "stdout",
     "output_type": "stream",
     "text": [
      "Loading environment variables from .env\n",
      "Using LIVE MTurk requester API\n",
      "Your account balance is 4775.12\n"
     ]
    }
   ],
   "source": [
    "client = MTClient()"
   ]
  },
  {
   "cell_type": "markdown",
   "id": "adcf38e8-3b38-4ba3-9fec-b57947243bcc",
   "metadata": {
    "pycharm": {
     "name": "#%% md\n"
    }
   },
   "source": [
    "### (a) Load the stage-1 task XML data"
   ]
  },
  {
   "cell_type": "code",
   "execution_count": 4,
   "id": "virtual-remark",
   "metadata": {
    "tags": [],
    "pycharm": {
     "name": "#%%\n"
    }
   },
   "outputs": [],
   "source": [
    "# The question we ask the workers in the *first* stage is contained in this file.\n",
    "dotenv.load_dotenv(mtglobals.dotenv_fpath, override=True)\n",
    "stage1_html_fpath = os.getenv(\"STAGE1_HTML_FPATH\")\n",
    "# Wrap the html in the XML format required by MTurk\n",
    "stage1_xml_fpath = mtglobals.gen_xml(stage1_html_fpath)\n",
    "with open(stage1_xml_fpath, \"r\", encoding='utf-8') as f:\n",
    "    stage1_question = f.read()"
   ]
  },
  {
   "cell_type": "markdown",
   "id": "7224a348-6cec-4ec2-a3c4-0c4e23021435",
   "metadata": {
    "pycharm": {
     "name": "#%% md\n"
    }
   },
   "source": [
    "### (b) Set up the two requirements for the stage-1 task\n",
    "\n",
    "(The first is that they're in the US, the second that they have *not* been assigned the `Workplace_Survey_Participant` qual before)"
   ]
  },
  {
   "cell_type": "code",
   "execution_count": 5,
   "outputs": [
    {
     "data": {
      "text/plain": "'3ACE7X5EFA17IX9O66OVG7YL1JYEN7'"
     },
     "execution_count": 5,
     "metadata": {},
     "output_type": "execute_result"
    }
   ],
   "source": [
    "# Get the participation qual id from the .env file\n",
    "#print(dotenv.dotenv_values(mtglobals.dotenv_fpath))\n",
    "dotenv.load_dotenv(mtglobals.dotenv_fpath, override=True)\n",
    "participation_qual_id = os.getenv(\"PARTICIPATION_QUAL_ID\")\n",
    "participation_qual_id"
   ],
   "metadata": {
    "collapsed": false,
    "pycharm": {
     "name": "#%%\n"
    }
   }
  },
  {
   "cell_type": "code",
   "execution_count": 6,
   "id": "bright-ferry",
   "metadata": {
    "execution": {
     "iopub.execute_input": "2022-02-01T03:10:51.747005Z",
     "iopub.status.busy": "2022-02-01T03:10:51.747005Z",
     "iopub.status.idle": "2022-02-01T03:10:51.783292Z",
     "shell.execute_reply": "2022-02-01T03:10:51.783292Z",
     "shell.execute_reply.started": "2022-02-01T03:10:51.747005Z"
    },
    "tags": [],
    "pycharm": {
     "name": "#%%\n"
    }
   },
   "outputs": [],
   "source": [
    "# Example of using qualification to restrict responses to Workers who have had\n",
    "# at least 80% of their assignments approved. See:\n",
    "# http://docs.aws.amazon.com/AWSMechTurk/latest/AWSMturkAPI/ApiReference_QualificationRequirementDataStructureArticle.html#ApiReference_QualificationType-IDs\n",
    "stage1_requirements = [\n",
    "    {\n",
    "        # MTurk-provided qual id for restricting by country\n",
    "        'QualificationTypeId':\"00000000000000000071\",\n",
    "        'Comparator':\"EqualTo\",\n",
    "        'LocaleValues':[{\n",
    "            'Country':\"US\"\n",
    "        }]\n",
    "    },\n",
    "    {\n",
    "        # Workplace_Survey_Participant qual id\n",
    "        'QualificationTypeId': participation_qual_id,\n",
    "        'Comparator': 'DoesNotExist',\n",
    "    }\n",
    "]"
   ]
  },
  {
   "cell_type": "markdown",
   "id": "d98588ff-bb77-4843-ba47-03977a4c7787",
   "metadata": {
    "pycharm": {
     "name": "#%% md\n"
    }
   },
   "source": [
    "### (c) Create and launch the HIT via the API"
   ]
  },
  {
   "cell_type": "code",
   "execution_count": 7,
   "id": "worldwide-boating",
   "metadata": {
    "execution": {
     "iopub.execute_input": "2022-02-01T03:10:52.567403Z",
     "iopub.status.busy": "2022-02-01T03:10:52.566414Z",
     "iopub.status.idle": "2022-02-01T03:10:52.870803Z",
     "shell.execute_reply": "2022-02-01T03:10:52.869748Z",
     "shell.execute_reply.started": "2022-02-01T03:10:52.567403Z"
    },
    "tags": [],
    "pycharm": {
     "name": "#%%\n"
    }
   },
   "outputs": [],
   "source": [
    "# Create the HIT\n",
    "stage1_title = 'Quick 3-question survey about work [<15 seconds], instantly unlock 2nd-stage HIT with higher reward'\n",
    "stage1_description = 'Quick <15 second survey about workplace conditions, upon submission will receive email with 2nd-stage HIT with higher reward'\n",
    "stage1_keywords = 'survey,workplace,work'\n",
    "# Get the reward amount from the .env file\n",
    "dotenv.load_dotenv(mtglobals.dotenv_fpath, override=True)\n",
    "stage1_reward = os.getenv(\"STAGE1_REWARD\")"
   ]
  },
  {
   "cell_type": "markdown",
   "source": [
    "## CAUTION: Only run if you're sure all parameters are set correctly"
   ],
   "metadata": {
    "collapsed": false,
    "pycharm": {
     "name": "#%% md\n"
    }
   }
  },
  {
   "cell_type": "code",
   "execution_count": 8,
   "outputs": [],
   "source": [
    "num_hits = 100"
   ],
   "metadata": {
    "collapsed": false,
    "pycharm": {
     "name": "#%%\n"
    }
   }
  },
  {
   "cell_type": "code",
   "execution_count": 9,
   "outputs": [
    {
     "name": "stdout",
     "output_type": "stream",
     "text": [
      "Created 100 HITs, with HITId: 3TZDZ3Y0JT7UM6OA2VTTFBZ9X0G915\n",
      "\n",
      "You can work the HIT here:\n",
      "https://www.mturk.com/mturk/preview?groupId=3IYH2PD9CAK8WJ2510OXIQAXEIJITO\n"
     ]
    }
   ],
   "source": [
    "response = client.create_hit(num_hits, stage1_reward, stage1_title, stage1_description,\n",
    "                             stage1_keywords, stage1_question, stage1_requirements)\n",
    "# The response includes several fields that will be helpful later\n",
    "hit_type_id = response['HIT']['HITTypeId']\n",
    "hit_id = response['HIT']['HITId']\n",
    "print(f\"Created {num_hits} HITs, with HITId: {hit_id}\")\n",
    "print(\"\\nYou can work the HIT here:\")\n",
    "print(client.mturk_environment['preview_url'] + f\"?groupId={hit_type_id}\")"
   ],
   "metadata": {
    "collapsed": false,
    "pycharm": {
     "name": "#%%\n"
    }
   }
  },
  {
   "cell_type": "markdown",
   "id": "f403a1fb-7e76-4eb3-a9ed-c930240ad9d6",
   "metadata": {
    "pycharm": {
     "name": "#%% md\n"
    }
   },
   "source": [
    "### Now run 01c_MonitorStage1.ipynb"
   ]
  },
  {
   "cell_type": "code",
   "execution_count": 9,
   "outputs": [],
   "source": [],
   "metadata": {
    "collapsed": false,
    "pycharm": {
     "name": "#%%\n"
    }
   }
  },
  {
   "cell_type": "markdown",
   "source": [
    "In case of accidental launch, you can use the following code to cancel any not-already-accepted HITs"
   ],
   "metadata": {
    "collapsed": false,
    "pycharm": {
     "name": "#%% md\n"
    }
   }
  },
  {
   "cell_type": "code",
   "execution_count": 11,
   "outputs": [],
   "source": [
    "from datetime import datetime"
   ],
   "metadata": {
    "collapsed": false,
    "pycharm": {
     "name": "#%%\n"
    }
   }
  },
  {
   "cell_type": "code",
   "execution_count": 40,
   "outputs": [],
   "source": [
    "all_hits = client.boto_client.list_hits()['HITs']"
   ],
   "metadata": {
    "collapsed": false,
    "pycharm": {
     "name": "#%%\n"
    }
   }
  },
  {
   "cell_type": "code",
   "execution_count": 41,
   "outputs": [],
   "source": [
    "hit_obj = all_hits[0]"
   ],
   "metadata": {
    "collapsed": false,
    "pycharm": {
     "name": "#%%\n"
    }
   }
  },
  {
   "cell_type": "code",
   "execution_count": 43,
   "outputs": [
    {
     "name": "stdout",
     "output_type": "stream",
     "text": [
      "HITId: 3EHIMLB7GKKSFG8JX9I12SH0EU48H4\n"
     ]
    }
   ],
   "source": [
    "hit_id=hit_obj['HITId']"
   ],
   "metadata": {
    "collapsed": false,
    "pycharm": {
     "name": "#%%\n"
    }
   }
  },
  {
   "cell_type": "code",
   "execution_count": 44,
   "outputs": [
    {
     "name": "stdout",
     "output_type": "stream",
     "text": [
      "HITStatus: Unassignable\n"
     ]
    }
   ],
   "source": [
    "# Get HIT status\n",
    "status=client.boto_client.get_hit(HITId=hit_id)['HIT']['HITStatus']\n",
    "print('HITStatus:', status)"
   ],
   "metadata": {
    "collapsed": false,
    "pycharm": {
     "name": "#%%\n"
    }
   }
  },
  {
   "cell_type": "code",
   "execution_count": 45,
   "outputs": [],
   "source": [
    "#client.boto_client.get_hit(HITId=hit_id)['HIT']"
   ],
   "metadata": {
    "collapsed": false,
    "pycharm": {
     "name": "#%%\n"
    }
   }
  },
  {
   "cell_type": "code",
   "execution_count": 46,
   "outputs": [],
   "source": [
    "subs = mtglobals.get_hit_submissions(client.boto_client, hit_id)"
   ],
   "metadata": {
    "collapsed": false,
    "pycharm": {
     "name": "#%%\n"
    }
   }
  },
  {
   "cell_type": "code",
   "execution_count": 36,
   "outputs": [],
   "source": [
    "from collections import Counter"
   ],
   "metadata": {
    "collapsed": false,
    "pycharm": {
     "name": "#%%\n"
    }
   }
  },
  {
   "cell_type": "code",
   "execution_count": 38,
   "outputs": [],
   "source": [
    "status_list = []\n",
    "for cur_sub in subs:\n",
    "    cur_status = cur_sub['AssignmentStatus']\n",
    "    status_list.append(cur_status)"
   ],
   "metadata": {
    "collapsed": false,
    "pycharm": {
     "name": "#%%\n"
    }
   }
  },
  {
   "cell_type": "code",
   "execution_count": 39,
   "outputs": [
    {
     "data": {
      "text/plain": "Counter({'Submitted': 100})"
     },
     "execution_count": 39,
     "metadata": {},
     "output_type": "execute_result"
    }
   ],
   "source": [
    "status_count = Counter(status_list)\n",
    "status_count"
   ],
   "metadata": {
    "collapsed": false,
    "pycharm": {
     "name": "#%%\n"
    }
   }
  },
  {
   "cell_type": "code",
   "execution_count": 47,
   "outputs": [],
   "source": [
    "#client.boto_client.list_assignments_for_hit(HITId=hit_id)"
   ],
   "metadata": {
    "collapsed": false,
    "pycharm": {
     "name": "#%%\n"
    }
   }
  },
  {
   "cell_type": "code",
   "execution_count": 48,
   "outputs": [],
   "source": [
    "# If HIT is active then set it to expire immediately\n",
    "if status=='Assignable':\n",
    "    response = client.boto_client.update_expiration_for_hit(\n",
    "        HITId=hit_id,\n",
    "        ExpireAt=datetime(2015, 1, 1)\n",
    "    )"
   ],
   "metadata": {
    "collapsed": false,
    "pycharm": {
     "name": "#%%\n"
    }
   }
  },
  {
   "cell_type": "code",
   "execution_count": 49,
   "outputs": [
    {
     "ename": "RequestError",
     "evalue": "An error occurred (RequestError) when calling the DeleteHIT operation: This HIT is currently in the state 'Unassignable'.  This operation can be called with a status of: Reviewing, Reviewable (1663803569617)",
     "output_type": "error",
     "traceback": [
      "\u001B[1;31m---------------------------------------------------------------------------\u001B[0m",
      "\u001B[1;31mRequestError\u001B[0m                              Traceback (most recent call last)",
      "Input \u001B[1;32mIn [49]\u001B[0m, in \u001B[0;36m<cell line: 1>\u001B[1;34m()\u001B[0m\n\u001B[1;32m----> 1\u001B[0m \u001B[43mclient\u001B[49m\u001B[38;5;241;43m.\u001B[39;49m\u001B[43mboto_client\u001B[49m\u001B[38;5;241;43m.\u001B[39;49m\u001B[43mdelete_hit\u001B[49m\u001B[43m(\u001B[49m\u001B[43mHITId\u001B[49m\u001B[38;5;241;43m=\u001B[39;49m\u001B[43mhit_id\u001B[49m\u001B[43m)\u001B[49m\n",
      "File \u001B[1;32m~\\lib\\site-packages\\botocore\\client.py:508\u001B[0m, in \u001B[0;36mClientCreator._create_api_method.<locals>._api_call\u001B[1;34m(self, *args, **kwargs)\u001B[0m\n\u001B[0;32m    504\u001B[0m     \u001B[38;5;28;01mraise\u001B[39;00m \u001B[38;5;167;01mTypeError\u001B[39;00m(\n\u001B[0;32m    505\u001B[0m         \u001B[38;5;124mf\u001B[39m\u001B[38;5;124m\"\u001B[39m\u001B[38;5;132;01m{\u001B[39;00mpy_operation_name\u001B[38;5;132;01m}\u001B[39;00m\u001B[38;5;124m() only accepts keyword arguments.\u001B[39m\u001B[38;5;124m\"\u001B[39m\n\u001B[0;32m    506\u001B[0m     )\n\u001B[0;32m    507\u001B[0m \u001B[38;5;66;03m# The \"self\" in this scope is referring to the BaseClient.\u001B[39;00m\n\u001B[1;32m--> 508\u001B[0m \u001B[38;5;28;01mreturn\u001B[39;00m \u001B[38;5;28;43mself\u001B[39;49m\u001B[38;5;241;43m.\u001B[39;49m\u001B[43m_make_api_call\u001B[49m\u001B[43m(\u001B[49m\u001B[43moperation_name\u001B[49m\u001B[43m,\u001B[49m\u001B[43m \u001B[49m\u001B[43mkwargs\u001B[49m\u001B[43m)\u001B[49m\n",
      "File \u001B[1;32m~\\lib\\site-packages\\botocore\\client.py:915\u001B[0m, in \u001B[0;36mBaseClient._make_api_call\u001B[1;34m(self, operation_name, api_params)\u001B[0m\n\u001B[0;32m    913\u001B[0m     error_code \u001B[38;5;241m=\u001B[39m parsed_response\u001B[38;5;241m.\u001B[39mget(\u001B[38;5;124m\"\u001B[39m\u001B[38;5;124mError\u001B[39m\u001B[38;5;124m\"\u001B[39m, {})\u001B[38;5;241m.\u001B[39mget(\u001B[38;5;124m\"\u001B[39m\u001B[38;5;124mCode\u001B[39m\u001B[38;5;124m\"\u001B[39m)\n\u001B[0;32m    914\u001B[0m     error_class \u001B[38;5;241m=\u001B[39m \u001B[38;5;28mself\u001B[39m\u001B[38;5;241m.\u001B[39mexceptions\u001B[38;5;241m.\u001B[39mfrom_code(error_code)\n\u001B[1;32m--> 915\u001B[0m     \u001B[38;5;28;01mraise\u001B[39;00m error_class(parsed_response, operation_name)\n\u001B[0;32m    916\u001B[0m \u001B[38;5;28;01melse\u001B[39;00m:\n\u001B[0;32m    917\u001B[0m     \u001B[38;5;28;01mreturn\u001B[39;00m parsed_response\n",
      "\u001B[1;31mRequestError\u001B[0m: An error occurred (RequestError) when calling the DeleteHIT operation: This HIT is currently in the state 'Unassignable'.  This operation can be called with a status of: Reviewing, Reviewable (1663803569617)"
     ]
    }
   ],
   "source": [
    "client.boto_client.delete_hit(HITId=hit_id)"
   ],
   "metadata": {
    "collapsed": false,
    "pycharm": {
     "name": "#%%\n"
    }
   }
  },
  {
   "cell_type": "code",
   "execution_count": 50,
   "outputs": [
    {
     "name": "stdout",
     "output_type": "stream",
     "text": [
      "Not deleted\n"
     ]
    }
   ],
   "source": [
    "# Delete the HIT\n",
    "try:\n",
    "    client.boto_client.delete_hit(HITId=hit_id)\n",
    "except:\n",
    "    print('Not deleted')\n",
    "else:\n",
    "    print('Deleted')"
   ],
   "metadata": {
    "collapsed": false,
    "pycharm": {
     "name": "#%%\n"
    }
   }
  },
  {
   "cell_type": "code",
   "execution_count": null,
   "outputs": [],
   "source": [],
   "metadata": {
    "collapsed": false,
    "pycharm": {
     "name": "#%%\n"
    }
   }
  }
 ],
 "metadata": {
  "kernelspec": {
   "display_name": "Python 3 (ipykernel)",
   "language": "python",
   "name": "python3"
  },
  "language_info": {
   "codemirror_mode": {
    "name": "ipython",
    "version": 3
   },
   "file_extension": ".py",
   "mimetype": "text/x-python",
   "name": "python",
   "nbconvert_exporter": "python",
   "pygments_lexer": "ipython3",
   "version": "3.9.7"
  }
 },
 "nbformat": 4,
 "nbformat_minor": 5
}