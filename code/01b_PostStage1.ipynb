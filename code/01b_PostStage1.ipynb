{
 "cells": [
  {
   "cell_type": "code",
   "execution_count": 1,
   "id": "e16ef1f8-c3a1-482a-85b7-460c676f6dd6",
   "metadata": {
    "tags": []
   },
   "outputs": [],
   "source": [
    "%load_ext autoreload\n",
    "%autoreload 2"
   ]
  },
  {
   "cell_type": "code",
   "execution_count": 2,
   "id": "adjacent-lithuania",
   "metadata": {
    "tags": []
   },
   "outputs": [],
   "source": [
    "import sys\n",
    "\n",
    "import pandas as pd\n",
    "import numpy as np\n",
    "import joblib\n",
    "\n",
    "import mtglobals"
   ]
  },
  {
   "cell_type": "code",
   "execution_count": 4,
   "id": "upset-lawrence",
   "metadata": {
    "execution": {
     "iopub.execute_input": "2022-02-01T03:10:50.130980Z",
     "iopub.status.busy": "2022-02-01T03:10:50.130980Z",
     "iopub.status.idle": "2022-02-01T03:10:50.727485Z",
     "shell.execute_reply": "2022-02-01T03:10:50.727485Z",
     "shell.execute_reply.started": "2022-02-01T03:10:50.130980Z"
    },
    "tags": []
   },
   "outputs": [
    {
     "name": "stdout",
     "output_type": "stream",
     "text": [
      "Your account balance is 500000.00\n"
     ]
    }
   ],
   "source": [
    "client, mt_env = mtglobals.gen_client()"
   ]
  },
  {
   "cell_type": "markdown",
   "id": "adcf38e8-3b38-4ba3-9fec-b57947243bcc",
   "metadata": {},
   "source": [
    "### (a) Load the stage-1 task XML data"
   ]
  },
  {
   "cell_type": "code",
   "execution_count": 3,
   "id": "virtual-remark",
   "metadata": {
    "tags": []
   },
   "outputs": [],
   "source": [
    "# The question we ask the workers is contained in this file.\n",
    "with open(\"question_stage1.xml\", \"r\", encoding='utf-8') as f:\n",
    "    stage1_question = f.read()"
   ]
  },
  {
   "cell_type": "markdown",
   "id": "7224a348-6cec-4ec2-a3c4-0c4e23021435",
   "metadata": {},
   "source": [
    "### (b) Set up the two requirements for the stage-1 task\n",
    "\n",
    "(The first is that they're in the US, the second that they have *not* been assigned the `Workplace_Survey_Participant` qual before)"
   ]
  },
  {
   "cell_type": "code",
   "execution_count": 6,
   "id": "bright-ferry",
   "metadata": {
    "execution": {
     "iopub.execute_input": "2022-02-01T03:10:51.747005Z",
     "iopub.status.busy": "2022-02-01T03:10:51.747005Z",
     "iopub.status.idle": "2022-02-01T03:10:51.783292Z",
     "shell.execute_reply": "2022-02-01T03:10:51.783292Z",
     "shell.execute_reply.started": "2022-02-01T03:10:51.747005Z"
    },
    "tags": []
   },
   "outputs": [],
   "source": [
    "# Example of using qualification to restrict responses to Workers who have had\n",
    "# at least 80% of their assignments approved. See:\n",
    "# http://docs.aws.amazon.com/AWSMechTurk/latest/AWSMturkAPI/ApiReference_QualificationRequirementDataStructureArticle.html#ApiReference_QualificationType-IDs\n",
    "stage1_requirements = [\n",
    "    {\n",
    "        # MTurk-provided qual id for restricting by country\n",
    "        'QualificationTypeId':\"00000000000000000071\",\n",
    "        'Comparator':\"EqualTo\",\n",
    "        'LocaleValues':[{\n",
    "            'Country':\"US\"\n",
    "        }]\n",
    "    },\n",
    "    {\n",
    "        # Workplace_Survey_Participant qual id\n",
    "        'QualificationTypeId': mtglobals.participant_qual_id,\n",
    "        'Comparator': 'DoesNotExist',\n",
    "    }\n",
    "]"
   ]
  },
  {
   "cell_type": "markdown",
   "id": "d98588ff-bb77-4843-ba47-03977a4c7787",
   "metadata": {},
   "source": [
    "### (c) Create and launch the HIT via the API"
   ]
  },
  {
   "cell_type": "code",
   "execution_count": 7,
   "id": "worldwide-boating",
   "metadata": {
    "execution": {
     "iopub.execute_input": "2022-02-01T03:10:52.567403Z",
     "iopub.status.busy": "2022-02-01T03:10:52.566414Z",
     "iopub.status.idle": "2022-02-01T03:10:52.870803Z",
     "shell.execute_reply": "2022-02-01T03:10:52.869748Z",
     "shell.execute_reply.started": "2022-02-01T03:10:52.567403Z"
    },
    "tags": []
   },
   "outputs": [],
   "source": [
    "# Create the HIT\n",
    "response = client.create_hit(\n",
    "    MaxAssignments=mtglobals.num_hits,\n",
    "    LifetimeInSeconds=86400, # 24 hours\n",
    "    AssignmentDurationInSeconds=3600, # 1 hour\n",
    "    Reward=mt_env['reward'],\n",
    "    Title='Quick 3-question survey about work [<15 seconds], instantly unlock 2nd-stage HIT with higher reward',\n",
    "    Keywords='survey,workplace,work',\n",
    "    Description='Quick <15 second survey about workplace conditions, upon submission will receive email with 2nd-stage HIT with higher reward',\n",
    "    Question=stage1_question,\n",
    "    QualificationRequirements=stage1_requirements,\n",
    ")"
   ]
  },
  {
   "cell_type": "markdown",
   "id": "51fa1db5-f1ad-4d10-a571-5cc9e5f61217",
   "metadata": {},
   "source": [
    "### (d) Get the links to the stage-1 HIT (for verification, if need be)"
   ]
  },
  {
   "cell_type": "code",
   "execution_count": 8,
   "id": "stone-championship",
   "metadata": {
    "execution": {
     "iopub.execute_input": "2022-02-01T03:10:53.070558Z",
     "iopub.status.busy": "2022-02-01T03:10:53.070558Z",
     "iopub.status.idle": "2022-02-01T03:10:53.118062Z",
     "shell.execute_reply": "2022-02-01T03:10:53.118062Z",
     "shell.execute_reply.started": "2022-02-01T03:10:53.070558Z"
    },
    "tags": []
   },
   "outputs": [
    {
     "name": "stdout",
     "output_type": "stream",
     "text": [
      "\n",
      "Created 1000 HITs, with HITId: 3BCRDCM0OEV9AO8YCYWZ0G46CS4K6A\n",
      "\n",
      "You can work the HIT here:\n",
      "https://www.mturk.com/mturk/preview?groupId=3N79SUTLM3MWO9D9UUEITN063OM5BI\n",
      "\n",
      "And see results here:\n",
      "https://requester.mturk.com/mturk/manageHITs\n"
     ]
    }
   ],
   "source": [
    "# The response included several fields that will be helpful later\n",
    "hit_type_id = response['HIT']['HITTypeId']\n",
    "hit_id = response['HIT']['HITId']\n",
    "print(\"\\nCreated {} HITs, with HITId: {}\".format(num_hits, hit_id))\n",
    "\n",
    "print(\"\\nYou can work the HIT here:\")\n",
    "print(mt_env['preview'] + \"?groupId={}\".format(hit_type_id))\n",
    "\n",
    "print(\"\\nAnd see results here:\")\n",
    "print(mt_env['manage'])"
   ]
  },
  {
   "cell_type": "markdown",
   "id": "0544cc5c-daf4-4874-a75a-173b2c874d60",
   "metadata": {},
   "source": [
    "### (e) Save the HIT id for the newly-created stage-1 HIT\n",
    "\n",
    "(just to make the next step a little easier)"
   ]
  },
  {
   "cell_type": "code",
   "execution_count": 4,
   "id": "chubby-marriage",
   "metadata": {
    "tags": []
   },
   "outputs": [
    {
     "ename": "NameError",
     "evalue": "name 'hit_id' is not defined",
     "output_type": "error",
     "traceback": [
      "\u001b[1;31m---------------------------------------------------------------------------\u001b[0m",
      "\u001b[1;31mNameError\u001b[0m                                 Traceback (most recent call last)",
      "\u001b[1;32m~\\AppData\\Local\\Temp/ipykernel_24808/3056643404.py\u001b[0m in \u001b[0;36m<module>\u001b[1;34m\u001b[0m\n\u001b[0;32m      1\u001b[0m \u001b[1;31m# Save the id of the newly-created stage 1 HIT\u001b[0m\u001b[1;33m\u001b[0m\u001b[1;33m\u001b[0m\u001b[0m\n\u001b[1;32m----> 2\u001b[1;33m \u001b[0mjoblib\u001b[0m\u001b[1;33m.\u001b[0m\u001b[0mdump\u001b[0m\u001b[1;33m(\u001b[0m\u001b[0mhit_id\u001b[0m\u001b[1;33m,\u001b[0m \u001b[1;34m\"stage1_hit_id.pkl\"\u001b[0m\u001b[1;33m)\u001b[0m\u001b[1;33m\u001b[0m\u001b[1;33m\u001b[0m\u001b[0m\n\u001b[0m",
      "\u001b[1;31mNameError\u001b[0m: name 'hit_id' is not defined"
     ]
    }
   ],
   "source": [
    "# Save the id of the newly-created stage 1 HIT\n",
    "joblib.dump(hit_id, \"stage1_hit_id.pkl\")"
   ]
  },
  {
   "cell_type": "code",
   "execution_count": null,
   "id": "bacterial-regard",
   "metadata": {},
   "outputs": [],
   "source": []
  },
  {
   "cell_type": "code",
   "execution_count": null,
   "id": "23484a4b-e392-4401-a70c-455545544a3e",
   "metadata": {},
   "outputs": [],
   "source": []
  }
 ],
 "metadata": {
  "kernelspec": {
   "display_name": "Python 3 (ipykernel)",
   "language": "python",
   "name": "python3"
  },
  "language_info": {
   "codemirror_mode": {
    "name": "ipython",
    "version": 3
   },
   "file_extension": ".py",
   "mimetype": "text/x-python",
   "name": "python",
   "nbconvert_exporter": "python",
   "pygments_lexer": "ipython3",
   "version": "3.9.7"
  }
 },
 "nbformat": 4,
 "nbformat_minor": 5
}
