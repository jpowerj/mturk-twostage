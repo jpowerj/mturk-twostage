{
 "cells": [
  {
   "cell_type": "code",
   "execution_count": 1,
   "id": "e16ef1f8-c3a1-482a-85b7-460c676f6dd6",
   "metadata": {
    "execution": {
     "iopub.execute_input": "2022-02-01T03:10:47.835526Z",
     "iopub.status.busy": "2022-02-01T03:10:47.834527Z",
     "iopub.status.idle": "2022-02-01T03:10:47.874527Z",
     "shell.execute_reply": "2022-02-01T03:10:47.874527Z",
     "shell.execute_reply.started": "2022-02-01T03:10:47.835526Z"
    },
    "tags": []
   },
   "outputs": [],
   "source": [
    "%load_ext autoreload\n",
    "%autoreload 2"
   ]
  },
  {
   "cell_type": "code",
   "execution_count": 2,
   "id": "adjacent-lithuania",
   "metadata": {
    "execution": {
     "iopub.execute_input": "2022-02-01T03:10:48.167781Z",
     "iopub.status.busy": "2022-02-01T03:10:48.167781Z",
     "iopub.status.idle": "2022-02-01T03:10:48.590716Z",
     "shell.execute_reply": "2022-02-01T03:10:48.590716Z",
     "shell.execute_reply.started": "2022-02-01T03:10:48.167781Z"
    },
    "tags": []
   },
   "outputs": [],
   "source": [
    "import sys\n",
    "\n",
    "import pandas as pd\n",
    "import numpy as np\n",
    "import joblib\n",
    "\n",
    "import mtglobals"
   ]
  },
  {
   "cell_type": "code",
   "execution_count": 3,
   "id": "massive-kazakhstan",
   "metadata": {
    "execution": {
     "iopub.execute_input": "2022-02-01T03:10:49.251045Z",
     "iopub.status.busy": "2022-02-01T03:10:49.251045Z",
     "iopub.status.idle": "2022-02-01T03:10:49.292747Z",
     "shell.execute_reply": "2022-02-01T03:10:49.292747Z",
     "shell.execute_reply.started": "2022-02-01T03:10:49.251045Z"
    },
    "tags": []
   },
   "outputs": [],
   "source": [
    "num_hits = 1000"
   ]
  },
  {
   "cell_type": "code",
   "execution_count": 4,
   "id": "upset-lawrence",
   "metadata": {
    "execution": {
     "iopub.execute_input": "2022-02-01T03:10:50.130980Z",
     "iopub.status.busy": "2022-02-01T03:10:50.130980Z",
     "iopub.status.idle": "2022-02-01T03:10:50.727485Z",
     "shell.execute_reply": "2022-02-01T03:10:50.727485Z",
     "shell.execute_reply.started": "2022-02-01T03:10:50.130980Z"
    },
    "tags": []
   },
   "outputs": [
    {
     "name": "stdout",
     "output_type": "stream",
     "text": [
      "Your account balance is 500000.00\n"
     ]
    }
   ],
   "source": [
    "client, mt_env = mtglobals.gen_client()"
   ]
  },
  {
   "cell_type": "code",
   "execution_count": 5,
   "id": "virtual-remark",
   "metadata": {
    "execution": {
     "iopub.execute_input": "2022-02-01T03:10:51.253517Z",
     "iopub.status.busy": "2022-02-01T03:10:51.253517Z",
     "iopub.status.idle": "2022-02-01T03:10:51.302092Z",
     "shell.execute_reply": "2022-02-01T03:10:51.302092Z",
     "shell.execute_reply.started": "2022-02-01T03:10:51.253517Z"
    },
    "tags": []
   },
   "outputs": [],
   "source": [
    "# The question we ask the workers is contained in this file.\n",
    "with open(\"question_stage1.xml\", \"r\", encoding='utf-8') as f:\n",
    "    stage1_question = f.read()"
   ]
  },
  {
   "cell_type": "code",
   "execution_count": 6,
   "id": "bright-ferry",
   "metadata": {
    "execution": {
     "iopub.execute_input": "2022-02-01T03:10:51.747005Z",
     "iopub.status.busy": "2022-02-01T03:10:51.747005Z",
     "iopub.status.idle": "2022-02-01T03:10:51.783292Z",
     "shell.execute_reply": "2022-02-01T03:10:51.783292Z",
     "shell.execute_reply.started": "2022-02-01T03:10:51.747005Z"
    },
    "tags": []
   },
   "outputs": [],
   "source": [
    "# Example of using qualification to restrict responses to Workers who have had\n",
    "# at least 80% of their assignments approved. See:\n",
    "# http://docs.aws.amazon.com/AWSMechTurk/latest/AWSMturkAPI/ApiReference_QualificationRequirementDataStructureArticle.html#ApiReference_QualificationType-IDs\n",
    "stage1_requirements = [\n",
    "    {\n",
    "        'QualificationTypeId':\"00000000000000000071\",\n",
    "        'Comparator':\"EqualTo\",\n",
    "        'LocaleValues':[{\n",
    "            'Country':\"US\"\n",
    "        }]\n",
    "    },\n",
    "    {\n",
    "        # Workplace_Survey_Participant qual id\n",
    "        'QualificationTypeId': mtglobals.participant_qual_id,\n",
    "        'Comparator': 'DoesNotExist',\n",
    "    }\n",
    "]"
   ]
  },
  {
   "cell_type": "code",
   "execution_count": 7,
   "id": "worldwide-boating",
   "metadata": {
    "execution": {
     "iopub.execute_input": "2022-02-01T03:10:52.567403Z",
     "iopub.status.busy": "2022-02-01T03:10:52.566414Z",
     "iopub.status.idle": "2022-02-01T03:10:52.870803Z",
     "shell.execute_reply": "2022-02-01T03:10:52.869748Z",
     "shell.execute_reply.started": "2022-02-01T03:10:52.567403Z"
    },
    "tags": []
   },
   "outputs": [],
   "source": [
    "# Create the HIT\n",
    "response = client.create_hit(\n",
    "    MaxAssignments=num_hits,\n",
    "    LifetimeInSeconds=86400, # 24 hours\n",
    "    AssignmentDurationInSeconds=3600, # 1 hour\n",
    "    Reward=mt_env['reward'],\n",
    "    Title='Quick 3-question survey about work [<15 seconds], instantly unlock 2nd-stage HIT with higher reward',\n",
    "    Keywords='survey,workplace,work',\n",
    "    Description='Quick <15 second survey about workplace conditions, upon submission will receive email with 2nd-stage HIT with higher reward',\n",
    "    Question=stage1_question,\n",
    "    QualificationRequirements=stage1_requirements,\n",
    ")"
   ]
  },
  {
   "cell_type": "code",
   "execution_count": 8,
   "id": "stone-championship",
   "metadata": {
    "execution": {
     "iopub.execute_input": "2022-02-01T03:10:53.070558Z",
     "iopub.status.busy": "2022-02-01T03:10:53.070558Z",
     "iopub.status.idle": "2022-02-01T03:10:53.118062Z",
     "shell.execute_reply": "2022-02-01T03:10:53.118062Z",
     "shell.execute_reply.started": "2022-02-01T03:10:53.070558Z"
    },
    "tags": []
   },
   "outputs": [
    {
     "name": "stdout",
     "output_type": "stream",
     "text": [
      "\n",
      "Created 1000 HITs, with HITId: 3BCRDCM0OEV9AO8YCYWZ0G46CS4K6A\n",
      "\n",
      "You can work the HIT here:\n",
      "https://www.mturk.com/mturk/preview?groupId=3N79SUTLM3MWO9D9UUEITN063OM5BI\n",
      "\n",
      "And see results here:\n",
      "https://requester.mturk.com/mturk/manageHITs\n"
     ]
    }
   ],
   "source": [
    "# The response included several fields that will be helpful later\n",
    "hit_type_id = response['HIT']['HITTypeId']\n",
    "hit_id = response['HIT']['HITId']\n",
    "print(\"\\nCreated {} HITs, with HITId: {}\".format(num_hits, hit_id))\n",
    "\n",
    "print(\"\\nYou can work the HIT here:\")\n",
    "print(mt_env['preview'] + \"?groupId={}\".format(hit_type_id))\n",
    "\n",
    "print(\"\\nAnd see results here:\")\n",
    "print(mt_env['manage'])"
   ]
  },
  {
   "cell_type": "code",
   "execution_count": 9,
   "id": "chubby-marriage",
   "metadata": {
    "execution": {
     "iopub.execute_input": "2022-02-01T03:10:53.570586Z",
     "iopub.status.busy": "2022-02-01T03:10:53.570586Z",
     "iopub.status.idle": "2022-02-01T03:10:53.616802Z",
     "shell.execute_reply": "2022-02-01T03:10:53.616802Z",
     "shell.execute_reply.started": "2022-02-01T03:10:53.570586Z"
    },
    "tags": []
   },
   "outputs": [
    {
     "data": {
      "text/plain": [
       "['stage1_hit_id.pkl']"
      ]
     },
     "execution_count": 9,
     "metadata": {},
     "output_type": "execute_result"
    }
   ],
   "source": [
    "# Save the id of the newly-created stage 1 HIT\n",
    "joblib.dump(hit_id, \"stage1_hit_id.pkl\")"
   ]
  },
  {
   "cell_type": "code",
   "execution_count": null,
   "id": "bacterial-regard",
   "metadata": {},
   "outputs": [],
   "source": []
  },
  {
   "cell_type": "code",
   "execution_count": null,
   "id": "23484a4b-e392-4401-a70c-455545544a3e",
   "metadata": {},
   "outputs": [],
   "source": []
  }
 ],
 "metadata": {
  "kernelspec": {
   "display_name": "Python 3 (ipykernel)",
   "language": "python",
   "name": "python3"
  },
  "language_info": {
   "codemirror_mode": {
    "name": "ipython",
    "version": 3
   },
   "file_extension": ".py",
   "mimetype": "text/x-python",
   "name": "python",
   "nbconvert_exporter": "python",
   "pygments_lexer": "ipython3",
   "version": "3.9.9"
  }
 },
 "nbformat": 4,
 "nbformat_minor": 5
}
