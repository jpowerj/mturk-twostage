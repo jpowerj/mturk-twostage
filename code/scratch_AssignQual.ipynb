{
 "cells": [
  {
   "cell_type": "code",
   "execution_count": 1,
   "id": "4e7eca4f-6d83-4542-bf15-a7d1cb48e4ee",
   "metadata": {},
   "outputs": [],
   "source": [
    "%load_ext autoreload\n",
    "%autoreload 2"
   ]
  },
  {
   "cell_type": "code",
   "execution_count": 3,
   "id": "670e1a89-e1b3-4a93-92a4-c5df288e1200",
   "metadata": {},
   "outputs": [],
   "source": [
    "import boto3\n",
    "\n",
    "import mtglobals"
   ]
  },
  {
   "cell_type": "code",
   "execution_count": 4,
   "id": "856e8a78-2f33-48dc-9da9-a01c72e02b09",
   "metadata": {},
   "outputs": [
    {
     "name": "stdout",
     "output_type": "stream",
     "text": [
      "Your account balance is 499933.28\n"
     ]
    }
   ],
   "source": [
    "client, mturk_environment = mtglobals.gen_client()"
   ]
  },
  {
   "cell_type": "code",
   "execution_count": 6,
   "id": "ca346599-f9f5-4995-ae86-f5fd6e12d3a0",
   "metadata": {},
   "outputs": [],
   "source": [
    "qual_num = 0\n",
    "qual_id = \"3S3QAL9V6Y9GEF3FALV80G6JGA2ISJ\"\n",
    "# Arin's worker id\n",
    "worker_id = \"A31PR188ICT58Q\""
   ]
  },
  {
   "cell_type": "code",
   "execution_count": 8,
   "id": "c9911449-d18d-4fde-a1c1-4908f0952ecc",
   "metadata": {},
   "outputs": [
    {
     "name": "stdout",
     "output_type": "stream",
     "text": [
      "Associating num 0 with worker A31PR188ICT58Q, qual 3S3QAL9V6Y9GEF3FALV80G6JGA2ISJ\n"
     ]
    },
    {
     "data": {
      "text/plain": [
       "{'ResponseMetadata': {'RequestId': '1ca35cdd-5abf-4297-b7b1-2ba7f212cdf5',\n",
       "  'HTTPStatusCode': 200,\n",
       "  'HTTPHeaders': {'x-amzn-requestid': '1ca35cdd-5abf-4297-b7b1-2ba7f212cdf5',\n",
       "   'content-type': 'application/x-amz-json-1.1',\n",
       "   'content-length': '2',\n",
       "   'date': 'Thu, 04 Nov 2021 22:46:04 GMT'},\n",
       "  'RetryAttempts': 0}}"
      ]
     },
     "execution_count": 8,
     "metadata": {},
     "output_type": "execute_result"
    }
   ],
   "source": [
    "print(f\"Associating num {qual_num} with worker {worker_id}, qual {qual_id}\")\n",
    "response = client.associate_qualification_with_worker(\n",
    "        QualificationTypeId=qual_id,\n",
    "        WorkerId=worker_id,\n",
    "        IntegerValue=qual_num,\n",
    "        SendNotification=True\n",
    ")\n",
    "response"
   ]
  },
  {
   "cell_type": "code",
   "execution_count": null,
   "id": "72c88af3-1936-4da2-b89e-12ff8d9c7fdd",
   "metadata": {},
   "outputs": [],
   "source": []
  }
 ],
 "metadata": {
  "kernelspec": {
   "display_name": "Python 3",
   "language": "python",
   "name": "python3"
  },
  "language_info": {
   "codemirror_mode": {
    "name": "ipython",
    "version": 3
   },
   "file_extension": ".py",
   "mimetype": "text/x-python",
   "name": "python",
   "nbconvert_exporter": "python",
   "pygments_lexer": "ipython3",
   "version": "3.9.2"
  }
 },
 "nbformat": 4,
 "nbformat_minor": 5
}
