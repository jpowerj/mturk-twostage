{
 "cells": [
  {
   "cell_type": "code",
   "execution_count": 1,
   "outputs": [],
   "source": [
    "from mtclient import MTClient"
   ],
   "metadata": {
    "collapsed": false,
    "pycharm": {
     "name": "#%%\n"
    }
   }
  },
  {
   "cell_type": "code",
   "execution_count": 2,
   "outputs": [
    {
     "name": "stdout",
     "output_type": "stream",
     "text": [
      "Using MTurk requester sandbox\n",
      "Your account balance is 5000.00\n"
     ]
    }
   ],
   "source": [
    "client = MTClient()"
   ],
   "metadata": {
    "collapsed": false,
    "pycharm": {
     "name": "#%%\n"
    }
   }
  },
  {
   "cell_type": "code",
   "execution_count": 3,
   "outputs": [
    {
     "data": {
      "text/plain": "[{'QualificationTypeId': '3UV56NE1CO1F81ND38TIBN1PF7KEHT',\n  'CreationTime': datetime.datetime(2022, 3, 15, 15, 21, 27, tzinfo=tzlocal()),\n  'Name': 'Workplace_Survey_V2_01',\n  'Description': 'Participation in the Columbia TextLab workplace survey',\n  'Keywords': 'workplace,survey,custom',\n  'QualificationTypeStatus': 'Active',\n  'IsRequestable': True,\n  'AutoGranted': False},\n {'QualificationTypeId': '32HPN6OBBCH8ZA6IZOLAN1HIAYATK1',\n  'CreationTime': datetime.datetime(2022, 2, 28, 16, 37, 23, tzinfo=tzlocal()),\n  'Name': 'Workplace_Survey_V2_00',\n  'Description': 'Participation in the Columbia TextLab workplace survey',\n  'Keywords': 'workplace,survey,custom',\n  'QualificationTypeStatus': 'Active',\n  'IsRequestable': True,\n  'AutoGranted': False},\n {'QualificationTypeId': '3S3QAL9V6Y9GEF3FALV80G6JGA2ISJ',\n  'CreationTime': datetime.datetime(2021, 11, 4, 15, 42, 39, tzinfo=tzlocal()),\n  'Name': 'Workplace_Survey_Testing',\n  'Description': 'For testing workplace survey',\n  'QualificationTypeStatus': 'Active',\n  'IsRequestable': True,\n  'AutoGranted': False},\n {'QualificationTypeId': '303SJT1CWE5D23ZEJCT5ZGDLM1P4FN',\n  'CreationTime': datetime.datetime(2021, 7, 18, 17, 28, 3, tzinfo=tzlocal()),\n  'Name': 'Workplace_Survey_Participant',\n  'Description': 'Participation in the workplace conditions survey.',\n  'QualificationTypeStatus': 'Active',\n  'IsRequestable': True,\n  'AutoGranted': False},\n {'QualificationTypeId': '376OKSJ89SYRLC8IL4XY8ZX2HAYX7I',\n  'CreationTime': datetime.datetime(2022, 1, 31, 19, 10, 18, tzinfo=tzlocal()),\n  'Name': 'Workplace_Survey_Custom14',\n  'Description': 'Participation in the Columbia TextLab workplace survey',\n  'Keywords': 'workplace,survey,custom',\n  'QualificationTypeStatus': 'Active',\n  'IsRequestable': True,\n  'AutoGranted': False},\n {'QualificationTypeId': '3UKR2O9MUGTHYEDAJSFDZLOJJVS5LO',\n  'CreationTime': datetime.datetime(2022, 1, 19, 14, 11, 48, tzinfo=tzlocal()),\n  'Name': 'Workplace_Survey_Custom13',\n  'Description': 'Participation in the Columbia TextLab workplace survey',\n  'Keywords': 'workplace,survey,custom',\n  'QualificationTypeStatus': 'Active',\n  'IsRequestable': True,\n  'AutoGranted': False},\n {'QualificationTypeId': '3B2SSI71PBT62TVM2BDIV0MCRNYVOZ',\n  'CreationTime': datetime.datetime(2022, 1, 11, 21, 4, 37, tzinfo=tzlocal()),\n  'Name': 'Workplace_Survey_Custom12',\n  'Description': 'Participation in the Columbia TextLab workplace survey',\n  'Keywords': 'workplace,survey,custom',\n  'QualificationTypeStatus': 'Active',\n  'IsRequestable': True,\n  'AutoGranted': False},\n {'QualificationTypeId': '33LUGXWVAFGN3EAC6RPVNN7GXKI9SU',\n  'CreationTime': datetime.datetime(2022, 1, 9, 16, 22, 12, tzinfo=tzlocal()),\n  'Name': 'Workplace_Survey_Custom11',\n  'Description': 'Participation in the Columbia TextLab workplace survey',\n  'Keywords': 'workplace,survey,custom',\n  'QualificationTypeStatus': 'Active',\n  'IsRequestable': True,\n  'AutoGranted': False},\n {'QualificationTypeId': '3AWVFG4SFYUUQSPWPM3MOJXAZI2BRI',\n  'CreationTime': datetime.datetime(2022, 1, 5, 16, 25, 12, tzinfo=tzlocal()),\n  'Name': 'Workplace_Survey_Custom10',\n  'Description': 'Participation in the Columbia TextLab workplace survey',\n  'Keywords': 'workplace,survey,custom',\n  'QualificationTypeStatus': 'Active',\n  'IsRequestable': True,\n  'AutoGranted': False},\n {'QualificationTypeId': '38T2WS02O1BM26BUT2PCTOQGCO6UTV',\n  'CreationTime': datetime.datetime(2022, 1, 2, 12, 35, 19, tzinfo=tzlocal()),\n  'Name': 'Workplace_Survey_Custom09',\n  'Description': 'Participation in the Columbia TextLab workplace survey',\n  'Keywords': 'workplace,survey,custom',\n  'QualificationTypeStatus': 'Active',\n  'IsRequestable': True,\n  'AutoGranted': False},\n {'QualificationTypeId': '3G57YG73TIK35LIZMJG95I244Z0JFG',\n  'CreationTime': datetime.datetime(2021, 12, 29, 12, 17, 10, tzinfo=tzlocal()),\n  'Name': 'Workplace_Survey_Custom08',\n  'Description': 'Participation in the Columbia TextLab workplace survey',\n  'Keywords': 'workplace,survey,custom',\n  'QualificationTypeStatus': 'Active',\n  'IsRequestable': True,\n  'AutoGranted': False},\n {'QualificationTypeId': '3HKJJ33FJ5G2XCV63BDHCRP4QPW6KY',\n  'CreationTime': datetime.datetime(2021, 12, 9, 16, 11, 25, tzinfo=tzlocal()),\n  'Name': 'Workplace_Survey_Custom07',\n  'Description': 'Participation in the Columbia TextLab workplace survey',\n  'Keywords': 'workplace,survey,custom',\n  'QualificationTypeStatus': 'Active',\n  'IsRequestable': True,\n  'AutoGranted': False},\n {'QualificationTypeId': '3RKPNJXSGLS4YA1TE25HF18ROHXES8',\n  'CreationTime': datetime.datetime(2021, 12, 7, 15, 47, 2, tzinfo=tzlocal()),\n  'Name': 'Workplace_Survey_Custom06',\n  'Description': 'Participation in the Columbia TextLab workplace survey',\n  'Keywords': 'workplace,survey,custom',\n  'QualificationTypeStatus': 'Active',\n  'IsRequestable': True,\n  'AutoGranted': False},\n {'QualificationTypeId': '3B9KD9M9B1IFTDVGK7ZMDNBD6QLJNM',\n  'CreationTime': datetime.datetime(2021, 11, 30, 12, 26, 5, tzinfo=tzlocal()),\n  'Name': 'Workplace_Survey_Custom05',\n  'Description': 'Participation in the Columbia TextLab workplace survey',\n  'Keywords': 'workplace,survey,custom',\n  'QualificationTypeStatus': 'Active',\n  'IsRequestable': True,\n  'AutoGranted': False},\n {'QualificationTypeId': '35ZCRXGG90P2IOXKKXV5F4T31XCGSR',\n  'CreationTime': datetime.datetime(2021, 11, 23, 11, 51, 32, tzinfo=tzlocal()),\n  'Name': 'Workplace_Survey_Custom04',\n  'Description': 'Participation in the Columbia TextLab workplace survey',\n  'Keywords': 'workplace,survey,custom',\n  'QualificationTypeStatus': 'Active',\n  'IsRequestable': True,\n  'AutoGranted': False},\n {'QualificationTypeId': '3YBZ4ZTBD0MFDPL9913534ZLH5X4W5',\n  'CreationTime': datetime.datetime(2021, 11, 1, 12, 6, 1, tzinfo=tzlocal()),\n  'Name': 'Workplace_Survey_Custom03',\n  'Description': 'Successful completion of the workplace conditions survey',\n  'QualificationTypeStatus': 'Active',\n  'IsRequestable': True,\n  'AutoGranted': False},\n {'QualificationTypeId': '3F81S4Q8XR3VU5W78I5I82PCZR0FEN',\n  'CreationTime': datetime.datetime(2021, 10, 27, 14, 11, 2, tzinfo=tzlocal()),\n  'Name': 'Workplace_Survey_Custom02',\n  'Description': 'Participation in the Columbia TextLab workplace survey',\n  'Keywords': 'workplace,survey,custom',\n  'QualificationTypeStatus': 'Active',\n  'IsRequestable': True,\n  'AutoGranted': False},\n {'QualificationTypeId': '3090SA10WM8SLZPAAFI0QJYIG69CNY',\n  'CreationTime': datetime.datetime(2021, 10, 26, 15, 50, 26, tzinfo=tzlocal()),\n  'Name': 'Workplace_Survey_Custom01',\n  'Description': 'Participation in the Columbia TextLab workplace survey',\n  'Keywords': 'workplace,survey,custom',\n  'QualificationTypeStatus': 'Active',\n  'IsRequestable': True,\n  'AutoGranted': False},\n {'QualificationTypeId': '3QTU8Z4SHN84U5KCFOM3OI2TK3WGK7',\n  'CreationTime': datetime.datetime(2021, 9, 29, 13, 21, 32, tzinfo=tzlocal()),\n  'Name': 'Workplace_Survey_Custom',\n  'Description': 'Qualified for customized workplace survey',\n  'QualificationTypeStatus': 'Active',\n  'IsRequestable': True,\n  'AutoGranted': False},\n {'QualificationTypeId': '3ACE7X5EFA17IX9O66OVG7YL1JYEN7',\n  'CreationTime': datetime.datetime(2022, 10, 3, 21, 16, 17, tzinfo=tzlocal()),\n  'Name': 'Workplace_Survey_00',\n  'Description': 'Participation in the Columbia TextLab workplace survey',\n  'Keywords': 'workplace,survey,custom',\n  'QualificationTypeStatus': 'Active',\n  'IsRequestable': True,\n  'AutoGranted': False},\n {'QualificationTypeId': '33JPJJ9N305Q0XXKPYY8R4F3AQKLXM',\n  'CreationTime': datetime.datetime(2017, 2, 15, 15, 33, 48, tzinfo=tzlocal()),\n  'Name': 'Recipe HIT Completed',\n  'Description': 'Thank you for completing the cookbook recipe location HIT!',\n  'QualificationTypeStatus': 'Active',\n  'IsRequestable': True,\n  'AutoGranted': False},\n {'QualificationTypeId': '3JNQJJEQXOMSO3FPH8B8RI37DJ8UJC',\n  'CreationTime': datetime.datetime(2021, 6, 30, 20, 48, 18, tzinfo=tzlocal()),\n  'Name': 'PDB_taker',\n  'Description': 'Respondent has completed the PDB task',\n  'QualificationTypeStatus': 'Active',\n  'IsRequestable': True,\n  'AutoGranted': False},\n {'QualificationTypeId': '3YIWKD8AENO8US67EE28Z71C5TK0PO',\n  'CreationTime': datetime.datetime(2016, 12, 29, 11, 45, 19, tzinfo=tzlocal()),\n  'Name': 'Custom HIT',\n  'Description': 'Custom HIT for reimbursement',\n  'QualificationTypeStatus': 'Active',\n  'IsRequestable': True,\n  'AutoGranted': False}]"
     },
     "execution_count": 3,
     "metadata": {},
     "output_type": "execute_result"
    }
   ],
   "source": [
    "client.get_all_quals()"
   ],
   "metadata": {
    "collapsed": false,
    "pycharm": {
     "name": "#%%\n"
    }
   }
  },
  {
   "cell_type": "code",
   "execution_count": null,
   "outputs": [],
   "source": [],
   "metadata": {
    "collapsed": false,
    "pycharm": {
     "name": "#%%\n"
    }
   }
  }
 ],
 "metadata": {
  "kernelspec": {
   "display_name": "Python 3",
   "language": "python",
   "name": "python3"
  },
  "language_info": {
   "codemirror_mode": {
    "name": "ipython",
    "version": 2
   },
   "file_extension": ".py",
   "mimetype": "text/x-python",
   "name": "python",
   "nbconvert_exporter": "python",
   "pygments_lexer": "ipython2",
   "version": "2.7.6"
  }
 },
 "nbformat": 4,
 "nbformat_minor": 0
}