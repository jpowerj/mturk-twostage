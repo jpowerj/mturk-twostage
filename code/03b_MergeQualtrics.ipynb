{
 "cells": [
  {
   "cell_type": "markdown",
   "id": "5d2969a2-92ec-49a6-872f-cb08c3ef0154",
   "metadata": {},
   "source": [
    "Merge the MTurk results with the Qualtrics results"
   ]
  },
  {
   "cell_type": "code",
   "execution_count": 337,
   "id": "d5a85565-2471-4ae3-aad7-02d8ce846b2c",
   "metadata": {},
   "outputs": [],
   "source": [
    "import glob\n",
    "\n",
    "import pandas as pd\n",
    "import numpy as np"
   ]
  },
  {
   "cell_type": "markdown",
   "id": "43325082-b7d2-49e5-ab0f-cadcf74c1a04",
   "metadata": {},
   "source": [
    "Load MTurk data"
   ]
  },
  {
   "cell_type": "code",
   "execution_count": 338,
   "id": "5240e558-2e3f-46eb-beba-296ed10d9dae",
   "metadata": {},
   "outputs": [],
   "source": [
    "mt_df = pd.read_csv(\"../results/mturk_2stage/pilot_results.csv\")"
   ]
  },
  {
   "cell_type": "code",
   "execution_count": 339,
   "id": "342d463a-c5f8-460c-b080-eb184e89775e",
   "metadata": {},
   "outputs": [
    {
     "data": {
      "text/html": [
       "<div>\n",
       "<style scoped>\n",
       "    .dataframe tbody tr th:only-of-type {\n",
       "        vertical-align: middle;\n",
       "    }\n",
       "\n",
       "    .dataframe tbody tr th {\n",
       "        vertical-align: top;\n",
       "    }\n",
       "\n",
       "    .dataframe thead th {\n",
       "        text-align: right;\n",
       "    }\n",
       "</style>\n",
       "<table border=\"1\" class=\"dataframe\">\n",
       "  <thead>\n",
       "    <tr style=\"text-align: right;\">\n",
       "      <th></th>\n",
       "      <th>HITId</th>\n",
       "      <th>HITTypeId</th>\n",
       "      <th>Title</th>\n",
       "      <th>Description</th>\n",
       "      <th>Keywords</th>\n",
       "      <th>reward_stage1</th>\n",
       "      <th>reward_stage2</th>\n",
       "      <th>CreationTime</th>\n",
       "      <th>MaxAssignments</th>\n",
       "      <th>RequesterAnnotation</th>\n",
       "      <th>...</th>\n",
       "      <th>RejectionTime</th>\n",
       "      <th>RequesterFeedback</th>\n",
       "      <th>WorkTimeInSeconds</th>\n",
       "      <th>LifetimeApprovalRate</th>\n",
       "      <th>Last30DaysApprovalRate</th>\n",
       "      <th>Last7DaysApprovalRate</th>\n",
       "      <th>Answer.age</th>\n",
       "      <th>Answer.onlinehrs</th>\n",
       "      <th>Answer.reason</th>\n",
       "      <th>completed_stage2</th>\n",
       "    </tr>\n",
       "  </thead>\n",
       "  <tbody>\n",
       "    <tr>\n",
       "      <th>0</th>\n",
       "      <td>3SA4EMRVJW3F74JZN1LQNWGEP4RP0O</td>\n",
       "      <td>379Y3Z5FS69XWD67TT3RQRTBXFCT19</td>\n",
       "      <td>Quick 3-question survey about work [&lt;15 second...</td>\n",
       "      <td>Quick &lt;15 second survey about workplace condit...</td>\n",
       "      <td>survey,workplace,work</td>\n",
       "      <td>$0.10</td>\n",
       "      <td>$0.95</td>\n",
       "      <td>Wed Sep 29 13:35:54 PDT 2021</td>\n",
       "      <td>5</td>\n",
       "      <td>BatchId:4566303;OriginalHitTemplateId:920937340;</td>\n",
       "      <td>...</td>\n",
       "      <td>NaN</td>\n",
       "      <td>NaN</td>\n",
       "      <td>59</td>\n",
       "      <td>100% (1/1)</td>\n",
       "      <td>100% (1/1)</td>\n",
       "      <td>0% (0/0)</td>\n",
       "      <td>26</td>\n",
       "      <td>25</td>\n",
       "      <td>money</td>\n",
       "      <td>False</td>\n",
       "    </tr>\n",
       "  </tbody>\n",
       "</table>\n",
       "<p>1 rows × 32 columns</p>\n",
       "</div>"
      ],
      "text/plain": [
       "                            HITId                       HITTypeId  \\\n",
       "0  3SA4EMRVJW3F74JZN1LQNWGEP4RP0O  379Y3Z5FS69XWD67TT3RQRTBXFCT19   \n",
       "\n",
       "                                               Title  \\\n",
       "0  Quick 3-question survey about work [<15 second...   \n",
       "\n",
       "                                         Description               Keywords  \\\n",
       "0  Quick <15 second survey about workplace condit...  survey,workplace,work   \n",
       "\n",
       "  reward_stage1 reward_stage2                  CreationTime  MaxAssignments  \\\n",
       "0        $0.10         $0.95   Wed Sep 29 13:35:54 PDT 2021               5   \n",
       "\n",
       "                                RequesterAnnotation  ...  RejectionTime  \\\n",
       "0  BatchId:4566303;OriginalHitTemplateId:920937340;  ...            NaN   \n",
       "\n",
       "   RequesterFeedback WorkTimeInSeconds  LifetimeApprovalRate  \\\n",
       "0                NaN                59            100% (1/1)   \n",
       "\n",
       "   Last30DaysApprovalRate Last7DaysApprovalRate Answer.age Answer.onlinehrs  \\\n",
       "0              100% (1/1)              0% (0/0)         26               25   \n",
       "\n",
       "  Answer.reason completed_stage2  \n",
       "0         money            False  \n",
       "\n",
       "[1 rows x 32 columns]"
      ]
     },
     "execution_count": 339,
     "metadata": {},
     "output_type": "execute_result"
    }
   ],
   "source": [
    "mt_df.head(1)"
   ]
  },
  {
   "cell_type": "code",
   "execution_count": 340,
   "id": "825320d9-ddf6-4da5-9972-5e16404c8d69",
   "metadata": {},
   "outputs": [],
   "source": [
    "mt_rename = {\n",
    "    'Answer.age': 'age',\n",
    "    'Answer.onlinehrs': 'onlinehrs',\n",
    "    'Answer.reason': 'reason',\n",
    "    'WorkerId': 'mt_id',\n",
    "    'completed_stage2': 'submitted_hit',\n",
    "}\n",
    "mt_df.rename(columns=mt_rename, inplace=True)"
   ]
  },
  {
   "cell_type": "markdown",
   "id": "b81dcc30-aed0-438f-9da5-a0dd39a78329",
   "metadata": {},
   "source": [
    "### And load Qualtrics data"
   ]
  },
  {
   "cell_type": "code",
   "execution_count": 341,
   "id": "beb11016-fbe2-477c-a2a0-a7c45f7b1128",
   "metadata": {},
   "outputs": [
    {
     "data": {
      "text/plain": [
       "['../results/mturk_2stage\\\\Job+Quality+NonWM+10.0_October+6,+2021_18.59.xlsx',\n",
       " '../results/mturk_2stage\\\\Job+Quality+NonWM+11.0_October+11,+2021_20.38.xlsx']"
      ]
     },
     "execution_count": 341,
     "metadata": {},
     "output_type": "execute_result"
    }
   ],
   "source": [
    "glob.glob(\"../results/mturk_2stage/*.xlsx\")"
   ]
  },
  {
   "cell_type": "code",
   "execution_count": 342,
   "id": "be152c13-e8fd-44c7-a690-5e5fcf827b77",
   "metadata": {},
   "outputs": [
    {
     "name": "stderr",
     "output_type": "stream",
     "text": [
      "c:\\users\\jpjac\\appdata\\local\\programs\\python\\python39\\lib\\site-packages\\openpyxl\\styles\\stylesheet.py:221: UserWarning: Workbook contains no default style, apply openpyxl's default\n",
      "  warn(\"Workbook contains no default style, apply openpyxl's default\")\n"
     ]
    }
   ],
   "source": [
    "qual_df = pd.read_excel(\"../results/mturk_2stage/Job+Quality+NonWM+11.0_October+11,+2021_20.38.xlsx\")"
   ]
  },
  {
   "cell_type": "code",
   "execution_count": 343,
   "id": "1a70f2b8-64f9-4829-8774-29789dd13185",
   "metadata": {},
   "outputs": [],
   "source": [
    "qual_df = qual_df.iloc[1:]"
   ]
  },
  {
   "cell_type": "code",
   "execution_count": 344,
   "id": "add04b13-8915-47ce-8283-62cbf29d848c",
   "metadata": {},
   "outputs": [],
   "source": [
    "qual_rename = {\n",
    "    'Duration (in seconds)': 'duration_seconds',\n",
    "}\n",
    "qual_df.rename(columns=qual_rename, inplace=True)\n",
    "qual_drop = ['StartDate','EndDate','RecordedDate','RecipientLastName','RecipientFirstName',\n",
    "             'RecipientEmail','ExternalReference','LocationLatitude','LocationLongitude',\n",
    "             'Finished','what_would_it_take']\n",
    "qual_df.drop(columns=qual_drop, inplace=True)"
   ]
  },
  {
   "cell_type": "code",
   "execution_count": 345,
   "id": "b793cb05-4eec-463e-868c-81b295c8ae67",
   "metadata": {},
   "outputs": [
    {
     "data": {
      "text/plain": [
       "1    A1XJAPEPY9XDOP\n",
       "2    A23N4V8XW6Y49I\n",
       "3    A3HNEYFOIJWPH1\n",
       "4    A23N4V8XW6Y49I\n",
       "Name: mt_id, dtype: object"
      ]
     },
     "execution_count": 345,
     "metadata": {},
     "output_type": "execute_result"
    }
   ],
   "source": [
    "qual_df['mt_id']"
   ]
  },
  {
   "cell_type": "code",
   "execution_count": 346,
   "id": "bba3d4b3-b5cb-42fa-a570-432373a4b1a2",
   "metadata": {},
   "outputs": [
    {
     "name": "stdout",
     "output_type": "stream",
     "text": [
      "['Status', 'IPAddress', 'Progress', 'duration_seconds', 'ResponseId', 'DistributionChannel', 'UserLanguage', 'state', 'race', 'race_6_TEXT', 'gender', 'gender_4_TEXT', 'education', 'currently_employed', 'fulltime', 'most_recent_job', 'most_recent_fulltime', 'weeks_unemployment', 'how_easy', 'lowest_wage', 'savings', 'jobtitle', 'wage', 'hrs', 'controlhrs', 'sickleave', 'friends', 'commute', 'physical', 'skills', 'vaccine', 'express', 'coworkers', 'suprespect', 'supfair', 'response1', 'response2', 'response3', 'response4', 'response5', 'response6', 'response7', 'response8', 'response9', 'response10', 'response11', 'response12', 'response13', 'response14', 'response15']"
     ]
    }
   ],
   "source": [
    "print(list(qual_df.columns)[:50], end=\"\")"
   ]
  },
  {
   "cell_type": "markdown",
   "id": "f39b7a5e-e2b5-47aa-ad36-af8daf866596",
   "metadata": {},
   "source": [
    "### And merge"
   ]
  },
  {
   "cell_type": "code",
   "execution_count": 347,
   "id": "13e739dc-05e5-4e62-9c32-0b7773db7c70",
   "metadata": {},
   "outputs": [],
   "source": [
    "merge_df = mt_df.merge(qual_df, how='left', on='mt_id', indicator=True)"
   ]
  },
  {
   "cell_type": "code",
   "execution_count": 348,
   "id": "ed5e0eab-78c9-475c-b256-bb0d0380cd95",
   "metadata": {},
   "outputs": [],
   "source": [
    "# After merging, annoyingly, we have to re-convert the numeric cols\n",
    "obj_vars = ['Progress','duration_seconds']\n",
    "for cur_var in obj_vars:\n",
    "    merge_df[cur_var] = pd.to_numeric(merge_df[cur_var])\n",
    "all_na_vars = ['race_6_TEXT','gender_4_TEXT']\n",
    "for cur_var in all_na_vars:\n",
    "    merge_df[cur_var] = \"\""
   ]
  },
  {
   "cell_type": "code",
   "execution_count": 349,
   "id": "d32f31c0-7537-4240-bde2-4c33c5c49939",
   "metadata": {},
   "outputs": [],
   "source": [
    "def gen_case(row_data):\n",
    "    merge_result = row_data['_merge']\n",
    "    if merge_result == 'left_only':\n",
    "        return \"rejected\"\n",
    "    # Here we know they started the survey, but not if they finished\n",
    "    prog = row_data['Progress']\n",
    "    if prog == 100.0:\n",
    "        # They completed the Qualtrics survey\n",
    "        return \"finished_survey\"\n",
    "    return \"did_not_finish\"\n",
    "merge_df['result'] = merge_df.apply(gen_case, axis=1)"
   ]
  },
  {
   "cell_type": "code",
   "execution_count": 350,
   "id": "7b61293f-ea8a-4eb5-b921-8343db1adb46",
   "metadata": {},
   "outputs": [
    {
     "data": {
      "text/plain": [
       "0     \n",
       "1     \n",
       "2     \n",
       "3     \n",
       "4     \n",
       "5     \n",
       "6     \n",
       "7     \n",
       "8     \n",
       "9     \n",
       "10    \n",
       "Name: race_6_TEXT, dtype: object"
      ]
     },
     "execution_count": 350,
     "metadata": {},
     "output_type": "execute_result"
    }
   ],
   "source": [
    "merge_df['race_6_TEXT']"
   ]
  },
  {
   "cell_type": "code",
   "execution_count": 351,
   "id": "d530d488-eea9-4434-802e-a2b3b6eea8c5",
   "metadata": {},
   "outputs": [],
   "source": [
    "#with pd.option_context('max_columns', 100):\n",
    "#    display(merge_df)"
   ]
  },
  {
   "cell_type": "code",
   "execution_count": 352,
   "id": "b304d1a8-915a-495b-81af-4adda3d80527",
   "metadata": {},
   "outputs": [],
   "source": [
    "# Due to annoying problems with to_stata, need to write to .csv\n",
    "# then use Label_Vars.ipynb to generate the .dta with labels"
   ]
  },
  {
   "cell_type": "code",
   "execution_count": 353,
   "id": "fce411a7-8568-44d2-be5a-adff0c61e07d",
   "metadata": {},
   "outputs": [],
   "source": [
    "merge_df.to_csv(\"../results/mturk_2stage/pilot_results_qualtrics.csv\", index=False)"
   ]
  },
  {
   "cell_type": "code",
   "execution_count": 354,
   "id": "e47dab37-9a3f-444d-bb51-feb404f636c2",
   "metadata": {},
   "outputs": [],
   "source": [
    "#merge_df.to_stata(\"../results/mturk_2stage/pilot_results.dta\", variable_labels=labels)"
   ]
  },
  {
   "cell_type": "code",
   "execution_count": null,
   "id": "9899a2b8-8ab8-4555-ba98-56f05c846177",
   "metadata": {},
   "outputs": [],
   "source": []
  },
  {
   "cell_type": "code",
   "execution_count": null,
   "id": "4836309f-8b6c-46f2-9f21-08889c2cc260",
   "metadata": {},
   "outputs": [],
   "source": []
  },
  {
   "cell_type": "code",
   "execution_count": null,
   "id": "6d552501-4be9-4998-9b43-d944d24bcc31",
   "metadata": {},
   "outputs": [],
   "source": []
  },
  {
   "cell_type": "code",
   "execution_count": null,
   "id": "945a9de8-de77-4da3-a002-fbde8c2a2aa9",
   "metadata": {},
   "outputs": [],
   "source": []
  }
 ],
 "metadata": {
  "kernelspec": {
   "display_name": "Python 3",
   "language": "python",
   "name": "python3"
  },
  "language_info": {
   "codemirror_mode": {
    "name": "ipython",
    "version": 3
   },
   "file_extension": ".py",
   "mimetype": "text/x-python",
   "name": "python",
   "nbconvert_exporter": "python",
   "pygments_lexer": "ipython3",
   "version": "3.9.2"
  }
 },
 "nbformat": 4,
 "nbformat_minor": 5
}
