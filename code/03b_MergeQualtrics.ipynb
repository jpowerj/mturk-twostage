{
 "cells": [
  {
   "cell_type": "markdown",
   "id": "5d2969a2-92ec-49a6-872f-cb08c3ef0154",
   "metadata": {
    "pycharm": {
     "name": "#%% md\n"
    }
   },
   "source": [
    "### Merge the MTurk results with the Qualtrics results"
   ]
  },
  {
   "cell_type": "code",
   "execution_count": 1,
   "id": "d5a85565-2471-4ae3-aad7-02d8ce846b2c",
   "metadata": {
    "pycharm": {
     "name": "#%%\n"
    }
   },
   "outputs": [],
   "source": [
    "import glob\n",
    "import os\n",
    "\n",
    "import pandas as pd\n",
    "import numpy as np\n",
    "\n",
    "import mtglobals"
   ]
  },
  {
   "cell_type": "markdown",
   "id": "43325082-b7d2-49e5-ab0f-cadcf74c1a04",
   "metadata": {
    "pycharm": {
     "name": "#%% md\n"
    }
   },
   "source": [
    "### (a) Load data downloaded from MTurk"
   ]
  },
  {
   "cell_type": "code",
   "execution_count": 2,
   "outputs": [
    {
     "data": {
      "text/plain": "'C:\\\\mturk-twostage\\\\code'"
     },
     "execution_count": 2,
     "metadata": {},
     "output_type": "execute_result"
    }
   ],
   "source": [
    "os.getcwd()"
   ],
   "metadata": {
    "collapsed": false,
    "pycharm": {
     "name": "#%%\n"
    }
   }
  },
  {
   "cell_type": "code",
   "execution_count": 3,
   "outputs": [
    {
     "data": {
      "text/plain": "['../results_2stage\\\\accepted_df_20221014_131324.pkl',\n '../results_2stage\\\\accepted_df_20221014_140242.pkl',\n '../results_2stage\\\\accepted_df_20221015_170636.pkl']"
     },
     "execution_count": 3,
     "metadata": {},
     "output_type": "execute_result"
    }
   ],
   "source": [
    "accepted_fpaths = glob.glob(\"../results_2stage/accepted_df_*.pkl\")\n",
    "accepted_fpaths"
   ],
   "metadata": {
    "collapsed": false,
    "pycharm": {
     "name": "#%%\n"
    }
   }
  },
  {
   "cell_type": "code",
   "execution_count": 4,
   "id": "5240e558-2e3f-46eb-beba-296ed10d9dae",
   "metadata": {
    "pycharm": {
     "name": "#%%\n"
    }
   },
   "outputs": [],
   "source": [
    "#mt_df = pd.read_csv(\"../results/mturk_2stage/pilot_results.csv\")\n",
    "mt_df = pd.read_pickle(accepted_fpaths[-1])"
   ]
  },
  {
   "cell_type": "code",
   "execution_count": 5,
   "id": "342d463a-c5f8-460c-b080-eb184e89775e",
   "metadata": {
    "pycharm": {
     "name": "#%%\n"
    }
   },
   "outputs": [
    {
     "data": {
      "text/plain": "        worker_id  wage  accepted     stage2_creation  \\\n0  A101J0P2UYUKA1  1.05         1 2022-10-13 15:32:15   \n\n         stage2_creation_str        stage2_accept_time  \\\n0  2022-10-13 15:32:15-07:00 2022-10-13 15:41:19-07:00   \n\n         stage2_submit_time    lwage age onlinehrs_str  reason  \\\n0 2022-10-13 15:48:31-07:00  0.04879  23            40  skills   \n\n         stage1_accept_time        stage1_submit_time  onlinehrs  \\\n0 2022-10-13 15:01:17-07:00 2022-10-13 15:03:12-07:00       40.0   \n\n   sophisticated  suspended  \n0              0      False  ",
      "text/html": "<div>\n<style scoped>\n    .dataframe tbody tr th:only-of-type {\n        vertical-align: middle;\n    }\n\n    .dataframe tbody tr th {\n        vertical-align: top;\n    }\n\n    .dataframe thead th {\n        text-align: right;\n    }\n</style>\n<table border=\"1\" class=\"dataframe\">\n  <thead>\n    <tr style=\"text-align: right;\">\n      <th></th>\n      <th>worker_id</th>\n      <th>wage</th>\n      <th>accepted</th>\n      <th>stage2_creation</th>\n      <th>stage2_creation_str</th>\n      <th>stage2_accept_time</th>\n      <th>stage2_submit_time</th>\n      <th>lwage</th>\n      <th>age</th>\n      <th>onlinehrs_str</th>\n      <th>reason</th>\n      <th>stage1_accept_time</th>\n      <th>stage1_submit_time</th>\n      <th>onlinehrs</th>\n      <th>sophisticated</th>\n      <th>suspended</th>\n    </tr>\n  </thead>\n  <tbody>\n    <tr>\n      <th>0</th>\n      <td>A101J0P2UYUKA1</td>\n      <td>1.05</td>\n      <td>1</td>\n      <td>2022-10-13 15:32:15</td>\n      <td>2022-10-13 15:32:15-07:00</td>\n      <td>2022-10-13 15:41:19-07:00</td>\n      <td>2022-10-13 15:48:31-07:00</td>\n      <td>0.04879</td>\n      <td>23</td>\n      <td>40</td>\n      <td>skills</td>\n      <td>2022-10-13 15:01:17-07:00</td>\n      <td>2022-10-13 15:03:12-07:00</td>\n      <td>40.0</td>\n      <td>0</td>\n      <td>False</td>\n    </tr>\n  </tbody>\n</table>\n</div>"
     },
     "execution_count": 5,
     "metadata": {},
     "output_type": "execute_result"
    }
   ],
   "source": [
    "mt_df.head(1)"
   ]
  },
  {
   "cell_type": "code",
   "execution_count": 6,
   "id": "825320d9-ddf6-4da5-9972-5e16404c8d69",
   "metadata": {
    "pycharm": {
     "name": "#%%\n"
    }
   },
   "outputs": [],
   "source": [
    "mt_rename = {\n",
    "    'Answer.age': 'age',\n",
    "    'Answer.onlinehrs': 'onlinehrs',\n",
    "    'Answer.reason': 'reason',\n",
    "    'worker_id': 'mt_id',\n",
    "    'completed_stage2': 'submitted_hit',\n",
    "}\n",
    "mt_df.rename(columns=mt_rename, inplace=True)"
   ]
  },
  {
   "cell_type": "markdown",
   "id": "b81dcc30-aed0-438f-9da5-a0dd39a78329",
   "metadata": {
    "pycharm": {
     "name": "#%% md\n"
    }
   },
   "source": [
    "### (b) Load Qualtrics data"
   ]
  },
  {
   "cell_type": "code",
   "execution_count": 7,
   "id": "beb11016-fbe2-477c-a2a0-a7c45f7b1128",
   "metadata": {
    "pycharm": {
     "name": "#%%\n"
    }
   },
   "outputs": [
    {
     "data": {
      "text/plain": "['../results_2stage\\\\Job+Quality+NonWM+12.0_October+14,+2022_14.43.xlsx',\n '../results_2stage\\\\Job+Quality+NonWM+13.0_October+15,+2022_18.07.xlsx']"
     },
     "execution_count": 7,
     "metadata": {},
     "output_type": "execute_result"
    }
   ],
   "source": [
    "xlsx_files = glob.glob(\"../results_2stage/*.xlsx\")\n",
    "xlsx_files"
   ]
  },
  {
   "cell_type": "code",
   "execution_count": 8,
   "outputs": [
    {
     "name": "stderr",
     "output_type": "stream",
     "text": [
      "C:\\Users\\jpjac\\lib\\site-packages\\openpyxl\\styles\\stylesheet.py:226: UserWarning: Workbook contains no default style, apply openpyxl's default\n",
      "  warn(\"Workbook contains no default style, apply openpyxl's default\")\n"
     ]
    }
   ],
   "source": [
    "# If only loading one file\n",
    "qual_df = pd.read_excel(xlsx_files[-1])\n",
    "qual_df = qual_df.iloc[1:].copy()\n",
    "qual_df['qualtrics_source'] = os.path.basename(xlsx_files[-1])"
   ],
   "metadata": {
    "collapsed": false,
    "pycharm": {
     "name": "#%%\n"
    }
   }
  },
  {
   "cell_type": "code",
   "execution_count": 9,
   "id": "be152c13-e8fd-44c7-a690-5e5fcf827b77",
   "metadata": {
    "pycharm": {
     "name": "#%%\n"
    }
   },
   "outputs": [],
   "source": [
    "# If loading multiple\n",
    "def load_multiple_xlsx():\n",
    "    all_qual_dfs = []\n",
    "    for cur_xlsx_file in xlsx_files:\n",
    "        print(cur_xlsx_file)\n",
    "        cur_qual_df = pd.read_excel(cur_xlsx_file)\n",
    "        cur_qual_df = cur_qual_df.iloc[1:].copy()\n",
    "        cur_qual_df['qualtrics_source'] = os.path.basename(cur_xlsx_file)\n",
    "        all_qual_dfs.append(cur_qual_df)\n",
    "    qual_df = pd.concat(all_qual_dfs)"
   ]
  },
  {
   "cell_type": "code",
   "execution_count": 9,
   "id": "1a70f2b8-64f9-4829-8774-29789dd13185",
   "metadata": {
    "pycharm": {
     "name": "#%%\n"
    }
   },
   "outputs": [],
   "source": []
  },
  {
   "cell_type": "code",
   "execution_count": 10,
   "id": "add04b13-8915-47ce-8283-62cbf29d848c",
   "metadata": {
    "pycharm": {
     "name": "#%%\n"
    }
   },
   "outputs": [],
   "source": [
    "qual_rename = {\n",
    "    'Duration (in seconds)': 'duration_seconds',\n",
    "}\n",
    "qual_df.rename(columns=qual_rename, inplace=True)\n",
    "qual_drop = ['RecipientLastName','RecipientFirstName',\n",
    "             'RecipientEmail','ExternalReference','LocationLatitude','LocationLongitude',\n",
    "             'Finished']\n",
    "qual_df.drop(columns=qual_drop, inplace=True)"
   ]
  },
  {
   "cell_type": "code",
   "execution_count": 11,
   "outputs": [],
   "source": [
    "qual_df.drop(columns=[c for c in qual_df.columns if c.startswith(\"name_\")], inplace=True)\n",
    "qual_df.drop(columns=[c for c in qual_df.columns if c.startswith(\"cur_\")], inplace=True)\n",
    "qual_df.drop(columns=[c for c in qual_df.columns if c.startswith(\"val_\")], inplace=True)\n",
    "qual_df.drop(columns=[c for c in qual_df.columns if c.endswith(\"_tense\")], inplace=True)"
   ],
   "metadata": {
    "collapsed": false,
    "pycharm": {
     "name": "#%%\n"
    }
   }
  },
  {
   "cell_type": "code",
   "execution_count": 12,
   "outputs": [],
   "source": [
    "qual_df.sort_values(by=['mt_id','RecordedDate'], inplace=True)"
   ],
   "metadata": {
    "collapsed": false,
    "pycharm": {
     "name": "#%%\n"
    }
   }
  },
  {
   "cell_type": "code",
   "execution_count": 13,
   "outputs": [],
   "source": [
    "# And keep only the most recent\n",
    "qual_df_nodup = qual_df[~qual_df.duplicated(subset=['mt_id'], keep='last')].copy()"
   ],
   "metadata": {
    "collapsed": false,
    "pycharm": {
     "name": "#%%\n"
    }
   }
  },
  {
   "cell_type": "code",
   "execution_count": 14,
   "outputs": [
    {
     "data": {
      "text/plain": "               StartDate              EndDate      Status        IPAddress  \\\n348  2022-10-13 16:42:13  2022-10-13 16:48:21  IP Address  147.124.221.155   \n35   2022-10-03 23:39:50  2022-10-03 23:45:00  IP Address  208.218.230.165   \n442  2022-10-13 19:10:22  2022-10-13 19:48:43  IP Address    45.196.144.33   \n595  2022-10-13 20:46:36  2022-10-13 21:04:08  IP Address  208.194.196.137   \n166  2022-10-08 00:25:04  2022-10-08 00:28:12  IP Address      73.9.146.59   \n..                   ...                  ...         ...              ...   \n637  2022-10-15 11:20:57  2022-10-15 11:39:35  IP Address  208.195.171.132   \n38   2022-10-03 23:28:50  2022-10-03 23:47:01  IP Address   12.160.225.181   \n185  2022-10-10 23:10:09  2022-10-10 23:31:50  IP Address   208.218.230.79   \n361  2022-10-13 16:54:21  2022-10-13 16:58:07  IP Address    208.216.21.76   \n568  2022-10-13 17:29:07  2022-10-13 17:29:18  IP Address    63.160.189.13   \n\n    Progress duration_seconds                RecordedDate         ResponseId  \\\n348    100.0            367.0  2022-10-13 16:48:22.384000  R_wYPTmiPyILfMiYx   \n35     100.0            310.0  2022-10-03 23:45:00.912000  R_1FyRO1zpuPvF7AI   \n442    100.0           2300.0  2022-10-13 19:48:43.694000  R_4UDbohxXH4PoNTX   \n595      9.0           1052.0  2022-10-14 21:04:16.411000  R_1o6xtc6VU3ebaIy   \n166      9.0            187.0  2022-10-09 00:28:20.360000  R_2CNa8f5fkqEf9Kj   \n..       ...              ...                         ...                ...   \n637    100.0           1117.0  2022-10-15 11:39:36.498000  R_1nO39fbXfHencu6   \n38     100.0           1091.0  2022-10-03 23:47:02.401000  R_2ylNADheACI4JpO   \n185    100.0           1300.0  2022-10-10 23:31:51.047000  R_1Q5CgEW0SGP6Rju   \n361    100.0            226.0  2022-10-13 16:58:08.946000  R_1JQKJoMb00c5BT8   \n568      1.0             10.0  2022-10-14 17:29:19.844000  R_1jCAQO1wry5NzGm   \n\n    DistributionChannel UserLanguage  ...   generated_jobtitle_22  \\\n348           anonymous           EN  ...  INFORMATION TECHNOLOGY   \n35            anonymous           EN  ...             Healthcare    \n442           anonymous           EN  ...                      IT   \n595           anonymous           EN  ...                     NaN   \n166           anonymous           EN  ...                     NaN   \n..                  ...          ...  ...                     ...   \n637           anonymous           EN  ...       Marketing Manager   \n38            anonymous           EN  ...                   ADMIN   \n185           anonymous           EN  ...    Middle level manager   \n361           anonymous           EN  ...  information technology   \n568           anonymous           EN  ...                     NaN   \n\n      generated_jobtitle_23   generated_jobtitle_24   generated_jobtitle_25  \\\n348  INFORMATION TECHNOLOGY  INFORMATION TECHNOLOGY  INFORMATION TECHNOLOGY   \n35              Healthcare              Healthcare              Healthcare    \n442                      IT                      IT                      IT   \n595                     NaN                     NaN                     NaN   \n166                     NaN                     NaN                     NaN   \n..                      ...                     ...                     ...   \n637       Marketing Manager       Marketing Manager       Marketing Manager   \n38                    ADMIN                   ADMIN                   ADMIN   \n185    Middle level manager    Middle level manager    Middle level manager   \n361  information technology  information technology  information technology   \n568                     NaN                     NaN                     NaN   \n\n      generated_jobtitle_26   generated_jobtitle_27   generated_jobtitle_28  \\\n348  INFORMATION TECHNOLOGY  INFORMATION TECHNOLOGY  INFORMATION TECHNOLOGY   \n35              Healthcare              Healthcare              Healthcare    \n442                      IT                      IT                      IT   \n595                     NaN                     NaN                     NaN   \n166                     NaN                     NaN                     NaN   \n..                      ...                     ...                     ...   \n637       Marketing Manager       Marketing Manager       Marketing Manager   \n38                    ADMIN                   ADMIN                   ADMIN   \n185    Middle level manager    Middle level manager    Middle level manager   \n361  information technology  information technology  information technology   \n568                     NaN                     NaN                     NaN   \n\n      generated_jobtitle_29   generated_jobtitle_30  \\\n348  INFORMATION TECHNOLOGY  INFORMATION TECHNOLOGY   \n35              Healthcare              Healthcare    \n442                      IT                      IT   \n595                     NaN                     NaN   \n166                     NaN                     NaN   \n..                      ...                     ...   \n637       Marketing Manager       Marketing Manager   \n38                    ADMIN                   ADMIN   \n185    Middle level manager    Middle level manager   \n361  information technology  information technology   \n568                     NaN                     NaN   \n\n                                      qualtrics_source  \n348  Job+Quality+NonWM+13.0_October+15,+2022_18.07....  \n35   Job+Quality+NonWM+13.0_October+15,+2022_18.07....  \n442  Job+Quality+NonWM+13.0_October+15,+2022_18.07....  \n595  Job+Quality+NonWM+13.0_October+15,+2022_18.07....  \n166  Job+Quality+NonWM+13.0_October+15,+2022_18.07....  \n..                                                 ...  \n637  Job+Quality+NonWM+13.0_October+15,+2022_18.07....  \n38   Job+Quality+NonWM+13.0_October+15,+2022_18.07....  \n185  Job+Quality+NonWM+13.0_October+15,+2022_18.07....  \n361  Job+Quality+NonWM+13.0_October+15,+2022_18.07....  \n568  Job+Quality+NonWM+13.0_October+15,+2022_18.07....  \n\n[712 rows x 509 columns]",
      "text/html": "<div>\n<style scoped>\n    .dataframe tbody tr th:only-of-type {\n        vertical-align: middle;\n    }\n\n    .dataframe tbody tr th {\n        vertical-align: top;\n    }\n\n    .dataframe thead th {\n        text-align: right;\n    }\n</style>\n<table border=\"1\" class=\"dataframe\">\n  <thead>\n    <tr style=\"text-align: right;\">\n      <th></th>\n      <th>StartDate</th>\n      <th>EndDate</th>\n      <th>Status</th>\n      <th>IPAddress</th>\n      <th>Progress</th>\n      <th>duration_seconds</th>\n      <th>RecordedDate</th>\n      <th>ResponseId</th>\n      <th>DistributionChannel</th>\n      <th>UserLanguage</th>\n      <th>...</th>\n      <th>generated_jobtitle_22</th>\n      <th>generated_jobtitle_23</th>\n      <th>generated_jobtitle_24</th>\n      <th>generated_jobtitle_25</th>\n      <th>generated_jobtitle_26</th>\n      <th>generated_jobtitle_27</th>\n      <th>generated_jobtitle_28</th>\n      <th>generated_jobtitle_29</th>\n      <th>generated_jobtitle_30</th>\n      <th>qualtrics_source</th>\n    </tr>\n  </thead>\n  <tbody>\n    <tr>\n      <th>348</th>\n      <td>2022-10-13 16:42:13</td>\n      <td>2022-10-13 16:48:21</td>\n      <td>IP Address</td>\n      <td>147.124.221.155</td>\n      <td>100.0</td>\n      <td>367.0</td>\n      <td>2022-10-13 16:48:22.384000</td>\n      <td>R_wYPTmiPyILfMiYx</td>\n      <td>anonymous</td>\n      <td>EN</td>\n      <td>...</td>\n      <td>INFORMATION TECHNOLOGY</td>\n      <td>INFORMATION TECHNOLOGY</td>\n      <td>INFORMATION TECHNOLOGY</td>\n      <td>INFORMATION TECHNOLOGY</td>\n      <td>INFORMATION TECHNOLOGY</td>\n      <td>INFORMATION TECHNOLOGY</td>\n      <td>INFORMATION TECHNOLOGY</td>\n      <td>INFORMATION TECHNOLOGY</td>\n      <td>INFORMATION TECHNOLOGY</td>\n      <td>Job+Quality+NonWM+13.0_October+15,+2022_18.07....</td>\n    </tr>\n    <tr>\n      <th>35</th>\n      <td>2022-10-03 23:39:50</td>\n      <td>2022-10-03 23:45:00</td>\n      <td>IP Address</td>\n      <td>208.218.230.165</td>\n      <td>100.0</td>\n      <td>310.0</td>\n      <td>2022-10-03 23:45:00.912000</td>\n      <td>R_1FyRO1zpuPvF7AI</td>\n      <td>anonymous</td>\n      <td>EN</td>\n      <td>...</td>\n      <td>Healthcare</td>\n      <td>Healthcare</td>\n      <td>Healthcare</td>\n      <td>Healthcare</td>\n      <td>Healthcare</td>\n      <td>Healthcare</td>\n      <td>Healthcare</td>\n      <td>Healthcare</td>\n      <td>Healthcare</td>\n      <td>Job+Quality+NonWM+13.0_October+15,+2022_18.07....</td>\n    </tr>\n    <tr>\n      <th>442</th>\n      <td>2022-10-13 19:10:22</td>\n      <td>2022-10-13 19:48:43</td>\n      <td>IP Address</td>\n      <td>45.196.144.33</td>\n      <td>100.0</td>\n      <td>2300.0</td>\n      <td>2022-10-13 19:48:43.694000</td>\n      <td>R_4UDbohxXH4PoNTX</td>\n      <td>anonymous</td>\n      <td>EN</td>\n      <td>...</td>\n      <td>IT</td>\n      <td>IT</td>\n      <td>IT</td>\n      <td>IT</td>\n      <td>IT</td>\n      <td>IT</td>\n      <td>IT</td>\n      <td>IT</td>\n      <td>IT</td>\n      <td>Job+Quality+NonWM+13.0_October+15,+2022_18.07....</td>\n    </tr>\n    <tr>\n      <th>595</th>\n      <td>2022-10-13 20:46:36</td>\n      <td>2022-10-13 21:04:08</td>\n      <td>IP Address</td>\n      <td>208.194.196.137</td>\n      <td>9.0</td>\n      <td>1052.0</td>\n      <td>2022-10-14 21:04:16.411000</td>\n      <td>R_1o6xtc6VU3ebaIy</td>\n      <td>anonymous</td>\n      <td>EN</td>\n      <td>...</td>\n      <td>NaN</td>\n      <td>NaN</td>\n      <td>NaN</td>\n      <td>NaN</td>\n      <td>NaN</td>\n      <td>NaN</td>\n      <td>NaN</td>\n      <td>NaN</td>\n      <td>NaN</td>\n      <td>Job+Quality+NonWM+13.0_October+15,+2022_18.07....</td>\n    </tr>\n    <tr>\n      <th>166</th>\n      <td>2022-10-08 00:25:04</td>\n      <td>2022-10-08 00:28:12</td>\n      <td>IP Address</td>\n      <td>73.9.146.59</td>\n      <td>9.0</td>\n      <td>187.0</td>\n      <td>2022-10-09 00:28:20.360000</td>\n      <td>R_2CNa8f5fkqEf9Kj</td>\n      <td>anonymous</td>\n      <td>EN</td>\n      <td>...</td>\n      <td>NaN</td>\n      <td>NaN</td>\n      <td>NaN</td>\n      <td>NaN</td>\n      <td>NaN</td>\n      <td>NaN</td>\n      <td>NaN</td>\n      <td>NaN</td>\n      <td>NaN</td>\n      <td>Job+Quality+NonWM+13.0_October+15,+2022_18.07....</td>\n    </tr>\n    <tr>\n      <th>...</th>\n      <td>...</td>\n      <td>...</td>\n      <td>...</td>\n      <td>...</td>\n      <td>...</td>\n      <td>...</td>\n      <td>...</td>\n      <td>...</td>\n      <td>...</td>\n      <td>...</td>\n      <td>...</td>\n      <td>...</td>\n      <td>...</td>\n      <td>...</td>\n      <td>...</td>\n      <td>...</td>\n      <td>...</td>\n      <td>...</td>\n      <td>...</td>\n      <td>...</td>\n      <td>...</td>\n    </tr>\n    <tr>\n      <th>637</th>\n      <td>2022-10-15 11:20:57</td>\n      <td>2022-10-15 11:39:35</td>\n      <td>IP Address</td>\n      <td>208.195.171.132</td>\n      <td>100.0</td>\n      <td>1117.0</td>\n      <td>2022-10-15 11:39:36.498000</td>\n      <td>R_1nO39fbXfHencu6</td>\n      <td>anonymous</td>\n      <td>EN</td>\n      <td>...</td>\n      <td>Marketing Manager</td>\n      <td>Marketing Manager</td>\n      <td>Marketing Manager</td>\n      <td>Marketing Manager</td>\n      <td>Marketing Manager</td>\n      <td>Marketing Manager</td>\n      <td>Marketing Manager</td>\n      <td>Marketing Manager</td>\n      <td>Marketing Manager</td>\n      <td>Job+Quality+NonWM+13.0_October+15,+2022_18.07....</td>\n    </tr>\n    <tr>\n      <th>38</th>\n      <td>2022-10-03 23:28:50</td>\n      <td>2022-10-03 23:47:01</td>\n      <td>IP Address</td>\n      <td>12.160.225.181</td>\n      <td>100.0</td>\n      <td>1091.0</td>\n      <td>2022-10-03 23:47:02.401000</td>\n      <td>R_2ylNADheACI4JpO</td>\n      <td>anonymous</td>\n      <td>EN</td>\n      <td>...</td>\n      <td>ADMIN</td>\n      <td>ADMIN</td>\n      <td>ADMIN</td>\n      <td>ADMIN</td>\n      <td>ADMIN</td>\n      <td>ADMIN</td>\n      <td>ADMIN</td>\n      <td>ADMIN</td>\n      <td>ADMIN</td>\n      <td>Job+Quality+NonWM+13.0_October+15,+2022_18.07....</td>\n    </tr>\n    <tr>\n      <th>185</th>\n      <td>2022-10-10 23:10:09</td>\n      <td>2022-10-10 23:31:50</td>\n      <td>IP Address</td>\n      <td>208.218.230.79</td>\n      <td>100.0</td>\n      <td>1300.0</td>\n      <td>2022-10-10 23:31:51.047000</td>\n      <td>R_1Q5CgEW0SGP6Rju</td>\n      <td>anonymous</td>\n      <td>EN</td>\n      <td>...</td>\n      <td>Middle level manager</td>\n      <td>Middle level manager</td>\n      <td>Middle level manager</td>\n      <td>Middle level manager</td>\n      <td>Middle level manager</td>\n      <td>Middle level manager</td>\n      <td>Middle level manager</td>\n      <td>Middle level manager</td>\n      <td>Middle level manager</td>\n      <td>Job+Quality+NonWM+13.0_October+15,+2022_18.07....</td>\n    </tr>\n    <tr>\n      <th>361</th>\n      <td>2022-10-13 16:54:21</td>\n      <td>2022-10-13 16:58:07</td>\n      <td>IP Address</td>\n      <td>208.216.21.76</td>\n      <td>100.0</td>\n      <td>226.0</td>\n      <td>2022-10-13 16:58:08.946000</td>\n      <td>R_1JQKJoMb00c5BT8</td>\n      <td>anonymous</td>\n      <td>EN</td>\n      <td>...</td>\n      <td>information technology</td>\n      <td>information technology</td>\n      <td>information technology</td>\n      <td>information technology</td>\n      <td>information technology</td>\n      <td>information technology</td>\n      <td>information technology</td>\n      <td>information technology</td>\n      <td>information technology</td>\n      <td>Job+Quality+NonWM+13.0_October+15,+2022_18.07....</td>\n    </tr>\n    <tr>\n      <th>568</th>\n      <td>2022-10-13 17:29:07</td>\n      <td>2022-10-13 17:29:18</td>\n      <td>IP Address</td>\n      <td>63.160.189.13</td>\n      <td>1.0</td>\n      <td>10.0</td>\n      <td>2022-10-14 17:29:19.844000</td>\n      <td>R_1jCAQO1wry5NzGm</td>\n      <td>anonymous</td>\n      <td>EN</td>\n      <td>...</td>\n      <td>NaN</td>\n      <td>NaN</td>\n      <td>NaN</td>\n      <td>NaN</td>\n      <td>NaN</td>\n      <td>NaN</td>\n      <td>NaN</td>\n      <td>NaN</td>\n      <td>NaN</td>\n      <td>Job+Quality+NonWM+13.0_October+15,+2022_18.07....</td>\n    </tr>\n  </tbody>\n</table>\n<p>712 rows × 509 columns</p>\n</div>"
     },
     "execution_count": 14,
     "metadata": {},
     "output_type": "execute_result"
    }
   ],
   "source": [
    "qual_df_nodup"
   ],
   "metadata": {
    "collapsed": false,
    "pycharm": {
     "name": "#%%\n"
    }
   }
  },
  {
   "cell_type": "code",
   "execution_count": 15,
   "id": "b793cb05-4eec-463e-868c-81b295c8ae67",
   "metadata": {
    "pycharm": {
     "name": "#%%\n"
    }
   },
   "outputs": [],
   "source": [
    "#qual_df[qual_df.duplicated(subset=['mt_id'], keep=False)]"
   ]
  },
  {
   "cell_type": "markdown",
   "id": "f39b7a5e-e2b5-47aa-ad36-af8daf866596",
   "metadata": {
    "pycharm": {
     "name": "#%% md\n"
    }
   },
   "source": [
    "### And merge"
   ]
  },
  {
   "cell_type": "code",
   "execution_count": 16,
   "id": "13e739dc-05e5-4e62-9c32-0b7773db7c70",
   "metadata": {
    "pycharm": {
     "name": "#%%\n"
    }
   },
   "outputs": [],
   "source": [
    "merged_df = mt_df.merge(qual_df_nodup, how='left', on='mt_id', indicator=True)"
   ]
  },
  {
   "cell_type": "code",
   "execution_count": 17,
   "outputs": [
    {
     "data": {
      "text/plain": "              mt_id wage_x  accepted     stage2_creation  \\\n0    A101J0P2UYUKA1   1.05         1 2022-10-13 15:32:15   \n1    A10AKR84P1WXHL   0.98         1 2022-10-03 22:26:00   \n2    A10W3EILX06DFO   0.50         1 2022-10-13 17:29:28   \n3    A114Q54Z648PKO   1.05         1 2022-10-13 18:37:57   \n4     A1198W1SPF1R4   1.02         0 2022-10-07 14:06:16   \n..              ...    ...       ...                 ...   \n795   AZFXFW2ZDX54B   1.00         1 2022-10-14 18:56:27   \n796   AZH32KEBRPRES   0.98         1 2022-10-03 22:20:25   \n797   AZNWVHY3AUSNT   0.95         1 2022-10-10 22:04:06   \n798   AZPXDIOTEH989   0.50         1 2022-10-13 15:32:47   \n799   AZSBLMZUI0BRC   1.02         0 2022-10-13 15:32:06   \n\n           stage2_creation_str        stage2_accept_time  \\\n0    2022-10-13 15:32:15-07:00 2022-10-13 15:41:19-07:00   \n1    2022-10-03 22:26:00-07:00 2022-10-03 22:28:30-07:00   \n2    2022-10-13 17:29:28-07:00 2022-10-13 18:07:12-07:00   \n3    2022-10-13 18:37:57-07:00 2022-10-13 19:41:48-07:00   \n4    2022-10-07 14:06:16-07:00                       NaT   \n..                         ...                       ...   \n795  2022-10-14 18:56:27-07:00 2022-10-15 10:20:48-07:00   \n796  2022-10-03 22:20:25-07:00 2022-10-03 22:22:15-07:00   \n797  2022-10-10 22:04:06-07:00 2022-10-10 22:07:03-07:00   \n798  2022-10-13 15:32:47-07:00 2022-10-13 15:37:33-07:00   \n799  2022-10-13 15:32:06-07:00                       NaT   \n\n           stage2_submit_time     lwage age onlinehrs_str  ...  \\\n0   2022-10-13 15:48:31-07:00  0.048790  23            40  ...   \n1   2022-10-03 23:05:39-07:00 -0.020203  27            36  ...   \n2   2022-10-13 19:03:30-07:00 -0.693147  35            40  ...   \n3   2022-10-13 20:30:31-07:00  0.048790  25             8  ...   \n4                         NaT  0.019803  54            40  ...   \n..                        ...       ...  ..           ...  ...   \n795 2022-10-15 10:39:45-07:00  0.000000  25           120  ...   \n796 2022-10-03 22:47:16-07:00 -0.020203  32            25  ...   \n797 2022-10-10 22:32:03-07:00 -0.051293  51            48  ...   \n798 2022-10-13 15:58:15-07:00 -0.693147  25            35  ...   \n799                       NaT  0.019803  25            10  ...   \n\n      generated_jobtitle_23   generated_jobtitle_24   generated_jobtitle_25  \\\n0    INFORMATION TECHNOLOGY  INFORMATION TECHNOLOGY  INFORMATION TECHNOLOGY   \n1               Healthcare              Healthcare              Healthcare    \n2                        IT                      IT                      IT   \n3                       NaN                     NaN                     NaN   \n4                       NaN                     NaN                     NaN   \n..                      ...                     ...                     ...   \n795       Marketing Manager       Marketing Manager       Marketing Manager   \n796                   ADMIN                   ADMIN                   ADMIN   \n797    Middle level manager    Middle level manager    Middle level manager   \n798  information technology  information technology  information technology   \n799                     NaN                     NaN                     NaN   \n\n      generated_jobtitle_26   generated_jobtitle_27   generated_jobtitle_28  \\\n0    INFORMATION TECHNOLOGY  INFORMATION TECHNOLOGY  INFORMATION TECHNOLOGY   \n1               Healthcare              Healthcare              Healthcare    \n2                        IT                      IT                      IT   \n3                       NaN                     NaN                     NaN   \n4                       NaN                     NaN                     NaN   \n..                      ...                     ...                     ...   \n795       Marketing Manager       Marketing Manager       Marketing Manager   \n796                   ADMIN                   ADMIN                   ADMIN   \n797    Middle level manager    Middle level manager    Middle level manager   \n798  information technology  information technology  information technology   \n799                     NaN                     NaN                     NaN   \n\n      generated_jobtitle_29   generated_jobtitle_30  \\\n0    INFORMATION TECHNOLOGY  INFORMATION TECHNOLOGY   \n1               Healthcare              Healthcare    \n2                        IT                      IT   \n3                       NaN                     NaN   \n4                       NaN                     NaN   \n..                      ...                     ...   \n795       Marketing Manager       Marketing Manager   \n796                   ADMIN                   ADMIN   \n797    Middle level manager    Middle level manager   \n798  information technology  information technology   \n799                     NaN                     NaN   \n\n                                      qualtrics_source _merge  \n0    Job+Quality+NonWM+13.0_October+15,+2022_18.07....   both  \n1    Job+Quality+NonWM+13.0_October+15,+2022_18.07....   both  \n2    Job+Quality+NonWM+13.0_October+15,+2022_18.07....   both  \n3    Job+Quality+NonWM+13.0_October+15,+2022_18.07....   both  \n4    Job+Quality+NonWM+13.0_October+15,+2022_18.07....   both  \n..                                                 ...    ...  \n795  Job+Quality+NonWM+13.0_October+15,+2022_18.07....   both  \n796  Job+Quality+NonWM+13.0_October+15,+2022_18.07....   both  \n797  Job+Quality+NonWM+13.0_October+15,+2022_18.07....   both  \n798  Job+Quality+NonWM+13.0_October+15,+2022_18.07....   both  \n799  Job+Quality+NonWM+13.0_October+15,+2022_18.07....   both  \n\n[800 rows x 525 columns]",
      "text/html": "<div>\n<style scoped>\n    .dataframe tbody tr th:only-of-type {\n        vertical-align: middle;\n    }\n\n    .dataframe tbody tr th {\n        vertical-align: top;\n    }\n\n    .dataframe thead th {\n        text-align: right;\n    }\n</style>\n<table border=\"1\" class=\"dataframe\">\n  <thead>\n    <tr style=\"text-align: right;\">\n      <th></th>\n      <th>mt_id</th>\n      <th>wage_x</th>\n      <th>accepted</th>\n      <th>stage2_creation</th>\n      <th>stage2_creation_str</th>\n      <th>stage2_accept_time</th>\n      <th>stage2_submit_time</th>\n      <th>lwage</th>\n      <th>age</th>\n      <th>onlinehrs_str</th>\n      <th>...</th>\n      <th>generated_jobtitle_23</th>\n      <th>generated_jobtitle_24</th>\n      <th>generated_jobtitle_25</th>\n      <th>generated_jobtitle_26</th>\n      <th>generated_jobtitle_27</th>\n      <th>generated_jobtitle_28</th>\n      <th>generated_jobtitle_29</th>\n      <th>generated_jobtitle_30</th>\n      <th>qualtrics_source</th>\n      <th>_merge</th>\n    </tr>\n  </thead>\n  <tbody>\n    <tr>\n      <th>0</th>\n      <td>A101J0P2UYUKA1</td>\n      <td>1.05</td>\n      <td>1</td>\n      <td>2022-10-13 15:32:15</td>\n      <td>2022-10-13 15:32:15-07:00</td>\n      <td>2022-10-13 15:41:19-07:00</td>\n      <td>2022-10-13 15:48:31-07:00</td>\n      <td>0.048790</td>\n      <td>23</td>\n      <td>40</td>\n      <td>...</td>\n      <td>INFORMATION TECHNOLOGY</td>\n      <td>INFORMATION TECHNOLOGY</td>\n      <td>INFORMATION TECHNOLOGY</td>\n      <td>INFORMATION TECHNOLOGY</td>\n      <td>INFORMATION TECHNOLOGY</td>\n      <td>INFORMATION TECHNOLOGY</td>\n      <td>INFORMATION TECHNOLOGY</td>\n      <td>INFORMATION TECHNOLOGY</td>\n      <td>Job+Quality+NonWM+13.0_October+15,+2022_18.07....</td>\n      <td>both</td>\n    </tr>\n    <tr>\n      <th>1</th>\n      <td>A10AKR84P1WXHL</td>\n      <td>0.98</td>\n      <td>1</td>\n      <td>2022-10-03 22:26:00</td>\n      <td>2022-10-03 22:26:00-07:00</td>\n      <td>2022-10-03 22:28:30-07:00</td>\n      <td>2022-10-03 23:05:39-07:00</td>\n      <td>-0.020203</td>\n      <td>27</td>\n      <td>36</td>\n      <td>...</td>\n      <td>Healthcare</td>\n      <td>Healthcare</td>\n      <td>Healthcare</td>\n      <td>Healthcare</td>\n      <td>Healthcare</td>\n      <td>Healthcare</td>\n      <td>Healthcare</td>\n      <td>Healthcare</td>\n      <td>Job+Quality+NonWM+13.0_October+15,+2022_18.07....</td>\n      <td>both</td>\n    </tr>\n    <tr>\n      <th>2</th>\n      <td>A10W3EILX06DFO</td>\n      <td>0.50</td>\n      <td>1</td>\n      <td>2022-10-13 17:29:28</td>\n      <td>2022-10-13 17:29:28-07:00</td>\n      <td>2022-10-13 18:07:12-07:00</td>\n      <td>2022-10-13 19:03:30-07:00</td>\n      <td>-0.693147</td>\n      <td>35</td>\n      <td>40</td>\n      <td>...</td>\n      <td>IT</td>\n      <td>IT</td>\n      <td>IT</td>\n      <td>IT</td>\n      <td>IT</td>\n      <td>IT</td>\n      <td>IT</td>\n      <td>IT</td>\n      <td>Job+Quality+NonWM+13.0_October+15,+2022_18.07....</td>\n      <td>both</td>\n    </tr>\n    <tr>\n      <th>3</th>\n      <td>A114Q54Z648PKO</td>\n      <td>1.05</td>\n      <td>1</td>\n      <td>2022-10-13 18:37:57</td>\n      <td>2022-10-13 18:37:57-07:00</td>\n      <td>2022-10-13 19:41:48-07:00</td>\n      <td>2022-10-13 20:30:31-07:00</td>\n      <td>0.048790</td>\n      <td>25</td>\n      <td>8</td>\n      <td>...</td>\n      <td>NaN</td>\n      <td>NaN</td>\n      <td>NaN</td>\n      <td>NaN</td>\n      <td>NaN</td>\n      <td>NaN</td>\n      <td>NaN</td>\n      <td>NaN</td>\n      <td>Job+Quality+NonWM+13.0_October+15,+2022_18.07....</td>\n      <td>both</td>\n    </tr>\n    <tr>\n      <th>4</th>\n      <td>A1198W1SPF1R4</td>\n      <td>1.02</td>\n      <td>0</td>\n      <td>2022-10-07 14:06:16</td>\n      <td>2022-10-07 14:06:16-07:00</td>\n      <td>NaT</td>\n      <td>NaT</td>\n      <td>0.019803</td>\n      <td>54</td>\n      <td>40</td>\n      <td>...</td>\n      <td>NaN</td>\n      <td>NaN</td>\n      <td>NaN</td>\n      <td>NaN</td>\n      <td>NaN</td>\n      <td>NaN</td>\n      <td>NaN</td>\n      <td>NaN</td>\n      <td>Job+Quality+NonWM+13.0_October+15,+2022_18.07....</td>\n      <td>both</td>\n    </tr>\n    <tr>\n      <th>...</th>\n      <td>...</td>\n      <td>...</td>\n      <td>...</td>\n      <td>...</td>\n      <td>...</td>\n      <td>...</td>\n      <td>...</td>\n      <td>...</td>\n      <td>...</td>\n      <td>...</td>\n      <td>...</td>\n      <td>...</td>\n      <td>...</td>\n      <td>...</td>\n      <td>...</td>\n      <td>...</td>\n      <td>...</td>\n      <td>...</td>\n      <td>...</td>\n      <td>...</td>\n      <td>...</td>\n    </tr>\n    <tr>\n      <th>795</th>\n      <td>AZFXFW2ZDX54B</td>\n      <td>1.00</td>\n      <td>1</td>\n      <td>2022-10-14 18:56:27</td>\n      <td>2022-10-14 18:56:27-07:00</td>\n      <td>2022-10-15 10:20:48-07:00</td>\n      <td>2022-10-15 10:39:45-07:00</td>\n      <td>0.000000</td>\n      <td>25</td>\n      <td>120</td>\n      <td>...</td>\n      <td>Marketing Manager</td>\n      <td>Marketing Manager</td>\n      <td>Marketing Manager</td>\n      <td>Marketing Manager</td>\n      <td>Marketing Manager</td>\n      <td>Marketing Manager</td>\n      <td>Marketing Manager</td>\n      <td>Marketing Manager</td>\n      <td>Job+Quality+NonWM+13.0_October+15,+2022_18.07....</td>\n      <td>both</td>\n    </tr>\n    <tr>\n      <th>796</th>\n      <td>AZH32KEBRPRES</td>\n      <td>0.98</td>\n      <td>1</td>\n      <td>2022-10-03 22:20:25</td>\n      <td>2022-10-03 22:20:25-07:00</td>\n      <td>2022-10-03 22:22:15-07:00</td>\n      <td>2022-10-03 22:47:16-07:00</td>\n      <td>-0.020203</td>\n      <td>32</td>\n      <td>25</td>\n      <td>...</td>\n      <td>ADMIN</td>\n      <td>ADMIN</td>\n      <td>ADMIN</td>\n      <td>ADMIN</td>\n      <td>ADMIN</td>\n      <td>ADMIN</td>\n      <td>ADMIN</td>\n      <td>ADMIN</td>\n      <td>Job+Quality+NonWM+13.0_October+15,+2022_18.07....</td>\n      <td>both</td>\n    </tr>\n    <tr>\n      <th>797</th>\n      <td>AZNWVHY3AUSNT</td>\n      <td>0.95</td>\n      <td>1</td>\n      <td>2022-10-10 22:04:06</td>\n      <td>2022-10-10 22:04:06-07:00</td>\n      <td>2022-10-10 22:07:03-07:00</td>\n      <td>2022-10-10 22:32:03-07:00</td>\n      <td>-0.051293</td>\n      <td>51</td>\n      <td>48</td>\n      <td>...</td>\n      <td>Middle level manager</td>\n      <td>Middle level manager</td>\n      <td>Middle level manager</td>\n      <td>Middle level manager</td>\n      <td>Middle level manager</td>\n      <td>Middle level manager</td>\n      <td>Middle level manager</td>\n      <td>Middle level manager</td>\n      <td>Job+Quality+NonWM+13.0_October+15,+2022_18.07....</td>\n      <td>both</td>\n    </tr>\n    <tr>\n      <th>798</th>\n      <td>AZPXDIOTEH989</td>\n      <td>0.50</td>\n      <td>1</td>\n      <td>2022-10-13 15:32:47</td>\n      <td>2022-10-13 15:32:47-07:00</td>\n      <td>2022-10-13 15:37:33-07:00</td>\n      <td>2022-10-13 15:58:15-07:00</td>\n      <td>-0.693147</td>\n      <td>25</td>\n      <td>35</td>\n      <td>...</td>\n      <td>information technology</td>\n      <td>information technology</td>\n      <td>information technology</td>\n      <td>information technology</td>\n      <td>information technology</td>\n      <td>information technology</td>\n      <td>information technology</td>\n      <td>information technology</td>\n      <td>Job+Quality+NonWM+13.0_October+15,+2022_18.07....</td>\n      <td>both</td>\n    </tr>\n    <tr>\n      <th>799</th>\n      <td>AZSBLMZUI0BRC</td>\n      <td>1.02</td>\n      <td>0</td>\n      <td>2022-10-13 15:32:06</td>\n      <td>2022-10-13 15:32:06-07:00</td>\n      <td>NaT</td>\n      <td>NaT</td>\n      <td>0.019803</td>\n      <td>25</td>\n      <td>10</td>\n      <td>...</td>\n      <td>NaN</td>\n      <td>NaN</td>\n      <td>NaN</td>\n      <td>NaN</td>\n      <td>NaN</td>\n      <td>NaN</td>\n      <td>NaN</td>\n      <td>NaN</td>\n      <td>Job+Quality+NonWM+13.0_October+15,+2022_18.07....</td>\n      <td>both</td>\n    </tr>\n  </tbody>\n</table>\n<p>800 rows × 525 columns</p>\n</div>"
     },
     "execution_count": 17,
     "metadata": {},
     "output_type": "execute_result"
    }
   ],
   "source": [
    "# Resolve ties by sorting by date\n",
    "merged_df.sort_values(by=['mt_id','RecordedDate'], inplace=True)\n",
    "#merge_df['mt_id']\n",
    "merged_df"
   ],
   "metadata": {
    "collapsed": false,
    "pycharm": {
     "name": "#%%\n"
    }
   }
  },
  {
   "cell_type": "code",
   "execution_count": 18,
   "outputs": [],
   "source": [
    "merged_df.drop(columns=['wage_y'], inplace=True)\n",
    "merged_df.rename(columns={'wage_x': 'wage_mturk'}, inplace=True)"
   ],
   "metadata": {
    "collapsed": false,
    "pycharm": {
     "name": "#%%\n"
    }
   }
  },
  {
   "cell_type": "code",
   "execution_count": 19,
   "outputs": [],
   "source": [
    "#merge_df[merge_df.duplicated(subset=['mt_id'], keep='last')]"
   ],
   "metadata": {
    "collapsed": false,
    "pycharm": {
     "name": "#%%\n"
    }
   }
  },
  {
   "cell_type": "code",
   "execution_count": 20,
   "id": "ed5e0eab-78c9-475c-b256-bb0d0380cd95",
   "metadata": {
    "pycharm": {
     "name": "#%%\n"
    }
   },
   "outputs": [],
   "source": [
    "# After merging, annoyingly, we have to re-convert the numeric cols\n",
    "obj_vars = ['Progress','duration_seconds']\n",
    "for cur_var in obj_vars:\n",
    "    merged_df[cur_var] = pd.to_numeric(merged_df[cur_var])\n",
    "all_na_vars = ['race_6_TEXT','gender_4_TEXT']\n",
    "for cur_var in all_na_vars:\n",
    "    merged_df[cur_var] = \"\""
   ]
  },
  {
   "cell_type": "code",
   "execution_count": 21,
   "id": "d32f31c0-7537-4240-bde2-4c33c5c49939",
   "metadata": {
    "pycharm": {
     "name": "#%%\n"
    }
   },
   "outputs": [],
   "source": [
    "def gen_case(row_data):\n",
    "    merge_result = row_data['_merge']\n",
    "    if merge_result == 'left_only':\n",
    "        return \"rejected\"\n",
    "    # Here we know they started the survey, but not if they finished\n",
    "    prog = row_data['Progress']\n",
    "    if prog == 100.0:\n",
    "        # They completed the Qualtrics survey\n",
    "        return \"finished_survey\"\n",
    "    return \"did_not_finish\"\n",
    "merged_df['result'] = merged_df.apply(gen_case, axis=1)"
   ]
  },
  {
   "cell_type": "code",
   "execution_count": 22,
   "id": "7b61293f-ea8a-4eb5-b921-8343db1adb46",
   "metadata": {
    "pycharm": {
     "name": "#%%\n"
    }
   },
   "outputs": [
    {
     "data": {
      "text/plain": "0       \n1       \n2       \n3       \n4       \n      ..\n795     \n796     \n797     \n798     \n799     \nName: race_6_TEXT, Length: 800, dtype: object"
     },
     "execution_count": 22,
     "metadata": {},
     "output_type": "execute_result"
    }
   ],
   "source": [
    "merged_df['race_6_TEXT']"
   ]
  },
  {
   "cell_type": "code",
   "execution_count": 23,
   "id": "d530d488-eea9-4434-802e-a2b3b6eea8c5",
   "metadata": {
    "pycharm": {
     "name": "#%%\n"
    }
   },
   "outputs": [],
   "source": [
    "#with pd.option_context('max_columns', 100):\n",
    "#    display(merge_df)"
   ]
  },
  {
   "cell_type": "markdown",
   "source": [
    "Due to annoying problems with to_stata, need to write to .csv then use `03d_LabelVars.ipynb` to generate the .dta with labels"
   ],
   "metadata": {
    "collapsed": false,
    "pycharm": {
     "name": "#%% md\n"
    }
   }
  },
  {
   "cell_type": "code",
   "execution_count": 24,
   "outputs": [],
   "source": [
    "timestamp = mtglobals.gen_timestamp()"
   ],
   "metadata": {
    "collapsed": false,
    "pycharm": {
     "name": "#%%\n"
    }
   }
  },
  {
   "cell_type": "code",
   "execution_count": 25,
   "outputs": [],
   "source": [
    "csv_fpath = f\"../results_2stage/pilot_results_qualtrics_{timestamp}.csv\""
   ],
   "metadata": {
    "collapsed": false,
    "pycharm": {
     "name": "#%%\n"
    }
   }
  },
  {
   "cell_type": "code",
   "execution_count": 26,
   "id": "fce411a7-8568-44d2-be5a-adff0c61e07d",
   "metadata": {
    "pycharm": {
     "name": "#%%\n"
    }
   },
   "outputs": [],
   "source": [
    "merged_df.to_csv(csv_fpath, index=False)"
   ]
  },
  {
   "cell_type": "code",
   "execution_count": 27,
   "id": "e47dab37-9a3f-444d-bb51-feb404f636c2",
   "metadata": {
    "pycharm": {
     "name": "#%%\n"
    }
   },
   "outputs": [],
   "source": [
    "#merge_df.to_stata(\"../results/mturk_2stage/pilot_results.dta\", variable_labels=labels)"
   ]
  },
  {
   "cell_type": "code",
   "execution_count": 28,
   "id": "9899a2b8-8ab8-4555-ba98-56f05c846177",
   "metadata": {
    "pycharm": {
     "name": "#%%\n"
    }
   },
   "outputs": [],
   "source": [
    "merged_df.to_pickle(csv_fpath.replace(\".csv\",\".pkl\"))"
   ]
  },
  {
   "cell_type": "code",
   "execution_count": 29,
   "id": "4836309f-8b6c-46f2-9f21-08889c2cc260",
   "metadata": {
    "pycharm": {
     "name": "#%%\n"
    }
   },
   "outputs": [
    {
     "data": {
      "text/plain": "              mt_id wage_mturk  accepted     stage2_creation  \\\n0    A101J0P2UYUKA1       1.05         1 2022-10-13 15:32:15   \n1    A10AKR84P1WXHL       0.98         1 2022-10-03 22:26:00   \n2    A10W3EILX06DFO       0.50         1 2022-10-13 17:29:28   \n3    A114Q54Z648PKO       1.05         1 2022-10-13 18:37:57   \n4     A1198W1SPF1R4       1.02         0 2022-10-07 14:06:16   \n..              ...        ...       ...                 ...   \n795   AZFXFW2ZDX54B       1.00         1 2022-10-14 18:56:27   \n796   AZH32KEBRPRES       0.98         1 2022-10-03 22:20:25   \n797   AZNWVHY3AUSNT       0.95         1 2022-10-10 22:04:06   \n798   AZPXDIOTEH989       0.50         1 2022-10-13 15:32:47   \n799   AZSBLMZUI0BRC       1.02         0 2022-10-13 15:32:06   \n\n           stage2_creation_str        stage2_accept_time  \\\n0    2022-10-13 15:32:15-07:00 2022-10-13 15:41:19-07:00   \n1    2022-10-03 22:26:00-07:00 2022-10-03 22:28:30-07:00   \n2    2022-10-13 17:29:28-07:00 2022-10-13 18:07:12-07:00   \n3    2022-10-13 18:37:57-07:00 2022-10-13 19:41:48-07:00   \n4    2022-10-07 14:06:16-07:00                       NaT   \n..                         ...                       ...   \n795  2022-10-14 18:56:27-07:00 2022-10-15 10:20:48-07:00   \n796  2022-10-03 22:20:25-07:00 2022-10-03 22:22:15-07:00   \n797  2022-10-10 22:04:06-07:00 2022-10-10 22:07:03-07:00   \n798  2022-10-13 15:32:47-07:00 2022-10-13 15:37:33-07:00   \n799  2022-10-13 15:32:06-07:00                       NaT   \n\n           stage2_submit_time     lwage age onlinehrs_str  ...  \\\n0   2022-10-13 15:48:31-07:00  0.048790  23            40  ...   \n1   2022-10-03 23:05:39-07:00 -0.020203  27            36  ...   \n2   2022-10-13 19:03:30-07:00 -0.693147  35            40  ...   \n3   2022-10-13 20:30:31-07:00  0.048790  25             8  ...   \n4                         NaT  0.019803  54            40  ...   \n..                        ...       ...  ..           ...  ...   \n795 2022-10-15 10:39:45-07:00  0.000000  25           120  ...   \n796 2022-10-03 22:47:16-07:00 -0.020203  32            25  ...   \n797 2022-10-10 22:32:03-07:00 -0.051293  51            48  ...   \n798 2022-10-13 15:58:15-07:00 -0.693147  25            35  ...   \n799                       NaT  0.019803  25            10  ...   \n\n      generated_jobtitle_24   generated_jobtitle_25   generated_jobtitle_26  \\\n0    INFORMATION TECHNOLOGY  INFORMATION TECHNOLOGY  INFORMATION TECHNOLOGY   \n1               Healthcare              Healthcare              Healthcare    \n2                        IT                      IT                      IT   \n3                       NaN                     NaN                     NaN   \n4                       NaN                     NaN                     NaN   \n..                      ...                     ...                     ...   \n795       Marketing Manager       Marketing Manager       Marketing Manager   \n796                   ADMIN                   ADMIN                   ADMIN   \n797    Middle level manager    Middle level manager    Middle level manager   \n798  information technology  information technology  information technology   \n799                     NaN                     NaN                     NaN   \n\n      generated_jobtitle_27   generated_jobtitle_28   generated_jobtitle_29  \\\n0    INFORMATION TECHNOLOGY  INFORMATION TECHNOLOGY  INFORMATION TECHNOLOGY   \n1               Healthcare              Healthcare              Healthcare    \n2                        IT                      IT                      IT   \n3                       NaN                     NaN                     NaN   \n4                       NaN                     NaN                     NaN   \n..                      ...                     ...                     ...   \n795       Marketing Manager       Marketing Manager       Marketing Manager   \n796                   ADMIN                   ADMIN                   ADMIN   \n797    Middle level manager    Middle level manager    Middle level manager   \n798  information technology  information technology  information technology   \n799                     NaN                     NaN                     NaN   \n\n      generated_jobtitle_30  \\\n0    INFORMATION TECHNOLOGY   \n1               Healthcare    \n2                        IT   \n3                       NaN   \n4                       NaN   \n..                      ...   \n795       Marketing Manager   \n796                   ADMIN   \n797    Middle level manager   \n798  information technology   \n799                     NaN   \n\n                                      qualtrics_source _merge           result  \n0    Job+Quality+NonWM+13.0_October+15,+2022_18.07....   both  finished_survey  \n1    Job+Quality+NonWM+13.0_October+15,+2022_18.07....   both  finished_survey  \n2    Job+Quality+NonWM+13.0_October+15,+2022_18.07....   both  finished_survey  \n3    Job+Quality+NonWM+13.0_October+15,+2022_18.07....   both   did_not_finish  \n4    Job+Quality+NonWM+13.0_October+15,+2022_18.07....   both   did_not_finish  \n..                                                 ...    ...              ...  \n795  Job+Quality+NonWM+13.0_October+15,+2022_18.07....   both  finished_survey  \n796  Job+Quality+NonWM+13.0_October+15,+2022_18.07....   both  finished_survey  \n797  Job+Quality+NonWM+13.0_October+15,+2022_18.07....   both  finished_survey  \n798  Job+Quality+NonWM+13.0_October+15,+2022_18.07....   both  finished_survey  \n799  Job+Quality+NonWM+13.0_October+15,+2022_18.07....   both   did_not_finish  \n\n[800 rows x 525 columns]",
      "text/html": "<div>\n<style scoped>\n    .dataframe tbody tr th:only-of-type {\n        vertical-align: middle;\n    }\n\n    .dataframe tbody tr th {\n        vertical-align: top;\n    }\n\n    .dataframe thead th {\n        text-align: right;\n    }\n</style>\n<table border=\"1\" class=\"dataframe\">\n  <thead>\n    <tr style=\"text-align: right;\">\n      <th></th>\n      <th>mt_id</th>\n      <th>wage_mturk</th>\n      <th>accepted</th>\n      <th>stage2_creation</th>\n      <th>stage2_creation_str</th>\n      <th>stage2_accept_time</th>\n      <th>stage2_submit_time</th>\n      <th>lwage</th>\n      <th>age</th>\n      <th>onlinehrs_str</th>\n      <th>...</th>\n      <th>generated_jobtitle_24</th>\n      <th>generated_jobtitle_25</th>\n      <th>generated_jobtitle_26</th>\n      <th>generated_jobtitle_27</th>\n      <th>generated_jobtitle_28</th>\n      <th>generated_jobtitle_29</th>\n      <th>generated_jobtitle_30</th>\n      <th>qualtrics_source</th>\n      <th>_merge</th>\n      <th>result</th>\n    </tr>\n  </thead>\n  <tbody>\n    <tr>\n      <th>0</th>\n      <td>A101J0P2UYUKA1</td>\n      <td>1.05</td>\n      <td>1</td>\n      <td>2022-10-13 15:32:15</td>\n      <td>2022-10-13 15:32:15-07:00</td>\n      <td>2022-10-13 15:41:19-07:00</td>\n      <td>2022-10-13 15:48:31-07:00</td>\n      <td>0.048790</td>\n      <td>23</td>\n      <td>40</td>\n      <td>...</td>\n      <td>INFORMATION TECHNOLOGY</td>\n      <td>INFORMATION TECHNOLOGY</td>\n      <td>INFORMATION TECHNOLOGY</td>\n      <td>INFORMATION TECHNOLOGY</td>\n      <td>INFORMATION TECHNOLOGY</td>\n      <td>INFORMATION TECHNOLOGY</td>\n      <td>INFORMATION TECHNOLOGY</td>\n      <td>Job+Quality+NonWM+13.0_October+15,+2022_18.07....</td>\n      <td>both</td>\n      <td>finished_survey</td>\n    </tr>\n    <tr>\n      <th>1</th>\n      <td>A10AKR84P1WXHL</td>\n      <td>0.98</td>\n      <td>1</td>\n      <td>2022-10-03 22:26:00</td>\n      <td>2022-10-03 22:26:00-07:00</td>\n      <td>2022-10-03 22:28:30-07:00</td>\n      <td>2022-10-03 23:05:39-07:00</td>\n      <td>-0.020203</td>\n      <td>27</td>\n      <td>36</td>\n      <td>...</td>\n      <td>Healthcare</td>\n      <td>Healthcare</td>\n      <td>Healthcare</td>\n      <td>Healthcare</td>\n      <td>Healthcare</td>\n      <td>Healthcare</td>\n      <td>Healthcare</td>\n      <td>Job+Quality+NonWM+13.0_October+15,+2022_18.07....</td>\n      <td>both</td>\n      <td>finished_survey</td>\n    </tr>\n    <tr>\n      <th>2</th>\n      <td>A10W3EILX06DFO</td>\n      <td>0.50</td>\n      <td>1</td>\n      <td>2022-10-13 17:29:28</td>\n      <td>2022-10-13 17:29:28-07:00</td>\n      <td>2022-10-13 18:07:12-07:00</td>\n      <td>2022-10-13 19:03:30-07:00</td>\n      <td>-0.693147</td>\n      <td>35</td>\n      <td>40</td>\n      <td>...</td>\n      <td>IT</td>\n      <td>IT</td>\n      <td>IT</td>\n      <td>IT</td>\n      <td>IT</td>\n      <td>IT</td>\n      <td>IT</td>\n      <td>Job+Quality+NonWM+13.0_October+15,+2022_18.07....</td>\n      <td>both</td>\n      <td>finished_survey</td>\n    </tr>\n    <tr>\n      <th>3</th>\n      <td>A114Q54Z648PKO</td>\n      <td>1.05</td>\n      <td>1</td>\n      <td>2022-10-13 18:37:57</td>\n      <td>2022-10-13 18:37:57-07:00</td>\n      <td>2022-10-13 19:41:48-07:00</td>\n      <td>2022-10-13 20:30:31-07:00</td>\n      <td>0.048790</td>\n      <td>25</td>\n      <td>8</td>\n      <td>...</td>\n      <td>NaN</td>\n      <td>NaN</td>\n      <td>NaN</td>\n      <td>NaN</td>\n      <td>NaN</td>\n      <td>NaN</td>\n      <td>NaN</td>\n      <td>Job+Quality+NonWM+13.0_October+15,+2022_18.07....</td>\n      <td>both</td>\n      <td>did_not_finish</td>\n    </tr>\n    <tr>\n      <th>4</th>\n      <td>A1198W1SPF1R4</td>\n      <td>1.02</td>\n      <td>0</td>\n      <td>2022-10-07 14:06:16</td>\n      <td>2022-10-07 14:06:16-07:00</td>\n      <td>NaT</td>\n      <td>NaT</td>\n      <td>0.019803</td>\n      <td>54</td>\n      <td>40</td>\n      <td>...</td>\n      <td>NaN</td>\n      <td>NaN</td>\n      <td>NaN</td>\n      <td>NaN</td>\n      <td>NaN</td>\n      <td>NaN</td>\n      <td>NaN</td>\n      <td>Job+Quality+NonWM+13.0_October+15,+2022_18.07....</td>\n      <td>both</td>\n      <td>did_not_finish</td>\n    </tr>\n    <tr>\n      <th>...</th>\n      <td>...</td>\n      <td>...</td>\n      <td>...</td>\n      <td>...</td>\n      <td>...</td>\n      <td>...</td>\n      <td>...</td>\n      <td>...</td>\n      <td>...</td>\n      <td>...</td>\n      <td>...</td>\n      <td>...</td>\n      <td>...</td>\n      <td>...</td>\n      <td>...</td>\n      <td>...</td>\n      <td>...</td>\n      <td>...</td>\n      <td>...</td>\n      <td>...</td>\n      <td>...</td>\n    </tr>\n    <tr>\n      <th>795</th>\n      <td>AZFXFW2ZDX54B</td>\n      <td>1.00</td>\n      <td>1</td>\n      <td>2022-10-14 18:56:27</td>\n      <td>2022-10-14 18:56:27-07:00</td>\n      <td>2022-10-15 10:20:48-07:00</td>\n      <td>2022-10-15 10:39:45-07:00</td>\n      <td>0.000000</td>\n      <td>25</td>\n      <td>120</td>\n      <td>...</td>\n      <td>Marketing Manager</td>\n      <td>Marketing Manager</td>\n      <td>Marketing Manager</td>\n      <td>Marketing Manager</td>\n      <td>Marketing Manager</td>\n      <td>Marketing Manager</td>\n      <td>Marketing Manager</td>\n      <td>Job+Quality+NonWM+13.0_October+15,+2022_18.07....</td>\n      <td>both</td>\n      <td>finished_survey</td>\n    </tr>\n    <tr>\n      <th>796</th>\n      <td>AZH32KEBRPRES</td>\n      <td>0.98</td>\n      <td>1</td>\n      <td>2022-10-03 22:20:25</td>\n      <td>2022-10-03 22:20:25-07:00</td>\n      <td>2022-10-03 22:22:15-07:00</td>\n      <td>2022-10-03 22:47:16-07:00</td>\n      <td>-0.020203</td>\n      <td>32</td>\n      <td>25</td>\n      <td>...</td>\n      <td>ADMIN</td>\n      <td>ADMIN</td>\n      <td>ADMIN</td>\n      <td>ADMIN</td>\n      <td>ADMIN</td>\n      <td>ADMIN</td>\n      <td>ADMIN</td>\n      <td>Job+Quality+NonWM+13.0_October+15,+2022_18.07....</td>\n      <td>both</td>\n      <td>finished_survey</td>\n    </tr>\n    <tr>\n      <th>797</th>\n      <td>AZNWVHY3AUSNT</td>\n      <td>0.95</td>\n      <td>1</td>\n      <td>2022-10-10 22:04:06</td>\n      <td>2022-10-10 22:04:06-07:00</td>\n      <td>2022-10-10 22:07:03-07:00</td>\n      <td>2022-10-10 22:32:03-07:00</td>\n      <td>-0.051293</td>\n      <td>51</td>\n      <td>48</td>\n      <td>...</td>\n      <td>Middle level manager</td>\n      <td>Middle level manager</td>\n      <td>Middle level manager</td>\n      <td>Middle level manager</td>\n      <td>Middle level manager</td>\n      <td>Middle level manager</td>\n      <td>Middle level manager</td>\n      <td>Job+Quality+NonWM+13.0_October+15,+2022_18.07....</td>\n      <td>both</td>\n      <td>finished_survey</td>\n    </tr>\n    <tr>\n      <th>798</th>\n      <td>AZPXDIOTEH989</td>\n      <td>0.50</td>\n      <td>1</td>\n      <td>2022-10-13 15:32:47</td>\n      <td>2022-10-13 15:32:47-07:00</td>\n      <td>2022-10-13 15:37:33-07:00</td>\n      <td>2022-10-13 15:58:15-07:00</td>\n      <td>-0.693147</td>\n      <td>25</td>\n      <td>35</td>\n      <td>...</td>\n      <td>information technology</td>\n      <td>information technology</td>\n      <td>information technology</td>\n      <td>information technology</td>\n      <td>information technology</td>\n      <td>information technology</td>\n      <td>information technology</td>\n      <td>Job+Quality+NonWM+13.0_October+15,+2022_18.07....</td>\n      <td>both</td>\n      <td>finished_survey</td>\n    </tr>\n    <tr>\n      <th>799</th>\n      <td>AZSBLMZUI0BRC</td>\n      <td>1.02</td>\n      <td>0</td>\n      <td>2022-10-13 15:32:06</td>\n      <td>2022-10-13 15:32:06-07:00</td>\n      <td>NaT</td>\n      <td>NaT</td>\n      <td>0.019803</td>\n      <td>25</td>\n      <td>10</td>\n      <td>...</td>\n      <td>NaN</td>\n      <td>NaN</td>\n      <td>NaN</td>\n      <td>NaN</td>\n      <td>NaN</td>\n      <td>NaN</td>\n      <td>NaN</td>\n      <td>Job+Quality+NonWM+13.0_October+15,+2022_18.07....</td>\n      <td>both</td>\n      <td>did_not_finish</td>\n    </tr>\n  </tbody>\n</table>\n<p>800 rows × 525 columns</p>\n</div>"
     },
     "execution_count": 29,
     "metadata": {},
     "output_type": "execute_result"
    }
   ],
   "source": [
    "merged_df"
   ]
  },
  {
   "cell_type": "code",
   "execution_count": 29,
   "id": "6d552501-4be9-4998-9b43-d944d24bcc31",
   "metadata": {
    "pycharm": {
     "name": "#%%\n"
    }
   },
   "outputs": [],
   "source": []
  },
  {
   "cell_type": "code",
   "execution_count": null,
   "id": "945a9de8-de77-4da3-a002-fbde8c2a2aa9",
   "metadata": {
    "pycharm": {
     "name": "#%%\n"
    }
   },
   "outputs": [],
   "source": []
  }
 ],
 "metadata": {
  "kernelspec": {
   "display_name": "Python 3",
   "language": "python",
   "name": "python3"
  },
  "language_info": {
   "codemirror_mode": {
    "name": "ipython",
    "version": 3
   },
   "file_extension": ".py",
   "mimetype": "text/x-python",
   "name": "python",
   "nbconvert_exporter": "python",
   "pygments_lexer": "ipython3",
   "version": "3.9.2"
  }
 },
 "nbformat": 4,
 "nbformat_minor": 5
}