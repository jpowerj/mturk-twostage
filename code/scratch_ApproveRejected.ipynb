{
 "cells": [
  {
   "cell_type": "markdown",
   "id": "202436ef-909a-411b-8054-f987ce3fc2e7",
   "metadata": {},
   "source": [
    "### For the very special case where you need to go back and approve an assignment you already rejected\n",
    "\n",
    "(You can't do this 30 days after the HIT has passed)"
   ]
  },
  {
   "cell_type": "code",
   "execution_count": 1,
   "id": "0613cfbb-50c0-42d8-895c-27e9d8e310a1",
   "metadata": {},
   "outputs": [],
   "source": [
    "import pandas as pd\n",
    "import numpy as np\n",
    "import boto3\n",
    "import joblib"
   ]
  },
  {
   "cell_type": "code",
   "execution_count": 6,
   "id": "56a5fa05-25ec-4fdf-90ac-83bb5818bb40",
   "metadata": {},
   "outputs": [],
   "source": [
    "worker_id = \"A1HEGV06SCZZHG\"\n",
    "hit_id = \"3L7SUC0TTVV9M1MMVLTY6SMJI4S0MN\"\n",
    "# Can get this by clicking \"Bonus worker\" and then copying from the box:\n",
    "assignment_id = \"3GLB5JMZFYW6GVPOMWO0WEIVCEFDG7\""
   ]
  },
  {
   "cell_type": "markdown",
   "id": "ed228ff5-ff40-4695-838e-28cc030d96dd",
   "metadata": {},
   "source": [
    "## MTurk API\n",
    "\n",
    "https://boto3.amazonaws.com/v1/documentation/api/latest/reference/services/mturk.html#MTurk.Client.approve_assignment"
   ]
  },
  {
   "cell_type": "markdown",
   "id": "834caca1-9bf8-4090-bb9d-8285efbb04cc",
   "metadata": {},
   "source": [
    "The ApproveAssignment operation approves the results of a completed assignment.\n",
    "\n",
    "Approving an assignment initiates two payments from the Requester's Amazon.com account\n",
    "\n",
    "    The Worker who submitted the results is paid the reward specified in the HIT.\n",
    "    Amazon Mechanical Turk fees are debited.\n",
    "\n",
    "If the Requester's account does not have adequate funds for these payments, the call to ApproveAssignment returns an exception, and the approval is not processed. You can include an optional feedback message with the approval, which the Worker can see in the Status section of the web site.\n",
    "\n",
    "You can also call this operation for assignments that were previous rejected and approve them by explicitly overriding the previous rejection. This only works on rejected assignments that were submitted within the previous 30 days and only if the assignment's related HIT has not been deleted.\n",
    "\n",
    "See also: AWS API Documentation\n",
    "\n",
    "Request Syntax\n",
    "\n",
    "response = client.approve_assignment(\n",
    "    AssignmentId='string',\n",
    "    RequesterFeedback='string',\n",
    "    OverrideRejection=True|False\n",
    ")\n",
    "\n"
   ]
  },
  {
   "cell_type": "code",
   "execution_count": 3,
   "id": "52785622-7ca3-485a-8159-4d543414de46",
   "metadata": {},
   "outputs": [],
   "source": [
    "# Load access+secret keys\n",
    "api_keys = pd.read_csv(\"../../IndependentStudyWithJeff/aws/accessKeys.csv\")\n",
    "key_entry = api_keys.iloc[0]\n",
    "access_id = key_entry['Access key ID']\n",
    "secret_id = key_entry['Secret access key']"
   ]
  },
  {
   "cell_type": "code",
   "execution_count": 4,
   "id": "8558d044-2c55-42f4-8545-e29296c2272d",
   "metadata": {},
   "outputs": [],
   "source": [
    "session = boto3.Session()\n",
    "client = session.client(\n",
    "    service_name='mturk',\n",
    "    region_name='us-east-1',\n",
    "    endpoint_url=\"https://mturk-requester.us-east-1.amazonaws.com\",\n",
    "    aws_access_key_id=access_id,\n",
    "    aws_secret_access_key=secret_id,\n",
    ")"
   ]
  },
  {
   "cell_type": "code",
   "execution_count": 5,
   "id": "a79078de-1f35-4fe1-8565-ec63f79c130b",
   "metadata": {},
   "outputs": [
    {
     "name": "stdout",
     "output_type": "stream",
     "text": [
      "499999.82\n"
     ]
    }
   ],
   "source": [
    "print(client.get_account_balance()['AvailableBalance'])"
   ]
  },
  {
   "cell_type": "code",
   "execution_count": 7,
   "id": "6fa468da-1fd3-4b74-b30d-169baed2d447",
   "metadata": {},
   "outputs": [],
   "source": [
    "response = client.approve_assignment(\n",
    "    AssignmentId=assignment_id,\n",
    "    RequesterFeedback='Accepting previously-rejected HIT',\n",
    "    OverrideRejection=True\n",
    ")"
   ]
  },
  {
   "cell_type": "code",
   "execution_count": 8,
   "id": "b12b8d86-2840-4414-bd6f-268d7724e26a",
   "metadata": {},
   "outputs": [
    {
     "data": {
      "text/plain": [
       "{'ResponseMetadata': {'RequestId': '1562849b-8b69-406a-9de7-701cb3c5be71',\n",
       "  'HTTPStatusCode': 200,\n",
       "  'HTTPHeaders': {'x-amzn-requestid': '1562849b-8b69-406a-9de7-701cb3c5be71',\n",
       "   'content-type': 'application/x-amz-json-1.1',\n",
       "   'content-length': '2',\n",
       "   'date': 'Thu, 16 Sep 2021 23:52:17 GMT'},\n",
       "  'RetryAttempts': 0}}"
      ]
     },
     "execution_count": 8,
     "metadata": {},
     "output_type": "execute_result"
    }
   ],
   "source": [
    "response"
   ]
  },
  {
   "cell_type": "code",
   "execution_count": 9,
   "id": "dce69e8d-f697-4022-88d5-bfd612a7400e",
   "metadata": {},
   "outputs": [
    {
     "data": {
      "text/plain": [
       "['logs/2021-09-16_rejection_reverse.pkl']"
      ]
     },
     "execution_count": 9,
     "metadata": {},
     "output_type": "execute_result"
    }
   ],
   "source": [
    "joblib.dump(response, \"logs/2021-09-16_rejection_reverse.pkl\")"
   ]
  },
  {
   "cell_type": "code",
   "execution_count": null,
   "id": "018ddbf3-6445-47e6-8dcc-aff0c938e7c7",
   "metadata": {},
   "outputs": [],
   "source": []
  }
 ],
 "metadata": {
  "kernelspec": {
   "display_name": "Python 3",
   "language": "python",
   "name": "python3"
  },
  "language_info": {
   "codemirror_mode": {
    "name": "ipython",
    "version": 3
   },
   "file_extension": ".py",
   "mimetype": "text/x-python",
   "name": "python",
   "nbconvert_exporter": "python",
   "pygments_lexer": "ipython3",
   "version": "3.9.2"
  }
 },
 "nbformat": 4,
 "nbformat_minor": 5
}
