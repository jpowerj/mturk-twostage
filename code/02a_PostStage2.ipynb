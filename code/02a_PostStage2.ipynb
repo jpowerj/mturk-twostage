{
 "cells": [
  {
   "cell_type": "code",
   "execution_count": 1,
   "id": "running-trinity",
   "metadata": {
    "execution": {
     "iopub.execute_input": "2022-02-02T23:19:36.469202Z",
     "iopub.status.busy": "2022-02-02T23:19:36.469202Z",
     "iopub.status.idle": "2022-02-02T23:19:36.515203Z",
     "shell.execute_reply": "2022-02-02T23:19:36.515203Z",
     "shell.execute_reply.started": "2022-02-02T23:19:36.469202Z"
    },
    "tags": []
   },
   "outputs": [],
   "source": [
    "%load_ext autoreload\n",
    "%autoreload 2"
   ]
  },
  {
   "cell_type": "code",
   "execution_count": 2,
   "id": "christian-horse",
   "metadata": {
    "execution": {
     "iopub.execute_input": "2022-02-02T23:19:36.660154Z",
     "iopub.status.busy": "2022-02-02T23:19:36.659154Z",
     "iopub.status.idle": "2022-02-02T23:19:37.157331Z",
     "shell.execute_reply": "2022-02-02T23:19:37.157331Z",
     "shell.execute_reply.started": "2022-02-02T23:19:36.659154Z"
    },
    "tags": []
   },
   "outputs": [],
   "source": [
    "import datetime\n",
    "import os\n",
    "\n",
    "import pandas as pd\n",
    "import numpy as np\n",
    "rng = np.random.default_rng()\n",
    "import boto3\n",
    "import joblib\n",
    "\n",
    "import mtglobals"
   ]
  },
  {
   "cell_type": "code",
   "execution_count": 3,
   "id": "9950187d-3477-45fb-a471-3f10911b4435",
   "metadata": {
    "execution": {
     "iopub.execute_input": "2022-02-02T23:19:37.972278Z",
     "iopub.status.busy": "2022-02-02T23:19:37.972278Z",
     "iopub.status.idle": "2022-02-02T23:19:38.038274Z",
     "shell.execute_reply": "2022-02-02T23:19:38.038274Z",
     "shell.execute_reply.started": "2022-02-02T23:19:37.972278Z"
    },
    "tags": []
   },
   "outputs": [],
   "source": [
    "wage_set = ['0.50','0.90','0.95','0.98','0.99',\n",
    "            '1.00',\n",
    "            '1.01','1.02','1.05','1.10','1.50']\n",
    "#sample = rng.choice(wage_set, 100)"
   ]
  },
  {
   "cell_type": "code",
   "execution_count": 4,
   "id": "908d2f0a-adf7-4c15-9ffb-c59cce505f49",
   "metadata": {
    "execution": {
     "iopub.execute_input": "2022-02-02T23:19:39.502514Z",
     "iopub.status.busy": "2022-02-02T23:19:39.501516Z",
     "iopub.status.idle": "2022-02-02T23:19:39.564514Z",
     "shell.execute_reply": "2022-02-02T23:19:39.564514Z",
     "shell.execute_reply.started": "2022-02-02T23:19:39.502514Z"
    },
    "tags": []
   },
   "outputs": [],
   "source": [
    "# For testing the distribution\n",
    "#unique, counts = np.unique(sample, return_counts=True)\n",
    "#print(np.asarray((unique, counts)).T)"
   ]
  },
  {
   "cell_type": "code",
   "execution_count": 5,
   "id": "convertible-sauce",
   "metadata": {
    "execution": {
     "iopub.execute_input": "2022-02-02T23:19:44.956173Z",
     "iopub.status.busy": "2022-02-02T23:19:44.955175Z",
     "iopub.status.idle": "2022-02-02T23:20:13.090769Z",
     "shell.execute_reply": "2022-02-02T23:20:13.090769Z",
     "shell.execute_reply.started": "2022-02-02T23:19:44.956173Z"
    },
    "tags": []
   },
   "outputs": [
    {
     "name": "stdout",
     "output_type": "stream",
     "text": [
      "Your account balance is 499860.00\n",
      "Downloading list of hits from 2022-01-15 00:00:00 to 2022-02-02 15:19:45.630684-07:53 (to ../results_2stage/all_hit_data.pkl)\n",
      "p2:IaRtYf9ifhGwytMk+QPjgzvQweLYa6oRdhFHMHi2KkAObp/mxrYqZpe3SHK81jc=\n",
      "p2:zJyVOMKnz6i/v9C9y6NMcIZFv+v5mzNCX8Jkbl3vjQozOjttVa2cW9dNb0HwZYY=\n",
      "p2:vdMCf9CljFrzAtvgVx2oREc6tKCzeDHe8wG54ZSSAB91vyRegLTZ9bt+jV/g7hE=\n",
      "p2:oV0WwooKrijuUt3m2y/8imNBHmej846Gl01fiuEzJc3Etxo1o0lbowWcVqAwDto=\n",
      "p2:lcTV3I4IArKRAcsprnl5B4b0nVl2ITjrpWE70TKSA6J3ILFZZcac/m50GowAgV4=\n",
      "p2:J+rVQyFJGOyC2c7FDqheBLXAvi9KuitySIfehvJ30OSQVqb5KaFqttXFYolzPeo=\n",
      "p2:KPbvw7g25wJASBdLiDtACeq9dOFXuiX6gJUgqlzd0062bYTC9obgASoZvtZVitQ=\n",
      "p2:FqxBqPJ6fo8J9ODTnaqr3NDm70te5jYo85Z3fU8/i4XDd88LVZcC2TOFg4BTMA8=\n",
      "p2:PkegjnkyesQX4Ppo0QSwYNysV4f8xR3j3Jx5UgRe/l385Dfr31l65/wNhNdDRuGT\n",
      "p2:axK4LNb8jwEhGE9MU58ajHG5Dq3sbUPUoUGDmnQeLcv9BoNpZsQnAeqTzZylQWV9\n",
      "p2:RwEc3Sh4IOXv3MphV8fBK6LC/0Cs1MK7yz97ObX85vyfDSZWqgl/7OCJlSJ9ceHi\n",
      "Creation 2022-01-13 10:14:11-08:00 before start_cutoff\n"
     ]
    }
   ],
   "source": [
    "client, mturk_environment = mtglobals.gen_client()\n",
    "all_hits = mtglobals.download_all_hits(client, start_cutoff=datetime.datetime(2022,1,15,0,0,0))"
   ]
  },
  {
   "cell_type": "code",
   "execution_count": 6,
   "id": "c8deb49b-5eae-4488-904e-1eb7a3b6521c",
   "metadata": {
    "execution": {
     "iopub.execute_input": "2022-02-02T23:20:13.091769Z",
     "iopub.status.busy": "2022-02-02T23:20:13.091769Z",
     "iopub.status.idle": "2022-02-02T23:20:13.152772Z",
     "shell.execute_reply": "2022-02-02T23:20:13.152772Z",
     "shell.execute_reply.started": "2022-02-02T23:20:13.091769Z"
    },
    "tags": []
   },
   "outputs": [
    {
     "data": {
      "text/plain": [
       "[('Quick 3-question survey about work [<15 seconds], instantly unlock 2nd-stage HIT with higher reward',\n",
       "  '3BCRDCM0OEV9AO8YCYWZ0G46CS4K6A',\n",
       "  datetime.datetime(2022, 1, 31, 19, 10, 51, tzinfo=tzlocal())),\n",
       " ('Quick 3-question survey about work [<15 seconds], instantly unlock 2nd-stage HIT with higher reward',\n",
       "  '3VZYA8PITPZBEU1G3MCCPQBX1Q3051',\n",
       "  datetime.datetime(2022, 1, 19, 14, 12, 29, tzinfo=tzlocal()))]"
      ]
     },
     "execution_count": 6,
     "metadata": {},
     "output_type": "execute_result"
    }
   ],
   "source": [
    "# Filter to get just the stage-1 HITs\n",
    "stage1_hits = [h for h in all_hits if \"instantly unlock\" in h['Title']]\n",
    "[(h['Title'], h['HITId'], h['CreationTime']) for h in stage1_hits]"
   ]
  },
  {
   "cell_type": "code",
   "execution_count": 18,
   "id": "141a0a11-0628-4a65-a9db-bbe75224a323",
   "metadata": {
    "execution": {
     "iopub.execute_input": "2022-01-21T21:43:05.378613Z",
     "iopub.status.busy": "2022-01-21T21:43:05.378613Z",
     "iopub.status.idle": "2022-01-21T21:43:05.469179Z",
     "shell.execute_reply": "2022-01-21T21:43:05.469179Z",
     "shell.execute_reply.started": "2022-01-21T21:43:05.378613Z"
    },
    "tags": []
   },
   "outputs": [],
   "source": [
    "# Important: put the HITIds for the stage-1 HIT whose submissions you want to process here\n",
    "stage1_ids = ['3VZYA8PITPZBEU1G3MCCPQBX1Q3051']"
   ]
  },
  {
   "cell_type": "markdown",
   "id": "interpreted-creator",
   "metadata": {},
   "source": [
    "## Load the workers who submitted the stage 1 hit(s) specified above"
   ]
  },
  {
   "cell_type": "code",
   "execution_count": 20,
   "id": "employed-customs",
   "metadata": {
    "execution": {
     "iopub.execute_input": "2022-01-21T22:39:51.224307Z",
     "iopub.status.busy": "2022-01-21T22:39:51.224307Z",
     "iopub.status.idle": "2022-01-21T22:40:15.931791Z",
     "shell.execute_reply": "2022-01-21T22:40:15.931791Z",
     "shell.execute_reply.started": "2022-01-21T22:39:51.224307Z"
    },
    "tags": []
   },
   "outputs": [
    {
     "name": "stdout",
     "output_type": "stream",
     "text": [
      "1000\n"
     ]
    }
   ],
   "source": [
    "stage1_hits = [h for h in stage1_hits if h['HITId'] in stage1_ids]\n",
    "# Now only the specified stage1 hits should remain\n",
    "#[h['HITId'] for h in stage1_hits]\n",
    "# Finally, get the list of submitter IDs\n",
    "all_stage1_submitters = []\n",
    "for cur_hit in stage1_hits:\n",
    "    cur_hit_id = cur_hit['HITId']\n",
    "    cur_submissions = mtglobals.get_hit_submissions(client, cur_hit_id)\n",
    "    print(len(cur_submissions))\n",
    "    cur_submitters = [s['WorkerId'] for s in cur_submissions]\n",
    "    all_stage1_submitters.extend(cur_submitters)"
   ]
  },
  {
   "cell_type": "code",
   "execution_count": 21,
   "id": "2dc3c862-5f77-4563-9ea0-8e4a8d036f4a",
   "metadata": {
    "execution": {
     "iopub.execute_input": "2022-01-21T22:40:15.931791Z",
     "iopub.status.busy": "2022-01-21T22:40:15.931791Z",
     "iopub.status.idle": "2022-01-21T22:40:16.010204Z",
     "shell.execute_reply": "2022-01-21T22:40:16.010204Z",
     "shell.execute_reply.started": "2022-01-21T22:40:15.931791Z"
    },
    "tags": []
   },
   "outputs": [
    {
     "data": {
      "text/plain": [
       "1000"
      ]
     },
     "execution_count": 21,
     "metadata": {},
     "output_type": "execute_result"
    }
   ],
   "source": [
    "#print(all_stage1_submitters, end='')\n",
    "len(all_stage1_submitters)"
   ]
  },
  {
   "cell_type": "markdown",
   "id": "considered-stamp",
   "metadata": {
    "tags": []
   },
   "source": [
    "## Functions used in the loop"
   ]
  },
  {
   "cell_type": "code",
   "execution_count": 22,
   "id": "bigger-correlation",
   "metadata": {
    "execution": {
     "iopub.execute_input": "2022-01-21T22:43:19.850176Z",
     "iopub.status.busy": "2022-01-21T22:43:19.850176Z",
     "iopub.status.idle": "2022-01-21T22:43:19.959627Z",
     "shell.execute_reply": "2022-01-21T22:43:19.959627Z",
     "shell.execute_reply.started": "2022-01-21T22:43:19.850176Z"
    },
    "tags": []
   },
   "outputs": [],
   "source": [
    "def check_launched(launched_df, worker_id):\n",
    "    \"\"\"\n",
    "    Check if the 2nd-stage hit has already been launched for this worker. If so,\n",
    "    return the qual_name, qual_num and offer_amt they were assigned, otherwise return \"\",-1,-1\n",
    "    \"\"\"\n",
    "    if launched_df is None:\n",
    "        return \"\", -1, -1\n",
    "    result_df = launched_df[launched_df['worker_id'] == worker_id].copy()\n",
    "    if len(result_df) > 0:\n",
    "        first_row = result_df.iloc[0]\n",
    "        qual_name = first_row['qual_name']\n",
    "        qual_num = int(first_row['qual_num'])\n",
    "        offer_amt = first_row['offer_amt']\n",
    "        return qual_name, qual_num, offer_amt\n",
    "    return \"\", -1, -1\n",
    "\n",
    "def gen_custom_hit(cur_worker_id, cur_offer_amt):\n",
    "    # Now construct the custom HIT for this worker\n",
    "    # The question we ask the workers is contained in this file.\n",
    "    # https://github.com/aws-samples/mturk-code-samples/blob/master/Python/my_question.xml\n",
    "    with open(\"question_stage2.xml\", \"r\", encoding='utf-8') as f:\n",
    "        stage2_question = f.read()\n",
    "    # Fill in the custom data\n",
    "    stage2_question = stage2_question.replace(\"!worker_id!\",cur_worker_id)\n",
    "    stage2_question = stage2_question.replace(\"!offer_amt!\",cur_offer_amt)\n",
    "    return stage2_question\n",
    "\n",
    "def assign_quals(cur_worker_id, cur_qual_name, cur_qual_id, cur_qual_num, cur_offer_amt):\n",
    "    # Now assign the custom qualification\n",
    "    print(f\"Associating num {cur_qual_num} with worker {cur_worker_id}\")\n",
    "    response = client.associate_qualification_with_worker(\n",
    "        # sandbox id\n",
    "        #QualificationTypeId='3Y0FER3934AFGRF24YM9Q00LF2OXKO',\n",
    "        # production id, no suffix\n",
    "        #QualificationTypeId='3QTU8Z4SHN84U5KCFOM3OI2TK3WGK7', \n",
    "        # production id, Custom02\n",
    "        QualificationTypeId=cur_qual_id,\n",
    "        #WorkerId='AQU32GXNKCCYS', # jpj251@nyu.edu id\n",
    "        #WorkerId='A3IZUHHAA21KBM', # sn2430 worker sandbox id\n",
    "        WorkerId=cur_worker_id,\n",
    "        IntegerValue=cur_qual_num,\n",
    "        SendNotification=True\n",
    "    )\n",
    "    # And update the info in current_qual.txt\n",
    "    mtglobals.update_current_qual(cur_qual_name, cur_qual_id, cur_qual_num, cur_offer_amt)\n",
    "    # And finally the participation qual (that everybody gets, regardless of which\n",
    "    # custom qual)\n",
    "    response_participation = client.associate_qualification_with_worker(\n",
    "        # (this is the id for the participation qual)\n",
    "        QualificationTypeId='303SJT1CWE5D23ZEJCT5ZGDLM1P4FN',\n",
    "        WorkerId=cur_worker_id,\n",
    "        IntegerValue=0,\n",
    "        SendNotification=False\n",
    "    )\n",
    "    return response\n",
    "\n",
    "def gen_qual_restriction(cur_qual_id, cur_qual_num):\n",
    "    # Example of using qualification to restrict responses to Workers who have had\n",
    "    # at least 80% of their assignments approved. See:\n",
    "    # http://docs.aws.amazon.com/AWSMechTurk/latest/AWSMturkAPI/ApiReference_QualificationRequirementDataStructureArticle.html#ApiReference_QualificationType-IDs\n",
    "    stage2_requirements = [\n",
    "        #{\n",
    "        #    'QualificationTypeId': '000000000000000000L0',\n",
    "        #    'Comparator': 'GreaterThanOrEqualTo',\n",
    "        #    'IntegerValues': [80],\n",
    "        #    'RequiredToPreview': True,\n",
    "        #},\n",
    "        #{\n",
    "        #    # WorkplaceSurveyCustom ID in *Sandbox*\n",
    "        #    #'QualificationTypeId': '3Y0FER3934AFGRF24YM9Q00LF2OXKO',\n",
    "        #    # WorkplaceSurveyCustom ID in *Dev*\n",
    "        #    'QualificationTypeId': survey_qual_id,\n",
    "        #    'Comparator': 'Exists',\n",
    "        #    'ActionsGuarded': 'DiscoverPreviewAndAccept',\n",
    "        #},\n",
    "        {\n",
    "            'QualificationTypeId': cur_qual_id,\n",
    "            'Comparator':\"In\",\n",
    "            'IntegerValues':[cur_qual_num],\n",
    "            'ActionsGuarded': 'DiscoverPreviewAndAccept',\n",
    "        }\n",
    "    ]\n",
    "    return stage2_requirements\n",
    "\n",
    "def launch_custom_hit(cur_worker_id, cur_offer_amt, stage2_question, stage2_requirements):\n",
    "    # Launch the HIT\n",
    "    response = client.create_hit(\n",
    "        # 1 assignment bc single custom stage 2 hit\n",
    "        MaxAssignments=1,\n",
    "        LifetimeInSeconds=86400, # 24 hours\n",
    "        AssignmentDurationInSeconds=3600, # 1 hour\n",
    "        Reward=cur_offer_amt,\n",
    "        Title=f'Custom workplace survey HIT for worker id {cur_worker_id}',\n",
    "        Keywords='survey,workplace,work',\n",
    "        Description=f'Custom workplace survey HIT for worker id {cur_worker_id}, 30 questions, ~15mins to complete',\n",
    "        Question=stage2_question,\n",
    "        QualificationRequirements=stage2_requirements,\n",
    "    )\n",
    "    return response\n",
    "\n",
    "def notify_worker(cur_worker_id, custom_msg):\n",
    "    response = client.notify_workers(\n",
    "        Subject='Custom Workplace Survey 2nd-Stage HIT',\n",
    "        # to send custom_msg\n",
    "        MessageText=custom_msg,\n",
    "        # to send payment msg\n",
    "        #MessageText=payment_msg,\n",
    "        WorkerIds=[\n",
    "            cur_worker_id\n",
    "        ]\n",
    "    )\n",
    "    return response\n",
    "\n",
    "def add_posted_worker(cur_worker_id, cur_offer_amt, cur_qual_name, cur_qual_id,\n",
    "                      cur_qual_num, custom_url, launched_time):\n",
    "    # And add to list of already-launched workers\n",
    "    launched_fpath = mtglobals.stage2_launched_fpath\n",
    "    if not os.path.isfile(launched_fpath):\n",
    "        df = pd.DataFrame({'worker_id':[], 'offer_amt':[], 'qual_name':[], 'qual_id':[],\n",
    "                           'qual_num':[], 'url':[], 'launched_time':[], 'notified_time':[]})\n",
    "        df.to_csv(launched_fpath, index=False)\n",
    "    launch_df = pd.read_csv(launched_fpath)\n",
    "    # The data we're serializing\n",
    "    new_data = pd.DataFrame({\n",
    "        'worker_id': [cur_worker_id],\n",
    "        'offer_amt': [cur_offer_amt],\n",
    "        'qual_name': [cur_qual_name],\n",
    "        'qual_id': [cur_qual_id],\n",
    "        'qual_num': [cur_qual_num],\n",
    "        'url': [custom_url],\n",
    "        'launched_time': [launched_time],\n",
    "        # This one gets filled in by NotifyStage2\n",
    "        'notified_time': [None],\n",
    "    })\n",
    "    updated_df = pd.concat([launch_df, new_data])\n",
    "    updated_df.to_csv(launched_fpath, index=False)\n",
    "    return launched_fpath"
   ]
  },
  {
   "cell_type": "code",
   "execution_count": null,
   "id": "designing-expert",
   "metadata": {
    "scrolled": true,
    "tags": []
   },
   "outputs": [],
   "source": [
    "# Load the already-launched HITs, if the file exists, for quick checking\n",
    "if os.path.isfile(mtglobals.stage2_launched_fpath):\n",
    "    launched_df = pd.read_csv(mtglobals.stage2_launched_fpath)\n",
    "else:\n",
    "    launched_df = None\n",
    "# Loop over workers who submitted stage 1\n",
    "for worker_num, cur_worker_id in enumerate(all_stage1_submitters):\n",
    "    print(f\"Processing worker #{worker_num}\")\n",
    "    launched_qual_name, launched_qual_num, launched_offer_amt = check_launched(launched_df, cur_worker_id)\n",
    "    if launched_qual_num != -1:\n",
    "        print(f\"Stage 2 HIT for worker {cur_worker_id} already launched\")\n",
    "        continue\n",
    "    # If we're here, this worker_id hasn't had a stage 2 HIT launched yet\n",
    "    cur_qual_info = mtglobals.get_current_qual()\n",
    "    cur_qual_name = cur_qual_info['qual_name']\n",
    "    cur_qual_id = cur_qual_info['qual_id']\n",
    "    last_qual_num = cur_qual_info['last_qual_num']\n",
    "    last_offer = cur_qual_info['last_offer_amt']\n",
    "    print(f\"Last used qual num: {last_qual_num}\")\n",
    "    print(f\"Last used offer amt: {last_offer}\")\n",
    "    # Generate random offer amount\n",
    "    # New new: randomly sampled\n",
    "    cur_offer_amt = rng.choice(wage_set)\n",
    "    cur_qual_num = (last_qual_num + 1) % 100\n",
    "    print(f\"Processing worker {cur_worker_id}, offer {cur_offer_amt}, qual_num {cur_qual_num}\")\n",
    "    # Using the functions to create the HIT params and content\n",
    "    # Generate the xml for the question\n",
    "    stage2_question = gen_custom_hit(cur_worker_id, cur_offer_amt)\n",
    "    # Assign the custom qualification num for this worker\n",
    "    qual_response = assign_quals(cur_worker_id, cur_qual_name, cur_qual_id, cur_qual_num, cur_offer_amt)\n",
    "    print(\"Qualification assignment response:\")\n",
    "    print(qual_response)\n",
    "    # Generate the data structure which enforces the qualification restriction\n",
    "    stage2_requirements = gen_qual_restriction(cur_qual_id, cur_qual_num)\n",
    "    # And launch the HIT\n",
    "    launch_response = launch_custom_hit(cur_worker_id, cur_offer_amt, stage2_question, stage2_requirements)\n",
    "    print(\"Launch response:\")\n",
    "    print(launch_response['ResponseMetadata']['HTTPStatusCode'])\n",
    "    launched_time = launch_response['HIT']['CreationTime']\n",
    "    \n",
    "    # The response included several fields that will be helpful later\n",
    "    hit_type_id = launch_response['HIT']['HITTypeId']\n",
    "    hit_id = launch_response['HIT']['HITId']\n",
    "    #print(\"Created HITTypeId: {}\".format(hit_type_id))\n",
    "    print(f\"Created HITId {hit_id} for worker {cur_worker_id}\")\n",
    "    custom_url = mturk_environment['preview'] + \"?groupId={}\".format(hit_type_id)\n",
    "    print(f\"You can work the HIT here: {custom_url}\")\n",
    "    #print(\"\\nAnd see results here:\")\n",
    "    #print(mturk_environment['manage'])\n",
    "    mtglobals.write_log(f\"Created custom stage-2 HIT for worker {cur_worker_id}, offer {cur_offer_amt}, URL {custom_url}\")\n",
    "    # And append the data for this iteration to the .csv of launched workers\n",
    "    launched_fpath = add_posted_worker(cur_worker_id, cur_offer_amt, cur_qual_name, cur_qual_id,\n",
    "                                       cur_qual_num, custom_url, launched_time)\n",
    "    print(f\"New launched HIT successfully added to {launched_fpath}\")\n",
    "    print(\"=====[ end loop iteration ]=====\")\n"
   ]
  },
  {
   "cell_type": "code",
   "execution_count": null,
   "id": "3fa640b0-a90a-4487-a710-05bbbbfddd8d",
   "metadata": {},
   "outputs": [],
   "source": [
    "# 7:16pm, 12/8/2021"
   ]
  },
  {
   "cell_type": "code",
   "execution_count": 13,
   "id": "0471c099-ef4b-45a6-b56d-aaddc41dfeae",
   "metadata": {},
   "outputs": [],
   "source": [
    "# 1:59pm, 12/1/2021"
   ]
  },
  {
   "cell_type": "code",
   "execution_count": 14,
   "id": "e68451c1-5b59-495c-8d3d-a34814bcf09f",
   "metadata": {},
   "outputs": [],
   "source": [
    "# 11:18am, 11/24/2021"
   ]
  },
  {
   "cell_type": "code",
   "execution_count": 15,
   "id": "db04b097-1127-47a4-b192-63bc516ea4c7",
   "metadata": {},
   "outputs": [],
   "source": [
    "# 10:52am, 11/20/2021"
   ]
  },
  {
   "cell_type": "code",
   "execution_count": 16,
   "id": "white-congo",
   "metadata": {},
   "outputs": [],
   "source": [
    "# 2:18pm, 10/30/2021"
   ]
  },
  {
   "cell_type": "code",
   "execution_count": null,
   "id": "junior-fountain",
   "metadata": {},
   "outputs": [],
   "source": []
  },
  {
   "cell_type": "code",
   "execution_count": null,
   "id": "complete-patient",
   "metadata": {},
   "outputs": [],
   "source": []
  },
  {
   "cell_type": "code",
   "execution_count": null,
   "id": "df7296a6-c9d9-4bce-a5dd-55e05efac7ab",
   "metadata": {},
   "outputs": [],
   "source": []
  }
 ],
 "metadata": {
  "kernelspec": {
   "display_name": "Python 3 (ipykernel)",
   "language": "python",
   "name": "python3"
  },
  "language_info": {
   "codemirror_mode": {
    "name": "ipython",
    "version": 3
   },
   "file_extension": ".py",
   "mimetype": "text/x-python",
   "name": "python",
   "nbconvert_exporter": "python",
   "pygments_lexer": "ipython3",
   "version": "3.9.9"
  }
 },
 "nbformat": 4,
 "nbformat_minor": 5
}
