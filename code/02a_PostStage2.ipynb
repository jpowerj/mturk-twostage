{
 "cells": [
  {
   "cell_type": "code",
   "execution_count": 68,
   "id": "running-trinity",
   "metadata": {
    "execution": {
     "iopub.execute_input": "2022-02-03T00:08:32.995946Z",
     "iopub.status.busy": "2022-02-03T00:08:32.994949Z",
     "iopub.status.idle": "2022-02-03T00:08:33.060944Z",
     "shell.execute_reply": "2022-02-03T00:08:33.060944Z",
     "shell.execute_reply.started": "2022-02-03T00:08:32.995946Z"
    },
    "tags": [],
    "pycharm": {
     "name": "#%%\n"
    }
   },
   "outputs": [
    {
     "name": "stdout",
     "output_type": "stream",
     "text": [
      "The autoreload extension is already loaded. To reload it, use:\n",
      "  %reload_ext autoreload\n"
     ]
    }
   ],
   "source": [
    "%load_ext autoreload\n",
    "%autoreload 2"
   ]
  },
  {
   "cell_type": "code",
   "execution_count": 69,
   "id": "christian-horse",
   "metadata": {
    "execution": {
     "iopub.execute_input": "2022-02-03T00:08:33.178454Z",
     "iopub.status.busy": "2022-02-03T00:08:33.177455Z",
     "iopub.status.idle": "2022-02-03T00:08:33.242452Z",
     "shell.execute_reply": "2022-02-03T00:08:33.242452Z",
     "shell.execute_reply.started": "2022-02-03T00:08:33.178454Z"
    },
    "tags": [],
    "pycharm": {
     "name": "#%%\n"
    }
   },
   "outputs": [],
   "source": [
    "import datetime\n",
    "import os\n",
    "\n",
    "import dotenv\n",
    "import pandas as pd\n",
    "import numpy as np\n",
    "rng = np.random.default_rng()\n",
    "\n",
    "from mtclient import MTClient\n",
    "import mtglobals"
   ]
  },
  {
   "cell_type": "code",
   "execution_count": 70,
   "id": "908d2f0a-adf7-4c15-9ffb-c59cce505f49",
   "metadata": {
    "execution": {
     "iopub.execute_input": "2022-02-03T00:08:33.513917Z",
     "iopub.status.busy": "2022-02-03T00:08:33.512916Z",
     "iopub.status.idle": "2022-02-03T00:08:33.576799Z",
     "shell.execute_reply": "2022-02-03T00:08:33.576321Z",
     "shell.execute_reply.started": "2022-02-03T00:08:33.513917Z"
    },
    "tags": [],
    "pycharm": {
     "name": "#%%\n"
    }
   },
   "outputs": [],
   "source": [
    "# For testing the distribution\n",
    "#unique, counts = np.unique(sample, return_counts=True)\n",
    "#print(np.asarray((unique, counts)).T)"
   ]
  },
  {
   "cell_type": "code",
   "execution_count": 71,
   "id": "convertible-sauce",
   "metadata": {
    "tags": [],
    "pycharm": {
     "name": "#%%\n"
    }
   },
   "outputs": [
    {
     "name": "stdout",
     "output_type": "stream",
     "text": [
      "Loading environment variables from .env\n",
      "Using LIVE MTurk requester API\n",
      "Your account balance is 4667.77\n"
     ]
    }
   ],
   "source": [
    "client = MTClient()"
   ]
  },
  {
   "cell_type": "markdown",
   "id": "982bfed8-8318-42ab-aa3c-f956f97cbb21",
   "metadata": {
    "pycharm": {
     "name": "#%% md\n"
    }
   },
   "source": [
    "### (a) Get all hits since `date_cutoff`"
   ]
  },
  {
   "cell_type": "code",
   "execution_count": 72,
   "outputs": [],
   "source": [
    "date_cutoff = datetime.datetime(2022, 11, 10, 0, 0, 0)"
   ],
   "metadata": {
    "collapsed": false,
    "pycharm": {
     "name": "#%%\n"
    }
   }
  },
  {
   "cell_type": "code",
   "execution_count": 73,
   "id": "3954708a-5fff-4e3d-9f80-3f111eb574a1",
   "metadata": {
    "pycharm": {
     "name": "#%%\n"
    }
   },
   "outputs": [
    {
     "name": "stdout",
     "output_type": "stream",
     "text": [
      "Downloading list of hits from 2022-11-10 00:00:00 to 2022-11-21 15:20:10.902433-07:53\n",
      "p2:DslfcgjelMHQtwVJf3FAWC+yz2dDpLfyG3SYiZ5MTvfe7lIp+b6AACn/5boCCHI=\n",
      "p2:PMuUKcWeNOjK2RaNs0B2V/YVvAISJRCTS8v+Kuhe4hx8tdpAocjUkWyCm7bX7K4=\n",
      "Creation 2022-11-07 13:59:32-08:00 before start_cutoff\n",
      "Saving downloaded HIT data to ../results_2stage/all_hit_data.pkl\n"
     ]
    }
   ],
   "source": [
    "all_hits = client.download_all_hits(start_cutoff=date_cutoff)"
   ]
  },
  {
   "cell_type": "code",
   "execution_count": 74,
   "id": "c8deb49b-5eae-4488-904e-1eb7a3b6521c",
   "metadata": {
    "execution": {
     "iopub.execute_input": "2022-02-03T00:09:17.273250Z",
     "iopub.status.busy": "2022-02-03T00:09:17.273250Z",
     "iopub.status.idle": "2022-02-03T00:09:17.334250Z",
     "shell.execute_reply": "2022-02-03T00:09:17.334250Z",
     "shell.execute_reply.started": "2022-02-03T00:09:17.273250Z"
    },
    "tags": [],
    "pycharm": {
     "name": "#%%\n"
    }
   },
   "outputs": [
    {
     "data": {
      "text/plain": "[('Quick 3-question survey about work [<15 seconds], instantly unlock 2nd-stage HIT with higher reward',\n  '3TZDZ3Y0JT7UM6OA2VTTFBZ9X0G915',\n  datetime.datetime(2022, 11, 20, 16, 23, 57, tzinfo=tzlocal())),\n ('Quick 3-question survey about work [<15 seconds], instantly unlock 2nd-stage HIT with higher reward',\n  '3SD15I2WD3V3EQ0RRS40JUN45HQ36G',\n  datetime.datetime(2022, 11, 17, 15, 35, 37, tzinfo=tzlocal()))]"
     },
     "execution_count": 74,
     "metadata": {},
     "output_type": "execute_result"
    }
   ],
   "source": [
    "# Filter to get just the stage-1 HITs\n",
    "stage1_hits = [h for h in all_hits if \"instantly unlock\" in h['Title']]\n",
    "[(h['Title'], h['HITId'], h['CreationTime']) for h in stage1_hits]"
   ]
  },
  {
   "cell_type": "code",
   "execution_count": 75,
   "id": "141a0a11-0628-4a65-a9db-bbe75224a323",
   "metadata": {
    "execution": {
     "iopub.execute_input": "2022-02-03T00:09:17.335249Z",
     "iopub.status.busy": "2022-02-03T00:09:17.335249Z",
     "iopub.status.idle": "2022-02-03T00:09:17.395248Z",
     "shell.execute_reply": "2022-02-03T00:09:17.395248Z",
     "shell.execute_reply.started": "2022-02-03T00:09:17.335249Z"
    },
    "tags": [],
    "pycharm": {
     "name": "#%%\n"
    }
   },
   "outputs": [],
   "source": [
    "# Important: put the HITIds for the stage-1 HIT whose submissions you want to process here\n",
    "stage1_ids = [\"3TZDZ3Y0JT7UM6OA2VTTFBZ9X0G915\"]\n",
    "    #[\"3L7SUC0TTVV9M1MMVLTY6SMJS1R0MQ\"]\n",
    "    #['3BPP3MA3TDLO79JV3GRYR49YMRTELU',\n",
    "    #          '3MJ28H2Y1F9WHBTZ57ENFR7F42K5OK','3HEADTGN2QTGCI0U3QD4DK6JSDPRV5',\n",
    "    #          '3MJ28H2Y1F9WHBTZ57ENFR7F42YO5H','31SIZS5W5AGO7A4DHRJU7X7BBK0QRY',]\n",
    "              #'3HXK2V1N4LGGQ1TEZ5ZHCBV1T5AG2D','3J94SKDEKJQ5DE2AFY074XVG0N85DG']\n",
    "              #'3IHWR4LC7EE5871Y5A8L7ELKUIC8II','3I01FDIL6N9DEHJNXFY96QS4GCF2D8']\n",
    "s1_submissions = []\n",
    "for cur_s1_id in stage1_ids:\n",
    "    s1_submissions.extend(client.get_hit_submissions(cur_s1_id))"
   ]
  },
  {
   "cell_type": "markdown",
   "id": "interpreted-creator",
   "metadata": {
    "pycharm": {
     "name": "#%% md\n"
    }
   },
   "source": [
    "### (b) Get subset of HITs for all workers who submitted the stage 1 hit(s) specified above"
   ]
  },
  {
   "cell_type": "code",
   "execution_count": 76,
   "id": "employed-customs",
   "metadata": {
    "execution": {
     "iopub.execute_input": "2022-02-03T00:12:12.067149Z",
     "iopub.status.busy": "2022-02-03T00:12:12.067149Z",
     "iopub.status.idle": "2022-02-03T00:12:37.179760Z",
     "shell.execute_reply": "2022-02-03T00:12:37.179760Z",
     "shell.execute_reply.started": "2022-02-03T00:12:12.067149Z"
    },
    "tags": [],
    "pycharm": {
     "name": "#%%\n"
    }
   },
   "outputs": [],
   "source": [
    "#stage1_hits = [h for h in stage1_hits if h['HITId'] in stage1_ids]\n",
    "#all_stage1_submitters = []\n",
    "#for cur_hit in stage1_hits:\n",
    "#    cur_hit_id = cur_hit['HITId']\n",
    "#    cur_submissions = client.get_hit_submissions(cur_hit_id)\n",
    "#    print(len(cur_submissions))\n",
    "#    cur_submitters = [s['WorkerId'] for s in cur_submissions]\n",
    "#    all_stage1_submitters.extend(cur_submitters)"
   ]
  },
  {
   "cell_type": "code",
   "execution_count": 77,
   "id": "2dc3c862-5f77-4563-9ea0-8e4a8d036f4a",
   "metadata": {
    "execution": {
     "iopub.execute_input": "2022-02-03T00:12:37.180761Z",
     "iopub.status.busy": "2022-02-03T00:12:37.180761Z",
     "iopub.status.idle": "2022-02-03T00:12:37.240760Z",
     "shell.execute_reply": "2022-02-03T00:12:37.240760Z",
     "shell.execute_reply.started": "2022-02-03T00:12:37.180761Z"
    },
    "tags": [],
    "pycharm": {
     "name": "#%%\n"
    }
   },
   "outputs": [],
   "source": [
    "#print(all_stage1_submitters, end='')\n",
    "s1_submitters = [s1_sub['WorkerId'] for s1_sub in s1_submissions]"
   ]
  },
  {
   "cell_type": "code",
   "execution_count": 78,
   "outputs": [
    {
     "data": {
      "text/plain": "100"
     },
     "execution_count": 78,
     "metadata": {},
     "output_type": "execute_result"
    }
   ],
   "source": [
    "len(s1_submitters)"
   ],
   "metadata": {
    "collapsed": false,
    "pycharm": {
     "name": "#%%\n"
    }
   }
  },
  {
   "cell_type": "markdown",
   "id": "considered-stamp",
   "metadata": {
    "tags": [],
    "pycharm": {
     "name": "#%% md\n"
    }
   },
   "source": [
    "### (c) For each stage-1 submitter, create, launch, and record info for their custom stage-2 HIT"
   ]
  },
  {
   "cell_type": "code",
   "execution_count": 79,
   "outputs": [],
   "source": [
    "# Convert the stage-2 question to xml, if it hasn't been converted already\n",
    "dotenv.load_dotenv(mtglobals.dotenv_fpath, override=True)\n",
    "stage2_html_fpath = os.getenv(\"STAGE2_HTML_FPATH\")\n",
    "stage2_xml_fpath = mtglobals.gen_xml(stage2_html_fpath)\n",
    "# Also load the survey link\n",
    "survey_url = os.getenv(\"SURVEY_URL\")"
   ],
   "metadata": {
    "collapsed": false,
    "pycharm": {
     "name": "#%%\n"
    }
   }
  },
  {
   "cell_type": "code",
   "execution_count": 80,
   "outputs": [
    {
     "data": {
      "text/plain": "'https://cumc.co1.qualtrics.com/jfe/form/SV_dbQxB81tAUIFnZs'"
     },
     "execution_count": 80,
     "metadata": {},
     "output_type": "execute_result"
    }
   ],
   "source": [
    "survey_url"
   ],
   "metadata": {
    "collapsed": false,
    "pycharm": {
     "name": "#%%\n"
    }
   }
  },
  {
   "cell_type": "code",
   "execution_count": 81,
   "id": "designing-expert",
   "metadata": {
    "execution": {
     "iopub.execute_input": "2022-02-03T00:12:37.303083Z",
     "iopub.status.busy": "2022-02-03T00:12:37.303083Z"
    },
    "scrolled": true,
    "tags": [],
    "pycharm": {
     "name": "#%%\n"
    }
   },
   "outputs": [
    {
     "name": "stdout",
     "output_type": "stream",
     "text": [
      "Processing worker #0, ASX9CJSEMH0UH\n",
      "Stage 2 HIT for worker ASX9CJSEMH0UH already launched\n",
      "Processing worker #1, A3TDA1NWHNQFE3\n",
      "Stage 2 HIT for worker A3TDA1NWHNQFE3 already launched\n",
      "Processing worker #2, A19GSU0ST2SIMW\n",
      "Stage 2 HIT for worker A19GSU0ST2SIMW already launched\n",
      "Processing worker #3, A33QI63NVR8CUO\n",
      "Stage 2 HIT for worker A33QI63NVR8CUO already launched\n",
      "Processing worker #4, ALCPF5NANBDSZ\n",
      "Stage 2 HIT for worker ALCPF5NANBDSZ already launched\n",
      "Processing worker #5, A3ENQKD0V9VHBF\n",
      "Stage 2 HIT for worker A3ENQKD0V9VHBF already launched\n",
      "Processing worker #6, A1TJA3HLWCJUSX\n",
      "Stage 2 HIT for worker A1TJA3HLWCJUSX already launched\n",
      "Processing worker #7, A23UXKTVERRXNK\n",
      "Stage 2 HIT for worker A23UXKTVERRXNK already launched\n",
      "Processing worker #8, A2TDK0LD62WZ8Y\n",
      "Stage 2 HIT for worker A2TDK0LD62WZ8Y already launched\n",
      "Processing worker #9, A1IL81UMEC9OJI\n",
      "Stage 2 HIT for worker A1IL81UMEC9OJI already launched\n",
      "Processing worker #10, A3AN5NG00BCMBP\n",
      "Stage 2 HIT for worker A3AN5NG00BCMBP already launched\n",
      "Processing worker #11, A330FMI751KNPC\n",
      "Stage 2 HIT for worker A330FMI751KNPC already launched\n",
      "Processing worker #12, A1MX0ZPLW9SLY6\n",
      "Stage 2 HIT for worker A1MX0ZPLW9SLY6 already launched\n",
      "Processing worker #13, AN45KLUESX3NY\n",
      "Stage 2 HIT for worker AN45KLUESX3NY already launched\n",
      "Processing worker #14, A3FUDUZVJAENVE\n",
      "Stage 2 HIT for worker A3FUDUZVJAENVE already launched\n",
      "Processing worker #15, A6NQQ3B2734MU\n",
      "Stage 2 HIT for worker A6NQQ3B2734MU already launched\n",
      "Processing worker #16, A2FJ62X0X9YS5P\n",
      "Stage 2 HIT for worker A2FJ62X0X9YS5P already launched\n",
      "Processing worker #17, AWYKYM16CB00Z\n",
      "Stage 2 HIT for worker AWYKYM16CB00Z already launched\n",
      "Processing worker #18, ARG392N6HWZCJ\n",
      "Stage 2 HIT for worker ARG392N6HWZCJ already launched\n",
      "Processing worker #19, A1X2NKYJNHB1A5\n",
      "Stage 2 HIT for worker A1X2NKYJNHB1A5 already launched\n",
      "Processing worker #20, A3MJSYSWX0Q4WQ\n",
      "Stage 2 HIT for worker A3MJSYSWX0Q4WQ already launched\n",
      "Processing worker #21, A2E6Z6NDAES26P\n",
      "Stage 2 HIT for worker A2E6Z6NDAES26P already launched\n",
      "Processing worker #22, A16K7X677N4WN6\n",
      "Stage 2 HIT for worker A16K7X677N4WN6 already launched\n",
      "Processing worker #23, ACY3ZOOZMVS7Y\n",
      "Stage 2 HIT for worker ACY3ZOOZMVS7Y already launched\n",
      "Processing worker #24, A1PIOTGADK1EN1\n",
      "Stage 2 HIT for worker A1PIOTGADK1EN1 already launched\n",
      "Processing worker #25, AVZQFHMC30ZN4\n",
      "Stage 2 HIT for worker AVZQFHMC30ZN4 already launched\n",
      "Processing worker #26, AI0K2LZWV73MB\n",
      "Stage 2 HIT for worker AI0K2LZWV73MB already launched\n",
      "Processing worker #27, A3HCQGTFEZGEEF\n",
      "Stage 2 HIT for worker A3HCQGTFEZGEEF already launched\n",
      "Processing worker #28, A3RC46ZOZAEL9V\n",
      "Stage 2 HIT for worker A3RC46ZOZAEL9V already launched\n",
      "Processing worker #29, A2IC4IMH7G9UKU\n",
      "Stage 2 HIT for worker A2IC4IMH7G9UKU already launched\n",
      "Processing worker #30, A2LEY4X3LD8G26\n",
      "Stage 2 HIT for worker A2LEY4X3LD8G26 already launched\n",
      "Processing worker #31, A4PUOAFLUOQW4\n",
      "Stage 2 HIT for worker A4PUOAFLUOQW4 already launched\n",
      "Processing worker #32, A63QNYB26OEZN\n",
      "Stage 2 HIT for worker A63QNYB26OEZN already launched\n",
      "Processing worker #33, A2DQ3J7T7VZDX8\n",
      "Stage 2 HIT for worker A2DQ3J7T7VZDX8 already launched\n",
      "Processing worker #34, A2DVCDDVI697QR\n",
      "Stage 2 HIT for worker A2DVCDDVI697QR already launched\n",
      "Processing worker #35, A3DP9IH8W5OXJL\n",
      "Stage 2 HIT for worker A3DP9IH8W5OXJL already launched\n",
      "Processing worker #36, A165ZC634AIYVY\n",
      "Stage 2 HIT for worker A165ZC634AIYVY already launched\n",
      "Processing worker #37, A11JCTPPYRML49\n",
      "Stage 2 HIT for worker A11JCTPPYRML49 already launched\n",
      "Processing worker #38, A171S8E9IFSHH2\n",
      "Stage 2 HIT for worker A171S8E9IFSHH2 already launched\n",
      "Processing worker #39, ADUJUZANFOWKW\n",
      "Stage 2 HIT for worker ADUJUZANFOWKW already launched\n",
      "Processing worker #40, A87N9I8GBOYS6\n",
      "Stage 2 HIT for worker A87N9I8GBOYS6 already launched\n",
      "Processing worker #41, AODPCQK31HAWQ\n",
      "Stage 2 HIT for worker AODPCQK31HAWQ already launched\n",
      "Processing worker #42, A212P9LUF0URRZ\n",
      "Stage 2 HIT for worker A212P9LUF0URRZ already launched\n",
      "Processing worker #43, AKO3QLTHPQZ16\n",
      "Stage 2 HIT for worker AKO3QLTHPQZ16 already launched\n",
      "Processing worker #44, A1NURUSQ7BPB1S\n",
      "Stage 2 HIT for worker A1NURUSQ7BPB1S already launched\n",
      "Processing worker #45, A3A8P4UR9A0DWQ\n",
      "Stage 2 HIT for worker A3A8P4UR9A0DWQ already launched\n",
      "Processing worker #46, A1I7LQ7O0HR5WH\n",
      "Stage 2 HIT for worker A1I7LQ7O0HR5WH already launched\n",
      "Processing worker #47, A26X269P2OTJOD\n",
      "Stage 2 HIT for worker A26X269P2OTJOD already launched\n",
      "Processing worker #48, A14FOFNUBU2P5D\n",
      "Stage 2 HIT for worker A14FOFNUBU2P5D already launched\n",
      "Processing worker #49, A32BQNJMLMZYG0\n",
      "Stage 2 HIT for worker A32BQNJMLMZYG0 already launched\n",
      "Processing worker #50, AY58M7QFW3QKH\n",
      "Stage 2 HIT for worker AY58M7QFW3QKH already launched\n",
      "Processing worker #51, AUPAX5TIOP1G9\n",
      "Stage 2 HIT for worker AUPAX5TIOP1G9 already launched\n",
      "Processing worker #52, A1W2GDEZ8I25MB\n",
      "Stage 2 HIT for worker A1W2GDEZ8I25MB already launched\n",
      "Processing worker #53, A33F04W4EVT4GK\n",
      "Stage 2 HIT for worker A33F04W4EVT4GK already launched\n",
      "Processing worker #54, A250FES5PFCGK9\n",
      "Stage 2 HIT for worker A250FES5PFCGK9 already launched\n",
      "Processing worker #55, A3DIWJ5LY4JD1B\n",
      "Stage 2 HIT for worker A3DIWJ5LY4JD1B already launched\n",
      "Processing worker #56, A21XWR5M393RWA\n",
      "Stage 2 HIT for worker A21XWR5M393RWA already launched\n",
      "Processing worker #57, A25NE0NYK6JJU\n",
      "Stage 2 HIT for worker A25NE0NYK6JJU already launched\n",
      "Processing worker #58, A24SPGECGCJGS1\n",
      "Stage 2 HIT for worker A24SPGECGCJGS1 already launched\n",
      "Processing worker #59, ADMTD74VX2A73\n",
      "Stage 2 HIT for worker ADMTD74VX2A73 already launched\n",
      "Processing worker #60, A2CU4ZBMTFN4N8\n",
      "Stage 2 HIT for worker A2CU4ZBMTFN4N8 already launched\n",
      "Processing worker #61, A2VN08AKS2M0V8\n",
      "Stage 2 HIT for worker A2VN08AKS2M0V8 already launched\n",
      "Processing worker #62, A1F96XZ34MUTG\n",
      "Stage 2 HIT for worker A1F96XZ34MUTG already launched\n",
      "Processing worker #63, A122QSIA01PR3L\n",
      "Stage 2 HIT for worker A122QSIA01PR3L already launched\n",
      "Processing worker #64, ARCANKHTVZ4ZO\n",
      "Stage 2 HIT for worker ARCANKHTVZ4ZO already launched\n",
      "Processing worker #65, A1X7HINAD78EL0\n",
      "Stage 2 HIT for worker A1X7HINAD78EL0 already launched\n",
      "Processing worker #66, A32WTSTT7OU89Q\n",
      "Stage 2 HIT for worker A32WTSTT7OU89Q already launched\n",
      "Processing worker #67, A166BS4L4QUBR9\n",
      "Stage 2 HIT for worker A166BS4L4QUBR9 already launched\n",
      "Processing worker #68, A2IBBX3ZHMES6Y\n",
      "Stage 2 HIT for worker A2IBBX3ZHMES6Y already launched\n",
      "Processing worker #69, A2N3QPZQKB5TNH\n",
      "Stage 2 HIT for worker A2N3QPZQKB5TNH already launched\n",
      "Processing worker #70, A2FV5CSQC9IIEI\n",
      "Stage 2 HIT for worker A2FV5CSQC9IIEI already launched\n",
      "Processing worker #71, A19EG3AZSHS293\n",
      "Stage 2 HIT for worker A19EG3AZSHS293 already launched\n",
      "Processing worker #72, A3O65XXK50TRZG\n",
      "Stage 2 HIT for worker A3O65XXK50TRZG already launched\n",
      "Processing worker #73, A305FX1US12XAU\n",
      "Stage 2 HIT for worker A305FX1US12XAU already launched\n",
      "Processing worker #74, A2T4QOZGI3CYYP\n",
      "Stage 2 HIT for worker A2T4QOZGI3CYYP already launched\n",
      "Processing worker #75, A2MRPQ443DP4RJ\n",
      "Stage 2 HIT for worker A2MRPQ443DP4RJ already launched\n",
      "Processing worker #76, AKQ7BGNTA81S6\n",
      "Stage 2 HIT for worker AKQ7BGNTA81S6 already launched\n",
      "Processing worker #77, AGW8QHJ3C1U53\n",
      "Stage 2 HIT for worker AGW8QHJ3C1U53 already launched\n",
      "Processing worker #78, AWDFPDUDNCVOX\n",
      "Stage 2 HIT for worker AWDFPDUDNCVOX already launched\n",
      "Processing worker #79, A36WGC00R5TWWB\n",
      "Last used qual num: 79\n",
      "Last used offer amt: 1.50\n",
      "Processing worker A36WGC00R5TWWB, offer 1.01, qual_num 80\n",
      "Associating num 80 with worker A36WGC00R5TWWB\n",
      "Current qual info in ..\\results_2stage\\current_qual.txt updated to be: Workplace_Survey_18,30M5Q3A44NCL1C9BMLI9I5P0L1PK7M,80,1.01\n",
      "Qualification assignment response:\n",
      "{'ResponseMetadata': {'RequestId': '34362e61-27dd-480b-b240-cc141e788e75', 'HTTPStatusCode': 200, 'HTTPHeaders': {'x-amzn-requestid': '34362e61-27dd-480b-b240-cc141e788e75', 'content-type': 'application/x-amz-json-1.1', 'content-length': '2', 'date': 'Mon, 21 Nov 2022 23:21:18 GMT'}, 'RetryAttempts': 0}}\n",
      "Launch response:\n",
      "200\n",
      "Created HITId 3MQKOF1EE3PZQXHUBZNGUX8TKYMDW7 for worker A36WGC00R5TWWB\n",
      "You can work the HIT here: https://www.mturk.com/mturk/preview?groupId=34LHDG0NEVFSB16S0CRURNQSZS8ASX\n",
      "New launched HIT successfully added to ..\\results_2stage\\stage2_launched_workers.csv\n",
      "=====[ end loop iteration ]=====\n",
      "Processing worker #80, A2HBOFYZKSMN1Z\n",
      "Last used qual num: 80\n",
      "Last used offer amt: 1.01\n",
      "Processing worker A2HBOFYZKSMN1Z, offer 1.00, qual_num 81\n",
      "Associating num 81 with worker A2HBOFYZKSMN1Z\n",
      "Current qual info in ..\\results_2stage\\current_qual.txt updated to be: Workplace_Survey_18,30M5Q3A44NCL1C9BMLI9I5P0L1PK7M,81,1.00\n",
      "Qualification assignment response:\n",
      "{'ResponseMetadata': {'RequestId': 'aa0242fb-3d28-40c0-aa62-13f87a06f44d', 'HTTPStatusCode': 200, 'HTTPHeaders': {'x-amzn-requestid': 'aa0242fb-3d28-40c0-aa62-13f87a06f44d', 'content-type': 'application/x-amz-json-1.1', 'content-length': '2', 'date': 'Mon, 21 Nov 2022 23:21:18 GMT'}, 'RetryAttempts': 0}}\n",
      "Launch response:\n",
      "200\n",
      "Created HITId 3XAOZ9UYR0S0E55WJX4F16PY702Q1Q for worker A2HBOFYZKSMN1Z\n",
      "You can work the HIT here: https://www.mturk.com/mturk/preview?groupId=3P23GFB3B8PRSMS290W1RZOYG7JDB1\n",
      "New launched HIT successfully added to ..\\results_2stage\\stage2_launched_workers.csv\n",
      "=====[ end loop iteration ]=====\n",
      "Processing worker #81, A1AD2BDQYTTJIL\n",
      "Last used qual num: 81\n",
      "Last used offer amt: 1.00\n",
      "Processing worker A1AD2BDQYTTJIL, offer 0.98, qual_num 82\n",
      "Associating num 82 with worker A1AD2BDQYTTJIL\n",
      "Current qual info in ..\\results_2stage\\current_qual.txt updated to be: Workplace_Survey_18,30M5Q3A44NCL1C9BMLI9I5P0L1PK7M,82,0.98\n",
      "Qualification assignment response:\n",
      "{'ResponseMetadata': {'RequestId': '6427acf2-f009-4f75-93fc-c157223beb1a', 'HTTPStatusCode': 200, 'HTTPHeaders': {'x-amzn-requestid': '6427acf2-f009-4f75-93fc-c157223beb1a', 'content-type': 'application/x-amz-json-1.1', 'content-length': '2', 'date': 'Mon, 21 Nov 2022 23:21:19 GMT'}, 'RetryAttempts': 0}}\n",
      "Launch response:\n",
      "200\n",
      "Created HITId 3X4Q1O9UBINB4F7IT0TKDBLBVLKO7D for worker A1AD2BDQYTTJIL\n",
      "You can work the HIT here: https://www.mturk.com/mturk/preview?groupId=34W4CI95J02PC4TR3UJGRQ9LKCOI9Y\n",
      "New launched HIT successfully added to ..\\results_2stage\\stage2_launched_workers.csv\n",
      "=====[ end loop iteration ]=====\n",
      "Processing worker #82, AWXHYI0RU9SNV\n",
      "Last used qual num: 82\n",
      "Last used offer amt: 0.98\n",
      "Processing worker AWXHYI0RU9SNV, offer 0.95, qual_num 83\n",
      "Associating num 83 with worker AWXHYI0RU9SNV\n",
      "Current qual info in ..\\results_2stage\\current_qual.txt updated to be: Workplace_Survey_18,30M5Q3A44NCL1C9BMLI9I5P0L1PK7M,83,0.95\n",
      "Qualification assignment response:\n",
      "{'ResponseMetadata': {'RequestId': 'd7ed0311-1db6-4cef-a00a-8c7939e5caeb', 'HTTPStatusCode': 200, 'HTTPHeaders': {'x-amzn-requestid': 'd7ed0311-1db6-4cef-a00a-8c7939e5caeb', 'content-type': 'application/x-amz-json-1.1', 'content-length': '2', 'date': 'Mon, 21 Nov 2022 23:21:20 GMT'}, 'RetryAttempts': 0}}\n",
      "Launch response:\n",
      "200\n",
      "Created HITId 3FTID4TN8MZMDE0M3H3SY71E4FOLYU for worker AWXHYI0RU9SNV\n",
      "You can work the HIT here: https://www.mturk.com/mturk/preview?groupId=3J2L5QGBTACRTIWBVT9AQ5ST5GV2QT\n",
      "New launched HIT successfully added to ..\\results_2stage\\stage2_launched_workers.csv\n",
      "=====[ end loop iteration ]=====\n",
      "Processing worker #83, A247BFL5DPFIPM\n",
      "Last used qual num: 83\n",
      "Last used offer amt: 0.95\n",
      "Processing worker A247BFL5DPFIPM, offer 1.00, qual_num 84\n",
      "Associating num 84 with worker A247BFL5DPFIPM\n",
      "Current qual info in ..\\results_2stage\\current_qual.txt updated to be: Workplace_Survey_18,30M5Q3A44NCL1C9BMLI9I5P0L1PK7M,84,1.00\n",
      "Qualification assignment response:\n",
      "{'ResponseMetadata': {'RequestId': 'cf56e505-0c22-47a8-a2fa-dd2ceabd683c', 'HTTPStatusCode': 200, 'HTTPHeaders': {'x-amzn-requestid': 'cf56e505-0c22-47a8-a2fa-dd2ceabd683c', 'content-type': 'application/x-amz-json-1.1', 'content-length': '2', 'date': 'Mon, 21 Nov 2022 23:21:21 GMT'}, 'RetryAttempts': 0}}\n",
      "Launch response:\n",
      "200\n",
      "Created HITId 3BA7SXOG1KRI164HVX2UL6MBHSA8RT for worker A247BFL5DPFIPM\n",
      "You can work the HIT here: https://www.mturk.com/mturk/preview?groupId=3OSXIFYM56IPLWX15CXD297PBHEGAJ\n",
      "New launched HIT successfully added to ..\\results_2stage\\stage2_launched_workers.csv\n",
      "=====[ end loop iteration ]=====\n",
      "Processing worker #84, A31VBYKT62SBGY\n",
      "Last used qual num: 84\n",
      "Last used offer amt: 1.00\n",
      "Processing worker A31VBYKT62SBGY, offer 1.01, qual_num 85\n",
      "Associating num 85 with worker A31VBYKT62SBGY\n",
      "Current qual info in ..\\results_2stage\\current_qual.txt updated to be: Workplace_Survey_18,30M5Q3A44NCL1C9BMLI9I5P0L1PK7M,85,1.01\n",
      "Qualification assignment response:\n",
      "{'ResponseMetadata': {'RequestId': 'd8823149-bb19-4611-8314-0a3d8878cd58', 'HTTPStatusCode': 200, 'HTTPHeaders': {'x-amzn-requestid': 'd8823149-bb19-4611-8314-0a3d8878cd58', 'content-type': 'application/x-amz-json-1.1', 'content-length': '2', 'date': 'Mon, 21 Nov 2022 23:21:22 GMT'}, 'RetryAttempts': 0}}\n",
      "Launch response:\n",
      "200\n",
      "Created HITId 32204AGAACDK5RWWIQ2OZF13I2PGHK for worker A31VBYKT62SBGY\n",
      "You can work the HIT here: https://www.mturk.com/mturk/preview?groupId=3WZJZ0TDWVTTKJZJDA0KD3VC2V20GC\n",
      "New launched HIT successfully added to ..\\results_2stage\\stage2_launched_workers.csv\n",
      "=====[ end loop iteration ]=====\n",
      "Processing worker #85, A2NU82V08QSPCC\n",
      "Last used qual num: 85\n",
      "Last used offer amt: 1.01\n",
      "Processing worker A2NU82V08QSPCC, offer 0.99, qual_num 86\n",
      "Associating num 86 with worker A2NU82V08QSPCC\n",
      "Current qual info in ..\\results_2stage\\current_qual.txt updated to be: Workplace_Survey_18,30M5Q3A44NCL1C9BMLI9I5P0L1PK7M,86,0.99\n",
      "Qualification assignment response:\n",
      "{'ResponseMetadata': {'RequestId': '7898fe57-3382-49f9-bc27-3770d9729b01', 'HTTPStatusCode': 200, 'HTTPHeaders': {'x-amzn-requestid': '7898fe57-3382-49f9-bc27-3770d9729b01', 'content-type': 'application/x-amz-json-1.1', 'content-length': '2', 'date': 'Mon, 21 Nov 2022 23:21:24 GMT'}, 'RetryAttempts': 0}}\n",
      "Launch response:\n",
      "200\n",
      "Created HITId 3MVY4USGB7ONRRG7J8EQO5LL6QYISZ for worker A2NU82V08QSPCC\n",
      "You can work the HIT here: https://www.mturk.com/mturk/preview?groupId=3T78B5BNRY5WNYHEU87PE1F7HGJ89G\n",
      "New launched HIT successfully added to ..\\results_2stage\\stage2_launched_workers.csv\n",
      "=====[ end loop iteration ]=====\n",
      "Processing worker #86, AF1QXK2OLAEKD\n",
      "Last used qual num: 86\n",
      "Last used offer amt: 0.99\n",
      "Processing worker AF1QXK2OLAEKD, offer 0.50, qual_num 87\n",
      "Associating num 87 with worker AF1QXK2OLAEKD\n",
      "Current qual info in ..\\results_2stage\\current_qual.txt updated to be: Workplace_Survey_18,30M5Q3A44NCL1C9BMLI9I5P0L1PK7M,87,0.50\n",
      "Qualification assignment response:\n",
      "{'ResponseMetadata': {'RequestId': '6cb76951-b7fa-4a35-a2f5-af354513f951', 'HTTPStatusCode': 200, 'HTTPHeaders': {'x-amzn-requestid': '6cb76951-b7fa-4a35-a2f5-af354513f951', 'content-type': 'application/x-amz-json-1.1', 'content-length': '2', 'date': 'Mon, 21 Nov 2022 23:21:25 GMT'}, 'RetryAttempts': 0}}\n",
      "Launch response:\n",
      "200\n",
      "Created HITId 3BVS8WK9Q1WOA5Z58MSVYGBL22CBIR for worker AF1QXK2OLAEKD\n",
      "You can work the HIT here: https://www.mturk.com/mturk/preview?groupId=370WPY2B8WI5N3CH7OFJSTYR1O8L3Y\n",
      "New launched HIT successfully added to ..\\results_2stage\\stage2_launched_workers.csv\n",
      "=====[ end loop iteration ]=====\n",
      "Processing worker #87, A402OOIWWS0JF\n",
      "Last used qual num: 87\n",
      "Last used offer amt: 0.50\n",
      "Processing worker A402OOIWWS0JF, offer 1.10, qual_num 88\n",
      "Associating num 88 with worker A402OOIWWS0JF\n",
      "Current qual info in ..\\results_2stage\\current_qual.txt updated to be: Workplace_Survey_18,30M5Q3A44NCL1C9BMLI9I5P0L1PK7M,88,1.10\n",
      "Qualification assignment response:\n",
      "{'ResponseMetadata': {'RequestId': '5ef371d3-0482-489e-b355-740aa2535c14', 'HTTPStatusCode': 200, 'HTTPHeaders': {'x-amzn-requestid': '5ef371d3-0482-489e-b355-740aa2535c14', 'content-type': 'application/x-amz-json-1.1', 'content-length': '2', 'date': 'Mon, 21 Nov 2022 23:21:26 GMT'}, 'RetryAttempts': 0}}\n",
      "Launch response:\n",
      "200\n",
      "Created HITId 3B623HUYJ5RU2L4UAM2ZBGR73UT8SH for worker A402OOIWWS0JF\n",
      "You can work the HIT here: https://www.mturk.com/mturk/preview?groupId=3OZM3XU596WU462TBQX9XKRVTZZGBE\n",
      "New launched HIT successfully added to ..\\results_2stage\\stage2_launched_workers.csv\n",
      "=====[ end loop iteration ]=====\n",
      "Processing worker #88, A1CN1H9UODZ1E6\n",
      "Last used qual num: 88\n",
      "Last used offer amt: 1.10\n",
      "Processing worker A1CN1H9UODZ1E6, offer 0.50, qual_num 89\n",
      "Associating num 89 with worker A1CN1H9UODZ1E6\n",
      "Current qual info in ..\\results_2stage\\current_qual.txt updated to be: Workplace_Survey_18,30M5Q3A44NCL1C9BMLI9I5P0L1PK7M,89,0.50\n",
      "Qualification assignment response:\n",
      "{'ResponseMetadata': {'RequestId': 'ac60c8d1-4c31-49d5-8274-bbd9bb392deb', 'HTTPStatusCode': 200, 'HTTPHeaders': {'x-amzn-requestid': 'ac60c8d1-4c31-49d5-8274-bbd9bb392deb', 'content-type': 'application/x-amz-json-1.1', 'content-length': '2', 'date': 'Mon, 21 Nov 2022 23:21:27 GMT'}, 'RetryAttempts': 0}}\n",
      "Launch response:\n",
      "200\n",
      "Created HITId 3ZQX1VYFTE6F4TC135LQRBH665QO80 for worker A1CN1H9UODZ1E6\n",
      "You can work the HIT here: https://www.mturk.com/mturk/preview?groupId=3BWB13R12423HN3WV0XGNLK5QU6IAD\n",
      "New launched HIT successfully added to ..\\results_2stage\\stage2_launched_workers.csv\n",
      "=====[ end loop iteration ]=====\n",
      "Processing worker #89, A1O1ZRKOJZ6LJG\n",
      "Last used qual num: 89\n",
      "Last used offer amt: 0.50\n",
      "Processing worker A1O1ZRKOJZ6LJG, offer 1.50, qual_num 90\n",
      "Associating num 90 with worker A1O1ZRKOJZ6LJG\n",
      "Current qual info in ..\\results_2stage\\current_qual.txt updated to be: Workplace_Survey_18,30M5Q3A44NCL1C9BMLI9I5P0L1PK7M,90,1.50\n",
      "Qualification assignment response:\n",
      "{'ResponseMetadata': {'RequestId': '082a0632-659e-4b57-aa7c-83df4fe2a02e', 'HTTPStatusCode': 200, 'HTTPHeaders': {'x-amzn-requestid': '082a0632-659e-4b57-aa7c-83df4fe2a02e', 'content-type': 'application/x-amz-json-1.1', 'content-length': '2', 'date': 'Mon, 21 Nov 2022 23:21:28 GMT'}, 'RetryAttempts': 0}}\n",
      "Launch response:\n",
      "200\n",
      "Created HITId 3XEIP58NL1OMI4ARZ35BCEAGA9SLZL for worker A1O1ZRKOJZ6LJG\n",
      "You can work the HIT here: https://www.mturk.com/mturk/preview?groupId=3X2H010HBSXR5JBB88YAVV2Y12X2RU\n",
      "New launched HIT successfully added to ..\\results_2stage\\stage2_launched_workers.csv\n",
      "=====[ end loop iteration ]=====\n",
      "Processing worker #90, A19NZMAP7N9PK2\n",
      "Last used qual num: 90\n",
      "Last used offer amt: 1.50\n",
      "Processing worker A19NZMAP7N9PK2, offer 0.50, qual_num 91\n",
      "Associating num 91 with worker A19NZMAP7N9PK2\n",
      "Current qual info in ..\\results_2stage\\current_qual.txt updated to be: Workplace_Survey_18,30M5Q3A44NCL1C9BMLI9I5P0L1PK7M,91,0.50\n",
      "Qualification assignment response:\n",
      "{'ResponseMetadata': {'RequestId': '25d9c48f-9861-41db-828b-7c93e0d39137', 'HTTPStatusCode': 200, 'HTTPHeaders': {'x-amzn-requestid': '25d9c48f-9861-41db-828b-7c93e0d39137', 'content-type': 'application/x-amz-json-1.1', 'content-length': '2', 'date': 'Mon, 21 Nov 2022 23:21:31 GMT'}, 'RetryAttempts': 0}}\n",
      "Launch response:\n",
      "200\n",
      "Created HITId 3LXX8KJXPXAFIYVB8XR4R7CHQB8O9P for worker A19NZMAP7N9PK2\n",
      "You can work the HIT here: https://www.mturk.com/mturk/preview?groupId=3B30MLNK64G80X8O1EXCIW4B8CRIB8\n",
      "New launched HIT successfully added to ..\\results_2stage\\stage2_launched_workers.csv\n",
      "=====[ end loop iteration ]=====\n",
      "Processing worker #91, AD0345HBWWZ45\n",
      "Last used qual num: 91\n",
      "Last used offer amt: 0.50\n",
      "Processing worker AD0345HBWWZ45, offer 0.95, qual_num 92\n",
      "Associating num 92 with worker AD0345HBWWZ45\n",
      "Current qual info in ..\\results_2stage\\current_qual.txt updated to be: Workplace_Survey_18,30M5Q3A44NCL1C9BMLI9I5P0L1PK7M,92,0.95\n",
      "Qualification assignment response:\n",
      "{'ResponseMetadata': {'RequestId': 'c8ccaf8d-a269-4a3d-8865-e38fd53efee6', 'HTTPStatusCode': 200, 'HTTPHeaders': {'x-amzn-requestid': 'c8ccaf8d-a269-4a3d-8865-e38fd53efee6', 'content-type': 'application/x-amz-json-1.1', 'content-length': '2', 'date': 'Mon, 21 Nov 2022 23:21:33 GMT'}, 'RetryAttempts': 0}}\n",
      "Launch response:\n",
      "200\n",
      "Created HITId 371DNNCG453VHLH9ZM7PLLNT5D78T6 for worker AD0345HBWWZ45\n",
      "You can work the HIT here: https://www.mturk.com/mturk/preview?groupId=3VO7LTD99K1DEBUZPQT484XDBKZGCL\n",
      "New launched HIT successfully added to ..\\results_2stage\\stage2_launched_workers.csv\n",
      "=====[ end loop iteration ]=====\n",
      "Processing worker #92, A2Y0VM8BAF0RMT\n",
      "Last used qual num: 92\n",
      "Last used offer amt: 0.95\n",
      "Processing worker A2Y0VM8BAF0RMT, offer 1.02, qual_num 93\n",
      "Associating num 93 with worker A2Y0VM8BAF0RMT\n",
      "Current qual info in ..\\results_2stage\\current_qual.txt updated to be: Workplace_Survey_18,30M5Q3A44NCL1C9BMLI9I5P0L1PK7M,93,1.02\n",
      "Qualification assignment response:\n",
      "{'ResponseMetadata': {'RequestId': '62f2e312-4c8c-4dcb-968b-2932eccf55a0', 'HTTPStatusCode': 200, 'HTTPHeaders': {'x-amzn-requestid': '62f2e312-4c8c-4dcb-968b-2932eccf55a0', 'content-type': 'application/x-amz-json-1.1', 'content-length': '2', 'date': 'Mon, 21 Nov 2022 23:21:34 GMT'}, 'RetryAttempts': 0}}\n",
      "Launch response:\n",
      "200\n",
      "Created HITId 3IQ9O0AYW70O6RTM88JGYAH789CITO for worker A2Y0VM8BAF0RMT\n",
      "You can work the HIT here: https://www.mturk.com/mturk/preview?groupId=307F0QTJA25ASHRJMELPAWQRNY18AV\n",
      "New launched HIT successfully added to ..\\results_2stage\\stage2_launched_workers.csv\n",
      "=====[ end loop iteration ]=====\n",
      "Processing worker #93, A1HIJ7GKXCDRTW\n",
      "Last used qual num: 93\n",
      "Last used offer amt: 1.02\n",
      "Processing worker A1HIJ7GKXCDRTW, offer 0.50, qual_num 94\n",
      "Associating num 94 with worker A1HIJ7GKXCDRTW\n",
      "Current qual info in ..\\results_2stage\\current_qual.txt updated to be: Workplace_Survey_18,30M5Q3A44NCL1C9BMLI9I5P0L1PK7M,94,0.50\n",
      "Qualification assignment response:\n",
      "{'ResponseMetadata': {'RequestId': '1f1da56d-6e5c-4930-9b0d-fd2740681044', 'HTTPStatusCode': 200, 'HTTPHeaders': {'x-amzn-requestid': '1f1da56d-6e5c-4930-9b0d-fd2740681044', 'content-type': 'application/x-amz-json-1.1', 'content-length': '2', 'date': 'Mon, 21 Nov 2022 23:21:34 GMT'}, 'RetryAttempts': 0}}\n",
      "Launch response:\n",
      "200\n",
      "Created HITId 31ANT7FQN93MPU7C1UJXVIAESTB5HR for worker A1HIJ7GKXCDRTW\n",
      "You can work the HIT here: https://www.mturk.com/mturk/preview?groupId=3OK7AMVIFSS81IZLL73C7QWBFKZ5L8\n",
      "New launched HIT successfully added to ..\\results_2stage\\stage2_launched_workers.csv\n",
      "=====[ end loop iteration ]=====\n",
      "Processing worker #94, A1GD1SKU3C996C\n",
      "Last used qual num: 94\n",
      "Last used offer amt: 0.50\n",
      "Processing worker A1GD1SKU3C996C, offer 0.98, qual_num 95\n",
      "Associating num 95 with worker A1GD1SKU3C996C\n",
      "Current qual info in ..\\results_2stage\\current_qual.txt updated to be: Workplace_Survey_18,30M5Q3A44NCL1C9BMLI9I5P0L1PK7M,95,0.98\n",
      "Qualification assignment response:\n",
      "{'ResponseMetadata': {'RequestId': '0eaa8cab-2e51-4513-9a80-e40e74797db2', 'HTTPStatusCode': 200, 'HTTPHeaders': {'x-amzn-requestid': '0eaa8cab-2e51-4513-9a80-e40e74797db2', 'content-type': 'application/x-amz-json-1.1', 'content-length': '2', 'date': 'Mon, 21 Nov 2022 23:21:35 GMT'}, 'RetryAttempts': 0}}\n",
      "Launch response:\n",
      "200\n",
      "Created HITId 3SX4X51T81ATNH5G0354N2N1WTQOA4 for worker A1GD1SKU3C996C\n",
      "You can work the HIT here: https://www.mturk.com/mturk/preview?groupId=3ISL4H6O6ILRA20UFET7TGATQXRICF\n",
      "New launched HIT successfully added to ..\\results_2stage\\stage2_launched_workers.csv\n",
      "=====[ end loop iteration ]=====\n",
      "Processing worker #95, A3L9EN8YL1HZWF\n",
      "Last used qual num: 95\n",
      "Last used offer amt: 0.98\n",
      "Processing worker A3L9EN8YL1HZWF, offer 1.10, qual_num 96\n",
      "Associating num 96 with worker A3L9EN8YL1HZWF\n",
      "Current qual info in ..\\results_2stage\\current_qual.txt updated to be: Workplace_Survey_18,30M5Q3A44NCL1C9BMLI9I5P0L1PK7M,96,1.10\n",
      "Qualification assignment response:\n",
      "{'ResponseMetadata': {'RequestId': 'd9f4e165-6cfe-4ac5-83e4-80b8da0981e4', 'HTTPStatusCode': 200, 'HTTPHeaders': {'x-amzn-requestid': 'd9f4e165-6cfe-4ac5-83e4-80b8da0981e4', 'content-type': 'application/x-amz-json-1.1', 'content-length': '2', 'date': 'Mon, 21 Nov 2022 23:21:37 GMT'}, 'RetryAttempts': 0}}\n",
      "Launch response:\n",
      "200\n",
      "Created HITId 33J5JKFMK7ZWO8JB61IYPZ4V5KGQ3I for worker A3L9EN8YL1HZWF\n",
      "You can work the HIT here: https://www.mturk.com/mturk/preview?groupId=3WROYBU7BMUA2RK8N0SW2JUGYSJDC8\n",
      "New launched HIT successfully added to ..\\results_2stage\\stage2_launched_workers.csv\n",
      "=====[ end loop iteration ]=====\n",
      "Processing worker #96, A3S2R1NK6HZ9KP\n",
      "Last used qual num: 96\n",
      "Last used offer amt: 1.10\n",
      "Processing worker A3S2R1NK6HZ9KP, offer 1.02, qual_num 97\n",
      "Associating num 97 with worker A3S2R1NK6HZ9KP\n",
      "Current qual info in ..\\results_2stage\\current_qual.txt updated to be: Workplace_Survey_18,30M5Q3A44NCL1C9BMLI9I5P0L1PK7M,97,1.02\n",
      "Qualification assignment response:\n",
      "{'ResponseMetadata': {'RequestId': '7c18abe3-d33a-4fa0-9f4f-198cd7fd6365', 'HTTPStatusCode': 200, 'HTTPHeaders': {'x-amzn-requestid': '7c18abe3-d33a-4fa0-9f4f-198cd7fd6365', 'content-type': 'application/x-amz-json-1.1', 'content-length': '2', 'date': 'Mon, 21 Nov 2022 23:21:38 GMT'}, 'RetryAttempts': 0}}\n",
      "Launch response:\n",
      "200\n",
      "Created HITId 3S4TINXCC1OY6RA86H50ID77EBBOBZ for worker A3S2R1NK6HZ9KP\n",
      "You can work the HIT here: https://www.mturk.com/mturk/preview?groupId=37D300AOKN41FU68FAOIDMSBBX3IDF\n",
      "New launched HIT successfully added to ..\\results_2stage\\stage2_launched_workers.csv\n",
      "=====[ end loop iteration ]=====\n",
      "Processing worker #97, A14CBWGILA1VG4\n",
      "Last used qual num: 97\n",
      "Last used offer amt: 1.02\n",
      "Processing worker A14CBWGILA1VG4, offer 1.01, qual_num 98\n",
      "Associating num 98 with worker A14CBWGILA1VG4\n",
      "Current qual info in ..\\results_2stage\\current_qual.txt updated to be: Workplace_Survey_18,30M5Q3A44NCL1C9BMLI9I5P0L1PK7M,98,1.01\n",
      "Qualification assignment response:\n",
      "{'ResponseMetadata': {'RequestId': '5ac2a2a0-06ae-4390-960f-07176f51c7d9', 'HTTPStatusCode': 200, 'HTTPHeaders': {'x-amzn-requestid': '5ac2a2a0-06ae-4390-960f-07176f51c7d9', 'content-type': 'application/x-amz-json-1.1', 'content-length': '2', 'date': 'Mon, 21 Nov 2022 23:21:39 GMT'}, 'RetryAttempts': 0}}\n",
      "Launch response:\n",
      "200\n",
      "Created HITId 3B9XR6P1WFWK5GJBQ4DVAHQLFH1BJ3 for worker A14CBWGILA1VG4\n",
      "You can work the HIT here: https://www.mturk.com/mturk/preview?groupId=3WSO80OI837Q5ZVL72K22YQXFO4L4J\n",
      "New launched HIT successfully added to ..\\results_2stage\\stage2_launched_workers.csv\n",
      "=====[ end loop iteration ]=====\n",
      "Processing worker #98, A16IA4IRHG9RWF\n",
      "Last used qual num: 98\n",
      "Last used offer amt: 1.01\n",
      "Processing worker A16IA4IRHG9RWF, offer 1.10, qual_num 99\n",
      "Associating num 99 with worker A16IA4IRHG9RWF\n",
      "Current qual info in ..\\results_2stage\\current_qual.txt updated to be: Workplace_Survey_18,30M5Q3A44NCL1C9BMLI9I5P0L1PK7M,99,1.10\n",
      "Qualification assignment response:\n",
      "{'ResponseMetadata': {'RequestId': '5da32e20-dddc-4d83-98a2-5d1ed7df9c2c', 'HTTPStatusCode': 200, 'HTTPHeaders': {'x-amzn-requestid': '5da32e20-dddc-4d83-98a2-5d1ed7df9c2c', 'content-type': 'application/x-amz-json-1.1', 'content-length': '2', 'date': 'Mon, 21 Nov 2022 23:21:40 GMT'}, 'RetryAttempts': 0}}\n",
      "Launch response:\n",
      "200\n",
      "Created HITId 32CXT5U14H4AHYWYZRXZQH9VORE8UX for worker A16IA4IRHG9RWF\n",
      "You can work the HIT here: https://www.mturk.com/mturk/preview?groupId=3K9PHCH9NPKNJ30DPMOFSAFVWKBGDL\n",
      "New launched HIT successfully added to ..\\results_2stage\\stage2_launched_workers.csv\n",
      "=====[ end loop iteration ]=====\n",
      "Processing worker #99, AQQZ96P85B3B\n",
      "Last used qual num: 99\n",
      "Last used offer amt: 1.10\n",
      "Processing worker AQQZ96P85B3B, offer 0.95, qual_num 0\n",
      "Associating num 0 with worker AQQZ96P85B3B\n",
      "Current qual info in ..\\results_2stage\\current_qual.txt updated to be: Workplace_Survey_18,30M5Q3A44NCL1C9BMLI9I5P0L1PK7M,0,0.95\n",
      "Qualification assignment response:\n",
      "{'ResponseMetadata': {'RequestId': '27d02f09-6a76-4859-93c5-a132d0d2c337', 'HTTPStatusCode': 200, 'HTTPHeaders': {'x-amzn-requestid': '27d02f09-6a76-4859-93c5-a132d0d2c337', 'content-type': 'application/x-amz-json-1.1', 'content-length': '2', 'date': 'Mon, 21 Nov 2022 23:21:41 GMT'}, 'RetryAttempts': 0}}\n",
      "Launch response:\n",
      "200\n",
      "Created HITId 3ZTE0JGGCFTHGW2EKH1VTXDPWWBOC6 for worker AQQZ96P85B3B\n",
      "You can work the HIT here: https://www.mturk.com/mturk/preview?groupId=3SVZJ4A2P6E670K8B5Z2J4AWB94IE8\n",
      "New launched HIT successfully added to ..\\results_2stage\\stage2_launched_workers.csv\n",
      "=====[ end loop iteration ]=====\n"
     ]
    }
   ],
   "source": [
    "# Load the already-launched HITs, if the file exists, for quick checking\n",
    "if os.path.isfile(mtglobals.stage2_launched_fpath):\n",
    "    launched_df = pd.read_csv(mtglobals.stage2_launched_fpath)\n",
    "else:\n",
    "    launched_df = None\n",
    "# Loop over workers who submitted stage 1\n",
    "for worker_num, cur_worker_id in enumerate(s1_submitters):\n",
    "    print(f\"Processing worker #{worker_num}, {cur_worker_id}\")\n",
    "    launched_qual_name, launched_qual_num, launched_offer_amt = mtglobals.check_launched(launched_df, cur_worker_id)\n",
    "    if launched_qual_num != -1:\n",
    "        print(f\"Stage 2 HIT for worker {cur_worker_id} already launched\")\n",
    "        continue\n",
    "    # If we're here, this worker_id hasn't had a stage 2 HIT launched yet\n",
    "    cur_qual_info = mtglobals.get_current_qual()\n",
    "    cur_qual_name = cur_qual_info['qual_name']\n",
    "    cur_qual_id = cur_qual_info['qual_id']\n",
    "    last_qual_num = cur_qual_info['last_qual_num']\n",
    "    last_offer = cur_qual_info['last_offer_amt']\n",
    "    print(f\"Last used qual num: {last_qual_num}\")\n",
    "    print(f\"Last used offer amt: {last_offer}\")\n",
    "    # Generate random offer amount\n",
    "    # New new: randomly sampled\n",
    "    cur_offer_amt = mtglobals.draw_random_wage()\n",
    "    # The qual num just increments until it reaches 100, the highest allowed, then drops back to 0.\n",
    "    # (just for tracking purposes)\n",
    "    cur_qual_num = (last_qual_num + 1) % 100\n",
    "    # Generate audio_id from qual_num\n",
    "    cur_audio_id = str(cur_qual_num).zfill(2)\n",
    "    print(f\"Processing worker {cur_worker_id}, offer {cur_offer_amt}, qual_num {cur_qual_num}\")\n",
    "    # Using the functions to create the HIT params and content\n",
    "    # Generate the xml for the question\n",
    "    stage2_question = mtglobals.gen_custom_hit(stage2_xml_fpath, survey_url, cur_worker_id,\n",
    "                                               cur_offer_amt, cur_audio_id)\n",
    "    # Assign the custom qualification num for this worker\n",
    "    qual_response = client.assign_stage2_quals(cur_worker_id, cur_qual_name,\n",
    "                                               cur_qual_id, cur_qual_num,\n",
    "                                               cur_offer_amt)\n",
    "    print(\"Qualification assignment response:\")\n",
    "    print(qual_response)\n",
    "    # Generate the data structure which enforces the qualification restriction\n",
    "    stage2_requirements = mtglobals.gen_qual_restriction(cur_qual_id, cur_qual_num)\n",
    "    # And launch the HIT\n",
    "    cur_hit_title = f'Custom workplace survey HIT for worker id {cur_worker_id}'\n",
    "    cur_hit_description = f'Custom workplace survey HIT for worker id {cur_worker_id}, 30 questions, ~15mins to complete'\n",
    "    cur_hit_keywords = 'survey,workplace,work'\n",
    "    launch_response = client.launch_custom_hit(cur_worker_id, cur_offer_amt,\n",
    "                                               cur_hit_title, cur_hit_description,\n",
    "                                               cur_hit_keywords, stage2_question,\n",
    "                                               stage2_requirements)\n",
    "    print(\"Launch response:\")\n",
    "    print(launch_response['ResponseMetadata']['HTTPStatusCode'])\n",
    "    launched_time = launch_response['HIT']['CreationTime']\n",
    "    # The response includes several fields that will be helpful later\n",
    "    cur_hit_type_id = launch_response['HIT']['HITTypeId']\n",
    "    cur_hit_id = launch_response['HIT']['HITId']\n",
    "    #print(\"Created HITTypeId: {}\".format(hit_type_id))\n",
    "    print(f\"Created HITId {cur_hit_id} for worker {cur_worker_id}\")\n",
    "    custom_url = client.mturk_environment['preview_url'] + f\"?groupId={cur_hit_type_id}\"\n",
    "    print(f\"You can work the HIT here: {custom_url}\")\n",
    "    mtglobals.write_log(\n",
    "        f\"Created custom stage-2 HIT for worker {cur_worker_id}, offer {cur_offer_amt}, URL {custom_url}\"\n",
    "    )\n",
    "    # And append the data for this iteration to the .csv of launched workers\n",
    "    launched_fpath = mtglobals.add_posted_worker(cur_worker_id, cur_offer_amt, cur_qual_name, cur_qual_id,\n",
    "                                       cur_qual_num, cur_hit_id, cur_hit_type_id, custom_url, launched_time)\n",
    "    print(f\"New launched HIT successfully added to {launched_fpath}\")\n",
    "    print(\"=====[ end loop iteration ]=====\")\n"
   ]
  },
  {
   "cell_type": "markdown",
   "id": "02eccc24-614c-4677-84af-969eff2ca936",
   "metadata": {
    "pycharm": {
     "name": "#%% md\n"
    }
   },
   "source": [
    "### Now run 02b_NotifyStage2.ipynb"
   ]
  },
  {
   "cell_type": "code",
   "execution_count": 81,
   "id": "complete-patient",
   "metadata": {
    "pycharm": {
     "name": "#%%\n"
    }
   },
   "outputs": [],
   "source": []
  },
  {
   "cell_type": "code",
   "execution_count": 67,
   "outputs": [],
   "source": [],
   "metadata": {
    "collapsed": false,
    "pycharm": {
     "name": "#%%\n"
    }
   }
  },
  {
   "cell_type": "code",
   "execution_count": 67,
   "outputs": [],
   "source": [],
   "metadata": {
    "collapsed": false,
    "pycharm": {
     "name": "#%%\n"
    }
   }
  },
  {
   "cell_type": "code",
   "execution_count": null,
   "outputs": [],
   "source": [],
   "metadata": {
    "collapsed": false,
    "pycharm": {
     "name": "#%%\n"
    }
   }
  }
 ],
 "metadata": {
  "kernelspec": {
   "display_name": "Python 3 (ipykernel)",
   "language": "python",
   "name": "python3"
  },
  "language_info": {
   "codemirror_mode": {
    "name": "ipython",
    "version": 3
   },
   "file_extension": ".py",
   "mimetype": "text/x-python",
   "name": "python",
   "nbconvert_exporter": "python",
   "pygments_lexer": "ipython3",
   "version": "3.9.7"
  }
 },
 "nbformat": 4,
 "nbformat_minor": 5
}