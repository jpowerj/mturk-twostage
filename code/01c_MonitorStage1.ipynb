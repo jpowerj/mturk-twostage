{
 "cells": [
  {
   "cell_type": "code",
   "execution_count": 21,
   "outputs": [
    {
     "name": "stdout",
     "output_type": "stream",
     "text": [
      "The autoreload extension is already loaded. To reload it, use:\n",
      "  %reload_ext autoreload\n"
     ]
    }
   ],
   "source": [
    "%load_ext autoreload\n",
    "%autoreload 2"
   ],
   "metadata": {
    "collapsed": false,
    "pycharm": {
     "name": "#%%\n"
    }
   }
  },
  {
   "cell_type": "code",
   "execution_count": 22,
   "id": "01aa7c98-6b5c-4372-ad96-15670190ca18",
   "metadata": {
    "execution": {
     "iopub.execute_input": "2022-02-02T22:53:28.275059Z",
     "iopub.status.busy": "2022-02-02T22:53:28.275059Z",
     "iopub.status.idle": "2022-02-02T22:53:29.826272Z",
     "shell.execute_reply": "2022-02-02T22:53:29.826272Z",
     "shell.execute_reply.started": "2022-02-02T22:53:28.275059Z"
    },
    "tags": [],
    "pycharm": {
     "name": "#%%\n"
    }
   },
   "outputs": [],
   "source": [
    "import datetime\n",
    "\n",
    "from mtclient import MTClient\n",
    "import mtglobals"
   ]
  },
  {
   "cell_type": "code",
   "execution_count": 23,
   "id": "89610de5-3884-4fc3-9151-2da8a9c58078",
   "metadata": {
    "execution": {
     "iopub.execute_input": "2022-02-02T22:53:30.524428Z",
     "iopub.status.busy": "2022-02-02T22:53:30.524428Z",
     "iopub.status.idle": "2022-02-02T22:53:39.321642Z",
     "shell.execute_reply": "2022-02-02T22:53:39.321642Z",
     "shell.execute_reply.started": "2022-02-02T22:53:30.524428Z"
    },
    "tags": [],
    "pycharm": {
     "name": "#%%\n"
    }
   },
   "outputs": [
    {
     "name": "stdout",
     "output_type": "stream",
     "text": [
      "Loading environment variables from .env\n",
      "Using LIVE MTurk requester API\n",
      "Your account balance is 4688.12\n"
     ]
    }
   ],
   "source": [
    "client = MTClient()"
   ]
  },
  {
   "cell_type": "markdown",
   "id": "1e4c098e-7c61-4c83-a7cc-e83960454af1",
   "metadata": {
    "pycharm": {
     "name": "#%% md\n"
    }
   },
   "source": [
    "### (a) Get all HITs since `start_cutoff`\n",
    "\n",
    "Note that this must be a *localized* datetime object (use `mtglobals.localize_datetime()`)"
   ]
  },
  {
   "cell_type": "code",
   "execution_count": 24,
   "id": "bcf350de-d7b0-4d1c-a692-a4cb69116a8e",
   "metadata": {
    "execution": {
     "iopub.execute_input": "2022-02-02T22:54:38.425575Z",
     "iopub.status.busy": "2022-02-02T22:54:38.425575Z",
     "iopub.status.idle": "2022-02-02T22:55:38.796478Z",
     "shell.execute_reply": "2022-02-02T22:55:38.796478Z",
     "shell.execute_reply.started": "2022-02-02T22:54:38.425575Z"
    },
    "tags": [],
    "pycharm": {
     "name": "#%%\n"
    }
   },
   "outputs": [
    {
     "name": "stdout",
     "output_type": "stream",
     "text": [
      "Downloading list of hits from 2022-11-10 00:00:00-07:53 to 2022-11-20 17:06:17.193710-07:53\n",
      "p2:goOR/dhfA9BB1ZhvDC85/lkekQdzlC/aJ0YQrg4g3NwA/2fkqlGHMpYUnHZRNVs=\n",
      "p2:cbtOoeUnOlJTt85yVRxLdqYuZlM1dGH0TnjV2knX9RCndEKMPzvzajniCVYNy/o=\n",
      "Creation 2022-11-07 13:59:32-08:00 before start_cutoff\n",
      "Saving downloaded HIT data to ../results_2stage/all_hit_data.pkl\n"
     ]
    }
   ],
   "source": [
    "start_cutoff = mtglobals.localize_datetime(datetime.datetime(2022, 11, 10, 0, 0, 0))\n",
    "all_hits = client.download_all_hits(start_cutoff=start_cutoff, end_cutoff=None)"
   ]
  },
  {
   "cell_type": "markdown",
   "id": "f5712882-d5b9-4cd7-89e6-272ba9b57268",
   "metadata": {
    "pycharm": {
     "name": "#%% md\n"
    }
   },
   "source": [
    "### (b) Print out info on all stage-1 HITs (subset of HITs scraped in prev step) and specify which one(s) to monitor"
   ]
  },
  {
   "cell_type": "code",
   "execution_count": 25,
   "id": "e8dd0dfd-293e-4045-912d-67dbdc7b4e8d",
   "metadata": {
    "execution": {
     "iopub.execute_input": "2022-02-02T22:56:04.424735Z",
     "iopub.status.busy": "2022-02-02T22:56:04.424735Z",
     "iopub.status.idle": "2022-02-02T22:56:04.493733Z",
     "shell.execute_reply": "2022-02-02T22:56:04.493733Z",
     "shell.execute_reply.started": "2022-02-02T22:56:04.424735Z"
    },
    "tags": [],
    "pycharm": {
     "name": "#%%\n"
    }
   },
   "outputs": [
    {
     "data": {
      "text/plain": "[('3TZDZ3Y0JT7UM6OA2VTTFBZ9X0G915',\n  'Quick 3-question survey about work [<15 seconds], instantly unlock 2nd-stage HIT with higher reward',\n  datetime.datetime(2022, 11, 20, 16, 23, 57, tzinfo=tzlocal()),\n  100),\n ('3SD15I2WD3V3EQ0RRS40JUN45HQ36G',\n  'Quick 3-question survey about work [<15 seconds], instantly unlock 2nd-stage HIT with higher reward',\n  datetime.datetime(2022, 11, 17, 15, 35, 37, tzinfo=tzlocal()),\n  100)]"
     },
     "execution_count": 25,
     "metadata": {},
     "output_type": "execute_result"
    }
   ],
   "source": [
    "[(h['HITId'], h['Title'], h['CreationTime'], h['MaxAssignments']) for h in all_hits if \"instantly unlock\" in h['Title']]"
   ]
  },
  {
   "cell_type": "code",
   "execution_count": 26,
   "id": "219d3c7f-046a-4761-84a6-a04fb0e56d97",
   "metadata": {
    "execution": {
     "iopub.execute_input": "2022-02-02T22:56:11.329330Z",
     "iopub.status.busy": "2022-02-02T22:56:11.329330Z",
     "iopub.status.idle": "2022-02-02T22:56:11.399191Z",
     "shell.execute_reply": "2022-02-02T22:56:11.399191Z",
     "shell.execute_reply.started": "2022-02-02T22:56:11.329330Z"
    },
    "tags": [],
    "pycharm": {
     "name": "#%%\n"
    }
   },
   "outputs": [],
   "source": [
    "current_wave_hit_id = \"3TZDZ3Y0JT7UM6OA2VTTFBZ9X0G915\"\n",
    "#current_wave_hit_id = \"3L7SUC0TTVV9M1MMVLTY6SMJS1R0MQ\"\n",
    "#current_wave_hit_id = \"3BPP3MA3TDLO79JV3GRYR49YMRTELU\"\n",
    "#current_wave_hit_id = \"3MJ28H2Y1F9WHBTZ57ENFR7F42K5OK\"\n",
    "#current_wave_hit_id = \"3HEADTGN2QTGCI0U3QD4DK6JSDPRV5\"\n",
    "#current_wave_hit_id = \"3MJ28H2Y1F9WHBTZ57ENFR7F42YO5H\"\n",
    "#current_wave_hit_id = \"31SIZS5W5AGO7A4DHRJU7X7BBK0QRY\"\n",
    "#current_wave_hit_id = \"3HXK2V1N4LGGQ1TEZ5ZHCBV1T5AG2D\"\n",
    "#current_wave_hit_id = \"3J94SKDEKJQ5DE2AFY074XVG0N85DG\""
   ]
  },
  {
   "cell_type": "markdown",
   "id": "2ebdd0b7-2004-4e05-8e2e-b586a752147e",
   "metadata": {
    "pycharm": {
     "name": "#%% md\n"
    }
   },
   "source": [
    "### (c) Check + approve all submissions, and record the worker ids for stage-2 step"
   ]
  },
  {
   "cell_type": "code",
   "execution_count": 29,
   "id": "91e9dd90-368b-4699-8efa-0b9212036926",
   "metadata": {
    "execution": {
     "iopub.execute_input": "2022-02-02T22:56:12.458015Z",
     "iopub.status.busy": "2022-02-02T22:56:12.458015Z",
     "iopub.status.idle": "2022-02-02T23:00:53.005372Z",
     "shell.execute_reply": "2022-02-02T23:00:53.005372Z",
     "shell.execute_reply.started": "2022-02-02T22:56:12.458015Z"
    },
    "scrolled": true,
    "tags": [],
    "pycharm": {
     "name": "#%%\n"
    }
   },
   "outputs": [
    {
     "name": "stdout",
     "output_type": "stream",
     "text": [
      "=====[ Launched Stage 1 HIT: ]=====\n",
      "HIT launched 2022-11-20 16:23:57-08:00\n",
      "Status: Reviewable\n",
      "MaxAssignments: 100\n",
      "Num submissions: 100\n",
      "=====[ Approving any remaining assignments ]=====\n",
      "Assignment #0\n",
      "Assignment #1\n",
      "Assignment #2\n",
      "Assignment #3\n",
      "Assignment #4\n",
      "Assignment #5\n",
      "Assignment #6\n",
      "Assignment #7\n",
      "Assignment #8\n",
      "Assignment #9\n",
      "Assignment #10\n",
      "Assignment #11\n",
      "Assignment #12\n",
      "Assignment #13\n",
      "Assignment #14\n",
      "Assignment #15\n",
      "Assignment #16\n",
      "Assignment #17\n",
      "Assignment #18\n",
      "Assignment #19\n",
      "Assignment #20\n",
      "Assignment #21\n",
      "Assignment #22\n",
      "Assignment #23\n",
      "Assignment #24\n",
      "Assignment #25\n",
      "Assignment #26\n",
      "Assignment #27\n",
      "Assignment #28\n",
      "Assignment #29\n",
      "Assignment #30\n",
      "Assignment #31\n",
      "Assignment #32\n",
      "Assignment #33\n",
      "Assignment #34\n",
      "Assignment #35\n",
      "Assignment #36\n",
      "Assignment #37\n",
      "Assignment #38\n",
      "Assignment #39\n",
      "Assignment #40\n",
      "Assignment #41\n",
      "Assignment #42\n",
      "Assignment #43\n",
      "Assignment #44\n",
      "Assignment #45\n",
      "Assignment #46\n",
      "Assignment #47\n",
      "Assignment #48\n",
      "Assignment #49\n",
      "Assignment #50\n",
      "Assignment #51\n",
      "Assignment #52\n",
      "Assignment #53\n",
      "Assignment #54\n",
      "Assignment #55\n",
      "Assignment #56\n",
      "Assignment #57\n",
      "Assignment #58\n",
      "Assignment #59\n",
      "Assignment #60\n",
      "Assignment #61\n",
      "Assignment #62\n",
      "Assignment #63\n",
      "Assignment #64\n",
      "Assignment #65\n",
      "Assignment #66\n",
      "Assignment #67\n",
      "Assignment #68\n",
      "Assignment #69\n",
      "Assignment #70\n",
      "Assignment #71\n",
      "Assignment #72\n",
      "Assignment #73\n",
      "Assignment #74\n",
      "Assignment #75\n",
      "Assignment #76\n",
      "Assignment #77\n",
      "Assignment #78\n",
      "Assignment #79\n",
      "Approving 36WLNQG780BFHKVD25761L9LD5QEBR, for worker A36WGC00R5TWWB\n",
      "{'ResponseMetadata': {'RequestId': 'ca28eff6-f8de-42bc-a5c4-36ff00aa202d', 'HTTPStatusCode': 200, 'HTTPHeaders': {'x-amzn-requestid': 'ca28eff6-f8de-42bc-a5c4-36ff00aa202d', 'content-type': 'application/x-amz-json-1.1', 'content-length': '2', 'date': 'Mon, 21 Nov 2022 23:20:54 GMT'}, 'RetryAttempts': 0}}\n",
      "Assignment #80\n",
      "Approving 3BWI6RSP7HASF8SNPOVQWJNPUFZE75, for worker A2HBOFYZKSMN1Z\n",
      "{'ResponseMetadata': {'RequestId': 'a4fd0327-f7dd-4aba-82e6-dec98aec137d', 'HTTPStatusCode': 200, 'HTTPHeaders': {'x-amzn-requestid': 'a4fd0327-f7dd-4aba-82e6-dec98aec137d', 'content-type': 'application/x-amz-json-1.1', 'content-length': '2', 'date': 'Mon, 21 Nov 2022 23:20:54 GMT'}, 'RetryAttempts': 0}}\n",
      "Assignment #81\n",
      "Approving 3K5TEWLKGWC663V535OXNC1K8QDVIN, for worker A1AD2BDQYTTJIL\n",
      "{'ResponseMetadata': {'RequestId': '98664fd4-58bf-4cf5-829d-93475259adec', 'HTTPStatusCode': 200, 'HTTPHeaders': {'x-amzn-requestid': '98664fd4-58bf-4cf5-829d-93475259adec', 'content-type': 'application/x-amz-json-1.1', 'content-length': '2', 'date': 'Mon, 21 Nov 2022 23:20:54 GMT'}, 'RetryAttempts': 0}}\n",
      "Assignment #82\n",
      "Approving 3OXV7EAXLFR61AYLHU927EJW8FS367, for worker AWXHYI0RU9SNV\n",
      "{'ResponseMetadata': {'RequestId': 'edba6f15-6b7c-40e9-9dd9-0d7afe212159', 'HTTPStatusCode': 200, 'HTTPHeaders': {'x-amzn-requestid': 'edba6f15-6b7c-40e9-9dd9-0d7afe212159', 'content-type': 'application/x-amz-json-1.1', 'content-length': '2', 'date': 'Mon, 21 Nov 2022 23:20:54 GMT'}, 'RetryAttempts': 0}}\n",
      "Assignment #83\n",
      "Approving 3FTOP5WARGPM8DEVIQL8EKQUR9PJ0V, for worker A247BFL5DPFIPM\n",
      "{'ResponseMetadata': {'RequestId': '7b665b83-e8bf-4672-ae7c-abbe742e83f8', 'HTTPStatusCode': 200, 'HTTPHeaders': {'x-amzn-requestid': '7b665b83-e8bf-4672-ae7c-abbe742e83f8', 'content-type': 'application/x-amz-json-1.1', 'content-length': '2', 'date': 'Mon, 21 Nov 2022 23:20:54 GMT'}, 'RetryAttempts': 0}}\n",
      "Assignment #84\n",
      "Approving 3SUWZRL0MZE9B8EI6EQYQ5NTZ4FE66, for worker A31VBYKT62SBGY\n",
      "{'ResponseMetadata': {'RequestId': '4348f1d9-3735-42ff-8082-a30a98330b95', 'HTTPStatusCode': 200, 'HTTPHeaders': {'x-amzn-requestid': '4348f1d9-3735-42ff-8082-a30a98330b95', 'content-type': 'application/x-amz-json-1.1', 'content-length': '2', 'date': 'Mon, 21 Nov 2022 23:20:54 GMT'}, 'RetryAttempts': 0}}\n",
      "Assignment #85\n",
      "Approving 354P56DE9L4TPRX5QJFVL0R4V6B7S2, for worker A2NU82V08QSPCC\n",
      "{'ResponseMetadata': {'RequestId': '3204806d-c2ad-45b0-9596-2edcda560f54', 'HTTPStatusCode': 200, 'HTTPHeaders': {'x-amzn-requestid': '3204806d-c2ad-45b0-9596-2edcda560f54', 'content-type': 'application/x-amz-json-1.1', 'content-length': '2', 'date': 'Mon, 21 Nov 2022 23:20:55 GMT'}, 'RetryAttempts': 0}}\n",
      "Assignment #86\n",
      "Approving 3WQ3B2KGE9HGXJ11QHCRU1QROWN1BW, for worker AF1QXK2OLAEKD\n",
      "{'ResponseMetadata': {'RequestId': '008726a2-8eac-48b3-a14a-a0b1707dad96', 'HTTPStatusCode': 200, 'HTTPHeaders': {'x-amzn-requestid': '008726a2-8eac-48b3-a14a-a0b1707dad96', 'content-type': 'application/x-amz-json-1.1', 'content-length': '2', 'date': 'Mon, 21 Nov 2022 23:20:55 GMT'}, 'RetryAttempts': 0}}\n",
      "Assignment #87\n",
      "Approving 3TY7ZAOG5GLHJXKD0BLKFZQ76YPK0V, for worker A402OOIWWS0JF\n",
      "{'ResponseMetadata': {'RequestId': 'e6cbbe31-e7e0-4df0-9f53-aa531b2d28c6', 'HTTPStatusCode': 200, 'HTTPHeaders': {'x-amzn-requestid': 'e6cbbe31-e7e0-4df0-9f53-aa531b2d28c6', 'content-type': 'application/x-amz-json-1.1', 'content-length': '2', 'date': 'Mon, 21 Nov 2022 23:20:55 GMT'}, 'RetryAttempts': 0}}\n",
      "Assignment #88\n",
      "Approving 3EJJQNKU9S6EH134O312M3B2N7LRHX, for worker A1CN1H9UODZ1E6\n",
      "{'ResponseMetadata': {'RequestId': '7682cae1-b976-4a90-b489-0b69006e2997', 'HTTPStatusCode': 200, 'HTTPHeaders': {'x-amzn-requestid': '7682cae1-b976-4a90-b489-0b69006e2997', 'content-type': 'application/x-amz-json-1.1', 'content-length': '2', 'date': 'Mon, 21 Nov 2022 23:20:55 GMT'}, 'RetryAttempts': 0}}\n",
      "Assignment #89\n",
      "Approving 31IBVUNM9T0MWCTF2XICKFOSSYLVFW, for worker A1O1ZRKOJZ6LJG\n",
      "{'ResponseMetadata': {'RequestId': 'fd156296-cabd-4e8b-82fa-daa46648fab5', 'HTTPStatusCode': 200, 'HTTPHeaders': {'x-amzn-requestid': 'fd156296-cabd-4e8b-82fa-daa46648fab5', 'content-type': 'application/x-amz-json-1.1', 'content-length': '2', 'date': 'Mon, 21 Nov 2022 23:20:55 GMT'}, 'RetryAttempts': 0}}\n",
      "Assignment #90\n",
      "Approving 3N1FSUEFL61Q4FW4RVMZNPLU31BD4U, for worker A19NZMAP7N9PK2\n",
      "{'ResponseMetadata': {'RequestId': '0b7bea81-b923-4072-92cd-c0ea67efc14b', 'HTTPStatusCode': 200, 'HTTPHeaders': {'x-amzn-requestid': '0b7bea81-b923-4072-92cd-c0ea67efc14b', 'content-type': 'application/x-amz-json-1.1', 'content-length': '2', 'date': 'Mon, 21 Nov 2022 23:20:55 GMT'}, 'RetryAttempts': 0}}\n",
      "Assignment #91\n",
      "Approving 3IGI0VL648L3UKXZZ9FBXS3TYWAONU, for worker AD0345HBWWZ45\n",
      "{'ResponseMetadata': {'RequestId': 'f8c5e1df-35cc-4e40-94c4-bcabb6a31b51', 'HTTPStatusCode': 200, 'HTTPHeaders': {'x-amzn-requestid': 'f8c5e1df-35cc-4e40-94c4-bcabb6a31b51', 'content-type': 'application/x-amz-json-1.1', 'content-length': '2', 'date': 'Mon, 21 Nov 2022 23:20:56 GMT'}, 'RetryAttempts': 0}}\n",
      "Assignment #92\n",
      "Approving 3AZHRG4CU5LBNZC6F5TLYD95VC6306, for worker A2Y0VM8BAF0RMT\n",
      "{'ResponseMetadata': {'RequestId': '83da968c-2d9a-4df0-8f0f-b753a4fdcfbc', 'HTTPStatusCode': 200, 'HTTPHeaders': {'x-amzn-requestid': '83da968c-2d9a-4df0-8f0f-b753a4fdcfbc', 'content-type': 'application/x-amz-json-1.1', 'content-length': '2', 'date': 'Mon, 21 Nov 2022 23:20:56 GMT'}, 'RetryAttempts': 0}}\n",
      "Assignment #93\n",
      "Approving 3NL0RFNU0GOYIL2EJC8MR2GKNA5K4B, for worker A1HIJ7GKXCDRTW\n",
      "{'ResponseMetadata': {'RequestId': '35baa587-3b44-4c84-9c2b-9c807cc34ae8', 'HTTPStatusCode': 200, 'HTTPHeaders': {'x-amzn-requestid': '35baa587-3b44-4c84-9c2b-9c807cc34ae8', 'content-type': 'application/x-amz-json-1.1', 'content-length': '2', 'date': 'Mon, 21 Nov 2022 23:20:56 GMT'}, 'RetryAttempts': 0}}\n",
      "Assignment #94\n",
      "Approving 3WJEQKOXA93BE9W9K3CVZQ6L6E21A1, for worker A1GD1SKU3C996C\n",
      "{'ResponseMetadata': {'RequestId': 'b0d6f18f-b71b-4043-9583-2d8796e04244', 'HTTPStatusCode': 200, 'HTTPHeaders': {'x-amzn-requestid': 'b0d6f18f-b71b-4043-9583-2d8796e04244', 'content-type': 'application/x-amz-json-1.1', 'content-length': '2', 'date': 'Mon, 21 Nov 2022 23:20:56 GMT'}, 'RetryAttempts': 0}}\n",
      "Assignment #95\n",
      "Approving 3VELCLL3GLK6A0DHVJYNDRHC3UF1FE, for worker A3L9EN8YL1HZWF\n",
      "{'ResponseMetadata': {'RequestId': 'a99a6987-95a8-4a8d-80e5-455607f79076', 'HTTPStatusCode': 200, 'HTTPHeaders': {'x-amzn-requestid': 'a99a6987-95a8-4a8d-80e5-455607f79076', 'content-type': 'application/x-amz-json-1.1', 'content-length': '2', 'date': 'Mon, 21 Nov 2022 23:20:57 GMT'}, 'RetryAttempts': 0}}\n",
      "Assignment #96\n",
      "Approving 3R9WASFE20H35WYP3U7F5L1OG9RFZG, for worker A3S2R1NK6HZ9KP\n",
      "{'ResponseMetadata': {'RequestId': '1c317ae6-1c15-423d-8542-93db5b0f69ec', 'HTTPStatusCode': 200, 'HTTPHeaders': {'x-amzn-requestid': '1c317ae6-1c15-423d-8542-93db5b0f69ec', 'content-type': 'application/x-amz-json-1.1', 'content-length': '2', 'date': 'Mon, 21 Nov 2022 23:20:57 GMT'}, 'RetryAttempts': 0}}\n",
      "Assignment #97\n",
      "Approving 3K9FOBBF2IKVOZU2MHZJ5BZZ3R5NLC, for worker A14CBWGILA1VG4\n",
      "{'ResponseMetadata': {'RequestId': 'b99a7dbd-5160-48f3-af93-c71d6571bbe4', 'HTTPStatusCode': 200, 'HTTPHeaders': {'x-amzn-requestid': 'b99a7dbd-5160-48f3-af93-c71d6571bbe4', 'content-type': 'application/x-amz-json-1.1', 'content-length': '2', 'date': 'Mon, 21 Nov 2022 23:20:57 GMT'}, 'RetryAttempts': 0}}\n",
      "Assignment #98\n",
      "Approving 3DUZQ9U6SNPV0HY18HIBRE77HOKSVH, for worker A16IA4IRHG9RWF\n",
      "{'ResponseMetadata': {'RequestId': 'd68b2b11-8654-4021-957a-222f1857368c', 'HTTPStatusCode': 200, 'HTTPHeaders': {'x-amzn-requestid': 'd68b2b11-8654-4021-957a-222f1857368c', 'content-type': 'application/x-amz-json-1.1', 'content-length': '2', 'date': 'Mon, 21 Nov 2022 23:20:57 GMT'}, 'RetryAttempts': 0}}\n",
      "Assignment #99\n",
      "Approving 3EKVH9QMEZ5G11HHNH3BUAOWJNID21, for worker AQQZ96P85B3B\n",
      "{'ResponseMetadata': {'RequestId': '88354849-b3d2-47f9-aa79-bbba9a5b42ca', 'HTTPStatusCode': 200, 'HTTPHeaders': {'x-amzn-requestid': '88354849-b3d2-47f9-aa79-bbba9a5b42ca', 'content-type': 'application/x-amz-json-1.1', 'content-length': '2', 'date': 'Mon, 21 Nov 2022 23:20:59 GMT'}, 'RetryAttempts': 0}}\n",
      "Worker list saved to ..\\results_2stage\\stage1_submit_list.pkl\n",
      "csv saved to ..\\results_2stage\\stage1_results.csv.\n"
     ]
    }
   ],
   "source": [
    "s1_subs = client.get_stage1_submissions(current_wave_hit_id)"
   ]
  },
  {
   "cell_type": "code",
   "execution_count": 30,
   "outputs": [
    {
     "data": {
      "text/plain": "         worker_id age onlinehrs  reason\n0    ASX9CJSEMH0UH  37        35   money\n1   A3TDA1NWHNQFE3  34        20   money\n2   A19GSU0ST2SIMW  51         5   money\n3   A33QI63NVR8CUO  37        25   money\n4    ALCPF5NANBDSZ  35        40   money\n..             ...  ..       ...     ...\n95  A3L9EN8YL1HZWF  40        20   money\n96  A3S2R1NK6HZ9KP  37        25   money\n97  A14CBWGILA1VG4  50        30  skills\n98  A16IA4IRHG9RWF  42        40  skills\n99    AQQZ96P85B3B  30       500   money\n\n[100 rows x 4 columns]",
      "text/html": "<div>\n<style scoped>\n    .dataframe tbody tr th:only-of-type {\n        vertical-align: middle;\n    }\n\n    .dataframe tbody tr th {\n        vertical-align: top;\n    }\n\n    .dataframe thead th {\n        text-align: right;\n    }\n</style>\n<table border=\"1\" class=\"dataframe\">\n  <thead>\n    <tr style=\"text-align: right;\">\n      <th></th>\n      <th>worker_id</th>\n      <th>age</th>\n      <th>onlinehrs</th>\n      <th>reason</th>\n    </tr>\n  </thead>\n  <tbody>\n    <tr>\n      <th>0</th>\n      <td>ASX9CJSEMH0UH</td>\n      <td>37</td>\n      <td>35</td>\n      <td>money</td>\n    </tr>\n    <tr>\n      <th>1</th>\n      <td>A3TDA1NWHNQFE3</td>\n      <td>34</td>\n      <td>20</td>\n      <td>money</td>\n    </tr>\n    <tr>\n      <th>2</th>\n      <td>A19GSU0ST2SIMW</td>\n      <td>51</td>\n      <td>5</td>\n      <td>money</td>\n    </tr>\n    <tr>\n      <th>3</th>\n      <td>A33QI63NVR8CUO</td>\n      <td>37</td>\n      <td>25</td>\n      <td>money</td>\n    </tr>\n    <tr>\n      <th>4</th>\n      <td>ALCPF5NANBDSZ</td>\n      <td>35</td>\n      <td>40</td>\n      <td>money</td>\n    </tr>\n    <tr>\n      <th>...</th>\n      <td>...</td>\n      <td>...</td>\n      <td>...</td>\n      <td>...</td>\n    </tr>\n    <tr>\n      <th>95</th>\n      <td>A3L9EN8YL1HZWF</td>\n      <td>40</td>\n      <td>20</td>\n      <td>money</td>\n    </tr>\n    <tr>\n      <th>96</th>\n      <td>A3S2R1NK6HZ9KP</td>\n      <td>37</td>\n      <td>25</td>\n      <td>money</td>\n    </tr>\n    <tr>\n      <th>97</th>\n      <td>A14CBWGILA1VG4</td>\n      <td>50</td>\n      <td>30</td>\n      <td>skills</td>\n    </tr>\n    <tr>\n      <th>98</th>\n      <td>A16IA4IRHG9RWF</td>\n      <td>42</td>\n      <td>40</td>\n      <td>skills</td>\n    </tr>\n    <tr>\n      <th>99</th>\n      <td>AQQZ96P85B3B</td>\n      <td>30</td>\n      <td>500</td>\n      <td>money</td>\n    </tr>\n  </tbody>\n</table>\n<p>100 rows × 4 columns</p>\n</div>"
     },
     "execution_count": 30,
     "metadata": {},
     "output_type": "execute_result"
    }
   ],
   "source": [
    "s1_subs"
   ],
   "metadata": {
    "collapsed": false,
    "pycharm": {
     "name": "#%%\n"
    }
   }
  },
  {
   "cell_type": "markdown",
   "id": "3b1fe1b1-877f-4af7-a385-3ce8b7551d47",
   "metadata": {
    "pycharm": {
     "name": "#%% md\n"
    }
   },
   "source": [
    "### Now run 02a_PostStage2.ipynb once all stage-1 HITs submitted"
   ]
  },
  {
   "cell_type": "code",
   "execution_count": 28,
   "id": "25908b9a-892e-4dcd-a3f1-f141d770bcdc",
   "metadata": {
    "pycharm": {
     "name": "#%%\n"
    }
   },
   "outputs": [],
   "source": []
  },
  {
   "cell_type": "code",
   "execution_count": null,
   "outputs": [],
   "source": [],
   "metadata": {
    "collapsed": false,
    "pycharm": {
     "name": "#%%\n"
    }
   }
  },
  {
   "cell_type": "code",
   "execution_count": null,
   "outputs": [],
   "source": [],
   "metadata": {
    "collapsed": false,
    "pycharm": {
     "name": "#%%\n"
    }
   }
  },
  {
   "cell_type": "code",
   "execution_count": null,
   "outputs": [],
   "source": [],
   "metadata": {
    "collapsed": false,
    "pycharm": {
     "name": "#%%\n"
    }
   }
  },
  {
   "cell_type": "code",
   "execution_count": null,
   "outputs": [],
   "source": [],
   "metadata": {
    "collapsed": false,
    "pycharm": {
     "name": "#%%\n"
    }
   }
  }
 ],
 "metadata": {
  "kernelspec": {
   "display_name": "Python 3 (ipykernel)",
   "language": "python",
   "name": "python3"
  },
  "language_info": {
   "codemirror_mode": {
    "name": "ipython",
    "version": 3
   },
   "file_extension": ".py",
   "mimetype": "text/x-python",
   "name": "python",
   "nbconvert_exporter": "python",
   "pygments_lexer": "ipython3",
   "version": "3.9.7"
  }
 },
 "nbformat": 4,
 "nbformat_minor": 5
}