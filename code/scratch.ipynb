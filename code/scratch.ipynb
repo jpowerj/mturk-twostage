{
 "cells": [
  {
   "cell_type": "code",
   "execution_count": 3,
   "id": "5c4ed9ac-3a8c-496a-9373-aab6100e18a5",
   "metadata": {},
   "outputs": [],
   "source": [
    "%load_ext autoreload\n",
    "%autoreload 2"
   ]
  },
  {
   "cell_type": "code",
   "execution_count": 4,
   "id": "1c46f970-f0be-4fe9-b5a2-ec1e78ef438e",
   "metadata": {},
   "outputs": [],
   "source": [
    "import mtglobals"
   ]
  },
  {
   "cell_type": "code",
   "execution_count": 5,
   "id": "c6f9190a-f950-4139-afb8-cf8044eeb2f5",
   "metadata": {},
   "outputs": [
    {
     "name": "stdout",
     "output_type": "stream",
     "text": [
      "Your account balance is 499260.31\n"
     ]
    }
   ],
   "source": [
    "client, mt_env = mtglobals.gen_client()"
   ]
  },
  {
   "cell_type": "code",
   "execution_count": 18,
   "id": "59bfab90-9fe4-41a4-8d6d-dca6f2c0135b",
   "metadata": {},
   "outputs": [],
   "source": [
    "cur_next_token = None"
   ]
  },
  {
   "cell_type": "code",
   "execution_count": 44,
   "id": "464319fd-e19c-4a34-853b-ba98fbe52b83",
   "metadata": {},
   "outputs": [],
   "source": [
    "response1 = client.list_workers_with_qualification_type(\n",
    "        QualificationTypeId='3B2SSI71PBT62TVM2BDIV0MCRNYVOZ',\n",
    "        Status='Granted',\n",
    "        MaxResults=100,\n",
    "    )"
   ]
  },
  {
   "cell_type": "code",
   "execution_count": 45,
   "id": "413fae8f-f083-49d7-97fd-2cbdd0c3c6d3",
   "metadata": {},
   "outputs": [],
   "source": [
    "cur_next_token = response1['NextToken']"
   ]
  },
  {
   "cell_type": "code",
   "execution_count": 47,
   "id": "88604179-9ffe-49bb-986a-fdea54907033",
   "metadata": {},
   "outputs": [],
   "source": [
    "#response1"
   ]
  },
  {
   "cell_type": "code",
   "execution_count": 41,
   "id": "d1d424c1-8f24-4dcc-bd84-334713c8cf51",
   "metadata": {
    "scrolled": true,
    "tags": []
   },
   "outputs": [],
   "source": [
    "#response"
   ]
  },
  {
   "cell_type": "code",
   "execution_count": 42,
   "id": "b46f2b0f-ef81-4444-a94c-a06c81650142",
   "metadata": {},
   "outputs": [],
   "source": [
    "response = client.list_workers_with_qualification_type(\n",
    "        QualificationTypeId='3B2SSI71PBT62TVM2BDIV0MCRNYVOZ',\n",
    "        Status='Granted',\n",
    "        MaxResults=100,\n",
    "        NextToken=cur_next_token,\n",
    "    )"
   ]
  },
  {
   "cell_type": "code",
   "execution_count": 43,
   "id": "9120c354-eeaa-4c5a-9ebd-b8ae4953456d",
   "metadata": {},
   "outputs": [
    {
     "data": {
      "text/plain": [
       "{'NumResults': 0,\n",
       " 'Qualifications': [],\n",
       " 'ResponseMetadata': {'RequestId': '505aa0eb-0d50-476e-8079-6ea0655288d7',\n",
       "  'HTTPStatusCode': 200,\n",
       "  'HTTPHeaders': {'x-amzn-requestid': '505aa0eb-0d50-476e-8079-6ea0655288d7',\n",
       "   'content-type': 'application/x-amz-json-1.1',\n",
       "   'content-length': '36',\n",
       "   'date': 'Fri, 14 Jan 2022 20:36:16 GMT'},\n",
       "  'RetryAttempts': 0}}"
      ]
     },
     "execution_count": 43,
     "metadata": {},
     "output_type": "execute_result"
    }
   ],
   "source": [
    "response"
   ]
  },
  {
   "cell_type": "code",
   "execution_count": null,
   "id": "6ebfdd36-0dee-4828-8834-5fa41f14a49c",
   "metadata": {},
   "outputs": [],
   "source": []
  },
  {
   "cell_type": "code",
   "execution_count": null,
   "id": "2ec588f1-53ac-4f65-8cd0-1b840a1a8bd3",
   "metadata": {},
   "outputs": [],
   "source": []
  },
  {
   "cell_type": "code",
   "execution_count": null,
   "id": "a9b89d37-ffed-475e-90a2-89ea4da562b7",
   "metadata": {},
   "outputs": [],
   "source": []
  },
  {
   "cell_type": "code",
   "execution_count": null,
   "id": "2dee242c-7444-4946-8704-b2c9fc1cb120",
   "metadata": {},
   "outputs": [],
   "source": []
  },
  {
   "cell_type": "code",
   "execution_count": 4,
   "id": "91a43f96-8c99-4b5d-a7af-649567b5b319",
   "metadata": {},
   "outputs": [
    {
     "name": "stdout",
     "output_type": "stream",
     "text": [
      "Your account balance is 499911.25\n",
      "Downloading list of hits from Oct 27, 2021 onwards to ../results_2stage/all_hit_data.pkl\n",
      "p2:hXP7Z8UX1uDQCagoR7UPcV0d/ijkiayKSobn7BpRmqcqp85jhcC63MNjNWRoUfc=\n",
      "p2:IZMwkbsfixItn3d+LBy5uy/S95npucs1mgMW6yncW2/aOBB8YSKj6tfjNBCNH68=\n"
     ]
    }
   ],
   "source": [
    "client, mturk_environment = mtglobals.gen_client()\n",
    "all_hits = mtglobals.download_all_hits(client)"
   ]
  },
  {
   "cell_type": "code",
   "execution_count": 6,
   "id": "02f27492-3726-4cab-a803-4b623017d991",
   "metadata": {},
   "outputs": [
    {
     "name": "stdout",
     "output_type": "stream",
     "text": [
      "Assigned participation qual to A3H6KECCE83132\n",
      "Assigned participation qual to A2L2DIY8QMSL8V\n",
      "Assigned participation qual to A2CK0OXMPOR9LE\n",
      "Assigned participation qual to A34HAO70WP7YVT\n",
      "Assigned participation qual to A2BNFKU3IXQQ7W\n",
      "Assigned participation qual to AJ9IY4IHOGB8\n",
      "Assigned participation qual to AWW4ZOM0FU56A\n",
      "Assigned participation qual to A2ZCNTKI76RIWI\n",
      "Assigned participation qual to A28RL79ONUXTET\n",
      "Assigned participation qual to A18B29YUSCWQTT\n",
      "Assigned participation qual to A34GSERJN16K5N\n",
      "Assigned participation qual to A16TH68KJQZXKC\n",
      "Assigned participation qual to ACCQN14OV2GG3\n",
      "Assigned participation qual to A304UJAE051J89\n",
      "Assigned participation qual to A2SENAPNSXG9L\n",
      "Assigned participation qual to A3I6KVLRM43E8D\n",
      "Assigned participation qual to A1T643M1P572AA\n",
      "Assigned participation qual to AROOCBM042SJD\n",
      "Assigned participation qual to A13YTGRLTS80MU\n",
      "Assigned participation qual to A1PTH9KTRO06EG\n",
      "Assigned participation qual to A1PTH9KTRO06EG\n",
      "Assigned participation qual to AQYYBOOF0846O\n",
      "Assigned participation qual to A173A97OFDAX9F\n",
      "Assigned participation qual to A2HRUFTA09371Y\n",
      "Assigned participation qual to AJRY9ALX8069Y\n",
      "Assigned participation qual to A22OHJHUW43ANT\n",
      "Assigned participation qual to A3HNEYFOIJWPH1\n",
      "Assigned participation qual to A23N4V8XW6Y49I\n",
      "Assigned participation qual to A1T9XW8SNUDDY7\n",
      "Assigned participation qual to A1R8A8BK2VN7RH\n",
      "Assigned participation qual to A3UV55HC87DO9C\n",
      "Assigned participation qual to AHKYVHP6591H8\n",
      "Assigned participation qual to A1G187YBG0DVMQ\n",
      "Assigned participation qual to A1IS4DYL2KVSCM\n",
      "Assigned participation qual to A2OQAHYH3UPDHO\n",
      "Assigned participation qual to A2OQAHYH3UPDHO\n",
      "Assigned participation qual to A2OQAHYH3UPDHO\n",
      "Assigned participation qual to A2OQAHYH3UPDHO\n",
      "Assigned participation qual to A2OQAHYH3UPDHO\n",
      "Assigned participation qual to A3T9WZOUQGE2UW\n",
      "Assigned participation qual to A1B76WYZ47BQJ\n",
      "Assigned participation qual to ACCQN14OV2GG3\n",
      "Assigned participation qual to A2I4PRZ9IZMKON\n",
      "Assigned participation qual to AFFXVHHBUWW4D\n",
      "Assigned participation qual to A2MOKIEQZ0OF2M\n",
      "Assigned participation qual to AKQAI78JTXXC9\n",
      "Assigned participation qual to A5P12YJP805RG\n",
      "Assigned participation qual to A1QUQ0TV9KVD4C\n",
      "Assigned participation qual to A2UWR43MH2I68\n",
      "Assigned participation qual to A1PSSD5ARA0M7R\n",
      "Assigned participation qual to A2LL1LOV894EY6\n",
      "Assigned participation qual to A3F51C49T9A34D\n",
      "Assigned participation qual to A3LAY323TR2SMJ\n",
      "Assigned participation qual to A2ONILC0LZKG6Y\n",
      "Assigned participation qual to A1ED0MCNPV6S8X\n",
      "Assigned participation qual to AZ8JL3QNIPY4U\n",
      "Assigned participation qual to A3VEF4M5FIN7KH\n",
      "Assigned participation qual to A3910IZ5MKMZAB\n",
      "Assigned participation qual to A23XFDOKMRAH72\n",
      "Assigned participation qual to ANX6Q4NMZL8EI\n",
      "Assigned participation qual to A3542PB4Z0NE80\n",
      "Assigned participation qual to A32LNVRHDOWZNU\n",
      "Assigned participation qual to A1SUU1QIRDZXJC\n",
      "Assigned participation qual to A3NFGEUZAH9V5G\n",
      "Assigned participation qual to A171S8E9IFSHH2\n",
      "Assigned participation qual to A22VGT2F28LTWC\n",
      "Assigned participation qual to A3J9PXGSPMDFJN\n",
      "Assigned participation qual to A3GZ1GJ00K5GVR\n",
      "Assigned participation qual to A3J2EZSTLWE0UC\n",
      "Assigned participation qual to ALDW6MN1MC16J\n",
      "Assigned participation qual to A2GK25O9YMAZ9X\n",
      "Assigned participation qual to A3H1HVU2KHXHE3\n",
      "Assigned participation qual to ABLXZS60WIL8P\n",
      "Assigned participation qual to A10AVWALIHR4UQ\n",
      "Assigned participation qual to A27KQEFGBRX78A\n",
      "Assigned participation qual to A2BW6WD7LZ9EGV\n",
      "Assigned participation qual to AKZUP3VY594E8\n",
      "Assigned participation qual to ARG392N6HWZCJ\n",
      "Assigned participation qual to AJZJK9DUU73QN\n",
      "Assigned participation qual to AO9SEKAIPK0WS\n",
      "Assigned participation qual to AG0N0NI4M4QSS\n",
      "Assigned participation qual to A1FP3SH704X01V\n",
      "Assigned participation qual to A3APKUC67F9IMW\n",
      "Assigned participation qual to A18P85EDIFQVQZ\n",
      "Assigned participation qual to A22KRF782ELLB0\n",
      "Assigned participation qual to A2KVKX41C65RXA\n",
      "Assigned participation qual to A34Q3XQRB0QYC8\n",
      "Assigned participation qual to AAT0E6R2M0ZYE\n",
      "Assigned participation qual to A16DTQUKAUD4KB\n",
      "Assigned participation qual to A2S93GQU97VZTB\n",
      "Assigned participation qual to AR8O1107OAW4V\n",
      "Assigned participation qual to A1QQRUUOS16QCC\n",
      "Assigned participation qual to A1198W1SPF1R4\n",
      "Assigned participation qual to A1XJAPEPY9XDOP\n",
      "Assigned participation qual to A3SFFKBY4M8QIK\n",
      "Assigned participation qual to AM9HHSRDY3X37\n",
      "Assigned participation qual to AMH4AICKQIV7P\n",
      "Assigned participation qual to A2RX4NBNJ7JB47\n",
      "Assigned participation qual to A1A8E8AIM2W4C5\n",
      "Assigned participation qual to A2BA2KLNO29T8D\n",
      "Assigned participation qual to A220WNS6IESX66\n",
      "Assigned participation qual to A748N8WFG2HR4\n",
      "Assigned participation qual to A1ST2C13LZRZV3\n",
      "Assigned participation qual to A3EQWCHNTBHARG\n",
      "Assigned participation qual to AG9D9EA2AHGPQ\n",
      "Assigned participation qual to A2G8EOLRLWKLQB\n",
      "Assigned participation qual to A3UVG8BZ3B5FWI\n",
      "Assigned participation qual to A33SZTK9OMONNB\n",
      "Assigned participation qual to A1C2XGJAYMIB5E\n",
      "Assigned participation qual to AR71NXS6I743E\n",
      "Assigned participation qual to AV6HVFVMMGO2J\n",
      "Assigned participation qual to A154HLBQMXUUUI\n",
      "Assigned participation qual to A250FES5PFCGK9\n",
      "Assigned participation qual to A2H10OGV83J788\n",
      "Assigned participation qual to A1129XU7TG361J\n",
      "Assigned participation qual to A2BCK6M4SPHRRH\n",
      "Assigned participation qual to AQX9UEPKXIKU6\n",
      "Assigned participation qual to A3OW203LTCPUZ8\n",
      "Assigned participation qual to A3A40OCTPOP22V\n",
      "Assigned participation qual to AA3KU2MCM79LY\n",
      "Assigned participation qual to A3OQ2WWEU3ABMM\n",
      "Assigned participation qual to A31OFLB7SAWU7K\n",
      "Assigned participation qual to A1KX9ELGVFTERR\n",
      "Assigned participation qual to A36UFZOEMNO9GJ\n",
      "Assigned participation qual to A37XA8CHTZBEDC\n",
      "Assigned participation qual to A2CWJRAEFZ44HU\n",
      "Assigned participation qual to AVEEXNWYXBSGM\n",
      "Assigned participation qual to A1Z34G2MEZI5I2\n",
      "Assigned participation qual to A32YHRK7BXD2E7\n",
      "Assigned participation qual to A1TK5J14ONTEUO\n",
      "Assigned participation qual to A21O4S75WB3W7R\n",
      "Assigned participation qual to A21U1UBP8G98K7\n",
      "Assigned participation qual to A2XZNOOVPA2V6G\n",
      "Assigned participation qual to A3AVMT8YDWWQ3F\n",
      "Assigned participation qual to A2R1XXJZLP0MG7\n",
      "Assigned participation qual to A3TBG0S2IEBVHU\n",
      "Assigned participation qual to A2TZAXWOB3JMNV\n",
      "Assigned participation qual to ABGQ9MLWYOESO\n",
      "Assigned participation qual to A34LSCB90T5KYE\n",
      "Assigned participation qual to A2S2ZEXPZMR9ZV\n",
      "Assigned participation qual to A6JUD4NCQCDWG\n",
      "Assigned participation qual to A3H1R064820RXL\n",
      "Assigned participation qual to A1R6WFKM0L687F\n",
      "Assigned participation qual to A1JO6AY55FG7QU\n",
      "Assigned participation qual to A1BZNPQ0H7ZSER\n",
      "Assigned participation qual to A19ZWBQT8A3LIR\n",
      "Assigned participation qual to A2DMUBIBMLZ6P2\n",
      "Assigned participation qual to A6BGHMDX4WVGB\n",
      "Assigned participation qual to A23XFDOKMRAH72\n",
      "Assigned participation qual to ANX6Q4NMZL8EI\n",
      "Assigned participation qual to A32LNVRHDOWZNU\n",
      "Assigned participation qual to A3542PB4Z0NE80\n",
      "Assigned participation qual to A1SUU1QIRDZXJC\n",
      "Assigned participation qual to A3NFGEUZAH9V5G\n",
      "Assigned participation qual to A171S8E9IFSHH2\n",
      "Assigned participation qual to A22VGT2F28LTWC\n"
     ]
    }
   ],
   "source": [
    "# Assign everyone a Workplace_Survey_Participant qual\n",
    "def extract_worker_id(hit_title):\n",
    "    title_elts = hit_title.split(\" \")\n",
    "    worker_id = title_elts[-1]\n",
    "    return worker_id\n",
    "\n",
    "participant_qual_id = \"303SJT1CWE5D23ZEJCT5ZGDLM1P4FN\"\n",
    "def assign_participant_qual(worker_id):\n",
    "    # Assign this worker the participant qual\n",
    "    response = client.associate_qualification_with_worker(\n",
    "        QualificationTypeId=participant_qual_id,\n",
    "        WorkerId=worker_id,\n",
    "        IntegerValue=0,\n",
    "        SendNotification=True\n",
    "    )\n",
    "    return response\n",
    "\n",
    "stage2_hits = [h for h in all_hits if h['Title'].startswith('Custom workplace survey')]\n",
    "for cur_hit in stage2_hits:\n",
    "    hit_title = cur_hit['Title']\n",
    "    cur_worker_id = extract_worker_id(hit_title)\n",
    "    response = assign_participant_qual(cur_worker_id)\n",
    "    print(f\"Assigned participation qual to {cur_worker_id}\")"
   ]
  },
  {
   "cell_type": "code",
   "execution_count": null,
   "id": "f1d8ecea-4edc-440b-a015-2a8837c3eab0",
   "metadata": {},
   "outputs": [],
   "source": []
  },
  {
   "cell_type": "code",
   "execution_count": null,
   "id": "0ec8eff9-b350-40fe-9fe0-6b79635bd858",
   "metadata": {},
   "outputs": [],
   "source": []
  },
  {
   "cell_type": "code",
   "execution_count": 60,
   "id": "7ba89cff-b5a1-41a0-a4fe-4054cdf6f7cb",
   "metadata": {},
   "outputs": [],
   "source": [
    "cur_worker_id = \"A34GSERJN16K5N\""
   ]
  },
  {
   "cell_type": "code",
   "execution_count": 61,
   "id": "f79d9622-f0b6-4168-9be5-fe56e6c26bd7",
   "metadata": {},
   "outputs": [
    {
     "data": {
      "text/plain": [
       "1"
      ]
     },
     "execution_count": 61,
     "metadata": {},
     "output_type": "execute_result"
    }
   ],
   "source": [
    "worker_hits = [hit for hit in all_hits if cur_worker_id in hit['Title']]\n",
    "len(worker_hits)"
   ]
  },
  {
   "cell_type": "code",
   "execution_count": 62,
   "id": "ca2c2936-6dc0-402c-9cb7-c45089f8f461",
   "metadata": {},
   "outputs": [
    {
     "data": {
      "text/plain": [
       "{'HITId': '3YO4AH2FPEL07GKENE0FN16OW1JQ0Q',\n",
       " 'HITTypeId': '3RDWCCLNIGU0D5P9EVEHRNB90VMTPH',\n",
       " 'HITGroupId': '38IOEK81VJRRYSOJQ7FKKQE8LDO69H',\n",
       " 'CreationTime': datetime.datetime(2021, 10, 29, 1, 11, 37, tzinfo=tzlocal()),\n",
       " 'Title': 'Custom workplace survey HIT for worker id A34GSERJN16K5N',\n",
       " 'Description': 'Custom workplace survey HIT for worker id A34GSERJN16K5N, 30 questions, ~15mins to complete',\n",
       " 'Question': '<HTMLQuestion xmlns=\"http://mechanicalturk.amazonaws.com/AWSMechanicalTurkDataSchemas/2011-11-11/HTMLQuestion.xsd\">\\n  <HTMLContent><![CDATA[\\n<!DOCTYPE html>\\n<html>\\n <head>\\n  <meta http-equiv=\\'Content-Type\\' content=\\'text/html; charset=UTF-8\\'/>\\n  <script>\\nfunction turkGetParam( name, defaultValue ) { \\n   var regexS = \"[\\\\?&]\"+name+\"=([^&#]*)\"; \\n   var regex = new RegExp( regexS ); \\n   var tmpURL = window.location.href; \\n   var results = regex.exec( tmpURL ); \\n   if( results == null ) { \\n     return defaultValue; \\n   } else { \\n     return results[1];    \\n   } \\n}\\nfunction decode(strToDecode)\\n{\\n  var encoded = strToDecode;\\n  return unescape(encoded.replace(/\\\\+/g,  \" \"));\\n}\\nfunction turkGetSubmitToHost() {\\n    var defaultHost = \"https://www.mturk.com\";\\n    var submitToHost = decode(turkGetParam(\"turkSubmitTo\", defaultHost));\\n    if (stringStartsWith(submitToHost, \"https://\")) {\\n        return submitToHost;\\n    }\\n    if (stringStartsWith(submitToHost, \"http://\")) {\\n        return submitToHost;\\n    }\\n    if (stringStartsWith(submitToHost, \"//\")) {\\n        return submitToHost;\\n    }\\n    return defaultHost;\\n}\\n\\nfunction turkSetAssignmentID( form_name, button_name ) {\\n\\n  if (form_name == null) {\\n    form_name = \"mturk_form\";\\n  }\\n\\n  if (button_name == null) {\\n    button_name = \"submitButton\";\\n  }\\n\\n  assignmentID = turkGetParam(\\'assignmentId\\', \"\");\\n  document.getElementById(\\'assignmentId\\').value = assignmentID;\\n\\n  if (assignmentID == \"ASSIGNMENT_ID_NOT_AVAILABLE\") { \\n    // If we\\'re previewing, disable the button and give it a helpful message\\n    btn = document.getElementById(button_name);\\n    if (btn) {\\n      btn.disabled = true; \\n      btn.value = \"You must ACCEPT the HIT before you can submit the results.\";\\n    } \\n  }\\n\\n  form = document.getElementById(form_name); \\n  if (form) {\\n     form.action = turkGetSubmitToHost() + \"/mturk/externalSubmit\"; \\n  }\\n}\\nfunction stringStartsWith(str, search, pos) {\\n    pos = (!pos || pos < 0) ? 0 : +pos;\\n    return str.substring(pos, pos + search.length) === search;\\n}\\n</script>\\n<link href=\"https://cdn.jsdelivr.net/npm/bootstrap@5.1.3/dist/css/bootstrap.min.css\" rel=\"stylesheet\" integrity=\"sha384-1BmE4kWBq78iYhFldvKuhfTAU6auU8tT94WrHftjDbrCEXSU1oBoqyl2QvZ6jIW3\" crossorigin=\"anonymous\">\\n </head>\\n <body>\\n  <form name=\\'mturk_form\\' method=\\'post\\' id=\\'mturk_form\\' action=\\'https://www.mturk.com/mturk/externalSubmit\\'>\\n  <input type=\\'hidden\\' value=\\'\\' name=\\'assignmentId\\' id=\\'assignmentId\\'/>\\n  <h2>Instructions</h2>\\n  <p>We are conducting an academic survey about the conditions of the modern workplace.</p>\\n\\n    <p>\\n        This survey HIT has been custom-generated for you based on your worker ID, A34GSERJN16K5N, and will be available for the next 24 hours. If you are willing to fill out an additional survey with approximately 30 questions and one 300-word essay for this HIT\\'s reward amount (0.50), please (1) accept this HIT, (2) fill out the survey at the link below, and (3) upon completion, copy-and-paste the survey completion code into the text box below. Your submission will be checked for accuracy and then approved or rejected within 24 hours.\\n    </p>\\n  <p>\\n    Survey Link:\\n    <a href=\"https://cumc.co1.qualtrics.com/jfe/form/SV_a4CDHnnuf6xgEN8?offer=0.50&amp;mt_id=A34GSERJN16K5N\" id=\"surveyLink\">Click here to launch the survey</a>\\n  </p>\\n  <p>\\n    <label for=\"codeInput\">Enter Survey Completion Code:</label></td>\\n\\t<input id=\"codeInput\" name=\"surveyCode\" style=\"width: 100%;\" type=\"text\" />\\n  </p>\\n  <p>\\n    <input type=\\'submit\\' id=\\'submitButton\\' value=\\'Submit\\' class=\"btn btn-primary\" />\\n  </p>\\n</form>\\n<script language=\\'Javascript\\'>turkSetAssignmentID();</script>\\n</body>\\n</html>\\n]]>\\n  </HTMLContent>\\n  <FrameHeight>450</FrameHeight>\\n</HTMLQuestion>\\n',\n",
       " 'Keywords': 'survey,workplace,work',\n",
       " 'HITStatus': 'Reviewable',\n",
       " 'MaxAssignments': 1,\n",
       " 'Reward': '0.50',\n",
       " 'AutoApprovalDelayInSeconds': 2592000,\n",
       " 'Expiration': datetime.datetime(2021, 10, 30, 1, 11, 37, tzinfo=tzlocal()),\n",
       " 'AssignmentDurationInSeconds': 3600,\n",
       " 'QualificationRequirements': [{'QualificationTypeId': '3F81S4Q8XR3VU5W78I5I82PCZR0FEN',\n",
       "   'Comparator': 'In',\n",
       "   'IntegerValues': [28],\n",
       "   'RequiredToPreview': True,\n",
       "   'ActionsGuarded': 'DiscoverPreviewAndAccept'}],\n",
       " 'HITReviewStatus': 'NotReviewed',\n",
       " 'NumberOfAssignmentsPending': 0,\n",
       " 'NumberOfAssignmentsAvailable': 0,\n",
       " 'NumberOfAssignmentsCompleted': 1}"
      ]
     },
     "execution_count": 62,
     "metadata": {},
     "output_type": "execute_result"
    }
   ],
   "source": [
    "the_hit = worker_hits[0]\n",
    "the_hit"
   ]
  },
  {
   "cell_type": "code",
   "execution_count": 63,
   "id": "043be147-a02a-4c1d-8dc0-b6cd298e240d",
   "metadata": {},
   "outputs": [
    {
     "data": {
      "text/plain": [
       "[{'AssignmentId': '3634BBTX0PVHA69F3QJT5QYX989IFH',\n",
       "  'WorkerId': 'A34GSERJN16K5N',\n",
       "  'HITId': '3YO4AH2FPEL07GKENE0FN16OW1JQ0Q',\n",
       "  'AssignmentStatus': 'Approved',\n",
       "  'AutoApprovalTime': datetime.datetime(2021, 11, 28, 8, 8, 18, tzinfo=tzlocal()),\n",
       "  'AcceptTime': datetime.datetime(2021, 10, 29, 8, 23, 51, tzinfo=tzlocal()),\n",
       "  'SubmitTime': datetime.datetime(2021, 10, 29, 9, 8, 18, tzinfo=tzlocal()),\n",
       "  'ApprovalTime': datetime.datetime(2021, 10, 29, 13, 11, 37, tzinfo=tzlocal()),\n",
       "  'Answer': '<?xml version=\"1.0\" encoding=\"ASCII\"?><QuestionFormAnswers xmlns=\"http://mechanicalturk.amazonaws.com/AWSMechanicalTurkDataSchemas/2005-10-01/QuestionFormAnswers.xsd\"><Answer><QuestionIdentifier>surveyCode</QuestionIdentifier><FreeText>89170036</FreeText></Answer></QuestionFormAnswers>'}]"
      ]
     },
     "execution_count": 63,
     "metadata": {},
     "output_type": "execute_result"
    }
   ],
   "source": [
    "mtglobals.get_hit_submissions(client, the_hit['HITId'])"
   ]
  },
  {
   "cell_type": "code",
   "execution_count": null,
   "id": "e0c5d673-53af-460d-aa58-69d98ffba40c",
   "metadata": {},
   "outputs": [],
   "source": []
  },
  {
   "cell_type": "code",
   "execution_count": null,
   "id": "e7e9ef5f-5848-4325-9e2a-1725c462600a",
   "metadata": {},
   "outputs": [],
   "source": []
  },
  {
   "cell_type": "code",
   "execution_count": null,
   "id": "f26cdcd7-8b5d-4a82-bd7f-b27dc5683280",
   "metadata": {},
   "outputs": [],
   "source": []
  },
  {
   "cell_type": "code",
   "execution_count": 6,
   "id": "0e25a5f5-7a0f-45b1-8b2c-fabaf30b754c",
   "metadata": {},
   "outputs": [],
   "source": [
    "from numpy.random import default_rng\n",
    "rng = default_rng()"
   ]
  },
  {
   "cell_type": "code",
   "execution_count": 2,
   "id": "760a374c-4ff4-47db-8db0-cb016b0c8fbd",
   "metadata": {},
   "outputs": [],
   "source": [
    "wages = ['$0.50','$0.90','$0.95','$0.98','$0.99','$1.00','$1.01','$1.02','$1.05','$1.10','$1.50']"
   ]
  },
  {
   "cell_type": "code",
   "execution_count": 3,
   "id": "a47119d2-4ff5-43bd-98eb-67eef53d0c05",
   "metadata": {},
   "outputs": [
    {
     "data": {
      "text/plain": [
       "11"
      ]
     },
     "execution_count": 3,
     "metadata": {},
     "output_type": "execute_result"
    }
   ],
   "source": [
    "len(wages)"
   ]
  },
  {
   "cell_type": "code",
   "execution_count": 7,
   "id": "e0fc3ea0-37ec-4cb6-863f-c5dc783c031f",
   "metadata": {},
   "outputs": [],
   "source": [
    "rng.shuffle(wages)"
   ]
  },
  {
   "cell_type": "code",
   "execution_count": 8,
   "id": "1cbc476d-f121-47da-aafe-20ec13ba5082",
   "metadata": {},
   "outputs": [
    {
     "data": {
      "text/plain": [
       "['$1.02',\n",
       " '$0.99',\n",
       " '$0.98',\n",
       " '$1.05',\n",
       " '$1.00',\n",
       " '$1.50',\n",
       " '$1.10',\n",
       " '$1.01',\n",
       " '$0.95',\n",
       " '$0.90',\n",
       " '$0.50']"
      ]
     },
     "execution_count": 8,
     "metadata": {},
     "output_type": "execute_result"
    }
   ],
   "source": [
    "wages"
   ]
  },
  {
   "cell_type": "code",
   "execution_count": null,
   "id": "006be1fd-b631-4a2e-8e6c-51a27c4ae24e",
   "metadata": {},
   "outputs": [],
   "source": []
  }
 ],
 "metadata": {
  "kernelspec": {
   "display_name": "Python 3 (ipykernel)",
   "language": "python",
   "name": "python3"
  },
  "language_info": {
   "codemirror_mode": {
    "name": "ipython",
    "version": 3
   },
   "file_extension": ".py",
   "mimetype": "text/x-python",
   "name": "python",
   "nbconvert_exporter": "python",
   "pygments_lexer": "ipython3",
   "version": "3.9.9"
  }
 },
 "nbformat": 4,
 "nbformat_minor": 5
}
