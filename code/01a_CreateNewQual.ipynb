{
 "cells": [
  {
   "cell_type": "markdown",
   "id": "2b032a3d-9165-472f-ae9b-720fd059beda",
   "metadata": {
    "pycharm": {
     "name": "#%% md\n"
    }
   },
   "source": [
    "### Before starting a new run, create a new qual to give to all workers\n",
    "\n",
    "(Note that this is different from the *participation* qual, which is assigned to everyone across all runs)\n",
    "\n",
    "(Also, in case you need it, the link to manage the quals via the Web UI: https://requester.mturk.com/qualification_types )"
   ]
  },
  {
   "cell_type": "code",
   "execution_count": 1,
   "id": "78127e39-b575-49b8-9a4a-5cee2b7b08cc",
   "metadata": {
    "tags": [],
    "pycharm": {
     "name": "#%%\n"
    }
   },
   "outputs": [],
   "source": [
    "%load_ext autoreload\n",
    "%autoreload 2"
   ]
  },
  {
   "cell_type": "code",
   "execution_count": 2,
   "id": "b470e281-6a08-4a73-abd6-efe20ae892a1",
   "metadata": {
    "tags": [],
    "pycharm": {
     "name": "#%%\n"
    }
   },
   "outputs": [],
   "source": [
    "import os\n",
    "\n",
    "import dotenv\n",
    "\n",
    "from mtclient import MTClient\n",
    "import mtglobals"
   ]
  },
  {
   "cell_type": "code",
   "execution_count": 3,
   "id": "22ac6c08-4a81-4fae-86a9-1391ac49a764",
   "metadata": {
    "tags": [],
    "pycharm": {
     "name": "#%%\n"
    }
   },
   "outputs": [
    {
     "name": "stdout",
     "output_type": "stream",
     "text": [
      "Loading environment variables from .env\n",
      "Using LIVE MTurk requester API\n",
      "Your account balance is 4775.12\n"
     ]
    }
   ],
   "source": [
    "client = MTClient()"
   ]
  },
  {
   "cell_type": "markdown",
   "id": "83a2e58f-e349-4e32-9991-9d12550429a7",
   "metadata": {
    "tags": [],
    "pycharm": {
     "name": "#%% md\n"
    }
   },
   "source": [
    "### (a) Get info for the previous (most recent) custom qual"
   ]
  },
  {
   "cell_type": "code",
   "execution_count": 4,
   "id": "5666c264-98c3-44d5-aabc-556ac28422d9",
   "metadata": {
    "tags": [],
    "pycharm": {
     "name": "#%%\n"
    }
   },
   "outputs": [],
   "source": [
    "qual_info = mtglobals.get_current_qual()"
   ]
  },
  {
   "cell_type": "markdown",
   "id": "376ecb01-c368-4a44-819c-6ebd54771ca5",
   "metadata": {
    "pycharm": {
     "name": "#%% md\n"
    }
   },
   "source": [
    "### (c) Create the new qual via MTurk API"
   ]
  },
  {
   "cell_type": "code",
   "execution_count": 5,
   "outputs": [
    {
     "name": "stdout",
     "output_type": "stream",
     "text": [
      "Created first qualification Workplace_Survey_18 with ID 30M5Q3A44NCL1C9BMLI9I5P0L1PK7M\n"
     ]
    }
   ],
   "source": [
    "dotenv.load_dotenv(mtglobals.dotenv_fpath, override=True)\n",
    "qual_prefix = os.getenv(\"WAVE_QUAL_PREFIX\")\n",
    "if qual_info is None:\n",
    "    # No info on previous quals, so create first qual\n",
    "    new_qual_name = f\"{qual_prefix}_00\"\n",
    "    # And create it using API\n",
    "    result = client.create_new_qual(new_qual_name)\n",
    "else:\n",
    "    # Increment the suffix and create\n",
    "    last_qual_name = qual_info['qual_name']\n",
    "    last_qual_num = qual_info['last_qual_num']\n",
    "    last_offer_amt = qual_info['last_offer_amt']\n",
    "    last_qual_suffix = int(last_qual_name.split(\"_\")[-1])\n",
    "    new_qual_suffix = str(last_qual_suffix + 1).zfill(2)\n",
    "    new_qual_name = f\"{qual_prefix}_{new_qual_suffix}\"\n",
    "    result = client.create_new_qual(new_qual_name)\n",
    "print(f\"Created first qualification {result['qual_name']} with ID {result['qual_id']}\")"
   ],
   "metadata": {
    "collapsed": false,
    "pycharm": {
     "name": "#%%\n"
    }
   }
  },
  {
   "cell_type": "code",
   "execution_count": 6,
   "outputs": [],
   "source": [
    "# This is left over from an old version -- we don't technically need to keep track of\n",
    "# the previous wage anymore, but I'm keeping it in just for ease of debugging since\n",
    "# this makes it so the log files will always record each generated wage. Here it's\n",
    "# just chosen at random, it'll be re-sampled anyways when the first stage-2 HIT is launched\n",
    "start_offer_amt = mtglobals.draw_random_wage()"
   ],
   "metadata": {
    "collapsed": false,
    "pycharm": {
     "name": "#%%\n"
    }
   }
  },
  {
   "cell_type": "markdown",
   "id": "18ff8f35-511f-49c5-88ae-6c3d56e85fa0",
   "metadata": {
    "pycharm": {
     "name": "#%% md\n"
    }
   },
   "source": [
    "### (d) And update the locally-stored info on the current qual"
   ]
  },
  {
   "cell_type": "code",
   "execution_count": 7,
   "id": "77199408-5a3b-47ab-979e-37a861a4c21a",
   "metadata": {
    "pycharm": {
     "name": "#%%\n"
    }
   },
   "outputs": [
    {
     "name": "stdout",
     "output_type": "stream",
     "text": [
      "Current qual info in ..\\results_2stage\\current_qual.txt updated to be: Workplace_Survey_18,30M5Q3A44NCL1C9BMLI9I5P0L1PK7M,0,0.98\n"
     ]
    }
   ],
   "source": [
    "mtglobals.update_current_qual(result['qual_name'], result['qual_id'], 0, start_offer_amt)"
   ]
  },
  {
   "cell_type": "markdown",
   "id": "96ba050f-88ad-46b0-93cc-06f1683271ad",
   "metadata": {
    "pycharm": {
     "name": "#%% md\n"
    }
   },
   "source": [
    "### Now run 01b_PostStage1.ipynb"
   ]
  },
  {
   "cell_type": "code",
   "execution_count": 7,
   "id": "d04c69e9-3a5e-4108-9110-7797200ffee2",
   "metadata": {
    "pycharm": {
     "name": "#%%\n"
    }
   },
   "outputs": [],
   "source": []
  },
  {
   "cell_type": "code",
   "execution_count": null,
   "id": "a716e887-e6ee-49ab-9861-63160fe5071d",
   "metadata": {
    "pycharm": {
     "name": "#%%\n"
    }
   },
   "outputs": [],
   "source": []
  },
  {
   "cell_type": "code",
   "execution_count": null,
   "id": "b59cba95-e10c-4cc1-bdbf-7d853b50c8e0",
   "metadata": {
    "pycharm": {
     "name": "#%%\n"
    }
   },
   "outputs": [],
   "source": []
  },
  {
   "cell_type": "code",
   "execution_count": null,
   "id": "83230fe7-00c0-452b-aab2-ff2959103bdf",
   "metadata": {
    "pycharm": {
     "name": "#%%\n"
    }
   },
   "outputs": [],
   "source": []
  },
  {
   "cell_type": "markdown",
   "id": "d780a14e-780c-4db7-90e6-5ade783668b9",
   "metadata": {
    "tags": [],
    "pycharm": {
     "name": "#%% md\n"
    }
   },
   "source": [
    "### (old version)\n",
    "\n",
    "(potentially useful if API acts weird and you need to just get the id for the most-recently-created qual)"
   ]
  },
  {
   "cell_type": "code",
   "execution_count": 12,
   "id": "f7640674-0730-41b0-9c65-95fec80c9427",
   "metadata": {
    "execution": {
     "iopub.execute_input": "2022-02-01T03:10:35.867780Z",
     "iopub.status.busy": "2022-02-01T03:10:35.866780Z",
     "iopub.status.idle": "2022-02-01T03:10:36.933054Z",
     "shell.execute_reply": "2022-02-01T03:10:36.933054Z",
     "shell.execute_reply.started": "2022-02-01T03:10:35.866780Z"
    },
    "tags": [],
    "pycharm": {
     "name": "#%%\n"
    }
   },
   "outputs": [
    {
     "name": "stdout",
     "output_type": "stream",
     "text": [
      "Workplace_Survey_Custom14\n",
      "Qual already exists, updating current qual.txt\n",
      "Current qual updated to be: Workplace_Survey_Custom14,376OKSJ89SYRLC8IL4XY8ZX2HAYX7I,0,0.50\n"
     ]
    }
   ],
   "source": [
    "# Get the suffix\n",
    "qual_suffix = int(qual_info['qual_name'][-2:])\n",
    "int(qual_suffix)\n",
    "# Increment\n",
    "new_suffix = qual_suffix + 1\n",
    "new_suffstr = str(new_suffix).zfill(2)\n",
    "# Create the new qual name\n",
    "new_qual_name = \"Workplace_Survey_Custom\" + new_suffstr\n",
    "new_qual_name\n",
    "print(new_qual_name)\n",
    "# Create the actual qual via mturk api\n",
    "if not mtglobals.qual_exists(client, new_qual_name):\n",
    "    result_name, result_id = mtglobals.create_new_qual(client, new_qual_name)\n",
    "    result_id = mtglobals.get_qual_id(client, new_qual_name)\n",
    "    # And set as the new current qual\n",
    "    mtglobals.update_current_qual(new_qual_name, result_id, 0, '0.50')\n",
    "else:\n",
    "    # If it already exists, just get the id and update the current qual\n",
    "    print(\"Qual already exists, updating current qual.txt\")\n",
    "    result_id = mtglobals.get_qual_id(client, new_qual_name)\n",
    "    mtglobals.update_current_qual(new_qual_name, result_id, 0, '0.50')"
   ]
  },
  {
   "cell_type": "markdown",
   "id": "dd9db43b-8ea2-40f2-8cbe-a3aead927c0b",
   "metadata": {
    "pycharm": {
     "name": "#%% md\n"
    }
   },
   "source": [
    "### Sigh. No idea why it works sometimes and doesn't work other times, but just run this to update the currentqual.txt"
   ]
  },
  {
   "cell_type": "code",
   "execution_count": 11,
   "id": "8ec68da6-ec45-4ace-81ba-e62dfca4975a",
   "metadata": {
    "execution": {
     "iopub.execute_input": "2022-02-01T03:10:27.484777Z",
     "iopub.status.busy": "2022-02-01T03:10:27.484777Z",
     "iopub.status.idle": "2022-02-01T03:10:27.893127Z",
     "shell.execute_reply": "2022-02-01T03:10:27.892127Z",
     "shell.execute_reply.started": "2022-02-01T03:10:27.484777Z"
    },
    "tags": [],
    "pycharm": {
     "name": "#%%\n"
    }
   },
   "outputs": [
    {
     "name": "stdout",
     "output_type": "stream",
     "text": [
      "Qual already exists, updating current qual.txt\n"
     ]
    },
    {
     "ename": "Exception",
     "evalue": "No matching quals found!",
     "output_type": "error",
     "traceback": [
      "\u001B[1;31m---------------------------------------------------------------------------\u001B[0m",
      "\u001B[1;31mException\u001B[0m                                 Traceback (most recent call last)",
      "\u001B[1;32m~\\AppData\\Local\\Temp/ipykernel_16832/1420368521.py\u001B[0m in \u001B[0;36m<module>\u001B[1;34m\u001B[0m\n\u001B[0;32m      1\u001B[0m \u001B[1;31m# If it already exists, just get the id and update the current qual\u001B[0m\u001B[1;33m\u001B[0m\u001B[1;33m\u001B[0m\u001B[0m\n\u001B[0;32m      2\u001B[0m \u001B[0mprint\u001B[0m\u001B[1;33m(\u001B[0m\u001B[1;34m\"Qual already exists, updating current qual.txt\"\u001B[0m\u001B[1;33m)\u001B[0m\u001B[1;33m\u001B[0m\u001B[1;33m\u001B[0m\u001B[0m\n\u001B[1;32m----> 3\u001B[1;33m \u001B[0mresult_id\u001B[0m \u001B[1;33m=\u001B[0m \u001B[0mmtglobals\u001B[0m\u001B[1;33m.\u001B[0m\u001B[0mget_qual_id\u001B[0m\u001B[1;33m(\u001B[0m\u001B[0mclient\u001B[0m\u001B[1;33m,\u001B[0m \u001B[0mnew_qual_name\u001B[0m\u001B[1;33m)\u001B[0m\u001B[1;33m\u001B[0m\u001B[1;33m\u001B[0m\u001B[0m\n\u001B[0m\u001B[0;32m      4\u001B[0m \u001B[0mmtglobals\u001B[0m\u001B[1;33m.\u001B[0m\u001B[0mupdate_current_qual\u001B[0m\u001B[1;33m(\u001B[0m\u001B[0mnew_qual_name\u001B[0m\u001B[1;33m,\u001B[0m \u001B[0mresult_id\u001B[0m\u001B[1;33m,\u001B[0m \u001B[1;36m0\u001B[0m\u001B[1;33m,\u001B[0m \u001B[1;34m'0.50'\u001B[0m\u001B[1;33m)\u001B[0m\u001B[1;33m\u001B[0m\u001B[1;33m\u001B[0m\u001B[0m\n",
      "\u001B[1;32mC:\\Dropbox\\mturk-monopsony\\code\\mtglobals.py\u001B[0m in \u001B[0;36mget_qual_id\u001B[1;34m(client, qual_name)\u001B[0m\n\u001B[0;32m    305\u001B[0m     \u001B[0mmatching_quals\u001B[0m \u001B[1;33m=\u001B[0m \u001B[1;33m[\u001B[0m\u001B[0minfo\u001B[0m \u001B[1;32mfor\u001B[0m \u001B[0minfo\u001B[0m \u001B[1;32min\u001B[0m \u001B[0mall_quals\u001B[0m \u001B[1;32mif\u001B[0m \u001B[0minfo\u001B[0m\u001B[1;33m[\u001B[0m\u001B[1;34m'Name'\u001B[0m\u001B[1;33m]\u001B[0m \u001B[1;33m==\u001B[0m \u001B[0mqual_name\u001B[0m\u001B[1;33m]\u001B[0m\u001B[1;33m\u001B[0m\u001B[1;33m\u001B[0m\u001B[0m\n\u001B[0;32m    306\u001B[0m     \u001B[1;32mif\u001B[0m \u001B[0mlen\u001B[0m\u001B[1;33m(\u001B[0m\u001B[0mmatching_quals\u001B[0m\u001B[1;33m)\u001B[0m \u001B[1;33m==\u001B[0m \u001B[1;36m0\u001B[0m\u001B[1;33m:\u001B[0m\u001B[1;33m\u001B[0m\u001B[1;33m\u001B[0m\u001B[0m\n\u001B[1;32m--> 307\u001B[1;33m         \u001B[1;32mraise\u001B[0m \u001B[0mException\u001B[0m\u001B[1;33m(\u001B[0m\u001B[1;34m\"No matching quals found!\"\u001B[0m\u001B[1;33m)\u001B[0m\u001B[1;33m\u001B[0m\u001B[1;33m\u001B[0m\u001B[0m\n\u001B[0m\u001B[0;32m    308\u001B[0m     \u001B[1;32melse\u001B[0m\u001B[1;33m:\u001B[0m\u001B[1;33m\u001B[0m\u001B[1;33m\u001B[0m\u001B[0m\n\u001B[0;32m    309\u001B[0m         \u001B[0mqual_info\u001B[0m \u001B[1;33m=\u001B[0m \u001B[0mmatching_quals\u001B[0m\u001B[1;33m[\u001B[0m\u001B[1;36m0\u001B[0m\u001B[1;33m]\u001B[0m\u001B[1;33m\u001B[0m\u001B[1;33m\u001B[0m\u001B[0m\n",
      "\u001B[1;31mException\u001B[0m: No matching quals found!"
     ]
    }
   ],
   "source": [
    "# If it already exists, just get the id and update the current qual\n",
    "print(\"Qual already exists, updating current qual.txt\")\n",
    "result_id = mtglobals.get_qual_id(client, new_qual_name)\n",
    "mtglobals.update_current_qual(new_qual_name, result_id, 0, '0.50')"
   ]
  },
  {
   "cell_type": "code",
   "execution_count": null,
   "id": "2ab6de75-2745-4b76-a69f-86403e15c8f9",
   "metadata": {
    "pycharm": {
     "name": "#%%\n"
    }
   },
   "outputs": [],
   "source": []
  },
  {
   "cell_type": "code",
   "execution_count": null,
   "id": "44d5c95d-d4ae-4a33-8b9f-dd6116d220ff",
   "metadata": {
    "pycharm": {
     "name": "#%%\n"
    }
   },
   "outputs": [],
   "source": []
  },
  {
   "cell_type": "code",
   "execution_count": null,
   "id": "75e5aa65-602c-42b9-b6fa-f03134f07d02",
   "metadata": {
    "pycharm": {
     "name": "#%%\n"
    }
   },
   "outputs": [],
   "source": []
  }
 ],
 "metadata": {
  "kernelspec": {
   "display_name": "Python 3 (ipykernel)",
   "language": "python",
   "name": "python3"
  },
  "language_info": {
   "codemirror_mode": {
    "name": "ipython",
    "version": 3
   },
   "file_extension": ".py",
   "mimetype": "text/x-python",
   "name": "python",
   "nbconvert_exporter": "python",
   "pygments_lexer": "ipython3",
   "version": "3.9.7"
  }
 },
 "nbformat": 4,
 "nbformat_minor": 5
}