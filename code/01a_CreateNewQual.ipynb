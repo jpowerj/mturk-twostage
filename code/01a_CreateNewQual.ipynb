{
 "cells": [
  {
   "cell_type": "markdown",
   "id": "2b032a3d-9165-472f-ae9b-720fd059beda",
   "metadata": {},
   "source": [
    "### Before starting a new run, create a new qual to give to all workers\n",
    "\n",
    "(Note that this is different from the *participation* qual, which is assigned to everyone across all runs)\n",
    "\n",
    "(Also, in case you need it, the link to manage the quals via the Web UI: https://requester.mturk.com/qualification_types )"
   ]
  },
  {
   "cell_type": "code",
   "execution_count": 8,
   "id": "78127e39-b575-49b8-9a4a-5cee2b7b08cc",
   "metadata": {
    "tags": []
   },
   "outputs": [
    {
     "name": "stdout",
     "output_type": "stream",
     "text": [
      "The autoreload extension is already loaded. To reload it, use:\n",
      "  %reload_ext autoreload\n"
     ]
    }
   ],
   "source": [
    "%load_ext autoreload\n",
    "%autoreload 2"
   ]
  },
  {
   "cell_type": "code",
   "execution_count": 9,
   "id": "b470e281-6a08-4a73-abd6-efe20ae892a1",
   "metadata": {
    "tags": []
   },
   "outputs": [],
   "source": [
    "import mtglobals"
   ]
  },
  {
   "cell_type": "code",
   "execution_count": 10,
   "id": "22ac6c08-4a81-4fae-86a9-1391ac49a764",
   "metadata": {
    "tags": []
   },
   "outputs": [
    {
     "name": "stdout",
     "output_type": "stream",
     "text": [
      "Your account balance is 498885.58\n"
     ]
    }
   ],
   "source": [
    "client, mturk_env = mtglobals.gen_client()"
   ]
  },
  {
   "cell_type": "markdown",
   "id": "83a2e58f-e349-4e32-9991-9d12550429a7",
   "metadata": {
    "tags": []
   },
   "source": [
    "### (a) Get info for the previous (most recent) custom qual"
   ]
  },
  {
   "cell_type": "code",
   "execution_count": 11,
   "id": "5666c264-98c3-44d5-aabc-556ac28422d9",
   "metadata": {
    "tags": []
   },
   "outputs": [],
   "source": [
    "qual_info = mtglobals.get_current_qual()"
   ]
  },
  {
   "cell_type": "code",
   "execution_count": 12,
   "id": "530ac901-0dbf-43f8-b60c-0cae206c4f60",
   "metadata": {
    "tags": []
   },
   "outputs": [
    {
     "data": {
      "text/plain": [
       "{'qual_name': 'Workplace_Survey_Custom14',\n",
       " 'qual_id': '376OKSJ89SYRLC8IL4XY8ZX2HAYX7I',\n",
       " 'last_qual_num': 1,\n",
       " 'last_offer_amt': '0.95'}"
      ]
     },
     "execution_count": 12,
     "metadata": {},
     "output_type": "execute_result"
    }
   ],
   "source": [
    "qual_info"
   ]
  },
  {
   "cell_type": "markdown",
   "id": "c66c6ee0-c746-4e13-b739-ec00644d56cc",
   "metadata": {},
   "source": [
    "### (b) Enter the info for the new qual to be created"
   ]
  },
  {
   "cell_type": "code",
   "execution_count": 22,
   "id": "83f6e6b8-37b6-4a2a-9b3a-424b34461226",
   "metadata": {},
   "outputs": [],
   "source": [
    "new_qual_name = \"Workplace_Survey_Custom17\"\n",
    "start_qual_num = 0\n",
    "# This is left over from an old version -- we don't technically need to keep track of\n",
    "# the previous wage anymore, but I'm keeping it in just for ease of debugging since\n",
    "# this makes it so the log files will always record each generated wage. Here it's\n",
    "# just chosen at random, it'll be re-sampled anyways when the first stage-2 HIT is launched\n",
    "start_offer_amt = mtglobals.random_wage()"
   ]
  },
  {
   "cell_type": "markdown",
   "id": "376ecb01-c368-4a44-819c-6ebd54771ca5",
   "metadata": {},
   "source": [
    "### (c) Create the new qual via MTurk API"
   ]
  },
  {
   "cell_type": "code",
   "execution_count": 23,
   "id": "9d0a6819-b0ab-4af0-814a-f94bd843daef",
   "metadata": {},
   "outputs": [
    {
     "name": "stdout",
     "output_type": "stream",
     "text": [
      "Creating new qual Workplace_Survey_Custom17 with start num 0, start wage 0.98\n"
     ]
    }
   ],
   "source": [
    "print(f\"Creating new qual {new_qual_name} with start num {start_qual_num}, start wage {start_offer_amt}\")"
   ]
  },
  {
   "cell_type": "code",
   "execution_count": 24,
   "id": "7eda05e0-3529-4516-8f8c-143cfd78ff1f",
   "metadata": {},
   "outputs": [],
   "source": [
    "result_name, result_id = mtglobals.create_new_qual(client, new_qual_name)"
   ]
  },
  {
   "cell_type": "code",
   "execution_count": 25,
   "id": "e9d4dd6e-be6f-435a-ab5d-6ca215756e4c",
   "metadata": {},
   "outputs": [
    {
     "data": {
      "text/plain": [
       "'Workplace_Survey_Custom17'"
      ]
     },
     "execution_count": 25,
     "metadata": {},
     "output_type": "execute_result"
    }
   ],
   "source": [
    "result_name"
   ]
  },
  {
   "cell_type": "code",
   "execution_count": 26,
   "id": "3665779d-bd06-4e30-b9c4-c0da31a2103d",
   "metadata": {},
   "outputs": [
    {
     "data": {
      "text/plain": [
       "'31UNB3YYU013XOAZ9X0VP9PP3HTGTL'"
      ]
     },
     "execution_count": 26,
     "metadata": {},
     "output_type": "execute_result"
    }
   ],
   "source": [
    "result_id"
   ]
  },
  {
   "cell_type": "markdown",
   "id": "18ff8f35-511f-49c5-88ae-6c3d56e85fa0",
   "metadata": {},
   "source": [
    "### (d) And update the locally-stored info on the current qual"
   ]
  },
  {
   "cell_type": "code",
   "execution_count": 27,
   "id": "77199408-5a3b-47ab-979e-37a861a4c21a",
   "metadata": {},
   "outputs": [
    {
     "name": "stdout",
     "output_type": "stream",
     "text": [
      "Current qual updated to be: Workplace_Survey_Custom17,31UNB3YYU013XOAZ9X0VP9PP3HTGTL,0,0.98\n"
     ]
    }
   ],
   "source": [
    "mtglobals.update_current_qual(result_name, result_id, start_qual_num, start_offer_amt)"
   ]
  },
  {
   "cell_type": "markdown",
   "id": "96ba050f-88ad-46b0-93cc-06f1683271ad",
   "metadata": {},
   "source": [
    "### Now run 01b_PostStage1.ipynb"
   ]
  },
  {
   "cell_type": "code",
   "execution_count": null,
   "id": "d04c69e9-3a5e-4108-9110-7797200ffee2",
   "metadata": {},
   "outputs": [],
   "source": []
  },
  {
   "cell_type": "code",
   "execution_count": null,
   "id": "a716e887-e6ee-49ab-9861-63160fe5071d",
   "metadata": {},
   "outputs": [],
   "source": []
  },
  {
   "cell_type": "code",
   "execution_count": null,
   "id": "b59cba95-e10c-4cc1-bdbf-7d853b50c8e0",
   "metadata": {},
   "outputs": [],
   "source": []
  },
  {
   "cell_type": "code",
   "execution_count": null,
   "id": "83230fe7-00c0-452b-aab2-ff2959103bdf",
   "metadata": {},
   "outputs": [],
   "source": []
  },
  {
   "cell_type": "markdown",
   "id": "d780a14e-780c-4db7-90e6-5ade783668b9",
   "metadata": {
    "tags": []
   },
   "source": [
    "### (old version)\n",
    "\n",
    "(potentially useful if API acts weird and you need to just get the id for the most-recently-created qual)"
   ]
  },
  {
   "cell_type": "code",
   "execution_count": 12,
   "id": "f7640674-0730-41b0-9c65-95fec80c9427",
   "metadata": {
    "execution": {
     "iopub.execute_input": "2022-02-01T03:10:35.867780Z",
     "iopub.status.busy": "2022-02-01T03:10:35.866780Z",
     "iopub.status.idle": "2022-02-01T03:10:36.933054Z",
     "shell.execute_reply": "2022-02-01T03:10:36.933054Z",
     "shell.execute_reply.started": "2022-02-01T03:10:35.866780Z"
    },
    "tags": []
   },
   "outputs": [
    {
     "name": "stdout",
     "output_type": "stream",
     "text": [
      "Workplace_Survey_Custom14\n",
      "Qual already exists, updating current qual.txt\n",
      "Current qual updated to be: Workplace_Survey_Custom14,376OKSJ89SYRLC8IL4XY8ZX2HAYX7I,0,0.50\n"
     ]
    }
   ],
   "source": [
    "# Get the suffix\n",
    "qual_suffix = int(qual_info['qual_name'][-2:])\n",
    "int(qual_suffix)\n",
    "# Increment\n",
    "new_suffix = qual_suffix + 1\n",
    "new_suffstr = str(new_suffix).zfill(2)\n",
    "# Create the new qual name\n",
    "new_qual_name = \"Workplace_Survey_Custom\" + new_suffstr\n",
    "new_qual_name\n",
    "print(new_qual_name)\n",
    "# Create the actual qual via mturk api\n",
    "if not mtglobals.qual_exists(client, new_qual_name):\n",
    "    result_name, result_id = mtglobals.create_new_qual(client, new_qual_name)\n",
    "    result_id = mtglobals.get_qual_id(client, new_qual_name)\n",
    "    # And set as the new current qual\n",
    "    mtglobals.update_current_qual(new_qual_name, result_id, 0, '0.50')\n",
    "else:\n",
    "    # If it already exists, just get the id and update the current qual\n",
    "    print(\"Qual already exists, updating current qual.txt\")\n",
    "    result_id = mtglobals.get_qual_id(client, new_qual_name)\n",
    "    mtglobals.update_current_qual(new_qual_name, result_id, 0, '0.50')"
   ]
  },
  {
   "cell_type": "markdown",
   "id": "dd9db43b-8ea2-40f2-8cbe-a3aead927c0b",
   "metadata": {},
   "source": [
    "### Sigh. No idea why it works sometimes and doesn't work other times, but just run this to update the currentqual.txt"
   ]
  },
  {
   "cell_type": "code",
   "execution_count": 11,
   "id": "8ec68da6-ec45-4ace-81ba-e62dfca4975a",
   "metadata": {
    "execution": {
     "iopub.execute_input": "2022-02-01T03:10:27.484777Z",
     "iopub.status.busy": "2022-02-01T03:10:27.484777Z",
     "iopub.status.idle": "2022-02-01T03:10:27.893127Z",
     "shell.execute_reply": "2022-02-01T03:10:27.892127Z",
     "shell.execute_reply.started": "2022-02-01T03:10:27.484777Z"
    },
    "tags": []
   },
   "outputs": [
    {
     "name": "stdout",
     "output_type": "stream",
     "text": [
      "Qual already exists, updating current qual.txt\n"
     ]
    },
    {
     "ename": "Exception",
     "evalue": "No matching quals found!",
     "output_type": "error",
     "traceback": [
      "\u001b[1;31m---------------------------------------------------------------------------\u001b[0m",
      "\u001b[1;31mException\u001b[0m                                 Traceback (most recent call last)",
      "\u001b[1;32m~\\AppData\\Local\\Temp/ipykernel_16832/1420368521.py\u001b[0m in \u001b[0;36m<module>\u001b[1;34m\u001b[0m\n\u001b[0;32m      1\u001b[0m \u001b[1;31m# If it already exists, just get the id and update the current qual\u001b[0m\u001b[1;33m\u001b[0m\u001b[1;33m\u001b[0m\u001b[0m\n\u001b[0;32m      2\u001b[0m \u001b[0mprint\u001b[0m\u001b[1;33m(\u001b[0m\u001b[1;34m\"Qual already exists, updating current qual.txt\"\u001b[0m\u001b[1;33m)\u001b[0m\u001b[1;33m\u001b[0m\u001b[1;33m\u001b[0m\u001b[0m\n\u001b[1;32m----> 3\u001b[1;33m \u001b[0mresult_id\u001b[0m \u001b[1;33m=\u001b[0m \u001b[0mmtglobals\u001b[0m\u001b[1;33m.\u001b[0m\u001b[0mget_qual_id\u001b[0m\u001b[1;33m(\u001b[0m\u001b[0mclient\u001b[0m\u001b[1;33m,\u001b[0m \u001b[0mnew_qual_name\u001b[0m\u001b[1;33m)\u001b[0m\u001b[1;33m\u001b[0m\u001b[1;33m\u001b[0m\u001b[0m\n\u001b[0m\u001b[0;32m      4\u001b[0m \u001b[0mmtglobals\u001b[0m\u001b[1;33m.\u001b[0m\u001b[0mupdate_current_qual\u001b[0m\u001b[1;33m(\u001b[0m\u001b[0mnew_qual_name\u001b[0m\u001b[1;33m,\u001b[0m \u001b[0mresult_id\u001b[0m\u001b[1;33m,\u001b[0m \u001b[1;36m0\u001b[0m\u001b[1;33m,\u001b[0m \u001b[1;34m'0.50'\u001b[0m\u001b[1;33m)\u001b[0m\u001b[1;33m\u001b[0m\u001b[1;33m\u001b[0m\u001b[0m\n",
      "\u001b[1;32mC:\\Dropbox\\mturk-monopsony\\code\\mtglobals.py\u001b[0m in \u001b[0;36mget_qual_id\u001b[1;34m(client, qual_name)\u001b[0m\n\u001b[0;32m    305\u001b[0m     \u001b[0mmatching_quals\u001b[0m \u001b[1;33m=\u001b[0m \u001b[1;33m[\u001b[0m\u001b[0minfo\u001b[0m \u001b[1;32mfor\u001b[0m \u001b[0minfo\u001b[0m \u001b[1;32min\u001b[0m \u001b[0mall_quals\u001b[0m \u001b[1;32mif\u001b[0m \u001b[0minfo\u001b[0m\u001b[1;33m[\u001b[0m\u001b[1;34m'Name'\u001b[0m\u001b[1;33m]\u001b[0m \u001b[1;33m==\u001b[0m \u001b[0mqual_name\u001b[0m\u001b[1;33m]\u001b[0m\u001b[1;33m\u001b[0m\u001b[1;33m\u001b[0m\u001b[0m\n\u001b[0;32m    306\u001b[0m     \u001b[1;32mif\u001b[0m \u001b[0mlen\u001b[0m\u001b[1;33m(\u001b[0m\u001b[0mmatching_quals\u001b[0m\u001b[1;33m)\u001b[0m \u001b[1;33m==\u001b[0m \u001b[1;36m0\u001b[0m\u001b[1;33m:\u001b[0m\u001b[1;33m\u001b[0m\u001b[1;33m\u001b[0m\u001b[0m\n\u001b[1;32m--> 307\u001b[1;33m         \u001b[1;32mraise\u001b[0m \u001b[0mException\u001b[0m\u001b[1;33m(\u001b[0m\u001b[1;34m\"No matching quals found!\"\u001b[0m\u001b[1;33m)\u001b[0m\u001b[1;33m\u001b[0m\u001b[1;33m\u001b[0m\u001b[0m\n\u001b[0m\u001b[0;32m    308\u001b[0m     \u001b[1;32melse\u001b[0m\u001b[1;33m:\u001b[0m\u001b[1;33m\u001b[0m\u001b[1;33m\u001b[0m\u001b[0m\n\u001b[0;32m    309\u001b[0m         \u001b[0mqual_info\u001b[0m \u001b[1;33m=\u001b[0m \u001b[0mmatching_quals\u001b[0m\u001b[1;33m[\u001b[0m\u001b[1;36m0\u001b[0m\u001b[1;33m]\u001b[0m\u001b[1;33m\u001b[0m\u001b[1;33m\u001b[0m\u001b[0m\n",
      "\u001b[1;31mException\u001b[0m: No matching quals found!"
     ]
    }
   ],
   "source": [
    "# If it already exists, just get the id and update the current qual\n",
    "print(\"Qual already exists, updating current qual.txt\")\n",
    "result_id = mtglobals.get_qual_id(client, new_qual_name)\n",
    "mtglobals.update_current_qual(new_qual_name, result_id, 0, '0.50')"
   ]
  },
  {
   "cell_type": "code",
   "execution_count": null,
   "id": "2ab6de75-2745-4b76-a69f-86403e15c8f9",
   "metadata": {},
   "outputs": [],
   "source": []
  },
  {
   "cell_type": "code",
   "execution_count": null,
   "id": "44d5c95d-d4ae-4a33-8b9f-dd6116d220ff",
   "metadata": {},
   "outputs": [],
   "source": []
  },
  {
   "cell_type": "code",
   "execution_count": null,
   "id": "75e5aa65-602c-42b9-b6fa-f03134f07d02",
   "metadata": {},
   "outputs": [],
   "source": []
  }
 ],
 "metadata": {
  "kernelspec": {
   "display_name": "Python 3 (ipykernel)",
   "language": "python",
   "name": "python3"
  },
  "language_info": {
   "codemirror_mode": {
    "name": "ipython",
    "version": 3
   },
   "file_extension": ".py",
   "mimetype": "text/x-python",
   "name": "python",
   "nbconvert_exporter": "python",
   "pygments_lexer": "ipython3",
   "version": "3.9.7"
  }
 },
 "nbformat": 4,
 "nbformat_minor": 5
}
